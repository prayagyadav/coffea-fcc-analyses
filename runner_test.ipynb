{
 "cells": [
  {
   "cell_type": "code",
   "execution_count": 1,
   "id": "17245e94-559a-42a8-993a-af1b2548978f",
   "metadata": {},
   "outputs": [],
   "source": [
    "from coffea import processor\n",
    "import argparse\n",
    "from coffea import util\n",
    "from coffea.nanoevents import BaseSchema , NanoEventsFactory\n",
    "import awkward as ak\n",
    "import numba\n",
    "import json\n",
    "import rich\n",
    "import numpy as np\n",
    "import os\n",
    "import shutil\n",
    "import logging\n",
    "from processor_mHrecoil import mHrecoil\n",
    "from coffea.dataset_tools import apply_to_fileset,max_chunks,preprocess\n",
    "import dask\n",
    "import dask_awkward as dak"
   ]
  },
  {
   "cell_type": "code",
   "execution_count": 3,
   "id": "6d487aa7-f616-4ea6-b9d0-4b7dea1884de",
   "metadata": {},
   "outputs": [
    {
     "data": {
      "text/plain": [
       "{'p8_ee_ZZ_ecm240': {'files': {'data/p8_ee_ZH_ecm240/events_101027117.root': 'events',\n",
       "   'data/p8_ee_ZH_ecm240/events_101027117_a.root': 'events',\n",
       "   'data/p8_ee_ZH_ecm240/events_101027117_b.root': 'events',\n",
       "   'data/p8_ee_ZH_ecm240/events_101027117_c.root': 'events',\n",
       "   'data/p8_ee_ZH_ecm240/events_101027117_d.root': 'events',\n",
       "   'data/p8_ee_ZH_ecm240/events_101027117_e.root': 'events',\n",
       "   'data/p8_ee_ZH_ecm240/events_101027117_f.root': 'events'}}}"
      ]
     },
     "execution_count": 3,
     "metadata": {},
     "output_type": "execute_result"
    }
   ],
   "source": [
    "def getraw(jsonfilename):\n",
    "    '''\n",
    "    Load the raw dictionary\n",
    "    '''\n",
    "    with open(jsonfilename) as f :\n",
    "        full_fileset = json.load(f)\n",
    "    return full_fileset\n",
    "\n",
    "def add_redirector(filesetname,redirector=\"\"):\n",
    "    '''\n",
    "    Choose your redirector\n",
    "    '''\n",
    "    redirectors = {\n",
    "        \"eos\":'root://eospublic.cern.ch/'\n",
    "    }\n",
    "    if len(redirector) != 0 :\n",
    "        redirector_string = redirectors[redirector]\n",
    "    else :\n",
    "        redirector_string = ''\n",
    "    \n",
    "    raw_fileset = getraw(filesetname)\n",
    "\n",
    "    # Expecting raw_fileset to be in {key1:{files:{filepath1:events, filepath2:events, ...}},key2:... } format\n",
    "    new_fileset = {}\n",
    "    for key in raw_fileset.keys():\n",
    "        new_files = {}\n",
    "        new_fileset[key] = {}\n",
    "        for file_path in raw_fileset[key][\"files\"].keys():\n",
    "            new_name = redirector_string+file_path\n",
    "            new_files[new_name] = \"events\"\n",
    "        new_fileset[key][\"files\"] = new_files\n",
    "\n",
    "    return new_fileset\n",
    "\n",
    "myfileset = add_redirector(filesetname=\"./local_fileset.json\")\n",
    "myfileset"
   ]
  },
  {
   "cell_type": "code",
   "execution_count": 3,
   "id": "a85c4963-fab8-4354-bc26-122487fa3862",
   "metadata": {},
   "outputs": [],
   "source": [
    "executor = \"dask\"\n",
    "chunk_size = 100000\n",
    "maxchunks = 10"
   ]
  },
  {
   "cell_type": "code",
   "execution_count": 4,
   "id": "a769bbb9-e7eb-4e35-822d-d13103ce8fc0",
   "metadata": {},
   "outputs": [],
   "source": [
    "myfileset = getraw('./local_fileset.json')\n",
    "\n",
    "dataset_runnable, dataset_updated = preprocess(\n",
    "    myfileset,\n",
    "    align_clusters=False,\n",
    "    step_size=100_000,\n",
    "    files_per_batch=1,\n",
    "    skip_bad_files=True,\n",
    "    save_form=False,\n",
    ")"
   ]
  },
  {
   "cell_type": "code",
   "execution_count": 5,
   "id": "0da70275-0ba4-4eae-80c7-21ffc96ac3b9",
   "metadata": {},
   "outputs": [
    {
     "name": "stdout",
     "output_type": "stream",
     "text": [
      "{'p8_ee_ZZ_ecm240': {'histograms': {'Z_mass': Hist(Regular(100, 0, 150, label='Axis 0'), storage=Double()) # Sum: 3148.0, 'Recoil_mass': Hist(Regular(100, 60, 160, label='Axis 0'), storage=Double()) # Sum: 2682.0 (3148.0 with flow)}}}\n"
     ]
    }
   ],
   "source": [
    "to_compute = apply_to_fileset(\n",
    "                mHrecoil(),\n",
    "                max_chunks(dataset_runnable, maxchunks ),\n",
    "                schemaclass=BaseSchema,\n",
    "            )\n",
    "(out,) = dask.compute(to_compute)\n",
    "print(out)"
   ]
  },
  {
   "cell_type": "code",
   "execution_count": 6,
   "id": "938ca0a3-a98c-4bd2-b0d8-cce0c23396e7",
   "metadata": {},
   "outputs": [
    {
     "name": "stdout",
     "output_type": "stream",
     "text": [
      "Output produced\n"
     ]
    }
   ],
   "source": [
    "#For futures execution\n",
    "# if executor == \"futures\" :\n",
    "#     futures_run = processor.Runner(\n",
    "#         executor = processor.FuturesExecutor(workers=inputs.workers),\n",
    "#         schema=BaseSchema,\n",
    "#         chunksize= chunk_size ,\n",
    "#         maxchunks= max_chunks,\n",
    "#         xrootdtimeout=120\n",
    "#     )\n",
    "#     Output = futures_run(\n",
    "#         fileset,\n",
    "#         \"Events\",\n",
    "#         processor_instance=mHrecoil()\n",
    "#     )\n",
    "    \n",
    "# #For dask execution\n",
    "# elif executor == \"dask\" :\n",
    "#     raise('Dask execution is not available yet!')\n",
    "\n",
    "# #For condor execution\n",
    "# elif executor == \"condor\" :\n",
    "#     raise('HTCondor execution is not available yet!')\n",
    "    \n",
    "#################################\n",
    "# Create the output file #\n",
    "#################################\n",
    "print(\"Output produced\")\n",
    "Output = out\n"
   ]
  },
  {
   "cell_type": "code",
   "execution_count": 7,
   "id": "98879c05-40a5-4f75-8f1a-d80a402b2ea8",
   "metadata": {},
   "outputs": [
    {
     "name": "stdout",
     "output_type": "stream",
     "text": [
      "Saving the output to :  mHrecoil_mumu.coffea\n",
      "File mHrecoil_mumu.coffea saved.\n",
      "Execution completed.\n"
     ]
    }
   ],
   "source": [
    "output_file = f\"mHrecoil_mumu.coffea\"\n",
    "print(\"Saving the output to : \" , output_file)\n",
    "path =\"outputs/FCCee/higgs/mH-recoil/mumu/\"\n",
    "if not os.path.exists(path):\n",
    "    os.makedirs(path)\n",
    "util.save(output= Output, filename=path+output_file)\n",
    "print(f\"File {output_file} saved.\")\n",
    "print(\"Execution completed.\")"
   ]
  },
  {
   "cell_type": "code",
   "execution_count": 8,
   "id": "b55d15b0-90a5-4bcb-8c3e-561012bef1a2",
   "metadata": {},
   "outputs": [],
   "source": [
    "Z_mass = Output['p8_ee_ZZ_ecm240']['histograms']['Z_mass']\n",
    "Recoil_mass = Output['p8_ee_ZZ_ecm240']['histograms']['Recoil_mass']"
   ]
  },
  {
   "cell_type": "code",
   "execution_count": 10,
   "id": "f9600066-08c7-4851-bf75-d16de6aaf845",
   "metadata": {},
   "outputs": [
    {
     "data": {
      "image/png": "[encoded data removed]",
      "text/plain": [
       "<Figure size 800x800 with 1 Axes>"
      ]
     },
     "metadata": {},
     "output_type": "display_data"
    }
   ],
   "source": [
    "import hist\n",
    "import matplotlib.pyplot as plt\n",
    "import mplhep as hep\n",
    "fig, ax = plt.subplots(figsize=(8,8))\n",
    "hep.histplot(\n",
    "    Z_mass,\n",
    "    yerr=0,\n",
    "    histtype='fill',\n",
    "    label='$Z_{mass}$',\n",
    "    color='g',\n",
    "    ax=ax\n",
    ")\n",
    "hep.histplot(\n",
    "    Recoil_mass,\n",
    "    yerr=0,\n",
    "    histtype='fill',\n",
    "    label='$Recoil$',\n",
    "    color='r',\n",
    "    ax=ax\n",
    ")\n",
    "xlims = [60,160]\n",
    "# plt.text(\"Preliminary\",0,0)\n",
    "ax.text(0.20, 1.02, 'FCC Analyses: FCC Simulation Delphes', fontsize=9, horizontalalignment='center', verticalalignment='center', transform=ax.transAxes)\n",
    "ax.text(0.92, 1.02, '$\\\\sqrt{s} = 240GeV$', fontsize=9, horizontalalignment='center', verticalalignment='center', transform=ax.transAxes)\n",
    "ax.text(0.84,0.54, 'FCCee', fontsize=9, horizontalalignment='center', verticalalignment='center', transform=ax.transAxes)\n",
    "ax.text(0.84,0.50, 'Sample = p8_ee_ZH_ecm240', fontsize=9, horizontalalignment='center', verticalalignment='center', transform=ax.transAxes)\n",
    "ax.set_ylabel(\"Events\")\n",
    "ax.set_xlabel(\"$Z_{mass}$ [GeV]\")\n",
    "plt.xlim(xlims)\n",
    "plt.xticks(np.arange(xlims[0],xlims[1],10))\n",
    "ax.set_title(r\"Z Candidate Mass\",pad=25,  fontsize= \"15\", color=\"#192655\")\n",
    "ax.axvline(91,label=\"91 GeV\", color='r', linestyle='--')\n",
    "ax.axvline(125,label=\"125 GeV\", color='g', linestyle='--')\n",
    "fig.legend(prop={\"size\":15},loc= (0.70,0.64) )\n",
    "plot_path = 'outputs/FCCee/higgs/mH-recoil/mumu/plots/'\n",
    "if not os.path.exists(plot_path):\n",
    "    os.makedirs(plot_path)\n",
    "fig.savefig(plot_path+'Z_Peak_with_recoil.png',dpi=240);"
   ]
  },
  {
   "cell_type": "code",
   "execution_count": 4,
   "id": "eda7bec8-2573-4db5-a985-81e2b88f90f5",
   "metadata": {},
   "outputs": [],
   "source": [
    "from coffea.util import load"
   ]
  },
  {
   "cell_type": "code",
   "execution_count": 5,
   "id": "7a6af12f-ffbd-4a65-813e-1b82cb75a8e0",
   "metadata": {},
   "outputs": [
    {
     "data": {
      "text/plain": [
       "{'p8_ee_ZZ_ecm240': {'histograms': {'Z_mass': Hist(Regular(100, 0, 150, label='Axis 0'), storage=Double()) # Sum: 3148.0,\n",
       "   'Recoil_mass': Hist(Regular(100, 60, 160, label='Axis 0'), storage=Double()) # Sum: 2682.0 (3148.0 with flow)}}}"
      ]
     },
     "execution_count": 5,
     "metadata": {},
     "output_type": "execute_result"
    }
   ],
   "source": [
    "load(\"./outputs/FCCee/higgs/mH-recoil/mumu/mHrecoil_mumu.coffea\")"
   ]
  },
  {
   "cell_type": "code",
   "execution_count": 8,
   "id": "9ee0f3a6-581c-4780-bab2-d69a7abe6421",
   "metadata": {},
   "outputs": [
    {
     "data": {
      "text/html": [
       "<pre>[[1, 2],\n",
       " [],\n",
       " [2]]\n",
       "---------------------\n",
       "type: 3 * var * int64</pre>"
      ],
      "text/plain": [
       "<Array [[1, 2], [], [2]] type='3 * var * int64'>"
      ]
     },
     "execution_count": 8,
     "metadata": {},
     "output_type": "execute_result"
    }
   ],
   "source": [
    "a = ak.Array([[1,2],[],[2]])\n",
    "a"
   ]
  },
  {
   "cell_type": "code",
   "execution_count": 18,
   "id": "c4b8d814-1575-440b-ad2a-620c3b53e7e5",
   "metadata": {},
   "outputs": [
    {
     "data": {
      "text/plain": [
       "3"
      ]
     },
     "execution_count": 18,
     "metadata": {},
     "output_type": "execute_result"
    }
   ],
   "source": [
    "b = ak.num(a, axis = 0)\n",
    "int(b)"
   ]
  },
  {
   "cell_type": "code",
   "execution_count": 20,
   "id": "43c0f2f4-9333-47f8-9a18-a389c61694cd",
   "metadata": {},
   "outputs": [],
   "source": [
    "c = dak.from_awkward(a,npartitions=int(b))"
   ]
  },
  {
   "cell_type": "code",
   "execution_count": 21,
   "id": "2d388234-702d-4eb5-8cba-bbfffa084016",
   "metadata": {},
   "outputs": [
    {
     "data": {
      "text/html": [
       "<pre>[[1, 2],\n",
       " [],\n",
       " [2]]\n",
       "---------------------\n",
       "type: 3 * var * int64</pre>"
      ],
      "text/plain": [
       "<Array [[1, 2], [], [2]] type='3 * var * int64'>"
      ]
     },
     "execution_count": 21,
     "metadata": {},
     "output_type": "execute_result"
    }
   ],
   "source": [
    "c.compute()"
   ]
  },
  {
   "cell_type": "code",
   "execution_count": 1,
   "id": "3bf9d75b-ddc2-4a36-93b2-a567e1ce072a",
   "metadata": {},
   "outputs": [],
   "source": [
    "plot_props = {\n",
    "    'Zm':{'name':'Zm','title':'Z Candidate mass','xlabel':'$Z_m$ GeV','ylabel':'Events','bins':100,'xmin':0,'xmax':250},\n",
    "    'Zm_zoom':{'name':'Zm_zoom','title':'Z Candidate mass','xlabel':'$Z_m$ GeV','ylabel':'Events','bins':40,'xmin':80,'xmax':100},\n",
    "    'Recoilm':{'name':'Recoilm','title':'Leptonic Recoil mass','xlabel':'$Recoil_m$ GeV','ylabel':'Events','bins':100,'xmin':0,'xmax':200},\n",
    "    'Recoilm_zoom':{'name':'Recoilm_zoom','title':'Leptonic Recoil mass','xlabel':'$Recoil_m$ GeV','ylabel':'Events','bins':200,'xmin':80,'xmax':160},\n",
    "    'Recoilm_zoom1':{'name':'Recoilm_zoom1','title':'Leptonic Recoil mass','xlabel':'$Recoil_m$ GeV','ylabel':'Events','bins':100,'xmin':120,'xmax':140},\n",
    "    'Recoilm_zoom2':{'name':'Recoilm_zoom2','title':'Leptonic Recoil mass','xlabel':'$Recoil_m$ GeV','ylabel':'Events','bins':200,'xmin':120,'xmax':140},\n",
    "    'Recoilm_zoom3':{'name':'Recoilm_zoom3','title':'Leptonic Recoil mass','xlabel':'$Recoil_m$ GeV','ylabel':'Events','bins':400,'xmin':120,'xmax':140},\n",
    "    'Recoilm_zoom4':{'name':'Recoilm_zoom4','title':'Leptonic Recoil mass','xlabel':'$Recoil_m$ GeV','ylabel':'Events','bins':800,'xmin':120,'xmax':140},\n",
    "    'Recoilm_zoom5':{'name':'Recoilm_zoom5','title':'Leptonic Recoil mass','xlabel':'$Recoil_m$ GeV','ylabel':'Events','bins':2000,'xmin':120,'xmax':140},\n",
    "    'Recoilm_zoom6':{'name':'Recoilm_zoom6','title':'Leptonic Recoil mass','xlabel':'$Recoil_m$ GeV','ylabel':'Events','bins':100,'xmin':130.3,'xmax':140}\n",
    "}"
   ]
  },
  {
   "cell_type": "code",
   "execution_count": 7,
   "id": "243748b9-5bc8-4355-b4a8-933839e743a6",
   "metadata": {},
   "outputs": [
    {
     "data": {
      "text/html": [
       "<pre>{name: &#x27;Zm&#x27;,\n",
       " title: &#x27;Z Candidate mass&#x27;,\n",
       " xlabel: &#x27;$Z_m$ GeV&#x27;,\n",
       " ylabel: &#x27;Events&#x27;,\n",
       " bins: 100,\n",
       " xmin: 0,\n",
       " xmax: 250}\n",
       "---------------------------\n",
       "type: {\n",
       "    name: string,\n",
       "    title: string,\n",
       "    xlabel: string,\n",
       "    ylabel: string,\n",
       "    bins: int64,\n",
       "    xmin: int64,\n",
       "    xmax: int64\n",
       "}</pre>"
      ],
      "text/plain": [
       "<Record {name: 'Zm', title: ..., ...} type='{name: string, title: string, x...'>"
      ]
     },
     "execution_count": 7,
     "metadata": {},
     "output_type": "execute_result"
    }
   ],
   "source": [
    "import awkward as ak\n",
    "props = ak.Record(plot_props['Zm'])\n",
    "props"
   ]
  },
  {
   "cell_type": "code",
   "execution_count": 10,
   "id": "7b7da49c-0a82-4276-a6fa-1b21503da468",
   "metadata": {},
   "outputs": [],
   "source": [
    "import pandas as pd"
   ]
  },
  {
   "cell_type": "code",
   "execution_count": 12,
   "id": "2b7ccd85-ee2c-43cb-a0d3-43e77c1f7093",
   "metadata": {},
   "outputs": [],
   "source": [
    "df = pd.DataFrame(plot_props)"
   ]
  },
  {
   "cell_type": "code",
   "execution_count": 20,
   "id": "b8d7a904-026d-4c47-b524-057e131f1f85",
   "metadata": {},
   "outputs": [
    {
     "data": {
      "text/plain": [
       "'Z Candidate mass'"
      ]
     },
     "execution_count": 20,
     "metadata": {},
     "output_type": "execute_result"
    }
   ],
   "source": [
    "df['Zm'].title"
   ]
  },
  {
   "cell_type": "code",
   "execution_count": 22,
   "id": "48992c44-a8bc-437e-a7fe-659e166a6c3f",
   "metadata": {},
   "outputs": [],
   "source": [
    "import numpy as np"
   ]
  },
  {
   "cell_type": "code",
   "execution_count": 32,
   "id": "76618660-5625-4db6-b3f6-730ec4c31813",
   "metadata": {},
   "outputs": [
    {
     "data": {
      "text/plain": [
       "array([120., 122., 124., 126., 128., 130., 132., 134., 136., 138., 140.])"
      ]
     },
     "execution_count": 32,
     "metadata": {},
     "output_type": "execute_result"
    }
   ],
   "source": [
    "xmin = 120\n",
    "xmax = 140\n",
    "x_ticks = 10\n",
    "np.linspace(xmin,xmax,x_ticks+1)"
   ]
  },
  {
   "cell_type": "code",
   "execution_count": null,
   "id": "69abb0b1-3ce1-42cb-8fba-22ccd907827c",
   "metadata": {},
   "outputs": [],
   "source": []
  }
 ],
 "metadata": {
  "kernelspec": {
   "display_name": "Python 3 (ipykernel)",
   "language": "python",
   "name": "python3"
  },
  "language_info": {
   "codemirror_mode": {
    "name": "ipython",
    "version": 3
   },
   "file_extension": ".py",
   "mimetype": "text/x-python",
   "name": "python",
   "nbconvert_exporter": "python",
   "pygments_lexer": "ipython3",
   "version": "3.12.3"
  }
 },
 "nbformat": 4,
 "nbformat_minor": 5
}
