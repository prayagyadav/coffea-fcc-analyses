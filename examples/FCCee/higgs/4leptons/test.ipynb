{
 "cells": [
  {
   "cell_type": "code",
   "execution_count": 1,
   "id": "0d3f6904-812b-48ae-94d3-a5f802a12d7c",
   "metadata": {},
   "outputs": [
    {
     "name": "stderr",
     "output_type": "stream",
     "text": [
      "/home/prayag/coffeafcc/development/coffea/src/coffea/nanoevents/schemas/edm4hep.py:7: FutureWarning: In version 2025.1.0 (target date: 2024-12-31 11:59:59-06:00), this will be an error.\n",
      "To raise these warnings as errors (and get stack traces to find out where they're called), run\n",
      "    import warnings\n",
      "    warnings.filterwarnings(\"error\", module=\"coffea.*\")\n",
      "after the first `import coffea` or use `@pytest.mark.filterwarnings(\"error:::coffea.*\")` in pytest.\n",
      "Issue: coffea.nanoevents.methods.vector will be removed and replaced with scikit-hep vector. Nanoevents schemas internal to coffea will be migrated. Otherwise please consider using that package!.\n",
      "  from coffea.nanoevents.methods import vector\n",
      "/home/prayag/coffeafcc/development/coffea/src/coffea/util.py:224: UserWarning: Skipping _intMap as it is not interpretable by Uproot\n",
      "  warnings.warn(\n",
      "/home/prayag/coffeafcc/development/coffea/src/coffea/util.py:232: UserWarning: Skipping _intMap.first as it is not interpretable by Uproot\n",
      "  warnings.warn(\n",
      "/home/prayag/coffeafcc/development/coffea/src/coffea/util.py:232: UserWarning: Skipping _intMap.second as it is not interpretable by Uproot\n",
      "  warnings.warn(\n",
      "/home/prayag/coffeafcc/development/coffea/src/coffea/util.py:224: UserWarning: Skipping _floatMap as it is not interpretable by Uproot\n",
      "  warnings.warn(\n",
      "/home/prayag/coffeafcc/development/coffea/src/coffea/util.py:232: UserWarning: Skipping _floatMap.first as it is not interpretable by Uproot\n",
      "  warnings.warn(\n",
      "/home/prayag/coffeafcc/development/coffea/src/coffea/util.py:232: UserWarning: Skipping _floatMap.second as it is not interpretable by Uproot\n",
      "  warnings.warn(\n",
      "/home/prayag/coffeafcc/development/coffea/src/coffea/util.py:224: UserWarning: Skipping _stringMap as it is not interpretable by Uproot\n",
      "  warnings.warn(\n",
      "/home/prayag/coffeafcc/development/coffea/src/coffea/util.py:232: UserWarning: Skipping _stringMap.first as it is not interpretable by Uproot\n",
      "  warnings.warn(\n",
      "/home/prayag/coffeafcc/development/coffea/src/coffea/util.py:232: UserWarning: Skipping _stringMap.second as it is not interpretable by Uproot\n",
      "  warnings.warn(\n"
     ]
    }
   ],
   "source": [
    "# Load Events\n",
    "from coffea.nanoevents import NanoEventsFactory, FCC, BaseSchema\n",
    "\n",
    "events = NanoEventsFactory.from_root(\n",
    "    \"../../../../data/eos/experiment/fcc/ee/generation/DelphesEvents/winter2023/IDEA/p8_ee_ZZ_ecm240/events_136205668.root:events\",\n",
    "    schemaclass=FCC.get_schema(\"pre-edm4hep1\"),\n",
    "    # schemaclass=BaseSchema,\n",
    "    # entry_stop=10000,\n",
    "    delayed=True,\n",
    "    uproot_options = {\"filter_name\": lambda x : \"PARAMETERS\" not in x}\n",
    ").events()"
   ]
  },
  {
   "cell_type": "code",
   "execution_count": 60,
   "id": "f984265a-4d8f-471b-a0cf-8e879fa05300",
   "metadata": {},
   "outputs": [],
   "source": [
    "# Helper functions: functions.py\n",
    "import awkward as ak\n",
    "import numpy as np\n",
    "import vector\n",
    "vector.register_awkward()\n",
    "# 1. To replace: FCCAnalyses::ZHfunctions::resonanceBuilder_mass(91.2,false)(selected_muons, MCRecoAssociations0, MCRecoAssociations1, ReconstructedParticles, Particle, Particle0, Particle1)\n",
    "def resonanceBuilder_mass(resonance_mass=None, use_MC_Kinematics=False, leptons=None, MCRecoAssociations=None, ReconstructedParticles=None, MCParticles=None):\n",
    "    '''\n",
    "    Build the Z resonance based on the available leptons. Returns the best lepton pair compatible with the Z mass and recoil at 125 GeV\n",
    "    technically, it returns a ReconstructedParticleData object with index 0 the di-lepton system, index and 2 the leptons of the pair\n",
    "    '''\n",
    "    if leptons is None:\n",
    "        raise AttributeError(\"No leptons passed\")\n",
    "    #Create all the combinations\n",
    "    combs = ak.combinations(leptons,2)\n",
    "    # Get dileptons\n",
    "    lep1 , lep2 = ak.unzip(combs)\n",
    "    di_lep = lep1 + lep2 # This process drops any other field except 4 momentum fields\n",
    "\n",
    "    di_lep[\"charge\"] =  lep1.charge + lep2.charge\n",
    "    di_lep[\"l1_index\"] = lep1.index\n",
    "    di_lep[\"l2_index\"] = lep2.index\n",
    "\n",
    "    # Choose oppositely charged leptons\n",
    "    di_lep = di_lep[di_lep.charge == 0]\n",
    "\n",
    "    # Sort by closest mass to the resonance value\n",
    "    sort_mask = ak.argsort(abs(resonance_mass-di_lep.mass), axis=1)\n",
    "    Reso = di_lep[sort_mask]\n",
    "\n",
    "    return Reso\n",
    "    return Reso, used_lep1, used_lep2\n",
    "\n",
    "# 2. To replace: FCCAnalyses::ZHfunctions::getTwoHighestPMuons(rest_of_muons)\") # Find the higest p muon pair from the remaining muons (off-shell Z)\n",
    "def getTwoHighestPMuons(muons):\n",
    "    '''\n",
    "    Sort by decending P and return the pair of particles with highest P and opposite charges\n",
    "    '''\n",
    "    # if not ak.all(ak.num(muons, axis=1) > 1 ):\n",
    "    #     raise IndexError(\"Need at least two particles!\")\n",
    "    sorted_muons_p = ak.argsort(muons.p, ascending=False)\n",
    "    sorted_muons = muons[sorted_muons_p]\n",
    "\n",
    "    # First particle is always selected, if the second one has the opposite charge, then its accepted otherwise we move on to the third and so on\n",
    "    # Interestingly, this type of operation is non trivial in an array format\n",
    "    first_muon, other_muons = sorted_muons[:, 0:1], sorted_muons[:, 1:]\n",
    "\n",
    "    # prepare before cartesian : replace none with []\n",
    "    first_muon = ak.fill_none(first_muon, [], axis=0)\n",
    "    other_muons = ak.fill_none(other_muons, [], axis=0)\n",
    "    # All combinations\n",
    "    all_comb = ak.cartesian([first_muon, other_muons])\n",
    "    l1, l2 = ak.unzip(all_comb)\n",
    "    charge_mask = l1.charge!= l2.charge\n",
    "    # charge_mask = abs(l1.charge) >= 0\n",
    "    l1 = l1[charge_mask]\n",
    "    l2 = l2[charge_mask]\n",
    "\n",
    "    at_least_one_opp_charged = ak.sum(charge_mask, axis=1) > 0\n",
    "    \n",
    "    return ak.firsts(ak.mask(l1,at_least_one_opp_charged)), ak.firsts(ak.mask(l2,at_least_one_opp_charged)), at_least_one_opp_charged\n",
    "# 3. To sum all the lorentz vectors in a an array of lorentzvectors\n",
    "def sum_all(array_of_lv):\n",
    "    #array_of_lv = ak.drop_none(array_of_lv)\n",
    "\n",
    "    out = ak.zip(\n",
    "        {\n",
    "            \"px\":ak.sum(array_of_lv.px , axis=1),\n",
    "            \"py\":ak.sum(array_of_lv.py , axis=1),\n",
    "            \"pz\":ak.sum(array_of_lv.pz , axis=1),\n",
    "            \"E\":ak.sum(array_of_lv.E , axis=1)\n",
    "        },\n",
    "        with_name=\"Momemtum4D\"\n",
    "    )\n",
    "\n",
    "    return out\n",
    "# 4. To replace : FCCAnalyses::ZHfunctions::coneIsolation(0.0,0.523599)(fourMuons,rest_of_particles)\n",
    "def coneIsolation(particle, rest_of_the_particles, min_dr=0.0 , max_dr=0.4):\n",
    "    ''' Refer: https://github.com/delphes/delphes/blob/master/modules/Isolation.cc#L154\n",
    "    '''\n",
    "    neutral_particles = ak.mask(rest_of_the_particles, rest_of_the_particles.charge == 0)\n",
    "    charged_particles = ak.mask(rest_of_the_particles, rest_of_the_particles.charge != 0)\n",
    "\n",
    "    n_combs = ak.cartesian((particle,neutral_particles[:,np.newaxis]), axis=1)\n",
    "    n1,n2 = ak.unzip(n_combs)\n",
    "    c_combs = ak.cartesian((particle,charged_particles[:,np.newaxis]), axis=1)\n",
    "    c1,c2 = ak.unzip(c_combs)\n",
    "\n",
    "    n_angle = n1.deltaangle(n2)\n",
    "    c_angle = c1.deltaangle(c2)\n",
    "\n",
    "    n_angle_mask = (n_angle < max_dr) & (n_angle >= min_dr)\n",
    "    c_angle_mask = (c_angle < max_dr) & (c_angle >= min_dr)\n",
    "\n",
    "    filtered_neutral = n2[n_angle_mask]\n",
    "    filtered_charged = c2[c_angle_mask]\n",
    "\n",
    "    sumNeutral = ak.sum(filtered_neutral.p, axis=2)\n",
    "    sumCharged = ak.sum(filtered_charged.p, axis=2)\n",
    "\n",
    "    total_sum = sumNeutral + sumCharged\n",
    "\n",
    "    ratio = total_sum / particle.p\n",
    "\n",
    "    return ratio\n"
   ]
  },
  {
   "cell_type": "code",
   "execution_count": null,
   "id": "267e9730-2c10-4b3b-9556-f007246365e3",
   "metadata": {},
   "outputs": [],
   "source": []
  },
  {
   "cell_type": "code",
   "execution_count": 61,
   "id": "b6e0b93e-c8ca-468f-89ff-bf9827170dda",
   "metadata": {},
   "outputs": [],
   "source": [
    "# Helper functions: Reconstructedparticles.py\n",
    "import dask_awkward as dak\n",
    "import awkward as ak\n",
    "import numpy as np\n",
    "\n",
    "\n",
    "def resonanceBuilder(lepton, resonance):\n",
    "    '''\n",
    "    Builds Resonance candidates\n",
    "    Input:    lepton(var*[var*LorentzVector]),\n",
    "              resonance(float)\n",
    "    Output: Reso([var*LorentzVecctor]) best resonance candidate in each event (maximum one per event)\n",
    "    '''\n",
    "    #Create all the combinations\n",
    "    combs = ak.combinations(lepton,2)\n",
    "    # Get dileptons\n",
    "    lep1 , lep2 = ak.unzip(combs)\n",
    "    di_lep = lep1 + lep2 # This process drops any other field except 4 momentum fields\n",
    "\n",
    "    di_lep = ak.zip({\"px\":di_lep.px,\"py\":di_lep.py,\"pz\":di_lep.pz,\"E\":di_lep.E,\"charge\":lep1.charge + lep2.charge}, with_name=\"Momentum4D\")\n",
    "\n",
    "    # Sort by closest mass to the resonance value\n",
    "    sort_mask = ak.argsort(abs(resonance-di_lep.mass), axis=1)\n",
    "    Reso = di_lep[sort_mask]\n",
    "\n",
    "    #Choose the best candidate\n",
    "    Reso = ak.fill_none(Reso,[],axis=0) #Transform the None values at axis 0 to [], so that they survive the next operation\n",
    "    Reso = ak.firsts(Reso) #Chooses the first elements and flattens out, [] gets converted to None\n",
    "\n",
    "    return Reso\n",
    "\n",
    "def recoilBuilder(vec, ecm):\n",
    "    '''\n",
    "    Builds Recoil from a given LorentzVector and Center of Mass Energy\n",
    "    Input:    vec(var*[var*LorentzVector]),\n",
    "              ecm(float)\n",
    "    Output: Recoil([var*LorentzVecctor])\n",
    "    '''\n",
    "    Recoil = ak.zip({\"px\":0.0-vec.px,\"py\":0.0-vec.py,\"pz\":0.0-vec.pz,\"E\":ecm-vec.E},with_name=\"Momentum4D\")\n",
    "    return Recoil\n",
    "\n",
    "\n",
    "def remove(array, idx):\n",
    "    '''\n",
    "    Returns all the particles except the indices defined in idx.index.\n",
    "    Eg. remove(events.ReconstructedParticle, events.Muonidx0) returns the events.ReconstructedParticle array with all the muons removed\n",
    "    '''\n",
    "    index = idx.index\n",
    "    all_index = ak.local_index(array,axis=1)\n",
    "\n",
    "    i,a = ak.unzip(ak.cartesian([index[:,np.newaxis] ,all_index], nested=True))\n",
    "    c = a == i\n",
    "    d = ak.firsts(c)\n",
    "    s = ak.sum(d, axis=2)\n",
    "    kl = s == 1\n",
    "    \n",
    "    return array[~kl]\n"
   ]
  },
  {
   "cell_type": "code",
   "execution_count": 62,
   "id": "e8b4356e-c8cb-4f0f-8f8b-f717a8ad07ff",
   "metadata": {},
   "outputs": [],
   "source": [
    "import hist.dask as hda\n",
    "import hist\n",
    "\n",
    "def get_1Dhist(name, var, flatten=False):\n",
    "    '''\n",
    "    name: eg. Zm\n",
    "    var: eg. variable containing array of mass of Z\n",
    "    flatten: If to flatten var before fill; True by default\n",
    "    Returns a histogram\n",
    "    '''\n",
    "    props = plot_props[name]\n",
    "    if flatten : var = dak.ravel(var) # Removes None values and all the nesting\n",
    "    var = var[~dak.is_none(var, axis=0)] # Remove None values only\n",
    "    return hda.Hist.new.Reg(props.bins, props.xmin, props.xmax).Double().fill(var)\n",
    "\n",
    "def create_mask(a, b, c):\n",
    "    mask1 = a != c\n",
    "    mask2 = b != c\n",
    "    mask = mask1 & mask2\n",
    "    return mask"
   ]
  },
  {
   "cell_type": "code",
   "execution_count": 63,
   "id": "9526ec46-9de5-4981-9861-aa8b6b87b705",
   "metadata": {},
   "outputs": [],
   "source": [
    "# Main calculations\n",
    "Muons = events.ReconstructedParticles[events.Muonidx0.index]\n",
    "Muons[\"index\"] = events.Muonidx0.index # Attach the local index for easier calculations later\n",
    "sel_muon = Muons.p > 2.0\n",
    "selected_muons_with_p_gt_2 = ak.mask(Muons, sel_muon)\n",
    "\n",
    "# Select events with at least 4 muons\n",
    "at_least_4_muons = ak.num(ak.drop_none(selected_muons_with_p_gt_2), axis=1) > 3\n",
    "selected_muons = ak.mask(selected_muons_with_p_gt_2, at_least_4_muons)\n",
    "\n",
    "# Build Z resonances\n",
    "Z = resonanceBuilder_mass(resonance_mass=91.2, use_MC_Kinematics=False, leptons=selected_muons)\n",
    "\n",
    "# On Shell Z\n",
    "zll = ak.firsts(Z) # 100000 - 232\n",
    "l1 = ak.firsts(selected_muons[selected_muons.index == zll.l1_index])\n",
    "l2 = ak.firsts(selected_muons[selected_muons.index == zll.l2_index])\n",
    "\n",
    "# Remove the used up muons from the muon list\n",
    "mask = create_mask(zll.l1_index, zll.l2_index, selected_muons.index)\n",
    "rest_of_muons = selected_muons[mask]\n",
    "\n",
    "m1, m2, c_mask = getTwoHighestPMuons(rest_of_muons)\n",
    "\n",
    "non_res_Z = m1 + m2 # 100000 - 213\n",
    "# Angle between the two\n",
    "non_res_Z_angle = m1.deltaangle(m2)\n",
    "\n",
    "# Collect all the four Muons\n",
    "fourMuons_collected = ak.concatenate(\n",
    "    (\n",
    "        ak.mask(l1,c_mask)[:, np.newaxis],\n",
    "        ak.mask(l2,c_mask)[:, np.newaxis],\n",
    "        m1[:, np.newaxis],\n",
    "        m2[:, np.newaxis]\n",
    "    ),\n",
    "    axis=1\n",
    ")\n",
    "fourMuons_collected = ak.mask(fourMuons_collected, ak.num(fourMuons_collected, axis=1) > 3)\n",
    "fourMuons = ak.mask(zll, c_mask) + non_res_Z\n",
    "\n",
    "fourMuons_pmin = ak.min(fourMuons_collected.p, axis=1)\n",
    "#print('fourMuons_pmin: ', fourMuons_pmin.head())\n",
    "\n",
    "chosen_reco_4_mu = ak.mask(events.ReconstructedParticles, at_least_4_muons)\n",
    "chosen_reco = ak.mask(chosen_reco_4_mu,c_mask)\n",
    "#print('chosen_reco: ', chosen_reco.head() )\n",
    "\n",
    "rest_of_particles = remove(chosen_reco, fourMuons_collected)\n",
    "all_others = sum_all(rest_of_particles)\n",
    "#print('all_others: ', all_others.head())\n",
    "\n",
    "Emiss = recoilBuilder(sum_all(chosen_reco), ecm=240)\n",
    "pmiss = Emiss.E\n",
    "#print('pmiss: ', pmiss.head())\n",
    "\n",
    "# Cone Isolation\n",
    "fourMuons_iso = coneIsolation(fourMuons_collected, rest_of_particles, min_dr=0.0, max_dr=0.523599)\n",
    "#print('fourMuons_iso: ', fourMuons_iso.head())\n",
    "fourMuons_min_iso = ak.max(fourMuons_iso, axis=1)\n",
    "#print('fourMuons_min_iso: ', fourMuons_min_iso.head())\n"
   ]
  },
  {
   "cell_type": "code",
   "execution_count": 74,
   "id": "23013ead-52f3-406b-8f53-3eb42331848c",
   "metadata": {},
   "outputs": [
    {
     "data": {
      "text/html": [
       "<pre>[0,\n",
       " 31.5,\n",
       " 0.0904,\n",
       " 140,\n",
       " 0,\n",
       " 5.66,\n",
       " 0,\n",
       " 0.263,\n",
       " 113,\n",
       " 0,\n",
       " ...,\n",
       " 171,\n",
       " 8.76,\n",
       " 0.101,\n",
       " 0.974,\n",
       " 0,\n",
       " 0.128,\n",
       " 2.39,\n",
       " 4.51,\n",
       " 4.15]\n",
       "-------------------\n",
       "type: 213 * float32</pre>"
      ],
      "text/plain": [
       "<Array [0, 31.5, 0.0904, 140, ..., 2.39, 4.51, 4.15] type='213 * float32'>"
      ]
     },
     "execution_count": 74,
     "metadata": {},
     "output_type": "execute_result"
    }
   ],
   "source": [
    "vis_e = ak.drop_none(all_others.E).compute()\n",
    "vis_e"
   ]
  },
  {
   "cell_type": "code",
   "execution_count": 65,
   "id": "5e74c7e3-3f94-4c9b-9b8d-2e8874a36e62",
   "metadata": {},
   "outputs": [],
   "source": [
    "import hist\n",
    "cross_section = 1.35899\n",
    "int_lumi = 10.80e+06\n",
    "total_events = 100000\n",
    "\n",
    "scale = cross_section*int_lumi/total_events\n",
    "\n",
    "res_Z_hist = hda.Hist.new.Regular(50,0,250).Double().fill(ak.drop_none(zll.m))*scale\n",
    "non_res_Z_hist = hda.Hist.new.Regular(50,0,250).Double().fill(ak.drop_none(non_res_Z.m))*scale\n",
    "four_muon_mass_hist = hda.Hist.new.Regular(50,0,250).Double().fill(ak.drop_none(fourMuons.m))*scale\n",
    "iso_hist = hist.Hist.new.Regular(50,0,20).Double().fill(ak.drop_none(fourMuons_min_iso).compute())*scale\n",
    "vis_e_hist = hist.Hist.new.Regular(50,0,20).Double().fill(ak.drop_none(fourMuons_min_iso).compute())*scale"
   ]
  },
  {
   "cell_type": "code",
   "execution_count": 66,
   "id": "7998a45f-d568-44f5-812d-9fd433a30b02",
   "metadata": {},
   "outputs": [
    {
     "data": {
      "text/plain": [
       "146.77092"
      ]
     },
     "execution_count": 66,
     "metadata": {},
     "output_type": "execute_result"
    }
   ],
   "source": [
    "scale"
   ]
  },
  {
   "cell_type": "code",
   "execution_count": 67,
   "id": "32f99c9e-6aef-48d1-b41b-a950f099784a",
   "metadata": {},
   "outputs": [
    {
     "data": {
      "text/plain": [
       "[StairsArtists(stairs=<matplotlib.patches.StepPatch object at 0x7f4789c65130>, errorbar=<ErrorbarContainer object of 3 artists>, legend_artist=<ErrorbarContainer object of 3 artists>)]"
      ]
     },
     "execution_count": 67,
     "metadata": {},
     "output_type": "execute_result"
    },
    {
     "data": {
      "image/png": "[encoded data removed]",
      "text/plain": [
       "<Figure size 640x480 with 1 Axes>"
      ]
     },
     "metadata": {},
     "output_type": "display_data"
    }
   ],
   "source": [
    "(iso_hist).plot(yerr=0)"
   ]
  },
  {
   "cell_type": "code",
   "execution_count": 68,
   "id": "86916ed3-2991-465f-8d2b-8167acc8267b",
   "metadata": {},
   "outputs": [
    {
     "data": {
      "text/html": [
       "<pre>[18.9,\n",
       " 28.8,\n",
       " 68.4,\n",
       " 14.8,\n",
       " 94.4,\n",
       " 76.8,\n",
       " 94.1,\n",
       " 79.5,\n",
       " 7.04,\n",
       " 92.9,\n",
       " ...,\n",
       " 0.884,\n",
       " 50.3,\n",
       " 95.5,\n",
       " 76.4,\n",
       " 210,\n",
       " 95.5,\n",
       " 146,\n",
       " 92.1,\n",
       " 9.81]\n",
       "-------------------------------------------------------\n",
       "type: 213 * float32[parameters={&quot;typename&quot;: &quot;float[]&quot;}]</pre>"
      ],
      "text/plain": [
       "<Array [18.9, 28.8, 68.4, ..., 146, 92.1, 9.81] type='213 * float32[paramet...'>"
      ]
     },
     "execution_count": 68,
     "metadata": {},
     "output_type": "execute_result"
    }
   ],
   "source": [
    "ak.drop_none(non_res_Z.m).compute()"
   ]
  },
  {
   "cell_type": "code",
   "execution_count": 69,
   "id": "eed2921e-ff16-4027-bfbd-dda78c9a3786",
   "metadata": {},
   "outputs": [
    {
     "data": {
      "text/plain": [
       "[StairsArtists(stairs=<matplotlib.patches.StepPatch object at 0x7f479e01fcb0>, errorbar=<ErrorbarContainer object of 3 artists>, legend_artist=<ErrorbarContainer object of 3 artists>)]"
      ]
     },
     "execution_count": 69,
     "metadata": {},
     "output_type": "execute_result"
    },
    {
     "data": {
      "image/png": "[encoded data removed]",
      "text/plain": [
       "<Figure size 640x480 with 1 Axes>"
      ]
     },
     "metadata": {},
     "output_type": "display_data"
    }
   ],
   "source": [
    "res_Z_hist.compute().plot(yerr=0)"
   ]
  },
  {
   "cell_type": "code",
   "execution_count": 70,
   "id": "d9d78706-c6f7-4cd8-9316-a51ee7d8dd29",
   "metadata": {},
   "outputs": [
    {
     "data": {
      "text/plain": [
       "[StairsArtists(stairs=<matplotlib.patches.StepPatch object at 0x7f47bcb1c4a0>, errorbar=<ErrorbarContainer object of 3 artists>, legend_artist=<ErrorbarContainer object of 3 artists>)]"
      ]
     },
     "execution_count": 70,
     "metadata": {},
     "output_type": "execute_result"
    },
    {
     "data": {
      "image/png": "[encoded data removed]",
      "text/plain": [
       "<Figure size 640x480 with 1 Axes>"
      ]
     },
     "metadata": {},
     "output_type": "display_data"
    }
   ],
   "source": [
    "non_res_Z_hist.compute().plot(yerr=0)"
   ]
  },
  {
   "cell_type": "code",
   "execution_count": 71,
   "id": "157404ff-84cf-4cb3-b0a8-dcf81a57d860",
   "metadata": {},
   "outputs": [
    {
     "data": {
      "text/plain": [
       "[StairsArtists(stairs=<matplotlib.patches.StepPatch object at 0x7f47bcb50aa0>, errorbar=<ErrorbarContainer object of 3 artists>, legend_artist=<ErrorbarContainer object of 3 artists>)]"
      ]
     },
     "execution_count": 71,
     "metadata": {},
     "output_type": "execute_result"
    },
    {
     "data": {
      "image/png": "[encoded data removed]",
      "text/plain": [
       "<Figure size 640x480 with 1 Axes>"
      ]
     },
     "metadata": {},
     "output_type": "display_data"
    }
   ],
   "source": [
    "four_muon_mass_hist.compute().plot(yerr=0)"
   ]
  },
  {
   "cell_type": "code",
   "execution_count": 12,
   "id": "4b4553ba-03e7-4784-ade1-c56e10839063",
   "metadata": {},
   "outputs": [],
   "source": [
    "import uproot\n",
    "f = uproot.open(\"with_filter/p8_ee_ZZ_ecm240.root\")\n",
    "their_output = f['events'].arrays()"
   ]
  },
  {
   "cell_type": "code",
   "execution_count": 13,
   "id": "e4358acf-c18d-4bb7-9386-58c1845baf13",
   "metadata": {},
   "outputs": [
    {
     "data": {
      "text/plain": [
       "['selected_muons_n',\n",
       " 'selected_muons_p',\n",
       " 'rest_of_muons.type',\n",
       " 'rest_of_muons.energy',\n",
       " 'rest_of_muons.momentum.x',\n",
       " 'rest_of_muons.momentum.y',\n",
       " 'rest_of_muons.momentum.z',\n",
       " 'rest_of_muons.referencePoint.x',\n",
       " 'rest_of_muons.referencePoint.y',\n",
       " 'rest_of_muons.referencePoint.z',\n",
       " 'rest_of_muons.charge',\n",
       " 'rest_of_muons.mass',\n",
       " 'rest_of_muons.goodnessOfPID',\n",
       " 'rest_of_muons.covMatrix[10]',\n",
       " 'rest_of_muons.clusters_begin',\n",
       " 'rest_of_muons.clusters_end',\n",
       " 'rest_of_muons.tracks_begin',\n",
       " 'rest_of_muons.tracks_end',\n",
       " 'rest_of_muons.particles_begin',\n",
       " 'rest_of_muons.particles_end',\n",
       " 'rest_of_muons.particleIDs_begin',\n",
       " 'rest_of_muons.particleIDs_end',\n",
       " 'fourMuons_p',\n",
       " 'fourMuons_mass',\n",
       " 'zll_mass',\n",
       " 'non_res_Z.type',\n",
       " 'non_res_Z.energy',\n",
       " 'non_res_Z.momentum.x',\n",
       " 'non_res_Z.momentum.y',\n",
       " 'non_res_Z.momentum.z',\n",
       " 'non_res_Z.referencePoint.x',\n",
       " 'non_res_Z.referencePoint.y',\n",
       " 'non_res_Z.referencePoint.z',\n",
       " 'non_res_Z.charge',\n",
       " 'non_res_Z.mass',\n",
       " 'non_res_Z.goodnessOfPID',\n",
       " 'non_res_Z.covMatrix[10]',\n",
       " 'non_res_Z.clusters_begin',\n",
       " 'non_res_Z.clusters_end',\n",
       " 'non_res_Z.tracks_begin',\n",
       " 'non_res_Z.tracks_end',\n",
       " 'non_res_Z.particles_begin',\n",
       " 'non_res_Z.particles_end',\n",
       " 'non_res_Z.particleIDs_begin',\n",
       " 'non_res_Z.particleIDs_end',\n",
       " 'non_res_Z_tlv',\n",
       " 'non_res_Z_m',\n",
       " 'vis_e_other_particles',\n",
       " 'fourMuons_pmin',\n",
       " 'non_res_Z_angle',\n",
       " 'fourMuons_iso',\n",
       " 'fourMuons_min_iso',\n",
       " 'pmiss',\n",
       " 'cosTheta_miss']"
      ]
     },
     "execution_count": 13,
     "metadata": {},
     "output_type": "execute_result"
    }
   ],
   "source": [
    "their_output.fields"
   ]
  },
  {
   "cell_type": "code",
   "execution_count": 14,
   "id": "c3b0cef5-1b04-4340-89c2-eaf207350265",
   "metadata": {},
   "outputs": [],
   "source": [
    "# Im guessing due to multithread processing in FCCAnalyses, the order of events processed is not conserved ... we need to sort and check\n",
    "def sort_all(array):\n",
    "    '''sort by axis 0 and 1'''\n",
    "    sort_0 = ak.sort(array, axis=0)\n",
    "    if array.layout.branch_depth[1] > 1:\n",
    "        sort_0and1 = ak.sort(sort_0, axis=1)\n",
    "    else:\n",
    "        sort_0and1 = sort_0\n",
    "    return sort_0and1\n",
    "    \n",
    "def compare(our_arr_raw, their_arr_raw, tolerance=0):\n",
    "    our_arr = sort_all(our_arr_raw)\n",
    "    their_arr = sort_all(their_arr_raw) \n",
    "    try:\n",
    "        assert ak.all(abs(our_arr - their_arr) < tolerance)\n",
    "        print('Our and their results match\\n')\n",
    "    except:\n",
    "        print(\"Our and their results don't match\\n\")\n",
    "        print(\"\\tChecking for shapes ...\\n\")\n",
    "        our_axis_0 = ak.num(our_arr, axis=0)\n",
    "        their_axis_0 = ak.num(their_arr, axis=0)\n",
    "        if our_axis_0 == their_axis_0:\n",
    "            print(\"\\tTotal number of events (axis 0 shapes) are the same : \", their_axis_0)\n",
    "            if their_arr.layout.branch_depth[1] == 1:\n",
    "                print(\"\\tThese are flat arrays ...\")\n",
    "                print(\"\\tChecking where the values do not match ...\")\n",
    "                for i in range(their_axis_0):\n",
    "                    if abs(our_arr[i] - their_arr[i]) < tolerance:\n",
    "                        print(f\"\\tFound mismatch in index: {i}\")\n",
    "                        print(f\"\\t\\tOur index {i} is: {our_arr[i]}\")\n",
    "                        print(f\"\\t\\tTheir index {i} is: {their_arr[i]}\")\n",
    "                return 0\n",
    "            our_axis_1 = ak.num(our_arr, axis=1)\n",
    "            their_axis_1 = ak.num(their_arr, axis=1)\n",
    "            comparison = our_axis_1 == their_axis_1\n",
    "            if ak.all(comparison):\n",
    "                print(\"\\tThe axis 1 shapes are the same\")\n",
    "                print(\"\\tChecking where the values do not match ...\")\n",
    "            else:\n",
    "                print(\"\\tThe axis 1 shapes are not the same\")\n",
    "                print(\"\\tFinding out where the mismatch lies ...\\n\")\n",
    "                for i in range(their_axis_0):\n",
    "                    if not comparison[i]:\n",
    "                        print(f\"\\tFound mismatch in index: {i}\")\n",
    "                        print(f\"\\t\\tOur index {i} is: {our_arr[i]}\")\n",
    "                        print(f\"\\t\\tTheir index {i} is: {their_arr[i]}\")\n",
    "        else:\n",
    "            print(\"\\tTotal number of events (axis 0 shapes) are not the same : ours \",our_axis_0, \" vs theirs \", their_axis_0)\n",
    "            return 0"
   ]
  },
  {
   "cell_type": "code",
   "execution_count": 77,
   "id": "09b7f622-e1a0-43c2-8d05-a4da559032d3",
   "metadata": {},
   "outputs": [
    {
     "data": {
      "text/html": [
       "<pre>[0,\n",
       " 8.16e-07,\n",
       " 1.95e-10,\n",
       " 0.615,\n",
       " 0,\n",
       " 2.45e-07,\n",
       " 0,\n",
       " 3.63e-09,\n",
       " 6.43e-06,\n",
       " 0,\n",
       " ...,\n",
       " 0.938,\n",
       " 4.28e-07,\n",
       " 1.9e-09,\n",
       " 1.83e-08,\n",
       " 0,\n",
       " 1.75e-09,\n",
       " 1.07e-08,\n",
       " 1.14e-07,\n",
       " 6.77e-08]\n",
       "-------------------\n",
       "type: 213 * float64</pre>"
      ],
      "text/plain": [
       "<Array [0, 8.16e-07, 1.95e-10, ..., 1.14e-07, 6.77e-08] type='213 * float64'>"
      ]
     },
     "execution_count": 77,
     "metadata": {},
     "output_type": "execute_result"
    }
   ],
   "source": [
    "diff = abs(vis_e - their_output['vis_e_other_particles'])\n",
    "diff"
   ]
  },
  {
   "cell_type": "code",
   "execution_count": 79,
   "id": "a5bd553c-8111-4f32-8068-aeeef36a544b",
   "metadata": {},
   "outputs": [
    {
     "data": {
      "text/html": [
       "<pre>[0.615,\n",
       " 0.997,\n",
       " 0.529,\n",
       " 0.891,\n",
       " 0.617,\n",
       " 0.559,\n",
       " 0.53,\n",
       " 0.719,\n",
       " 0.696,\n",
       " 0.638,\n",
       " 0.52,\n",
       " 0.577,\n",
       " 0.938]\n",
       "------------------\n",
       "type: 13 * float64</pre>"
      ],
      "text/plain": [
       "<Array [0.615, 0.997, 0.529, ..., 0.52, 0.577, 0.938] type='13 * float64'>"
      ]
     },
     "execution_count": 79,
     "metadata": {},
     "output_type": "execute_result"
    }
   ],
   "source": [
    "diff[diff > 0.5]"
   ]
  },
  {
   "cell_type": "code",
   "execution_count": 55,
   "id": "b6e14b69-a0be-456d-a46a-548e8b5dfca9",
   "metadata": {},
   "outputs": [],
   "source": [
    "a = ak.drop_none(fourMuons_iso).compute()"
   ]
  },
  {
   "cell_type": "code",
   "execution_count": 57,
   "id": "945e55cb-3614-4e73-85a8-7a0f047c9bbe",
   "metadata": {},
   "outputs": [
    {
     "data": {
      "text/html": [
       "<pre>[[0, 0, 0, 0],\n",
       " [0, 0, 0.514, 0],\n",
       " [0, 0, 0.00125, 0],\n",
       " [0.724, 1.08, 1.13, 1.21],\n",
       " [0, 0, 0, 0],\n",
       " [0, 0, 0, 0],\n",
       " [0, 0, 0, 0],\n",
       " [0, 0.00689, 0, 0.0118],\n",
       " [0, 0.3, 6.37, 23.3],\n",
       " [0, 0, 0, 0],\n",
       " ...,\n",
       " [1.66, 8.23, 6.77, 7.48],\n",
       " [0.0376, 0, 0, 0],\n",
       " [0, 0, 0, 0],\n",
       " [0, 0.00308, 0, 0],\n",
       " [0, 0, 0, 0],\n",
       " [0, 0, 0, 0],\n",
       " [0, 0, 0.00391, 0],\n",
       " [0, 0, 0, 0],\n",
       " [0, 0, 0.0588, 0.146]]\n",
       "---------------------------\n",
       "type: 213 * var * float32</pre>"
      ],
      "text/plain": [
       "<Array [[0, 0, 0, 0], ..., [0, 0, ..., 0.146]] type='213 * var * float32'>"
      ]
     },
     "execution_count": 57,
     "metadata": {},
     "output_type": "execute_result"
    }
   ],
   "source": [
    "o = a[ak.num(a, axis=1) > 0]\n",
    "o"
   ]
  },
  {
   "cell_type": "code",
   "execution_count": 58,
   "id": "35d857d9-1dfa-4737-bd27-dc0c7ef44d32",
   "metadata": {},
   "outputs": [
    {
     "name": "stdout",
     "output_type": "stream",
     "text": [
      "Our and their results don't match\n",
      "\n",
      "\tChecking for shapes ...\n",
      "\n",
      "\tTotal number of events (axis 0 shapes) are the same :  213\n",
      "\tThe axis 1 shapes are the same\n",
      "\tChecking where the values do not match ...\n"
     ]
    }
   ],
   "source": [
    "compare(o, their_output['fourMuons_iso'])"
   ]
  },
  {
   "cell_type": "code",
   "execution_count": 59,
   "id": "b854faa0-6e96-4cc6-ae69-9d9773f34ead",
   "metadata": {},
   "outputs": [
    {
     "data": {
      "text/html": [
       "<pre>[[0, 0, 0, 0],\n",
       " [0, 0, 0, 0],\n",
       " [0, 0, 0, 0],\n",
       " [5.96e-08, 0, 1.19e-07, 1.78],\n",
       " [0, 0, 0, 0],\n",
       " [0, 9.96e-05, 0.0614, 0],\n",
       " [0, 0, 0, 0],\n",
       " [0, 4.66e-10, 0, 0],\n",
       " [0, 2.98e-08, 0.195, 0.308],\n",
       " [0, 0, 0, 0],\n",
       " ...,\n",
       " [0.268, 0.998, 3.31, 2.59],\n",
       " [0, 0, 0, 0],\n",
       " [0, 0, 0, 0],\n",
       " [0, 2.33e-10, 0, 0],\n",
       " [0, 0, 0, 0],\n",
       " [0, 0, 0, 0],\n",
       " [0, 0.0191, 0, 0],\n",
       " [0, 0, 0, 0],\n",
       " [0, 0, 3.73e-09, 1.49e-08]]\n",
       "-------------------------------\n",
       "type: 213 * var * float32</pre>"
      ],
      "text/plain": [
       "<Array [[0, 0, 0, 0], ..., [0, 0, ..., 1.49e-08]] type='213 * var * float32'>"
      ]
     },
     "execution_count": 59,
     "metadata": {},
     "output_type": "execute_result"
    }
   ],
   "source": [
    "abs(o-their_output['fourMuons_iso'])"
   ]
  },
  {
   "cell_type": "code",
   "execution_count": null,
   "id": "8a95b254-2dc0-4255-aeac-ac878750378a",
   "metadata": {},
   "outputs": [],
   "source": []
  }
 ],
 "metadata": {
  "kernelspec": {
   "display_name": "Python 3 (ipykernel)",
   "language": "python",
   "name": "python3"
  },
  "language_info": {
   "codemirror_mode": {
    "name": "ipython",
    "version": 3
   },
   "file_extension": ".py",
   "mimetype": "text/x-python",
   "name": "python",
   "nbconvert_exporter": "python",
   "pygments_lexer": "ipython3",
   "version": "3.12.10"
  }
 },
 "nbformat": 4,
 "nbformat_minor": 5
}
