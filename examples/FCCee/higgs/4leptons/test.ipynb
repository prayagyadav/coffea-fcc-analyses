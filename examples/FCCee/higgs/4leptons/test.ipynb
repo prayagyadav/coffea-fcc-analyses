{
 "cells": [
  {
   "cell_type": "code",
   "execution_count": 104,
   "id": "0d3f6904-812b-48ae-94d3-a5f802a12d7c",
   "metadata": {},
   "outputs": [
    {
     "name": "stderr",
     "output_type": "stream",
     "text": [
      "/home/prayag/coffeafcc/development/coffea/src/coffea/nanoevents/mapping/uproot.py:153: UserWarning: Skipping PARAMETERS/_intMap/_intMap.first as it is not interpretable by Uproot\n",
      "  warnings.warn(f\"Skipping {key} as it is not interpretable by Uproot\")\n",
      "/home/prayag/coffeafcc/development/coffea/src/coffea/nanoevents/mapping/uproot.py:153: UserWarning: Skipping PARAMETERS/_intMap/_intMap.second as it is not interpretable by Uproot\n",
      "  warnings.warn(f\"Skipping {key} as it is not interpretable by Uproot\")\n",
      "/home/prayag/coffeafcc/development/coffea/src/coffea/nanoevents/mapping/uproot.py:153: UserWarning: Skipping PARAMETERS/_floatMap/_floatMap.first as it is not interpretable by Uproot\n",
      "  warnings.warn(f\"Skipping {key} as it is not interpretable by Uproot\")\n",
      "/home/prayag/coffeafcc/development/coffea/src/coffea/nanoevents/mapping/uproot.py:153: UserWarning: Skipping PARAMETERS/_floatMap/_floatMap.second as it is not interpretable by Uproot\n",
      "  warnings.warn(f\"Skipping {key} as it is not interpretable by Uproot\")\n",
      "/home/prayag/coffeafcc/development/coffea/src/coffea/nanoevents/mapping/uproot.py:153: UserWarning: Skipping PARAMETERS/_stringMap/_stringMap.first as it is not interpretable by Uproot\n",
      "  warnings.warn(f\"Skipping {key} as it is not interpretable by Uproot\")\n",
      "/home/prayag/coffeafcc/development/coffea/src/coffea/nanoevents/mapping/uproot.py:153: UserWarning: Skipping PARAMETERS/_stringMap/_stringMap.second as it is not interpretable by Uproot\n",
      "  warnings.warn(f\"Skipping {key} as it is not interpretable by Uproot\")\n"
     ]
    }
   ],
   "source": [
    "from coffea.nanoevents import NanoEventsFactory, FCC, BaseSchema\n",
    "\n",
    "events = NanoEventsFactory.from_root(\n",
    "    \"../../../../data/eos/experiment/fcc/ee/generation/DelphesEvents/winter2023/IDEA/p8_ee_ZZ_ecm240/events_136205668.root:events\",\n",
    "    schemaclass=FCC.get_schema(\"pre-edm4hep1\"),\n",
    "    # schemaclass=BaseSchema,\n",
    "    entry_stop=10000,\n",
    "    delayed=False,\n",
    "    uproot_options = {\"filter_name\": lambda x : \"PARAMETERS\" not in x}\n",
    ").events()"
   ]
  },
  {
   "cell_type": "code",
   "execution_count": 105,
   "id": "ee038656-0883-48c8-9ea8-585bc3bf3ebb",
   "metadata": {},
   "outputs": [],
   "source": [
    "# Helper functions\n",
    "import awkward as ak\n",
    "import numpy as np\n",
    "import vector\n",
    "vector.register_awkward()"
   ]
  },
  {
   "cell_type": "code",
   "execution_count": 106,
   "id": "7b0088a6-15fb-4926-8454-8be8ea6ccb05",
   "metadata": {},
   "outputs": [],
   "source": [
    "# 1. To replace: FCCAnalyses::ZHfunctions::resonanceBuilder_mass(91.2,false)(selected_muons, MCRecoAssociations0, MCRecoAssociations1, ReconstructedParticles, Particle, Particle0, Particle1)\n",
    "def resonanceBuilder_mass(resonance_mass=None, use_MC_Kinematics=False, leptons=None, MCRecoAssociations=None, ReconstructedParticles=None, MCParticles=None):\n",
    "    '''\n",
    "    Build the Z resonance based on the available leptons. Returns the best lepton pair compatible with the Z mass and recoil at 125 GeV\n",
    "    technically, it returns a ReconstructedParticleData object with index 0 the di-lepton system, index and 2 the leptons of the pair\n",
    "    '''\n",
    "    if leptons is None:\n",
    "        raise AttributeError(\"No leptons passed\")\n",
    "    #Create all the combinations\n",
    "    combs = ak.combinations(leptons,2)\n",
    "    # Get dileptons\n",
    "    lep1 , lep2 = ak.unzip(combs)\n",
    "    di_lep = lep1 + lep2 # This process drops any other field except 4 momentum fields\n",
    "\n",
    "    di_lep[\"charge\"] =  lep1.charge + lep2.charge\n",
    "    di_lep[\"l1_index\"] = lep1.index\n",
    "    di_lep[\"l2_index\"] = lep2.index\n",
    "\n",
    "    # Choose oppositely charged leptons\n",
    "    di_lep = di_lep[di_lep.charge == 0]\n",
    "\n",
    "    # Sort by closest mass to the resonance value\n",
    "    sort_mask = ak.argsort(abs(resonance_mass-di_lep.mass), axis=1)\n",
    "    Reso = di_lep[sort_mask]\n",
    "\n",
    "    return Reso"
   ]
  },
  {
   "cell_type": "code",
   "execution_count": 107,
   "id": "d3594828-d631-49f4-8860-08b4ba6c02e8",
   "metadata": {},
   "outputs": [],
   "source": [
    "# 2. To replace: FCCAnalyses::ZHfunctions::getTwoHighestPMuons(rest_of_muons)\") # Find the higest p muon pair from the remaining muons (off-shell Z)\n",
    "def getTwoHighestPMuons(muons):\n",
    "    '''\n",
    "    Sort by decending P and return the pair of particles with highest P and opposite charges\n",
    "    '''\n",
    "    # if not ak.all(ak.num(muons, axis=1) > 1 ):\n",
    "    #     raise IndexError(\"Need at least two particles!\")\n",
    "    sorted_muons_p = ak.argsort(muons.p, ascending=False)\n",
    "    sorted_muons = muons[sorted_muons_p]\n",
    "\n",
    "    # First particle is always selected, if the second one has the opposite charge, then its accepted otherwise we move on to the third and so on\n",
    "    # Interestingly, this type of operation is non trivial in an array format\n",
    "    first_muon, other_muons = sorted_muons[:, 0:1], sorted_muons[:, 1:]\n",
    "\n",
    "    # prepare before cartesian : replace none with []\n",
    "    first_muon = ak.fill_none(first_muon, [], axis=0)\n",
    "    other_muons = ak.fill_none(other_muons, [], axis=0)\n",
    "    # All combinations\n",
    "    all_comb = ak.cartesian([first_muon, other_muons])\n",
    "    l1, l2 = ak.unzip(all_comb)\n",
    "    charge_mask = l1.charge!= l2.charge\n",
    "    l1 = l1[charge_mask]\n",
    "    l2 = l2[charge_mask]\n",
    "\n",
    "    at_least_one_opp_charged = ak.sum(charge_mask, axis=1) > 0\n",
    "    \n",
    "    return ak.firsts(l1), ak.firsts(l2), at_least_one_opp_charged"
   ]
  },
  {
   "cell_type": "code",
   "execution_count": 108,
   "id": "ad28e9dc-5688-415f-adb3-7f094cb2586f",
   "metadata": {},
   "outputs": [],
   "source": [
    "# Main calculations\n",
    "Muons = events.ReconstructedParticles[events.Muonidx0.index]\n",
    "Muons[\"index\"] = events.Muonidx0.index # Attach the reco index for easier calculations later"
   ]
  },
  {
   "cell_type": "code",
   "execution_count": 109,
   "id": "1694db62-6a86-4c83-a8eb-1be622891fdd",
   "metadata": {},
   "outputs": [],
   "source": [
    "sel_muon = Muons.p > 2.0\n",
    "selected_muons_p = Muons[sel_muon]"
   ]
  },
  {
   "cell_type": "code",
   "execution_count": 110,
   "id": "789f479a-9603-48a9-8a93-42ddb2b080b8",
   "metadata": {},
   "outputs": [],
   "source": [
    "at_least_4_muons = ak.num(selected_muons_p, axis=1) > 3\n",
    "selected_muons = ak.mask(selected_muons_p, at_least_4_muons)"
   ]
  },
  {
   "cell_type": "code",
   "execution_count": 111,
   "id": "e32654b3-7da5-4f6c-a3ac-b1ffbea109ad",
   "metadata": {},
   "outputs": [],
   "source": [
    "# Build Z resonances\n",
    "Z = resonanceBuilder_mass(resonance_mass=91.2, use_MC_Kinematics=False, leptons=selected_muons)"
   ]
  },
  {
   "cell_type": "code",
   "execution_count": 112,
   "id": "9c535377-1581-40b6-8aa2-0b2ba6e789f3",
   "metadata": {},
   "outputs": [],
   "source": [
    "# On Shell Z\n",
    "zll = ak.firsts(Z)"
   ]
  },
  {
   "cell_type": "code",
   "execution_count": 113,
   "id": "6dde8190-d0c9-466d-a6bf-430cb9ad9e05",
   "metadata": {},
   "outputs": [],
   "source": [
    "l1 = ak.firsts(selected_muons[selected_muons.index == zll.l1_index])\n",
    "l2 = ak.firsts(selected_muons[selected_muons.index == zll.l2_index])"
   ]
  },
  {
   "cell_type": "code",
   "execution_count": 114,
   "id": "fade6e14-0324-4c5a-b638-86ad4fdfdf55",
   "metadata": {},
   "outputs": [],
   "source": [
    "def create_mask(a, b, c):\n",
    "    mask1 = a != c\n",
    "    mask2 = b != c\n",
    "    mask = mask1 & mask2\n",
    "    return mask"
   ]
  },
  {
   "cell_type": "code",
   "execution_count": 115,
   "id": "a9e1c129-6393-4233-8da0-bab4c88366ac",
   "metadata": {},
   "outputs": [],
   "source": [
    "mask = create_mask(zll.l1_index, zll.l2_index, selected_muons.index)"
   ]
  },
  {
   "cell_type": "code",
   "execution_count": 116,
   "id": "651ce21e-b84d-4808-b11a-fcc17ac9c6e5",
   "metadata": {},
   "outputs": [],
   "source": [
    "rest_of_muons = selected_muons[mask]"
   ]
  },
  {
   "cell_type": "code",
   "execution_count": 117,
   "id": "67945b9e-2d61-4466-8b66-aef6235b4601",
   "metadata": {},
   "outputs": [],
   "source": [
    "m1, m2, c_mask = getTwoHighestPMuons(rest_of_muons)"
   ]
  },
  {
   "cell_type": "code",
   "execution_count": 130,
   "id": "c8f7b72f-c7e9-47d4-a8f4-b9a9b0dacc60",
   "metadata": {},
   "outputs": [],
   "source": [
    "non_res_Z = m1 + m2\n",
    "# Angle between the two\n",
    "non_res_Z_angle = m1.deltaangle(m2)"
   ]
  },
  {
   "cell_type": "code",
   "execution_count": 132,
   "id": "f03fe575-41fe-4801-b349-3ad241dbe691",
   "metadata": {},
   "outputs": [],
   "source": [
    "# Collect all the four Muons\n",
    "fourMuons_collected = ak.concatenate(\n",
    "    (\n",
    "        ak.mask(l1,c_mask)[:, np.newaxis],\n",
    "        ak.mask(l2,c_mask)[:, np.newaxis],\n",
    "        m1[:, np.newaxis],\n",
    "        m2[:, np.newaxis]\n",
    "    ),\n",
    "    axis=1\n",
    ")"
   ]
  },
  {
   "cell_type": "code",
   "execution_count": 133,
   "id": "ef6bc276-775a-45bf-9d26-c3bf7fde8fb7",
   "metadata": {},
   "outputs": [],
   "source": [
    "fourMuons_p = fourMuons_collected.p"
   ]
  },
  {
   "cell_type": "code",
   "execution_count": 134,
   "id": "5d9694f8-c7f0-41e9-ba39-72fdcaa310b4",
   "metadata": {},
   "outputs": [
    {
     "data": {
      "text/html": [
       "<pre>[[None, None, None, None],\n",
       " [None, None, None, None],\n",
       " [None, None, None, None],\n",
       " [None, None, None, None],\n",
       " [None, None, None, None],\n",
       " [None, None, None, None],\n",
       " [None, None, None, None],\n",
       " [None, None, None, None],\n",
       " [None, None, None, None],\n",
       " [None, None, None, None],\n",
       " ...,\n",
       " [None, None, None, None],\n",
       " [None, None, None, None],\n",
       " [None, None, None, None],\n",
       " [None, None, None, None],\n",
       " [None, None, None, None],\n",
       " [None, None, None, None],\n",
       " [None, None, None, None],\n",
       " [None, None, None, None],\n",
       " [None, None, None, None]]\n",
       "--------------------------------------------------------------\n",
       "type: 10000 * 4 * ?float32[parameters={&quot;typename&quot;: &quot;float[]&quot;}]</pre>"
      ],
      "text/plain": [
       "<Array [[None, None, None, None], ..., [...]] type='10000 * 4 * ?float32[pa...'>"
      ]
     },
     "execution_count": 134,
     "metadata": {},
     "output_type": "execute_result"
    }
   ],
   "source": [
    "fourMuons_p"
   ]
  },
  {
   "cell_type": "code",
   "execution_count": 135,
   "id": "6a735e04-f6a9-4b20-b7c6-3f4079e6c1ab",
   "metadata": {},
   "outputs": [],
   "source": [
    "fourMuons_collected = ak.mask(fourMuons_collected, ak.num(fourMuons_collected, axis=1) > 3)\n",
    "fourMuons = ak.mask(zll, c_mask) + non_res_Z"
   ]
  },
  {
   "cell_type": "code",
   "execution_count": 136,
   "id": "39e6edc4-84ab-406c-992a-c7dcd4182c51",
   "metadata": {},
   "outputs": [],
   "source": [
    "non_res_Z_m = non_res_Z.m"
   ]
  },
  {
   "cell_type": "code",
   "execution_count": 137,
   "id": "5333ed5c-484c-4d64-a2da-d82e8cb2d530",
   "metadata": {},
   "outputs": [],
   "source": [
    "zll_m = zll[c_mask].m"
   ]
  },
  {
   "cell_type": "code",
   "execution_count": 138,
   "id": "1b7d8b9f-b316-4d19-abe9-4bef0e04e263",
   "metadata": {},
   "outputs": [],
   "source": [
    "fourMuons_m = fourMuons.m"
   ]
  },
  {
   "cell_type": "code",
   "execution_count": 139,
   "id": "a186c014-ff18-437f-95ba-37ba17b32f1d",
   "metadata": {},
   "outputs": [],
   "source": [
    "intLumi        = 10.80e+06 #in pb-1\n",
    "scale = 52.6539*intLumi/100000\n",
    "import hist"
   ]
  },
  {
   "cell_type": "code",
   "execution_count": 140,
   "id": "f3e171a2-00ef-40ad-a06b-e28da380d70a",
   "metadata": {},
   "outputs": [],
   "source": [
    "res_Z_hist = hist.Hist.new.Regular(50,0,250).Double().fill(ak.drop_none(zll_m))*scale\n",
    "non_res_Z_hist = hist.Hist.new.Regular(50,0,250).Double().fill(ak.drop_none(non_res_Z_m))*scale\n",
    "four_muon_mass_hist = hist.Hist.new.Regular(50,0,250).Double().fill(ak.drop_none(fourMuons_m))*scale"
   ]
  },
  {
   "cell_type": "code",
   "execution_count": 141,
   "id": "feff127b-6b05-4725-94b3-d63ec3bdcb83",
   "metadata": {},
   "outputs": [
    {
     "data": {
      "text/html": [
       "<html>\n",
       "<div style=\"display:flex; align-items:center;\">\n",
       "<div style=\"width:290px;\">\n",
       "<svg xmlns=\"http://www.w3.org/2000/svg\" viewBox=\"-10 -105 270 120\">\n",
       "<line x1=\"-5\" y1=\"0\" x2=\"255\" y2=\"0\" style=\"fill:none;stroke-width:2;stroke:currentColor\"/>\n",
       "<text text-anchor=\"middle\" x=\"0\" y=\"15\" style=\"fill:currentColor;\">\n",
       "0\n",
       "</text>\n",
       "<text text-anchor=\"middle\" x=\"250\" y=\"15\" style=\"fill:currentColor;\">\n",
       "250\n",
       "</text>\n",
       "<text text-anchor=\"middle\" x=\"125.0\" y=\"15\" style=\"fill:currentColor;\">\n",
       "Axis 0\n",
       "</text>\n",
       "<polyline points=\"  0,0   0,-0   5,-0   5,-0  10,-0  10,-0  15,-0  15,-0  20,-0  20,-0  25,-0  25,-11.1  30,-11.1  30,-5.56  35,-5.56  35,-0  40,-0  40,-0  45,-0  45,-5.56  50,-5.56  50,-0  55,-0  55,-0  60,-0  60,-0  65,-0  65,-0  70,-0  70,-0  75,-0  75,-0  80,-0  80,-11.1  85,-11.1  85,-0  90,-0  90,-100  95,-100  95,-5.56 100,-5.56 100,-0 105,-0 105,-0 110,-0 110,-0 115,-0 115,-0 120,-0 120,-0 125,-0 125,-0 130,-0 130,-0 135,-0 135,-0 140,-0 140,-0 145,-0 145,-0 150,-0 150,-0 155,-0 155,-0 160,-0 160,-0 165,-0 165,-0 170,-0 170,-0 175,-0 175,-0 180,-0 180,-0 185,-0 185,-0 190,-0 190,-0 195,-0 195,-0 200,-0 200,-0 205,-0 205,-0 210,-0 210,-0 215,-0 215,-0 220,-0 220,-0 225,-0 225,-0 230,-0 230,-0 235,-0 235,-0 240,-0 240,-0 245,-0 245,-0 250,-0 250,0\" style=\"fill:none; stroke:currentColor;\"/>\n",
       "</svg>\n",
       "</div>\n",
       "<div style=\"flex=grow:1;\">\n",
       "Regular(50, 0, 250, label='Axis 0')<br/>\n",
       "<hr style=\"margin-top:.2em; margin-bottom:.2em;\"/>\n",
       "Double() Σ=142165.53\n",
       "\n",
       "</div>\n",
       "</div>\n",
       "</html>"
      ],
      "text/plain": [
       "Hist(Regular(50, 0, 250, label='Axis 0'), storage=Double()) # Sum: 142165.53"
      ]
     },
     "execution_count": 141,
     "metadata": {},
     "output_type": "execute_result"
    }
   ],
   "source": [
    "res_Z_hist"
   ]
  },
  {
   "cell_type": "code",
   "execution_count": 142,
   "id": "cbd10c0b-bf83-4f06-bc3c-c3490651e37f",
   "metadata": {},
   "outputs": [
    {
     "data": {
      "text/html": [
       "<html>\n",
       "<div style=\"display:flex; align-items:center;\">\n",
       "<div style=\"width:290px;\">\n",
       "<svg xmlns=\"http://www.w3.org/2000/svg\" viewBox=\"-10 -105 270 120\">\n",
       "<line x1=\"-5\" y1=\"0\" x2=\"255\" y2=\"0\" style=\"fill:none;stroke-width:2;stroke:currentColor\"/>\n",
       "<text text-anchor=\"middle\" x=\"0\" y=\"15\" style=\"fill:currentColor;\">\n",
       "0\n",
       "</text>\n",
       "<text text-anchor=\"middle\" x=\"250\" y=\"15\" style=\"fill:currentColor;\">\n",
       "250\n",
       "</text>\n",
       "<text text-anchor=\"middle\" x=\"125.0\" y=\"15\" style=\"fill:currentColor;\">\n",
       "Axis 0\n",
       "</text>\n",
       "<polyline points=\"  0,0   0,-40   5,-40   5,-40  10,-40  10,-80  15,-80  15,-20  20,-20  20,-20  25,-20  25,-20  30,-20  30,-0  35,-0  35,-0  40,-0  40,-20  45,-20  45,-0  50,-0  50,-0  55,-0  55,-0  60,-0  60,-20  65,-20  65,-20  70,-20  70,-0  75,-0  75,-60  80,-60  80,-20  85,-20  85,-40  90,-40  90,-100  95,-100  95,-0 100,-0 100,-0 105,-0 105,-0 110,-0 110,-0 115,-0 115,-0 120,-0 120,-0 125,-0 125,-0 130,-0 130,-0 135,-0 135,-0 140,-0 140,-0 145,-0 145,-0 150,-0 150,-0 155,-0 155,-0 160,-0 160,-0 165,-0 165,-0 170,-0 170,-0 175,-0 175,-0 180,-0 180,-0 185,-0 185,-0 190,-0 190,-0 195,-0 195,-0 200,-0 200,-0 205,-0 205,-0 210,-0 210,-0 215,-0 215,-0 220,-0 220,-0 225,-0 225,-0 230,-0 230,-0 235,-0 235,-0 240,-0 240,-0 245,-0 245,-0 250,-0 250,0\" style=\"fill:none; stroke:currentColor;\"/>\n",
       "</svg>\n",
       "</div>\n",
       "<div style=\"flex=grow:1;\">\n",
       "Regular(50, 0, 250, label='Axis 0')<br/>\n",
       "<hr style=\"margin-top:.2em; margin-bottom:.2em;\"/>\n",
       "Double() Σ=142165.53\n",
       "\n",
       "</div>\n",
       "</div>\n",
       "</html>"
      ],
      "text/plain": [
       "Hist(Regular(50, 0, 250, label='Axis 0'), storage=Double()) # Sum: 142165.53"
      ]
     },
     "execution_count": 142,
     "metadata": {},
     "output_type": "execute_result"
    }
   ],
   "source": [
    "non_res_Z_hist"
   ]
  },
  {
   "cell_type": "code",
   "execution_count": 143,
   "id": "96c21654-b7c9-41b7-8ec6-f67ca7d65288",
   "metadata": {},
   "outputs": [
    {
     "data": {
      "text/html": [
       "<html>\n",
       "<div style=\"display:flex; align-items:center;\">\n",
       "<div style=\"width:290px;\">\n",
       "<svg xmlns=\"http://www.w3.org/2000/svg\" viewBox=\"-10 -105 270 120\">\n",
       "<line x1=\"-5\" y1=\"0\" x2=\"255\" y2=\"0\" style=\"fill:none;stroke-width:2;stroke:currentColor\"/>\n",
       "<text text-anchor=\"middle\" x=\"0\" y=\"15\" style=\"fill:currentColor;\">\n",
       "0\n",
       "</text>\n",
       "<text text-anchor=\"middle\" x=\"250\" y=\"15\" style=\"fill:currentColor;\">\n",
       "250\n",
       "</text>\n",
       "<text text-anchor=\"middle\" x=\"125.0\" y=\"15\" style=\"fill:currentColor;\">\n",
       "Axis 0\n",
       "</text>\n",
       "<polyline points=\"  0,0   0,-0   5,-0   5,-0  10,-0  10,-0  15,-0  15,-0  20,-0  20,-0  25,-0  25,-0  30,-0  30,-0  35,-0  35,-0  40,-0  40,-0  45,-0  45,-28.6  50,-28.6  50,-0  55,-0  55,-0  60,-0  60,-0  65,-0  65,-0  70,-0  70,-14.3  75,-14.3  75,-0  80,-0  80,-0  85,-0  85,-14.3  90,-14.3  90,-28.6  95,-28.6  95,-0 100,-0 100,-0 105,-0 105,-0 110,-0 110,-0 115,-0 115,-0 120,-0 120,-0 125,-0 125,-0 130,-0 130,-14.3 135,-14.3 135,-0 140,-0 140,-0 145,-0 145,-0 150,-0 150,-0 155,-0 155,-0 160,-0 160,-0 165,-0 165,-0 170,-0 170,-0 175,-0 175,-0 180,-0 180,-0 185,-0 185,-0 190,-0 190,-0 195,-0 195,-0 200,-0 200,-0 205,-0 205,-14.3 210,-14.3 210,-0 215,-0 215,-14.3 220,-14.3 220,-14.3 225,-14.3 225,-28.6 230,-28.6 230,-14.3 235,-14.3 235,-100 240,-100 240,-71.4 245,-71.4 245,-0 250,-0 250,0\" style=\"fill:none; stroke:currentColor;\"/>\n",
       "</svg>\n",
       "</div>\n",
       "<div style=\"flex=grow:1;\">\n",
       "Regular(50, 0, 250, label='Axis 0')<br/>\n",
       "<hr style=\"margin-top:.2em; margin-bottom:.2em;\"/>\n",
       "Double() Σ=142165.53\n",
       "\n",
       "</div>\n",
       "</div>\n",
       "</html>"
      ],
      "text/plain": [
       "Hist(Regular(50, 0, 250, label='Axis 0'), storage=Double()) # Sum: 142165.53"
      ]
     },
     "execution_count": 143,
     "metadata": {},
     "output_type": "execute_result"
    }
   ],
   "source": [
    "four_muon_mass_hist"
   ]
  },
  {
   "cell_type": "code",
   "execution_count": 144,
   "id": "0164a9d0-6e11-4511-ba63-63330d5f1035",
   "metadata": {},
   "outputs": [],
   "source": [
    "\n",
    "def remove(array, idx):\n",
    "    '''\n",
    "    Returns all the particles except the indices defined in idx.index.\n",
    "    Eg. remove(events.ReconstructedParticle, events.Muonidx0) returns the events.ReconstructedParticle array with all the muons removed\n",
    "    '''\n",
    "    index = idx.index\n",
    "    all_index = ak.local_index(array,axis=1)\n",
    "\n",
    "    i,a = ak.unzip(ak.cartesian([index[:,np.newaxis] ,all_index], nested=True))\n",
    "    c = a == i\n",
    "    d = ak.firsts(c)\n",
    "    s = ak.sum(d, axis=2)\n",
    "    kl = s == 1\n",
    "    \n",
    "    return array[~kl]"
   ]
  },
  {
   "cell_type": "code",
   "execution_count": 153,
   "id": "a73d85f7-56e4-4861-b5f5-f7d8dde5b7c8",
   "metadata": {},
   "outputs": [],
   "source": [
    "# 3. To sum all the lorentz vectors in a an array of lorentzvectors\n",
    "def sum_all(array_of_lv):\n",
    "    # array_of_lv = ak.drop_none(array_of_lv)\n",
    "\n",
    "    out = ak.zip(\n",
    "        {\n",
    "            \"px\":ak.sum(array_of_lv.px , axis=1),\n",
    "            \"py\":ak.sum(array_of_lv.py , axis=1),\n",
    "            \"pz\":ak.sum(array_of_lv.pz , axis=1),\n",
    "            \"E\":ak.sum(array_of_lv.E , axis=1)\n",
    "        },\n",
    "        with_name=\"Momemtum4D\"\n",
    "    )\n",
    "\n",
    "    return out\n",
    "def recoilBuilder(vec, ecm):\n",
    "    '''\n",
    "    Builds Recoil from a given LorentzVector and Center of Mass Energy\n",
    "    Input:    vec(var*[var*LorentzVector]),\n",
    "              ecm(float)\n",
    "    Output: Recoil([var*LorentzVecctor])\n",
    "    '''\n",
    "    Recoil = ak.zip({\"px\":0.0-vec.px,\"py\":0.0-vec.py,\"pz\":0.0-vec.pz,\"E\":ecm-vec.E},with_name=\"Momentum4D\")\n",
    "    return Recoil\n",
    "\n",
    "# 4. To replace : FCCAnalyses::ZHfunctions::coneIsolation(0.0,0.523599)(fourMuons,rest_of_particles)\n",
    "def coneIsolation(particle, rest_of_the_particles, min_dr=0.0 , max_dr=0.4):\n",
    "    ''' Refer: https://github.com/delphes/delphes/blob/master/modules/Isolation.cc#L154\n",
    "    '''\n",
    "    neutral_particles = ak.mask(rest_of_the_particles, rest_of_the_particles.charge == 0)\n",
    "    charged_particles = ak.mask(rest_of_the_particles, rest_of_the_particles.charge != 0)\n",
    "\n",
    "    n_combs = ak.cartesian((particle,neutral_particles[:,np.newaxis]), axis=1)\n",
    "    n1,n2 = ak.unzip(n_combs)\n",
    "    c_combs = ak.cartesian((particle,charged_particles[:,np.newaxis]), axis=1)\n",
    "    c1,c2 = ak.unzip(c_combs)\n",
    "\n",
    "    n_angle = n1.deltaangle(n2)\n",
    "    c_angle = c1.deltaangle(c2)\n",
    "\n",
    "    n_angle_mask = (n_angle < max_dr) & (n_angle > min_dr)\n",
    "    c_angle_mask = (c_angle < max_dr) & (c_angle > min_dr)\n",
    "\n",
    "    filtered_neutral = n2[n_angle_mask]\n",
    "    filtered_charged = c2[c_angle_mask]\n",
    "\n",
    "    sumNeutral = ak.sum(filtered_neutral.p, axis=2)\n",
    "    sumCharged = ak.sum(filtered_charged.p, axis=2)\n",
    "\n",
    "    total_sum = sumNeutral + sumNeutral\n",
    "\n",
    "    ratio = total_sum / particle.p\n",
    "\n",
    "    return ratio\n"
   ]
  },
  {
   "cell_type": "code",
   "execution_count": 154,
   "id": "a490218c-07cc-4cef-a4a7-4fbf5840eae1",
   "metadata": {},
   "outputs": [],
   "source": [
    "fourMuons_pmin = ak.min(fourMuons_collected.p, axis=1)\n",
    "\n",
    "chosen_reco_4_mu = ak.mask(events.ReconstructedParticles, at_least_4_muons)\n",
    "chosen_reco = ak.mask(chosen_reco_4_mu,c_mask)\n",
    "\n",
    "rest_of_particles = remove(chosen_reco, fourMuons_collected)\n",
    "all_others = sum_all(rest_of_particles)\n",
    "\n",
    "Emiss = recoilBuilder(sum_all(chosen_reco), ecm=240)\n",
    "pmiss = Emiss.E\n",
    "\n",
    "# Cone Isolation\n",
    "fourMuons_iso = coneIsolation(fourMuons_collected, rest_of_particles, min_dr=0.0, max_dr=0.523599)\n",
    "fourMuons_min_iso = ak.max(fourMuons_iso, axis=1)\n",
    "\n",
    "\n",
    "# fourMuons_pmin = ak.min(fourMuons_collected.p, axis=1)\n",
    "\n",
    "# chosen_reco_4_mu = events.ReconstructedParticles[at_least_4_muons]\n",
    "# chosen_reco = chosen_reco_4_mu[c_mask]\n",
    "\n",
    "# rest_of_particles = remove(chosen_reco, fourMuons_collected)\n",
    "# all_others = functions.sum_all(rest_of_particles)\n",
    "\n",
    "# Emiss = recoilBuilder(functions.sum_all(chosen_reco), ecm=config.ecm)\n",
    "# pmiss = Emiss.E\n",
    "\n",
    "# # Cone Isolation\n",
    "# fourMuons_iso = functions.coneIsolation(fourMuons_collected, rest_of_particles, min_dr=0.0, max_dr=0.523599)\n",
    "# fourMuons_min_iso = ak.max(fourMuons_iso, axis=1)"
   ]
  },
  {
   "cell_type": "code",
   "execution_count": 155,
   "id": "42de7b02-8b14-4c29-b3bd-8a87ee0427b4",
   "metadata": {},
   "outputs": [
    {
     "data": {
      "text/html": [
       "<pre>[None,\n",
       " None,\n",
       " None,\n",
       " None,\n",
       " None,\n",
       " None,\n",
       " None,\n",
       " None,\n",
       " None,\n",
       " None,\n",
       " ...,\n",
       " None,\n",
       " None,\n",
       " None,\n",
       " None,\n",
       " None,\n",
       " None,\n",
       " None,\n",
       " None,\n",
       " None]\n",
       "----------------------\n",
       "type: 10000 * ?float32</pre>"
      ],
      "text/plain": [
       "<Array [None, None, None, None, ..., None, None, None] type='10000 * ?float32'>"
      ]
     },
     "execution_count": 155,
     "metadata": {},
     "output_type": "execute_result"
    }
   ],
   "source": [
    "pmiss"
   ]
  },
  {
   "cell_type": "code",
   "execution_count": 149,
   "id": "a698fe48-bcb5-4c70-8ce0-ef59e929ca66",
   "metadata": {},
   "outputs": [
    {
     "data": {
      "text/html": [
       "<pre>[[None, None, None, None],\n",
       " [None, None, None, None],\n",
       " [None, None, None, None],\n",
       " [None, None, None, None],\n",
       " [None, None, None, None],\n",
       " [None, None, None, None],\n",
       " [None, None, None, None],\n",
       " [None, None, None, None],\n",
       " [None, None, None, None],\n",
       " [None, None, None, None],\n",
       " ...,\n",
       " [None, None, None, None],\n",
       " [None, None, None, None],\n",
       " [None, None, None, None],\n",
       " [None, None, None, None],\n",
       " [None, None, None, None],\n",
       " [None, None, None, None],\n",
       " [None, None, None, None],\n",
       " [None, None, None, None],\n",
       " [None, None, None, None]]\n",
       "------------------------------------\n",
       "type: 10000 * option[var * ?float32]</pre>"
      ],
      "text/plain": [
       "<Array [[None, None, None, None], ..., [...]] type='10000 * option[var * ?f...'>"
      ]
     },
     "execution_count": 149,
     "metadata": {},
     "output_type": "execute_result"
    }
   ],
   "source": [
    "fourMuons_iso"
   ]
  },
  {
   "cell_type": "code",
   "execution_count": 150,
   "id": "163093da-cc1d-49cc-91f7-83d1331274a3",
   "metadata": {},
   "outputs": [
    {
     "data": {
      "text/html": [
       "<pre>[None,\n",
       " None,\n",
       " None,\n",
       " None,\n",
       " None,\n",
       " None,\n",
       " None,\n",
       " None,\n",
       " None,\n",
       " None,\n",
       " ...,\n",
       " None,\n",
       " None,\n",
       " None,\n",
       " None,\n",
       " None,\n",
       " None,\n",
       " None,\n",
       " None,\n",
       " None]\n",
       "----------------------\n",
       "type: 10000 * ?float32</pre>"
      ],
      "text/plain": [
       "<Array [None, None, None, None, ..., None, None, None] type='10000 * ?float32'>"
      ]
     },
     "execution_count": 150,
     "metadata": {},
     "output_type": "execute_result"
    }
   ],
   "source": [
    "fourMuons_pmin"
   ]
  },
  {
   "cell_type": "code",
   "execution_count": 151,
   "id": "9be3561a-2a2c-4703-8fa4-3d7cdcb0dcb4",
   "metadata": {},
   "outputs": [
    {
     "data": {
      "text/html": [
       "<html>\n",
       "<div style=\"display:flex; align-items:center;\">\n",
       "<div style=\"width:290px;\">\n",
       "<svg xmlns=\"http://www.w3.org/2000/svg\" viewBox=\"-10 -105 270 120\">\n",
       "<line x1=\"-5\" y1=\"0\" x2=\"255\" y2=\"0\" style=\"fill:none;stroke-width:2;stroke:currentColor\"/>\n",
       "<text text-anchor=\"middle\" x=\"0\" y=\"15\" style=\"fill:currentColor;\">\n",
       "0\n",
       "</text>\n",
       "<text text-anchor=\"middle\" x=\"250\" y=\"15\" style=\"fill:currentColor;\">\n",
       "250\n",
       "</text>\n",
       "<text text-anchor=\"middle\" x=\"125.0\" y=\"15\" style=\"fill:currentColor;\">\n",
       "Axis 0\n",
       "</text>\n",
       "<polyline points=\"  0,0   0,-0   5,-0   5,-0  10,-0  10,-0  15,-0  15,-0  20,-0  20,-0  25,-0  25,-0  30,-0  30,-0  35,-0  35,-0  40,-0  40,-0  45,-0  45,-28.6  50,-28.6  50,-0  55,-0  55,-0  60,-0  60,-0  65,-0  65,-0  70,-0  70,-14.3  75,-14.3  75,-0  80,-0  80,-0  85,-0  85,-14.3  90,-14.3  90,-28.6  95,-28.6  95,-0 100,-0 100,-0 105,-0 105,-0 110,-0 110,-0 115,-0 115,-0 120,-0 120,-0 125,-0 125,-0 130,-0 130,-14.3 135,-14.3 135,-0 140,-0 140,-0 145,-0 145,-0 150,-0 150,-0 155,-0 155,-0 160,-0 160,-0 165,-0 165,-0 170,-0 170,-0 175,-0 175,-0 180,-0 180,-0 185,-0 185,-0 190,-0 190,-0 195,-0 195,-0 200,-0 200,-0 205,-0 205,-14.3 210,-14.3 210,-0 215,-0 215,-14.3 220,-14.3 220,-14.3 225,-14.3 225,-28.6 230,-28.6 230,-14.3 235,-14.3 235,-100 240,-100 240,-71.4 245,-71.4 245,-0 250,-0 250,0\" style=\"fill:none; stroke:currentColor;\"/>\n",
       "</svg>\n",
       "</div>\n",
       "<div style=\"flex=grow:1;\">\n",
       "Regular(50, 0, 250, label='Axis 0')<br/>\n",
       "<hr style=\"margin-top:.2em; margin-bottom:.2em;\"/>\n",
       "Double() Σ=142165.53\n",
       "\n",
       "</div>\n",
       "</div>\n",
       "</html>"
      ],
      "text/plain": [
       "Hist(Regular(50, 0, 250, label='Axis 0'), storage=Double()) # Sum: 142165.53"
      ]
     },
     "execution_count": 151,
     "metadata": {},
     "output_type": "execute_result"
    }
   ],
   "source": [
    "four_muon_mass_hist"
   ]
  },
  {
   "cell_type": "code",
   "execution_count": null,
   "id": "f984265a-4d8f-471b-a0cf-8e879fa05300",
   "metadata": {},
   "outputs": [],
   "source": []
  }
 ],
 "metadata": {
  "kernelspec": {
   "display_name": "Python 3 (ipykernel)",
   "language": "python",
   "name": "python3"
  },
  "language_info": {
   "codemirror_mode": {
    "name": "ipython",
    "version": 3
   },
   "file_extension": ".py",
   "mimetype": "text/x-python",
   "name": "python",
   "nbconvert_exporter": "python",
   "pygments_lexer": "ipython3",
   "version": "3.12.10"
  }
 },
 "nbformat": 4,
 "nbformat_minor": 5
}
