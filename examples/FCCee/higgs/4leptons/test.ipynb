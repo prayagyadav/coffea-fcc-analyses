{
 "cells": [
  {
   "cell_type": "code",
   "execution_count": 27,
   "id": "0d3f6904-812b-48ae-94d3-a5f802a12d7c",
   "metadata": {},
   "outputs": [],
   "source": [
    "from coffea.nanoevents import NanoEventsFactory, FCC, BaseSchema\n",
    "\n",
    "events = NanoEventsFactory.from_root(\n",
    "    \"../../../../data/eos/experiment/fcc/ee/generation/DelphesEvents/winter2023/IDEA/p8_ee_ZZ_ecm240/events_136205668.root:events\",\n",
    "    schemaclass=FCC.get_schema(\"pre-edm4hep1\"),\n",
    "    # schemaclass=BaseSchema,\n",
    "    # entry_stop=100,\n",
    "    delayed=True,\n",
    "    uproot_options = {\"filter_name\": lambda x : \"PARAMETERS\" not in x}\n",
    ").events()"
   ]
  },
  {
   "cell_type": "code",
   "execution_count": 28,
   "id": "ee038656-0883-48c8-9ea8-585bc3bf3ebb",
   "metadata": {},
   "outputs": [],
   "source": [
    "# Helper functions\n",
    "import awkward as ak\n",
    "import numpy as np\n",
    "import vector\n",
    "vector.register_awkward()"
   ]
  },
  {
   "cell_type": "code",
   "execution_count": 29,
   "id": "7b0088a6-15fb-4926-8454-8be8ea6ccb05",
   "metadata": {},
   "outputs": [],
   "source": [
    "# 1. To replace: FCCAnalyses::ZHfunctions::resonanceBuilder_mass(91.2,false)(selected_muons, MCRecoAssociations0, MCRecoAssociations1, ReconstructedParticles, Particle, Particle0, Particle1)\n",
    "def resonanceBuilder_mass(resonance_mass=None, use_MC_Kinematics=False, leptons=None, MCRecoAssociations=None, ReconstructedParticles=None, MCParticles=None):\n",
    "    '''\n",
    "    Build the Z resonance based on the available leptons. Returns the best lepton pair compatible with the Z mass and recoil at 125 GeV\n",
    "    technically, it returns a ReconstructedParticleData object with index 0 the di-lepton system, index and 2 the leptons of the pair\n",
    "    '''\n",
    "    if leptons is None:\n",
    "        raise AttributeError(\"No leptons passed\")\n",
    "    #Create all the combinations\n",
    "    combs = ak.combinations(leptons,2)\n",
    "    # Get dileptons\n",
    "    lep1 , lep2 = ak.unzip(combs)\n",
    "    di_lep = lep1 + lep2 # This process drops any other field except 4 momentum fields\n",
    "\n",
    "    di_lep[\"charge\"] =  lep1.charge + lep2.charge\n",
    "    di_lep[\"l1_index\"] = lep1.index\n",
    "    di_lep[\"l2_index\"] = lep2.index\n",
    "\n",
    "    # Choose oppositely charged leptons\n",
    "    di_lep = di_lep[di_lep.charge == 0]\n",
    "\n",
    "    # Sort by closest mass to the resonance value\n",
    "    sort_mask = ak.argsort(abs(resonance_mass-di_lep.mass), axis=1)\n",
    "    Reso = di_lep[sort_mask]\n",
    "\n",
    "    return Reso"
   ]
  },
  {
   "cell_type": "code",
   "execution_count": 30,
   "id": "d3594828-d631-49f4-8860-08b4ba6c02e8",
   "metadata": {},
   "outputs": [],
   "source": [
    "# 2. To replace: FCCAnalyses::ZHfunctions::getTwoHighestPMuons(rest_of_muons)\") # Find the higest p muon pair from the remaining muons (off-shell Z)\n",
    "def getTwoHighestPMuons(muons):\n",
    "    '''\n",
    "    Sort by decending P and return the pair of particles with highest P and opposite charges\n",
    "    '''\n",
    "    # if not ak.all(ak.num(muons, axis=1) > 1 ):\n",
    "    #     raise IndexError(\"Need at least two particles!\")\n",
    "    sorted_muons_p = ak.argsort(muons.p, ascending=False)\n",
    "    sorted_muons = muons[sorted_muons_p]\n",
    "\n",
    "    # First particle is always selected, if the second one has the opposite charge, then its accepted otherwise we move on to the third and so on\n",
    "    # Interestingly, this type of operation is non trivial in an array format\n",
    "    first_muon, other_muons = sorted_muons[:, 0:1], sorted_muons[:, 1:]\n",
    "\n",
    "    # prepare before cartesian : replace none with []\n",
    "    first_muon = ak.fill_none(first_muon, [], axis=0)\n",
    "    other_muons = ak.fill_none(other_muons, [], axis=0)\n",
    "    # All combinations\n",
    "    all_comb = ak.cartesian([first_muon, other_muons])\n",
    "    l1, l2 = ak.unzip(all_comb)\n",
    "    charge_mask = l1.charge!= l2.charge\n",
    "    l1 = l1[charge_mask]\n",
    "    l2 = l2[charge_mask]\n",
    "\n",
    "    at_least_one_opp_charged = ak.sum(charge_mask, axis=1) > 0\n",
    "    \n",
    "    return ak.firsts(l1), ak.firsts(l2), at_least_one_opp_charged"
   ]
  },
  {
   "cell_type": "code",
   "execution_count": 31,
   "id": "ad28e9dc-5688-415f-adb3-7f094cb2586f",
   "metadata": {},
   "outputs": [],
   "source": [
    "# Main calculations\n",
    "Muons = events.ReconstructedParticles[events.Muonidx0.index]\n",
    "Muons[\"index\"] = events.Muonidx0.index # Attach the reco index for easier calculations later"
   ]
  },
  {
   "cell_type": "code",
   "execution_count": 32,
   "id": "1694db62-6a86-4c83-a8eb-1be622891fdd",
   "metadata": {},
   "outputs": [],
   "source": [
    "sel_muon = Muons.p > 2.0\n",
    "selected_muons_p = Muons[sel_muon]"
   ]
  },
  {
   "cell_type": "code",
   "execution_count": 33,
   "id": "789f479a-9603-48a9-8a93-42ddb2b080b8",
   "metadata": {},
   "outputs": [],
   "source": [
    "at_least_4_muons = ak.num(selected_muons_p, axis=1) > 3\n",
    "selected_muons = selected_muons_p[at_least_4_muons]"
   ]
  },
  {
   "cell_type": "code",
   "execution_count": 34,
   "id": "e32654b3-7da5-4f6c-a3ac-b1ffbea109ad",
   "metadata": {},
   "outputs": [],
   "source": [
    "# Build Z resonances\n",
    "Z = resonanceBuilder_mass(resonance_mass=91.2, use_MC_Kinematics=False, leptons=selected_muons)"
   ]
  },
  {
   "cell_type": "code",
   "execution_count": 35,
   "id": "9c535377-1581-40b6-8aa2-0b2ba6e789f3",
   "metadata": {},
   "outputs": [],
   "source": [
    "# On Shell Z\n",
    "zll = ak.firsts(Z)"
   ]
  },
  {
   "cell_type": "code",
   "execution_count": 64,
   "id": "6dde8190-d0c9-466d-a6bf-430cb9ad9e05",
   "metadata": {},
   "outputs": [],
   "source": [
    "l1 = ak.firsts(selected_muons[selected_muons.index == zll.l1_index])\n",
    "l2 = ak.firsts(selected_muons[selected_muons.index == zll.l2_index])"
   ]
  },
  {
   "cell_type": "code",
   "execution_count": 36,
   "id": "fade6e14-0324-4c5a-b638-86ad4fdfdf55",
   "metadata": {},
   "outputs": [],
   "source": [
    "def create_mask(a, b, c):\n",
    "    mask1 = a != c\n",
    "    mask2 = b != c\n",
    "    mask = mask1 & mask2\n",
    "    return mask"
   ]
  },
  {
   "cell_type": "code",
   "execution_count": 37,
   "id": "a9e1c129-6393-4233-8da0-bab4c88366ac",
   "metadata": {},
   "outputs": [],
   "source": [
    "mask = create_mask(zll.l1_index, zll.l2_index, selected_muons.index)"
   ]
  },
  {
   "cell_type": "code",
   "execution_count": 38,
   "id": "651ce21e-b84d-4808-b11a-fcc17ac9c6e5",
   "metadata": {},
   "outputs": [],
   "source": [
    "rest_of_muons = selected_muons[mask]"
   ]
  },
  {
   "cell_type": "code",
   "execution_count": 39,
   "id": "67945b9e-2d61-4466-8b66-aef6235b4601",
   "metadata": {},
   "outputs": [],
   "source": [
    "m1, m2, c_mask = getTwoHighestPMuons(rest_of_muons)"
   ]
  },
  {
   "cell_type": "code",
   "execution_count": 40,
   "id": "c8f7b72f-c7e9-47d4-a8f4-b9a9b0dacc60",
   "metadata": {},
   "outputs": [],
   "source": [
    "non_res_Z = m1 + m2\n",
    "# Angle between the two\n",
    "non_res_Z_angle = m1.deltaangle(m2)"
   ]
  },
  {
   "cell_type": "code",
   "execution_count": 73,
   "id": "f03fe575-41fe-4801-b349-3ad241dbe691",
   "metadata": {},
   "outputs": [],
   "source": [
    "# Collect all the four Muons\n",
    "fourMuons_collected = ak.concatenate(\n",
    "    (\n",
    "        ak.drop_none(l1[c_mask])[:, np.newaxis],\n",
    "        ak.drop_none(l2[c_mask])[:, np.newaxis],\n",
    "        ak.drop_none(m1)[:, np.newaxis],\n",
    "        ak.drop_none(m2)[:, np.newaxis]\n",
    "    ),\n",
    "    axis=1\n",
    ")"
   ]
  },
  {
   "cell_type": "code",
   "execution_count": 74,
   "id": "ef6bc276-775a-45bf-9d26-c3bf7fde8fb7",
   "metadata": {},
   "outputs": [],
   "source": [
    "fourMuons_p = fourMuons_collected.p.compute()"
   ]
  },
  {
   "cell_type": "code",
   "execution_count": 75,
   "id": "5d9694f8-c7f0-41e9-ba39-72fdcaa310b4",
   "metadata": {},
   "outputs": [
    {
     "data": {
      "text/html": [
       "<pre>[[74.1, 62.4, 88.4, 15.5],\n",
       " [94.6, 39.8, 50.1, 24.4],\n",
       " [82.4, 31.3, 72.4, 34.6],\n",
       " [19.6, 16.5, 12.5, 9.35],\n",
       " [78.9, 40.2, 74.5, 46.9],\n",
       " [36.9, 88.2, 92, 16.2],\n",
       " [80.1, 39, 97.2, 23.4],\n",
       " [85.7, 38.2, 93.6, 22.4],\n",
       " [52.3, 47, 4.04, 3.34],\n",
       " [78.8, 40.3, 78.5, 42.1],\n",
       " ...,\n",
       " [26.1, 2.87, 2.46, 2.44],\n",
       " [75.5, 53.7, 58.9, 44],\n",
       " [85.7, 32.5, 63, 58.7],\n",
       " [91.7, 32.7, 83.2, 31.9],\n",
       " [26.6, 5.3, 117, 94.4],\n",
       " [66.6, 51, 90.7, 31.3],\n",
       " [64.3, 19.3, 94.4, 59.7],\n",
       " [85.6, 32.3, 69.8, 48.1],\n",
       " [61, 76.3, 70.6, 28.4]]\n",
       "-----------------------------------------------------------\n",
       "type: 213 * 4 * float32[parameters={&quot;typename&quot;: &quot;float[]&quot;}]</pre>"
      ],
      "text/plain": [
       "<Array [[74.1, 62.4, 88.4, 15.5], ..., [...]] type='213 * 4 * float32[param...'>"
      ]
     },
     "execution_count": 75,
     "metadata": {},
     "output_type": "execute_result"
    }
   ],
   "source": [
    "fourMuons_p"
   ]
  },
  {
   "cell_type": "code",
   "execution_count": 76,
   "id": "6a735e04-f6a9-4b20-b7c6-3f4079e6c1ab",
   "metadata": {},
   "outputs": [],
   "source": [
    "fourMuons_collected = ak.mask(fourMuons_collected, ak.num(fourMuons_collected, axis=1) > 3)\n",
    "fourMuons = ak.mask(zll, c_mask) + non_res_Z"
   ]
  },
  {
   "cell_type": "code",
   "execution_count": 77,
   "id": "39e6edc4-84ab-406c-992a-c7dcd4182c51",
   "metadata": {},
   "outputs": [],
   "source": [
    "non_res_Z_m = non_res_Z.m.compute()"
   ]
  },
  {
   "cell_type": "code",
   "execution_count": 78,
   "id": "5333ed5c-484c-4d64-a2da-d82e8cb2d530",
   "metadata": {},
   "outputs": [],
   "source": [
    "zll_m = zll[c_mask].m.compute()"
   ]
  },
  {
   "cell_type": "code",
   "execution_count": 79,
   "id": "1b7d8b9f-b316-4d19-abe9-4bef0e04e263",
   "metadata": {},
   "outputs": [],
   "source": [
    "fourMuons_m = fourMuons.m.compute()"
   ]
  },
  {
   "cell_type": "code",
   "execution_count": 80,
   "id": "a186c014-ff18-437f-95ba-37ba17b32f1d",
   "metadata": {},
   "outputs": [],
   "source": [
    "intLumi        = 10.80e+06 #in pb-1\n",
    "scale = 52.6539*intLumi/100000\n",
    "import hist"
   ]
  },
  {
   "cell_type": "code",
   "execution_count": 81,
   "id": "f3e171a2-00ef-40ad-a06b-e28da380d70a",
   "metadata": {},
   "outputs": [],
   "source": [
    "res_Z_hist = hist.Hist.new.Regular(50,0,250).Double().fill(ak.drop_none(zll_m))*scale\n",
    "non_res_Z_hist = hist.Hist.new.Regular(50,0,250).Double().fill(ak.drop_none(non_res_Z_m))*scale\n",
    "four_muon_mass_hist = hist.Hist.new.Regular(50,0,250).Double().fill(ak.drop_none(fourMuons_m))*scale"
   ]
  },
  {
   "cell_type": "code",
   "execution_count": 82,
   "id": "feff127b-6b05-4725-94b3-d63ec3bdcb83",
   "metadata": {},
   "outputs": [
    {
     "data": {
      "text/html": [
       "<html>\n",
       "<div style=\"display:flex; align-items:center;\">\n",
       "<div style=\"width:290px;\">\n",
       "<svg xmlns=\"http://www.w3.org/2000/svg\" viewBox=\"-10 -105 270 120\">\n",
       "<line x1=\"-5\" y1=\"0\" x2=\"255\" y2=\"0\" style=\"fill:none;stroke-width:2;stroke:currentColor\"/>\n",
       "<text text-anchor=\"middle\" x=\"0\" y=\"15\" style=\"fill:currentColor;\">\n",
       "0\n",
       "</text>\n",
       "<text text-anchor=\"middle\" x=\"250\" y=\"15\" style=\"fill:currentColor;\">\n",
       "250\n",
       "</text>\n",
       "<text text-anchor=\"middle\" x=\"125.0\" y=\"15\" style=\"fill:currentColor;\">\n",
       "Axis 0\n",
       "</text>\n",
       "<polyline points=\"  0,0   0,-0   5,-0   5,-0  10,-0  10,-2.48  15,-2.48  15,-0.826  20,-0.826  20,-2.48  25,-2.48  25,-2.48  30,-2.48  30,-1.65  35,-1.65  35,-0.826  40,-0.826  40,-0  45,-0  45,-4.13  50,-4.13  50,-2.48  55,-2.48  55,-2.48  60,-2.48  60,-1.65  65,-1.65  65,-3.31  70,-3.31  70,-1.65  75,-1.65  75,-0.826  80,-0.826  80,-4.96  85,-4.96  85,-24  90,-24  90,-100  95,-100  95,-11.6 100,-11.6 100,-2.48 105,-2.48 105,-0.826 110,-0.826 110,-2.48 115,-2.48 115,-0 120,-0 120,-1.65 125,-1.65 125,-0 130,-0 130,-0.826 135,-0.826 135,-0 140,-0 140,-0 145,-0 145,-0 150,-0 150,-0 155,-0 155,-0 160,-0 160,-0 165,-0 165,-0 170,-0 170,-0 175,-0 175,-0 180,-0 180,-0 185,-0 185,-0 190,-0 190,-0 195,-0 195,-0 200,-0 200,-0 205,-0 205,-0 210,-0 210,-0 215,-0 215,-0 220,-0 220,-0 225,-0 225,-0 230,-0 230,-0 235,-0 235,-0 240,-0 240,-0 245,-0 245,-0 250,-0 250,0\" style=\"fill:none; stroke:currentColor;\"/>\n",
       "</svg>\n",
       "</div>\n",
       "<div style=\"flex=grow:1;\">\n",
       "Regular(50, 0, 250, label='Axis 0')<br/>\n",
       "<hr style=\"margin-top:.2em; margin-bottom:.2em;\"/>\n",
       "Double() Σ=1211250.3155999999\n",
       "\n",
       "</div>\n",
       "</div>\n",
       "</html>"
      ],
      "text/plain": [
       "Hist(Regular(50, 0, 250, label='Axis 0'), storage=Double()) # Sum: 1211250.3155999999"
      ]
     },
     "execution_count": 82,
     "metadata": {},
     "output_type": "execute_result"
    }
   ],
   "source": [
    "res_Z_hist"
   ]
  },
  {
   "cell_type": "code",
   "execution_count": 83,
   "id": "cbd10c0b-bf83-4f06-bc3c-c3490651e37f",
   "metadata": {},
   "outputs": [
    {
     "data": {
      "text/html": [
       "<html>\n",
       "<div style=\"display:flex; align-items:center;\">\n",
       "<div style=\"width:290px;\">\n",
       "<svg xmlns=\"http://www.w3.org/2000/svg\" viewBox=\"-10 -105 270 120\">\n",
       "<line x1=\"-5\" y1=\"0\" x2=\"255\" y2=\"0\" style=\"fill:none;stroke-width:2;stroke:currentColor\"/>\n",
       "<text text-anchor=\"middle\" x=\"0\" y=\"15\" style=\"fill:currentColor;\">\n",
       "0\n",
       "</text>\n",
       "<text text-anchor=\"middle\" x=\"250\" y=\"15\" style=\"fill:currentColor;\">\n",
       "250\n",
       "</text>\n",
       "<text text-anchor=\"middle\" x=\"125.0\" y=\"15\" style=\"fill:currentColor;\">\n",
       "Axis 0\n",
       "</text>\n",
       "<polyline points=\"  0,0   0,-61.3   5,-61.3   5,-48.4  10,-48.4  10,-61.3  15,-61.3  15,-29  20,-29  20,-25.8  25,-25.8  25,-22.6  30,-22.6  30,-12.9  35,-12.9  35,-25.8  40,-25.8  40,-19.4  45,-19.4  45,-19.4  50,-19.4  50,-6.45  55,-6.45  55,-9.68  60,-9.68  60,-12.9  65,-12.9  65,-12.9  70,-12.9  70,-12.9  75,-12.9  75,-22.6  80,-22.6  80,-35.5  85,-35.5  85,-61.3  90,-61.3  90,-100  95,-100  95,-29 100,-29 100,-22.6 105,-22.6 105,-3.23 110,-3.23 110,-3.23 115,-3.23 115,-0 120,-0 120,-6.45 125,-6.45 125,-9.68 130,-9.68 130,-3.23 135,-3.23 135,-0 140,-0 140,-0 145,-0 145,-3.23 150,-3.23 150,-3.23 155,-3.23 155,-0 160,-0 160,-0 165,-0 165,-0 170,-0 170,-0 175,-0 175,-0 180,-0 180,-0 185,-0 185,-0 190,-0 190,-0 195,-0 195,-0 200,-0 200,-0 205,-0 205,-3.23 210,-3.23 210,-0 215,-0 215,-0 220,-0 220,-0 225,-0 225,-0 230,-0 230,-0 235,-0 235,-0 240,-0 240,-0 245,-0 245,-0 250,-0 250,0\" style=\"fill:none; stroke:currentColor;\"/>\n",
       "</svg>\n",
       "</div>\n",
       "<div style=\"flex=grow:1;\">\n",
       "Regular(50, 0, 250, label='Axis 0')<br/>\n",
       "<hr style=\"margin-top:.2em; margin-bottom:.2em;\"/>\n",
       "Double() Σ=1211250.3155999999\n",
       "\n",
       "</div>\n",
       "</div>\n",
       "</html>"
      ],
      "text/plain": [
       "Hist(Regular(50, 0, 250, label='Axis 0'), storage=Double()) # Sum: 1211250.3155999999"
      ]
     },
     "execution_count": 83,
     "metadata": {},
     "output_type": "execute_result"
    }
   ],
   "source": [
    "non_res_Z_hist"
   ]
  },
  {
   "cell_type": "code",
   "execution_count": 84,
   "id": "96c21654-b7c9-41b7-8ec6-f67ca7d65288",
   "metadata": {},
   "outputs": [
    {
     "data": {
      "text/html": [
       "<html>\n",
       "<div style=\"display:flex; align-items:center;\">\n",
       "<div style=\"width:290px;\">\n",
       "<svg xmlns=\"http://www.w3.org/2000/svg\" viewBox=\"-10 -105 270 120\">\n",
       "<line x1=\"-5\" y1=\"0\" x2=\"255\" y2=\"0\" style=\"fill:none;stroke-width:2;stroke:currentColor\"/>\n",
       "<text text-anchor=\"middle\" x=\"0\" y=\"15\" style=\"fill:currentColor;\">\n",
       "0\n",
       "</text>\n",
       "<text text-anchor=\"middle\" x=\"250\" y=\"15\" style=\"fill:currentColor;\">\n",
       "250\n",
       "</text>\n",
       "<text text-anchor=\"middle\" x=\"125.0\" y=\"15\" style=\"fill:currentColor;\">\n",
       "Axis 0\n",
       "</text>\n",
       "<polyline points=\"  0,0   0,-0   5,-0   5,-0  10,-0  10,-0  15,-0  15,-0  20,-0  20,-3.7  25,-3.7  25,-1.23  30,-1.23  30,-2.47  35,-2.47  35,-0  40,-0  40,-0  45,-0  45,-3.7  50,-3.7  50,-2.47  55,-2.47  55,-0  60,-0  60,-0  65,-0  65,-2.47  70,-2.47  70,-1.23  75,-1.23  75,-1.23  80,-1.23  80,-2.47  85,-2.47  85,-3.7  90,-3.7  90,-2.47  95,-2.47  95,-4.94 100,-4.94 100,-4.94 105,-4.94 105,-1.23 110,-1.23 110,-0 115,-0 115,-9.88 120,-9.88 120,-4.94 125,-4.94 125,-1.23 130,-1.23 130,-4.94 135,-4.94 135,-2.47 140,-2.47 140,-4.94 145,-4.94 145,-0 150,-0 150,-0 155,-0 155,-1.23 160,-1.23 160,-2.47 165,-2.47 165,-0 170,-0 170,-2.47 175,-2.47 175,-2.47 180,-2.47 180,-1.23 185,-1.23 185,-1.23 190,-1.23 190,-1.23 195,-1.23 195,-1.23 200,-1.23 200,-2.47 205,-2.47 205,-2.47 210,-2.47 210,-3.7 215,-3.7 215,-7.41 220,-7.41 220,-12.3 225,-12.3 225,-14.8 230,-14.8 230,-7.41 235,-7.41 235,-100 240,-100 240,-32.1 245,-32.1 245,-0 250,-0 250,0\" style=\"fill:none; stroke:currentColor;\"/>\n",
       "</svg>\n",
       "</div>\n",
       "<div style=\"flex=grow:1;\">\n",
       "Regular(50, 0, 250, label='Axis 0')<br/>\n",
       "<hr style=\"margin-top:.2em; margin-bottom:.2em;\"/>\n",
       "Double() Σ=1211250.3155999999\n",
       "\n",
       "</div>\n",
       "</div>\n",
       "</html>"
      ],
      "text/plain": [
       "Hist(Regular(50, 0, 250, label='Axis 0'), storage=Double()) # Sum: 1211250.3155999999"
      ]
     },
     "execution_count": 84,
     "metadata": {},
     "output_type": "execute_result"
    }
   ],
   "source": [
    "four_muon_mass_hist"
   ]
  },
  {
   "cell_type": "code",
   "execution_count": null,
   "id": "a490218c-07cc-4cef-a4a7-4fbf5840eae1",
   "metadata": {},
   "outputs": [],
   "source": []
  }
 ],
 "metadata": {
  "kernelspec": {
   "display_name": "Python 3 (ipykernel)",
   "language": "python",
   "name": "python3"
  },
  "language_info": {
   "codemirror_mode": {
    "name": "ipython",
    "version": 3
   },
   "file_extension": ".py",
   "mimetype": "text/x-python",
   "name": "python",
   "nbconvert_exporter": "python",
   "pygments_lexer": "ipython3",
   "version": "3.12.10"
  }
 },
 "nbformat": 4,
 "nbformat_minor": 5
}
