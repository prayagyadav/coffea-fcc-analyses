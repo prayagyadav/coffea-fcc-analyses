{
 "cells": [
  {
   "cell_type": "markdown",
   "id": "304aad23-9755-4ded-80b8-9f1e2d983ad1",
   "metadata": {},
   "source": [
    "# 4LEPTONS"
   ]
  },
  {
   "cell_type": "markdown",
   "id": "d63075ae-0632-4529-bcbe-f565837469e7",
   "metadata": {},
   "source": [
    "## Setup"
   ]
  },
  {
   "cell_type": "code",
   "execution_count": 1,
   "id": "82852301-d62c-468c-a794-7724aa83f532",
   "metadata": {},
   "outputs": [
    {
     "name": "stdout",
     "output_type": "stream",
     "text": [
      "LOCAL_DIR set to: /home/prayag/coffeafcc/coffea-fcc-analyses\n",
      "PYTHONPATH now includes: /home/prayag/coffeafcc/coffea-fcc-analyses/scripts\n",
      "LD_LIBRARY_PATH now includes: /home/prayag/coffeafcc/development/fcc-dev/lib64/python3.12/site-packages/fastjet/_fastjet_core/lib\n"
     ]
    }
   ],
   "source": [
    "# Custom setup for jupyter environments like jupyterhub\n",
    "\n",
    "import os\n",
    "import sys\n",
    "import subprocess\n",
    "\n",
    "# Equivalent of determining the location of the setup script\n",
    "LOCAL_DIR = os.path.dirname(os.path.abspath(\"../../../\"))\n",
    "os.environ[\"LOCAL_DIR\"] = LOCAL_DIR\n",
    "\n",
    "# Add scripts directory to PYTHONPATH\n",
    "scripts_path = os.path.join(LOCAL_DIR, \"scripts\")\n",
    "if scripts_path not in sys.path:\n",
    "    sys.path.insert(0, scripts_path)\n",
    "\n",
    "# Set PYTHONPATH environment variable\n",
    "if \"PYTHONPATH\" in os.environ:\n",
    "    os.environ[\"PYTHONPATH\"] = f\"{scripts_path}:{os.environ['PYTHONPATH']}\"\n",
    "else:\n",
    "    os.environ[\"PYTHONPATH\"] = scripts_path\n",
    "\n",
    "\n",
    "cmd = \"python3 -c 'import fastjet; print(fastjet.__path__[0])'\"\n",
    "fastjet_path = subprocess.check_output(cmd, shell=True).decode().strip()\n",
    "fastjet_lib_path = os.path.join(fastjet_path, \"_fastjet_core/lib\")\n",
    "\n",
    "# Update LD_LIBRARY_PATH\n",
    "if \"LD_LIBRARY_PATH\" in os.environ:\n",
    "    os.environ[\"LD_LIBRARY_PATH\"] = f\"{os.environ['LD_LIBRARY_PATH']}:{fastjet_lib_path}\"\n",
    "else:\n",
    "    os.environ[\"LD_LIBRARY_PATH\"] = fastjet_lib_path\n",
    "\n",
    "print(f\"LOCAL_DIR set to: {os.environ['LOCAL_DIR']}\")\n",
    "print(f\"PYTHONPATH now includes: {os.environ.get('PYTHONPATH', '')}\")\n",
    "print(f\"LD_LIBRARY_PATH now includes: {os.environ.get('LD_LIBRARY_PATH', '')}\")"
   ]
  },
  {
   "cell_type": "markdown",
   "id": "3daf4c71-2a52-41e3-b908-2e7f135378ee",
   "metadata": {},
   "source": [
    "## Configuration"
   ]
  },
  {
   "cell_type": "code",
   "execution_count": 2,
   "id": "c67dedab-e895-4a20-99fb-4cc5d3097993",
   "metadata": {
    "jupyter": {
     "source_hidden": true
    }
   },
   "outputs": [],
   "source": [
    "# %%writefile config.py\n",
    "# # =========================================================================================================================\n",
    "# # Configuration to run the analysis\n",
    "# # =========================================================================================================================\n",
    "# # Here the fields are filled with a simple example\n",
    "# # Fill them with your desired values and delete this line if needed.\n",
    "\n",
    "# #################\n",
    "# # Run Variables #\n",
    "# #################\n",
    "# process = {\n",
    "#     'collider':'FCCee',\n",
    "#     'campaign':'winter2023',\n",
    "#     'detector':'IDEA',\n",
    "#     'samples':[\n",
    "#         # Signal\n",
    "#         'wzp6_ee_qqH_HZZ_llll_ecm240',\n",
    "#         'wzp6_ee_nunuH_HZZ_ecm240',\n",
    "#         # Backgrounds\n",
    "#         'p8_ee_Zqq_ecm240',\n",
    "#         'p8_ee_ZZ_ecm240',\n",
    "#         'p8_ee_WW_ecm240',\n",
    "#         'wzp6_ee_tautauH_HWW_ecm240',\n",
    "#         'wzp6_ee_ccH_HWW_ecm240',\n",
    "#         'wzp6_ee_bbH_HWW_ecm240',\n",
    "#         'wzp6_ee_mumuH_HWW_ecm240',\n",
    "#         'wzp6_ee_mumuH_Hcc_ecm240',\n",
    "#         'wzp6_ee_mumuH_Hbb_ecm240',\n",
    "#         'wzp6_ee_mumuH_Hgg_ecm240',\n",
    "#         'wzp6_ee_mumuH_HZa_ecm240',\n",
    "#         ]\n",
    "# }\n",
    "# fraction = {\n",
    "#         # Signal\n",
    "#         'wzp6_ee_qqH_HZZ_llll_ecm240':0.01,\n",
    "#         'wzp6_ee_nunuH_HZZ_ecm240':0.01,\n",
    "#         # Backgrounds\n",
    "#         'p8_ee_Zqq_ecm240':0.01,\n",
    "#         'p8_ee_ZZ_ecm240':0.01,\n",
    "#         'p8_ee_WW_ecm240':0.01,\n",
    "#         'wzp6_ee_tautauH_HWW_ecm240':0.01,\n",
    "#         'wzp6_ee_ccH_HWW_ecm240':0.01,\n",
    "#         'wzp6_ee_bbH_HWW_ecm240':0.01,\n",
    "#         'wzp6_ee_mumuH_HWW_ecm240':0.01,\n",
    "#         'wzp6_ee_mumuH_Hcc_ecm240':0.01,\n",
    "#         'wzp6_ee_mumuH_Hbb_ecm240':0.01,\n",
    "#         'wzp6_ee_mumuH_Hgg_ecm240':0.01,\n",
    "#         'wzp6_ee_mumuH_HZa_ecm240':0.01,\n",
    "# }\n",
    "# ecm = 240.0 # #\\sqrt(s) in GeV\n",
    "# local_yaml_dict = \"../../filesets/\"\n",
    "# output_path = \"outputs\"\n",
    "# output_filename = \"4leptons\"\n",
    "# executor = \"dask\" # 'dask' is local and 'condor' is batch\n",
    "\n",
    "# use_schema = \"FCC\"\n",
    "# schema_version = \"latest\"\n",
    "\n",
    "# ###################\n",
    "# # Plot properties #\n",
    "# ###################\n",
    "# plots = {\n",
    "#     'selectedmuons_p':{'name':'selected_muons_p','title':'$\\\\mu_p$ [GeV]','xlabel':'$p_T$ [GeV]','ylabel':'Events','bins':250,'xmin':0,'xmax':250},\n",
    "\n",
    "#     'fourmuons_mass':{'name':'fourMuons_mass','title':'$M_{4\\\\mu}$ [GeV]','xlabel':'$Mass$ [GeV]','ylabel':'Events','bins':50,'xmin':0,'xmax':250},\n",
    "#     'fourmuons_pmin':{'name':'fourMuons_pmin','title':'$(P_{4\\\\mu})_{min}$ [GeV]','xlabel':'$p_{min}$ [GeV]','ylabel':'Events','bins':20,'xmin':0,'xmax':100},\n",
    "\n",
    "#     'Z_res_mass':{'name':'zll_mass','title':'On-shell $M_{\\\\mu\\\\mu}$ [GeV]','xlabel':'$Mass$ [GeV]','ylabel':'Events','bins':50,'xmin':0,'xmax':250},\n",
    "#     'Z_non_res_mass':{'name':'non_res_Z_m','title':'Off-shell $M_{\\\\mu\\\\mu}$ [GeV]','xlabel':'$Mass$ [GeV]','ylabel':'Events','bins':50,'xmin':0,'xmax':250},\n",
    "\n",
    "#     'vis_e_woMuons':{'name':'vis_e_other_particles','title':'Visible Energy excluding muons [GeV]','xlabel':'$E$ [GeV]','ylabel':'Events','bins':50,'xmin':0,'xmax':250},\n",
    "#     'iso_least_isolated_muon':{'name':'fourMuons_min_iso','title':'iso(least isolated muon)','xlabel':'iso','ylabel':'Events','bins':50,'xmin':0,'xmax':20},\n",
    "#     'missing_p':{'name':'pmiss','title':'missing p [GeV]','xlabel':'$p^{miss}$ [GeV]','ylabel':'Events','bins':50,'xmin':0,'xmax':250},\n",
    "#     'cos_theta_miss':{'name':'cosTheta_miss','title':'Cos(Theta_miss)','xlabel':'$cos_{miss}\\\\theta$','ylabel':'Events','bins':100,'xmin':0,'xmax':1},\n",
    "\n",
    "# }\n",
    "\n",
    "\n",
    "# #############\n",
    "# # Processor #\n",
    "# #############\n",
    "# processor_path = \"processor\"\n",
    "# processor_name = \"Fourleptons\"\n",
    "# processor_args = []\n",
    "# processor_kwargs = {}\n",
    "\n",
    "\n",
    "# ######################\n",
    "# # Plotting Variables #\n",
    "# ######################\n",
    "# selections = ['sel0','sel1','sel2','sel3','sel4','sel5','sel6']\n",
    "# stack = [True, False]\n",
    "# log = [True, False]\n",
    "# formats = ['png']\n",
    "# req_plots = ['selectedmuons_p','fourmuons_mass','fourmuons_pmin','Z_res_mass','Z_non_res_mass','vis_e_woMuons','iso_least_isolated_muon','missing_p','cos_theta_miss']\n",
    "# req_hists = {\n",
    "#         #Signal\n",
    "#         \"qqH_HZZ\":{\"type\":'Signal',\"datasets\":['wzp6_ee_qqH_HZZ_llll_ecm240'],\"color\":'red'},\n",
    "#         \"nunuH_HZZ\":{\"type\":'Signal',\"datasets\":['wzp6_ee_nunuH_HZZ_ecm240'],\"color\":'orange'},\n",
    "#         #Background\n",
    "#         \"ZZ\":{\"type\":'Background',\"datasets\":['p8_ee_ZZ_ecm240'],\"color\":'blue'},\n",
    "#         \"Zqq\":{\"type\":'Background',\"datasets\":['p8_ee_Zqq_ecm240'],\"color\":'yellow'},\n",
    "#         \"mumuH_Hjj\":{\"type\":'Background',\"datasets\":['wzp6_ee_mumuH_Hbb_ecm240','wzp6_ee_mumuH_Hcc_ecm240','wzp6_ee_mumuH_Hgg_ecm240',],\"color\":'cyan'},\n",
    "#         \"WW\":{\"type\":'Background',\"datasets\":['p8_ee_WW_ecm240'],\"color\":'gray'},\n",
    "#         \"HWW\":{\"type\":'Background',\"datasets\":['wzp6_ee_mumuH_HWW_ecm240','wzp6_ee_bbH_HWW_ecm240','wzp6_ee_tautauH_HWW_ecm240','wzp6_ee_ccH_HWW_ecm240'],\"color\":'teal'},\n",
    "#         \"mumuH_HZa\":{\"type\":'Background',\"datasets\":['wzp6_ee_mumuH_HZa_ecm240'],\"color\":'green'},\n",
    "        \n",
    "# }\n",
    "# cross_sections = {#in pb # Taken as is from FCC events catalogue at https://fcc-physics-events.web.cern.ch/FCCee/winter2023/Delphesevents_IDEA.php\n",
    "#                   # Signal\n",
    "#                   'wzp6_ee_qqH_HZZ_llll_ecm240':3.777e-5,\n",
    "#                   'wzp6_ee_nunuH_HZZ_ecm240':0.00122,\n",
    "#                   # Backgrounds\n",
    "#                   'p8_ee_Zqq_ecm240':52.6539,\n",
    "#                   'p8_ee_ZZ_ecm240':1.35899,\n",
    "#                   'p8_ee_WW_ecm240':16.4385,\n",
    "#                   'wzp6_ee_tautauH_HWW_ecm240':0.001453,\n",
    "#                   'wzp6_ee_ccH_HWW_ecm240':0.005023,\n",
    "#                   'wzp6_ee_bbH_HWW_ecm240':0.00645,\n",
    "#                   'wzp6_ee_mumuH_HWW_ecm240':0.001456,\n",
    "#                   'wzp6_ee_mumuH_Hcc_ecm240':0.0001956,\n",
    "#                   'wzp6_ee_mumuH_Hbb_ecm240':0.00394,\n",
    "#                   'wzp6_ee_mumuH_Hgg_ecm240':0.0005538,\n",
    "#                   'wzp6_ee_mumuH_HZa_ecm240':1.037e-5,\n",
    "#                   }\n",
    "# input_path     = output_path\n",
    "# plot_path      = 'outputs/plots/'\n",
    "# intLumi        = 10.80e+06 #in pb-1\n",
    "# ana_tex        = 'e^{+}e^{-} \\\\rightarrow ZH \\\\rightarrow 4\\\\mu+ X'\n",
    "# delphesVersion = '3.4.2'\n",
    "# energy         = ecm #in GeV\n",
    "# collider       = 'FCC-ee'\n",
    "\n",
    "# # Extra cosmetics\n",
    "# yield_table_scale = 0.7 # reduce font sizes in yield table by this factor, so that they fit in the figure area\n",
    "# legend_location = (0.64, 0.64) # Coordinate of the bottom left corner of the legend wrt to the plot area\n",
    "# FCC_text_location = (0.30,1.02) # Coordinate of the bottom left corner of the FCC text wrt to the plot area\n",
    "# Reverse_legend_labels = True # Reverse legend order without changing the stack order\n"
   ]
  },
  {
   "cell_type": "code",
   "execution_count": 3,
   "id": "f2ca1d27-ffd5-49d4-b739-d3f55fdbbf4f",
   "metadata": {},
   "outputs": [],
   "source": [
    "# %%writefile functions.py\n",
    "# # Helper functions\n",
    "# import awkward as ak\n",
    "# import numpy as np\n",
    "# import vector\n",
    "# vector.register_awkward()\n",
    "# # 1. To replace: FCCAnalyses::ZHfunctions::resonanceBuilder_mass(91.2,false)(selected_muons, MCRecoAssociations0, MCRecoAssociations1, ReconstructedParticles, Particle, Particle0, Particle1)\n",
    "# def resonanceBuilder_mass(resonance_mass=None, use_MC_Kinematics=False, leptons=None, MCRecoAssociations=None, ReconstructedParticles=None, MCParticles=None):\n",
    "#     '''\n",
    "#     Build the Z resonance based on the available leptons. Returns the best lepton pair compatible with the Z mass and recoil at 125 GeV\n",
    "#     technically, it returns a ReconstructedParticleData object with index 0 the di-lepton system, index and 2 the leptons of the pair\n",
    "#     '''\n",
    "#     if leptons is None:\n",
    "#         raise AttributeError(\"No leptons passed\")\n",
    "#     #Create all the combinations\n",
    "#     combs = ak.combinations(leptons,2)\n",
    "#     # Get dileptons\n",
    "#     lep1 , lep2 = ak.unzip(combs)\n",
    "#     di_lep = lep1 + lep2 # This process drops any other field except 4 momentum fields\n",
    "\n",
    "#     # di_lep = ak.zip({\"px\":di_lep.px,\"py\":di_lep.py,\"pz\":di_lep.pz,\"E\":di_lep.E,\"charge\":lep1.charge + lep2.charge}, with_name=\"Momentum4D\")\n",
    "#     di_lep[\"charge\"] =  lep1.charge + lep2.charge\n",
    "\n",
    "#     # Choose oppositely charged leptons\n",
    "#     di_lep = di_lep[di_lep.charge == 0]\n",
    "\n",
    "#     # Sort by closest mass to the resonance value\n",
    "#     sort_mask = ak.argsort(abs(resonance_mass-di_lep.mass), axis=1)\n",
    "#     Reso = di_lep[sort_mask]\n",
    "#     used_lep1 = lep1[sort_mask]\n",
    "#     used_lep2 = lep2[sort_mask]\n",
    "\n",
    "#     #Choose the best candidate\n",
    "#     Reso = ak.fill_none(Reso,[],axis=0) #Transform the None values at axis 0 to []\n",
    "#     used_lep1 = ak.fill_none(used_lep1, [], axis=0)\n",
    "#     used_lep2 = ak.fill_none(used_lep2, [], axis=0)\n",
    "    \n",
    "    \n",
    "#     return Reso, used_lep1, used_lep2\n",
    "\n",
    "# # 2. To replace: FCCAnalyses::ZHfunctions::getTwoHighestPMuons(rest_of_muons)\") # Find the higest p muon pair from the remaining muons (off-shell Z)\n",
    "# def getTwoHighestPMuons(muons):\n",
    "#     '''\n",
    "#     Sort by decending P and return the pair of particles with highest P and opposite charges\n",
    "#     '''\n",
    "#     if not ak.all(ak.num(ak.drop_none(muons), axis=1) > 1 ):\n",
    "#         raise IndexError(\"Need at least two particles!\")\n",
    "#     sorted_muons_p = ak.argsort(muons.p, ascending=False)\n",
    "#     sorted_muons = muons[sorted_muons_p]\n",
    "\n",
    "#     # First particle is always selected, if the second one has the opposite charge, then its accepted otherwise we move on to the third and so on\n",
    "#     # Interestingly, this type of operation is non trivial in an array format\n",
    "#     first_muon, other_muons = sorted_muons[:, 0], sorted_muons[:, 1:]\n",
    "#     # All combinations\n",
    "#     all_comb = ak.cartesian((first_muon, other_muons))\n",
    "#     l1, l2 = ak.unzip(all_comb)\n",
    "#     charge_mask = (l1.charge + l2.charge) == 0\n",
    "#     opp_comb = all_comb[charge_mask]\n",
    "#     # obtain the first one from here\n",
    "#     # but first make sure that at least one element is available\n",
    "#     masked_opp_comb = ak.mask(opp_comb, ak.num(opp_comb, axis=1) > 0)\n",
    "    \n",
    "    \n",
    "#     best_two_muons = masked_opp_comb[:, 0]\n",
    "#     return ak.unzip(best_two_muons)\n",
    "# # 3. To sum all the lorentz vectors in a an array of lorentzvectors\n",
    "# def sum_all(array_of_lv):\n",
    "#     array_of_lv = ak.drop_none(array_of_lv)\n",
    "    \n",
    "#     out = ak.zip(\n",
    "#         {\n",
    "#             \"px\":ak.sum(array_of_lv.px , axis=1),\n",
    "#             \"py\":ak.sum(array_of_lv.py , axis=1),\n",
    "#             \"pz\":ak.sum(array_of_lv.pz , axis=1),\n",
    "#             \"E\":ak.sum(array_of_lv.E , axis=1)\n",
    "#         },\n",
    "#         with_name=\"Momemtum4D\"\n",
    "#     )\n",
    "\n",
    "#     return out\n",
    "# # 4. To replace : FCCAnalyses::ZHfunctions::coneIsolation(0.0,0.523599)(fourMuons,rest_of_particles)\n",
    "# def coneIsolation(particle, rest_of_the_particles, min_dr=0 , max_dr=0.4):\n",
    "#     ''' Refer: https://github.com/delphes/delphes/blob/master/modules/Isolation.cc#L154\n",
    "#     '''\n",
    "#     neutral_particles = ak.mask(rest_of_the_particles, rest_of_the_particles.charge == 0)\n",
    "#     charged_particles = ak.mask(rest_of_the_particles, rest_of_the_particles.charge != 0)\n",
    "\n",
    "#     n_combs = ak.cartesian((particle,neutral_particles[:,np.newaxis]), axis=1)\n",
    "#     n1,n2 = ak.unzip(n_combs)\n",
    "#     c_combs = ak.cartesian((particle,charged_particles[:,np.newaxis]), axis=1)\n",
    "#     c1,c2 = ak.unzip(c_combs)\n",
    "\n",
    "#     n_angle = n1.deltaangle(n2)\n",
    "#     c_angle = c1.deltaangle(c2)\n",
    "\n",
    "#     n_angle_mask = (n_angle < max_dr) & (n_angle > min_dr)\n",
    "#     c_angle_mask = (c_angle < max_dr) & (c_angle > min_dr)\n",
    "\n",
    "#     filtered_neutral = n2[n_angle_mask]\n",
    "#     filtered_charged = c2[c_angle_mask]\n",
    "\n",
    "#     sumNeutral = ak.sum(filtered_neutral.p, axis=2)\n",
    "#     sumCharged = ak.sum(filtered_charged.p, axis=2)\n",
    "\n",
    "#     total_sum = sumNeutral + sumNeutral\n",
    "\n",
    "#     ratio = total_sum / particle.p\n",
    "    \n",
    "#     return ratio"
   ]
  },
  {
   "cell_type": "code",
   "execution_count": 4,
   "id": "51b2e14d-8f4f-41eb-8734-ae7f721df469",
   "metadata": {},
   "outputs": [],
   "source": [
    "from coffea import processor\n",
    "from coffea.analysis_tools import PackedSelection, Cutflow\n",
    "import awkward as ak\n",
    "import numpy as np\n",
    "import pandas as pd\n",
    "import dask_awkward as dak\n",
    "import hist.dask as hda\n",
    "from collections import namedtuple\n",
    "import hist\n",
    "import vector\n",
    "vector.register_awkward()\n",
    "import config\n",
    "import sys\n",
    "import os\n",
    "local_dir = os.environ['LOCAL_DIR']\n",
    "sys.path.append(local_dir)\n",
    "\n",
    "from scripts.analyzers.ReconstructedParticle import remove, recoilBuilder\n",
    "import functions\n",
    "\n",
    "plot_props = pd.DataFrame(config.plots)\n",
    "\n",
    "def get_1Dhist(name, var, flatten=False):\n",
    "    '''\n",
    "    name: eg. Zm\n",
    "    var: eg. variable containing array of mass of Z\n",
    "    flatten: If to flatten var before fill; True by default\n",
    "    Returns a histogram\n",
    "    '''\n",
    "    props = plot_props[name]\n",
    "    if flatten : var = dak.ravel(var) # Removes None values and all the nesting\n",
    "    var = var[~dak.is_none(var, axis=0)] # Remove None values only\n",
    "    return hda.Hist.new.Reg(props.bins, props.xmin, props.xmax).Double().fill(var)\n",
    "\n",
    "#################################\n",
    "#Begin the processor definition #\n",
    "#################################\n",
    "class Fourleptons(processor.ProcessorABC):\n",
    "    '''\n",
    "    Processor: Define actual calculations here\n",
    "    '''\n",
    "    def __init__(self, *args, **kwargs):\n",
    "        pass\n",
    "\n",
    "    def process(self,events):\n",
    "\n",
    "        #Create a Packed Selection object to get a cutflow later\n",
    "        cut = PackedSelection()\n",
    "\n",
    "        # Main calculations\n",
    "        Muons = events.ReconstructedParticles[events.Muonidx0.index]\n",
    "        Muons[\"index\"] = events.Muonidx0.index # Attach the local index for easier calculations later\n",
    "        sel_muon = Muons.p > 2.0\n",
    "        selected_muons = ak.mask(Muons, sel_muon)\n",
    "\n",
    "        # Select events with at least 4 muons\n",
    "        at_least_4_muons = ak.num(ak.drop_none(selected_muons), axis=1) > 3\n",
    "        events_with_at_least_4_muons = ak.mask(events.ReconstructedParticles, at_least_4_muons)\n",
    "\n",
    "        selected_muons = ak.mask(selected_muons, at_least_4_muons)\n",
    "\n",
    "        # Build Z resonances\n",
    "        Z, l1, l2 = functions.resonanceBuilder_mass(resonance_mass=91.2, use_MC_Kinematics=False, leptons=selected_muons)\n",
    "\n",
    "        # On Shell Z\n",
    "        zll = ak.firsts(Z)\n",
    "        l1 = ak.firsts(l1)\n",
    "        l2 = ak.firsts(l2)\n",
    "\n",
    "        # Remove the used up muons from the muon list\n",
    "        on_shell_z_l1 = l1[:, np.newaxis]\n",
    "        on_shell_z_l2 = l2[:, np.newaxis]\n",
    "        l1_removed = selected_muons.index != on_shell_z_l1.index\n",
    "        l2_removed = selected_muons.index != on_shell_z_l2.index\n",
    "        rest_of_muons = selected_muons[l1_removed & l2_removed]\n",
    "\n",
    "        m1, m2 = functions.getTwoHighestPMuons(rest_of_muons)\n",
    "\n",
    "        non_res_Z = m1 + m2\n",
    "        # Angle between the two\n",
    "        non_res_Z_angle = m1.deltaangle(m2)\n",
    "\n",
    "        # Collect all the four Muons\n",
    "        fourMuons_collected = ak.concatenate(\n",
    "            (\n",
    "                l1[:, np.newaxis],\n",
    "                l2[:, np.newaxis],\n",
    "                m1[:, np.newaxis],\n",
    "                m2[:, np.newaxis]\n",
    "            ),\n",
    "            axis=1\n",
    "        )\n",
    "        fourMuons_collected = ak.mask(fourMuons_collected, ak.num(fourMuons_collected, axis=1) > 3)\n",
    "        fourMuons = zll + non_res_Z\n",
    "\n",
    "        fourMuons_pmin = ak.min(fourMuons_collected.p, axis=1)\n",
    "\n",
    "        # rest_of_particles = remove(events_with_at_least_4_muons, fourMuons_collected)\n",
    "        rest_of_particles = remove(events.ReconstructedParticles, fourMuons_collected)\n",
    "        all_others = sum_all(rest_of_particles)\n",
    "\n",
    "        Emiss = recoilBuilder(sum_all(events.ReconstructedParticles), ecm=config.ecm)\n",
    "        pmiss = Emiss.E\n",
    "\n",
    "        # Cone Isolation\n",
    "        fourMuons_iso = coneIsolation(fourMuons_collected, rest_of_particles, min_dr=0.0, max_dr=0.523599)\n",
    "        fourMuons_min_iso = ak.max(fourMuons_iso, axis=1)\n",
    "\n",
    "        #Placeholder\n",
    "        E = events.ReconstructedParticles.E\n",
    "\n",
    "        # Define individual cuts\n",
    "        cut.add('No cut', ak.all(E > 0, axis=1))\n",
    "        cut.add('cut1', ak.all(E > 0, axis=1))\n",
    "        cut.add('cut2', ak.all(E > 0, axis=1))\n",
    "        cut.add('cut3', ak.all(E > 0, axis=1))\n",
    "        cut.add('cut4', ak.all(E > 0, axis=1))\n",
    "        cut.add('cut5', ak.all(E > 0, axis=1))\n",
    "        cut.add('cut6', ak.all(E > 0, axis=1))\n",
    "        cut.add('at_least_4_muons', at_least_4_muons)\n",
    "\n",
    "\n",
    "        # Selections: A collection of cuts (event selections)\n",
    "        sel = {}\n",
    "        sel[0] = ['No cut']\n",
    "        sel[1] = ['No cut','cut1']\n",
    "        sel[2] = ['No cut','cut1','cut2']\n",
    "        sel[3] = ['No cut','cut1','cut2','cut3']\n",
    "        sel[4] = ['No cut','cut1','cut2','cut3','cut4']\n",
    "        sel[5] = ['No cut','cut1','cut2','cut3','cut4','cut5']\n",
    "        sel[6] = ['No cut','cut1','cut2','cut3','cut4','cut5','cut6']\n",
    "\n",
    "        # Get cutflow hists\n",
    "        sel_ocl = {key:cut.cutflow(*val).yieldhist() for key,val in sel.items()}\n",
    "\n",
    "        # Apply the selection to the relevant variables\n",
    "        vars_sel = {}\n",
    "        for key,selections in sel.items():\n",
    "            vars_sel[key] = {\n",
    "                'selectedmuons_p':selected_muons.p[cut.all(*selections)],\n",
    "                'fourmuons_mass':fourMuons.m[cut.all(*selections)],\n",
    "                'fourmuons_pmin':fourMuons_pmin[cut.all(*selections)],\n",
    "                'Z_res_mass':zll.m[cut.all(*selections)],\n",
    "                'Z_non_res_mass':non_res_Z.m[cut.all(*selections)],\n",
    "                'vis_e_woMuons':all_others.E[cut.all(*selections)],\n",
    "                'iso_least_isolated_muon':fourMuons_min_iso[cut.all(*selections)],\n",
    "                'missing_p':pmiss[cut.all(*selections)],\n",
    "                'cos_theta_miss':Emiss.theta[cut.all(*selections)],\n",
    "            }\n",
    "\n",
    "\n",
    "        #Prepare output\n",
    "        Output = {\n",
    "            'histograms': {\n",
    "                'sel0':{name:get_1Dhist(name,var,flatten=True) for name,var in vars_sel[0].items()},\n",
    "                'sel1':{name:get_1Dhist(name,var,flatten=True) for name,var in vars_sel[1].items()},\n",
    "                'sel2':{name:get_1Dhist(name,var,flatten=True) for name,var in vars_sel[2].items()},\n",
    "                'sel3':{name:get_1Dhist(name,var,flatten=True) for name,var in vars_sel[3].items()},\n",
    "                'sel4':{name:get_1Dhist(name,var,flatten=True) for name,var in vars_sel[4].items()},\n",
    "                'sel5':{name:get_1Dhist(name,var,flatten=True) for name,var in vars_sel[5].items()},\n",
    "                'sel6':{name:get_1Dhist(name,var,flatten=True) for name,var in vars_sel[6].items()},\n",
    "            },\n",
    "            'cutflow': {\n",
    "                'sel0': {'Onecut':sel_ocl[0][0],'Cutflow':sel_ocl[0][1],'Labels':sel_ocl[0][2]},\n",
    "                'sel1': {'Onecut':sel_ocl[1][0],'Cutflow':sel_ocl[1][1],'Labels':sel_ocl[1][2]},\n",
    "                'sel2': {'Onecut':sel_ocl[2][0],'Cutflow':sel_ocl[2][1],'Labels':sel_ocl[2][2]},\n",
    "                'sel3': {'Onecut':sel_ocl[3][0],'Cutflow':sel_ocl[3][1],'Labels':sel_ocl[3][2]},\n",
    "                'sel4': {'Onecut':sel_ocl[4][0],'Cutflow':sel_ocl[4][1],'Labels':sel_ocl[4][2]},\n",
    "                'sel5': {'Onecut':sel_ocl[5][0],'Cutflow':sel_ocl[5][1],'Labels':sel_ocl[5][2]},\n",
    "                'sel6': {'Onecut':sel_ocl[6][0],'Cutflow':sel_ocl[6][1],'Labels':sel_ocl[6][2]},\n",
    "            }\n",
    "        }\n",
    "        return Output\n",
    "\n",
    "    def postprocess(self, accumulator):\n",
    "        pass"
   ]
  },
  {
   "cell_type": "code",
   "execution_count": 5,
   "id": "57cbf50c-d296-409a-831a-52c9ec8b6208",
   "metadata": {},
   "outputs": [],
   "source": [
    "# Custom Runner for Debugging\n",
    "import config\n",
    "\n",
    "subset_dataset = ['ZZ']\n",
    "run_dataset = {name:value for name,value in config.req_hists.items() if name in subset_dataset}\n",
    "\n",
    "# files = {\n",
    "#     \"ZZ\":{\n",
    "#         \"files\":{\n",
    "#             \"../../root_files/wzp6_ee_qqH_HZZ_llll_ecm240/events_153721891.root\":\"events\"\n",
    "#         }\n",
    "#     }\n",
    "# }\n",
    "\n",
    "# redirector = \"root://eospublic.cern.ch//\"\n",
    "redirector = \"../../../../data/\"\n",
    "\n",
    "files = {\n",
    "    \"wzp6_ee_qqH_HZZ_llll_ecm240\":{\n",
    "        \"files\":{\n",
    "            redirector+\"eos/experiment/fcc/ee/generation/DelphesEvents/winter2023/IDEA/wzp6_ee_qqH_HZZ_llll_ecm240/events_005041503.root\":\"events\"\n",
    "        }\n",
    "    },\n",
    "    \"wzp6_ee_nunuH_HZZ_ecm240\":{\n",
    "        \"files\":{\n",
    "            redirector+\"eos/experiment/fcc/ee/generation/DelphesEvents/winter2023/IDEA/wzp6_ee_nunuH_HZZ_ecm240/events_125829782.root\":\"events\"\n",
    "        }\n",
    "    },\n",
    "    \"p8_ee_Zqq_ecm240\":{\n",
    "        \"files\":{\n",
    "            redirector+\"eos/experiment/fcc/ee/generation/DelphesEvents/winter2023/IDEA/p8_ee_Zqq_ecm240/events_071359088.root\":\"events\",\n",
    "            redirector+\"eos/experiment/fcc/ee/generation/DelphesEvents/winter2023/IDEA/p8_ee_Zqq_ecm240/events_198516146.root\":\"events\",\n",
    "            redirector+\"eos/experiment/fcc/ee/generation/DelphesEvents/winter2023/IDEA/p8_ee_Zqq_ecm240/events_143896201.root\":\"events\",\n",
    "            redirector+\"eos/experiment/fcc/ee/generation/DelphesEvents/winter2023/IDEA/p8_ee_Zqq_ecm240/events_006774806.root\":\"events\",\n",
    "            redirector+\"eos/experiment/fcc/ee/generation/DelphesEvents/winter2023/IDEA/p8_ee_Zqq_ecm240/events_078176229.root\":\"events\",\n",
    "            redirector+\"eos/experiment/fcc/ee/generation/DelphesEvents/winter2023/IDEA/p8_ee_Zqq_ecm240/events_012033458.root\":\"events\",\n",
    "            redirector+\"eos/experiment/fcc/ee/generation/DelphesEvents/winter2023/IDEA/p8_ee_Zqq_ecm240/events_109546439.root\":\"events\",\n",
    "            redirector+\"eos/experiment/fcc/ee/generation/DelphesEvents/winter2023/IDEA/p8_ee_Zqq_ecm240/events_002474227.root\":\"events\",\n",
    "            redirector+\"eos/experiment/fcc/ee/generation/DelphesEvents/winter2023/IDEA/p8_ee_Zqq_ecm240/events_019688220.root\":\"events\",\n",
    "            redirector+\"eos/experiment/fcc/ee/generation/DelphesEvents/winter2023/IDEA/p8_ee_Zqq_ecm240/events_015551681.root\":\"events\"\n",
    "        }\n",
    "    },\n",
    "    \"p8_ee_ZZ_ecm240\":{\n",
    "        \"files\":{\n",
    "            redirector+\"eos/experiment/fcc/ee/generation/DelphesEvents/winter2023/IDEA/p8_ee_ZZ_ecm240/events_136205668.root\":\"events\",\n",
    "            redirector+\"eos/experiment/fcc/ee/generation/DelphesEvents/winter2023/IDEA/p8_ee_ZZ_ecm240/events_123306959.root\":\"events\",\n",
    "            redirector+\"eos/experiment/fcc/ee/generation/DelphesEvents/winter2023/IDEA/p8_ee_ZZ_ecm240/events_120540733.root\":\"events\",\n",
    "            redirector+\"eos/experiment/fcc/ee/generation/DelphesEvents/winter2023/IDEA/p8_ee_ZZ_ecm240/events_140312332.root\":\"events\",\n",
    "            redirector+\"eos/experiment/fcc/ee/generation/DelphesEvents/winter2023/IDEA/p8_ee_ZZ_ecm240/events_061458088.root\":\"events\",\n",
    "            redirector+\"eos/experiment/fcc/ee/generation/DelphesEvents/winter2023/IDEA/p8_ee_ZZ_ecm240/events_110402882.root\":\"events\",\n",
    "        }\n",
    "    },\n",
    "    \"p8_ee_WW_ecm240\":{\n",
    "        \"files\":{\n",
    "            redirector+\"eos/experiment/fcc/ee/generation/DelphesEvents/winter2023/IDEA/p8_ee_WW_ecm240/events_192501667.root\":\"events\",\n",
    "            redirector+\"eos/experiment/fcc/ee/generation/DelphesEvents/winter2023/IDEA/p8_ee_WW_ecm240/events_007894598.root\":\"events\",\n",
    "            redirector+\"eos/experiment/fcc/ee/generation/DelphesEvents/winter2023/IDEA/p8_ee_WW_ecm240/events_020415084.root\":\"events\",\n",
    "            redirector+\"eos/experiment/fcc/ee/generation/DelphesEvents/winter2023/IDEA/p8_ee_WW_ecm240/events_160970904.root\":\"events\",\n",
    "            redirector+\"eos/experiment/fcc/ee/generation/DelphesEvents/winter2023/IDEA/p8_ee_WW_ecm240/events_073282074.root\":\"events\",\n",
    "            redirector+\"eos/experiment/fcc/ee/generation/DelphesEvents/winter2023/IDEA/p8_ee_WW_ecm240/events_139735967.root\":\"events\",\n",
    "            redirector+\"eos/experiment/fcc/ee/generation/DelphesEvents/winter2023/IDEA/p8_ee_WW_ecm240/events_125634873.root\":\"events\",\n",
    "            redirector+\"eos/experiment/fcc/ee/generation/DelphesEvents/winter2023/IDEA/p8_ee_WW_ecm240/events_145109828.root\":\"events\",\n",
    "            redirector+\"eos/experiment/fcc/ee/generation/DelphesEvents/winter2023/IDEA/p8_ee_WW_ecm240/events_172018966.root\":\"events\",\n",
    "            redirector+\"eos/experiment/fcc/ee/generation/DelphesEvents/winter2023/IDEA/p8_ee_WW_ecm240/events_184100847.root\":\"events\",\n",
    "            redirector+\"eos/experiment/fcc/ee/generation/DelphesEvents/winter2023/IDEA/p8_ee_WW_ecm240/events_189099441.root\":\"events\",\n",
    "            redirector+\"eos/experiment/fcc/ee/generation/DelphesEvents/winter2023/IDEA/p8_ee_WW_ecm240/events_079516664.root\":\"events\",\n",
    "            redirector+\"eos/experiment/fcc/ee/generation/DelphesEvents/winter2023/IDEA/p8_ee_WW_ecm240/events_138832718.root\":\"events\",\n",
    "            redirector+\"eos/experiment/fcc/ee/generation/DelphesEvents/winter2023/IDEA/p8_ee_WW_ecm240/events_196817004.root\":\"events\",\n",
    "            redirector+\"eos/experiment/fcc/ee/generation/DelphesEvents/winter2023/IDEA/p8_ee_WW_ecm240/events_036143042.root\":\"events\",\n",
    "            redirector+\"eos/experiment/fcc/ee/generation/DelphesEvents/winter2023/IDEA/p8_ee_WW_ecm240/events_066297168.root\":\"events\",\n",
    "            redirector+\"eos/experiment/fcc/ee/generation/DelphesEvents/winter2023/IDEA/p8_ee_WW_ecm240/events_046295545.root\":\"events\",\n",
    "            redirector+\"eos/experiment/fcc/ee/generation/DelphesEvents/winter2023/IDEA/p8_ee_WW_ecm240/events_178789696.root\":\"events\",\n",
    "            redirector+\"eos/experiment/fcc/ee/generation/DelphesEvents/winter2023/IDEA/p8_ee_WW_ecm240/events_197172538.root\":\"events\",\n",
    "            redirector+\"eos/experiment/fcc/ee/generation/DelphesEvents/winter2023/IDEA/p8_ee_WW_ecm240/events_058755425.root\":\"events\",\n",
    "            redirector+\"eos/experiment/fcc/ee/generation/DelphesEvents/winter2023/IDEA/p8_ee_WW_ecm240/events_111450884.root\":\"events\",\n",
    "            redirector+\"eos/experiment/fcc/ee/generation/DelphesEvents/winter2023/IDEA/p8_ee_WW_ecm240/events_093318601.root\":\"events\",\n",
    "            redirector+\"eos/experiment/fcc/ee/generation/DelphesEvents/winter2023/IDEA/p8_ee_WW_ecm240/events_013331738.root\":\"events\",\n",
    "            redirector+\"eos/experiment/fcc/ee/generation/DelphesEvents/winter2023/IDEA/p8_ee_WW_ecm240/events_145727424.root\":\"events\",\n",
    "            redirector+\"eos/experiment/fcc/ee/generation/DelphesEvents/winter2023/IDEA/p8_ee_WW_ecm240/events_181772956.root\":\"events\",\n",
    "            redirector+\"eos/experiment/fcc/ee/generation/DelphesEvents/winter2023/IDEA/p8_ee_WW_ecm240/events_090973171.root\":\"events\",\n",
    "            redirector+\"eos/experiment/fcc/ee/generation/DelphesEvents/winter2023/IDEA/p8_ee_WW_ecm240/events_013376980.root\":\"events\",\n",
    "            redirector+\"eos/experiment/fcc/ee/generation/DelphesEvents/winter2023/IDEA/p8_ee_WW_ecm240/events_113330458.root\":\"events\",\n",
    "            redirector+\"eos/experiment/fcc/ee/generation/DelphesEvents/winter2023/IDEA/p8_ee_WW_ecm240/events_004337014.root\":\"events\",\n",
    "            redirector+\"eos/experiment/fcc/ee/generation/DelphesEvents/winter2023/IDEA/p8_ee_WW_ecm240/events_069636724.root\":\"events\",\n",
    "            redirector+\"eos/experiment/fcc/ee/generation/DelphesEvents/winter2023/IDEA/p8_ee_WW_ecm240/events_057526943.root\":\"events\",\n",
    "            redirector+\"eos/experiment/fcc/ee/generation/DelphesEvents/winter2023/IDEA/p8_ee_WW_ecm240/events_088392846.root\":\"events\",\n",
    "            redirector+\"eos/experiment/fcc/ee/generation/DelphesEvents/winter2023/IDEA/p8_ee_WW_ecm240/events_179500875.root\":\"events\",\n",
    "            redirector+\"eos/experiment/fcc/ee/generation/DelphesEvents/winter2023/IDEA/p8_ee_WW_ecm240/events_159107063.root\":\"events\",\n",
    "            redirector+\"eos/experiment/fcc/ee/generation/DelphesEvents/winter2023/IDEA/p8_ee_WW_ecm240/events_080759007.root\":\"events\",\n",
    "            redirector+\"eos/experiment/fcc/ee/generation/DelphesEvents/winter2023/IDEA/p8_ee_WW_ecm240/events_042241038.root\":\"events\",\n",
    "            redirector+\"eos/experiment/fcc/ee/generation/DelphesEvents/winter2023/IDEA/p8_ee_WW_ecm240/events_197100271.root\":\"events\",\n",
    "            redirector+\"eos/experiment/fcc/ee/generation/DelphesEvents/winter2023/IDEA/p8_ee_WW_ecm240/events_128936910.root\":\"events\"\n",
    "        }\n",
    "    },\n",
    "    \"wzp6_ee_tautauH_HWW_ecm240\":{\n",
    "        \"files\":{\n",
    "            redirector+\"eos/experiment/fcc/ee/generation/DelphesEvents/winter2023/IDEA/wzp6_ee_tautauH_HWW_ecm240/events_158197636.root\":\"events\"\n",
    "        }\n",
    "    },\n",
    "    \"wzp6_ee_ccH_HWW_ecm240\":{\n",
    "        \"files\":{\n",
    "            redirector+\"eos/experiment/fcc/ee/generation/DelphesEvents/winter2023/IDEA/wzp6_ee_ccH_HWW_ecm240/events_135308188.root\":\"events\"\n",
    "        }\n",
    "    },\n",
    "    \"wzp6_ee_bbH_HWW_ecm240\":{\n",
    "        \"files\":{\n",
    "            redirector+\"eos/experiment/fcc/ee/generation/DelphesEvents/winter2023/IDEA/wzp6_ee_bbH_HWW_ecm240/events_021005740.root\":\"events\"\n",
    "        }\n",
    "    },\n",
    "    \"wzp6_ee_mumuH_HWW_ecm240\":{\n",
    "        \"files\":{\n",
    "            redirector+\"eos/experiment/fcc/ee/generation/DelphesEvents/winter2023/IDEA/wzp6_ee_mumuH_HWW_ecm240/events_071220024.root\":\"events\"\n",
    "        }\n",
    "    },\n",
    "    \"wzp6_ee_mumuH_Hcc_ecm240\":{\n",
    "        \"files\":{\n",
    "            redirector+\"eos/experiment/fcc/ee/generation/DelphesEvents/winter2023/IDEA/wzp6_ee_mumuH_Hcc_ecm240/events_189916518.root\":\"events\"\n",
    "        }\n",
    "    },\n",
    "    \"wzp6_ee_mumuH_Hbb_ecm240\":{\n",
    "        \"files\":{\n",
    "            redirector+\"eos/experiment/fcc/ee/generation/DelphesEvents/winter2023/IDEA/wzp6_ee_mumuH_Hbb_ecm240/events_159112833.root\":\"events\"\n",
    "        }\n",
    "    },\n",
    "    \"wzp6_ee_mumuH_Hgg_ecm240\":{\n",
    "        \"files\":{\n",
    "            redirector+\"eos/experiment/fcc/ee/generation/DelphesEvents/winter2023/IDEA/wzp6_ee_mumuH_Hgg_ecm240/events_076993011.root\":\"events\"\n",
    "        }\n",
    "    },\n",
    "    \"wzp6_ee_mumuH_HZa_ecm240\":{\n",
    "        \"files\":{\n",
    "            redirector+\"eos/experiment/fcc/ee/generation/DelphesEvents/winter2023/IDEA/wzp6_ee_mumuH_HZa_ecm240/events_190924913.root\":\"events\"\n",
    "        }\n",
    "    },\n",
    "}\n"
   ]
  },
  {
   "cell_type": "code",
   "execution_count": 6,
   "id": "aa566689-85c2-4525-aacd-25211aa36fc7",
   "metadata": {},
   "outputs": [
    {
     "name": "stderr",
     "output_type": "stream",
     "text": [
      "/home/prayag/coffeafcc/development/coffea/src/coffea/nanoevents/schemas/edm4hep.py:7: FutureWarning: In version 2025.1.0 (target date: 2024-12-31 11:59:59-06:00), this will be an error.\n",
      "To raise these warnings as errors (and get stack traces to find out where they're called), run\n",
      "    import warnings\n",
      "    warnings.filterwarnings(\"error\", module=\"coffea.*\")\n",
      "after the first `import coffea` or use `@pytest.mark.filterwarnings(\"error:::coffea.*\")` in pytest.\n",
      "Issue: coffea.nanoevents.methods.vector will be removed and replaced with scikit-hep vector. Nanoevents schemas internal to coffea will be migrated. Otherwise please consider using that package!.\n",
      "  from coffea.nanoevents.methods import vector\n"
     ]
    }
   ],
   "source": [
    "from coffea.nanoevents import BaseSchema\n",
    "from coffea.nanoevents import FCC\n",
    "import numpy as np\n",
    "from coffea.dataset_tools import apply_to_fileset,max_chunks,preprocess\n",
    "import dask\n",
    "from dask.diagnostics import ProgressBar\n",
    "pgb = ProgressBar()\n",
    "pgb.register()"
   ]
  },
  {
   "cell_type": "code",
   "execution_count": 7,
   "id": "544865e6-b36d-4a37-a26f-f3dbbe848a1a",
   "metadata": {
    "jupyter": {
     "source_hidden": true
    }
   },
   "outputs": [
    {
     "name": "stdout",
     "output_type": "stream",
     "text": [
      "[########################################] | 100% Completed | 101.90 ms\n",
      "[########################################] | 100% Completed | 8.05 ss\n"
     ]
    }
   ],
   "source": [
    "dataset_runnable, dataset_updated = preprocess(\n",
    "    files,\n",
    "    align_clusters=False,\n",
    "    step_size=5_000,\n",
    "    files_per_batch=1,\n",
    "    skip_bad_files=True,\n",
    "    save_form=False,\n",
    ")"
   ]
  },
  {
   "cell_type": "code",
   "execution_count": 8,
   "id": "2836595d-8396-40f5-8bf0-d0bb8e295c99",
   "metadata": {},
   "outputs": [
    {
     "name": "stderr",
     "output_type": "stream",
     "text": [
      "/home/prayag/coffeafcc/development/coffea/src/coffea/util.py:224: UserWarning: Skipping _intMap as it is not interpretable by Uproot\n",
      "  warnings.warn(\n",
      "/home/prayag/coffeafcc/development/coffea/src/coffea/util.py:232: UserWarning: Skipping _intMap.first as it is not interpretable by Uproot\n",
      "  warnings.warn(\n",
      "/home/prayag/coffeafcc/development/coffea/src/coffea/util.py:232: UserWarning: Skipping _intMap.second as it is not interpretable by Uproot\n",
      "  warnings.warn(\n",
      "/home/prayag/coffeafcc/development/coffea/src/coffea/util.py:224: UserWarning: Skipping _floatMap as it is not interpretable by Uproot\n",
      "  warnings.warn(\n",
      "/home/prayag/coffeafcc/development/coffea/src/coffea/util.py:232: UserWarning: Skipping _floatMap.first as it is not interpretable by Uproot\n",
      "  warnings.warn(\n",
      "/home/prayag/coffeafcc/development/coffea/src/coffea/util.py:232: UserWarning: Skipping _floatMap.second as it is not interpretable by Uproot\n",
      "  warnings.warn(\n",
      "/home/prayag/coffeafcc/development/coffea/src/coffea/util.py:224: UserWarning: Skipping _stringMap as it is not interpretable by Uproot\n",
      "  warnings.warn(\n",
      "/home/prayag/coffeafcc/development/coffea/src/coffea/util.py:232: UserWarning: Skipping _stringMap.first as it is not interpretable by Uproot\n",
      "  warnings.warn(\n",
      "/home/prayag/coffeafcc/development/coffea/src/coffea/util.py:232: UserWarning: Skipping _stringMap.second as it is not interpretable by Uproot\n",
      "  warnings.warn(\n"
     ]
    }
   ],
   "source": [
    "to_compute = apply_to_fileset(\n",
    "    Fourleptons(),\n",
    "    dataset_runnable,\n",
    "    # schemaclass=FCC.get_schema(\"latest\"),\n",
    "    schemaclass=FCC.get_schema(\"pre-edm4hep1\"),\n",
    "    uproot_options={\"filter_name\": lambda x : \"PARAMETERS\" not in x}\n",
    ")"
   ]
  },
  {
   "cell_type": "code",
   "execution_count": 9,
   "id": "fee42c25-3923-4386-adac-d68d97f44af6",
   "metadata": {},
   "outputs": [
    {
     "name": "stdout",
     "output_type": "stream",
     "text": [
      "[########################################] | 100% Completed | 7.69 ss\n",
      "[########################################] | 100% Completed | 19m 24s\n"
     ]
    }
   ],
   "source": [
    "with pgb:\n",
    "    computed = dask.compute(to_compute)\n",
    "(Out,) = computed"
   ]
  },
  {
   "cell_type": "code",
   "execution_count": 21,
   "id": "98ec89ca-1092-4a63-a62e-5fea9ed44bd6",
   "metadata": {},
   "outputs": [],
   "source": [
    "from collections import defaultdict\n",
    "from numbers import Number\n",
    "\n",
    "def accumulate(dicts):\n",
    "    \"\"\"\n",
    "    Recursively merges a list of dictionaries, supporting:\n",
    "    - Numeric summation\n",
    "    - List concatenation\n",
    "    - Set union\n",
    "    - Histogram addition (from `hist`)\n",
    "    - Nested dictionaries\n",
    "    - Key exceptions (preserve first)\n",
    "    \"\"\"\n",
    "    try:\n",
    "        from hist import Hist\n",
    "    except ImportError:\n",
    "        Hist = None  # Skip if hist is not available\n",
    "\n",
    "    exception_list = {'Labels'}\n",
    "    grouped = defaultdict(list)\n",
    "\n",
    "    for d in dicts:\n",
    "        for k, v in d.items():\n",
    "            grouped[k].append(v)\n",
    "\n",
    "    outdict = {}\n",
    "\n",
    "    for key, values in grouped.items():\n",
    "        first = values[0]\n",
    "\n",
    "        if key in exception_list:\n",
    "            outdict[key] = first\n",
    "        elif all(isinstance(v, dict) for v in values):\n",
    "            outdict[key] = accumulate(values)\n",
    "        elif all(isinstance(v, list) for v in values):\n",
    "            outdict[key] = sum(values, [])  # concatenate\n",
    "        elif all(isinstance(v, set) for v in values):\n",
    "            result = set()\n",
    "            for v in values:\n",
    "                result |= v\n",
    "            outdict[key] = result\n",
    "        elif Hist and all(isinstance(v, Hist) for v in values):\n",
    "            total = values[0]\n",
    "            for v in values[1:]:\n",
    "                total += v\n",
    "            outdict[key] = total\n",
    "        elif all(isinstance(v, Number) for v in values):\n",
    "            outdict[key] = sum(values)\n",
    "        else:\n",
    "            # Mixed types or strings — keep the first\n",
    "            outdict[key] = first\n",
    "\n",
    "    return outdict\n",
    "def hist_sorter(preferred_order, unsorted_hists, unsorted_labels, unsorted_colors):\n",
    "    '''Custom histogram sorter to plot in histplot'''\n",
    "    sorted_hists, sorted_labels, sorted_colors = [], [], []\n",
    "    for l in preferred_order[::-1]:\n",
    "        pos = unsorted_labels.index(l)\n",
    "        sorted_hists.append(unsorted_hists[pos])\n",
    "        sorted_labels.append(unsorted_labels[pos])\n",
    "        sorted_colors.append(unsorted_colors[pos])\n",
    "\n",
    "    return sorted_hists, sorted_labels, sorted_colors\n"
   ]
  },
  {
   "cell_type": "code",
   "execution_count": 7,
   "id": "14501b53-ab8e-4199-a302-1878d50a2beb",
   "metadata": {},
   "outputs": [],
   "source": [
    "cross_sections = {#in pb # Taken as is from FCC events catalogue at https://fcc-physics-events.web.cern.ch/FCCee/winter2023/Delphesevents_IDEA.php\n",
    "                  # Signal\n",
    "                  'wzp6_ee_qqH_HZZ_llll_ecm240':3.777e-5,\n",
    "                  'wzp6_ee_nunuH_HZZ_ecm240':0.00122,\n",
    "                  # Backgrounds\n",
    "                  'p8_ee_Zqq_ecm240':52.6539,\n",
    "                  'p8_ee_ZZ_ecm240':1.35899,\n",
    "                  'p8_ee_WW_ecm240':16.4385,\n",
    "                  'wzp6_ee_tautauH_HWW_ecm240':0.001453,\n",
    "                  'wzp6_ee_ccH_HWW_ecm240':0.005023,\n",
    "                  'wzp6_ee_bbH_HWW_ecm240':0.00645,\n",
    "                  'wzp6_ee_mumuH_HWW_ecm240':0.001456,\n",
    "                  'wzp6_ee_mumuH_Hcc_ecm240':0.0001956,\n",
    "                  'wzp6_ee_mumuH_Hbb_ecm240':0.00394,\n",
    "                  'wzp6_ee_mumuH_Hgg_ecm240':0.0005538,\n",
    "                  'wzp6_ee_mumuH_HZa_ecm240':1.037e-5,\n",
    "                  }\n",
    "intLumi        = 10.80e+06 #in pb-1\n",
    "import copy\n",
    "def get_scaled_hist(output_from_processor, hist_key = ''):\n",
    "    out = copy.deepcopy(output_from_processor)\n",
    "    for key in output_from_processor.keys():\n",
    "        raw_mc = output_from_processor[key]['cutflow']['sel0']['Cutflow'][0]\n",
    "        scale_factor = intLumi*cross_sections[key] / raw_mc\n",
    "        out[key]['histograms']['sel0'][hist_key] *= scale_factor\n",
    "    return out"
   ]
  },
  {
   "cell_type": "code",
   "execution_count": 8,
   "id": "784aa245-07ee-4ccd-a366-f7a1060a0fdc",
   "metadata": {},
   "outputs": [],
   "source": [
    "# Scaled_Out[d]['histograms']['sel0']['Z_non_res_mass']"
   ]
  },
  {
   "cell_type": "code",
   "execution_count": 9,
   "id": "0460bf97-4a48-49df-bfba-f39e4b1448b7",
   "metadata": {},
   "outputs": [],
   "source": [
    "# which_hist = 'fourmuons_mass'\n",
    "# which_hist = 'Z_res_mass'\n",
    "which_hist = 'Z_non_res_mass'\n",
    "Scaled_Out = get_scaled_hist(Out, hist_key=which_hist)"
   ]
  },
  {
   "cell_type": "code",
   "execution_count": 10,
   "id": "7f47a9e6-4d26-423d-a36c-10ac6aff417e",
   "metadata": {},
   "outputs": [
    {
     "ename": "KeyError",
     "evalue": "'wzp6_ee_qqH_HZZ_llll_ecm240'",
     "output_type": "error",
     "traceback": [
      "\u001b[0;31m---------------------------------------------------------------------------\u001b[0m",
      "\u001b[0;31mKeyError\u001b[0m                                  Traceback (most recent call last)",
      "Cell \u001b[0;32mIn[10], line 7\u001b[0m\n\u001b[1;32m      5\u001b[0m hists \u001b[38;5;241m=\u001b[39m []\n\u001b[1;32m      6\u001b[0m \u001b[38;5;28;01mfor\u001b[39;00m d \u001b[38;5;129;01min\u001b[39;00m config\u001b[38;5;241m.\u001b[39mreq_hists[sample][\u001b[38;5;124m'\u001b[39m\u001b[38;5;124mdatasets\u001b[39m\u001b[38;5;124m'\u001b[39m]:\n\u001b[0;32m----> 7\u001b[0m     hists\u001b[38;5;241m.\u001b[39mappend(\u001b[43mScaled_Out\u001b[49m\u001b[43m[\u001b[49m\u001b[43md\u001b[49m\u001b[43m]\u001b[49m[\u001b[38;5;124m'\u001b[39m\u001b[38;5;124mhistograms\u001b[39m\u001b[38;5;124m'\u001b[39m][\u001b[38;5;124m'\u001b[39m\u001b[38;5;124msel0\u001b[39m\u001b[38;5;124m'\u001b[39m][which_hist])\n\u001b[1;32m      8\u001b[0m hists_to_plot\u001b[38;5;241m.\u001b[39mappend(\u001b[38;5;28msum\u001b[39m(hists))\n\u001b[1;32m      9\u001b[0m labels\u001b[38;5;241m.\u001b[39mappend(sample)\n",
      "\u001b[0;31mKeyError\u001b[0m: 'wzp6_ee_qqH_HZZ_llll_ecm240'"
     ]
    }
   ],
   "source": [
    "hists_to_plot = []\n",
    "labels = []\n",
    "colors = []\n",
    "for sample in config.req_hists.keys():\n",
    "    hists = []\n",
    "    for d in config.req_hists[sample]['datasets']:\n",
    "        hists.append(Scaled_Out[d]['histograms']['sel0'][which_hist])\n",
    "    hists_to_plot.append(sum(hists))\n",
    "    labels.append(sample)\n",
    "    colors.append(config.req_hists[sample]['color'])\n"
   ]
  },
  {
   "cell_type": "code",
   "execution_count": 68,
   "id": "9692dc02-d43c-4b95-9fb9-f49b1c6be24b",
   "metadata": {},
   "outputs": [],
   "source": [
    "order = ['ZZ', 'Zqq', 'mumuH_Hjj', 'WW', 'HWW', 'mumuH_HZa']\n",
    "h, l, c = hist_sorter(order, hists_to_plot, labels, colors)"
   ]
  },
  {
   "cell_type": "code",
   "execution_count": 69,
   "id": "bc97ebc3-5bd0-4b39-a329-a2231ed032a1",
   "metadata": {},
   "outputs": [
    {
     "data": {
      "text/plain": [
       "<matplotlib.legend.Legend at 0x7f7e462fcfe0>"
      ]
     },
     "execution_count": 69,
     "metadata": {},
     "output_type": "execute_result"
    },
    {
     "data": {
      "image/png": "[encoded data removed]",
      "text/plain": [
       "<Figure size 640x480 with 1 Axes>"
      ]
     },
     "metadata": {},
     "output_type": "display_data"
    }
   ],
   "source": [
    "import mplhep as hep\n",
    "import matplotlib.pyplot as plt\n",
    "fig, ax = plt.subplots()\n",
    "hep.histplot(\n",
    "    h,\n",
    "    label=l,\n",
    "    color=c,\n",
    "    histtype='fill',\n",
    "    stack=True,\n",
    "    ax = ax\n",
    ")\n",
    "ax.legend()"
   ]
  },
  {
   "cell_type": "code",
   "execution_count": 26,
   "id": "2729f412-8f1e-49e5-8782-02d4b29ea633",
   "metadata": {},
   "outputs": [
    {
     "name": "stdout",
     "output_type": "stream",
     "text": [
      "[########################################] | 100% Completed | 102.00 ms\n",
      "[########################################] | 100% Completed | 503.67 ms\n",
      "[########################################] | 100% Completed | 101.22 ms\n",
      "[########################################] | 100% Completed | 505.62 ms\n",
      "[########################################] | 100% Completed | 101.96 ms\n",
      "[########################################] | 100% Completed | 640.81 ms\n"
     ]
    }
   ],
   "source": [
    "m = non_res_Z.m.compute()\n",
    "n = zll.m.compute()\n",
    "f = (zll[c_mask] + non_res_Z).m.compute()"
   ]
  },
  {
   "cell_type": "code",
   "execution_count": 27,
   "id": "d4273103-52ff-4085-a361-5095059b8b55",
   "metadata": {},
   "outputs": [],
   "source": [
    "scale = cross_sections['p8_ee_ZZ_ecm240']*intLumi/100000"
   ]
  },
  {
   "cell_type": "code",
   "execution_count": 28,
   "id": "b1a15a1e-5fb1-4128-acae-11f2d4528af1",
   "metadata": {},
   "outputs": [],
   "source": [
    "res_Z_hist = hist.Hist.new.Regular(50,0,250).Double().fill(ak.drop_none(n))*scale\n",
    "non_res_Z_hist = hist.Hist.new.Regular(50,0,250).Double().fill(ak.drop_none(m))*scale\n",
    "four_muon_mass_hist = hist.Hist.new.Regular(50,0,250).Double().fill(ak.drop_none(f))*scale"
   ]
  },
  {
   "cell_type": "code",
   "execution_count": 29,
   "id": "91c6242b-1514-4fdb-82ab-2308ad8dd362",
   "metadata": {},
   "outputs": [
    {
     "data": {
      "text/html": [
       "<html>\n",
       "<div style=\"display:flex; align-items:center;\">\n",
       "<div style=\"width:290px;\">\n",
       "<svg xmlns=\"http://www.w3.org/2000/svg\" viewBox=\"-10 -105 270 120\">\n",
       "<line x1=\"-5\" y1=\"0\" x2=\"255\" y2=\"0\" style=\"fill:none;stroke-width:2;stroke:currentColor\"/>\n",
       "<text text-anchor=\"middle\" x=\"0\" y=\"15\" style=\"fill:currentColor;\">\n",
       "0\n",
       "</text>\n",
       "<text text-anchor=\"middle\" x=\"250\" y=\"15\" style=\"fill:currentColor;\">\n",
       "250\n",
       "</text>\n",
       "<text text-anchor=\"middle\" x=\"125.0\" y=\"15\" style=\"fill:currentColor;\">\n",
       "Axis 0\n",
       "</text>\n",
       "<polyline points=\"  0,0   0,-61.3   5,-61.3   5,-48.4  10,-48.4  10,-61.3  15,-61.3  15,-29  20,-29  20,-25.8  25,-25.8  25,-22.6  30,-22.6  30,-12.9  35,-12.9  35,-25.8  40,-25.8  40,-19.4  45,-19.4  45,-19.4  50,-19.4  50,-6.45  55,-6.45  55,-9.68  60,-9.68  60,-12.9  65,-12.9  65,-12.9  70,-12.9  70,-12.9  75,-12.9  75,-22.6  80,-22.6  80,-35.5  85,-35.5  85,-61.3  90,-61.3  90,-100  95,-100  95,-29 100,-29 100,-22.6 105,-22.6 105,-3.23 110,-3.23 110,-3.23 115,-3.23 115,-0 120,-0 120,-6.45 125,-6.45 125,-9.68 130,-9.68 130,-3.23 135,-3.23 135,-0 140,-0 140,-0 145,-0 145,-3.23 150,-3.23 150,-3.23 155,-3.23 155,-0 160,-0 160,-0 165,-0 165,-0 170,-0 170,-0 175,-0 175,-0 180,-0 180,-0 185,-0 185,-0 190,-0 190,-0 195,-0 195,-0 200,-0 200,-0 205,-0 205,-3.23 210,-3.23 210,-0 215,-0 215,-0 220,-0 220,-0 225,-0 225,-0 230,-0 230,-0 235,-0 235,-0 240,-0 240,-0 245,-0 245,-0 250,-0 250,0\" style=\"fill:none; stroke:currentColor;\"/>\n",
       "</svg>\n",
       "</div>\n",
       "<div style=\"flex=grow:1;\">\n",
       "Regular(50, 0, 250, label='Axis 0')<br/>\n",
       "<hr style=\"margin-top:.2em; margin-bottom:.2em;\"/>\n",
       "Double() Σ=31262.20596\n",
       "\n",
       "</div>\n",
       "</div>\n",
       "</html>"
      ],
      "text/plain": [
       "Hist(Regular(50, 0, 250, label='Axis 0'), storage=Double()) # Sum: 31262.20596"
      ]
     },
     "execution_count": 29,
     "metadata": {},
     "output_type": "execute_result"
    }
   ],
   "source": [
    "non_res_Z_hist"
   ]
  },
  {
   "cell_type": "code",
   "execution_count": 30,
   "id": "eff1d0fe-22d8-4e32-81f9-187daf664f44",
   "metadata": {},
   "outputs": [
    {
     "data": {
      "text/plain": [
       "[StairsArtists(stairs=<matplotlib.patches.StepPatch object at 0x7f65da804740>, errorbar=None, legend_artist=None)]"
      ]
     },
     "execution_count": 30,
     "metadata": {},
     "output_type": "execute_result"
    },
    {
     "data": {
      "image/png": "[encoded data removed]",
      "text/plain": [
       "<Figure size 640x480 with 1 Axes>"
      ]
     },
     "metadata": {},
     "output_type": "display_data"
    }
   ],
   "source": [
    "res_Z_hist.plot()"
   ]
  },
  {
   "cell_type": "code",
   "execution_count": 31,
   "id": "67f7f2b9-6ec1-4911-90d7-cd9a6ff0d715",
   "metadata": {},
   "outputs": [
    {
     "data": {
      "text/plain": [
       "[StairsArtists(stairs=<matplotlib.patches.StepPatch object at 0x7f65da62b860>, errorbar=None, legend_artist=None)]"
      ]
     },
     "execution_count": 31,
     "metadata": {},
     "output_type": "execute_result"
    },
    {
     "data": {
      "image/png": "[encoded data removed]",
      "text/plain": [
       "<Figure size 640x480 with 1 Axes>"
      ]
     },
     "metadata": {},
     "output_type": "display_data"
    }
   ],
   "source": [
    "non_res_Z_hist.plot()"
   ]
  },
  {
   "cell_type": "code",
   "execution_count": 32,
   "id": "0f85fda9-2221-4e63-bd9b-ba5add5c620d",
   "metadata": {},
   "outputs": [
    {
     "data": {
      "text/plain": [
       "[StairsArtists(stairs=<matplotlib.patches.StepPatch object at 0x7f65da657290>, errorbar=None, legend_artist=None)]"
      ]
     },
     "execution_count": 32,
     "metadata": {},
     "output_type": "execute_result"
    },
    {
     "data": {
      "image/png": "[encoded data removed]",
      "text/plain": [
       "<Figure size 640x480 with 1 Axes>"
      ]
     },
     "metadata": {},
     "output_type": "display_data"
    }
   ],
   "source": [
    "four_muon_mass_hist.plot()"
   ]
  },
  {
   "cell_type": "code",
   "execution_count": 33,
   "id": "1fcb190b-5fd0-49be-8c65-c6c5fa305e4f",
   "metadata": {},
   "outputs": [
    {
     "data": {
      "text/plain": [
       "['selected_muons_n',\n",
       " 'selected_muons_p',\n",
       " 'fourMuons_p',\n",
       " 'fourMuons_mass',\n",
       " 'zll_mass',\n",
       " 'non_res_Z_m',\n",
       " 'vis_e_other_particles',\n",
       " 'fourMuons_pmin',\n",
       " 'non_res_Z_angle',\n",
       " 'fourMuons_iso',\n",
       " 'fourMuons_min_iso',\n",
       " 'pmiss',\n",
       " 'cosTheta_miss']"
      ]
     },
     "execution_count": 33,
     "metadata": {},
     "output_type": "execute_result"
    }
   ],
   "source": [
    "import uproot\n",
    "f = uproot.open('p8_ee_ZZ_ecm240.root')\n",
    "events_FCC = f['events'].arrays()\n",
    "events_FCC.fields"
   ]
  },
  {
   "cell_type": "code",
   "execution_count": 34,
   "id": "fe60b5ff-4992-4694-a197-1709e4d2a7d5",
   "metadata": {},
   "outputs": [],
   "source": [
    "origin = ak.sort(events_FCC['selected_muons_p'], axis=0)"
   ]
  },
  {
   "cell_type": "code",
   "execution_count": 35,
   "id": "b13abf3f-c3fd-46fc-9ee4-e845e7f2b771",
   "metadata": {},
   "outputs": [
    {
     "name": "stdout",
     "output_type": "stream",
     "text": [
      "[########################################] | 100% Completed | 101.86 ms\n",
      "[########################################] | 100% Completed | 510.24 ms\n"
     ]
    }
   ],
   "source": [
    "to_check = ak.sort(selected_muons.p.compute(), axis=0)"
   ]
  },
  {
   "cell_type": "code",
   "execution_count": 36,
   "id": "721ebbdb-a351-4282-944c-ed4459fc00ef",
   "metadata": {},
   "outputs": [
    {
     "name": "stdout",
     "output_type": "stream",
     "text": [
      "Index 15 is different\n",
      "Index 133 is different\n"
     ]
    }
   ],
   "source": [
    "for i in range(len(origin)):\n",
    "    if not (len(origin[i]) == len(to_check[i])):\n",
    "        print(f\"Index {i} is different\")"
   ]
  },
  {
   "cell_type": "code",
   "execution_count": 37,
   "id": "66781d5e-fda5-4779-b70e-c9ceb29efd43",
   "metadata": {},
   "outputs": [
    {
     "data": {
      "text/html": [
       "<pre>[35.2,\n",
       " 15.6,\n",
       " 4.95,\n",
       " 2.94]\n",
       "-----------------\n",
       "type: 4 * float32</pre>"
      ],
      "text/plain": [
       "<Array [35.2, 15.6, 4.95, 2.94] type='4 * float32'>"
      ]
     },
     "execution_count": 37,
     "metadata": {},
     "output_type": "execute_result"
    }
   ],
   "source": [
    "origin[15]"
   ]
  },
  {
   "cell_type": "code",
   "execution_count": 38,
   "id": "8443c9dd-2bb5-471b-932c-9d94a3d45c61",
   "metadata": {},
   "outputs": [
    {
     "data": {
      "text/html": [
       "<pre>[35.2,\n",
       " 15.6,\n",
       " 4.95,\n",
       " 2.94,\n",
       " 4.97]\n",
       "-----------------\n",
       "type: 5 * float32</pre>"
      ],
      "text/plain": [
       "<Array [35.2, 15.6, 4.95, 2.94, 4.97] type='5 * float32'>"
      ]
     },
     "execution_count": 38,
     "metadata": {},
     "output_type": "execute_result"
    }
   ],
   "source": [
    "to_check[15]"
   ]
  },
  {
   "cell_type": "code",
   "execution_count": 39,
   "id": "bfddab40-eaf2-483d-9d21-6b707b6f2670",
   "metadata": {},
   "outputs": [
    {
     "data": {
      "text/html": [
       "<pre>[81.7,\n",
       " 65,\n",
       " 41.3,\n",
       " 24.3,\n",
       " 4.97]\n",
       "-----------------\n",
       "type: 5 * float32</pre>"
      ],
      "text/plain": [
       "<Array [81.7, 65, 41.3, 24.3, 4.97] type='5 * float32'>"
      ]
     },
     "execution_count": 39,
     "metadata": {},
     "output_type": "execute_result"
    }
   ],
   "source": [
    "origin[133]"
   ]
  },
  {
   "cell_type": "code",
   "execution_count": 40,
   "id": "0a75ef96-8b5e-472a-a311-dae1bff77b85",
   "metadata": {},
   "outputs": [
    {
     "data": {
      "text/html": [
       "<pre>[81.7,\n",
       " 65,\n",
       " 41.3,\n",
       " 24.3]\n",
       "-----------------\n",
       "type: 4 * float32</pre>"
      ],
      "text/plain": [
       "<Array [81.7, 65, 41.3, 24.3] type='4 * float32'>"
      ]
     },
     "execution_count": 40,
     "metadata": {},
     "output_type": "execute_result"
    }
   ],
   "source": [
    "to_check[133]"
   ]
  },
  {
   "cell_type": "code",
   "execution_count": 41,
   "id": "e4e867bf-ee7d-40a5-a69e-a9607be24743",
   "metadata": {},
   "outputs": [
    {
     "data": {
      "text/plain": [
       "dask.awkward<index, npartitions=1>"
      ]
     },
     "execution_count": 41,
     "metadata": {},
     "output_type": "execute_result"
    }
   ],
   "source": [
    "m_index = events.Muonidx0.index\n",
    "m_index"
   ]
  },
  {
   "cell_type": "code",
   "execution_count": 42,
   "id": "bc6beaa0-e9d7-4031-8543-d8357312b780",
   "metadata": {},
   "outputs": [
    {
     "name": "stdout",
     "output_type": "stream",
     "text": [
      "[########################################] | 100% Completed | 102.40 ms\n",
      "[########################################] | 100% Completed | 512.20 ms\n",
      "[########################################] | 100% Completed | 101.24 ms\n",
      "[########################################] | 100% Completed | 512.76 ms\n"
     ]
    },
    {
     "data": {
      "text/html": [
       "<pre>[23,\n",
       " 21,\n",
       " 22,\n",
       " 18,\n",
       " 9]\n",
       "----------------------------------------------------------------------------------\n",
       "type: 5 * int32[parameters={&quot;__doc__&quot;: &quot;index[Muon#0_]&quot;, &quot;typename&quot;: &quot;int32_t[]&quot;}]</pre>"
      ],
      "text/plain": [
       "<Array [23, 21, 22, 18, 9] type='5 * int32[parameters={\"__doc__\": \"index[Mu...'>"
      ]
     },
     "execution_count": 42,
     "metadata": {},
     "output_type": "execute_result"
    }
   ],
   "source": [
    "selected_muons[15].index.compute()"
   ]
  },
  {
   "cell_type": "code",
   "execution_count": 43,
   "id": "b6f0f1a7-e86c-4aea-a606-c326c12603b6",
   "metadata": {},
   "outputs": [
    {
     "name": "stdout",
     "output_type": "stream",
     "text": [
      "[########################################] | 100% Completed | 101.28 ms\n",
      "[########################################] | 100% Completed | 617.82 ms\n"
     ]
    },
    {
     "data": {
      "text/html": [
       "<pre>[90.1,\n",
       " 12.9,\n",
       " 13.2,\n",
       " 3.09,\n",
       " 4.97]\n",
       "-----------------------------------------------------\n",
       "type: 5 * float32[parameters={&quot;typename&quot;: &quot;float[]&quot;}]</pre>"
      ],
      "text/plain": [
       "<Array [90.1, 12.9, 13.2, 3.09, 4.97] type='5 * float32[parameters={\"typena...'>"
      ]
     },
     "execution_count": 43,
     "metadata": {},
     "output_type": "execute_result"
    }
   ],
   "source": [
    "selected_muons[15].p.compute()"
   ]
  },
  {
   "cell_type": "code",
   "execution_count": null,
   "id": "4bc4504d-262e-44be-b9f8-3cce7dfb9871",
   "metadata": {},
   "outputs": [],
   "source": []
  }
 ],
 "metadata": {
  "kernelspec": {
   "display_name": "Python 3 (ipykernel)",
   "language": "python",
   "name": "python3"
  },
  "language_info": {
   "codemirror_mode": {
    "name": "ipython",
    "version": 3
   },
   "file_extension": ".py",
   "mimetype": "text/x-python",
   "name": "python",
   "nbconvert_exporter": "python",
   "pygments_lexer": "ipython3",
   "version": "3.12.10"
  }
 },
 "nbformat": 4,
 "nbformat_minor": 5
}
