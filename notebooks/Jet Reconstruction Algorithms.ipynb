{
 "cells": [
  {
   "cell_type": "code",
   "execution_count": 7,
   "id": "4c60b605-4117-453e-a14b-3c21498211b0",
   "metadata": {},
   "outputs": [
    {
     "name": "stderr",
     "output_type": "stream",
     "text": [
      "/home/prayag/coffeafcc/development/coffea/src/coffea/nanoevents/schemas/edm4hep.py:7: FutureWarning: In version 2025.1.0 (target date: 2024-12-31 11:59:59-06:00), this will be an error.\n",
      "To raise these warnings as errors (and get stack traces to find out where they're called), run\n",
      "    import warnings\n",
      "    warnings.filterwarnings(\"error\", module=\"coffea.*\")\n",
      "after the first `import coffea` or use `@pytest.mark.filterwarnings(\"error:::coffea.*\")` in pytest.\n",
      "Issue: coffea.nanoevents.methods.vector will be removed and replaced with scikit-hep vector. Nanoevents schemas internal to coffea will be migrated. Otherwise please consider using that package!.\n",
      "  from coffea.nanoevents.methods import vector\n"
     ]
    }
   ],
   "source": [
    "import numpy as np\n",
    "import awkward as ak\n",
    "import vector\n",
    "vector.register_awkward()\n",
    "from coffea.nanoevents import NanoEventsFactory, BaseSchema"
   ]
  },
  {
   "cell_type": "code",
   "execution_count": 8,
   "id": "85901d1a-2e09-41ac-b1e9-3cafad59fdd7",
   "metadata": {},
   "outputs": [],
   "source": [
    "redirector = ''\n",
    "file = 'eos/experiment/fcc/ee/generation/DelphesEvents/winter2023/IDEA/wzp6_ee_mumuH_Hbb_ecm240/events_159112833.root'\n",
    "tree = 'events'"
   ]
  },
  {
   "cell_type": "code",
   "execution_count": 9,
   "id": "9ddb1aa0-f2d1-47aa-ab3a-9a8e5644b170",
   "metadata": {},
   "outputs": [
    {
     "name": "stderr",
     "output_type": "stream",
     "text": [
      "/home/prayag/coffeafcc/development/coffea/src/coffea/util.py:224: UserWarning: Skipping _intMap as it is not interpretable by Uproot\n",
      "  warnings.warn(\n",
      "/home/prayag/coffeafcc/development/coffea/src/coffea/util.py:232: UserWarning: Skipping _intMap.first as it is not interpretable by Uproot\n",
      "  warnings.warn(\n",
      "/home/prayag/coffeafcc/development/coffea/src/coffea/util.py:232: UserWarning: Skipping _intMap.second as it is not interpretable by Uproot\n",
      "  warnings.warn(\n",
      "/home/prayag/coffeafcc/development/coffea/src/coffea/util.py:224: UserWarning: Skipping _floatMap as it is not interpretable by Uproot\n",
      "  warnings.warn(\n",
      "/home/prayag/coffeafcc/development/coffea/src/coffea/util.py:232: UserWarning: Skipping _floatMap.first as it is not interpretable by Uproot\n",
      "  warnings.warn(\n",
      "/home/prayag/coffeafcc/development/coffea/src/coffea/util.py:232: UserWarning: Skipping _floatMap.second as it is not interpretable by Uproot\n",
      "  warnings.warn(\n",
      "/home/prayag/coffeafcc/development/coffea/src/coffea/util.py:224: UserWarning: Skipping _stringMap as it is not interpretable by Uproot\n",
      "  warnings.warn(\n",
      "/home/prayag/coffeafcc/development/coffea/src/coffea/util.py:232: UserWarning: Skipping _stringMap.first as it is not interpretable by Uproot\n",
      "  warnings.warn(\n",
      "/home/prayag/coffeafcc/development/coffea/src/coffea/util.py:232: UserWarning: Skipping _stringMap.second as it is not interpretable by Uproot\n",
      "  warnings.warn(\n"
     ]
    }
   ],
   "source": [
    "events = NanoEventsFactory.from_root(\n",
    "    redirector+file+\":\"+tree,\n",
    "    schemaclass=BaseSchema,\n",
    "    delayed=True,\n",
    "    uproot_options = {\"filter_name\": lambda x : \"PARAMETERS\" not in x}\n",
    ").events()"
   ]
  },
  {
   "cell_type": "code",
   "execution_count": 10,
   "id": "f72a86fb-ae34-41a6-a0bd-0e09dab130f4",
   "metadata": {},
   "outputs": [],
   "source": [
    "Reco = ak.zip(\n",
    "            {\n",
    "                'E':events['ReconstructedParticles/ReconstructedParticles.energy'],\n",
    "                'px':events['ReconstructedParticles/ReconstructedParticles.momentum.x'],\n",
    "                'py':events['ReconstructedParticles/ReconstructedParticles.momentum.y'],\n",
    "                'pz':events['ReconstructedParticles/ReconstructedParticles.momentum.z'],\n",
    "            },\n",
    "            with_name='Momentum4D'\n",
    "        )"
   ]
  },
  {
   "cell_type": "markdown",
   "id": "e46556be-df04-48f4-9814-e4fdc6fc5b66",
   "metadata": {},
   "source": [
    "### Sequestial Clustering ALgorithms"
   ]
  },
  {
   "cell_type": "markdown",
   "id": "2d6742a8-d507-438e-8ed3-7fbfb4268c49",
   "metadata": {},
   "source": [
    "Step 1: Decide a Seed"
   ]
  },
  {
   "cell_type": "markdown",
   "id": "c78605c0-3341-4fac-9f6a-6a4b3712a6ea",
   "metadata": {},
   "source": [
    "Step 2: Decide a distance measurement"
   ]
  },
  {
   "cell_type": "markdown",
   "id": "c6f4a097-9571-49dc-a673-9498b26eaba9",
   "metadata": {},
   "source": [
    "Step 3: Decide the conical bounds"
   ]
  },
  {
   "cell_type": "markdown",
   "id": "ab368faf-44dd-4ec6-b17b-9c1cdaf0e839",
   "metadata": {},
   "source": [
    "Step 4: Decide on a recombination scheme"
   ]
  },
  {
   "cell_type": "markdown",
   "id": "cd658179-65a5-410c-8bc0-c61f97b05c10",
   "metadata": {},
   "source": [
    "Step 5: Iteratively combine and stop when a criteria is met"
   ]
  },
  {
   "cell_type": "code",
   "execution_count": 55,
   "id": "35d43e12-09a7-45d6-b511-ced1bcfc5f6e",
   "metadata": {},
   "outputs": [],
   "source": [
    "import numba\n",
    "import numpy\n",
    "import awkward\n",
    "import dask_awkward\n",
    "import dask"
   ]
  },
  {
   "cell_type": "code",
   "execution_count": 56,
   "id": "99029350-98ee-4f8e-b7f9-35ba48583ed0",
   "metadata": {},
   "outputs": [],
   "source": [
    "class Cluster:\n",
    "    r'''\n",
    "    jumbo-jet cluster\n",
    "                                     \n",
    "                       --====|====--\n",
    "                             |  \n",
    "\n",
    "                         .-\"\"\"\"\"-. \n",
    "                       .'_________'. \n",
    "                      /_/_|__|__|_\\_\\\n",
    "                     ;'-._       _.-';\n",
    ",--------------------|    `-. .-'    |--------------------,\n",
    " ``\"\"--..__    ___   ;       '       ;   ___    __..--\"\"``\n",
    "           `\"-// \\\\.._\\             /_..// \\\\-\"`\n",
    "              \\\\_//    '._       _.'    \\\\_//\n",
    "    \n",
    "    '''\n",
    "\n",
    "    def __init__(self, PseudoJets):\n",
    "        \n",
    "        self.PseudoJets = PseudoJets\n",
    "        if isinstance(PseudoJets, dask_awkward.Array):\n",
    "            self.delayed = True \n",
    "        else:\n",
    "            self.delayed = False\n",
    "        self._attach_local_index()\n",
    "    def __str__(self):\n",
    "        if self.delayed:\n",
    "            return f\"A jumbo-jet cluster with {dask_awkward.num(self.PseudoJets, axis=0).compute()} events\"\n",
    "        else:\n",
    "            return f\"A jumbo-jet cluster with {awkward.num(self.PseudoJets, axis=0)} events\"\n",
    "\n",
    "    def _attach_local_index(self):\n",
    "        ''' Attach local index to the pseudojets '''\n",
    "        self.PseudoJets['local_index'] = awkward.local_index(self.PseudoJets)\n",
    "\n",
    "    def get_max_by(self, attribute):\n",
    "        ''' Get the maximum of pseudojet particle in some attribute '''\n",
    "        arg_max = awkward.argmax(getattr(self.PseudoJets, attribute), axis=1)[:, numpy.newaxis]\n",
    "        return self.PseudoJets[arg_max]\n",
    "\n",
    "    def get_dr(self):\n",
    "        ''' All possible delta R values"
   ]
  },
  {
   "cell_type": "code",
   "execution_count": 57,
   "id": "394741af-c529-4c1a-86f8-ac7f3ba8fe49",
   "metadata": {},
   "outputs": [],
   "source": [
    "my_cluster = Cluster(Reco)"
   ]
  },
  {
   "cell_type": "code",
   "execution_count": 58,
   "id": "7d3dec76-ff03-4de5-8d10-a11ca2fef72b",
   "metadata": {},
   "outputs": [
    {
     "name": "stdout",
     "output_type": "stream",
     "text": [
      "\n",
      "    jumbo-jet cluster\n",
      "                                     \n",
      "                       --====|====--\n",
      "                             |  \n",
      "\n",
      "                         .-\"\"\"\"\"-. \n",
      "                       .'_________'. \n",
      "                      /_/_|__|__|_\\_\\\n",
      "                     ;'-._       _.-';\n",
      ",--------------------|    `-. .-'    |--------------------,\n",
      " ``\"\"--..__    ___   ;       '       ;   ___    __..--\"\"``\n",
      "           `\"-// \\\\.._\\             /_..// \\\\-\"`\n",
      "              \\\\_//    '._       _.'    \\\\_//\n",
      "    \n",
      "    \n"
     ]
    }
   ],
   "source": [
    "print(my_cluster.__doc__)"
   ]
  },
  {
   "cell_type": "code",
   "execution_count": 59,
   "id": "78a60733-e07e-4d9a-9b95-77ade4563413",
   "metadata": {},
   "outputs": [
    {
     "name": "stdout",
     "output_type": "stream",
     "text": [
      "A jumbo-jet cluster with 100000 events\n"
     ]
    }
   ],
   "source": [
    "print(my_cluster)"
   ]
  },
  {
   "cell_type": "code",
   "execution_count": 60,
   "id": "2d5edfc2-b32f-407c-a78a-4d5d973b4410",
   "metadata": {},
   "outputs": [
    {
     "data": {
      "text/html": [
       "<pre>[[{E: 75.5, px: -67.7, py: -27.7, pz: 18.6, local_index: 24}],\n",
       " [{E: 43.5, px: -22.1, py: 37.4, pz: -2.77, local_index: 20}],\n",
       " [{E: 59.6, px: 26.3, py: -42.6, pz: -32.4, local_index: 4}],\n",
       " [{E: 69.5, px: -24.6, py: 60.3, pz: -24.2, local_index: 4}],\n",
       " [{E: 62.5, px: -18.4, py: 58.2, pz: -13.4, local_index: 3}],\n",
       " [{E: 69.9, px: 27.4, py: 64.3, pz: 1.1, local_index: 11}],\n",
       " [{E: 59, px: 13, py: -25.5, pz: -51.6, local_index: 7}],\n",
       " [{E: 60.1, px: -48, py: -24.8, pz: 26.4, local_index: 25}],\n",
       " [{E: 55.5, px: 36, py: 34.3, pz: -24.5, local_index: 8}],\n",
       " [{E: 59.7, px: -16.4, py: -47.4, pz: 32.4, local_index: 29}],\n",
       " ...,\n",
       " [{E: 48.6, px: -37.4, py: -9.54, pz: 29.5, local_index: 22}],\n",
       " [{E: 41.3, px: 15.7, py: -29.9, pz: -23.8, local_index: 16}],\n",
       " [{E: 65.9, px: -40.1, py: 3.41, pz: 52.2, local_index: 18}],\n",
       " [{E: 85.6, px: 2.38, py: -84.8, pz: -11.6, local_index: 10}],\n",
       " [{E: 53.7, px: -48.2, py: -20.7, pz: -11.7, local_index: 10}],\n",
       " [{E: 74, px: 15.5, py: -72.3, pz: -1.67, local_index: 19}],\n",
       " [{E: 54.4, px: 54.1, py: -2.46, pz: 5.2, local_index: 16}],\n",
       " [{E: 70.5, px: -45.3, py: 48.5, pz: 23.8, local_index: 28}],\n",
       " [{E: 61.1, px: -55, py: 22.4, pz: -14.2, local_index: 23}]]\n",
       "-------------------------------------------------------------------------------------------------\n",
       "type: 100000 * var * ?Momentum4D[\n",
       "    E: float32[parameters={&quot;__doc__&quot;: &quot;energy[ReconstructedParticles_]&quot;, &quot;typename&quot;: &quot;float[]&quot;}],\n",
       "    px: float32[parameters={&quot;__doc__&quot;: &quot;x[ReconstructedParticles_]&quot;, &quot;typename&quot;: &quot;float[]&quot;}],\n",
       "    py: float32[parameters={&quot;__doc__&quot;: &quot;y[ReconstructedParticles_]&quot;, &quot;typename&quot;: &quot;float[]&quot;}],\n",
       "    pz: float32[parameters={&quot;__doc__&quot;: &quot;z[ReconstructedParticles_]&quot;, &quot;typename&quot;: &quot;float[]&quot;}],\n",
       "    local_index: int64\n",
       "]</pre>"
      ],
      "text/plain": [
       "<MomentumArray4D [[{E: 75.5, px: -67.7, ...}], ...] type='100000 * var * ?M...'>"
      ]
     },
     "execution_count": 60,
     "metadata": {},
     "output_type": "execute_result"
    }
   ],
   "source": [
    "my_cluster.get_max_by('E').compute()"
   ]
  },
  {
   "cell_type": "code",
   "execution_count": 61,
   "id": "64fc71f4-ea00-41a4-b163-64387efa8273",
   "metadata": {},
   "outputs": [
    {
     "data": {
      "text/html": [
       "<pre>[[{E: 6.31, px: -5.86, py: 2.1, pz: -0.408, local_index: 21}],\n",
       " [{E: 2.2, px: 1.01, py: -1.67, pz: 0.352, local_index: 24}],\n",
       " [{E: 16.4, px: 1.63, py: 9.19, pz: 13.5, local_index: 54}],\n",
       " [{E: 5.34, px: 5.05, py: -1.04, pz: 1.29, local_index: 25}],\n",
       " [{E: 4.94, px: -2.91, py: -0.237, pz: 3.87, local_index: 19}],\n",
       " [{E: 8.99, px: 2.19, py: 0.34, pz: -8.66, local_index: 4}],\n",
       " [{E: 0.839, px: -0.245, py: 0.448, pz: 0.442, local_index: 54}],\n",
       " [{E: 0.705, px: -0.0578, py: -0.462, pz: -0.192, local_index: 2}],\n",
       " [{E: 1.22, px: -0.516, py: 0.806, pz: 0.564, local_index: 60}],\n",
       " [{E: 1.83, px: -0.753, py: -1.53, pz: -0.42, local_index: 91}],\n",
       " ...,\n",
       " [{E: 2.23, px: -1.65, py: 0.755, pz: -0.891, local_index: 20}],\n",
       " [{E: 2.46, px: -0.442, py: 2.19, pz: 0.379, local_index: 21}],\n",
       " [{E: 1.07, px: 0.754, py: 0.378, pz: -0.438, local_index: 50}],\n",
       " [{E: 2.16, px: 0.954, py: -0.839, pz: -1.47, local_index: 9}],\n",
       " [{E: 0.688, px: 0.0411, py: -0.0378, pz: 0.471, local_index: 36}],\n",
       " [{E: 3.61, px: -1.24, py: 2.5, pz: -2.23, local_index: 53}],\n",
       " [{E: 1.5, px: -1.05, py: 0.286, pz: 0.438, local_index: 25}],\n",
       " [{E: 3.27, px: 0.0802, py: 2.41, pz: -1.99, local_index: 14}],\n",
       " [{E: 1.67, px: -0.00943, py: 1.57, pz: -0.31, local_index: 67}]]\n",
       "-------------------------------------------------------------------------------------------------\n",
       "type: 100000 * var * ?Momentum4D[\n",
       "    E: float32[parameters={&quot;__doc__&quot;: &quot;energy[ReconstructedParticles_]&quot;, &quot;typename&quot;: &quot;float[]&quot;}],\n",
       "    px: float32[parameters={&quot;__doc__&quot;: &quot;x[ReconstructedParticles_]&quot;, &quot;typename&quot;: &quot;float[]&quot;}],\n",
       "    py: float32[parameters={&quot;__doc__&quot;: &quot;y[ReconstructedParticles_]&quot;, &quot;typename&quot;: &quot;float[]&quot;}],\n",
       "    pz: float32[parameters={&quot;__doc__&quot;: &quot;z[ReconstructedParticles_]&quot;, &quot;typename&quot;: &quot;float[]&quot;}],\n",
       "    local_index: int64\n",
       "]</pre>"
      ],
      "text/plain": [
       "<MomentumArray4D [[{E: 6.31, px: -5.86, ...}], ...] type='100000 * var * ?M...'>"
      ]
     },
     "execution_count": 61,
     "metadata": {},
     "output_type": "execute_result"
    }
   ],
   "source": [
    "my_cluster.get_max_by('m').compute()"
   ]
  },
  {
   "cell_type": "code",
   "execution_count": 62,
   "id": "1daee7aa-af93-4c43-9c06-44ab5a98211f",
   "metadata": {},
   "outputs": [
    {
     "data": {
      "text/html": [
       "<pre>[[{E: 75.5, px: -67.7, py: -27.7, pz: 18.6, local_index: 24}],\n",
       " [{E: 43.5, px: -22.1, py: 37.4, pz: -2.77, local_index: 20}],\n",
       " [{E: 59.6, px: 26.3, py: -42.6, pz: -32.4, local_index: 4}],\n",
       " [{E: 69.5, px: -24.6, py: 60.3, pz: -24.2, local_index: 4}],\n",
       " [{E: 62.5, px: -18.4, py: 58.2, pz: -13.4, local_index: 3}],\n",
       " [{E: 69.9, px: 27.4, py: 64.3, pz: 1.1, local_index: 11}],\n",
       " [{E: 59, px: 13, py: -25.5, pz: -51.6, local_index: 7}],\n",
       " [{E: 60.1, px: -48, py: -24.8, pz: 26.4, local_index: 25}],\n",
       " [{E: 55.5, px: 36, py: 34.3, pz: -24.5, local_index: 8}],\n",
       " [{E: 59.7, px: -16.4, py: -47.4, pz: 32.4, local_index: 29}],\n",
       " ...,\n",
       " [{E: 48.6, px: -37.4, py: -9.54, pz: 29.5, local_index: 22}],\n",
       " [{E: 41.3, px: 15.7, py: -29.9, pz: -23.8, local_index: 16}],\n",
       " [{E: 65.9, px: -40.1, py: 3.41, pz: 52.2, local_index: 18}],\n",
       " [{E: 85.6, px: 2.38, py: -84.8, pz: -11.6, local_index: 10}],\n",
       " [{E: 53.7, px: -48.2, py: -20.7, pz: -11.7, local_index: 10}],\n",
       " [{E: 74, px: 15.5, py: -72.3, pz: -1.67, local_index: 19}],\n",
       " [{E: 54.4, px: 54.1, py: -2.46, pz: 5.2, local_index: 16}],\n",
       " [{E: 70.5, px: -45.3, py: 48.5, pz: 23.8, local_index: 28}],\n",
       " [{E: 61.1, px: -55, py: 22.4, pz: -14.2, local_index: 23}]]\n",
       "-------------------------------------------------------------------------------------------------\n",
       "type: 100000 * var * ?Momentum4D[\n",
       "    E: float32[parameters={&quot;__doc__&quot;: &quot;energy[ReconstructedParticles_]&quot;, &quot;typename&quot;: &quot;float[]&quot;}],\n",
       "    px: float32[parameters={&quot;__doc__&quot;: &quot;x[ReconstructedParticles_]&quot;, &quot;typename&quot;: &quot;float[]&quot;}],\n",
       "    py: float32[parameters={&quot;__doc__&quot;: &quot;y[ReconstructedParticles_]&quot;, &quot;typename&quot;: &quot;float[]&quot;}],\n",
       "    pz: float32[parameters={&quot;__doc__&quot;: &quot;z[ReconstructedParticles_]&quot;, &quot;typename&quot;: &quot;float[]&quot;}],\n",
       "    local_index: int64\n",
       "]</pre>"
      ],
      "text/plain": [
       "<MomentumArray4D [[{E: 75.5, px: -67.7, ...}], ...] type='100000 * var * ?M...'>"
      ]
     },
     "execution_count": 62,
     "metadata": {},
     "output_type": "execute_result"
    }
   ],
   "source": [
    "my_cluster.get_max_by('pt').compute()"
   ]
  },
  {
   "cell_type": "code",
   "execution_count": 1,
   "id": "1c2555f7-65ac-4267-a5a0-3ab14795adfb",
   "metadata": {},
   "outputs": [],
   "source": [
    "import fastjet"
   ]
  },
  {
   "cell_type": "code",
   "execution_count": 2,
   "id": "ce97a711-7651-4dc0-b120-b37f637a1ab6",
   "metadata": {},
   "outputs": [
    {
     "data": {
      "text/plain": [
       "<fastjet._swig.PseudoJet; proxy of <Swig Object of type 'fastjet::PseudoJet *' at 0x7f85900b6e80> >"
      ]
     },
     "execution_count": 2,
     "metadata": {},
     "output_type": "execute_result"
    }
   ],
   "source": [
    "fastjet.PseudoJet(1,2,3,4)"
   ]
  },
  {
   "cell_type": "code",
   "execution_count": null,
   "id": "49358c55-ddc8-43a8-8a8d-14133bd102ef",
   "metadata": {},
   "outputs": [],
   "source": []
  }
 ],
 "metadata": {
  "kernelspec": {
   "display_name": "Python 3 (ipykernel)",
   "language": "python",
   "name": "python3"
  },
  "language_info": {
   "codemirror_mode": {
    "name": "ipython",
    "version": 3
   },
   "file_extension": ".py",
   "mimetype": "text/x-python",
   "name": "python",
   "nbconvert_exporter": "python",
   "pygments_lexer": "ipython3",
   "version": "3.12.10"
  }
 },
 "nbformat": 4,
 "nbformat_minor": 5
}
