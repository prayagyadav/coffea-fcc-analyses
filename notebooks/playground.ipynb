{
 "cells": [
  {
   "cell_type": "code",
   "execution_count": 1,
   "id": "79abd352-18e3-4d5f-848b-2ab0f01cfa7b",
   "metadata": {
    "jupyter": {
     "source_hidden": true
    }
   },
   "outputs": [],
   "source": [
    "import fastjet\n",
    "import uproot\n",
    "import awkward as ak\n",
    "import hist\n",
    "import numpy as np\n",
    "import vector\n",
    "vector.register_awkward()"
   ]
  },
  {
   "cell_type": "code",
   "execution_count": 2,
   "id": "1b6bc3ef-92f2-4100-9002-e51e82b97fc9",
   "metadata": {
    "jupyter": {
     "source_hidden": true
    }
   },
   "outputs": [],
   "source": [
    "def remove_muons(reco):\n",
    "    '''Remove muons in a silly way:\n",
    "    Remove any reco particle in the mass range 0.10566 +/- 0.03\n",
    "    '''\n",
    "    err = 0.03\n",
    "    ll = reco.mass <= abs(0.10566-err)\n",
    "    hl = reco.mass >= abs(0.10566+err)\n",
    "    ll = ak.drop_none(ll)\n",
    "    hl = ak.drop_none(hl)\n",
    "    return reco[ll | hl]"
   ]
  },
  {
   "cell_type": "code",
   "execution_count": 3,
   "id": "6430f2fd-2eb5-4882-8c07-5425d0fc0636",
   "metadata": {
    "jupyter": {
     "source_hidden": true
    }
   },
   "outputs": [],
   "source": [
    "redirector = ''\n",
    "''' In case of problems, Download the root files from the following links:\n",
    "https://prayag.web.cern.ch/share/FCC/eos/experiment/fcc/ee/generation/DelphesEvents/winter2023/IDEA/wzp6_ee_mumuH_Hbb_ecm240/events_159112833.root\n",
    "'''\n",
    "\n",
    "events_path = redirector+'eos/experiment/fcc/ee/generation/DelphesEvents/winter2023/IDEA/wzp6_ee_mumuH_Hbb_ecm240/events_159112833.root:events'\n",
    "\n",
    "def _remove_not_interpretable(branch, emit_warning=True):\n",
    "    if isinstance(\n",
    "        branch.interpretation, uproot.interpretation.identify.uproot.AsGrouped\n",
    "    ):\n",
    "        for name, interpretation in branch.interpretation.subbranches.items():\n",
    "            if isinstance(\n",
    "                interpretation, uproot.interpretation.identify.UnknownInterpretation\n",
    "            ):\n",
    "                if emit_warning:\n",
    "                    warnings.warn(\n",
    "                        f\"Skipping {branch.name} as it is not interpretable by Uproot\"\n",
    "                    )\n",
    "                return False\n",
    "    if isinstance(\n",
    "        branch.interpretation, uproot.interpretation.identify.UnknownInterpretation\n",
    "    ):\n",
    "        if emit_warning:\n",
    "            warnings.warn(\n",
    "                f\"Skipping {branch.name} as it is not interpretable by Uproot\"\n",
    "            )\n",
    "        return False\n",
    "\n",
    "    try:\n",
    "        _ = branch.interpretation.awkward_form(None)\n",
    "    except uproot.interpretation.objects.CannotBeAwkward:\n",
    "        if emit_warning:\n",
    "            warnings.warn(\n",
    "                f\"Skipping {branch.name} as it is it cannot be represented as an Awkward array\"\n",
    "            )\n",
    "        return False\n",
    "    else:\n",
    "        return True\n",
    "\n",
    "events = uproot.open(\n",
    "    events_path,\n",
    "    open_files=False,\n",
    "    filter_name =  lambda x : \"PARAMETERS\" not in x,\n",
    "    filter_branch = _remove_not_interpretable\n",
    ")"
   ]
  },
  {
   "cell_type": "code",
   "execution_count": 4,
   "id": "30bc4bd0-a77c-47bf-91b9-bc2753b8a066",
   "metadata": {},
   "outputs": [],
   "source": [
    "Reco = ak.zip(\n",
    "    {\n",
    "        'E':events['ReconstructedParticles/ReconstructedParticles.energy'].arrays()['ReconstructedParticles.energy'],\n",
    "        'px':events['ReconstructedParticles/ReconstructedParticles.momentum.x'].arrays()['ReconstructedParticles.momentum.x'],\n",
    "        'py':events['ReconstructedParticles/ReconstructedParticles.momentum.y'].arrays()['ReconstructedParticles.momentum.y'],\n",
    "        'pz':events['ReconstructedParticles/ReconstructedParticles.momentum.z'].arrays()['ReconstructedParticles.momentum.z'],\n",
    "    },\n",
    "    with_name='Momentum4D'\n",
    ")\n",
    "              \n",
    "\n",
    "pseudo_jets = remove_muons(Reco)\n",
    "\n",
    "#Ensure there are at least 2 reco particles before clustering\n",
    "pseudo_jets = pseudo_jets[ak.num(pseudo_jets, axis=1) > 1]"
   ]
  },
  {
   "cell_type": "markdown",
   "id": "a275784f-227d-4288-9923-8dc672512c19",
   "metadata": {},
   "source": [
    "## Ignoring the stuff above, we now have pseudojets available to play around"
   ]
  },
  {
   "cell_type": "code",
   "execution_count": 5,
   "id": "b999b446-93f1-4231-956e-45ca2f148bb4",
   "metadata": {},
   "outputs": [],
   "source": [
    "class E0_scheme:\n",
    "    '''\n",
    "    E0 Scheme Recombiner\n",
    "    Find the C++ equivalent at https://github.com/HEP-FCC/FCCAnalyses/blob/master/addons/FastJet/src/ExternalRecombiner.cc\n",
    "    '''\n",
    "    def preprocess(p):\n",
    "        pass\n",
    "        \n",
    "    def recombine(pa, pb):\n",
    "    \n",
    "        psum = pa+pb\n",
    "        pmag = np.sqrt(psum.px()**2 + psum.py()**2 + psum.pz()**2)\n",
    "        E0scale = psum.E() / pmag\n",
    "\n",
    "        psum.reset(\n",
    "                psum.px()*E0scale,\n",
    "                psum.py()*E0scale,\n",
    "                psum.pz()*E0scale,\n",
    "                psum.E()\n",
    "        )\n",
    "        return psum"
   ]
  },
  {
   "cell_type": "code",
   "execution_count": 6,
   "id": "507fbb28-c990-4b74-b483-d55c7a0912a1",
   "metadata": {},
   "outputs": [],
   "source": [
    "def get_jets(pseudojets):\n",
    "    \n",
    "    jetdef = fastjet.JetDefinition0Param(fastjet.ee_kt_algorithm)\n",
    "    jetdef.set_python_recombiner(E0_scheme)\n",
    "\n",
    "    cluster = fastjet.ClusterSequence(pseudo_jets, jetdef)\n",
    "    \n",
    "    return cluster.exclusive_jets(2), cluster.exclusive_jets_constituents(2)"
   ]
  },
  {
   "cell_type": "code",
   "execution_count": 7,
   "id": "f4fe3b4a-5b8b-4476-ab14-f0a1fa854a5c",
   "metadata": {},
   "outputs": [],
   "source": [
    "# fastjet.JetDefinition0Param(fastjet.ee_kt_algorithm, fastjet.E_scheme)"
   ]
  },
  {
   "cell_type": "code",
   "execution_count": 8,
   "id": "f8efeea2-13c9-418c-b4ce-59f1ace105b2",
   "metadata": {},
   "outputs": [],
   "source": [
    "# jets, jet_constituents = get_jets(pseudo_jets)"
   ]
  },
  {
   "cell_type": "code",
   "execution_count": 9,
   "id": "2b82b4b1-d223-493d-9d4d-c8ac55e5364a",
   "metadata": {},
   "outputs": [],
   "source": [
    "jetdef = fastjet.JetDefinition0Param(fastjet.ee_kt_algorithm)\n",
    "jetdef.set_python_recombiner(E0_scheme)"
   ]
  },
  {
   "cell_type": "code",
   "execution_count": 10,
   "id": "4c09d7f0-54d5-4b40-8469-306a77b86a78",
   "metadata": {},
   "outputs": [],
   "source": [
    "def make_fj_ps(ak_array):\n",
    "    px = ak_array.px\n",
    "    py = ak_array.py\n",
    "    pz = ak_array.pz\n",
    "    E = ak_array.E\n",
    "\n",
    "    total = ak.num(ak_array, axis=0)\n",
    "\n",
    "    out = []\n",
    "    for i in range(total):\n",
    "        out.append(\n",
    "            fastjet.PseudoJet(\n",
    "                float(px[i]),\n",
    "                float(py[i]),\n",
    "                float(pz[i]),\n",
    "                float(E[i])\n",
    "            )\n",
    "        )\n",
    "    return out"
   ]
  },
  {
   "cell_type": "code",
   "execution_count": null,
   "id": "adfe9fe6-64a4-4e97-abef-fe423354115d",
   "metadata": {},
   "outputs": [],
   "source": []
  },
  {
   "cell_type": "code",
   "execution_count": 11,
   "id": "4e0e6940-46e3-4bdf-941c-f42cac31168a",
   "metadata": {},
   "outputs": [],
   "source": [
    "def get_jets(n_events):\n",
    "    jets = []\n",
    "    \n",
    "    entry_stop = n_events\n",
    "    \n",
    "    reduced_pseudo_jets = ak.values_astype(pseudo_jets[:entry_stop], 'float16')\n",
    "    for ev in reduced_pseudo_jets:\n",
    "        cluster = fastjet.ClusterSequence(make_fj_ps(ev), jetdef)\n",
    "        jets.append(cluster.exclusive_jets(2))\n",
    "    return jets"
   ]
  },
  {
   "cell_type": "code",
   "execution_count": 12,
   "id": "d593f34e-e70d-4164-ae5f-c3be0fe0ddb4",
   "metadata": {},
   "outputs": [],
   "source": [
    "from concurrent.futures import ThreadPoolExecutor"
   ]
  },
  {
   "cell_type": "code",
   "execution_count": null,
   "id": "b9f1babe-d200-4bdd-8200-8f6caaa2939c",
   "metadata": {},
   "outputs": [
    {
     "name": "stdout",
     "output_type": "stream",
     "text": [
      "#--------------------------------------------------------------------------\n",
      "#                         FastJet release 3.4.3\n",
      "#                 M. Cacciari, G.P. Salam and G. Soyez                  \n",
      "#     A software package for jet finding and analysis at colliders      \n",
      "#                           http://fastjet.fr                           \n",
      "#\t                                                                      \n",
      "# Please cite EPJC72(2012)1896 [arXiv:1111.6097] if you use this package\n",
      "# for scientific work and optionally PLB641(2006)57 [hep-ph/0512210].   \n",
      "#                                                                       \n",
      "# FastJet is provided without warranty under the GNU GPL v2 or higher.  \n",
      "# It uses T. Chan's closest pair algorithm, S. Fortune's Voronoi code,\n",
      "# CGAL and 3rd party plugin jet algorithms. See COPYING file for details.\n",
      "#--------------------------------------------------------------------------\n"
     ]
    }
   ],
   "source": [
    "with ThreadPoolExecutor(max_workers=8) as executor:\n",
    "    future = executor.submit(get_jets, 100000)\n",
    "    print(future.result())"
   ]
  },
  {
   "cell_type": "code",
   "execution_count": null,
   "id": "d7153e24-0729-481b-80da-25a38549d33a",
   "metadata": {},
   "outputs": [],
   "source": [
    "# cluster = fastjet.ClusterSequence(pseudo_jets, jetdef)\n",
    "\n",
    "# jets = cluster.exclusive_jets(2)\n",
    "\n",
    "# jet_constituents = cluster.exclusive_jets_constituents(2)\n",
    "\n",
    "# del cluster\n",
    "# del jetdef\n",
    "\n",
    "dijets = ak.sum(jets, axis=1)\n",
    "\n",
    "h = hist.Hist.new.Reg(100,0,200).Double().fill(dijets.mass)"
   ]
  },
  {
   "cell_type": "code",
   "execution_count": null,
   "id": "09bcd8f0-12bc-4d87-83e5-a0940c4b0fea",
   "metadata": {},
   "outputs": [],
   "source": [
    "h"
   ]
  },
  {
   "cell_type": "code",
   "execution_count": null,
   "id": "5e799caa-bd69-46e2-9da5-abde9065bc81",
   "metadata": {},
   "outputs": [],
   "source": []
  }
 ],
 "metadata": {
  "kernelspec": {
   "display_name": "Python 3 (ipykernel)",
   "language": "python",
   "name": "python3"
  },
  "language_info": {
   "codemirror_mode": {
    "name": "ipython",
    "version": 3
   },
   "file_extension": ".py",
   "mimetype": "text/x-python",
   "name": "python",
   "nbconvert_exporter": "python",
   "pygments_lexer": "ipython3",
   "version": "3.12.10"
  }
 },
 "nbformat": 4,
 "nbformat_minor": 5
}
