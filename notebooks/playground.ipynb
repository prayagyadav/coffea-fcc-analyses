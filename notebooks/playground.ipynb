{
 "cells": [
  {
   "cell_type": "code",
   "execution_count": 1,
   "id": "79abd352-18e3-4d5f-848b-2ab0f01cfa7b",
   "metadata": {
    "jupyter": {
     "source_hidden": true
    }
   },
   "outputs": [],
   "source": [
    "import fastjet\n",
    "import uproot\n",
    "import awkward as ak\n",
    "import hist\n",
    "import numpy as np\n",
    "import vector\n",
    "vector.register_awkward()"
   ]
  },
  {
   "cell_type": "code",
   "execution_count": 2,
   "id": "1b6bc3ef-92f2-4100-9002-e51e82b97fc9",
   "metadata": {
    "jupyter": {
     "source_hidden": true
    }
   },
   "outputs": [],
   "source": [
    "def remove_muons(reco):\n",
    "    '''Remove muons in a silly way:\n",
    "    Remove any reco particle in the mass range 0.10566 +/- 0.03\n",
    "    '''\n",
    "    err = 0.03\n",
    "    ll = reco.mass <= abs(0.10566-err)\n",
    "    hl = reco.mass >= abs(0.10566+err)\n",
    "    ll = ak.drop_none(ll)\n",
    "    hl = ak.drop_none(hl)\n",
    "    return reco[ll | hl]"
   ]
  },
  {
   "cell_type": "code",
   "execution_count": 3,
   "id": "6430f2fd-2eb5-4882-8c07-5425d0fc0636",
   "metadata": {
    "jupyter": {
     "source_hidden": true
    }
   },
   "outputs": [],
   "source": [
    "redirector = 'root://eospublic.cern.ch//'\n",
    "''' In case of problems, Download the root files from the following links:\n",
    "https://prayag.web.cern.ch/share/FCC/eos/experiment/fcc/ee/generation/DelphesEvents/winter2023/IDEA/wzp6_ee_mumuH_Hbb_ecm240/events_159112833.root\n",
    "'''\n",
    "\n",
    "events_path = redirector+'eos/experiment/fcc/ee/generation/DelphesEvents/winter2023/IDEA/wzp6_ee_mumuH_Hbb_ecm240/events_159112833.root:events'\n",
    "\n",
    "def _remove_not_interpretable(branch, emit_warning=True):\n",
    "    if isinstance(\n",
    "        branch.interpretation, uproot.interpretation.identify.uproot.AsGrouped\n",
    "    ):\n",
    "        for name, interpretation in branch.interpretation.subbranches.items():\n",
    "            if isinstance(\n",
    "                interpretation, uproot.interpretation.identify.UnknownInterpretation\n",
    "            ):\n",
    "                if emit_warning:\n",
    "                    warnings.warn(\n",
    "                        f\"Skipping {branch.name} as it is not interpretable by Uproot\"\n",
    "                    )\n",
    "                return False\n",
    "    if isinstance(\n",
    "        branch.interpretation, uproot.interpretation.identify.UnknownInterpretation\n",
    "    ):\n",
    "        if emit_warning:\n",
    "            warnings.warn(\n",
    "                f\"Skipping {branch.name} as it is not interpretable by Uproot\"\n",
    "            )\n",
    "        return False\n",
    "\n",
    "    try:\n",
    "        _ = branch.interpretation.awkward_form(None)\n",
    "    except uproot.interpretation.objects.CannotBeAwkward:\n",
    "        if emit_warning:\n",
    "            warnings.warn(\n",
    "                f\"Skipping {branch.name} as it is it cannot be represented as an Awkward array\"\n",
    "            )\n",
    "        return False\n",
    "    else:\n",
    "        return True\n",
    "\n",
    "events = uproot.open(\n",
    "    events_path,\n",
    "    open_files=False,\n",
    "    filter_name =  lambda x : \"PARAMETERS\" not in x,\n",
    "    filter_branch = _remove_not_interpretable\n",
    ")"
   ]
  },
  {
   "cell_type": "code",
   "execution_count": 4,
   "id": "30bc4bd0-a77c-47bf-91b9-bc2753b8a066",
   "metadata": {
    "jupyter": {
     "source_hidden": true
    }
   },
   "outputs": [],
   "source": [
    "Reco = ak.zip(\n",
    "    {\n",
    "        'E':events['ReconstructedParticles/ReconstructedParticles.energy'].arrays()['ReconstructedParticles.energy'],\n",
    "        'px':events['ReconstructedParticles/ReconstructedParticles.momentum.x'].arrays()['ReconstructedParticles.momentum.x'],\n",
    "        'py':events['ReconstructedParticles/ReconstructedParticles.momentum.y'].arrays()['ReconstructedParticles.momentum.y'],\n",
    "        'pz':events['ReconstructedParticles/ReconstructedParticles.momentum.z'].arrays()['ReconstructedParticles.momentum.z'],\n",
    "    },\n",
    "    with_name='Momentum4D'\n",
    ")\n",
    "              \n",
    "\n",
    "pseudo_jets = remove_muons(Reco)\n",
    "\n",
    "#Ensure there are at least 2 reco particles before clustering\n",
    "pseudo_jets = pseudo_jets[ak.num(pseudo_jets, axis=1) > 1]"
   ]
  },
  {
   "cell_type": "code",
   "execution_count": 5,
   "id": "d5a5a062-3d39-4d62-b7f6-de10650407f2",
   "metadata": {
    "jupyter": {
     "source_hidden": true
    }
   },
   "outputs": [
    {
     "name": "stdout",
     "output_type": "stream",
     "text": [
      "LOCAL_DIR set to: /home/cms-jovyan/coffea-fcc-analyses\n",
      "PYTHONPATH now includes: /home/cms-jovyan/coffea-fcc-analyses/scripts\n",
      "LD_LIBRARY_PATH now includes: /opt/conda/lib/:/usr/local/lib/python3.12/site-packages/fastjet/_fastjet_core/lib\n"
     ]
    }
   ],
   "source": [
    "# Custom setup for jupyter environments like jupyterhub\n",
    "\n",
    "import os\n",
    "import sys\n",
    "import subprocess\n",
    "\n",
    "# Equivalent of determining the location of the setup script\n",
    "LOCAL_DIR = os.path.dirname(os.path.abspath(\"\"))\n",
    "os.environ[\"LOCAL_DIR\"] = LOCAL_DIR\n",
    "\n",
    "# Add scripts directory to PYTHONPATH\n",
    "scripts_path = os.path.join(LOCAL_DIR, \"scripts\")\n",
    "if scripts_path not in sys.path:\n",
    "    sys.path.insert(0, scripts_path)\n",
    "\n",
    "# Set PYTHONPATH environment variable\n",
    "if \"PYTHONPATH\" in os.environ:\n",
    "    os.environ[\"PYTHONPATH\"] = f\"{scripts_path}:{os.environ['PYTHONPATH']}\"\n",
    "else:\n",
    "    os.environ[\"PYTHONPATH\"] = scripts_path\n",
    "\n",
    "\n",
    "cmd = \"python3 -c 'import fastjet; print(fastjet.__path__[0])'\"\n",
    "fastjet_path = subprocess.check_output(cmd, shell=True).decode().strip()\n",
    "fastjet_lib_path = os.path.join(fastjet_path, \"_fastjet_core/lib\")\n",
    "\n",
    "# Update LD_LIBRARY_PATH\n",
    "if \"LD_LIBRARY_PATH\" in os.environ:\n",
    "    os.environ[\"LD_LIBRARY_PATH\"] = f\"{os.environ['LD_LIBRARY_PATH']}:{fastjet_lib_path}\"\n",
    "else:\n",
    "    os.environ[\"LD_LIBRARY_PATH\"] = fastjet_lib_path\n",
    "\n",
    "print(f\"LOCAL_DIR set to: {os.environ['LOCAL_DIR']}\")\n",
    "print(f\"PYTHONPATH now includes: {os.environ.get('PYTHONPATH', '')}\")\n",
    "print(f\"LD_LIBRARY_PATH now includes: {os.environ.get('LD_LIBRARY_PATH', '')}\")"
   ]
  },
  {
   "cell_type": "markdown",
   "id": "a275784f-227d-4288-9923-8dc672512c19",
   "metadata": {},
   "source": [
    "## Ignoring the stuff above, we now have pseudojets available to play around"
   ]
  },
  {
   "cell_type": "code",
   "execution_count": 6,
   "id": "6affd4d8-abe3-4b23-ae6e-38608824e53d",
   "metadata": {},
   "outputs": [],
   "source": [
    "from plugins.fastjet import Recombiner"
   ]
  },
  {
   "cell_type": "code",
   "execution_count": 7,
   "id": "c0dfdb92-0ac5-4577-804e-a2409d31fb18",
   "metadata": {},
   "outputs": [
    {
     "data": {
      "text/plain": [
       "<Swig Object of type 'fastjet::JetDefinition::Recombiner *' at 0x7f1295246e50>"
      ]
     },
     "execution_count": 7,
     "metadata": {},
     "output_type": "execute_result"
    }
   ],
   "source": [
    "recomb = Recombiner.E0_Scheme.instance()\n",
    "recomb"
   ]
  },
  {
   "cell_type": "code",
   "execution_count": 8,
   "id": "507fbb28-c990-4b74-b483-d55c7a0912a1",
   "metadata": {},
   "outputs": [],
   "source": [
    "def get_jets(pseudojets):\n",
    "    \n",
    "    jetdef = fastjet.JetDefinition0Param(fastjet.ee_kt_algorithm)\n",
    "    jetdef.set_recombiner(recomb)\n",
    "\n",
    "    cluster = fastjet.ClusterSequence(pseudo_jets, jetdef)\n",
    "    \n",
    "    return cluster.exclusive_jets(2), cluster.exclusive_jets_constituents(2)"
   ]
  },
  {
   "cell_type": "code",
   "execution_count": 9,
   "id": "d7153e24-0729-481b-80da-25a38549d33a",
   "metadata": {},
   "outputs": [
    {
     "name": "stdout",
     "output_type": "stream",
     "text": [
      "#--------------------------------------------------------------------------\n",
      "#                         FastJet release 3.4.2\n",
      "#                 M. Cacciari, G.P. Salam and G. Soyez                  \n",
      "#     A software package for jet finding and analysis at colliders      \n",
      "#                           http://fastjet.fr                           \n",
      "#\t                                                                      \n",
      "# Please cite EPJC72(2012)1896 [arXiv:1111.6097] if you use this package\n",
      "# for scientific work and optionally PLB641(2006)57 [hep-ph/0512210].   \n",
      "#                                                                       \n",
      "# FastJet is provided without warranty under the GNU GPL v2 or higher.  \n",
      "# It uses T. Chan's closest pair algorithm, S. Fortune's Voronoi code,\n",
      "# CGAL and 3rd party plugin jet algorithms. See COPYING file for details.\n",
      "#--------------------------------------------------------------------------\n"
     ]
    },
    {
     "name": "stderr",
     "output_type": "stream",
     "text": [
      "UserWarning: dcut and exclusive jets for jet-finders other than kt, C/A or genkt with p>=0 should be interpreted with care.\n"
     ]
    },
    {
     "data": {
      "text/html": [
       "<html>\n",
       "<div style=\"display:flex; align-items:center;\">\n",
       "<div style=\"width:290px;\">\n",
       "<svg xmlns=\"http://www.w3.org/2000/svg\" viewBox=\"-10 -105 270 120\">\n",
       "<line x1=\"-5\" y1=\"0\" x2=\"255\" y2=\"0\" style=\"fill:none;stroke-width:2;stroke:currentColor\"/>\n",
       "<text text-anchor=\"middle\" x=\"0\" y=\"15\" style=\"fill:currentColor;\">\n",
       "0\n",
       "</text>\n",
       "<text text-anchor=\"middle\" x=\"250\" y=\"15\" style=\"fill:currentColor;\">\n",
       "200\n",
       "</text>\n",
       "<text text-anchor=\"middle\" x=\"125.0\" y=\"15\" style=\"fill:currentColor;\">\n",
       "Axis 0\n",
       "</text>\n",
       "<polyline points=\"  0,0   0,-0 2.5,-0 2.5,-0   5,-0   5,-0 7.5,-0 7.5,-0.00797  10,-0.00797  10,-0 12.5,-0 12.5,-0  15,-0  15,-0 17.5,-0 17.5,-0  20,-0  20,-0 22.5,-0 22.5,-0.0159  25,-0.0159  25,-0.0159 27.5,-0.0159 27.5,-0  30,-0  30,-0 32.5,-0 32.5,-0.0159  35,-0.0159  35,-0.0159 37.5,-0.0159 37.5,-0.0399  40,-0.0399  40,-0.0478 42.5,-0.0478 42.5,-0.0558  45,-0.0558  45,-0.0797 47.5,-0.0797 47.5,-0.12  50,-0.12  50,-0.128 52.5,-0.128 52.5,-0.207  55,-0.207  55,-0.207 57.5,-0.207 57.5,-0.263  60,-0.263  60,-0.343 62.5,-0.343 62.5,-0.383  65,-0.383  65,-0.542 67.5,-0.542 67.5,-0.614  70,-0.614  70,-0.773 72.5,-0.773 72.5,-1.28  75,-1.28  75,-1.43 77.5,-1.43 77.5,-1.59  80,-1.59  80,-1.89 82.5,-1.89 82.5,-2.47  85,-2.47  85,-2.68 87.5,-2.68 87.5,-3.42  90,-3.42  90,-3.99 92.5,-3.99 92.5,-4.49  95,-4.49  95,-5.43 97.5,-5.43 97.5,-5.94 100,-5.94 100,-6.25 102.5,-6.25 102.5,-7.32 105,-7.32 105,-8.75 107.5,-8.75 107.5,-8.98 110,-8.98 110,-10.3 112.5,-10.3 112.5,-11.7 115,-11.7 115,-12.7 117.5,-12.7 117.5,-13.3 120,-13.3 120,-15.7 122.5,-15.7 122.5,-16.3 125,-16.3 125,-18.4 127.5,-18.4 127.5,-20.8 130,-20.8 130,-21.7 132.5,-21.7 132.5,-23.6 135,-23.6 135,-27 137.5,-27 137.5,-29.4 140,-29.4 140,-33.1 142.5,-33.1 142.5,-36.6 145,-36.6 145,-40.8 147.5,-40.8 147.5,-45.7 150,-45.7 150,-57.4 152.5,-57.4 152.5,-89.5 155,-89.5 155,-100 157.5,-100 157.5,-33.3 160,-33.3 160,-14.8 162.5,-14.8 162.5,-9.47 165,-9.47 165,-7.46 167.5,-7.46 167.5,-5.94 170,-5.94 170,-4.54 172.5,-4.54 172.5,-3.83 175,-3.83 175,-3.2 177.5,-3.2 177.5,-2.87 180,-2.87 180,-2.63 182.5,-2.63 182.5,-2.11 185,-2.11 185,-1.75 187.5,-1.75 187.5,-1.51 190,-1.51 190,-1.11 192.5,-1.11 192.5,-1 195,-1 195,-1.02 197.5,-1.02 197.5,-0.797 200,-0.797 200,-0.757 202.5,-0.757 202.5,-0.646 205,-0.646 205,-0.558 207.5,-0.558 207.5,-0.574 210,-0.574 210,-0.542 212.5,-0.542 212.5,-0.462 215,-0.462 215,-0.462 217.5,-0.462 217.5,-0.327 220,-0.327 220,-0.215 222.5,-0.215 222.5,-0.335 225,-0.335 225,-0.199 227.5,-0.199 227.5,-0.223 230,-0.223 230,-0.128 232.5,-0.128 232.5,-0.167 235,-0.167 235,-0.0797 237.5,-0.0797 237.5,-0.0717 240,-0.0717 240,-0.0399 242.5,-0.0399 242.5,-0.0558 245,-0.0558 245,-0.0319 247.5,-0.0319 247.5,-0.0319 250,-0.0319 250,0\" style=\"fill:none; stroke:currentColor;\"/>\n",
       "</svg>\n",
       "</div>\n",
       "<div style=\"flex=grow:1;\">\n",
       "Regular(100, 0, 200, label='Axis 0')<br/>\n",
       "<hr style=\"margin-top:.2em; margin-bottom:.2em;\"/>\n",
       "Double() Σ=99987.0 <em>(100000.0 with flow)</em>\n",
       "\n",
       "</div>\n",
       "</div>\n",
       "</html>"
      ],
      "text/plain": [
       "Hist(Regular(100, 0, 200, label='Axis 0'), storage=Double()) # Sum: 99987.0 (100000.0 with flow)"
      ]
     },
     "execution_count": 9,
     "metadata": {},
     "output_type": "execute_result"
    }
   ],
   "source": [
    "jets, jet_constituents = get_jets(pseudo_jets)\n",
    "\n",
    "dijets = ak.sum(jets, axis=1)\n",
    "\n",
    "h = hist.Hist.new.Reg(100,0,200).Double().fill(dijets.mass)\n",
    "h"
   ]
  },
  {
   "cell_type": "code",
   "execution_count": null,
   "id": "47349885-e9d5-460a-beee-a29793f67e7f",
   "metadata": {},
   "outputs": [],
   "source": []
  }
 ],
 "metadata": {
  "kernelspec": {
   "display_name": "Python 3 (ipykernel)",
   "language": "python",
   "name": "python3"
  },
  "language_info": {
   "codemirror_mode": {
    "name": "ipython",
    "version": 3
   },
   "file_extension": ".py",
   "mimetype": "text/x-python",
   "name": "python",
   "nbconvert_exporter": "python",
   "pygments_lexer": "ipython3",
   "version": "3.12.5"
  }
 },
 "nbformat": 4,
 "nbformat_minor": 5
}
