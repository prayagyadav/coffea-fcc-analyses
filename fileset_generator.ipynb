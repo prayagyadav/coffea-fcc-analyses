{
 "cells": [
  {
   "cell_type": "code",
   "execution_count": 1,
   "id": "fe9eaed6-cf4e-47dd-bc31-5d11fd4bae13",
   "metadata": {},
   "outputs": [],
   "source": [
    "import json"
   ]
  },
  {
   "cell_type": "code",
   "execution_count": 2,
   "id": "6d828fd6-d185-4d1c-b449-25719ea1e9b7",
   "metadata": {},
   "outputs": [],
   "source": [
    "def getraw(jsonfilename):\n",
    "    '''\n",
    "    Load the raw dictionary\n",
    "    '''\n",
    "    with open(jsonfilename) as f :\n",
    "        full_fileset = json.load(f)\n",
    "    return full_fileset"
   ]
  },
  {
   "cell_type": "code",
   "execution_count": 3,
   "id": "138137a4-b32a-4dd0-952a-78d2ffbd59d5",
   "metadata": {},
   "outputs": [
    {
     "name": "stdout",
     "output_type": "stream",
     "text": [
      "['events_002125352.root', 'events_004864728.root', 'events_008903100.root', 'events_014692952.root', 'events_018575502.root', 'events_022606167.root', 'events_023301643.root', 'events_025023196.root', 'events_029706955.root', 'events_031985013.root', 'events_032939801.root', 'events_034891952.root', 'events_034912729.root', 'events_037707607.root', 'events_038855885.root', 'events_041407970.root', 'events_043299326.root', 'events_045124915.root', 'events_046318292.root', 'events_048296984.root', 'events_048663613.root', 'events_049443070.root', 'events_052041054.root', 'events_053877884.root', 'events_054982901.root', 'events_056238141.root', 'events_056257816.root', 'events_056825147.root', 'events_057538537.root', 'events_058908100.root', 'events_060700514.root', 'events_066271314.root', 'events_066885529.root', 'events_068473881.root', 'events_069023306.root', 'events_069916582.root', 'events_070867151.root', 'events_077008768.root', 'events_077962375.root', 'events_078249050.root', 'events_082033021.root', 'events_082532938.root', 'events_086062119.root', 'events_086985079.root', 'events_087836552.root', 'events_090363173.root', 'events_093977309.root', 'events_094060260.root', 'events_095371472.root', 'events_100576499.root', 'events_101027117.root', 'events_103680377.root', 'events_103809982.root', 'events_103943569.root', 'events_105480610.root', 'events_108029898.root', 'events_108983846.root', 'events_110417352.root', 'events_111350300.root', 'events_112452620.root', 'events_112627804.root', 'events_122783549.root', 'events_124029644.root', 'events_125141732.root', 'events_125548298.root', 'events_125563602.root', 'events_125617067.root', 'events_128856881.root', 'events_129787504.root', 'events_130312231.root', 'events_131037961.root', 'events_131353271.root', 'events_131696350.root', 'events_134901595.root', 'events_148707705.root', 'events_151067642.root', 'events_152661313.root', 'events_156650158.root', 'events_158035290.root', 'events_161541340.root', 'events_164253572.root', 'events_164594826.root', 'events_166334481.root', 'events_167962620.root', 'events_168508377.root', 'events_173244441.root', 'events_176277421.root', 'events_177911379.root', 'events_178227595.root', 'events_181892532.root', 'events_182981412.root', 'events_185677613.root', 'events_188636484.root', 'events_189173555.root', 'events_192233970.root', 'events_192885169.root', 'events_193665838.root', 'events_195554279.root', 'events_196161520.root', 'events_196446064.root']\n"
     ]
    }
   ],
   "source": [
    "with open('./p8_ee_ZH_ecm240.txt') as f :\n",
    "    lines = f.readlines()\n",
    "    lines = [line.strip() for line in lines]\n",
    "    print(lines)"
   ]
  },
  {
   "cell_type": "code",
   "execution_count": 4,
   "id": "a6c7daf2-b48a-4795-9b24-d8b9bd398739",
   "metadata": {},
   "outputs": [
    {
     "data": {
      "text/plain": [
       "{'p8_ee_ZZ_ecm240': {'files': {'/eos/experiment/fcc/ee/generation/DelphesEvents/spring2021/IDEA/p8_ee_ZH_ecm240/events_101027117.root': 'events'}}}"
      ]
     },
     "execution_count": 4,
     "metadata": {},
     "output_type": "execute_result"
    }
   ],
   "source": [
    "jfile = getraw('./fileset.json')\n",
    "jfile"
   ]
  },
  {
   "cell_type": "code",
   "execution_count": 5,
   "id": "1fdae1cd-84ac-4ca7-ac0a-ccffbb932fa5",
   "metadata": {},
   "outputs": [],
   "source": [
    "file_dict = {}\n",
    "path = '/eos/experiment/fcc/ee/generation/DelphesEvents/spring2021/IDEA/p8_ee_ZH_ecm240/'\n",
    "for line in lines:\n",
    "    file_dict[path+line] = 'events'"
   ]
  },
  {
   "cell_type": "code",
   "execution_count": 6,
   "id": "acfbc910-914d-4d7f-b102-07f174f24937",
   "metadata": {},
   "outputs": [],
   "source": [
    "new_fileset = jfile\n",
    "new_fileset['p8_ee_ZZ_ecm240']['files'] = file_dict"
   ]
  },
  {
   "cell_type": "code",
   "execution_count": 7,
   "id": "1bcb93c3-8575-463e-b9ad-5afb3b2222a0",
   "metadata": {},
   "outputs": [
    {
     "data": {
      "text/plain": [
       "{'p8_ee_ZZ_ecm240': {'files': {'/eos/experiment/fcc/ee/generation/DelphesEvents/spring2021/IDEA/p8_ee_ZH_ecm240/events_002125352.root': 'events',\n",
       "   '/eos/experiment/fcc/ee/generation/DelphesEvents/spring2021/IDEA/p8_ee_ZH_ecm240/events_004864728.root': 'events',\n",
       "   '/eos/experiment/fcc/ee/generation/DelphesEvents/spring2021/IDEA/p8_ee_ZH_ecm240/events_008903100.root': 'events',\n",
       "   '/eos/experiment/fcc/ee/generation/DelphesEvents/spring2021/IDEA/p8_ee_ZH_ecm240/events_014692952.root': 'events',\n",
       "   '/eos/experiment/fcc/ee/generation/DelphesEvents/spring2021/IDEA/p8_ee_ZH_ecm240/events_018575502.root': 'events',\n",
       "   '/eos/experiment/fcc/ee/generation/DelphesEvents/spring2021/IDEA/p8_ee_ZH_ecm240/events_022606167.root': 'events',\n",
       "   '/eos/experiment/fcc/ee/generation/DelphesEvents/spring2021/IDEA/p8_ee_ZH_ecm240/events_023301643.root': 'events',\n",
       "   '/eos/experiment/fcc/ee/generation/DelphesEvents/spring2021/IDEA/p8_ee_ZH_ecm240/events_025023196.root': 'events',\n",
       "   '/eos/experiment/fcc/ee/generation/DelphesEvents/spring2021/IDEA/p8_ee_ZH_ecm240/events_029706955.root': 'events',\n",
       "   '/eos/experiment/fcc/ee/generation/DelphesEvents/spring2021/IDEA/p8_ee_ZH_ecm240/events_031985013.root': 'events',\n",
       "   '/eos/experiment/fcc/ee/generation/DelphesEvents/spring2021/IDEA/p8_ee_ZH_ecm240/events_032939801.root': 'events',\n",
       "   '/eos/experiment/fcc/ee/generation/DelphesEvents/spring2021/IDEA/p8_ee_ZH_ecm240/events_034891952.root': 'events',\n",
       "   '/eos/experiment/fcc/ee/generation/DelphesEvents/spring2021/IDEA/p8_ee_ZH_ecm240/events_034912729.root': 'events',\n",
       "   '/eos/experiment/fcc/ee/generation/DelphesEvents/spring2021/IDEA/p8_ee_ZH_ecm240/events_037707607.root': 'events',\n",
       "   '/eos/experiment/fcc/ee/generation/DelphesEvents/spring2021/IDEA/p8_ee_ZH_ecm240/events_038855885.root': 'events',\n",
       "   '/eos/experiment/fcc/ee/generation/DelphesEvents/spring2021/IDEA/p8_ee_ZH_ecm240/events_041407970.root': 'events',\n",
       "   '/eos/experiment/fcc/ee/generation/DelphesEvents/spring2021/IDEA/p8_ee_ZH_ecm240/events_043299326.root': 'events',\n",
       "   '/eos/experiment/fcc/ee/generation/DelphesEvents/spring2021/IDEA/p8_ee_ZH_ecm240/events_045124915.root': 'events',\n",
       "   '/eos/experiment/fcc/ee/generation/DelphesEvents/spring2021/IDEA/p8_ee_ZH_ecm240/events_046318292.root': 'events',\n",
       "   '/eos/experiment/fcc/ee/generation/DelphesEvents/spring2021/IDEA/p8_ee_ZH_ecm240/events_048296984.root': 'events',\n",
       "   '/eos/experiment/fcc/ee/generation/DelphesEvents/spring2021/IDEA/p8_ee_ZH_ecm240/events_048663613.root': 'events',\n",
       "   '/eos/experiment/fcc/ee/generation/DelphesEvents/spring2021/IDEA/p8_ee_ZH_ecm240/events_049443070.root': 'events',\n",
       "   '/eos/experiment/fcc/ee/generation/DelphesEvents/spring2021/IDEA/p8_ee_ZH_ecm240/events_052041054.root': 'events',\n",
       "   '/eos/experiment/fcc/ee/generation/DelphesEvents/spring2021/IDEA/p8_ee_ZH_ecm240/events_053877884.root': 'events',\n",
       "   '/eos/experiment/fcc/ee/generation/DelphesEvents/spring2021/IDEA/p8_ee_ZH_ecm240/events_054982901.root': 'events',\n",
       "   '/eos/experiment/fcc/ee/generation/DelphesEvents/spring2021/IDEA/p8_ee_ZH_ecm240/events_056238141.root': 'events',\n",
       "   '/eos/experiment/fcc/ee/generation/DelphesEvents/spring2021/IDEA/p8_ee_ZH_ecm240/events_056257816.root': 'events',\n",
       "   '/eos/experiment/fcc/ee/generation/DelphesEvents/spring2021/IDEA/p8_ee_ZH_ecm240/events_056825147.root': 'events',\n",
       "   '/eos/experiment/fcc/ee/generation/DelphesEvents/spring2021/IDEA/p8_ee_ZH_ecm240/events_057538537.root': 'events',\n",
       "   '/eos/experiment/fcc/ee/generation/DelphesEvents/spring2021/IDEA/p8_ee_ZH_ecm240/events_058908100.root': 'events',\n",
       "   '/eos/experiment/fcc/ee/generation/DelphesEvents/spring2021/IDEA/p8_ee_ZH_ecm240/events_060700514.root': 'events',\n",
       "   '/eos/experiment/fcc/ee/generation/DelphesEvents/spring2021/IDEA/p8_ee_ZH_ecm240/events_066271314.root': 'events',\n",
       "   '/eos/experiment/fcc/ee/generation/DelphesEvents/spring2021/IDEA/p8_ee_ZH_ecm240/events_066885529.root': 'events',\n",
       "   '/eos/experiment/fcc/ee/generation/DelphesEvents/spring2021/IDEA/p8_ee_ZH_ecm240/events_068473881.root': 'events',\n",
       "   '/eos/experiment/fcc/ee/generation/DelphesEvents/spring2021/IDEA/p8_ee_ZH_ecm240/events_069023306.root': 'events',\n",
       "   '/eos/experiment/fcc/ee/generation/DelphesEvents/spring2021/IDEA/p8_ee_ZH_ecm240/events_069916582.root': 'events',\n",
       "   '/eos/experiment/fcc/ee/generation/DelphesEvents/spring2021/IDEA/p8_ee_ZH_ecm240/events_070867151.root': 'events',\n",
       "   '/eos/experiment/fcc/ee/generation/DelphesEvents/spring2021/IDEA/p8_ee_ZH_ecm240/events_077008768.root': 'events',\n",
       "   '/eos/experiment/fcc/ee/generation/DelphesEvents/spring2021/IDEA/p8_ee_ZH_ecm240/events_077962375.root': 'events',\n",
       "   '/eos/experiment/fcc/ee/generation/DelphesEvents/spring2021/IDEA/p8_ee_ZH_ecm240/events_078249050.root': 'events',\n",
       "   '/eos/experiment/fcc/ee/generation/DelphesEvents/spring2021/IDEA/p8_ee_ZH_ecm240/events_082033021.root': 'events',\n",
       "   '/eos/experiment/fcc/ee/generation/DelphesEvents/spring2021/IDEA/p8_ee_ZH_ecm240/events_082532938.root': 'events',\n",
       "   '/eos/experiment/fcc/ee/generation/DelphesEvents/spring2021/IDEA/p8_ee_ZH_ecm240/events_086062119.root': 'events',\n",
       "   '/eos/experiment/fcc/ee/generation/DelphesEvents/spring2021/IDEA/p8_ee_ZH_ecm240/events_086985079.root': 'events',\n",
       "   '/eos/experiment/fcc/ee/generation/DelphesEvents/spring2021/IDEA/p8_ee_ZH_ecm240/events_087836552.root': 'events',\n",
       "   '/eos/experiment/fcc/ee/generation/DelphesEvents/spring2021/IDEA/p8_ee_ZH_ecm240/events_090363173.root': 'events',\n",
       "   '/eos/experiment/fcc/ee/generation/DelphesEvents/spring2021/IDEA/p8_ee_ZH_ecm240/events_093977309.root': 'events',\n",
       "   '/eos/experiment/fcc/ee/generation/DelphesEvents/spring2021/IDEA/p8_ee_ZH_ecm240/events_094060260.root': 'events',\n",
       "   '/eos/experiment/fcc/ee/generation/DelphesEvents/spring2021/IDEA/p8_ee_ZH_ecm240/events_095371472.root': 'events',\n",
       "   '/eos/experiment/fcc/ee/generation/DelphesEvents/spring2021/IDEA/p8_ee_ZH_ecm240/events_100576499.root': 'events',\n",
       "   '/eos/experiment/fcc/ee/generation/DelphesEvents/spring2021/IDEA/p8_ee_ZH_ecm240/events_101027117.root': 'events',\n",
       "   '/eos/experiment/fcc/ee/generation/DelphesEvents/spring2021/IDEA/p8_ee_ZH_ecm240/events_103680377.root': 'events',\n",
       "   '/eos/experiment/fcc/ee/generation/DelphesEvents/spring2021/IDEA/p8_ee_ZH_ecm240/events_103809982.root': 'events',\n",
       "   '/eos/experiment/fcc/ee/generation/DelphesEvents/spring2021/IDEA/p8_ee_ZH_ecm240/events_103943569.root': 'events',\n",
       "   '/eos/experiment/fcc/ee/generation/DelphesEvents/spring2021/IDEA/p8_ee_ZH_ecm240/events_105480610.root': 'events',\n",
       "   '/eos/experiment/fcc/ee/generation/DelphesEvents/spring2021/IDEA/p8_ee_ZH_ecm240/events_108029898.root': 'events',\n",
       "   '/eos/experiment/fcc/ee/generation/DelphesEvents/spring2021/IDEA/p8_ee_ZH_ecm240/events_108983846.root': 'events',\n",
       "   '/eos/experiment/fcc/ee/generation/DelphesEvents/spring2021/IDEA/p8_ee_ZH_ecm240/events_110417352.root': 'events',\n",
       "   '/eos/experiment/fcc/ee/generation/DelphesEvents/spring2021/IDEA/p8_ee_ZH_ecm240/events_111350300.root': 'events',\n",
       "   '/eos/experiment/fcc/ee/generation/DelphesEvents/spring2021/IDEA/p8_ee_ZH_ecm240/events_112452620.root': 'events',\n",
       "   '/eos/experiment/fcc/ee/generation/DelphesEvents/spring2021/IDEA/p8_ee_ZH_ecm240/events_112627804.root': 'events',\n",
       "   '/eos/experiment/fcc/ee/generation/DelphesEvents/spring2021/IDEA/p8_ee_ZH_ecm240/events_122783549.root': 'events',\n",
       "   '/eos/experiment/fcc/ee/generation/DelphesEvents/spring2021/IDEA/p8_ee_ZH_ecm240/events_124029644.root': 'events',\n",
       "   '/eos/experiment/fcc/ee/generation/DelphesEvents/spring2021/IDEA/p8_ee_ZH_ecm240/events_125141732.root': 'events',\n",
       "   '/eos/experiment/fcc/ee/generation/DelphesEvents/spring2021/IDEA/p8_ee_ZH_ecm240/events_125548298.root': 'events',\n",
       "   '/eos/experiment/fcc/ee/generation/DelphesEvents/spring2021/IDEA/p8_ee_ZH_ecm240/events_125563602.root': 'events',\n",
       "   '/eos/experiment/fcc/ee/generation/DelphesEvents/spring2021/IDEA/p8_ee_ZH_ecm240/events_125617067.root': 'events',\n",
       "   '/eos/experiment/fcc/ee/generation/DelphesEvents/spring2021/IDEA/p8_ee_ZH_ecm240/events_128856881.root': 'events',\n",
       "   '/eos/experiment/fcc/ee/generation/DelphesEvents/spring2021/IDEA/p8_ee_ZH_ecm240/events_129787504.root': 'events',\n",
       "   '/eos/experiment/fcc/ee/generation/DelphesEvents/spring2021/IDEA/p8_ee_ZH_ecm240/events_130312231.root': 'events',\n",
       "   '/eos/experiment/fcc/ee/generation/DelphesEvents/spring2021/IDEA/p8_ee_ZH_ecm240/events_131037961.root': 'events',\n",
       "   '/eos/experiment/fcc/ee/generation/DelphesEvents/spring2021/IDEA/p8_ee_ZH_ecm240/events_131353271.root': 'events',\n",
       "   '/eos/experiment/fcc/ee/generation/DelphesEvents/spring2021/IDEA/p8_ee_ZH_ecm240/events_131696350.root': 'events',\n",
       "   '/eos/experiment/fcc/ee/generation/DelphesEvents/spring2021/IDEA/p8_ee_ZH_ecm240/events_134901595.root': 'events',\n",
       "   '/eos/experiment/fcc/ee/generation/DelphesEvents/spring2021/IDEA/p8_ee_ZH_ecm240/events_148707705.root': 'events',\n",
       "   '/eos/experiment/fcc/ee/generation/DelphesEvents/spring2021/IDEA/p8_ee_ZH_ecm240/events_151067642.root': 'events',\n",
       "   '/eos/experiment/fcc/ee/generation/DelphesEvents/spring2021/IDEA/p8_ee_ZH_ecm240/events_152661313.root': 'events',\n",
       "   '/eos/experiment/fcc/ee/generation/DelphesEvents/spring2021/IDEA/p8_ee_ZH_ecm240/events_156650158.root': 'events',\n",
       "   '/eos/experiment/fcc/ee/generation/DelphesEvents/spring2021/IDEA/p8_ee_ZH_ecm240/events_158035290.root': 'events',\n",
       "   '/eos/experiment/fcc/ee/generation/DelphesEvents/spring2021/IDEA/p8_ee_ZH_ecm240/events_161541340.root': 'events',\n",
       "   '/eos/experiment/fcc/ee/generation/DelphesEvents/spring2021/IDEA/p8_ee_ZH_ecm240/events_164253572.root': 'events',\n",
       "   '/eos/experiment/fcc/ee/generation/DelphesEvents/spring2021/IDEA/p8_ee_ZH_ecm240/events_164594826.root': 'events',\n",
       "   '/eos/experiment/fcc/ee/generation/DelphesEvents/spring2021/IDEA/p8_ee_ZH_ecm240/events_166334481.root': 'events',\n",
       "   '/eos/experiment/fcc/ee/generation/DelphesEvents/spring2021/IDEA/p8_ee_ZH_ecm240/events_167962620.root': 'events',\n",
       "   '/eos/experiment/fcc/ee/generation/DelphesEvents/spring2021/IDEA/p8_ee_ZH_ecm240/events_168508377.root': 'events',\n",
       "   '/eos/experiment/fcc/ee/generation/DelphesEvents/spring2021/IDEA/p8_ee_ZH_ecm240/events_173244441.root': 'events',\n",
       "   '/eos/experiment/fcc/ee/generation/DelphesEvents/spring2021/IDEA/p8_ee_ZH_ecm240/events_176277421.root': 'events',\n",
       "   '/eos/experiment/fcc/ee/generation/DelphesEvents/spring2021/IDEA/p8_ee_ZH_ecm240/events_177911379.root': 'events',\n",
       "   '/eos/experiment/fcc/ee/generation/DelphesEvents/spring2021/IDEA/p8_ee_ZH_ecm240/events_178227595.root': 'events',\n",
       "   '/eos/experiment/fcc/ee/generation/DelphesEvents/spring2021/IDEA/p8_ee_ZH_ecm240/events_181892532.root': 'events',\n",
       "   '/eos/experiment/fcc/ee/generation/DelphesEvents/spring2021/IDEA/p8_ee_ZH_ecm240/events_182981412.root': 'events',\n",
       "   '/eos/experiment/fcc/ee/generation/DelphesEvents/spring2021/IDEA/p8_ee_ZH_ecm240/events_185677613.root': 'events',\n",
       "   '/eos/experiment/fcc/ee/generation/DelphesEvents/spring2021/IDEA/p8_ee_ZH_ecm240/events_188636484.root': 'events',\n",
       "   '/eos/experiment/fcc/ee/generation/DelphesEvents/spring2021/IDEA/p8_ee_ZH_ecm240/events_189173555.root': 'events',\n",
       "   '/eos/experiment/fcc/ee/generation/DelphesEvents/spring2021/IDEA/p8_ee_ZH_ecm240/events_192233970.root': 'events',\n",
       "   '/eos/experiment/fcc/ee/generation/DelphesEvents/spring2021/IDEA/p8_ee_ZH_ecm240/events_192885169.root': 'events',\n",
       "   '/eos/experiment/fcc/ee/generation/DelphesEvents/spring2021/IDEA/p8_ee_ZH_ecm240/events_193665838.root': 'events',\n",
       "   '/eos/experiment/fcc/ee/generation/DelphesEvents/spring2021/IDEA/p8_ee_ZH_ecm240/events_195554279.root': 'events',\n",
       "   '/eos/experiment/fcc/ee/generation/DelphesEvents/spring2021/IDEA/p8_ee_ZH_ecm240/events_196161520.root': 'events',\n",
       "   '/eos/experiment/fcc/ee/generation/DelphesEvents/spring2021/IDEA/p8_ee_ZH_ecm240/events_196446064.root': 'events'}}}"
      ]
     },
     "execution_count": 7,
     "metadata": {},
     "output_type": "execute_result"
    }
   ],
   "source": [
    "new_fileset"
   ]
  },
  {
   "cell_type": "code",
   "execution_count": 8,
   "id": "3b115e11-d1c3-4071-85fc-78acb8714eab",
   "metadata": {},
   "outputs": [],
   "source": [
    "with open(\"full_fileset.json\", \"w\") as outfile: \n",
    "    json.dump(new_fileset, outfile)"
   ]
  },
  {
   "cell_type": "code",
   "execution_count": null,
   "id": "d73c4c29-538f-4256-986a-06805b0a5f28",
   "metadata": {},
   "outputs": [],
   "source": []
  }
 ],
 "metadata": {
  "kernelspec": {
   "display_name": "Python 3 (ipykernel)",
   "language": "python",
   "name": "python3"
  },
  "language_info": {
   "codemirror_mode": {
    "name": "ipython",
    "version": 3
   },
   "file_extension": ".py",
   "mimetype": "text/x-python",
   "name": "python",
   "nbconvert_exporter": "python",
   "pygments_lexer": "ipython3",
   "version": "3.12.3"
  }
 },
 "nbformat": 4,
 "nbformat_minor": 5
}
