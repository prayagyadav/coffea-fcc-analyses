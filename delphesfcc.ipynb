{
 "cells": [
  {
   "cell_type": "code",
   "execution_count": 77,
   "id": "f80efbea-82a8-4037-a11e-c2888175f17d",
   "metadata": {},
   "outputs": [],
   "source": [
    "from coffea.nanoevents import NanoEventsFactory,BaseSchema,DelphesSchema,NanoAODSchema\n",
    "import dask_awkward as dak\n",
    "import hist\n",
    "import matplotlib.pyplot as plt\n",
    "import mplhep as hep"
   ]
  },
  {
   "cell_type": "code",
   "execution_count": 34,
   "id": "861bb4ca-6bd8-466c-8b6b-fe0668ae92fd",
   "metadata": {},
   "outputs": [],
   "source": [
    "events = NanoEventsFactory.from_root(\n",
    "    file=\"./events_2021100911011863214.root:events\",\n",
    "    schemaclass=BaseSchema,\n",
    "    # schemaclass=DelphesSchema, Doesn't work \n",
    "    # schemaclass=NanoAODSchema.v7, Doesn't work\n",
    "    metadata={\n",
    "        \"path\":\"/eos/experiment/fcc/ee/generation/DelphesEvents/spring2021/IDEA/kkmcp8_ee_mumu_ecm240/\",\n",
    "        \"name\":\"kkmcp8_ee_mumu_ecm240\",\n",
    "        \"process\":\"Z/gamma* to mumu, ecm=240 GeV\"\n",
    "    }\n",
    ").events()"
   ]
  },
  {
   "cell_type": "code",
   "execution_count": 35,
   "id": "86ae61cd-2c6d-43da-a322-544486e529f2",
   "metadata": {},
   "outputs": [
    {
     "data": {
      "text/plain": [
       "['Electron',\n",
       " 'Electron#0',\n",
       " 'Electron#0/Electron#0.index',\n",
       " 'Electron#0/Electron#0.collectionID',\n",
       " 'Muon',\n",
       " 'Muon#0',\n",
       " 'Muon#0/Muon#0.index',\n",
       " 'Muon#0/Muon#0.collectionID',\n",
       " 'AllMuon',\n",
       " 'AllMuon#0',\n",
       " 'AllMuon#0/AllMuon#0.index',\n",
       " 'AllMuon#0/AllMuon#0.collectionID',\n",
       " 'EFlowNeutralHadron',\n",
       " 'EFlowNeutralHadron/EFlowNeutralHadron.type',\n",
       " 'EFlowNeutralHadron/EFlowNeutralHadron.energy',\n",
       " 'EFlowNeutralHadron/EFlowNeutralHadron.energyError',\n",
       " 'EFlowNeutralHadron/EFlowNeutralHadron.position.x',\n",
       " 'EFlowNeutralHadron/EFlowNeutralHadron.position.y',\n",
       " 'EFlowNeutralHadron/EFlowNeutralHadron.position.z',\n",
       " 'EFlowNeutralHadron/EFlowNeutralHadron.positionError[6]',\n",
       " 'EFlowNeutralHadron/EFlowNeutralHadron.iTheta',\n",
       " 'EFlowNeutralHadron/EFlowNeutralHadron.phi',\n",
       " 'EFlowNeutralHadron/EFlowNeutralHadron.directionError.x',\n",
       " 'EFlowNeutralHadron/EFlowNeutralHadron.directionError.y',\n",
       " 'EFlowNeutralHadron/EFlowNeutralHadron.directionError.z',\n",
       " 'EFlowNeutralHadron/EFlowNeutralHadron.shapeParameters_begin',\n",
       " 'EFlowNeutralHadron/EFlowNeutralHadron.shapeParameters_end',\n",
       " 'EFlowNeutralHadron/EFlowNeutralHadron.hitContributions_begin',\n",
       " 'EFlowNeutralHadron/EFlowNeutralHadron.hitContributions_end',\n",
       " 'EFlowNeutralHadron/EFlowNeutralHadron.subdetectorEnergies_begin',\n",
       " 'EFlowNeutralHadron/EFlowNeutralHadron.subdetectorEnergies_end',\n",
       " 'EFlowNeutralHadron/EFlowNeutralHadron.clusters_begin',\n",
       " 'EFlowNeutralHadron/EFlowNeutralHadron.clusters_end',\n",
       " 'EFlowNeutralHadron/EFlowNeutralHadron.hits_begin',\n",
       " 'EFlowNeutralHadron/EFlowNeutralHadron.hits_end',\n",
       " 'EFlowNeutralHadron/EFlowNeutralHadron.particleIDs_begin',\n",
       " 'EFlowNeutralHadron/EFlowNeutralHadron.particleIDs_end',\n",
       " 'EFlowNeutralHadron#0',\n",
       " 'EFlowNeutralHadron#0/EFlowNeutralHadron#0.index',\n",
       " 'EFlowNeutralHadron#0/EFlowNeutralHadron#0.collectionID',\n",
       " 'EFlowNeutralHadron#1',\n",
       " 'EFlowNeutralHadron#1/EFlowNeutralHadron#1.index',\n",
       " 'EFlowNeutralHadron#1/EFlowNeutralHadron#1.collectionID',\n",
       " 'EFlowNeutralHadron#2',\n",
       " 'EFlowNeutralHadron#2/EFlowNeutralHadron#2.index',\n",
       " 'EFlowNeutralHadron#2/EFlowNeutralHadron#2.collectionID',\n",
       " 'EFlowNeutralHadron_0',\n",
       " 'EFlowNeutralHadron_1',\n",
       " 'EFlowNeutralHadron_2',\n",
       " 'Particle',\n",
       " 'Particle/Particle.PDG',\n",
       " 'Particle/Particle.generatorStatus',\n",
       " 'Particle/Particle.simulatorStatus',\n",
       " 'Particle/Particle.charge',\n",
       " 'Particle/Particle.time',\n",
       " 'Particle/Particle.mass',\n",
       " 'Particle/Particle.vertex.x',\n",
       " 'Particle/Particle.vertex.y',\n",
       " 'Particle/Particle.vertex.z',\n",
       " 'Particle/Particle.endpoint.x',\n",
       " 'Particle/Particle.endpoint.y',\n",
       " 'Particle/Particle.endpoint.z',\n",
       " 'Particle/Particle.momentum.x',\n",
       " 'Particle/Particle.momentum.y',\n",
       " 'Particle/Particle.momentum.z',\n",
       " 'Particle/Particle.momentumAtEndpoint.x',\n",
       " 'Particle/Particle.momentumAtEndpoint.y',\n",
       " 'Particle/Particle.momentumAtEndpoint.z',\n",
       " 'Particle/Particle.spin.x',\n",
       " 'Particle/Particle.spin.y',\n",
       " 'Particle/Particle.spin.z',\n",
       " 'Particle/Particle.colorFlow.a',\n",
       " 'Particle/Particle.colorFlow.b',\n",
       " 'Particle/Particle.parents_begin',\n",
       " 'Particle/Particle.parents_end',\n",
       " 'Particle/Particle.daughters_begin',\n",
       " 'Particle/Particle.daughters_end',\n",
       " 'Particle#0',\n",
       " 'Particle#0/Particle#0.index',\n",
       " 'Particle#0/Particle#0.collectionID',\n",
       " 'Particle#1',\n",
       " 'Particle#1/Particle#1.index',\n",
       " 'Particle#1/Particle#1.collectionID',\n",
       " 'Photon',\n",
       " 'Photon#0',\n",
       " 'Photon#0/Photon#0.index',\n",
       " 'Photon#0/Photon#0.collectionID',\n",
       " 'ReconstructedParticles',\n",
       " 'ReconstructedParticles/ReconstructedParticles.type',\n",
       " 'ReconstructedParticles/ReconstructedParticles.energy',\n",
       " 'ReconstructedParticles/ReconstructedParticles.momentum.x',\n",
       " 'ReconstructedParticles/ReconstructedParticles.momentum.y',\n",
       " 'ReconstructedParticles/ReconstructedParticles.momentum.z',\n",
       " 'ReconstructedParticles/ReconstructedParticles.referencePoint.x',\n",
       " 'ReconstructedParticles/ReconstructedParticles.referencePoint.y',\n",
       " 'ReconstructedParticles/ReconstructedParticles.referencePoint.z',\n",
       " 'ReconstructedParticles/ReconstructedParticles.charge',\n",
       " 'ReconstructedParticles/ReconstructedParticles.mass',\n",
       " 'ReconstructedParticles/ReconstructedParticles.goodnessOfPID',\n",
       " 'ReconstructedParticles/ReconstructedParticles.covMatrix[10]',\n",
       " 'ReconstructedParticles/ReconstructedParticles.clusters_begin',\n",
       " 'ReconstructedParticles/ReconstructedParticles.clusters_end',\n",
       " 'ReconstructedParticles/ReconstructedParticles.tracks_begin',\n",
       " 'ReconstructedParticles/ReconstructedParticles.tracks_end',\n",
       " 'ReconstructedParticles/ReconstructedParticles.particles_begin',\n",
       " 'ReconstructedParticles/ReconstructedParticles.particles_end',\n",
       " 'ReconstructedParticles/ReconstructedParticles.particleIDs_begin',\n",
       " 'ReconstructedParticles/ReconstructedParticles.particleIDs_end',\n",
       " 'ReconstructedParticles#0',\n",
       " 'ReconstructedParticles#0/ReconstructedParticles#0.index',\n",
       " 'ReconstructedParticles#0/ReconstructedParticles#0.collectionID',\n",
       " 'ReconstructedParticles#1',\n",
       " 'ReconstructedParticles#1/ReconstructedParticles#1.index',\n",
       " 'ReconstructedParticles#1/ReconstructedParticles#1.collectionID',\n",
       " 'ReconstructedParticles#2',\n",
       " 'ReconstructedParticles#2/ReconstructedParticles#2.index',\n",
       " 'ReconstructedParticles#2/ReconstructedParticles#2.collectionID',\n",
       " 'ReconstructedParticles#3',\n",
       " 'ReconstructedParticles#3/ReconstructedParticles#3.index',\n",
       " 'ReconstructedParticles#3/ReconstructedParticles#3.collectionID',\n",
       " 'ReconstructedParticles#4',\n",
       " 'ReconstructedParticles#4/ReconstructedParticles#4.index',\n",
       " 'ReconstructedParticles#4/ReconstructedParticles#4.collectionID',\n",
       " 'ReconstructedParticles#5',\n",
       " 'ReconstructedParticles#5/ReconstructedParticles#5.index',\n",
       " 'ReconstructedParticles#5/ReconstructedParticles#5.collectionID',\n",
       " 'EFlowPhoton',\n",
       " 'EFlowPhoton/EFlowPhoton.type',\n",
       " 'EFlowPhoton/EFlowPhoton.energy',\n",
       " 'EFlowPhoton/EFlowPhoton.energyError',\n",
       " 'EFlowPhoton/EFlowPhoton.position.x',\n",
       " 'EFlowPhoton/EFlowPhoton.position.y',\n",
       " 'EFlowPhoton/EFlowPhoton.position.z',\n",
       " 'EFlowPhoton/EFlowPhoton.positionError[6]',\n",
       " 'EFlowPhoton/EFlowPhoton.iTheta',\n",
       " 'EFlowPhoton/EFlowPhoton.phi',\n",
       " 'EFlowPhoton/EFlowPhoton.directionError.x',\n",
       " 'EFlowPhoton/EFlowPhoton.directionError.y',\n",
       " 'EFlowPhoton/EFlowPhoton.directionError.z',\n",
       " 'EFlowPhoton/EFlowPhoton.shapeParameters_begin',\n",
       " 'EFlowPhoton/EFlowPhoton.shapeParameters_end',\n",
       " 'EFlowPhoton/EFlowPhoton.hitContributions_begin',\n",
       " 'EFlowPhoton/EFlowPhoton.hitContributions_end',\n",
       " 'EFlowPhoton/EFlowPhoton.subdetectorEnergies_begin',\n",
       " 'EFlowPhoton/EFlowPhoton.subdetectorEnergies_end',\n",
       " 'EFlowPhoton/EFlowPhoton.clusters_begin',\n",
       " 'EFlowPhoton/EFlowPhoton.clusters_end',\n",
       " 'EFlowPhoton/EFlowPhoton.hits_begin',\n",
       " 'EFlowPhoton/EFlowPhoton.hits_end',\n",
       " 'EFlowPhoton/EFlowPhoton.particleIDs_begin',\n",
       " 'EFlowPhoton/EFlowPhoton.particleIDs_end',\n",
       " 'EFlowPhoton#0',\n",
       " 'EFlowPhoton#0/EFlowPhoton#0.index',\n",
       " 'EFlowPhoton#0/EFlowPhoton#0.collectionID',\n",
       " 'EFlowPhoton#1',\n",
       " 'EFlowPhoton#1/EFlowPhoton#1.index',\n",
       " 'EFlowPhoton#1/EFlowPhoton#1.collectionID',\n",
       " 'EFlowPhoton#2',\n",
       " 'EFlowPhoton#2/EFlowPhoton#2.index',\n",
       " 'EFlowPhoton#2/EFlowPhoton#2.collectionID',\n",
       " 'EFlowPhoton_0',\n",
       " 'EFlowPhoton_1',\n",
       " 'EFlowPhoton_2',\n",
       " 'MCRecoAssociations',\n",
       " 'MCRecoAssociations/MCRecoAssociations.weight',\n",
       " 'MCRecoAssociations#0',\n",
       " 'MCRecoAssociations#0/MCRecoAssociations#0.index',\n",
       " 'MCRecoAssociations#0/MCRecoAssociations#0.collectionID',\n",
       " 'MCRecoAssociations#1',\n",
       " 'MCRecoAssociations#1/MCRecoAssociations#1.index',\n",
       " 'MCRecoAssociations#1/MCRecoAssociations#1.collectionID',\n",
       " 'MissingET',\n",
       " 'MissingET/MissingET.type',\n",
       " 'MissingET/MissingET.energy',\n",
       " 'MissingET/MissingET.momentum.x',\n",
       " 'MissingET/MissingET.momentum.y',\n",
       " 'MissingET/MissingET.momentum.z',\n",
       " 'MissingET/MissingET.referencePoint.x',\n",
       " 'MissingET/MissingET.referencePoint.y',\n",
       " 'MissingET/MissingET.referencePoint.z',\n",
       " 'MissingET/MissingET.charge',\n",
       " 'MissingET/MissingET.mass',\n",
       " 'MissingET/MissingET.goodnessOfPID',\n",
       " 'MissingET/MissingET.covMatrix[10]',\n",
       " 'MissingET/MissingET.clusters_begin',\n",
       " 'MissingET/MissingET.clusters_end',\n",
       " 'MissingET/MissingET.tracks_begin',\n",
       " 'MissingET/MissingET.tracks_end',\n",
       " 'MissingET/MissingET.particles_begin',\n",
       " 'MissingET/MissingET.particles_end',\n",
       " 'MissingET/MissingET.particleIDs_begin',\n",
       " 'MissingET/MissingET.particleIDs_end',\n",
       " 'MissingET#0',\n",
       " 'MissingET#0/MissingET#0.index',\n",
       " 'MissingET#0/MissingET#0.collectionID',\n",
       " 'MissingET#1',\n",
       " 'MissingET#1/MissingET#1.index',\n",
       " 'MissingET#1/MissingET#1.collectionID',\n",
       " 'MissingET#2',\n",
       " 'MissingET#2/MissingET#2.index',\n",
       " 'MissingET#2/MissingET#2.collectionID',\n",
       " 'MissingET#3',\n",
       " 'MissingET#3/MissingET#3.index',\n",
       " 'MissingET#3/MissingET#3.collectionID',\n",
       " 'MissingET#4',\n",
       " 'MissingET#4/MissingET#4.index',\n",
       " 'MissingET#4/MissingET#4.collectionID',\n",
       " 'MissingET#5',\n",
       " 'MissingET#5/MissingET#5.index',\n",
       " 'MissingET#5/MissingET#5.collectionID',\n",
       " 'ParticleIDs',\n",
       " 'ParticleIDs/ParticleIDs.type',\n",
       " 'ParticleIDs/ParticleIDs.PDG',\n",
       " 'ParticleIDs/ParticleIDs.algorithmType',\n",
       " 'ParticleIDs/ParticleIDs.likelihood',\n",
       " 'ParticleIDs/ParticleIDs.parameters_begin',\n",
       " 'ParticleIDs/ParticleIDs.parameters_end',\n",
       " 'ParticleIDs_0',\n",
       " 'Jet',\n",
       " 'Jet/Jet.type',\n",
       " 'Jet/Jet.energy',\n",
       " 'Jet/Jet.momentum.x',\n",
       " 'Jet/Jet.momentum.y',\n",
       " 'Jet/Jet.momentum.z',\n",
       " 'Jet/Jet.referencePoint.x',\n",
       " 'Jet/Jet.referencePoint.y',\n",
       " 'Jet/Jet.referencePoint.z',\n",
       " 'Jet/Jet.charge',\n",
       " 'Jet/Jet.mass',\n",
       " 'Jet/Jet.goodnessOfPID',\n",
       " 'Jet/Jet.covMatrix[10]',\n",
       " 'Jet/Jet.clusters_begin',\n",
       " 'Jet/Jet.clusters_end',\n",
       " 'Jet/Jet.tracks_begin',\n",
       " 'Jet/Jet.tracks_end',\n",
       " 'Jet/Jet.particles_begin',\n",
       " 'Jet/Jet.particles_end',\n",
       " 'Jet/Jet.particleIDs_begin',\n",
       " 'Jet/Jet.particleIDs_end',\n",
       " 'Jet#0',\n",
       " 'Jet#0/Jet#0.index',\n",
       " 'Jet#0/Jet#0.collectionID',\n",
       " 'Jet#1',\n",
       " 'Jet#1/Jet#1.index',\n",
       " 'Jet#1/Jet#1.collectionID',\n",
       " 'Jet#2',\n",
       " 'Jet#2/Jet#2.index',\n",
       " 'Jet#2/Jet#2.collectionID',\n",
       " 'Jet#3',\n",
       " 'Jet#3/Jet#3.index',\n",
       " 'Jet#3/Jet#3.collectionID',\n",
       " 'Jet#4',\n",
       " 'Jet#4/Jet#4.index',\n",
       " 'Jet#4/Jet#4.collectionID',\n",
       " 'Jet#5',\n",
       " 'Jet#5/Jet#5.index',\n",
       " 'Jet#5/Jet#5.collectionID',\n",
       " 'EFlowTrack',\n",
       " 'EFlowTrack/EFlowTrack.type',\n",
       " 'EFlowTrack/EFlowTrack.chi2',\n",
       " 'EFlowTrack/EFlowTrack.ndf',\n",
       " 'EFlowTrack/EFlowTrack.dEdx',\n",
       " 'EFlowTrack/EFlowTrack.dEdxError',\n",
       " 'EFlowTrack/EFlowTrack.radiusOfInnermostHit',\n",
       " 'EFlowTrack/EFlowTrack.subDetectorHitNumbers_begin',\n",
       " 'EFlowTrack/EFlowTrack.subDetectorHitNumbers_end',\n",
       " 'EFlowTrack/EFlowTrack.trackStates_begin',\n",
       " 'EFlowTrack/EFlowTrack.trackStates_end',\n",
       " 'EFlowTrack/EFlowTrack.trackerHits_begin',\n",
       " 'EFlowTrack/EFlowTrack.trackerHits_end',\n",
       " 'EFlowTrack/EFlowTrack.tracks_begin',\n",
       " 'EFlowTrack/EFlowTrack.tracks_end',\n",
       " 'EFlowTrack#0',\n",
       " 'EFlowTrack#0/EFlowTrack#0.index',\n",
       " 'EFlowTrack#0/EFlowTrack#0.collectionID',\n",
       " 'EFlowTrack#1',\n",
       " 'EFlowTrack#1/EFlowTrack#1.index',\n",
       " 'EFlowTrack#1/EFlowTrack#1.collectionID',\n",
       " 'EFlowTrack_0',\n",
       " 'EFlowTrack_1',\n",
       " 'EFlowTrack_1/EFlowTrack_1.location',\n",
       " 'EFlowTrack_1/EFlowTrack_1.D0',\n",
       " 'EFlowTrack_1/EFlowTrack_1.phi',\n",
       " 'EFlowTrack_1/EFlowTrack_1.omega',\n",
       " 'EFlowTrack_1/EFlowTrack_1.Z0',\n",
       " 'EFlowTrack_1/EFlowTrack_1.tanLambda',\n",
       " 'EFlowTrack_1/EFlowTrack_1.referencePoint.x',\n",
       " 'EFlowTrack_1/EFlowTrack_1.referencePoint.y',\n",
       " 'EFlowTrack_1/EFlowTrack_1.referencePoint.z',\n",
       " 'EFlowTrack_1/EFlowTrack_1.covMatrix[15]']"
      ]
     },
     "execution_count": 35,
     "metadata": {},
     "output_type": "execute_result"
    }
   ],
   "source": [
    "events.fields"
   ]
  },
  {
   "cell_type": "code",
   "execution_count": 51,
   "id": "997b70a6-8753-460e-b466-b4c22e1ffe34",
   "metadata": {},
   "outputs": [],
   "source": [
    "jet_charge = events['Jet/Jet.charge']\n",
    "jet_charge = jet_charge > 0"
   ]
  },
  {
   "cell_type": "code",
   "execution_count": 57,
   "id": "756e9ad0-daed-4e62-a25f-7d6658337fd2",
   "metadata": {},
   "outputs": [
    {
     "data": {
      "text/html": [
       "<pre>[0,\n",
       " 0,\n",
       " 0,\n",
       " 0,\n",
       " 0,\n",
       " 0,\n",
       " 0,\n",
       " 0,\n",
       " 0,\n",
       " 0,\n",
       " ...,\n",
       " 0,\n",
       " 0,\n",
       " 0,\n",
       " 0,\n",
       " 0,\n",
       " 0,\n",
       " 0,\n",
       " 0,\n",
       " 0]\n",
       "--------------------\n",
       "type: 100000 * int64</pre>"
      ],
      "text/plain": [
       "<Array [0, 0, 0, 0, 0, 0, 0, 0, ..., 0, 0, 0, 0, 0, 0, 0] type='100000 * int64'>"
      ]
     },
     "execution_count": 57,
     "metadata": {},
     "output_type": "execute_result"
    }
   ],
   "source": [
    "dak.num(jet_charge).compute()"
   ]
  },
  {
   "cell_type": "code",
   "execution_count": 58,
   "id": "5b4e0eee-14ad-4092-97b7-e3bcf3562a4a",
   "metadata": {},
   "outputs": [
    {
     "data": {
      "text/plain": [
       "5661"
      ]
     },
     "execution_count": 58,
     "metadata": {},
     "output_type": "execute_result"
    }
   ],
   "source": [
    "dak.sum(dak.num(jet_charge)).compute()"
   ]
  },
  {
   "cell_type": "code",
   "execution_count": 61,
   "id": "c79fb446-d866-4347-b86d-a77ef9459a82",
   "metadata": {},
   "outputs": [
    {
     "data": {
      "text/html": [
       "<pre>[False,\n",
       " False,\n",
       " False,\n",
       " False,\n",
       " False,\n",
       " False,\n",
       " False,\n",
       " False,\n",
       " False,\n",
       " False,\n",
       " ...,\n",
       " False,\n",
       " False,\n",
       " False,\n",
       " False,\n",
       " False,\n",
       " False,\n",
       " False,\n",
       " False,\n",
       " False]\n",
       "-------------------\n",
       "type: 100000 * bool</pre>"
      ],
      "text/plain": [
       "<Array [False, False, False, ..., False, False, False] type='100000 * bool'>"
      ]
     },
     "execution_count": 61,
     "metadata": {},
     "output_type": "execute_result"
    }
   ],
   "source": [
    "(dak.num(jet_charge) > 0).compute()"
   ]
  },
  {
   "cell_type": "code",
   "execution_count": 62,
   "id": "533a946f-144e-40fe-8c28-c468aa20175b",
   "metadata": {},
   "outputs": [
    {
     "data": {
      "text/html": [
       "<pre>[[False],\n",
       " [True],\n",
       " [False],\n",
       " [False],\n",
       " [True],\n",
       " [False],\n",
       " [False],\n",
       " [True],\n",
       " [True],\n",
       " [False],\n",
       " ...,\n",
       " [False],\n",
       " [False],\n",
       " [True],\n",
       " [True],\n",
       " [True],\n",
       " [False],\n",
       " [True],\n",
       " [False],\n",
       " [True]]\n",
       "---------------------------------------------------------------------------------------------------------\n",
       "type: 5475 * [var * bool[parameters={&quot;__doc__&quot;: &quot;charge[Jet_]&quot;}], parameters={&quot;__doc__&quot;: &quot;charge[Jet_]&quot;}]</pre>"
      ],
      "text/plain": [
       "<Array [[False], [True], ..., [False], [True]] type='5475 * [var * bool[par...'>"
      ]
     },
     "execution_count": 62,
     "metadata": {},
     "output_type": "execute_result"
    }
   ],
   "source": [
    "(jet_charge[dak.num(jet_charge) > 0]).compute()"
   ]
  },
  {
   "cell_type": "code",
   "execution_count": 86,
   "id": "2597b812-709b-4c70-ba10-68bcc55c3313",
   "metadata": {},
   "outputs": [],
   "source": [
    "hist_jet_charge = hist.Hist.new.Regular(4,-2,2).Double().fill(dak.num(events['Jet/Jet.charge']).compute())\n",
    "hist_jet_energy = hist.Hist.new.Regular(10,0,10).Double().fill(dak.num(events['Jet/Jet.energy']).compute())"
   ]
  },
  {
   "cell_type": "code",
   "execution_count": 93,
   "id": "60a46bbd-755d-47cc-87c4-22ff3cd34521",
   "metadata": {},
   "outputs": [
    {
     "data": {
      "image/png": "[encoded data removed]",
      "text/plain": [
       "<Figure size 640x480 with 1 Axes>"
      ]
     },
     "metadata": {},
     "output_type": "display_data"
    }
   ],
   "source": [
    "fig, ax = plt.subplots()\n",
    "hep.histplot(hist_jet_energy, ax = ax)\n",
    "ax.set_yscale('log')\n",
    "ax.set_title('Jet Energy')\n",
    "ax.set_xlabel('Energy (in GeV)')\n",
    "ax.set_ylabel('Occurences');"
   ]
  },
  {
   "cell_type": "code",
   "execution_count": 96,
   "id": "79ad3b22-be15-47e1-896e-19589ddc8d88",
   "metadata": {},
   "outputs": [
    {
     "data": {
      "text/html": [
       "<pre>[{&#x27;Muon#0.index&#x27;: [1, 0], &#x27;Muon#0.collectionID&#x27;: [7, 7]},\n",
       " {&#x27;Muon#0.index&#x27;: [0, 1], &#x27;Muon#0.collectionID&#x27;: [7, 7]},\n",
       " {&#x27;Muon#0.index&#x27;: [1, 0], &#x27;Muon#0.collectionID&#x27;: [7, 7]},\n",
       " {&#x27;Muon#0.index&#x27;: [1, 0], &#x27;Muon#0.collectionID&#x27;: [7, 7]},\n",
       " {&#x27;Muon#0.index&#x27;: [0, 1], &#x27;Muon#0.collectionID&#x27;: [7, 7]},\n",
       " {&#x27;Muon#0.index&#x27;: [1, 0], &#x27;Muon#0.collectionID&#x27;: [7, 7]},\n",
       " {&#x27;Muon#0.index&#x27;: [0, 1], &#x27;Muon#0.collectionID&#x27;: [7, 7]},\n",
       " {&#x27;Muon#0.index&#x27;: [0, 1], &#x27;Muon#0.collectionID&#x27;: [7, 7]},\n",
       " {&#x27;Muon#0.index&#x27;: [0], &#x27;Muon#0.collectionID&#x27;: [7]},\n",
       " {&#x27;Muon#0.index&#x27;: [0], &#x27;Muon#0.collectionID&#x27;: [7]},\n",
       " ...,\n",
       " {&#x27;Muon#0.index&#x27;: [1, 0], &#x27;Muon#0.collectionID&#x27;: [7, 7]},\n",
       " {&#x27;Muon#0.index&#x27;: [0], &#x27;Muon#0.collectionID&#x27;: [7]},\n",
       " {&#x27;Muon#0.index&#x27;: [0, 1], &#x27;Muon#0.collectionID&#x27;: [7, 7]},\n",
       " {&#x27;Muon#0.index&#x27;: [1, 0], &#x27;Muon#0.collectionID&#x27;: [7, 7]},\n",
       " {&#x27;Muon#0.index&#x27;: [0], &#x27;Muon#0.collectionID&#x27;: [7]},\n",
       " {&#x27;Muon#0.index&#x27;: [1, 0], &#x27;Muon#0.collectionID&#x27;: [7, 7]},\n",
       " {&#x27;Muon#0.index&#x27;: [1], &#x27;Muon#0.collectionID&#x27;: [7]},\n",
       " {&#x27;Muon#0.index&#x27;: [0, 1], &#x27;Muon#0.collectionID&#x27;: [7, 7]},\n",
       " {&#x27;Muon#0.index&#x27;: [0, 1], &#x27;Muon#0.collectionID&#x27;: [7, 7]}]\n",
       "---------------------------------------------------------\n",
       "type: 100000 * struct[{\n",
       "    &quot;Muon#0.index&quot;: var * int32,\n",
       "    &quot;Muon#0.collectionID&quot;: var * int32\n",
       "}, parameters={&quot;__doc__&quot;: &quot;Muon#0_&quot;}]</pre>"
      ],
      "text/plain": [
       "<Array [{'Muon#0.index': [...], ...}, ...] type='100000 * struct[{\"Muon#0.i...'>"
      ]
     },
     "execution_count": 96,
     "metadata": {},
     "output_type": "execute_result"
    }
   ],
   "source": [
    "events['Muon#0'].compute()"
   ]
  },
  {
   "cell_type": "code",
   "execution_count": 99,
   "id": "3b27001b-61c1-44f1-9308-b5c15840f461",
   "metadata": {},
   "outputs": [
    {
     "data": {
      "text/html": [
       "<pre>[[1, 0],\n",
       " [0, 1],\n",
       " [1, 0],\n",
       " [1, 0],\n",
       " [0, 1],\n",
       " [1, 0],\n",
       " [0, 1],\n",
       " [0, 1],\n",
       " [0],\n",
       " [0],\n",
       " ...,\n",
       " [1, 0],\n",
       " [0],\n",
       " [0, 1],\n",
       " [1, 0],\n",
       " [0],\n",
       " [1, 0],\n",
       " [1],\n",
       " [0, 1],\n",
       " [0, 1]]\n",
       "----------------------------------------------------------------------------------------------------------------\n",
       "type: 100000 * [var * int32[parameters={&quot;__doc__&quot;: &quot;index[Muon#0_]&quot;}], parameters={&quot;__doc__&quot;: &quot;index[Muon#0_]&quot;}]</pre>"
      ],
      "text/plain": [
       "<Array [[1, 0], [0, 1], ..., [0, ...], [0, 1]] type='100000 * [var * int32[...'>"
      ]
     },
     "execution_count": 99,
     "metadata": {},
     "output_type": "execute_result"
    }
   ],
   "source": [
    "events['Muon#0/Muon#0.index'].compute()"
   ]
  }
 ],
 "metadata": {
  "kernelspec": {
   "display_name": "Python 3 (ipykernel)",
   "language": "python",
   "name": "python3"
  },
  "language_info": {
   "codemirror_mode": {
    "name": "ipython",
    "version": 3
   },
   "file_extension": ".py",
   "mimetype": "text/x-python",
   "name": "python",
   "nbconvert_exporter": "python",
   "pygments_lexer": "ipython3",
   "version": "3.12.3"
  }
 },
 "nbformat": 4,
 "nbformat_minor": 5
}
