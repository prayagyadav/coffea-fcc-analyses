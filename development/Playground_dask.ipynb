{
 "cells": [
  {
   "cell_type": "code",
   "execution_count": 1,
   "id": "f89d3092-646b-4083-8f2c-cc611d877ccf",
   "metadata": {},
   "outputs": [
    {
     "name": "stderr",
     "output_type": "stream",
     "text": [
      "/tmp/ipykernel_6147/2270838566.py:5: FutureWarning: In version 2024.7.0 (target date: 2024-06-30 11:59:59-05:00), this will be an error.\n",
      "To raise these warnings as errors (and get stack traces to find out where they're called), run\n",
      "    import warnings\n",
      "    warnings.filterwarnings(\"error\", module=\"coffea.*\")\n",
      "after the first `import coffea` or use `@pytest.mark.filterwarnings(\"error:::coffea.*\")` in pytest.\n",
      "Issue: coffea.nanoevents.methods.vector will be removed and replaced with scikit-hep vector. Nanoevents schemas internal to coffea will be migrated. Otherwise please consider using that package!.\n",
      "  from coffea.nanoevents.methods import vector\n"
     ]
    }
   ],
   "source": [
    "from coffea.nanoevents import NanoEventsFactory, BaseSchema\n",
    "from coffea.analysis_tools import PackedSelection, Cutflow\n",
    "import hist\n",
    "from coffea import processor\n",
    "from coffea.nanoevents.methods import vector\n",
    "import awkward as ak\n",
    "import dask_awkward as dak\n",
    "import hist.dask as hda\n",
    "import numba\n",
    "import pandas as pd\n",
    "import dask\n",
    "import copy\n",
    "import vector\n",
    "from collections import namedtuple\n",
    "vector.register_awkward()"
   ]
  },
  {
   "cell_type": "code",
   "execution_count": 2,
   "id": "8647cb14-50da-4274-9741-7f0566a3596a",
   "metadata": {},
   "outputs": [],
   "source": [
    "events,report = NanoEventsFactory.from_root(\n",
    "    '../data/p8_ee_ZH_ecm240/events_082532938.root:events',\n",
    "    schemaclass=BaseSchema,\n",
    "    metadata={'dataset':'ZH'},\n",
    "    uproot_options={\"allow_read_errors_with_report\": True}\n",
    ").events()"
   ]
  },
  {
   "cell_type": "code",
   "execution_count": 3,
   "id": "946c9a16-3528-43c2-be37-41e2bcd75da5",
   "metadata": {},
   "outputs": [],
   "source": [
    "plot_props = pd.DataFrame({\n",
    "    'Zm':{'name':'Zm','title':'Z Candidate mass','xlabel':'$Z_{mass}$ [GeV]','ylabel':'Events','bins':100,'xmin':0,'xmax':250},\n",
    "    'Zm_zoom':{'name':'Zm_zoom','title':'Z Candidate mass','xlabel':'$Z_{mass}$ [GeV]','ylabel':'Events','bins':40,'xmin':80,'xmax':100},\n",
    "    'Recoilm':{'name':'Recoilm','title':'Leptonic Recoil mass','xlabel':'$Recoil_{mass}$ [GeV]','ylabel':'Events','bins':100,'xmin':0,'xmax':200},\n",
    "    'Recoilm_zoom':{'name':'Recoilm_zoom','title':'Leptonic Recoil mass','xlabel':'$Recoil_{mass}$ [GeV]','ylabel':'Events','bins':200,'xmin':80,'xmax':160},\n",
    "    'Recoilm_zoom1':{'name':'Recoilm_zoom1','title':'Leptonic Recoil mass','xlabel':'$Recoil_{mass}$ [GeV]','ylabel':'Events','bins':100,'xmin':120,'xmax':140},\n",
    "    'Recoilm_zoom2':{'name':'Recoilm_zoom2','title':'Leptonic Recoil mass','xlabel':'$Recoil_{mass}$ [GeV]','ylabel':'Events','bins':200,'xmin':120,'xmax':140},\n",
    "    'Recoilm_zoom3':{'name':'Recoilm_zoom3','title':'Leptonic Recoil mass','xlabel':'$Recoil_{mass}$ [GeV]','ylabel':'Events','bins':400,'xmin':120,'xmax':140},\n",
    "    'Recoilm_zoom4':{'name':'Recoilm_zoom4','title':'Leptonic Recoil mass','xlabel':'$Recoil_{mass}$ [GeV]','ylabel':'Events','bins':800,'xmin':120,'xmax':140},\n",
    "    'Recoilm_zoom5':{'name':'Recoilm_zoom5','title':'Leptonic Recoil mass','xlabel':'$Recoil_{mass}$ [GeV]','ylabel':'Events','bins':2000,'xmin':120,'xmax':140},\n",
    "    'Recoilm_zoom6':{'name':'Recoilm_zoom6','title':'Leptonic Recoil mass','xlabel':'$Recoil_{mass}$ [GeV]','ylabel':'Events','bins':100,'xmin':130.3,'xmax':140}\n",
    "})\n",
    "def get_1Dhist(name, var, flatten=True):\n",
    "    '''\n",
    "    name: eg. Zm\n",
    "    var: eg. variable containing array of mass of Z\n",
    "    flatten: If to flatten var before fill; True by default\n",
    "    Returns a histogram\n",
    "    '''\n",
    "    props = plot_props[name]\n",
    "    if flatten : var = dak.ravel(var)\n",
    "    return hda.Hist.new.Reg(props.bins, props.xmin, props.xmax).Double().fill(var)"
   ]
  },
  {
   "cell_type": "code",
   "execution_count": 105,
   "id": "2a1cecb4-e7f1-4ca1-99fe-8ddd04d1c5fe",
   "metadata": {},
   "outputs": [
    {
     "data": {
      "text/plain": [
       "['Zm',\n",
       " 'Zm_zoom',\n",
       " 'Recoilm',\n",
       " 'Recoilm_zoom',\n",
       " 'Recoilm_zoom1',\n",
       " 'Recoilm_zoom2',\n",
       " 'Recoilm_zoom3',\n",
       " 'Recoilm_zoom4',\n",
       " 'Recoilm_zoom5',\n",
       " 'Recoilm_zoom6']"
      ]
     },
     "execution_count": 105,
     "metadata": {},
     "output_type": "execute_result"
    }
   ],
   "source": [
    "plot_props.columns.to_list()"
   ]
  },
  {
   "cell_type": "code",
   "execution_count": 6,
   "id": "9ee067a4-5e8e-4e41-8347-5817203f8747",
   "metadata": {},
   "outputs": [],
   "source": [
    "def get(events,collection,attribute,*cut):\n",
    "    '''\n",
    "    Get an attribute from a branch with or without a base cut.\n",
    "    '''\n",
    "    if len(cut) != 0:\n",
    "        return events[collection+'/'+collection+'.'+attribute][cut[0]]\n",
    "    return events[collection+'/'+collection+'.'+attribute]\n",
    "\n",
    "def get_all(events,Collection,*basecut):\n",
    "    '''\n",
    "    Collect all the attributes of a collection into a namedtuple named particle, with or without a base cut\n",
    "    '''\n",
    "    prefix = '/'.join([Collection]*2)+'.'\n",
    "    list_of_attr = [field.replace(prefix,'') for field in events.fields if field.startswith(prefix)]\n",
    "    replace_list = ['.','[',']']\n",
    "    valid_attr = list_of_attr\n",
    "    for rep in replace_list:\n",
    "        valid_attr = [field.replace(rep, '_') for field in valid_attr ]\n",
    "    part = namedtuple('particle', valid_attr)\n",
    "    return part(*[get(events,Collection,attr,*basecut) for attr in list_of_attr])\n",
    "\n",
    "def get_reco(Reconstr_branch, needed_particle, events):\n",
    "    '''\n",
    "    Match the Reconstructed collection to the desired particle collection.\n",
    "    '''\n",
    "    part = namedtuple('particle', list(Reconstr_branch._fields))\n",
    "    return part(*[getattr(Reconstr_branch,attr)[get(events,needed_particle,'index')] for attr in Reconstr_branch._fields])\n"
   ]
  },
  {
   "cell_type": "code",
   "execution_count": 18,
   "id": "573cd019-1ef9-4b50-93ce-c8e6048b7b61",
   "metadata": {},
   "outputs": [],
   "source": [
    "\n",
    "#Create a Packed Selection object to get a cutflow later\n",
    "cut = PackedSelection()\n",
    "cut.add('No cut', dak.ones_like(dak.num(get(events,'ReconstructedParticles','energy'),axis=1),dtype=bool))\n",
    "\n",
    "# Filter out any event with no reconstructed particles and generate Reconstructed Particle Attributes\n",
    "#ak.mask preserves array length\n",
    "at_least_one_recon = dak.num(get(events,'ReconstructedParticles','energy'), axis=1) > 0\n",
    "good_events = dak.mask(events,at_least_one_recon)\n",
    "cut.add('At least one Reco Particle', at_least_one_recon)\n",
    "\n",
    "Reco = get_all(good_events,'ReconstructedParticles')\n",
    "Muons = get_reco(Reco,'Muon#0',good_events)\n",
    "\n",
    "# Create Array of Muon Lorentz Vector\n",
    "Muon = ak.zip({\"px\":Muons.momentum_x,\"py\":Muons.momentum_y,\"pz\":Muons.momentum_z,\"E\":Muons.energy,\"q\":Muons.charge,}, with_name=\"Momentum4D\")\n",
    "\n",
    "# Muon pt > 10\n",
    "Muon_pt_cut = dak.any(Muon.pt > 10.0, axis=1)\n",
    "Muon = dak.mask(Muon, Muon_pt_cut) #ak.mask to preserve number of events\n",
    "cut.add('Muon $p_T$ > 10 [GeV]',Muon_pt_cut)\n",
    "\n",
    "# Construct Z candidates\n",
    "# Produce all the combinations of Muon Pairs possible within an event\n",
    "combs = dak.combinations(Muon,2)\n",
    "# Get dimuons\n",
    "mu1 , mu2 = dak.unzip(combs)\n",
    "di_muon = mu1 + mu2\n",
    "#Sort Dimuon with the dimuons which have a mass closer to Z mass\n",
    "\n",
    "# Choose dimuon which is made up of two oppositely charged muons\n",
    "q_sum_mask = dak.any((mu1.q + mu2.q) == 0, axis=1)\n",
    "Z_cand = dak.mask(di_muon , q_sum_mask)\n",
    "cut.add('Opp charge muons',q_sum_mask)\n",
    "\n",
    "\n",
    "# Selection 0 : Only one Z candidate in an event\n",
    "di_muon = dak.mask(di_muon, dak.num(di_muon) == 1)\n",
    "cut.add('$N_Z = 1$',dak.num(Muon) == 2 ) #Having one Z candidate is same as having exactly two muons in an even\n",
    "\n",
    "#Recoil Calculation\n",
    "ecm = 240.0 #GeV # com energy\n",
    "Recoil = ak.zip({\"px\":0.0-Z_cand.px,\"py\":0.0-Z_cand.py,\"pz\":0.0-Z_cand.pz,\"E\":ecm-Z_cand.E},with_name=\"Momentum4D\")\n",
    "\n",
    "sel0_ocl = cut.cutflow(*cut.names).yieldhist()\n",
    "\n",
    "# Selection 1 : Selection 0 + 80 < M_Z < 100\n",
    "zmassmask = (Z_cand.mass > 80) & (Z_cand.mass < 100)\n",
    "Z_cand_sel1 = Z_cand[zmassmask]\n",
    "Recoil_sel1 = Recoil[zmassmask]\n",
    "zmassmask = ak.fill_none(zmassmask,[False],axis=0) #Replace None values at axis 0 with [False]\n",
    "zmassmask = ak.flatten(zmassmask)\n",
    "cut.add('80 < $M_Z$ < 100',zmassmask)\n",
    "\n",
    "sel1_ocl = cut.cutflow(*cut.names).yieldhist()\n",
    "\n",
    "#Prepare output\n",
    "#Choose the required histograms and their assigned variables to fill\n",
    "names = ['Zm','Zm_zoom','Recoilm','Recoilm_zoom','Recoilm_zoom1','Recoilm_zoom2','Recoilm_zoom3','Recoilm_zoom4','Recoilm_zoom5','Recoilm_zoom6']\n",
    "vars_sel0 = ([Z_cand.mass]*2) + ([Recoil.mass]*8)\n",
    "vars_sel1 = ([Z_cand_sel1.mass]*2) + ([Recoil_sel1.mass]*8)\n",
    "Output = {\n",
    "    'histograms': {\n",
    "        'sel0':{name:get_1Dhist(name,var) for name,var in zip(names,vars_sel0)},\n",
    "        'sel1':{name:get_1Dhist(name,var) for name,var in zip(names,vars_sel1)}\n",
    "    },\n",
    "    'cutflow': {\n",
    "        'sel0': {'Onecut':sel0_ocl[0],'Cutflow':sel0_ocl[1],'Labels':sel0_ocl[2]},\n",
    "        'sel1': {'Onecut':sel1_ocl[0],'Cutflow':sel1_ocl[1],'Labels':sel1_ocl[2]}\n",
    "    }\n",
    "}\n",
    "\n"
   ]
  },
  {
   "cell_type": "code",
   "execution_count": 19,
   "id": "5f1f5463-d1ce-49ff-8af7-f780f4d33981",
   "metadata": {},
   "outputs": [],
   "source": [
    "(Output,) = dask.compute(Output)"
   ]
  },
  {
   "cell_type": "code",
   "execution_count": 20,
   "id": "f7dac2f0-320a-4d73-84a9-034581db4e10",
   "metadata": {},
   "outputs": [
    {
     "data": {
      "text/plain": [
       "{'histograms': {'sel0': {'Zm': Hist(Regular(100, 0, 250, label='Axis 0'), storage=Double()) # Sum: 3036.0,\n",
       "   'Zm_zoom': Hist(Regular(40, 80, 100, label='Axis 0'), storage=Double()) # Sum: 2324.0 (3036.0 with flow),\n",
       "   'Recoilm': Hist(Regular(100, 0, 200, label='Axis 0'), storage=Double()) # Sum: 2920.0 (3036.0 with flow),\n",
       "   'Recoilm_zoom': Hist(Regular(200, 80, 160, label='Axis 0'), storage=Double()) # Sum: 2647.0 (3036.0 with flow),\n",
       "   'Recoilm_zoom1': Hist(Regular(100, 120, 140, label='Axis 0'), storage=Double()) # Sum: 2363.0 (3036.0 with flow),\n",
       "   'Recoilm_zoom2': Hist(Regular(200, 120, 140, label='Axis 0'), storage=Double()) # Sum: 2363.0 (3036.0 with flow),\n",
       "   'Recoilm_zoom3': Hist(Regular(400, 120, 140, label='Axis 0'), storage=Double()) # Sum: 2363.0 (3036.0 with flow),\n",
       "   'Recoilm_zoom4': Hist(Regular(800, 120, 140, label='Axis 0'), storage=Double()) # Sum: 2363.0 (3036.0 with flow),\n",
       "   'Recoilm_zoom5': Hist(Regular(2000, 120, 140, label='Axis 0'), storage=Double()) # Sum: 2363.0 (3036.0 with flow),\n",
       "   'Recoilm_zoom6': Hist(Regular(100, 130.3, 140, label='Axis 0'), storage=Double()) # Sum: 512.0 (3036.0 with flow)},\n",
       "  'sel1': {'Zm': Hist(Regular(100, 0, 250, label='Axis 0'), storage=Double()) # Sum: 2324.0,\n",
       "   'Zm_zoom': Hist(Regular(40, 80, 100, label='Axis 0'), storage=Double()) # Sum: 2324.0,\n",
       "   'Recoilm': Hist(Regular(100, 0, 200, label='Axis 0'), storage=Double()) # Sum: 2324.0,\n",
       "   'Recoilm_zoom': Hist(Regular(200, 80, 160, label='Axis 0'), storage=Double()) # Sum: 2324.0,\n",
       "   'Recoilm_zoom1': Hist(Regular(100, 120, 140, label='Axis 0'), storage=Double()) # Sum: 2178.0 (2324.0 with flow),\n",
       "   'Recoilm_zoom2': Hist(Regular(200, 120, 140, label='Axis 0'), storage=Double()) # Sum: 2178.0 (2324.0 with flow),\n",
       "   'Recoilm_zoom3': Hist(Regular(400, 120, 140, label='Axis 0'), storage=Double()) # Sum: 2178.0 (2324.0 with flow),\n",
       "   'Recoilm_zoom4': Hist(Regular(800, 120, 140, label='Axis 0'), storage=Double()) # Sum: 2178.0 (2324.0 with flow),\n",
       "   'Recoilm_zoom5': Hist(Regular(2000, 120, 140, label='Axis 0'), storage=Double()) # Sum: 2178.0 (2324.0 with flow),\n",
       "   'Recoilm_zoom6': Hist(Regular(100, 130.3, 140, label='Axis 0'), storage=Double()) # Sum: 449.0 (2324.0 with flow)}},\n",
       " 'cutflow': {'sel0': {'Onecut': Hist(Integer(0, 6, name='onecut'), storage=Double()) # Sum: 314789.0,\n",
       "   'Cutflow': Hist(Integer(0, 6, name='cutflow'), storage=Double()) # Sum: 314789.0,\n",
       "   'Labels': ['initial',\n",
       "    'No cut',\n",
       "    'At least one Reco Particle',\n",
       "    'Muon $p_T$ > 10 [GeV]',\n",
       "    '$N_Z = 1$',\n",
       "    'Opp charge muons']},\n",
       "  'sel1': {'Onecut': Hist(Integer(0, 7, name='onecut'), storage=Double()) # Sum: 317113.0,\n",
       "   'Cutflow': Hist(Integer(0, 7, name='cutflow'), storage=Double()) # Sum: 317113.0,\n",
       "   'Labels': ['initial',\n",
       "    'No cut',\n",
       "    'At least one Reco Particle',\n",
       "    'Muon $p_T$ > 10 [GeV]',\n",
       "    '$N_Z = 1$',\n",
       "    'Opp charge muons',\n",
       "    '80 < $M_Z$ < 100']}}}"
      ]
     },
     "execution_count": 20,
     "metadata": {},
     "output_type": "execute_result"
    }
   ],
   "source": [
    "Output"
   ]
  },
  {
   "cell_type": "code",
   "execution_count": 21,
   "id": "e07671f7-2e85-432f-ac2e-cedb6cc2aef5",
   "metadata": {},
   "outputs": [
    {
     "data": {
      "text/plain": [
       "array([100000., 100000.,  99980.,   8681.,   3092.,   3036.,   2324.])"
      ]
     },
     "execution_count": 21,
     "metadata": {},
     "output_type": "execute_result"
    }
   ],
   "source": [
    "Output['cutflow']['sel1']['Cutflow'].values()"
   ]
  },
  {
   "cell_type": "code",
   "execution_count": 22,
   "id": "b7e699c3-37c2-467f-95d5-2bc77003f7f4",
   "metadata": {},
   "outputs": [
    {
     "data": {
      "text/plain": [
       "[100000.0, 100000.0, 99980.0, 8681.0, 3092.0, 3036.0, 2324.0]"
      ]
     },
     "execution_count": 22,
     "metadata": {},
     "output_type": "execute_result"
    }
   ],
   "source": [
    "[100000., 100000.,  99980.,   8681.,   3092.,   3036.,   2324.]"
   ]
  },
  {
   "cell_type": "code",
   "execution_count": 37,
   "id": "ebf56b53-d060-48dc-9c91-fca37c4a1fde",
   "metadata": {},
   "outputs": [],
   "source": [
    "def clean(a):\n",
    "    a = dak.fill_none(a,[],axis=0)\n",
    "    return a[dak.num(a, axis=1) > 0]"
   ]
  },
  {
   "cell_type": "code",
   "execution_count": 98,
   "id": "4550f0f0-4e01-43cb-8c63-3afd364b60fc",
   "metadata": {},
   "outputs": [],
   "source": [
    "\n",
    "def Reso_builder(lepton,resonance):\n",
    "    '''\n",
    "    Builds Resonance candidates with two oppositely charged leptons\n",
    "    Input:    lepton(var*[var*LorentzVector]),\n",
    "              resonance(float)\n",
    "    Output: Reso(var*[var*LorentzVecctor]) sorted best to worst in axis 1\n",
    "    '''\n",
    "    #Create all the combinations\n",
    "    combs = dak.combinations(lepton,2)\n",
    "    # Get dileptons\n",
    "    lep1 , lep2 = dak.unzip(combs)\n",
    "    di_lep = lep1 + lep2\n",
    "    # Choose dilep pair which is made up of two oppositely charged lep\n",
    "    q_sum_mask = dak.any((lep1.q + lep2.q) == 0, axis=1)\n",
    "    di_lep = dak.mask(di_lep , q_sum_mask)\n",
    "    # Sort by closest mass to the resonance value\n",
    "    sort_mask = dak.argsort(abs(resonance-di_muon.mass), axis=1)\n",
    "    Reso = di_lep[sort_mask]\n",
    "    return Reso\n",
    "\n",
    "arg_ecm = 240.0 #GeV # com energy\n",
    "arg_zmass = 91.0\n",
    "\n",
    "#Create a Packed Selection object to get a cutflow later\n",
    "cut = PackedSelection()\n",
    "cut.add('No cut', dak.ones_like(dak.num(get(events,'ReconstructedParticles','energy'),axis=1),dtype=bool))\n",
    "\n",
    "# Filter out any event with no reconstructed particles and generate Reconstructed Particle Attributes\n",
    "#ak.mask preserves array length\n",
    "at_least_one_recon = dak.num(get(events,'ReconstructedParticles','energy'), axis=1) > 0\n",
    "good_events = dak.mask(events,at_least_one_recon)\n",
    "cut.add('At least one Reco Particle', at_least_one_recon)\n",
    "\n",
    "Reco = get_all(good_events,'ReconstructedParticles')\n",
    "Muons = get_reco(Reco,'Muon#0',good_events)\n",
    "\n",
    "# Create Array of Muon Lorentz Vector\n",
    "Muon = ak.zip({\"px\":Muons.momentum_x,\"py\":Muons.momentum_y,\"pz\":Muons.momentum_z,\"E\":Muons.energy,\"q\":Muons.charge,}, with_name=\"Momentum4D\")\n",
    "\n",
    "# Muon pt > 10\n",
    "Muon_pt_cut = dak.any(Muon.pt > 10.0, axis=1)\n",
    "Muon = dak.mask(Muon, Muon_pt_cut) #ak.mask to preserve number of events\n",
    "cut.add('Muon $p_T$ > 10 [GeV]',Muon_pt_cut)\n",
    "\n",
    "Z_cand = Reso_builder(Muon, arg_zmass)\n",
    "\n",
    "# Selection 0 : only one Z candidate\n",
    "one_z = ak.num(sorted_di_muon,axis=1) == 1\n",
    "Z_cand_sel0 = ak.mask(Z_cand, one_z)\n",
    "cut.add('$N_Z = 1$', one_z ) \n",
    "sel0_ocl = cut.cutflow(*cut.names).yieldhist()\n",
    "\n",
    "# Selection 1 : 80 < M_Z < 100\n",
    "Z_mass_mask = (Z_cand_sel0.mass > 80.0) & (Z_cand_sel0.mass < 100.0)\n",
    "Z_mass_mask = dak.fill_none(Z_mass_mask,[False],axis=0)\n",
    "Z_mass_mask = dak.flatten(Z_mass_mask)\n",
    "Z_cand_sel1 = ak.mask(Z_cand_sel0, Z_mass_mask)\n",
    "cut.add('80 < $M_Z$ < 100',zmassmask)\n",
    "sel1_ocl = cut.cutflow(*cut.names).yieldhist()\n",
    "\n",
    "#Recoil Calculation\n",
    "Recoil_sel0 = ak.zip({\"px\":0.0-Z_cand_sel0.px,\"py\":0.0-Z_cand_sel0.py,\"pz\":0.0-Z_cand_sel0.pz,\"E\":arg_ecm-Z_cand_sel0.E},with_name=\"Momentum4D\")\n",
    "Recoil_sel1 = ak.zip({\"px\":0.0-Z_cand_sel1.px,\"py\":0.0-Z_cand_sel1.py,\"pz\":0.0-Z_cand_sel1.pz,\"E\":arg_ecm-Z_cand_sel1.E},with_name=\"Momentum4D\")\n",
    "\n",
    "#Prepare output\n",
    "#Choose the required histograms and their assigned variables to fill\n",
    "names = ['Zm','Zm_zoom','Recoilm','Recoilm_zoom','Recoilm_zoom1','Recoilm_zoom2','Recoilm_zoom3','Recoilm_zoom4','Recoilm_zoom5','Recoilm_zoom6']\n",
    "vars_sel0 = ([Z_cand.mass]*2) + ([Recoil.mass]*8)\n",
    "vars_sel1 = ([Z_cand_sel1.mass]*2) + ([Recoil_sel1.mass]*8)\n",
    "Output = {\n",
    "    'histograms': {\n",
    "        'sel0':{name:get_1Dhist(name,var) for name,var in zip(names,vars_sel0)},\n",
    "        'sel1':{name:get_1Dhist(name,var) for name,var in zip(names,vars_sel1)}\n",
    "    },\n",
    "    'cutflow': {\n",
    "        'sel0': {'Onecut':sel0_ocl[0],'Cutflow':sel0_ocl[1],'Labels':sel0_ocl[2]},\n",
    "        'sel1': {'Onecut':sel1_ocl[0],'Cutflow':sel1_ocl[1],'Labels':sel1_ocl[2]}\n",
    "    }\n",
    "}"
   ]
  },
  {
   "cell_type": "code",
   "execution_count": 99,
   "id": "199ebba6-3fd8-4b2e-a4da-469343eeabb4",
   "metadata": {},
   "outputs": [],
   "source": [
    "(Output,) = dask.compute(Output)"
   ]
  },
  {
   "cell_type": "code",
   "execution_count": 100,
   "id": "1295fc0c-8b4d-4431-84fe-d8fdb3ee51c1",
   "metadata": {},
   "outputs": [
    {
     "data": {
      "text/plain": [
       "{'histograms': {'sel0': {'Zm': Hist(Regular(100, 0, 250, label='Axis 0'), storage=Double()) # Sum: 3723.0,\n",
       "   'Zm_zoom': Hist(Regular(40, 80, 100, label='Axis 0'), storage=Double()) # Sum: 2544.0 (3723.0 with flow),\n",
       "   'Recoilm': Hist(Regular(100, 0, 200, label='Axis 0'), storage=Double()) # Sum: 2920.0 (3036.0 with flow),\n",
       "   'Recoilm_zoom': Hist(Regular(200, 80, 160, label='Axis 0'), storage=Double()) # Sum: 2647.0 (3036.0 with flow),\n",
       "   'Recoilm_zoom1': Hist(Regular(100, 120, 140, label='Axis 0'), storage=Double()) # Sum: 2363.0 (3036.0 with flow),\n",
       "   'Recoilm_zoom2': Hist(Regular(200, 120, 140, label='Axis 0'), storage=Double()) # Sum: 2363.0 (3036.0 with flow),\n",
       "   'Recoilm_zoom3': Hist(Regular(400, 120, 140, label='Axis 0'), storage=Double()) # Sum: 2363.0 (3036.0 with flow),\n",
       "   'Recoilm_zoom4': Hist(Regular(800, 120, 140, label='Axis 0'), storage=Double()) # Sum: 2363.0 (3036.0 with flow),\n",
       "   'Recoilm_zoom5': Hist(Regular(2000, 120, 140, label='Axis 0'), storage=Double()) # Sum: 2363.0 (3036.0 with flow),\n",
       "   'Recoilm_zoom6': Hist(Regular(100, 130.3, 140, label='Axis 0'), storage=Double()) # Sum: 512.0 (3036.0 with flow)},\n",
       "  'sel1': {'Zm': Hist(Regular(100, 0, 250, label='Axis 0'), storage=Double()) # Sum: 2324.0,\n",
       "   'Zm_zoom': Hist(Regular(40, 80, 100, label='Axis 0'), storage=Double()) # Sum: 2324.0,\n",
       "   'Recoilm': Hist(Regular(100, 0, 200, label='Axis 0'), storage=Double()) # Sum: 2324.0,\n",
       "   'Recoilm_zoom': Hist(Regular(200, 80, 160, label='Axis 0'), storage=Double()) # Sum: 2324.0,\n",
       "   'Recoilm_zoom1': Hist(Regular(100, 120, 140, label='Axis 0'), storage=Double()) # Sum: 2178.0 (2324.0 with flow),\n",
       "   'Recoilm_zoom2': Hist(Regular(200, 120, 140, label='Axis 0'), storage=Double()) # Sum: 2178.0 (2324.0 with flow),\n",
       "   'Recoilm_zoom3': Hist(Regular(400, 120, 140, label='Axis 0'), storage=Double()) # Sum: 2178.0 (2324.0 with flow),\n",
       "   'Recoilm_zoom4': Hist(Regular(800, 120, 140, label='Axis 0'), storage=Double()) # Sum: 2178.0 (2324.0 with flow),\n",
       "   'Recoilm_zoom5': Hist(Regular(2000, 120, 140, label='Axis 0'), storage=Double()) # Sum: 2178.0 (2324.0 with flow),\n",
       "   'Recoilm_zoom6': Hist(Regular(100, 130.3, 140, label='Axis 0'), storage=Double()) # Sum: 449.0 (2324.0 with flow)}},\n",
       " 'cutflow': {'sel0': {'Onecut': Hist(Integer(0, 5, name='onecut'), storage=Double()) # Sum: 311697.0,\n",
       "   'Cutflow': Hist(Integer(0, 5, name='cutflow'), storage=Double()) # Sum: 311697.0,\n",
       "   'Labels': ['initial',\n",
       "    'No cut',\n",
       "    'At least one Reco Particle',\n",
       "    'Muon $p_T$ > 10 [GeV]',\n",
       "    '$N_Z = 1$']},\n",
       "  'sel1': {'Onecut': Hist(Integer(0, 6, name='onecut'), storage=Double()) # Sum: 314021.0,\n",
       "   'Cutflow': Hist(Integer(0, 6, name='cutflow'), storage=Double()) # Sum: 314021.0,\n",
       "   'Labels': ['initial',\n",
       "    'No cut',\n",
       "    'At least one Reco Particle',\n",
       "    'Muon $p_T$ > 10 [GeV]',\n",
       "    '$N_Z = 1$',\n",
       "    '80 < $M_Z$ < 100']}}}"
      ]
     },
     "execution_count": 100,
     "metadata": {},
     "output_type": "execute_result"
    }
   ],
   "source": [
    "Output"
   ]
  },
  {
   "cell_type": "code",
   "execution_count": 101,
   "id": "c3cb7b9c-2d31-4205-ad40-14add20a8efe",
   "metadata": {},
   "outputs": [
    {
     "data": {
      "text/plain": [
       "array([100000., 100000.,  99980.,   8681.,   3036.,   2324.])"
      ]
     },
     "execution_count": 101,
     "metadata": {},
     "output_type": "execute_result"
    }
   ],
   "source": [
    "Output['cutflow']['sel1']['Cutflow'].values()"
   ]
  },
  {
   "cell_type": "code",
   "execution_count": 112,
   "id": "be36111e-ac2f-4633-b45d-8bde5c50d4b4",
   "metadata": {},
   "outputs": [
    {
     "data": {
      "text/html": [
       "<pre>[None,\n",
       " None,\n",
       " None,\n",
       " [61.1],\n",
       " None,\n",
       " None,\n",
       " None,\n",
       " None,\n",
       " [16],\n",
       " None,\n",
       " ...,\n",
       " None,\n",
       " None,\n",
       " None,\n",
       " None,\n",
       " None,\n",
       " None,\n",
       " None,\n",
       " None,\n",
       " None]\n",
       "------------------------------------\n",
       "type: 100000 * option[var * float32]</pre>"
      ],
      "text/plain": [
       "<Array [None, None, None, ..., None, None] type='100000 * option[var * floa...'>"
      ]
     },
     "execution_count": 112,
     "metadata": {},
     "output_type": "execute_result"
    }
   ],
   "source": [
    "Muon.pt.compute()"
   ]
  },
  {
   "cell_type": "code",
   "execution_count": null,
   "id": "148fdbc6-baf6-4266-86dc-800475d81027",
   "metadata": {},
   "outputs": [],
   "source": [
    "# Remove bad files\n",
    "if (bad.size != 0) & skipbadfiles :\n",
    "    filenames_bad = bad[:,0]\n",
    "    y = out\n",
    "    for row in range(out.shape[0]) :\n",
    "        file = out[row,0]\n",
    "        if file in filenames_bad:\n",
    "            y = np.delete(y , (row), axis=0)\n",
    "    out = y\n"
   ]
  },
  {
   "cell_type": "code",
   "execution_count": null,
   "id": "7f9b4af4-e4a2-490f-802f-8d26870a9833",
   "metadata": {},
   "outputs": [],
   "source": []
  }
 ],
 "metadata": {
  "kernelspec": {
   "display_name": "Python 3 (ipykernel)",
   "language": "python",
   "name": "python3"
  },
  "language_info": {
   "codemirror_mode": {
    "name": "ipython",
    "version": 3
   },
   "file_extension": ".py",
   "mimetype": "text/x-python",
   "name": "python",
   "nbconvert_exporter": "python",
   "pygments_lexer": "ipython3",
   "version": "3.12.5"
  }
 },
 "nbformat": 4,
 "nbformat_minor": 5
}
