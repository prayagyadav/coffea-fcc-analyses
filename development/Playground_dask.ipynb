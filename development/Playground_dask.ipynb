{
 "cells": [
  {
   "cell_type": "code",
   "execution_count": 1,
   "id": "f89d3092-646b-4083-8f2c-cc611d877ccf",
   "metadata": {},
   "outputs": [
    {
     "name": "stderr",
     "output_type": "stream",
     "text": [
      "/tmp/ipykernel_19216/11507125.py:5: FutureWarning: In version 2024.7.0 (target date: 2024-06-30 11:59:59-05:00), this will be an error.\n",
      "To raise these warnings as errors (and get stack traces to find out where they're called), run\n",
      "    import warnings\n",
      "    warnings.filterwarnings(\"error\", module=\"coffea.*\")\n",
      "after the first `import coffea` or use `@pytest.mark.filterwarnings(\"error:::coffea.*\")` in pytest.\n",
      "Issue: coffea.nanoevents.methods.vector will be removed and replaced with scikit-hep vector. Nanoevents schemas internal to coffea will be migrated. Otherwise please consider using that package!.\n",
      "  from coffea.nanoevents.methods import vector\n"
     ]
    }
   ],
   "source": [
    "from coffea.nanoevents import NanoEventsFactory, BaseSchema\n",
    "from coffea.analysis_tools import PackedSelection\n",
    "import hist\n",
    "from coffea import processor\n",
    "from coffea.nanoevents.methods import vector\n",
    "import awkward as ak\n",
    "import dask_awkward as dak\n",
    "import hist.dask as hda\n",
    "import numba\n",
    "import pandas as pd\n",
    "import vector\n",
    "from collections import namedtuple\n",
    "vector.register_awkward()"
   ]
  },
  {
   "cell_type": "code",
   "execution_count": 2,
   "id": "8647cb14-50da-4274-9741-7f0566a3596a",
   "metadata": {},
   "outputs": [],
   "source": [
    "events,report = NanoEventsFactory.from_root(\n",
    "    '../data/p8_ee_ZH_ecm240/events_082532938.root:events',\n",
    "    schemaclass=BaseSchema,\n",
    "    metadata={'dataset':'ZH'},\n",
    "    uproot_options={\"allow_read_errors_with_report\": True}\n",
    ").events()"
   ]
  },
  {
   "cell_type": "code",
   "execution_count": 3,
   "id": "946c9a16-3528-43c2-be37-41e2bcd75da5",
   "metadata": {},
   "outputs": [],
   "source": [
    "plot_props = pd.DataFrame({\n",
    "    'Zm':{'name':'Zm','title':'Z Candidate mass','xlabel':'$Z_{mass}$ [GeV]','ylabel':'Events','bins':100,'xmin':0,'xmax':250},\n",
    "    'Zm_zoom':{'name':'Zm_zoom','title':'Z Candidate mass','xlabel':'$Z_{mass}$ [GeV]','ylabel':'Events','bins':40,'xmin':80,'xmax':100},\n",
    "    'Recoilm':{'name':'Recoilm','title':'Leptonic Recoil mass','xlabel':'$Recoil_{mass}$ [GeV]','ylabel':'Events','bins':100,'xmin':0,'xmax':200},\n",
    "    'Recoilm_zoom':{'name':'Recoilm_zoom','title':'Leptonic Recoil mass','xlabel':'$Recoil_{mass}$ [GeV]','ylabel':'Events','bins':200,'xmin':80,'xmax':160},\n",
    "    'Recoilm_zoom1':{'name':'Recoilm_zoom1','title':'Leptonic Recoil mass','xlabel':'$Recoil_{mass}$ [GeV]','ylabel':'Events','bins':100,'xmin':120,'xmax':140},\n",
    "    'Recoilm_zoom2':{'name':'Recoilm_zoom2','title':'Leptonic Recoil mass','xlabel':'$Recoil_{mass}$ [GeV]','ylabel':'Events','bins':200,'xmin':120,'xmax':140},\n",
    "    'Recoilm_zoom3':{'name':'Recoilm_zoom3','title':'Leptonic Recoil mass','xlabel':'$Recoil_{mass}$ [GeV]','ylabel':'Events','bins':400,'xmin':120,'xmax':140},\n",
    "    'Recoilm_zoom4':{'name':'Recoilm_zoom4','title':'Leptonic Recoil mass','xlabel':'$Recoil_{mass}$ [GeV]','ylabel':'Events','bins':800,'xmin':120,'xmax':140},\n",
    "    'Recoilm_zoom5':{'name':'Recoilm_zoom5','title':'Leptonic Recoil mass','xlabel':'$Recoil_{mass}$ [GeV]','ylabel':'Events','bins':2000,'xmin':120,'xmax':140},\n",
    "    'Recoilm_zoom6':{'name':'Recoilm_zoom6','title':'Leptonic Recoil mass','xlabel':'$Recoil_{mass}$ [GeV]','ylabel':'Events','bins':100,'xmin':130.3,'xmax':140}\n",
    "})\n",
    "def get_1Dhist(name, var, flatten=True):\n",
    "    '''\n",
    "    name: eg. Zm\n",
    "    var: eg. variable containing array of mass of Z\n",
    "    flatten: If to flatten var before fill; True by default\n",
    "    Returns a histogram\n",
    "    '''\n",
    "    props = plot_props[name]\n",
    "    if flatten : var = dak.ravel(var)\n",
    "    return hda.Hist.new.Reg(props.bins, props.xmin, props.xmax).Double().fill(var)"
   ]
  },
  {
   "cell_type": "code",
   "execution_count": 4,
   "id": "9ee067a4-5e8e-4e41-8347-5817203f8747",
   "metadata": {},
   "outputs": [],
   "source": [
    "def get(events,collection,attribute,*cut):\n",
    "    if len(cut) != 0:\n",
    "        return events[collection+'/'+collection+'.'+attribute][cut[0]]\n",
    "    return events[collection+'/'+collection+'.'+attribute]\n",
    "def get_all(events,Collection,*basecut):\n",
    "    prefix = '/'.join([Collection]*2)+'.'\n",
    "    list_of_attr = [field.replace(prefix,'') for field in events.fields if field.startswith(prefix)]\n",
    "    replace_list = ['.','[',']']\n",
    "    valid_attr = list_of_attr\n",
    "    for rep in replace_list:\n",
    "        valid_attr = [field.replace(rep, '_') for field in valid_attr ]\n",
    "    part = namedtuple('particle', valid_attr)\n",
    "    return part(*[get(events,Collection,attr,*basecut) for attr in list_of_attr])\n",
    "def get_reco(Reconstr_branch, needed_particle, events):\n",
    "    part = namedtuple('particle', list(Reconstr_branch._fields))\n",
    "    return part(*[getattr(Reconstr_branch,attr)[get(events,needed_particle,'index')] for attr in Reconstr_branch._fields])"
   ]
  },
  {
   "cell_type": "code",
   "execution_count": 5,
   "id": "7dfdfc3b-ed8f-4979-b4d0-017767a0b413",
   "metadata": {},
   "outputs": [],
   "source": [
    "#Create a Packed Selection object to get a cutflow later\n",
    "cut = PackedSelection()\n",
    "cut.add('No cut', dak.ones_like(dak.num(get(events,'ReconstructedParticles','energy'),axis=1),dtype=bool))\n",
    "\n",
    "# Filter out any event with no reconstructed particles and generate Reconstructed Particle Attributes\n",
    "#ak.mask preserves array length\n",
    "at_least_one_recon = dak.num(get(events,'ReconstructedParticles','energy'), axis=1) > 0\n",
    "good_events = dak.mask(events,at_least_one_recon)\n",
    "cut.add('At least one Reco Particle', at_least_one_recon)\n",
    "\n",
    "Reco = get_all(good_events,'ReconstructedParticles')\n",
    "Muons = get_reco(Reco,'Muon#0',good_events)\n",
    "\n",
    "# Create Array of Muon Lorentz Vector\n",
    "Muon = ak.zip({\"px\":Muons.momentum_x,\"py\":Muons.momentum_y,\"pz\":Muons.momentum_z,\"E\":Muons.energy,\"q\":Muons.charge,}, with_name=\"Momentum4D\")\n",
    "\n",
    "# Muon pt > 10\n",
    "Muon_pt_cut = dak.any(Muon.pt > 10.0, axis=1)\n",
    "Muon = dak.mask(Muon, Muon_pt_cut) #ak.mask to preserve number of events\n",
    "cut.add('Muon $p_T$ > 10 [GeV]',Muon_pt_cut)\n",
    "\n",
    "# Produce all the combinations of Muon Pairs possible within an event\n",
    "combs = dak.combinations(Muon,2)\n",
    "\n",
    "# Get dimuons\n",
    "mu1 , mu2 = dak.unzip(combs)\n",
    "di_muon = mu1 + mu2\n",
    "\n",
    "# Selection 0 : Only one Z candidate in an event\n",
    "di_muon = dak.mask(di_muon, dak.num(di_muon) == 1)\n",
    "cut.add('$N_Z$',dak.num(Muon) == 2 ) #Having one Z candidate is same as having exactly two muons in an even\n",
    "\n",
    "# Choose dimuon which is made up of two oppositely charged muons\n",
    "q_sum = mu1.q + mu2.q\n",
    "q_sum_array = dak.mask(q_sum, ak.num(q_sum) == 1)\n",
    "q_sum_mask = dak.all(q_sum_array == 0, axis=1)\n",
    "Z_cand = dak.mask(di_muon , q_sum_mask)\n",
    "cut.add('Opp charge muons',q_sum_mask)\n",
    "\n",
    "\n",
    "#Recoil Calculation\n",
    "ecm = 240.0 #GeV # com energy\n",
    "Recoil = ak.zip({\"px\":0.0-Z_cand.px,\"py\":0.0-Z_cand.py,\"pz\":0.0-Z_cand.pz,\"E\":ecm-Z_cand.E},with_name=\"Momentum4D\")\n",
    "\n",
    "# Selection 1 : Selection 0 + 80 < M_Z < 100\n",
    "zmassmask = (Z_cand.mass > 80) & (Z_cand.mass < 100)\n",
    "Z_cand_sel1 = Z_cand[zmassmask]\n",
    "Recoil_sel1 = Recoil[zmassmask]\n",
    "zmassmask = ak.fill_none(zmassmask,[False],axis=0) #Replace None values at axis 0 with [False]\n",
    "zmassmask = ak.flatten(zmassmask)\n",
    "cut.add('80 < $M_Z$ < 100',zmassmask)\n",
    "\n",
    "#Prepare cutflows\n",
    "sel0_list = ['No cut','At least one Reco Particle', 'Muon $p_T$ > 10 [GeV]', '$N_Z$', 'Opp charge muons' ]\n",
    "sel1_list = ['No cut','At least one Reco Particle', 'Muon $p_T$ > 10 [GeV]', '$N_Z$', 'Opp charge muons', '80 < $M_Z$ < 100']\n",
    "sel0 = cut.cutflow(*sel0_list)\n",
    "sel1 = cut.cutflow(*sel1_list)\n",
    "\n",
    "#Prepare output\n",
    "#Choose the required histograms and their assigned variables to fill\n",
    "names = ['Zm','Zm_zoom','Recoilm','Recoilm_zoom','Recoilm_zoom1','Recoilm_zoom2','Recoilm_zoom3','Recoilm_zoom4','Recoilm_zoom5','Recoilm_zoom6']\n",
    "vars_sel0 = ([Z_cand.mass]*2) + ([Recoil.mass]*8)\n",
    "vars_sel1 = ([Z_cand_sel1.mass]*2) + ([Recoil_sel1.mass]*8)\n",
    "Output = {\n",
    "    'histograms': {\n",
    "        'sel0':{name:get_1Dhist(name,var) for name,var in zip(names,vars_sel0)},\n",
    "        'sel1':{name:get_1Dhist(name,var) for name,var in zip(names,vars_sel1)}\n",
    "    },\n",
    "    'cutflow': { #cutflow objects\n",
    "        'sel0': sel0,\n",
    "        'sel1': sel1\n",
    "    }\n",
    "}"
   ]
  },
  {
   "cell_type": "code",
   "execution_count": 6,
   "id": "d01eef2e-328d-4991-ad20-75c43de3b2a0",
   "metadata": {},
   "outputs": [
    {
     "data": {
      "text/plain": [
       "{'histograms': {'sel0': {'Zm': Hist(Regular(100, 0, 250, label='Axis 0'), storage=Double()) # (has staged fills),\n",
       "   'Zm_zoom': Hist(Regular(40, 80, 100, label='Axis 0'), storage=Double()) # (has staged fills),\n",
       "   'Recoilm': Hist(Regular(100, 0, 200, label='Axis 0'), storage=Double()) # (has staged fills),\n",
       "   'Recoilm_zoom': Hist(Regular(200, 80, 160, label='Axis 0'), storage=Double()) # (has staged fills),\n",
       "   'Recoilm_zoom1': Hist(Regular(100, 120, 140, label='Axis 0'), storage=Double()) # (has staged fills),\n",
       "   'Recoilm_zoom2': Hist(Regular(200, 120, 140, label='Axis 0'), storage=Double()) # (has staged fills),\n",
       "   'Recoilm_zoom3': Hist(Regular(400, 120, 140, label='Axis 0'), storage=Double()) # (has staged fills),\n",
       "   'Recoilm_zoom4': Hist(Regular(800, 120, 140, label='Axis 0'), storage=Double()) # (has staged fills),\n",
       "   'Recoilm_zoom5': Hist(Regular(2000, 120, 140, label='Axis 0'), storage=Double()) # (has staged fills),\n",
       "   'Recoilm_zoom6': Hist(Regular(100, 130.3, 140, label='Axis 0'), storage=Double()) # (has staged fills)},\n",
       "  'sel1': {'Zm': Hist(Regular(100, 0, 250, label='Axis 0'), storage=Double()) # (has staged fills),\n",
       "   'Zm_zoom': Hist(Regular(40, 80, 100, label='Axis 0'), storage=Double()) # (has staged fills),\n",
       "   'Recoilm': Hist(Regular(100, 0, 200, label='Axis 0'), storage=Double()) # (has staged fills),\n",
       "   'Recoilm_zoom': Hist(Regular(200, 80, 160, label='Axis 0'), storage=Double()) # (has staged fills),\n",
       "   'Recoilm_zoom1': Hist(Regular(100, 120, 140, label='Axis 0'), storage=Double()) # (has staged fills),\n",
       "   'Recoilm_zoom2': Hist(Regular(200, 120, 140, label='Axis 0'), storage=Double()) # (has staged fills),\n",
       "   'Recoilm_zoom3': Hist(Regular(400, 120, 140, label='Axis 0'), storage=Double()) # (has staged fills),\n",
       "   'Recoilm_zoom4': Hist(Regular(800, 120, 140, label='Axis 0'), storage=Double()) # (has staged fills),\n",
       "   'Recoilm_zoom5': Hist(Regular(2000, 120, 140, label='Axis 0'), storage=Double()) # (has staged fills),\n",
       "   'Recoilm_zoom6': Hist(Regular(100, 130.3, 140, label='Axis 0'), storage=Double()) # (has staged fills)}},\n",
       " 'cutflow': {'sel0': Cutflow(selections=('No cut', 'At least one Reco Particle', 'Muon $p_T$ > 10 [GeV]', '$N_Z$', 'Opp charge muons')),\n",
       "  'sel1': Cutflow(selections=('No cut', 'At least one Reco Particle', 'Muon $p_T$ > 10 [GeV]', '$N_Z$', 'Opp charge muons', '80 < $M_Z$ < 100'))}}"
      ]
     },
     "execution_count": 6,
     "metadata": {},
     "output_type": "execute_result"
    }
   ],
   "source": [
    "Output"
   ]
  },
  {
   "cell_type": "code",
   "execution_count": 7,
   "id": "495667a9-c750-4cfd-995b-6281fdd8f278",
   "metadata": {},
   "outputs": [
    {
     "data": {
      "text/plain": [
       "(Hist(Integer(0, 6, name='onecut'), storage=Double()) # (has staged fills),\n",
       " Hist(Integer(0, 6, name='cutflow'), storage=Double()) # (has staged fills),\n",
       " ['initial',\n",
       "  'No cut',\n",
       "  'At least one Reco Particle',\n",
       "  'Muon $p_T$ > 10 [GeV]',\n",
       "  '$N_Z$',\n",
       "  'Opp charge muons'])"
      ]
     },
     "execution_count": 7,
     "metadata": {},
     "output_type": "execute_result"
    }
   ],
   "source": [
    "Output['cutflow']['sel0'].yieldhist()"
   ]
  },
  {
   "cell_type": "code",
   "execution_count": 28,
   "id": "cd3f778e-0aaf-4e6c-a357-e1aea4f840d3",
   "metadata": {},
   "outputs": [
    {
     "data": {
      "text/html": [
       "<pre>[[85.4],\n",
       " [88.8],\n",
       " [12.7],\n",
       " [22.2],\n",
       " [86.6],\n",
       " [92.3],\n",
       " [95.7],\n",
       " [89],\n",
       " [43.2],\n",
       " [35.4],\n",
       " ...,\n",
       " [92.1],\n",
       " [91.2],\n",
       " [91.7],\n",
       " [88.8],\n",
       " [85.8],\n",
       " [88.3],\n",
       " [42.2],\n",
       " [87.4],\n",
       " [89.4]]\n",
       "----------------------------------\n",
       "type: 3036 * option[var * float32]</pre>"
      ],
      "text/plain": [
       "<Array [[85.4], [88.8], ..., [87.4], [89.4]] type='3036 * option[var * floa...'>"
      ]
     },
     "execution_count": 28,
     "metadata": {},
     "output_type": "execute_result"
    }
   ],
   "source": [
    "Z_cand[(dak.num(dak.fill_none(Z_cand.mass,[],axis=0),axis=1)>0)].mass.compute()"
   ]
  },
  {
   "cell_type": "code",
   "execution_count": 56,
   "id": "e8c10ee9-5f73-404d-bdef-2a4b25bfabc2",
   "metadata": {},
   "outputs": [],
   "source": [
    "def clean(var):\n",
    "    return var[(dak.num(dak.fill_none(Z_cand.mass,[],axis=0),axis=1)>0)]\n",
    "def clean_and_flatten(var):\n",
    "    return dak.ravel(var[(dak.num(dak.fill_none(Z_cand.mass,[],axis=0),axis=1)>0)])"
   ]
  },
  {
   "cell_type": "code",
   "execution_count": null,
   "id": "98cfc213-4a53-4de7-bad1-615744772b92",
   "metadata": {},
   "outputs": [],
   "source": []
  },
  {
   "cell_type": "code",
   "execution_count": 45,
   "id": "1830b4b2-09c4-4730-92bb-55245c06e647",
   "metadata": {},
   "outputs": [
    {
     "data": {
      "text/html": [
       "<pre>[[85.4],\n",
       " [88.8],\n",
       " [12.7],\n",
       " [22.2],\n",
       " [86.6],\n",
       " [92.3],\n",
       " [95.7],\n",
       " [89],\n",
       " [43.2],\n",
       " [35.4],\n",
       " ...,\n",
       " [92.1],\n",
       " [91.2],\n",
       " [91.7],\n",
       " [88.8],\n",
       " [85.8],\n",
       " [88.3],\n",
       " [42.2],\n",
       " [87.4],\n",
       " [89.4]]\n",
       "----------------------------------\n",
       "type: 3036 * option[var * float32]</pre>"
      ],
      "text/plain": [
       "<Array [[85.4], [88.8], ..., [87.4], [89.4]] type='3036 * option[var * floa...'>"
      ]
     },
     "execution_count": 45,
     "metadata": {},
     "output_type": "execute_result"
    }
   ],
   "source": [
    "clean(Z_cand.mass).compute()"
   ]
  },
  {
   "cell_type": "code",
   "execution_count": 57,
   "id": "cdbc3fb4-c3b1-4a27-80e7-f393e173d15a",
   "metadata": {},
   "outputs": [],
   "source": [
    "h = hda.Hist.new.Reg(100,0,200).Double().fill(clean_and_flatten(Z_cand.mass))"
   ]
  },
  {
   "cell_type": "code",
   "execution_count": 58,
   "id": "d9b65a4f-d79d-48c3-bd46-e7a8c39f3ed6",
   "metadata": {},
   "outputs": [
    {
     "data": {
      "text/html": [
       "<html>\n",
       "<div style=\"display:flex; align-items:center;\">\n",
       "<div style=\"width:290px;\">\n",
       "<svg xmlns=\"http://www.w3.org/2000/svg\" viewBox=\"-10 -105 270 120\">\n",
       "<line x1=\"-5\" y1=\"0\" x2=\"255\" y2=\"0\" style=\"fill:none;stroke-width:2;stroke:currentColor\"/>\n",
       "<text text-anchor=\"middle\" x=\"0\" y=\"15\" style=\"fill:currentColor;\">\n",
       "0\n",
       "</text>\n",
       "<text text-anchor=\"middle\" x=\"250\" y=\"15\" style=\"fill:currentColor;\">\n",
       "200\n",
       "</text>\n",
       "<text text-anchor=\"middle\" x=\"125.0\" y=\"15\" style=\"fill:currentColor;\">\n",
       "Axis 0\n",
       "</text>\n",
       "<polyline points=\"  0,0   0,-0 2.5,-0 2.5,-0   5,-0   5,-0.101 7.5,-0.101 7.5,-0.101  10,-0.101  10,-0.704 12.5,-0.704 12.5,-1.21  15,-1.21  15,-1.31 17.5,-1.31 17.5,-1.91  20,-1.91  20,-2.41 22.5,-2.41 22.5,-1.91  25,-1.91  25,-3.02 27.5,-3.02 27.5,-2.31  30,-2.31  30,-3.12 32.5,-3.12 32.5,-2.11  35,-2.11  35,-2.82 37.5,-2.82 37.5,-1.91  40,-1.91  40,-2.41 42.5,-2.41 42.5,-1.61  45,-1.61  45,-1.51 47.5,-1.51 47.5,-1.91  50,-1.91  50,-2.01 52.5,-2.01 52.5,-2.11  55,-2.11  55,-0.604 57.5,-0.604 57.5,-1.61  60,-1.61  60,-1.31 62.5,-1.31 62.5,-1.31  65,-1.31  65,-2.01 67.5,-2.01 67.5,-1.01  70,-1.01  70,-2.11 72.5,-2.11 72.5,-0.604  75,-0.604  75,-1.21 77.5,-1.21 77.5,-1.91  80,-1.91  80,-0.805 82.5,-0.805 82.5,-0.604  85,-0.604  85,-1.21 87.5,-1.21 87.5,-1.51  90,-1.51  90,-1.91 92.5,-1.91 92.5,-2.21  95,-2.21  95,-1.91 97.5,-1.91 97.5,-2.52 100,-2.52 100,-3.72 102.5,-3.72 102.5,-5.23 105,-5.23 105,-8.35 107.5,-8.35 107.5,-16.2 110,-16.2 110,-39.1 112.5,-39.1 112.5,-100 115,-100 115,-39.9 117.5,-39.9 117.5,-12.7 120,-12.7 120,-6.24 122.5,-6.24 122.5,-2.31 125,-2.31 125,-2.92 127.5,-2.92 127.5,-1.31 130,-1.31 130,-1.31 132.5,-1.31 132.5,-0.604 135,-0.604 135,-0.704 137.5,-0.704 137.5,-0 140,-0 140,-0.101 142.5,-0.101 142.5,-0 145,-0 145,-0 147.5,-0 147.5,-0.101 150,-0.101 150,-0 152.5,-0 152.5,-0.101 155,-0.101 155,-1.61 157.5,-1.61 157.5,-0 160,-0 160,-0 162.5,-0 162.5,-0 165,-0 165,-0 167.5,-0 167.5,-0 170,-0 170,-0 172.5,-0 172.5,-0 175,-0 175,-0 177.5,-0 177.5,-0 180,-0 180,-0 182.5,-0 182.5,-0 185,-0 185,-0 187.5,-0 187.5,-0 190,-0 190,-0 192.5,-0 192.5,-0 195,-0 195,-0 197.5,-0 197.5,-0 200,-0 200,-0 202.5,-0 202.5,-0 205,-0 205,-0 207.5,-0 207.5,-0 210,-0 210,-0 212.5,-0 212.5,-0 215,-0 215,-0 217.5,-0 217.5,-0 220,-0 220,-0 222.5,-0 222.5,-0 225,-0 225,-0 227.5,-0 227.5,-0 230,-0 230,-0 232.5,-0 232.5,-0 235,-0 235,-0 237.5,-0 237.5,-0 240,-0 240,-0 242.5,-0 242.5,-0 245,-0 245,-0 247.5,-0 247.5,-0 250,-0 250,0\" style=\"fill:none; stroke:currentColor;\"/>\n",
       "</svg>\n",
       "</div>\n",
       "<div style=\"flex=grow:1;\">\n",
       "Regular(100, 0, 200, label='Axis 0')<br/>\n",
       "<hr style=\"margin-top:.2em; margin-bottom:.2em;\"/>\n",
       "Double() Σ=3036.0\n",
       "\n",
       "</div>\n",
       "</div>\n",
       "</html>"
      ],
      "text/plain": [
       "Hist(Regular(100, 0, 200, label='Axis 0'), storage=Double()) # Sum: 3036.0"
      ]
     },
     "execution_count": 58,
     "metadata": {},
     "output_type": "execute_result"
    }
   ],
   "source": [
    "h.compute()"
   ]
  },
  {
   "cell_type": "code",
   "execution_count": 48,
   "id": "2cafc36f-41eb-4f68-9260-ee7824bb0623",
   "metadata": {},
   "outputs": [
    {
     "data": {
      "text/html": [
       "<pre>[128,\n",
       " 132,\n",
       " 197,\n",
       " 176,\n",
       " 125,\n",
       " 125,\n",
       " 125,\n",
       " 136,\n",
       " 188,\n",
       " 198,\n",
       " ...,\n",
       " 125,\n",
       " 125,\n",
       " 136,\n",
       " 125,\n",
       " 125,\n",
       " 144,\n",
       " 137,\n",
       " 128,\n",
       " 132]\n",
       "--------------------\n",
       "type: 3036 * float32</pre>"
      ],
      "text/plain": [
       "<Array [128, 132, 197, 176, 125, ..., 144, 137, 128, 132] type='3036 * float32'>"
      ]
     },
     "execution_count": 48,
     "metadata": {},
     "output_type": "execute_result"
    }
   ],
   "source": [
    "clean_and_flatten(Recoil.mass).compute()"
   ]
  },
  {
   "cell_type": "code",
   "execution_count": null,
   "id": "7311aa36-81ac-4ce8-bfa1-d0bf1d493bee",
   "metadata": {},
   "outputs": [],
   "source": []
  }
 ],
 "metadata": {
  "kernelspec": {
   "display_name": "Python 3 (ipykernel)",
   "language": "python",
   "name": "python3"
  },
  "language_info": {
   "codemirror_mode": {
    "name": "ipython",
    "version": 3
   },
   "file_extension": ".py",
   "mimetype": "text/x-python",
   "name": "python",
   "nbconvert_exporter": "python",
   "pygments_lexer": "ipython3",
   "version": "3.12.3"
  }
 },
 "nbformat": 4,
 "nbformat_minor": 5
}
