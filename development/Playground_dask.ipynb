{
 "cells": [
  {
   "cell_type": "code",
   "execution_count": 63,
   "id": "f89d3092-646b-4083-8f2c-cc611d877ccf",
   "metadata": {},
   "outputs": [],
   "source": [
    "from coffea.nanoevents import NanoEventsFactory, BaseSchema\n",
    "from coffea.analysis_tools import PackedSelection\n",
    "import hist\n",
    "from coffea import processor\n",
    "from coffea.nanoevents.methods import vector\n",
    "import awkward as ak\n",
    "import dask_awkward as dak\n",
    "import hist.dask as hda\n",
    "import numba\n",
    "import pandas as pd\n",
    "import vector\n",
    "from collections import namedtuple\n",
    "vector.register_awkward()"
   ]
  },
  {
   "cell_type": "code",
   "execution_count": 64,
   "id": "8647cb14-50da-4274-9741-7f0566a3596a",
   "metadata": {},
   "outputs": [],
   "source": [
    "events,report = NanoEventsFactory.from_root(\n",
    "    '../data/p8_ee_ZH_ecm240/events_082532938.root:events',\n",
    "    schemaclass=BaseSchema,\n",
    "    metadata={'dataset':'ZH'},\n",
    "    uproot_options={\"allow_read_errors_with_report\": True}\n",
    ").events()"
   ]
  },
  {
   "cell_type": "code",
   "execution_count": 75,
   "id": "946c9a16-3528-43c2-be37-41e2bcd75da5",
   "metadata": {},
   "outputs": [],
   "source": [
    "plot_props = pd.DataFrame({\n",
    "    'Zm':{'name':'Zm','title':'Z Candidate mass','xlabel':'$Z_{mass}$ [GeV]','ylabel':'Events','bins':100,'xmin':0,'xmax':250},\n",
    "    'Zm_zoom':{'name':'Zm_zoom','title':'Z Candidate mass','xlabel':'$Z_{mass}$ [GeV]','ylabel':'Events','bins':40,'xmin':80,'xmax':100},\n",
    "    'Recoilm':{'name':'Recoilm','title':'Leptonic Recoil mass','xlabel':'$Recoil_{mass}$ [GeV]','ylabel':'Events','bins':100,'xmin':0,'xmax':200},\n",
    "    'Recoilm_zoom':{'name':'Recoilm_zoom','title':'Leptonic Recoil mass','xlabel':'$Recoil_{mass}$ [GeV]','ylabel':'Events','bins':200,'xmin':80,'xmax':160},\n",
    "    'Recoilm_zoom1':{'name':'Recoilm_zoom1','title':'Leptonic Recoil mass','xlabel':'$Recoil_{mass}$ [GeV]','ylabel':'Events','bins':100,'xmin':120,'xmax':140},\n",
    "    'Recoilm_zoom2':{'name':'Recoilm_zoom2','title':'Leptonic Recoil mass','xlabel':'$Recoil_{mass}$ [GeV]','ylabel':'Events','bins':200,'xmin':120,'xmax':140},\n",
    "    'Recoilm_zoom3':{'name':'Recoilm_zoom3','title':'Leptonic Recoil mass','xlabel':'$Recoil_{mass}$ [GeV]','ylabel':'Events','bins':400,'xmin':120,'xmax':140},\n",
    "    'Recoilm_zoom4':{'name':'Recoilm_zoom4','title':'Leptonic Recoil mass','xlabel':'$Recoil_{mass}$ [GeV]','ylabel':'Events','bins':800,'xmin':120,'xmax':140},\n",
    "    'Recoilm_zoom5':{'name':'Recoilm_zoom5','title':'Leptonic Recoil mass','xlabel':'$Recoil_{mass}$ [GeV]','ylabel':'Events','bins':2000,'xmin':120,'xmax':140},\n",
    "    'Recoilm_zoom6':{'name':'Recoilm_zoom6','title':'Leptonic Recoil mass','xlabel':'$Recoil_{mass}$ [GeV]','ylabel':'Events','bins':100,'xmin':130.3,'xmax':140}\n",
    "})\n",
    "def get_1Dhist(name, var, flatten=True):\n",
    "    '''\n",
    "    name: eg. Zm\n",
    "    var: eg. variable containing array of mass of Z\n",
    "    flatten: If to flatten var before fill; True by default\n",
    "    Returns a histogram\n",
    "    '''\n",
    "    props = plot_props[name]\n",
    "    if flatten : var = dak.ravel(var)\n",
    "    return hda.Hist.new.Reg(props.bins, props.xmin, props.xmax).Double().fill(var)"
   ]
  },
  {
   "cell_type": "code",
   "execution_count": 76,
   "id": "9ee067a4-5e8e-4e41-8347-5817203f8747",
   "metadata": {},
   "outputs": [],
   "source": [
    "def get(events,collection,attribute,*cut):\n",
    "    if len(cut) != 0:\n",
    "        return events[collection+'/'+collection+'.'+attribute][cut[0]]\n",
    "    return events[collection+'/'+collection+'.'+attribute]\n",
    "def get_all(events,Collection,*basecut):\n",
    "    prefix = '/'.join([Collection]*2)+'.'\n",
    "    list_of_attr = [field.replace(prefix,'') for field in events.fields if field.startswith(prefix)]\n",
    "    replace_list = ['.','[',']']\n",
    "    valid_attr = list_of_attr\n",
    "    for rep in replace_list:\n",
    "        valid_attr = [field.replace(rep, '_') for field in valid_attr ]\n",
    "    part = namedtuple('particle', valid_attr)\n",
    "    return part(*[get(events,Collection,attr,*basecut) for attr in list_of_attr])\n",
    "def get_reco(Reconstr_branch, needed_particle, events):\n",
    "    part = namedtuple('particle', list(Reconstr_branch._fields))\n",
    "    return part(*[getattr(Reconstr_branch,attr)[get(events,needed_particle,'index')] for attr in Reconstr_branch._fields])"
   ]
  },
  {
   "cell_type": "code",
   "execution_count": 77,
   "id": "7dfdfc3b-ed8f-4979-b4d0-017767a0b413",
   "metadata": {},
   "outputs": [],
   "source": [
    "#Create a Packed Selection object to get a cutflow later\n",
    "cut = PackedSelection()\n",
    "cut.add('No cut', dak.ones_like(dak.num(get(events,'ReconstructedParticles','energy'),axis=1),dtype=bool))\n",
    "\n",
    "# Filter out any event with no reconstructed particles and generate Reconstructed Particle Attributes\n",
    "#ak.mask preserves array length\n",
    "at_least_one_recon = dak.num(get(events,'ReconstructedParticles','energy'), axis=1) > 0\n",
    "good_events = dak.mask(events,at_least_one_recon)\n",
    "cut.add('At least one Reco Particle', at_least_one_recon)\n",
    "\n",
    "Reco = get_all(good_events,'ReconstructedParticles')\n",
    "Muons = get_reco(Reco,'Muon#0',good_events)\n",
    "\n",
    "# Create Array of Muon Lorentz Vector\n",
    "Muon = ak.zip({\"px\":Muons.momentum_x,\"py\":Muons.momentum_y,\"pz\":Muons.momentum_z,\"E\":Muons.energy,\"q\":Muons.charge,}, with_name=\"Momentum4D\")\n",
    "\n",
    "# Muon pt > 10\n",
    "Muon_pt_cut = dak.any(Muon.pt > 10.0, axis=1)\n",
    "Muon = dak.mask(Muon, Muon_pt_cut) #ak.mask to preserve number of events\n",
    "cut.add('Muon $p_T$ > 10 [GeV]',Muon_pt_cut)\n",
    "\n",
    "# Produce all the combinations of Muon Pairs possible within an event\n",
    "combs = dak.combinations(Muon,2)\n",
    "\n",
    "# Get dimuons\n",
    "mu1 , mu2 = dak.unzip(combs)\n",
    "di_muon = mu1 + mu2\n",
    "\n",
    "# Selection 0 : Only one Z candidate in an event\n",
    "di_muon = dak.mask(di_muon, dak.num(di_muon) == 1)\n",
    "cut.add('$N_Z$',dak.num(Muon) == 2 ) #Having one Z candidate is same as having exactly two muons in an even\n",
    "\n",
    "# Choose dimuon which is made up of two oppositely charged muons\n",
    "q_sum = mu1.q + mu2.q\n",
    "q_sum_array = dak.mask(q_sum, ak.num(q_sum) == 1)\n",
    "q_sum_mask = dak.all(q_sum_array == 0, axis=1)\n",
    "Z_cand = dak.mask(di_muon , q_sum_mask)\n",
    "cut.add('Opp charge muons',q_sum_mask)\n",
    "\n",
    "\n",
    "#Recoil Calculation\n",
    "ecm = 240.0 #GeV # com energy\n",
    "Recoil = ak.zip({\"px\":0.0-Z_cand.px,\"py\":0.0-Z_cand.py,\"pz\":0.0-Z_cand.pz,\"E\":ecm-Z_cand.E},with_name=\"Momentum4D\")\n",
    "\n",
    "# Selection 1 : Selection 0 + 80 < M_Z < 100\n",
    "zmassmask = (Z_cand.mass > 80) & (Z_cand.mass < 100)\n",
    "Z_cand_sel1 = Z_cand[zmassmask]\n",
    "Recoil_sel1 = Recoil[zmassmask]\n",
    "zmassmask = ak.fill_none(zmassmask,[False],axis=0) #Replace None values at axis 0 with [False]\n",
    "zmassmask = ak.flatten(zmassmask)\n",
    "cut.add('80 < $M_Z$ < 100',zmassmask)\n",
    "\n",
    "#Prepare cutflows\n",
    "sel0_list = ['No cut','At least one Reco Particle', 'Muon $p_T$ > 10 [GeV]', '$N_Z$', 'Opp charge muons' ]\n",
    "sel1_list = ['No cut','At least one Reco Particle', 'Muon $p_T$ > 10 [GeV]', '$N_Z$', 'Opp charge muons', '80 < $M_Z$ < 100']\n",
    "sel0 = cut.cutflow(*sel0_list)\n",
    "sel1 = cut.cutflow(*sel1_list)\n",
    "\n",
    "#Prepare output\n",
    "#Choose the required histograms and their assigned variables to fill\n",
    "names = ['Zm','Zm_zoom','Recoilm','Recoilm_zoom','Recoilm_zoom1','Recoilm_zoom2','Recoilm_zoom3','Recoilm_zoom4','Recoilm_zoom5','Recoilm_zoom6']\n",
    "vars_sel0 = ([Z_cand.mass]*2) + ([Recoil.mass]*8)\n",
    "vars_sel1 = ([Z_cand_sel1.mass]*2) + ([Recoil_sel1.mass]*8)\n",
    "Output = {\n",
    "    'histograms': {\n",
    "        'sel0':{name:get_1Dhist(name,var) for name,var in zip(names,vars_sel0)},\n",
    "        'sel1':{name:get_1Dhist(name,var) for name,var in zip(names,vars_sel1)}\n",
    "    },\n",
    "    'cutflow': { #cutflow objects\n",
    "        'sel0': sel0,\n",
    "        'sel1': sel1\n",
    "    }\n",
    "}"
   ]
  },
  {
   "cell_type": "code",
   "execution_count": 78,
   "id": "d01eef2e-328d-4991-ad20-75c43de3b2a0",
   "metadata": {},
   "outputs": [
    {
     "data": {
      "text/plain": [
       "{'histograms': {'sel0': {'Zm': Hist(Regular(100, 0, 250, label='Axis 0'), storage=Double()) # Sum: 3036.0,\n",
       "   'Zm_zoom': Hist(Regular(40, 80, 100, label='Axis 0'), storage=Double()) # Sum: 2324.0 (3036.0 with flow),\n",
       "   'Recoilm': Hist(Regular(100, 0, 200, label='Axis 0'), storage=Double()) # Sum: 2920.0 (3036.0 with flow),\n",
       "   'Recoilm_zoom': Hist(Regular(200, 80, 160, label='Axis 0'), storage=Double()) # Sum: 2647.0 (3036.0 with flow),\n",
       "   'Recoilm_zoom1': Hist(Regular(100, 120, 140, label='Axis 0'), storage=Double()) # Sum: 2363.0 (3036.0 with flow),\n",
       "   'Recoilm_zoom2': Hist(Regular(200, 120, 140, label='Axis 0'), storage=Double()) # Sum: 2363.0 (3036.0 with flow),\n",
       "   'Recoilm_zoom3': Hist(Regular(400, 120, 140, label='Axis 0'), storage=Double()) # Sum: 2363.0 (3036.0 with flow),\n",
       "   'Recoilm_zoom4': Hist(Regular(800, 120, 140, label='Axis 0'), storage=Double()) # Sum: 2363.0 (3036.0 with flow),\n",
       "   'Recoilm_zoom5': Hist(Regular(2000, 120, 140, label='Axis 0'), storage=Double()) # Sum: 2363.0 (3036.0 with flow),\n",
       "   'Recoilm_zoom6': Hist(Regular(100, 130.3, 140, label='Axis 0'), storage=Double()) # Sum: 512.0 (3036.0 with flow)},\n",
       "  'sel1': {'Zm': Hist(Regular(100, 0, 250, label='Axis 0'), storage=Double()) # Sum: 2324.0,\n",
       "   'Zm_zoom': Hist(Regular(40, 80, 100, label='Axis 0'), storage=Double()) # Sum: 2324.0,\n",
       "   'Recoilm': Hist(Regular(100, 0, 200, label='Axis 0'), storage=Double()) # Sum: 2324.0,\n",
       "   'Recoilm_zoom': Hist(Regular(200, 80, 160, label='Axis 0'), storage=Double()) # Sum: 2324.0,\n",
       "   'Recoilm_zoom1': Hist(Regular(100, 120, 140, label='Axis 0'), storage=Double()) # Sum: 2178.0 (2324.0 with flow),\n",
       "   'Recoilm_zoom2': Hist(Regular(200, 120, 140, label='Axis 0'), storage=Double()) # Sum: 2178.0 (2324.0 with flow),\n",
       "   'Recoilm_zoom3': Hist(Regular(400, 120, 140, label='Axis 0'), storage=Double()) # Sum: 2178.0 (2324.0 with flow),\n",
       "   'Recoilm_zoom4': Hist(Regular(800, 120, 140, label='Axis 0'), storage=Double()) # Sum: 2178.0 (2324.0 with flow),\n",
       "   'Recoilm_zoom5': Hist(Regular(2000, 120, 140, label='Axis 0'), storage=Double()) # Sum: 2178.0 (2324.0 with flow),\n",
       "   'Recoilm_zoom6': Hist(Regular(100, 130.3, 140, label='Axis 0'), storage=Double()) # Sum: 449.0 (2324.0 with flow)}},\n",
       " 'cutflow': {'sel0': Cutflow(selections=('No cut', 'At least one Reco Particle', 'Muon $p_T$ > 10 [GeV]', '$N_Z$', 'Opp charge muons')),\n",
       "  'sel1': Cutflow(selections=('No cut', 'At least one Reco Particle', 'Muon $p_T$ > 10 [GeV]', '$N_Z$', 'Opp charge muons', '80 < $M_Z$ < 100'))}}"
      ]
     },
     "execution_count": 78,
     "metadata": {},
     "output_type": "execute_result"
    }
   ],
   "source": [
    "Output"
   ]
  },
  {
   "cell_type": "code",
   "execution_count": 81,
   "id": "495667a9-c750-4cfd-995b-6281fdd8f278",
   "metadata": {},
   "outputs": [
    {
     "data": {
      "text/plain": [
       "(Hist(Integer(0, 6, name='onecut'), storage=Double()) # (has staged fills),\n",
       " Hist(Integer(0, 6, name='cutflow'), storage=Double()) # (has staged fills),\n",
       " ['initial',\n",
       "  'No cut',\n",
       "  'At least one Reco Particle',\n",
       "  'Muon $p_T$ > 10 [GeV]',\n",
       "  '$N_Z$',\n",
       "  'Opp charge muons'])"
      ]
     },
     "execution_count": 81,
     "metadata": {},
     "output_type": "execute_result"
    }
   ],
   "source": [
    "Output['cutflow']['sel0'].yieldhist()"
   ]
  },
  {
   "cell_type": "code",
   "execution_count": null,
   "id": "cd3f778e-0aaf-4e6c-a357-e1aea4f840d3",
   "metadata": {},
   "outputs": [],
   "source": []
  }
 ],
 "metadata": {
  "kernelspec": {
   "display_name": "Python 3 (ipykernel)",
   "language": "python",
   "name": "python3"
  },
  "language_info": {
   "codemirror_mode": {
    "name": "ipython",
    "version": 3
   },
   "file_extension": ".py",
   "mimetype": "text/x-python",
   "name": "python",
   "nbconvert_exporter": "python",
   "pygments_lexer": "ipython3",
   "version": "3.12.3"
  }
 },
 "nbformat": 4,
 "nbformat_minor": 5
}
