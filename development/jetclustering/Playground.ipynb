{
 "cells": [
  {
   "cell_type": "code",
   "execution_count": 2,
   "id": "2f9fe376-0d68-4284-bd6c-13fa5d990e50",
   "metadata": {},
   "outputs": [],
   "source": [
    "from coffea.nanoevents import NanoEventsFactory, BaseSchema, FCC\n",
    "import awkward as ak\n",
    "import vector\n",
    "vector.register_awkward()\n",
    "import dask_awkward as dak\n",
    "import numpy as np\n",
    "import numba\n",
    "import sys\n",
    "ROOT_DIR=\"/home/prayag/coffeafcc/coffea-fcc-analyses/\"\n",
    "sys.path.append(ROOT_DIR+\"scripts/analyzers\")\n",
    "import ReconstructedParticle\n",
    "import fastjet\n",
    "import hist\n",
    "from coffea.analysis_tools import PackedSelection"
   ]
  },
  {
   "cell_type": "code",
   "execution_count": 3,
   "id": "75fd7ff0-34e5-4a43-995c-ba8ef10cbbab",
   "metadata": {},
   "outputs": [
    {
     "name": "stderr",
     "output_type": "stream",
     "text": [
      "/home/prayag/coffeafcc/development/coffea/src/coffea/util.py:226: UserWarning: Skipping _intMap as it is not interpretable by Uproot\n",
      "  warnings.warn(\n",
      "/home/prayag/coffeafcc/development/coffea/src/coffea/util.py:234: UserWarning: Skipping _intMap.first as it is not interpretable by Uproot\n",
      "  warnings.warn(\n",
      "/home/prayag/coffeafcc/development/coffea/src/coffea/util.py:234: UserWarning: Skipping _intMap.second as it is not interpretable by Uproot\n",
      "  warnings.warn(\n",
      "/home/prayag/coffeafcc/development/coffea/src/coffea/util.py:226: UserWarning: Skipping _floatMap as it is not interpretable by Uproot\n",
      "  warnings.warn(\n",
      "/home/prayag/coffeafcc/development/coffea/src/coffea/util.py:234: UserWarning: Skipping _floatMap.first as it is not interpretable by Uproot\n",
      "  warnings.warn(\n",
      "/home/prayag/coffeafcc/development/coffea/src/coffea/util.py:234: UserWarning: Skipping _floatMap.second as it is not interpretable by Uproot\n",
      "  warnings.warn(\n",
      "/home/prayag/coffeafcc/development/coffea/src/coffea/util.py:226: UserWarning: Skipping _stringMap as it is not interpretable by Uproot\n",
      "  warnings.warn(\n",
      "/home/prayag/coffeafcc/development/coffea/src/coffea/util.py:234: UserWarning: Skipping _stringMap.first as it is not interpretable by Uproot\n",
      "  warnings.warn(\n",
      "/home/prayag/coffeafcc/development/coffea/src/coffea/util.py:234: UserWarning: Skipping _stringMap.second as it is not interpretable by Uproot\n",
      "  warnings.warn(\n"
     ]
    }
   ],
   "source": [
    "fcc = FCC.get_schema()\n",
    "events = NanoEventsFactory.from_root(\n",
    "    '../../data/wzp6_ee_mumuH_Hbb_ecm240/events_159112833.root:events',\n",
    "    schemaclass=fcc,\n",
    "    # entry_stop=10000,\n",
    "    metadata={'dataset':'ZH'},\n",
    "    delayed=True,\n",
    "    uproot_options={\"filter_name\": lambda x : \"PARAMETERS\" not in x}\n",
    ").events()"
   ]
  },
  {
   "cell_type": "code",
   "execution_count": 4,
   "id": "cd2ec0dc-4ec3-4602-85c8-0398b2ce0c0a",
   "metadata": {
    "jupyter": {
     "source_hidden": true
    }
   },
   "outputs": [],
   "source": [
    "# #################################\n",
    "# #Begin the processor definition #\n",
    "# #################################\n",
    "# class jetclustering(processor.ProcessorABC):\n",
    "#     '''\n",
    "#     Create jets with ee_kt algorithm and form dijets (Higgs --> bb)\n",
    "#     Create Z candidates from two leptons (Z --> ll)\n",
    "#     '''\n",
    "#     def __init__(self, *args, **kwargs):\n",
    "#         pass\n",
    "\n",
    "#     def process(self,events):\n",
    "\n",
    "#         #Create a Packed Selection object to get a cutflow later\n",
    "#         cut = PackedSelection()\n",
    "#         cut.add('No cut', dak.ones_like(dak.num(get(events,'ReconstructedParticles','energy'),axis=1),dtype=bool))\n",
    "\n",
    "#         # Selection 0 : No Cut (example)bb\n",
    "#         sel0_ocl = cut.cutflow(*cut.names).yieldhist()\n",
    "#         sel0_events = events\n",
    "\n",
    "#         # Filter out any event with no reconstructed particles and generate Reconstructed Particle Attributes\n",
    "#         #ak.mask preserves array length\n",
    "#         at_least_one_recon = dak.num(get(events,'ReconstructedParticles','energy'), axis=1) > 0\n",
    "#         good_events = dak.mask(events,at_least_one_recon)\n",
    "#         cut.add('At least one Reco Particle', at_least_one_recon)\n",
    "\n",
    "#         # Selection 1 : No Cut and At least one Reco Particle\n",
    "#         sel1_ocl = cut.cutflow(*cut.names).yieldhist()\n",
    "#         sel1_events = good_events\n",
    "\n",
    "#         #Prepare output\n",
    "#         #Choose the required histograms and their assigned variables to fill\n",
    "#         names = plot_props.columns.to_list()\n",
    "#         vars_sel0 = [get(sel0_events,'ReconstructedParticles','energy')]\n",
    "#         vars_sel1 = [get(sel1_events,'ReconstructedParticles','energy')]\n",
    "\n",
    "#         Output = {\n",
    "#             'histograms': {\n",
    "#                 'sel0':{name:get_1Dhist(name,var,flatten=True) for name,var in zip(names,vars_sel0)},\n",
    "#                 'sel1':{name:get_1Dhist(name,var,flatten=True) for name,var in zip(names,vars_sel1)}\n",
    "#             },\n",
    "#             'cutflow': {\n",
    "#                 'sel0': {'Onecut':sel0_ocl[0],'Cutflow':sel0_ocl[1],'Labels':sel0_ocl[2]},\n",
    "#                 'sel1': {'Onecut':sel1_ocl[0],'Cutflow':sel1_ocl[1],'Labels':sel1_ocl[2]}\n",
    "#             }\n",
    "#         }\n",
    "#         return Output\n",
    "\n",
    "#     def postprocess(self, accumulator):\n",
    "#         pass\n"
   ]
  },
  {
   "cell_type": "code",
   "execution_count": 5,
   "id": "db496e0e-f3ad-44e9-9cc5-6a6e34110a2b",
   "metadata": {},
   "outputs": [],
   "source": [
    "Muons = events.ReconstructedParticles.match_collection(events.Muonidx0)\n",
    "Z = ReconstructedParticle.resonanceBuilder(Muons, 91.0)\n",
    "Recoil = ReconstructedParticle.recoilBuilder(Z, 240.0)\n",
    "z_cuts = PackedSelection()\n",
    "jet_cuts = PackedSelection()"
   ]
  },
  {
   "cell_type": "code",
   "execution_count": 6,
   "id": "cfd81757-3e0a-48a4-b8d7-eb8e8ad099b6",
   "metadata": {},
   "outputs": [],
   "source": [
    "#Define Selections\n",
    "sel_p_gt_25_Muons = Muons.p > 25.0\n",
    "\n",
    "sel_n_e_0_Muons = ak.num(Muons, axis=1) == 0\n",
    "sel_n_gte_2_Muons = ak.num(Muons, axis=1) >= 2\n",
    "\n",
    "sel_m_gt_70_Z = Z.m > 70.0\n",
    "sel_m_lt_100_Z = Z.m < 100.0\n",
    "\n",
    "sel_p_gt_20_Z = Z.p > 20.0\n",
    "sel_p_lt_70_Z = Z.p < 70.0\n",
    "\n",
    "sel_m_gt_120_Recoil = Recoil.m > 120.0\n",
    "sel_m_lt_140_Recoil = Recoil.m < 140.0\n",
    "\n",
    "# Add the selections to the cuts Packed Selection\n",
    "z_cuts.add(\"p_gt_25_Muons\", ak.all(sel_p_gt_25_Muons, axis=1))\n",
    "z_cuts.add(\"n_gte_2_Muons\", sel_n_gte_2_Muons)\n",
    "z_cuts.add(\"m_gt_70_Z\", sel_m_gt_70_Z)\n",
    "z_cuts.add(\"m_lt_100_Z\", sel_m_lt_100_Z)\n",
    "z_cuts.add(\"p_gt_20_Z\", sel_p_gt_20_Z)\n",
    "z_cuts.add(\"p_lt_70_Z\", sel_p_lt_70_Z)\n",
    "z_cuts.add(\"m_gt_120_Recoil\", sel_m_gt_120_Recoil)\n",
    "z_cuts.add(\"m_lt_140_Recoil\", sel_m_lt_140_Recoil)"
   ]
  },
  {
   "cell_type": "code",
   "execution_count": 7,
   "id": "32538756-6608-47fd-8b56-0a8e9b6383b8",
   "metadata": {},
   "outputs": [],
   "source": [
    "# Calculate the final variables\n",
    "Good_Z = Z[z_cuts.all()]\n",
    "Good_Recoil = Recoil[z_cuts.all()]"
   ]
  },
  {
   "cell_type": "code",
   "execution_count": 8,
   "id": "657ec5a8-35a1-4843-9f45-17998ced2bf3",
   "metadata": {},
   "outputs": [],
   "source": [
    "def remove(array, idx):\n",
    "    index = idx.index\n",
    "    all_index = ak.local_index(array,axis=1)\n",
    "\n",
    "    i,a = ak.unzip(ak.cartesian([index[:,np.newaxis] ,all_index], nested=True))\n",
    "    c = a == i\n",
    "    d = ak.firsts(c)\n",
    "    s = dak.sum(d, axis=2)\n",
    "    kl = s == 1\n",
    "    \n",
    "    return array[~kl]"
   ]
  },
  {
   "cell_type": "code",
   "execution_count": 9,
   "id": "5956c21b-d85b-481a-8eea-f255c50e0f12",
   "metadata": {},
   "outputs": [],
   "source": [
    "array = events.ReconstructedParticles\n",
    "idx = events.Muonidx0\n",
    "f = remove(array, idx)"
   ]
  },
  {
   "cell_type": "code",
   "execution_count": 10,
   "id": "64b87d0d-ee9e-4a3d-bb62-c395d3aace25",
   "metadata": {},
   "outputs": [
    {
     "name": "stderr",
     "output_type": "stream",
     "text": [
      "UserWarning: dcut and exclusive jets for jet-finders other than kt, C/A or genkt with p>=0 should be interpreted with care.\n"
     ]
    }
   ],
   "source": [
    "rps_no_mu = remove(events.ReconstructedParticles, events.Muonidx0)\n",
    "pseudo_jets = ak.zip(\n",
    "    {\n",
    "    'px':rps_no_mu.px,\n",
    "    'py':rps_no_mu.py,\n",
    "    'pz':rps_no_mu.pz,\n",
    "    'E':rps_no_mu.E,\n",
    "    },\n",
    "    with_name=\"Momentum4D\",\n",
    "    behavior=fcc.behavior()\n",
    ")\n",
    "jetdef = fastjet.JetDefinition0Param(fastjet.ee_kt_algorithm)\n",
    "# Requirements: \n",
    "# [Done] arg_exclusive = 2\n",
    "# [    ] arg_cut = 2 i.e., N jets for m_exclusive\n",
    "# [    ] arg_sorted = 0 i.e., p_T ordering\n",
    "# [    ] arg_recombination = 10 i.e., E0_scheme : Special for FCCAnalyses\n",
    "jetdef.set_recombination_scheme(0) # E scheme\n",
    "#jetdef.description()\n",
    "cluster = fastjet.ClusterSequence(pseudo_jets, jetdef)\n",
    "jet_constituents = cluster.constituents()\n",
    "jets = cluster.exclusive_jets(2)\n",
    "dijets = ak.sum(jets, axis=1)"
   ]
  },
  {
   "cell_type": "code",
   "execution_count": 13,
   "id": "334be44b-a624-480b-95b5-d5a99e07e1d2",
   "metadata": {},
   "outputs": [],
   "source": [
    "jc = jet_constituents.compute()"
   ]
  },
  {
   "cell_type": "code",
   "execution_count": 15,
   "id": "32a6e556-6e38-490b-aef6-ed2f3b95f303",
   "metadata": {},
   "outputs": [
    {
     "data": {
      "text/plain": [
       "array(100000)"
      ]
     },
     "execution_count": 15,
     "metadata": {},
     "output_type": "execute_result"
    }
   ],
   "source": [
    "ak.num(jc, axis = 0)"
   ]
  },
  {
   "cell_type": "code",
   "execution_count": 16,
   "id": "988f1f56-ad57-421b-8543-975f12c19722",
   "metadata": {},
   "outputs": [
    {
     "data": {
      "text/html": [
       "<pre>[1,\n",
       " 1,\n",
       " 1,\n",
       " 1,\n",
       " 1,\n",
       " 1,\n",
       " 1,\n",
       " 1,\n",
       " 1,\n",
       " 1,\n",
       " ...,\n",
       " 1,\n",
       " 1,\n",
       " 1,\n",
       " 1,\n",
       " 1,\n",
       " 1,\n",
       " 1,\n",
       " 1,\n",
       " 1]\n",
       "---------------------\n",
       "type: 100000 * ?int64</pre>"
      ],
      "text/plain": [
       "<Array [1, 1, 1, 1, 1, 1, 1, ..., 1, 1, 1, 1, 1, 1, 1] type='100000 * ?int64'>"
      ]
     },
     "execution_count": 16,
     "metadata": {},
     "output_type": "execute_result"
    }
   ],
   "source": [
    "ak.num(jc, axis = 1)"
   ]
  },
  {
   "cell_type": "code",
   "execution_count": 17,
   "id": "5ff26685-5e43-485e-b027-31807196e2c0",
   "metadata": {},
   "outputs": [
    {
     "data": {
      "text/html": [
       "<pre>[[57],\n",
       " [76],\n",
       " [53],\n",
       " [70],\n",
       " [48],\n",
       " [67],\n",
       " [54],\n",
       " [78],\n",
       " [60],\n",
       " [92],\n",
       " ...,\n",
       " [104],\n",
       " [73],\n",
       " [49],\n",
       " [63],\n",
       " [35],\n",
       " [52],\n",
       " [76],\n",
       " [66],\n",
       " [65]]\n",
       "----------------------------------\n",
       "type: 100000 * option[var * int64]</pre>"
      ],
      "text/plain": [
       "<Array [[57], [76], [53], ..., [66], [65]] type='100000 * option[var * int64]'>"
      ]
     },
     "execution_count": 17,
     "metadata": {},
     "output_type": "execute_result"
    }
   ],
   "source": [
    "ak.num(jc, axis = 2)"
   ]
  },
  {
   "cell_type": "code",
   "execution_count": 19,
   "id": "18bf6cf1-0c78-412e-a89a-3d9e4bbb6c30",
   "metadata": {},
   "outputs": [
    {
     "data": {
      "text/plain": [
       "['px', 'py', 'pz', 'E']"
      ]
     },
     "execution_count": 19,
     "metadata": {},
     "output_type": "execute_result"
    }
   ],
   "source": [
    "jc.fields"
   ]
  },
  {
   "cell_type": "code",
   "execution_count": 21,
   "id": "08d79b1a-3c73-4f73-aa88-225031a6109c",
   "metadata": {},
   "outputs": [],
   "source": [
    "rps = rps_no_mu.compute()"
   ]
  },
  {
   "cell_type": "code",
   "execution_count": 22,
   "id": "350318eb-a72f-4196-8bd7-d3f90bbfee74",
   "metadata": {},
   "outputs": [
    {
     "data": {
      "text/html": [
       "<pre>[57,\n",
       " 76,\n",
       " 53,\n",
       " 70,\n",
       " 48,\n",
       " 67,\n",
       " 54,\n",
       " 78,\n",
       " 60,\n",
       " 92,\n",
       " ...,\n",
       " 104,\n",
       " 73,\n",
       " 49,\n",
       " 63,\n",
       " 35,\n",
       " 52,\n",
       " 76,\n",
       " 66,\n",
       " 65]\n",
       "---------------------\n",
       "type: 100000 * ?int64</pre>"
      ],
      "text/plain": [
       "<Array [57, 76, 53, 70, 48, 67, ..., 35, 52, 76, 66, 65] type='100000 * ?int64'>"
      ]
     },
     "execution_count": 22,
     "metadata": {},
     "output_type": "execute_result"
    }
   ],
   "source": [
    "ak.num(rps, axis = 1)"
   ]
  },
  {
   "cell_type": "code",
   "execution_count": 40,
   "id": "4e95d425-656f-4af4-8017-63e17060f4d0",
   "metadata": {},
   "outputs": [],
   "source": [
    "rec_mc = events.MCRecoAssociations.reco_mc_index.compute()"
   ]
  },
  {
   "cell_type": "code",
   "execution_count": 44,
   "id": "fa8c3453-0470-4442-96db-764d93048e94",
   "metadata": {},
   "outputs": [],
   "source": [
    "mc = events.Particle[rec_mc[:,:,1]].compute()"
   ]
  },
  {
   "cell_type": "code",
   "execution_count": 46,
   "id": "8fe63bc1-bf9e-4705-bb2b-87439169b1b4",
   "metadata": {},
   "outputs": [
    {
     "data": {
      "text/html": [
       "<pre>[60,\n",
       " 81,\n",
       " 55,\n",
       " 72,\n",
       " 50,\n",
       " 69,\n",
       " 56,\n",
       " 81,\n",
       " 62,\n",
       " 95,\n",
       " ...,\n",
       " 106,\n",
       " 74,\n",
       " 52,\n",
       " 67,\n",
       " 37,\n",
       " 56,\n",
       " 78,\n",
       " 71,\n",
       " 69]\n",
       "--------------------\n",
       "type: 100000 * int64</pre>"
      ],
      "text/plain": [
       "<Array [60, 81, 55, 72, 50, 69, ..., 37, 56, 78, 71, 69] type='100000 * int64'>"
      ]
     },
     "execution_count": 46,
     "metadata": {},
     "output_type": "execute_result"
    }
   ],
   "source": [
    "ak.num(mc, axis = 1)"
   ]
  },
  {
   "cell_type": "code",
   "execution_count": 47,
   "id": "e4f86dd7-682e-432e-9bb8-81567aa2b613",
   "metadata": {},
   "outputs": [
    {
     "data": {
      "text/html": [
       "<pre>[60,\n",
       " 79,\n",
       " 55,\n",
       " 72,\n",
       " 50,\n",
       " 69,\n",
       " 56,\n",
       " 80,\n",
       " 62,\n",
       " 95,\n",
       " ...,\n",
       " 106,\n",
       " 74,\n",
       " 52,\n",
       " 66,\n",
       " 37,\n",
       " 55,\n",
       " 78,\n",
       " 69,\n",
       " 68]\n",
       "--------------------\n",
       "type: 100000 * int64</pre>"
      ],
      "text/plain": [
       "<Array [60, 79, 55, 72, 50, 69, ..., 37, 55, 78, 69, 68] type='100000 * int64'>"
      ]
     },
     "execution_count": 47,
     "metadata": {},
     "output_type": "execute_result"
    }
   ],
   "source": [
    "ak.num(events.ReconstructedParticles, axis = 1).compute()"
   ]
  },
  {
   "cell_type": "code",
   "execution_count": 30,
   "id": "72cb8044-b3fc-43ba-88fc-00fa0e10c229",
   "metadata": {},
   "outputs": [
    {
     "data": {
      "text/html": [
       "<pre>[[ReconstructedParticle, ...],\n",
       " [ReconstructedParticle, ...],\n",
       " [ReconstructedParticle, ...],\n",
       " [ReconstructedParticle, ...],\n",
       " [ReconstructedParticle, ...],\n",
       " [ReconstructedParticle, ...],\n",
       " [ReconstructedParticle, ...],\n",
       " [ReconstructedParticle, ...],\n",
       " [ReconstructedParticle, ...],\n",
       " [ReconstructedParticle, ...],\n",
       " ...,\n",
       " [ReconstructedParticle, ...],\n",
       " [ReconstructedParticle, ...],\n",
       " [ReconstructedParticle, ...],\n",
       " [ReconstructedParticle, ...],\n",
       " [ReconstructedParticle, ...],\n",
       " [ReconstructedParticle, ...],\n",
       " [ReconstructedParticle, ...],\n",
       " [ReconstructedParticle, ...],\n",
       " [ReconstructedParticle, ...]]\n",
       "--------------------------------------------------------------------------------------------------------------------------------------------------------------\n",
       "type: 100000 * var * ?ReconstructedParticle[\n",
       "    E: float32[parameters={&quot;__doc__&quot;: &quot;energy[ReconstructedParticles_]&quot;}],\n",
       "    charge: float32[parameters={&quot;__doc__&quot;: &quot;charge[ReconstructedParticles_]&quot;}],\n",
       "    clusters: {\n",
       "        begin: uint32[parameters={&quot;__doc__&quot;: &quot;clusters_begin[ReconstructedParticles_]&quot;}],\n",
       "        end: uint32[parameters={&quot;__doc__&quot;: &quot;clusters_end[ReconstructedParticles_]&quot;}]\n",
       "    },\n",
       "    covMatrix_10_: [10 * float32[parameters={&quot;__doc__&quot;: &quot;covMatrix[ReconstructedParticles_]&quot;}], parameters={&quot;__doc__&quot;: &quot;covMatrix[ReconstructedParticles_]&quot;}],\n",
       "    goodnessOfPID: float32[parameters={&quot;__doc__&quot;: &quot;goodnessOfPID[ReconstructedParticles_]&quot;}],\n",
       "    mass: float32[parameters={&quot;__doc__&quot;: &quot;mass[ReconstructedParticles_]&quot;}],\n",
       "    particleIDs: {\n",
       "        begin: uint32[parameters={&quot;__doc__&quot;: &quot;particleIDs_begin[ReconstructedParticles_]&quot;}],\n",
       "        end: uint32[parameters={&quot;__doc__&quot;: &quot;particleIDs_end[ReconstructedParticles_]&quot;}]\n",
       "    },\n",
       "    particles: {\n",
       "        begin: uint32[parameters={&quot;__doc__&quot;: &quot;particles_begin[ReconstructedParticles_]&quot;}],\n",
       "        end: uint32[parameters={&quot;__doc__&quot;: &quot;particles_end[ReconstructedParticles_]&quot;}]\n",
       "    },\n",
       "    px: float32[parameters={&quot;__doc__&quot;: &quot;x[ReconstructedParticles_]&quot;}],\n",
       "    py: float32[parameters={&quot;__doc__&quot;: &quot;y[ReconstructedParticles_]&quot;}],\n",
       "    pz: float32[parameters={&quot;__doc__&quot;: &quot;z[ReconstructedParticles_]&quot;}],\n",
       "    referencePoint: ThreeVector[\n",
       "        x: float32[parameters={&quot;__doc__&quot;: &quot;x[ReconstructedParticles_]&quot;}],\n",
       "        y: float32[parameters={&quot;__doc__&quot;: &quot;y[ReconstructedParticles_]&quot;}],\n",
       "        z: float32[parameters={&quot;__doc__&quot;: &quot;z[ReconstructedParticles_]&quot;}]\n",
       "    ],\n",
       "    tracks: {\n",
       "        begin: uint32[parameters={&quot;__doc__&quot;: &quot;tracks_begin[ReconstructedParticles_]&quot;}],\n",
       "        end: uint32[parameters={&quot;__doc__&quot;: &quot;tracks_end[ReconstructedParticles_]&quot;}]\n",
       "    },\n",
       "    type: int32[parameters={&quot;__doc__&quot;: &quot;type[ReconstructedParticles_]&quot;}], \n",
       "parameters={&quot;collection_name&quot;: &quot;ReconstructedParticles&quot;}]</pre>"
      ],
      "text/plain": [
       "<ReconstructedParticleArray [[ReconstructedParticle, ..., ReconstructedParticle], ...] type='...'>"
      ]
     },
     "execution_count": 30,
     "metadata": {},
     "output_type": "execute_result"
    }
   ],
   "source": [
    "events.ReconstructedParticles._apply_global_index(events.MCRecoAssociations.reco.index).compute()"
   ]
  },
  {
   "cell_type": "code",
   "execution_count": 88,
   "id": "436dcf2c-7046-430c-8143-6e7d42c33596",
   "metadata": {},
   "outputs": [
    {
     "data": {
      "text/plain": [
       "[StairsArtists(stairs=<matplotlib.patches.StepPatch object at 0x7f927a8bf170>, errorbar=<ErrorbarContainer object of 3 artists>, legend_artist=<ErrorbarContainer object of 3 artists>)]"
      ]
     },
     "execution_count": 88,
     "metadata": {},
     "output_type": "execute_result"
    },
    {
     "data": {
      "image/png": "[encoded data removed]",
      "text/plain": [
       "<Figure size 640x480 with 1 Axes>"
      ]
     },
     "metadata": {},
     "output_type": "display_data"
    }
   ],
   "source": [
    "hist.Hist.new.Reg(100,0,200).Double().fill(Good_Recoil.m.compute()).plot()"
   ]
  },
  {
   "cell_type": "code",
   "execution_count": 89,
   "id": "8652a829-62bb-4b11-a678-1c33ebc77625",
   "metadata": {},
   "outputs": [
    {
     "data": {
      "text/plain": [
       "[StairsArtists(stairs=<matplotlib.patches.StepPatch object at 0x7f927a8bc1d0>, errorbar=<ErrorbarContainer object of 3 artists>, legend_artist=<ErrorbarContainer object of 3 artists>)]"
      ]
     },
     "execution_count": 89,
     "metadata": {},
     "output_type": "execute_result"
    },
    {
     "data": {
      "image/png": "[encoded data removed]",
      "text/plain": [
       "<Figure size 640x480 with 1 Axes>"
      ]
     },
     "metadata": {},
     "output_type": "display_data"
    }
   ],
   "source": [
    "hist.Hist.new.Reg(50,50,100).Double().fill(Good_Z.m.compute()).plot()"
   ]
  },
  {
   "cell_type": "code",
   "execution_count": 90,
   "id": "468d31ba-e00a-440c-ac2c-de2c8c7f2d80",
   "metadata": {},
   "outputs": [
    {
     "data": {
      "text/plain": [
       "[StairsArtists(stairs=<matplotlib.patches.StepPatch object at 0x7f9278199760>, errorbar=<ErrorbarContainer object of 3 artists>, legend_artist=<ErrorbarContainer object of 3 artists>)]"
      ]
     },
     "execution_count": 90,
     "metadata": {},
     "output_type": "execute_result"
    },
    {
     "data": {
      "image/png": "[encoded data removed]",
      "text/plain": [
       "<Figure size 640x480 with 1 Axes>"
      ]
     },
     "metadata": {},
     "output_type": "display_data"
    }
   ],
   "source": [
    "hist.Hist.new.Reg(50,0,100).Double().fill(Good_Z.p.compute()).plot()"
   ]
  },
  {
   "cell_type": "code",
   "execution_count": 91,
   "id": "ac8a1520-83ea-4fda-a805-c30ed8bed81e",
   "metadata": {},
   "outputs": [
    {
     "name": "stderr",
     "output_type": "stream",
     "text": [
      "UserWarning: dcut and exclusive jets for jet-finders other than kt, C/A or genkt with p>=0 should be interpreted with care.\n"
     ]
    },
    {
     "data": {
      "text/plain": [
       "[StairsArtists(stairs=<matplotlib.patches.StepPatch object at 0x7f9278dde420>, errorbar=<ErrorbarContainer object of 3 artists>, legend_artist=<ErrorbarContainer object of 3 artists>)]"
      ]
     },
     "execution_count": 91,
     "metadata": {},
     "output_type": "execute_result"
    },
    {
     "data": {
      "image/png": "[encoded data removed]",
      "text/plain": [
       "<Figure size 640x480 with 1 Axes>"
      ]
     },
     "metadata": {},
     "output_type": "display_data"
    }
   ],
   "source": [
    "hist.Hist.new.Reg(50,0,150).Double().fill(dijets.m.compute()).plot()"
   ]
  },
  {
   "cell_type": "code",
   "execution_count": 33,
   "id": "0a50c37e-59bd-43b5-a6ae-50c165dc876a",
   "metadata": {},
   "outputs": [
    {
     "data": {
      "text/plain": [
       "'e+e- kt (Durham) algorithm (NB: no R) (NB: no R) with E scheme recombination'"
      ]
     },
     "execution_count": 33,
     "metadata": {},
     "output_type": "execute_result"
    }
   ],
   "source": [
    "jetdef.description()"
   ]
  },
  {
   "cell_type": "code",
   "execution_count": 139,
   "id": "37d09f70-2ddc-47cf-a0b0-bb93451f6af1",
   "metadata": {},
   "outputs": [],
   "source": [
    "class E0_scheme:\n",
    "    def preprocess(p):\n",
    "        pass\n",
    "    def recombine(pa, pb):\n",
    "        psum = pa+pb\n",
    "        pmag = np.sqrt(psum.px()**2 + psum.py()**2 + psum.pz()**2)\n",
    "        E0scale = psum.E() / pmag\n",
    "\n",
    "        psum.px = psum.px()*E0scale\n",
    "        psum.py = psum.py()*E0scale\n",
    "        psum.pz = psum.pz()*E0scale\n",
    "        \n",
    "        # return pab\n",
    "        return psum*E0scale"
   ]
  },
  {
   "cell_type": "code",
   "execution_count": 140,
   "id": "d9ae65d3-d5bd-44bf-8d32-685acc821309",
   "metadata": {},
   "outputs": [],
   "source": [
    "jetdef = fastjet.JetDefinition0Param(fastjet.ee_kt_algorithm)\n",
    "#jetdef.set_extra_param(4)\n",
    "#jetdef.set_jet_algorithm(fastjet.ee_kt_algorithm)\n",
    "#jetdef.set_jet_finder(fastjet.ee_kt_algorithm)\n",
    "jetdef.set_python_recombiner(E0_scheme)\n",
    "# jetdef.set_recombination_scheme()\n",
    "# jetdef.set_recombiner()"
   ]
  },
  {
   "cell_type": "code",
   "execution_count": 131,
   "id": "e1d3059c-933d-4039-b8f4-0caef9253f6b",
   "metadata": {},
   "outputs": [
    {
     "data": {
      "text/html": [
       "<pre>[[{px: 37.5, py: 10.7, pz: -41.6, E: 60.4}, {px: -19.5, py: 20.9, ...}],\n",
       " [{px: 33.1, py: -84.7, pz: -11.5, E: 99.3}, {px: -17.7, py: 78.6, ...}],\n",
       " [{px: -57.5, py: -27.8, pz: -37.2, E: 75.2}, {px: 6.74, py: 35.3, ...}],\n",
       " [{px: 60.2, py: -14.6, pz: 0.0496, E: 63.7}, {px: -64, py: -48.4, ...}],\n",
       " [{px: 56.3, py: -7.64, pz: -5.74, E: 59.3}, {px: -50.2, py: -21.3, ...}],\n",
       " [{px: -20.4, py: -48.1, pz: 44.5, E: 70.9}, {px: 2.44, py: 2.56, ...}],\n",
       " [{px: -23.5, py: 38.5, pz: 75, E: 90}, {px: 23.6, py: 0.133, ...}],\n",
       " [{px: 21.2, py: 98.8, pz: 3.29, E: 112}, {px: 8.99, py: -39.3, ...}],\n",
       " [{px: 5.04, py: -52.4, pz: -21.2, E: 60.2}, {px: -43.6, py: 59.4, ...}],\n",
       " [{px: 63.8, py: 39.5, pz: -51.5, E: 97.7}, {px: -17.7, py: -24.4, ...}],\n",
       " ...,\n",
       " [{px: 9.2, py: -1.44, pz: 73.2, E: 87.6}, {px: 28.3, py: -28.8, ...}],\n",
       " [{px: 10.8, py: -24.5, pz: -68.6, E: 94.4}, {px: -25.1, py: 64, ...}],\n",
       " [{px: 2.13, py: -28.6, pz: -33.4, E: 45.3}, {px: 27.6, py: 24.3, ...}],\n",
       " [{px: -30.5, py: 78.1, pz: 41, E: 94.9}, {px: 33.3, py: 6.14, ...}],\n",
       " [{px: -5.55, py: 8.03, pz: 29.3, E: 31.9}, {px: 38.2, py: -7.6, ...}],\n",
       " [{px: 1.01, py: -16.4, pz: 22.7, E: 29.2}, {px: -27.5, py: 77.8, ...}],\n",
       " [{px: 2.16, py: 28.2, pz: 47.3, E: 65.5}, {px: -94.7, py: 35.7, ...}],\n",
       " [{px: 33.5, py: -68.5, pz: 19.3, E: 82.4}, {px: -6.76, py: 46.9, ...}],\n",
       " [{px: 14.4, py: -81, pz: -29.4, E: 88.5}, {px: 5.04, py: 31.3, ...}]]\n",
       "--------------------------------------------------------------------------\n",
       "type: 100000 * option[var * Momentum4D[\n",
       "    px: float64,\n",
       "    py: float64,\n",
       "    pz: float64,\n",
       "    E: float64\n",
       "]]</pre>"
      ],
      "text/plain": [
       "<MomentumArray4D [[{px: 37.5, py: 10.7, ...}, ...], ...] type='100000 * opt...'>"
      ]
     },
     "execution_count": 131,
     "metadata": {},
     "output_type": "execute_result"
    }
   ],
   "source": [
    "cluster = fastjet.ClusterSequence(pseudo_jets, jetdef)\n",
    "jet_constituents = cluster.constituents()\n",
    "jets = cluster.exclusive_jets(2)\n",
    "jets.compute()"
   ]
  },
  {
   "cell_type": "code",
   "execution_count": 50,
   "id": "b2e45853-ca8a-491e-9f56-b23380fb4180",
   "metadata": {},
   "outputs": [
    {
     "data": {
      "text/html": [
       "<pre>[[ReconstructedParticle, ...],\n",
       " [ReconstructedParticle, ...],\n",
       " [ReconstructedParticle, ...],\n",
       " [ReconstructedParticle, ...],\n",
       " [ReconstructedParticle, ...],\n",
       " [ReconstructedParticle, ...],\n",
       " [ReconstructedParticle, ...],\n",
       " [ReconstructedParticle, ...],\n",
       " [ReconstructedParticle, ...],\n",
       " [ReconstructedParticle, ...],\n",
       " ...,\n",
       " [ReconstructedParticle, ...],\n",
       " [ReconstructedParticle, ...],\n",
       " [ReconstructedParticle, ...],\n",
       " [ReconstructedParticle, ...],\n",
       " [ReconstructedParticle, ...],\n",
       " [ReconstructedParticle, ...],\n",
       " [ReconstructedParticle, ...],\n",
       " [ReconstructedParticle, ...],\n",
       " [ReconstructedParticle, ...]]\n",
       "--------------------------------------------------------------------------------------------------------------------------------------------------------------\n",
       "type: 100000 * var * ?ReconstructedParticle[\n",
       "    E: float32[parameters={&quot;__doc__&quot;: &quot;energy[ReconstructedParticles_]&quot;}],\n",
       "    charge: float32[parameters={&quot;__doc__&quot;: &quot;charge[ReconstructedParticles_]&quot;}],\n",
       "    clusters: {\n",
       "        begin: uint32[parameters={&quot;__doc__&quot;: &quot;clusters_begin[ReconstructedParticles_]&quot;}],\n",
       "        end: uint32[parameters={&quot;__doc__&quot;: &quot;clusters_end[ReconstructedParticles_]&quot;}]\n",
       "    },\n",
       "    covMatrix_10_: [10 * float32[parameters={&quot;__doc__&quot;: &quot;covMatrix[ReconstructedParticles_]&quot;}], parameters={&quot;__doc__&quot;: &quot;covMatrix[ReconstructedParticles_]&quot;}],\n",
       "    goodnessOfPID: float32[parameters={&quot;__doc__&quot;: &quot;goodnessOfPID[ReconstructedParticles_]&quot;}],\n",
       "    mass: float32[parameters={&quot;__doc__&quot;: &quot;mass[ReconstructedParticles_]&quot;}],\n",
       "    particleIDs: {\n",
       "        begin: uint32[parameters={&quot;__doc__&quot;: &quot;particleIDs_begin[ReconstructedParticles_]&quot;}],\n",
       "        end: uint32[parameters={&quot;__doc__&quot;: &quot;particleIDs_end[ReconstructedParticles_]&quot;}]\n",
       "    },\n",
       "    particles: {\n",
       "        begin: uint32[parameters={&quot;__doc__&quot;: &quot;particles_begin[ReconstructedParticles_]&quot;}],\n",
       "        end: uint32[parameters={&quot;__doc__&quot;: &quot;particles_end[ReconstructedParticles_]&quot;}]\n",
       "    },\n",
       "    px: float32[parameters={&quot;__doc__&quot;: &quot;x[ReconstructedParticles_]&quot;}],\n",
       "    py: float32[parameters={&quot;__doc__&quot;: &quot;y[ReconstructedParticles_]&quot;}],\n",
       "    pz: float32[parameters={&quot;__doc__&quot;: &quot;z[ReconstructedParticles_]&quot;}],\n",
       "    referencePoint: ThreeVector[\n",
       "        x: float32[parameters={&quot;__doc__&quot;: &quot;x[ReconstructedParticles_]&quot;}],\n",
       "        y: float32[parameters={&quot;__doc__&quot;: &quot;y[ReconstructedParticles_]&quot;}],\n",
       "        z: float32[parameters={&quot;__doc__&quot;: &quot;z[ReconstructedParticles_]&quot;}]\n",
       "    ],\n",
       "    tracks: {\n",
       "        begin: uint32[parameters={&quot;__doc__&quot;: &quot;tracks_begin[ReconstructedParticles_]&quot;}],\n",
       "        end: uint32[parameters={&quot;__doc__&quot;: &quot;tracks_end[ReconstructedParticles_]&quot;}]\n",
       "    },\n",
       "    type: int32[parameters={&quot;__doc__&quot;: &quot;type[ReconstructedParticles_]&quot;}], \n",
       "parameters={&quot;collection_name&quot;: &quot;ReconstructedParticles&quot;}]</pre>"
      ],
      "text/plain": [
       "<ReconstructedParticleArray [[ReconstructedParticle, ..., ReconstructedParticle], ...] type='...'>"
      ]
     },
     "execution_count": 50,
     "metadata": {},
     "output_type": "execute_result"
    }
   ],
   "source": [
    "events.ReconstructedParticles._apply_global_index(events.MCRecoAssociations.reco_mc_index[:,:,0]).compute()"
   ]
  },
  {
   "cell_type": "code",
   "execution_count": 51,
   "id": "df18dc06-687c-479b-b3d3-788558bbe97a",
   "metadata": {},
   "outputs": [],
   "source": [
    "r = events.MCRecoAssociations.compute()"
   ]
  },
  {
   "cell_type": "code",
   "execution_count": 54,
   "id": "8801d88f-f617-4f9c-abd2-9b346f5eb4ba",
   "metadata": {},
   "outputs": [
    {
     "data": {
      "text/plain": [
       "dask.awkward<concatenate, npartitions=1>"
      ]
     },
     "execution_count": 54,
     "metadata": {},
     "output_type": "execute_result"
    }
   ],
   "source": [
    "events.MCRecoAssociations.reco_mc.compute()"
   ]
  },
  {
   "cell_type": "code",
   "execution_count": null,
   "id": "8b70f72f-cb22-4a49-93bb-fb8bbedac672",
   "metadata": {},
   "outputs": [],
   "source": []
  }
 ],
 "metadata": {
  "kernelspec": {
   "display_name": "fcc-dev",
   "language": "python",
   "name": "fcc-dev"
  },
  "language_info": {
   "codemirror_mode": {
    "name": "ipython",
    "version": 3
   },
   "file_extension": ".py",
   "mimetype": "text/x-python",
   "name": "python",
   "nbconvert_exporter": "python",
   "pygments_lexer": "ipython3",
   "version": "3.12.6"
  }
 },
 "nbformat": 4,
 "nbformat_minor": 5
}
