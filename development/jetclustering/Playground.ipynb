{
 "cells": [
  {
   "cell_type": "code",
   "execution_count": 1,
   "id": "2f9fe376-0d68-4284-bd6c-13fa5d990e50",
   "metadata": {},
   "outputs": [
    {
     "name": "stderr",
     "output_type": "stream",
     "text": [
      "/home/prayag/coffeafcc/development/coffea/src/coffea/nanoevents/schemas/fcc.py:5: FutureWarning: In version 2025.1.0 (target date: 2024-12-31 11:59:59-06:00), this will be an error.\n",
      "To raise these warnings as errors (and get stack traces to find out where they're called), run\n",
      "    import warnings\n",
      "    warnings.filterwarnings(\"error\", module=\"coffea.*\")\n",
      "after the first `import coffea` or use `@pytest.mark.filterwarnings(\"error:::coffea.*\")` in pytest.\n",
      "Issue: coffea.nanoevents.methods.vector will be removed and replaced with scikit-hep vector. Nanoevents schemas internal to coffea will be migrated. Otherwise please consider using that package!.\n",
      "  from coffea.nanoevents.methods import vector\n"
     ]
    }
   ],
   "source": [
    "from coffea.nanoevents import NanoEventsFactory, BaseSchema, FCC\n",
    "import numpy as np\n",
    "import sys\n",
    "from coffea.analysis_tools import PackedSelection, Cutflow\n",
    "import awkward as ak\n",
    "import pandas as pd\n",
    "import dask_awkward as dak\n",
    "import hist.dask as hda\n",
    "from collections import namedtuple\n",
    "import hist\n",
    "import fastjet\n",
    "import vector\n",
    "vector.register_awkward()\n",
    "import sys\n",
    "import os\n",
    "# local_dir = os.environ['LOCAL_DIR']\n",
    "local_dir = '/home/prayag/coffeafcc/coffea-fcc-analyses/'\n",
    "sys.path.append(local_dir)\n",
    "import scripts\n",
    "from scripts.analyzers import ReconstructedParticle as ReconstructedParticleUtil\n",
    "from scripts.analyzers import Jet as JetUtil\n",
    "\n",
    "plots = {\n",
    "    'dijet_m':{'name':'dijet_higgs_m','title':'Dijet Higgs Mass','xlabel':'Dijet mass [GeV]','ylabel':'Events','bins':80,'xmin':70,'xmax':150},\n",
    "    #'pdgid':{'name':'jets_truth','title':'Jets Truth','xlabel':'Jet truth label PDGID','ylabel':'Events','bins':16,'xmin':-8,'xmax':8},\n",
    "    'recoil':{'name':'zmumu_recoil_m','title':'Recoil from Z (mass)','xlabel':'Recoil [GeV]','ylabel':'Events','bins':200,'xmin':120,'xmax':140},\n",
    "    'p_ll':{'name':'zmumu_p','title':'$Z\\\\rightarrow \\\\mu^{\\\\plus} \\\\mu^{\\\\minus}$ Momentum','xlabel':'$p\\\\left( \\\\mu^{\\\\plus} \\\\mu^{\\\\minus}\\\\right) \\\\ [GeV]$','ylabel':'Events','bins':50,'xmin':20,'xmax':70},\n",
    "    'm_ll':{'name':'zmumu_m','title':'$Z\\\\rightarrow \\\\mu^{\\\\plus} \\\\mu^{\\\\minus}$ Mass','xlabel':'$m\\\\left( \\\\mu^{\\\\plus} \\\\mu^{\\\\minus}\\\\right) \\\\ [GeV]$','ylabel':'Events','bins':40,'xmin':70,'xmax':110},\n",
    "}\n",
    "plot_props = pd.DataFrame(plots)"
   ]
  },
  {
   "cell_type": "code",
   "execution_count": 2,
   "id": "75fd7ff0-34e5-4a43-995c-ba8ef10cbbab",
   "metadata": {},
   "outputs": [
    {
     "name": "stderr",
     "output_type": "stream",
     "text": [
      "/home/prayag/coffeafcc/development/coffea/src/coffea/util.py:226: UserWarning: Skipping _intMap as it is not interpretable by Uproot\n",
      "  warnings.warn(\n",
      "/home/prayag/coffeafcc/development/coffea/src/coffea/util.py:234: UserWarning: Skipping _intMap.first as it is not interpretable by Uproot\n",
      "  warnings.warn(\n",
      "/home/prayag/coffeafcc/development/coffea/src/coffea/util.py:234: UserWarning: Skipping _intMap.second as it is not interpretable by Uproot\n",
      "  warnings.warn(\n",
      "/home/prayag/coffeafcc/development/coffea/src/coffea/util.py:226: UserWarning: Skipping _floatMap as it is not interpretable by Uproot\n",
      "  warnings.warn(\n",
      "/home/prayag/coffeafcc/development/coffea/src/coffea/util.py:234: UserWarning: Skipping _floatMap.first as it is not interpretable by Uproot\n",
      "  warnings.warn(\n",
      "/home/prayag/coffeafcc/development/coffea/src/coffea/util.py:234: UserWarning: Skipping _floatMap.second as it is not interpretable by Uproot\n",
      "  warnings.warn(\n",
      "/home/prayag/coffeafcc/development/coffea/src/coffea/util.py:226: UserWarning: Skipping _stringMap as it is not interpretable by Uproot\n",
      "  warnings.warn(\n",
      "/home/prayag/coffeafcc/development/coffea/src/coffea/util.py:234: UserWarning: Skipping _stringMap.first as it is not interpretable by Uproot\n",
      "  warnings.warn(\n",
      "/home/prayag/coffeafcc/development/coffea/src/coffea/util.py:234: UserWarning: Skipping _stringMap.second as it is not interpretable by Uproot\n",
      "  warnings.warn(\n"
     ]
    }
   ],
   "source": [
    "fcc = FCC.get_schema()\n",
    "events = NanoEventsFactory.from_root(\n",
    "    '../../data/wzp6_ee_mumuH_Hbb_ecm240/events_159112833.root:events',\n",
    "    schemaclass=fcc,\n",
    "    # entry_stop=10000,\n",
    "    metadata={'dataset':'ZH'},\n",
    "    delayed=True,\n",
    "    uproot_options={\"filter_name\": lambda x : \"PARAMETERS\" not in x}\n",
    ").events()"
   ]
  },
  {
   "cell_type": "code",
   "execution_count": 3,
   "id": "02b7b592-7b42-4060-ad96-25bc9ab8200e",
   "metadata": {},
   "outputs": [],
   "source": [
    "def get_1Dhist(name, var, flatten=False):\n",
    "    '''\n",
    "    name: eg. Zm\n",
    "    var: eg. variable containing array of mass of Z\n",
    "    flatten: If to flatten var before fill; True by default\n",
    "    Returns a histogram\n",
    "    '''\n",
    "    props = plot_props[name]\n",
    "    if flatten : var = dak.ravel(var) # Removes None values and all the nesting\n",
    "    var = var[~dak.is_none(var, axis=0)] # Remove None values only\n",
    "    return hda.Hist.new.Reg(props.bins, props.xmin, props.xmax).Double().fill(var)"
   ]
  },
  {
   "cell_type": "code",
   "execution_count": 4,
   "id": "c745e1be-781a-4de0-8f71-2dbfb6649f01",
   "metadata": {},
   "outputs": [
    {
     "name": "stderr",
     "output_type": "stream",
     "text": [
      "UserWarning: dcut and exclusive jets for jet-finders other than kt, C/A or genkt with p>=0 should be interpreted with care.\n"
     ]
    }
   ],
   "source": [
    "# Object Selections\n",
    "Muons = events.ReconstructedParticles.match_collection(events.Muonidx0)\n",
    "sel_muon_p_gt_25 = Muons.p > 25.0\n",
    "Muons = Muons[sel_muon_p_gt_25]\n",
    "Z = ReconstructedParticleUtil.resonanceBuilder(Muons, 91.0)\n",
    "Recoil = ReconstructedParticleUtil.recoilBuilder(Z, 240.0)\n",
    "\n",
    "#Event Selections\n",
    "cuts = PackedSelection()\n",
    "cuts.add(\"n_gte_2_Muons\", ak.num(Muons, axis=1) >= 2 )\n",
    "cuts.add(\"m_gt_70_Z\", Z.m > 70.0 )\n",
    "cuts.add(\"m_lt_100_Z\", Z.m < 100.0 )\n",
    "cuts.add(\"p_gt_20_Z\", Z.p > 20.0 )\n",
    "cuts.add(\"p_lt_70_Z\", Z.p < 70.0 )\n",
    "cuts.add(\"m_gt_120_Recoil\", Recoil.m > 120.0 )\n",
    "cuts.add(\"m_lt_140_Recoil\", Recoil.m < 140.0 )\n",
    "\n",
    "# Apply the event selections\n",
    "Good_Z = Z[cuts.all()]\n",
    "Good_Recoil = Recoil[cuts.all()]\n",
    "\n",
    "# The remove function removes those matched indices provided as argument 2\n",
    "# To remove muons with p greater than 25, we have to use that cut on indices\n",
    "# before passing on to the remove function\n",
    "high_p_muon_indices = events.Muonidx0[sel_muon_p_gt_25]\n",
    "rps_no_mu = ReconstructedParticleUtil.remove(events.ReconstructedParticles, high_p_muon_indices)\n",
    "rps_no_mu = rps_no_mu[cuts.all()] #Apply all the event selections\n",
    "pseudo_jets = ak.zip(\n",
    "    {\n",
    "    'px':rps_no_mu.px,\n",
    "    'py':rps_no_mu.py,\n",
    "    'pz':rps_no_mu.pz,\n",
    "    'E':rps_no_mu.E\n",
    "    },\n",
    "    with_name=\"Momentum4D\"\n",
    ")\n",
    "arg_sort_pt = ak.argsort(pseudo_jets.pt)\n",
    "jetdef = fastjet.JetDefinition0Param(fastjet.ee_kt_algorithm)\n",
    "# Requirements:\n",
    "# [Done] arg_exclusive = 2\n",
    "# [Not Sure] arg_cut = 2 i.e., N jets for m_exclusive\n",
    "# [Not Sure] arg_sorted = 0 i.e., p_T ordering\n",
    "# [Done] arg_recombination = 10 i.e., E0_scheme : Special for FCCAnalyses\n",
    "jetdef.set_python_recombiner(JetUtil.E0_scheme)\n",
    "#jetdef.description()\n",
    "cluster = fastjet.ClusterSequence(pseudo_jets[arg_sort_pt], jetdef)\n",
    "jet_constituents = cluster.constituents()\n",
    "jets = cluster.exclusive_jets(2)\n",
    "dijets = ak.sum(jets, axis=1)\n",
    "\n",
    "#Prepare output\n",
    "#Choose the required histograms and their assigned variables to fill\n",
    "names = plot_props.columns.to_list()\n",
    "vars_sel = [dijets.m, Good_Recoil.m, Good_Z.p, Good_Z.m, dijets.m]\n",
    "sel_ocl = cuts.cutflow(*cuts.names).yieldhist()\n",
    "\n",
    "Output = {\n",
    "    'histograms': {\n",
    "        'sel':{name:get_1Dhist(name,var,flatten=False) for name,var in zip(names,vars_sel)},\n",
    "    },\n",
    "    'cutflow': {\n",
    "        'sel': {'Onecut':sel_ocl[0],'Cutflow':sel_ocl[1],'Labels':sel_ocl[2]},\n",
    "    }\n",
    "}"
   ]
  },
  {
   "cell_type": "code",
   "execution_count": 5,
   "id": "1aa2d53b-3539-447f-ad84-c5a5833479f7",
   "metadata": {},
   "outputs": [
    {
     "data": {
      "text/plain": [
       "{'dijet_m': Hist(Regular(80, 70, 150, label='Axis 0'), storage=Double()) # (has staged fills),\n",
       " 'recoil': Hist(Regular(200, 120, 140, label='Axis 0'), storage=Double()) # (has staged fills),\n",
       " 'p_ll': Hist(Regular(50, 20, 70, label='Axis 0'), storage=Double()) # (has staged fills),\n",
       " 'm_ll': Hist(Regular(40, 70, 110, label='Axis 0'), storage=Double()) # (has staged fills)}"
      ]
     },
     "execution_count": 5,
     "metadata": {},
     "output_type": "execute_result"
    }
   ],
   "source": [
    "Output[\"histograms\"][\"sel\"]"
   ]
  },
  {
   "cell_type": "code",
   "execution_count": 6,
   "id": "97f7ee31-966e-4306-9ebd-c52631c26e5f",
   "metadata": {},
   "outputs": [
    {
     "name": "stdout",
     "output_type": "stream",
     "text": [
      "#--------------------------------------------------------------------------\n",
      "#                         FastJet release 3.4.2\n",
      "#                 M. Cacciari, G.P. Salam and G. Soyez                  \n",
      "#     A software package for jet finding and analysis at colliders      \n",
      "#                           http://fastjet.fr                           \n",
      "#\t                                                                      \n",
      "# Please cite EPJC72(2012)1896 [arXiv:1111.6097] if you use this package\n",
      "# for scientific work and optionally PLB641(2006)57 [hep-ph/0512210].   \n",
      "#                                                                       \n",
      "# FastJet is provided without warranty under the GNU GPL v2 or higher.  \n",
      "# It uses T. Chan's closest pair algorithm, S. Fortune's Voronoi code,\n",
      "# CGAL and 3rd party plugin jet algorithms. See COPYING file for details.\n",
      "#--------------------------------------------------------------------------\n"
     ]
    }
   ],
   "source": [
    "a = Output[\"histograms\"][\"sel\"][\"dijet_m\"].compute()\n",
    "b = Output[\"histograms\"][\"sel\"][\"recoil\"].compute()\n",
    "c = Output[\"histograms\"][\"sel\"][\"p_ll\"].compute()\n",
    "d = Output[\"histograms\"][\"sel\"][\"m_ll\"].compute()"
   ]
  },
  {
   "cell_type": "code",
   "execution_count": 7,
   "id": "b78635c0-fc51-42c2-92ba-605d06274d88",
   "metadata": {},
   "outputs": [
    {
     "data": {
      "text/plain": [
       "[StairsArtists(stairs=<matplotlib.patches.StepPatch object at 0x7f3765b57e90>, errorbar=None, legend_artist=None)]"
      ]
     },
     "execution_count": 7,
     "metadata": {},
     "output_type": "execute_result"
    },
    {
     "data": {
      "image/png": "[encoded data removed]",
      "text/plain": [
       "<Figure size 640x480 with 1 Axes>"
      ]
     },
     "metadata": {},
     "output_type": "display_data"
    }
   ],
   "source": [
    "(a*0.3).plot()"
   ]
  },
  {
   "cell_type": "code",
   "execution_count": 8,
   "id": "10dbd823-e2df-4240-b44a-415d9bf6de04",
   "metadata": {},
   "outputs": [
    {
     "data": {
      "text/plain": [
       "[StairsArtists(stairs=<matplotlib.patches.StepPatch object at 0x7f0b0bc945c0>, errorbar=None, legend_artist=None)]"
      ]
     },
     "execution_count": 8,
     "metadata": {},
     "output_type": "execute_result"
    },
    {
     "data": {
      "image/png": "[encoded data removed]",
      "text/plain": [
       "<Figure size 640x480 with 1 Axes>"
      ]
     },
     "metadata": {},
     "output_type": "display_data"
    }
   ],
   "source": [
    "(b*0.3).plot()"
   ]
  },
  {
   "cell_type": "code",
   "execution_count": 9,
   "id": "fe2843ea-4927-483a-9b3e-659578babc12",
   "metadata": {},
   "outputs": [
    {
     "data": {
      "text/plain": [
       "[StairsArtists(stairs=<matplotlib.patches.StepPatch object at 0x7f0b0971f950>, errorbar=None, legend_artist=None)]"
      ]
     },
     "execution_count": 9,
     "metadata": {},
     "output_type": "execute_result"
    },
    {
     "data": {
      "image/png": "[encoded data removed]",
      "text/plain": [
       "<Figure size 640x480 with 1 Axes>"
      ]
     },
     "metadata": {},
     "output_type": "display_data"
    }
   ],
   "source": [
    "(c*0.3).plot()"
   ]
  },
  {
   "cell_type": "code",
   "execution_count": 10,
   "id": "be941955-03d0-4007-8fa2-ceaaa8d2e914",
   "metadata": {},
   "outputs": [
    {
     "data": {
      "text/plain": [
       "[StairsArtists(stairs=<matplotlib.patches.StepPatch object at 0x7f0b0aebc8c0>, errorbar=None, legend_artist=None)]"
      ]
     },
     "execution_count": 10,
     "metadata": {},
     "output_type": "execute_result"
    },
    {
     "data": {
      "image/png": "[encoded data removed]",
      "text/plain": [
       "<Figure size 640x480 with 1 Axes>"
      ]
     },
     "metadata": {},
     "output_type": "display_data"
    }
   ],
   "source": [
    "(d*0.3).plot()"
   ]
  }
 ],
 "metadata": {
  "kernelspec": {
   "display_name": "fcc-dev",
   "language": "python",
   "name": "fcc-dev"
  },
  "language_info": {
   "codemirror_mode": {
    "name": "ipython",
    "version": 3
   },
   "file_extension": ".py",
   "mimetype": "text/x-python",
   "name": "python",
   "nbconvert_exporter": "python",
   "pygments_lexer": "ipython3",
   "version": "3.12.6"
  }
 },
 "nbformat": 4,
 "nbformat_minor": 5
}
