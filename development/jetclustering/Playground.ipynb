{
 "cells": [
  {
   "cell_type": "code",
   "execution_count": 174,
   "id": "2f9fe376-0d68-4284-bd6c-13fa5d990e50",
   "metadata": {},
   "outputs": [],
   "source": [
    "from coffea.nanoevents import NanoEventsFactory, BaseSchema, FCC\n",
    "import awkward as ak\n",
    "import dask_awkward as dak\n",
    "import numpy as np\n",
    "import numba\n",
    "import sys\n",
    "ROOT_DIR=\"/home/prayag/coffeafcc/coffea-fcc-analyses/\"\n",
    "sys.path.append(ROOT_DIR+\"analyzers\")\n",
    "import ReconstructedParticle\n",
    "import fastjet\n",
    "import hist\n",
    "from coffea.analysis_tools import PackedSelection"
   ]
  },
  {
   "cell_type": "code",
   "execution_count": 2,
   "id": "75fd7ff0-34e5-4a43-995c-ba8ef10cbbab",
   "metadata": {},
   "outputs": [
    {
     "name": "stderr",
     "output_type": "stream",
     "text": [
      "/home/prayag/coffeafcc/development/coffea/src/coffea/util.py:226: UserWarning: Skipping _intMap as it is not interpretable by Uproot\n",
      "  warnings.warn(\n",
      "/home/prayag/coffeafcc/development/coffea/src/coffea/util.py:234: UserWarning: Skipping _intMap.first as it is not interpretable by Uproot\n",
      "  warnings.warn(\n",
      "/home/prayag/coffeafcc/development/coffea/src/coffea/util.py:234: UserWarning: Skipping _intMap.second as it is not interpretable by Uproot\n",
      "  warnings.warn(\n",
      "/home/prayag/coffeafcc/development/coffea/src/coffea/util.py:226: UserWarning: Skipping _floatMap as it is not interpretable by Uproot\n",
      "  warnings.warn(\n",
      "/home/prayag/coffeafcc/development/coffea/src/coffea/util.py:234: UserWarning: Skipping _floatMap.first as it is not interpretable by Uproot\n",
      "  warnings.warn(\n",
      "/home/prayag/coffeafcc/development/coffea/src/coffea/util.py:234: UserWarning: Skipping _floatMap.second as it is not interpretable by Uproot\n",
      "  warnings.warn(\n",
      "/home/prayag/coffeafcc/development/coffea/src/coffea/util.py:226: UserWarning: Skipping _stringMap as it is not interpretable by Uproot\n",
      "  warnings.warn(\n",
      "/home/prayag/coffeafcc/development/coffea/src/coffea/util.py:234: UserWarning: Skipping _stringMap.first as it is not interpretable by Uproot\n",
      "  warnings.warn(\n",
      "/home/prayag/coffeafcc/development/coffea/src/coffea/util.py:234: UserWarning: Skipping _stringMap.second as it is not interpretable by Uproot\n",
      "  warnings.warn(\n"
     ]
    }
   ],
   "source": [
    "fcc = FCC.get_schema()\n",
    "events = NanoEventsFactory.from_root(\n",
    "    '../../data/wzp6_ee_mumuH_Hbb_ecm240/events_159112833.root:events',\n",
    "    schemaclass=fcc,\n",
    "    # entry_stop=10000,\n",
    "    metadata={'dataset':'ZH'},\n",
    "    delayed=True,\n",
    "    uproot_options={\"filter_name\": lambda x : \"PARAMETERS\" not in x}\n",
    ").events()"
   ]
  },
  {
   "cell_type": "code",
   "execution_count": 3,
   "id": "cd2ec0dc-4ec3-4602-85c8-0398b2ce0c0a",
   "metadata": {
    "jupyter": {
     "source_hidden": true
    }
   },
   "outputs": [],
   "source": [
    "# #################################\n",
    "# #Begin the processor definition #\n",
    "# #################################\n",
    "# class jetclustering(processor.ProcessorABC):\n",
    "#     '''\n",
    "#     Create jets with ee_kt algorithm and form dijets (Higgs --> bb)\n",
    "#     Create Z candidates from two leptons (Z --> ll)\n",
    "#     '''\n",
    "#     def __init__(self, *args, **kwargs):\n",
    "#         pass\n",
    "\n",
    "#     def process(self,events):\n",
    "\n",
    "#         #Create a Packed Selection object to get a cutflow later\n",
    "#         cut = PackedSelection()\n",
    "#         cut.add('No cut', dak.ones_like(dak.num(get(events,'ReconstructedParticles','energy'),axis=1),dtype=bool))\n",
    "\n",
    "#         # Selection 0 : No Cut (example)bb\n",
    "#         sel0_ocl = cut.cutflow(*cut.names).yieldhist()\n",
    "#         sel0_events = events\n",
    "\n",
    "#         # Filter out any event with no reconstructed particles and generate Reconstructed Particle Attributes\n",
    "#         #ak.mask preserves array length\n",
    "#         at_least_one_recon = dak.num(get(events,'ReconstructedParticles','energy'), axis=1) > 0\n",
    "#         good_events = dak.mask(events,at_least_one_recon)\n",
    "#         cut.add('At least one Reco Particle', at_least_one_recon)\n",
    "\n",
    "#         # Selection 1 : No Cut and At least one Reco Particle\n",
    "#         sel1_ocl = cut.cutflow(*cut.names).yieldhist()\n",
    "#         sel1_events = good_events\n",
    "\n",
    "#         #Prepare output\n",
    "#         #Choose the required histograms and their assigned variables to fill\n",
    "#         names = plot_props.columns.to_list()\n",
    "#         vars_sel0 = [get(sel0_events,'ReconstructedParticles','energy')]\n",
    "#         vars_sel1 = [get(sel1_events,'ReconstructedParticles','energy')]\n",
    "\n",
    "#         Output = {\n",
    "#             'histograms': {\n",
    "#                 'sel0':{name:get_1Dhist(name,var,flatten=True) for name,var in zip(names,vars_sel0)},\n",
    "#                 'sel1':{name:get_1Dhist(name,var,flatten=True) for name,var in zip(names,vars_sel1)}\n",
    "#             },\n",
    "#             'cutflow': {\n",
    "#                 'sel0': {'Onecut':sel0_ocl[0],'Cutflow':sel0_ocl[1],'Labels':sel0_ocl[2]},\n",
    "#                 'sel1': {'Onecut':sel1_ocl[0],'Cutflow':sel1_ocl[1],'Labels':sel1_ocl[2]}\n",
    "#             }\n",
    "#         }\n",
    "#         return Output\n",
    "\n",
    "#     def postprocess(self, accumulator):\n",
    "#         pass\n"
   ]
  },
  {
   "cell_type": "code",
   "execution_count": 4,
   "id": "db496e0e-f3ad-44e9-9cc5-6a6e34110a2b",
   "metadata": {},
   "outputs": [],
   "source": [
    "Muons = events.ReconstructedParticles.match_collection(events.Muonidx0)\n",
    "Z = ReconstructedParticle.resonanceBuilder(Muons, 91.0)\n",
    "Recoil = ReconstructedParticle.recoilBuilder(Z, 240.0)\n",
    "z_cuts = PackedSelection()\n",
    "jet_cuts = PackedSelection()"
   ]
  },
  {
   "cell_type": "code",
   "execution_count": 5,
   "id": "cfd81757-3e0a-48a4-b8d7-eb8e8ad099b6",
   "metadata": {},
   "outputs": [],
   "source": [
    "#Define Selections\n",
    "sel_p_gt_25_Muons = Muons.p > 25.0\n",
    "\n",
    "sel_n_e_0_Muons = ak.num(Muons, axis=1) == 0\n",
    "sel_n_gte_2_Muons = ak.num(Muons, axis=1) >= 2\n",
    "\n",
    "sel_m_gt_70_Z = Z.m > 70.0\n",
    "sel_m_lt_100_Z = Z.m < 100.0\n",
    "\n",
    "sel_p_gt_20_Z = Z.p > 20.0\n",
    "sel_p_lt_70_Z = Z.p < 70.0\n",
    "\n",
    "sel_m_gt_120_Recoil = Recoil.m > 120.0\n",
    "sel_m_lt_140_Recoil = Recoil.m < 140.0\n",
    "\n",
    "# Add the selections to the cuts Packed Selection\n",
    "z_cuts.add(\"p_gt_25_Muons\", ak.all(sel_p_gt_25_Muons, axis=1))\n",
    "z_cuts.add(\"n_gte_2_Muons\", sel_n_gte_2_Muons)\n",
    "z_cuts.add(\"m_gt_70_Z\", sel_m_gt_70_Z)\n",
    "z_cuts.add(\"m_lt_100_Z\", sel_m_lt_100_Z)\n",
    "z_cuts.add(\"p_gt_20_Z\", sel_p_gt_20_Z)\n",
    "z_cuts.add(\"p_lt_70_Z\", sel_p_lt_70_Z)\n",
    "z_cuts.add(\"m_gt_120_Recoil\", sel_m_gt_120_Recoil)\n",
    "z_cuts.add(\"m_lt_140_Recoil\", sel_m_lt_140_Recoil)"
   ]
  },
  {
   "cell_type": "code",
   "execution_count": 6,
   "id": "32538756-6608-47fd-8b56-0a8e9b6383b8",
   "metadata": {},
   "outputs": [],
   "source": [
    "# Calculate the final variables\n",
    "Good_Z = Z[z_cuts.all()]\n",
    "Good_Recoil = Recoil[z_cuts.all()]"
   ]
  },
  {
   "cell_type": "code",
   "execution_count": 196,
   "id": "657ec5a8-35a1-4843-9f45-17998ced2bf3",
   "metadata": {},
   "outputs": [],
   "source": [
    "def remove(array, idx):\n",
    "    index = idx.index\n",
    "    all_index = ak.local_index(array,axis=1)\n",
    "\n",
    "    i,a = ak.unzip(ak.cartesian([index[:,np.newaxis] ,all_index], nested=True))\n",
    "    c = a == i\n",
    "    d = ak.firsts(c)\n",
    "    s = dak.sum(d, axis=2)\n",
    "    kl = s == 1\n",
    "    \n",
    "    return array[~kl]"
   ]
  },
  {
   "cell_type": "code",
   "execution_count": 198,
   "id": "5956c21b-d85b-481a-8eea-f255c50e0f12",
   "metadata": {},
   "outputs": [],
   "source": [
    "array = events.ReconstructedParticles\n",
    "idx = events.Muonidx0\n",
    "f = remove(array, idx)"
   ]
  },
  {
   "cell_type": "code",
   "execution_count": 7,
   "id": "64b87d0d-ee9e-4a3d-bb62-c395d3aace25",
   "metadata": {},
   "outputs": [
    {
     "name": "stderr",
     "output_type": "stream",
     "text": [
      "UserWarning: dcut and exclusive jets for jet-finders other than kt, C/A or genkt with p>=0 should be interpreted with care.\n"
     ]
    }
   ],
   "source": [
    "rps_no_mu = remove(events.)\n",
    "pseudo_jets = ak.zip(\n",
    "    {\n",
    "    'px':rps_no_mu.px,\n",
    "    'py':rps_no_mu.py,\n",
    "    'pz':rps_no_mu.pz,\n",
    "    'E':rps_no_mu.E\n",
    "    },\n",
    "    with_name=\"Momentum4D\",\n",
    "    behavior=fcc.behavior()\n",
    ")\n",
    "jetdef = fastjet.JetDefinition0Param(fastjet.ee_kt_algorithm)\n",
    "# Requirements: \n",
    "# [Done] arg_exclusive = 2\n",
    "# [    ] arg_cut = 2 i.e., N jets for m_exclusive\n",
    "# [    ] arg_sorted = 0 i.e., p_T ordering\n",
    "# [    ] arg_recombination = 10 i.e., E0_scheme : Special for FCCAnalyses\n",
    "jetdef.set_recombination_scheme(0) # E scheme\n",
    "#jetdef.description()\n",
    "cluster = fastjet.ClusterSequence(pseudo_jets, jetdef)\n",
    "jet_constituents = cluster.constituents()\n",
    "jets = cluster.exclusive_jets(2)\n",
    "dijets = ak.sum(jets, axis=1)"
   ]
  },
  {
   "cell_type": "code",
   "execution_count": 8,
   "id": "436dcf2c-7046-430c-8143-6e7d42c33596",
   "metadata": {},
   "outputs": [
    {
     "data": {
      "text/plain": [
       "[StairsArtists(stairs=<matplotlib.patches.StepPatch object at 0x7f674f903a10>, errorbar=<ErrorbarContainer object of 3 artists>, legend_artist=<ErrorbarContainer object of 3 artists>)]"
      ]
     },
     "execution_count": 8,
     "metadata": {},
     "output_type": "execute_result"
    },
    {
     "data": {
      "image/png": "[encoded data removed]",
      "text/plain": [
       "<Figure size 640x480 with 1 Axes>"
      ]
     },
     "metadata": {},
     "output_type": "display_data"
    }
   ],
   "source": [
    "hist.Hist.new.Reg(100,0,200).Double().fill(Good_Recoil.m.compute()).plot()"
   ]
  },
  {
   "cell_type": "code",
   "execution_count": 9,
   "id": "8652a829-62bb-4b11-a678-1c33ebc77625",
   "metadata": {},
   "outputs": [
    {
     "data": {
      "text/plain": [
       "[StairsArtists(stairs=<matplotlib.patches.StepPatch object at 0x7f673910bce0>, errorbar=<ErrorbarContainer object of 3 artists>, legend_artist=<ErrorbarContainer object of 3 artists>)]"
      ]
     },
     "execution_count": 9,
     "metadata": {},
     "output_type": "execute_result"
    },
    {
     "data": {
      "image/png": "[encoded data removed]",
      "text/plain": [
       "<Figure size 640x480 with 1 Axes>"
      ]
     },
     "metadata": {},
     "output_type": "display_data"
    }
   ],
   "source": [
    "hist.Hist.new.Reg(50,50,100).Double().fill(Good_Z.m.compute()).plot()"
   ]
  },
  {
   "cell_type": "code",
   "execution_count": 10,
   "id": "468d31ba-e00a-440c-ac2c-de2c8c7f2d80",
   "metadata": {},
   "outputs": [
    {
     "data": {
      "text/plain": [
       "[StairsArtists(stairs=<matplotlib.patches.StepPatch object at 0x7f6739143e00>, errorbar=<ErrorbarContainer object of 3 artists>, legend_artist=<ErrorbarContainer object of 3 artists>)]"
      ]
     },
     "execution_count": 10,
     "metadata": {},
     "output_type": "execute_result"
    },
    {
     "data": {
      "image/png": "[encoded data removed]",
      "text/plain": [
       "<Figure size 640x480 with 1 Axes>"
      ]
     },
     "metadata": {},
     "output_type": "display_data"
    }
   ],
   "source": [
    "hist.Hist.new.Reg(50,0,100).Double().fill(Good_Z.p.compute()).plot()"
   ]
  },
  {
   "cell_type": "code",
   "execution_count": 11,
   "id": "ac8a1520-83ea-4fda-a805-c30ed8bed81e",
   "metadata": {},
   "outputs": [
    {
     "name": "stderr",
     "output_type": "stream",
     "text": [
      "UserWarning: dcut and exclusive jets for jet-finders other than kt, C/A or genkt with p>=0 should be interpreted with care.\n"
     ]
    },
    {
     "name": "stdout",
     "output_type": "stream",
     "text": [
      "#--------------------------------------------------------------------------\n",
      "#                         FastJet release 3.4.2\n",
      "#                 M. Cacciari, G.P. Salam and G. Soyez                  \n",
      "#     A software package for jet finding and analysis at colliders      \n",
      "#                           http://fastjet.fr                           \n",
      "#\t                                                                      \n",
      "# Please cite EPJC72(2012)1896 [arXiv:1111.6097] if you use this package\n",
      "# for scientific work and optionally PLB641(2006)57 [hep-ph/0512210].   \n",
      "#                                                                       \n",
      "# FastJet is provided without warranty under the GNU GPL v2 or higher.  \n",
      "# It uses T. Chan's closest pair algorithm, S. Fortune's Voronoi code,\n",
      "# CGAL and 3rd party plugin jet algorithms. See COPYING file for details.\n",
      "#--------------------------------------------------------------------------\n"
     ]
    },
    {
     "data": {
      "text/plain": [
       "[StairsArtists(stairs=<matplotlib.patches.StepPatch object at 0x7f67395e22d0>, errorbar=<ErrorbarContainer object of 3 artists>, legend_artist=<ErrorbarContainer object of 3 artists>)]"
      ]
     },
     "execution_count": 11,
     "metadata": {},
     "output_type": "execute_result"
    },
    {
     "data": {
      "image/png": "[encoded data removed]",
      "text/plain": [
       "<Figure size 640x480 with 1 Axes>"
      ]
     },
     "metadata": {},
     "output_type": "display_data"
    }
   ],
   "source": [
    "hist.Hist.new.Reg(50,00,150).Double().fill(dijets.m.compute()).plot()"
   ]
  },
  {
   "cell_type": "code",
   "execution_count": null,
   "id": "e6edbeae-c82a-4999-abb9-61fc90deef6c",
   "metadata": {},
   "outputs": [],
   "source": []
  }
 ],
 "metadata": {
  "kernelspec": {
   "display_name": "fcc-dev",
   "language": "python",
   "name": "fcc-dev"
  },
  "language_info": {
   "codemirror_mode": {
    "name": "ipython",
    "version": 3
   },
   "file_extension": ".py",
   "mimetype": "text/x-python",
   "name": "python",
   "nbconvert_exporter": "python",
   "pygments_lexer": "ipython3",
   "version": "3.12.5"
  }
 },
 "nbformat": 4,
 "nbformat_minor": 5
}
