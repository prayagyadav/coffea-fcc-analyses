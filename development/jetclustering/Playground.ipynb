{
 "cells": [
  {
   "cell_type": "code",
   "execution_count": 101,
   "id": "2f9fe376-0d68-4284-bd6c-13fa5d990e50",
   "metadata": {},
   "outputs": [],
   "source": [
    "from coffea.nanoevents import NanoEventsFactory, BaseSchema, FCC\n",
    "import awkward as ak\n",
    "import sys\n",
    "ROOT_DIR=\"/home/prayag/coffeafcc/coffea-fcc-analyses/\"\n",
    "sys.path.append(ROOT_DIR+\"analyzers\")\n",
    "import ReconstructedParticle\n",
    "import fastjet\n",
    "import hist\n",
    "from coffea.analysis_tools import PackedSelection"
   ]
  },
  {
   "cell_type": "code",
   "execution_count": 102,
   "id": "75fd7ff0-34e5-4a43-995c-ba8ef10cbbab",
   "metadata": {},
   "outputs": [
    {
     "name": "stderr",
     "output_type": "stream",
     "text": [
      "UserWarning: Skipping _intMap as it is not interpretable by Uproot\n",
      "UserWarning: Skipping _intMap.first as it is not interpretable by Uproot\n",
      "UserWarning: Skipping _intMap.second as it is not interpretable by Uproot\n",
      "UserWarning: Skipping _floatMap as it is not interpretable by Uproot\n",
      "UserWarning: Skipping _floatMap.first as it is not interpretable by Uproot\n",
      "UserWarning: Skipping _floatMap.second as it is not interpretable by Uproot\n",
      "UserWarning: Skipping _stringMap as it is not interpretable by Uproot\n",
      "UserWarning: Skipping _stringMap.first as it is not interpretable by Uproot\n",
      "UserWarning: Skipping _stringMap.second as it is not interpretable by Uproot\n"
     ]
    }
   ],
   "source": [
    "fcc = FCC.get_schema()\n",
    "events = NanoEventsFactory.from_root(\n",
    "    '../../data/wzp6_ee_mumuH_Hbb_ecm240/events_159112833.root:events',\n",
    "    schemaclass=fcc,\n",
    "    # entry_stop=10000,\n",
    "    metadata={'dataset':'ZH'},\n",
    "    delayed=True,\n",
    "    uproot_options={\"filter_name\": lambda x : \"PARAMETERS\" not in x}\n",
    ").events()"
   ]
  },
  {
   "cell_type": "code",
   "execution_count": 103,
   "id": "25f5fcf1-7560-4e0d-afe0-d91cfc4a541b",
   "metadata": {},
   "outputs": [
    {
     "data": {
      "text/plain": [
       "['CalorimeterHits',\n",
       " 'EFlowNeutralHadron',\n",
       " 'EFlowNeutralHadron_0',\n",
       " 'EFlowNeutralHadron_1',\n",
       " 'EFlowNeutralHadronidx0',\n",
       " 'EFlowNeutralHadronidx1',\n",
       " 'EFlowNeutralHadronidx2',\n",
       " 'EFlowPhoton',\n",
       " 'EFlowPhoton_0',\n",
       " 'EFlowPhoton_1',\n",
       " 'EFlowPhotonidx0',\n",
       " 'EFlowPhotonidx1',\n",
       " 'EFlowPhotonidx2',\n",
       " 'EFlowTrack',\n",
       " 'EFlowTrack_0',\n",
       " 'EFlowTrack_1',\n",
       " 'EFlowTrack_2',\n",
       " 'EFlowTrackidx0',\n",
       " 'EFlowTrackidx1',\n",
       " 'Electronidx0',\n",
       " 'Jet',\n",
       " 'Jetidx0',\n",
       " 'Jetidx1',\n",
       " 'Jetidx2',\n",
       " 'Jetidx3',\n",
       " 'Jetidx4',\n",
       " 'Jetidx5',\n",
       " 'MCRecoAssociations',\n",
       " 'MissingET',\n",
       " 'MissingETidx0',\n",
       " 'MissingETidx1',\n",
       " 'MissingETidx2',\n",
       " 'MissingETidx3',\n",
       " 'MissingETidx4',\n",
       " 'MissingETidx5',\n",
       " 'Muonidx0',\n",
       " 'Particle',\n",
       " 'ParticleIDs',\n",
       " 'ParticleIDs_0',\n",
       " 'Particleidx0',\n",
       " 'Particleidx1',\n",
       " 'Photonidx0',\n",
       " 'ReconstructedParticles',\n",
       " 'ReconstructedParticlesidx0',\n",
       " 'ReconstructedParticlesidx1',\n",
       " 'ReconstructedParticlesidx2',\n",
       " 'ReconstructedParticlesidx3',\n",
       " 'ReconstructedParticlesidx4',\n",
       " 'ReconstructedParticlesidx5',\n",
       " 'TrackerHits',\n",
       " 'TrackerHits_0']"
      ]
     },
     "execution_count": 103,
     "metadata": {},
     "output_type": "execute_result"
    }
   ],
   "source": [
    "events.fields"
   ]
  },
  {
   "cell_type": "code",
   "execution_count": 104,
   "id": "cd2ec0dc-4ec3-4602-85c8-0398b2ce0c0a",
   "metadata": {
    "jupyter": {
     "source_hidden": true
    }
   },
   "outputs": [],
   "source": [
    "# #################################\n",
    "# #Begin the processor definition #\n",
    "# #################################\n",
    "# class jetclustering(processor.ProcessorABC):\n",
    "#     '''\n",
    "#     Create jets with ee_kt algorithm and form dijets (Higgs --> bb)\n",
    "#     Create Z candidates from two leptons (Z --> ll)\n",
    "#     '''\n",
    "#     def __init__(self, *args, **kwargs):\n",
    "#         pass\n",
    "\n",
    "#     def process(self,events):\n",
    "\n",
    "#         #Create a Packed Selection object to get a cutflow later\n",
    "#         cut = PackedSelection()\n",
    "#         cut.add('No cut', dak.ones_like(dak.num(get(events,'ReconstructedParticles','energy'),axis=1),dtype=bool))\n",
    "\n",
    "#         # Selection 0 : No Cut (example)bb\n",
    "#         sel0_ocl = cut.cutflow(*cut.names).yieldhist()\n",
    "#         sel0_events = events\n",
    "\n",
    "#         # Filter out any event with no reconstructed particles and generate Reconstructed Particle Attributes\n",
    "#         #ak.mask preserves array length\n",
    "#         at_least_one_recon = dak.num(get(events,'ReconstructedParticles','energy'), axis=1) > 0\n",
    "#         good_events = dak.mask(events,at_least_one_recon)\n",
    "#         cut.add('At least one Reco Particle', at_least_one_recon)\n",
    "\n",
    "#         # Selection 1 : No Cut and At least one Reco Particle\n",
    "#         sel1_ocl = cut.cutflow(*cut.names).yieldhist()\n",
    "#         sel1_events = good_events\n",
    "\n",
    "#         #Prepare output\n",
    "#         #Choose the required histograms and their assigned variables to fill\n",
    "#         names = plot_props.columns.to_list()\n",
    "#         vars_sel0 = [get(sel0_events,'ReconstructedParticles','energy')]\n",
    "#         vars_sel1 = [get(sel1_events,'ReconstructedParticles','energy')]\n",
    "\n",
    "#         Output = {\n",
    "#             'histograms': {\n",
    "#                 'sel0':{name:get_1Dhist(name,var,flatten=True) for name,var in zip(names,vars_sel0)},\n",
    "#                 'sel1':{name:get_1Dhist(name,var,flatten=True) for name,var in zip(names,vars_sel1)}\n",
    "#             },\n",
    "#             'cutflow': {\n",
    "#                 'sel0': {'Onecut':sel0_ocl[0],'Cutflow':sel0_ocl[1],'Labels':sel0_ocl[2]},\n",
    "#                 'sel1': {'Onecut':sel1_ocl[0],'Cutflow':sel1_ocl[1],'Labels':sel1_ocl[2]}\n",
    "#             }\n",
    "#         }\n",
    "#         return Output\n",
    "\n",
    "#     def postprocess(self, accumulator):\n",
    "#         pass\n"
   ]
  },
  {
   "cell_type": "code",
   "execution_count": 105,
   "id": "db496e0e-f3ad-44e9-9cc5-6a6e34110a2b",
   "metadata": {},
   "outputs": [],
   "source": [
    "Muons = events.ReconstructedParticles.match_collection(events.Muonidx0)\n",
    "Z = ReconstructedParticle.resonanceBuilder(Muons, 91.0)\n",
    "Recoil = ReconstructedParticle.recoilBuilder(Z, 240.0)\n",
    "z_cuts = PackedSelection()\n",
    "jet_cuts = PackedSelection()"
   ]
  },
  {
   "cell_type": "code",
   "execution_count": 106,
   "id": "cfd81757-3e0a-48a4-b8d7-eb8e8ad099b6",
   "metadata": {},
   "outputs": [],
   "source": [
    "#Define Selections\n",
    "sel_p_gt_25_Muons = Muons.p > 25.0\n",
    "\n",
    "sel_n_e_0_Muons = ak.num(Muons, axis=1) == 0\n",
    "sel_n_gte_2_Muons = ak.num(Muons, axis=1) >= 2\n",
    "\n",
    "sel_m_gt_70_Z = Z.m > 70.0\n",
    "sel_m_lt_100_Z = Z.m < 100.0\n",
    "\n",
    "sel_p_gt_20_Z = Z.p > 20.0\n",
    "sel_p_lt_70_Z = Z.p < 70.0\n",
    "\n",
    "sel_m_gt_120_Recoil = Recoil.m > 120.0\n",
    "sel_m_lt_140_Recoil = Recoil.m > 140.0\n",
    "\n",
    "# Add the selections to the cuts Packed Selection\n",
    "z_cuts.add(\"p_gt_25_Muons\", ak.all(sel_p_gt_25_Muons, axis=1))\n",
    "z_cuts.add(\"n_gte_2_Muons\", sel_n_gte_2_Muons)\n",
    "z_cuts.add(\"m_gt_70_Z\", sel_m_gt_70_Z)\n",
    "z_cuts.add(\"m_lt_100_Z\", sel_m_lt_100_Z)\n",
    "z_cuts.add(\"p_gt_20_Z\", sel_p_gt_20_Z)\n",
    "z_cuts.add(\"p_lt_70_Z\", sel_p_lt_70_Z)\n",
    "z_cuts.add(\"m_gt_120_Recoil\", sel_m_gt_120_Recoil)\n",
    "z_cuts.add(\"m_lt_140_Recoil\", sel_m_lt_140_Recoil)\n",
    "jet_cuts.add(\"n_e_0_Muons\", sel_n_e_0_Muons)"
   ]
  },
  {
   "cell_type": "code",
   "execution_count": 107,
   "id": "32538756-6608-47fd-8b56-0a8e9b6383b8",
   "metadata": {},
   "outputs": [],
   "source": [
    "# Calculate the final variables\n",
    "Good_Z = Z[z_cuts.all()]\n",
    "Good_Recoil = Recoil[z_cuts.all()]"
   ]
  },
  {
   "cell_type": "code",
   "execution_count": 108,
   "id": "64b87d0d-ee9e-4a3d-bb62-c395d3aace25",
   "metadata": {},
   "outputs": [
    {
     "name": "stderr",
     "output_type": "stream",
     "text": [
      "UserWarning: dcut and exclusive jets for jet-finders other than kt, C/A or genkt with p>=0 should be interpreted with care.\n"
     ]
    }
   ],
   "source": [
    "rps_no_mu = events.ReconstructedParticles[sel_n_e_0_Muons]\n",
    "pseudo_jets = ak.zip(\n",
    "    {\n",
    "    'px':rps_no_mu.px,\n",
    "    'py':rps_no_mu.py,\n",
    "    'pz':rps_no_mu.pz,\n",
    "    'E':rps_no_mu.E\n",
    "    },\n",
    "    with_name=\"Momentum4D\",\n",
    "    behavior=fcc.behavior()\n",
    ")\n",
    "jetdef = fastjet.JetDefinition0Param(fastjet.ee_kt_algorithm)\n",
    "# Requirements: \n",
    "# [Done] arg_exclusive = 2\n",
    "# [    ] arg_cut = 2 i.e., N jets for m_exclusive\n",
    "# [    ] arg_sorted = 0 i.e., p_T ordering\n",
    "# [    ] arg_recombination = 10 i.e., E0_scheme : Special for FCCAnalyses\n",
    "jetdef.set_recombination_scheme(0) # E scheme\n",
    "#jetdef.description()\n",
    "cluster = fastjet.ClusterSequence(pseudo_jets, jetdef)\n",
    "jet_constituents = cluster.constituents()\n",
    "jets = cluster.exclusive_jets(2)\n",
    "dijets = ak.sum(jets, axis=1)"
   ]
  },
  {
   "cell_type": "code",
   "execution_count": 110,
   "id": "436dcf2c-7046-430c-8143-6e7d42c33596",
   "metadata": {},
   "outputs": [
    {
     "data": {
      "text/plain": [
       "[StairsArtists(stairs=<matplotlib.patches.StepPatch object at 0x7f862dbfc080>, errorbar=<ErrorbarContainer object of 3 artists>, legend_artist=<ErrorbarContainer object of 3 artists>)]"
      ]
     },
     "execution_count": 110,
     "metadata": {},
     "output_type": "execute_result"
    },
    {
     "data": {
      "image/png": "[encoded data removed]",
      "text/plain": [
       "<Figure size 640x480 with 1 Axes>"
      ]
     },
     "metadata": {},
     "output_type": "display_data"
    }
   ],
   "source": [
    "hist.Hist.new.Reg(100,0,200).Double().fill(Good_Recoil.m.compute()).plot()"
   ]
  },
  {
   "cell_type": "code",
   "execution_count": 111,
   "id": "8652a829-62bb-4b11-a678-1c33ebc77625",
   "metadata": {},
   "outputs": [
    {
     "data": {
      "text/plain": [
       "[StairsArtists(stairs=<matplotlib.patches.StepPatch object at 0x7f8666daf020>, errorbar=<ErrorbarContainer object of 3 artists>, legend_artist=<ErrorbarContainer object of 3 artists>)]"
      ]
     },
     "execution_count": 111,
     "metadata": {},
     "output_type": "execute_result"
    },
    {
     "data": {
      "image/png": "[encoded data removed]",
      "text/plain": [
       "<Figure size 640x480 with 1 Axes>"
      ]
     },
     "metadata": {},
     "output_type": "display_data"
    }
   ],
   "source": [
    "hist.Hist.new.Reg(50,50,100).Double().fill(Good_Z.m.compute()).plot()"
   ]
  },
  {
   "cell_type": "code",
   "execution_count": 112,
   "id": "468d31ba-e00a-440c-ac2c-de2c8c7f2d80",
   "metadata": {},
   "outputs": [
    {
     "data": {
      "text/plain": [
       "[StairsArtists(stairs=<matplotlib.patches.StepPatch object at 0x7f862ab212b0>, errorbar=<ErrorbarContainer object of 3 artists>, legend_artist=<ErrorbarContainer object of 3 artists>)]"
      ]
     },
     "execution_count": 112,
     "metadata": {},
     "output_type": "execute_result"
    },
    {
     "data": {
      "image/png": "[encoded data removed]",
      "text/plain": [
       "<Figure size 640x480 with 1 Axes>"
      ]
     },
     "metadata": {},
     "output_type": "display_data"
    }
   ],
   "source": [
    "hist.Hist.new.Reg(50,0,100).Double().fill(Good_Z.p.compute()).plot()"
   ]
  },
  {
   "cell_type": "code",
   "execution_count": 113,
   "id": "ac8a1520-83ea-4fda-a805-c30ed8bed81e",
   "metadata": {},
   "outputs": [
    {
     "name": "stderr",
     "output_type": "stream",
     "text": [
      "UserWarning: dcut and exclusive jets for jet-finders other than kt, C/A or genkt with p>=0 should be interpreted with care.\n"
     ]
    },
    {
     "data": {
      "text/plain": [
       "[StairsArtists(stairs=<matplotlib.patches.StepPatch object at 0x7f85c0fe12b0>, errorbar=<ErrorbarContainer object of 3 artists>, legend_artist=<ErrorbarContainer object of 3 artists>)]"
      ]
     },
     "execution_count": 113,
     "metadata": {},
     "output_type": "execute_result"
    },
    {
     "data": {
      "image/png": "[encoded data removed]",
      "text/plain": [
       "<Figure size 640x480 with 1 Axes>"
      ]
     },
     "metadata": {},
     "output_type": "display_data"
    }
   ],
   "source": [
    "hist.Hist.new.Reg(50,00,150).Double().fill(dijets.m.compute()).plot()"
   ]
  },
  {
   "cell_type": "code",
   "execution_count": null,
   "id": "e6edbeae-c82a-4999-abb9-61fc90deef6c",
   "metadata": {},
   "outputs": [],
   "source": []
  }
 ],
 "metadata": {
  "kernelspec": {
   "display_name": "fcc-dev",
   "language": "python",
   "name": "fcc-dev"
  },
  "language_info": {
   "codemirror_mode": {
    "name": "ipython",
    "version": 3
   },
   "file_extension": ".py",
   "mimetype": "text/x-python",
   "name": "python",
   "nbconvert_exporter": "python",
   "pygments_lexer": "ipython3",
   "version": "3.12.5"
  }
 },
 "nbformat": 4,
 "nbformat_minor": 5
}
