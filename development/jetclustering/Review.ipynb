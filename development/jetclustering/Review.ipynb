{
 "cells": [
  {
   "cell_type": "markdown",
   "id": "024992de-9558-41e6-95e8-0d8d2d616f31",
   "metadata": {},
   "source": [
    "- MCRecoassociations.reco_mc_index works in both the modes with cuts\n",
    "- MCRecoassociations.reco_mc works in both the modes with cuts\n",
    "- ReconstructedParticles.match_collection works in both the modes"
   ]
  },
  {
   "cell_type": "code",
   "execution_count": 1,
   "id": "99084dd3-6427-4543-936c-eb530c453e51",
   "metadata": {},
   "outputs": [
    {
     "name": "stderr",
     "output_type": "stream",
     "text": [
      "/home/prayag/coffeafcc/development/coffea/src/coffea/nanoevents/schemas/fcc.py:4: FutureWarning: In version 2025.1.0 (target date: 2024-12-31 11:59:59-06:00), this will be an error.\n",
      "To raise these warnings as errors (and get stack traces to find out where they're called), run\n",
      "    import warnings\n",
      "    warnings.filterwarnings(\"error\", module=\"coffea.*\")\n",
      "after the first `import coffea` or use `@pytest.mark.filterwarnings(\"error:::coffea.*\")` in pytest.\n",
      "Issue: coffea.nanoevents.methods.vector will be removed and replaced with scikit-hep vector. Nanoevents schemas internal to coffea will be migrated. Otherwise please consider using that package!.\n",
      "  from coffea.nanoevents.methods import vector\n"
     ]
    }
   ],
   "source": [
    "from coffea.nanoevents import NanoEventsFactory, BaseSchema, FCC\n",
    "import awkward as ak\n",
    "import vector\n",
    "vector.register_awkward()\n",
    "import dask_awkward as dak\n",
    "import numpy as np\n",
    "import numba\n",
    "import sys\n",
    "ROOT_DIR=\"/home/prayag/coffeafcc/coffea-fcc-analyses/\"\n",
    "sys.path.append(ROOT_DIR+\"scripts/analyzers\")\n",
    "import ReconstructedParticle\n",
    "import fastjet\n",
    "import hist\n",
    "from coffea.analysis_tools import PackedSelection"
   ]
  },
  {
   "cell_type": "code",
   "execution_count": 2,
   "id": "b0479692-bda9-43e7-aeff-3009a0fd04a5",
   "metadata": {},
   "outputs": [
    {
     "name": "stderr",
     "output_type": "stream",
     "text": [
      "/home/prayag/coffeafcc/development/coffea/src/coffea/util.py:226: UserWarning: Skipping _intMap as it is not interpretable by Uproot\n",
      "  warnings.warn(\n",
      "/home/prayag/coffeafcc/development/coffea/src/coffea/util.py:234: UserWarning: Skipping _intMap.first as it is not interpretable by Uproot\n",
      "  warnings.warn(\n",
      "/home/prayag/coffeafcc/development/coffea/src/coffea/util.py:234: UserWarning: Skipping _intMap.second as it is not interpretable by Uproot\n",
      "  warnings.warn(\n",
      "/home/prayag/coffeafcc/development/coffea/src/coffea/util.py:226: UserWarning: Skipping _floatMap as it is not interpretable by Uproot\n",
      "  warnings.warn(\n",
      "/home/prayag/coffeafcc/development/coffea/src/coffea/util.py:234: UserWarning: Skipping _floatMap.first as it is not interpretable by Uproot\n",
      "  warnings.warn(\n",
      "/home/prayag/coffeafcc/development/coffea/src/coffea/util.py:234: UserWarning: Skipping _floatMap.second as it is not interpretable by Uproot\n",
      "  warnings.warn(\n",
      "/home/prayag/coffeafcc/development/coffea/src/coffea/util.py:226: UserWarning: Skipping _stringMap as it is not interpretable by Uproot\n",
      "  warnings.warn(\n",
      "/home/prayag/coffeafcc/development/coffea/src/coffea/util.py:234: UserWarning: Skipping _stringMap.first as it is not interpretable by Uproot\n",
      "  warnings.warn(\n",
      "/home/prayag/coffeafcc/development/coffea/src/coffea/util.py:234: UserWarning: Skipping _stringMap.second as it is not interpretable by Uproot\n",
      "  warnings.warn(\n"
     ]
    }
   ],
   "source": [
    "fcc = FCC.get_schema()\n",
    "events = NanoEventsFactory.from_root(\n",
    "    '../../data/wzp6_ee_mumuH_Hbb_ecm240/events_159112833.root:events',\n",
    "    schemaclass=fcc,\n",
    "    entry_stop=100,\n",
    "    metadata={'dataset':'ZH'},\n",
    "    delayed=True,\n",
    "    uproot_options={\"filter_name\": lambda x : \"PARAMETERS\" not in x}\n",
    ").events()"
   ]
  },
  {
   "cell_type": "code",
   "execution_count": 3,
   "id": "b261fcb3-7964-4593-836b-99b7d9ee29e9",
   "metadata": {},
   "outputs": [
    {
     "name": "stderr",
     "output_type": "stream",
     "text": [
      "/home/prayag/coffeafcc/development/coffea/src/coffea/nanoevents/mapping/uproot.py:144: UserWarning: Skipping PARAMETERS/_intMap/_intMap.first as it is not interpretable by Uproot\n",
      "  warnings.warn(f\"Skipping {key} as it is not interpretable by Uproot\")\n",
      "/home/prayag/coffeafcc/development/coffea/src/coffea/nanoevents/mapping/uproot.py:144: UserWarning: Skipping PARAMETERS/_intMap/_intMap.second as it is not interpretable by Uproot\n",
      "  warnings.warn(f\"Skipping {key} as it is not interpretable by Uproot\")\n",
      "/home/prayag/coffeafcc/development/coffea/src/coffea/nanoevents/mapping/uproot.py:144: UserWarning: Skipping PARAMETERS/_floatMap/_floatMap.first as it is not interpretable by Uproot\n",
      "  warnings.warn(f\"Skipping {key} as it is not interpretable by Uproot\")\n",
      "/home/prayag/coffeafcc/development/coffea/src/coffea/nanoevents/mapping/uproot.py:144: UserWarning: Skipping PARAMETERS/_floatMap/_floatMap.second as it is not interpretable by Uproot\n",
      "  warnings.warn(f\"Skipping {key} as it is not interpretable by Uproot\")\n",
      "/home/prayag/coffeafcc/development/coffea/src/coffea/nanoevents/mapping/uproot.py:144: UserWarning: Skipping PARAMETERS/_stringMap/_stringMap.first as it is not interpretable by Uproot\n",
      "  warnings.warn(f\"Skipping {key} as it is not interpretable by Uproot\")\n",
      "/home/prayag/coffeafcc/development/coffea/src/coffea/nanoevents/mapping/uproot.py:144: UserWarning: Skipping PARAMETERS/_stringMap/_stringMap.second as it is not interpretable by Uproot\n",
      "  warnings.warn(f\"Skipping {key} as it is not interpretable by Uproot\")\n"
     ]
    }
   ],
   "source": [
    "fcc = FCC.get_schema()\n",
    "eager_events = NanoEventsFactory.from_root(\n",
    "    '../../data/wzp6_ee_mumuH_Hbb_ecm240/events_159112833.root:events',\n",
    "    schemaclass=fcc,\n",
    "    entry_stop=100,\n",
    "    metadata={'dataset':'ZH'},\n",
    "    delayed=False,\n",
    "    uproot_options={\"filter_name\": lambda x : \"PARAMETERS\" not in x}\n",
    ").events()"
   ]
  },
  {
   "cell_type": "code",
   "execution_count": 16,
   "id": "98653478-e1e6-4d9d-b646-eed1567b8ad1",
   "metadata": {},
   "outputs": [
    {
     "data": {
      "text/plain": [
       "np.int64(100000)"
      ]
     },
     "execution_count": 16,
     "metadata": {},
     "output_type": "execute_result"
    }
   ],
   "source": [
    "ak.num(events.Particle.get_daughters, axis = 0).compute()"
   ]
  },
  {
   "cell_type": "code",
   "execution_count": 17,
   "id": "55385570-4354-4d13-a2f0-292296ae1218",
   "metadata": {},
   "outputs": [
    {
     "data": {
      "text/plain": [
       "np.int64(97532)"
      ]
     },
     "execution_count": 17,
     "metadata": {},
     "output_type": "execute_result"
    }
   ],
   "source": [
    "part = events.Particle\n",
    "cut = ak.num(events.Particle, axis = 1) > 77\n",
    "p = part[cut]\n",
    "ak.num(p, axis = 0).compute()"
   ]
  },
  {
   "cell_type": "code",
   "execution_count": 18,
   "id": "e7adc51c-5744-4b37-aeae-f2a102c4892d",
   "metadata": {},
   "outputs": [
    {
     "ename": "IndexError",
     "evalue": "cannot slice RegularArray (of length 1) with [[0, 1, 2, 3, 4, 5, 6, 7, 8, ..., 125, 126, 127, 128, 129, 130, 131, 132], ...]: cannot fit jagged slice with length 97532 into RegularArray of size 100000",
     "output_type": "error",
     "traceback": [
      "\u001b[0;31m---------------------------------------------------------------------------\u001b[0m",
      "\u001b[0;31mIndexError\u001b[0m                                Traceback (most recent call last)",
      "Cell \u001b[0;32mIn[18], line 1\u001b[0m\n\u001b[0;32m----> 1\u001b[0m \u001b[43mak\u001b[49m\u001b[38;5;241;43m.\u001b[39;49m\u001b[43mnum\u001b[49m\u001b[43m(\u001b[49m\u001b[43mp\u001b[49m\u001b[38;5;241;43m.\u001b[39;49m\u001b[43mget_daughters\u001b[49m\u001b[43m,\u001b[49m\u001b[43m \u001b[49m\u001b[43maxis\u001b[49m\u001b[43m \u001b[49m\u001b[38;5;241;43m=\u001b[39;49m\u001b[43m \u001b[49m\u001b[38;5;241;43m0\u001b[39;49m\u001b[43m)\u001b[49m\u001b[38;5;241;43m.\u001b[39;49m\u001b[43mcompute\u001b[49m\u001b[43m(\u001b[49m\u001b[43m)\u001b[49m\n",
      "File \u001b[0;32m~/coffeafcc/development/fcc-dev/lib64/python3.12/site-packages/dask/base.py:376\u001b[0m, in \u001b[0;36mDaskMethodsMixin.compute\u001b[0;34m(self, **kwargs)\u001b[0m\n\u001b[1;32m    352\u001b[0m \u001b[38;5;28;01mdef\u001b[39;00m \u001b[38;5;21mcompute\u001b[39m(\u001b[38;5;28mself\u001b[39m, \u001b[38;5;241m*\u001b[39m\u001b[38;5;241m*\u001b[39mkwargs):\n\u001b[1;32m    353\u001b[0m \u001b[38;5;250m    \u001b[39m\u001b[38;5;124;03m\"\"\"Compute this dask collection\u001b[39;00m\n\u001b[1;32m    354\u001b[0m \n\u001b[1;32m    355\u001b[0m \u001b[38;5;124;03m    This turns a lazy Dask collection into its in-memory equivalent.\u001b[39;00m\n\u001b[0;32m   (...)\u001b[0m\n\u001b[1;32m    374\u001b[0m \u001b[38;5;124;03m    dask.compute\u001b[39;00m\n\u001b[1;32m    375\u001b[0m \u001b[38;5;124;03m    \"\"\"\u001b[39;00m\n\u001b[0;32m--> 376\u001b[0m     (result,) \u001b[38;5;241m=\u001b[39m \u001b[43mcompute\u001b[49m\u001b[43m(\u001b[49m\u001b[38;5;28;43mself\u001b[39;49m\u001b[43m,\u001b[49m\u001b[43m \u001b[49m\u001b[43mtraverse\u001b[49m\u001b[38;5;241;43m=\u001b[39;49m\u001b[38;5;28;43;01mFalse\u001b[39;49;00m\u001b[43m,\u001b[49m\u001b[43m \u001b[49m\u001b[38;5;241;43m*\u001b[39;49m\u001b[38;5;241;43m*\u001b[39;49m\u001b[43mkwargs\u001b[49m\u001b[43m)\u001b[49m\n\u001b[1;32m    377\u001b[0m     \u001b[38;5;28;01mreturn\u001b[39;00m result\n",
      "File \u001b[0;32m~/coffeafcc/development/fcc-dev/lib64/python3.12/site-packages/dask/base.py:662\u001b[0m, in \u001b[0;36mcompute\u001b[0;34m(traverse, optimize_graph, scheduler, get, *args, **kwargs)\u001b[0m\n\u001b[1;32m    659\u001b[0m     postcomputes\u001b[38;5;241m.\u001b[39mappend(x\u001b[38;5;241m.\u001b[39m__dask_postcompute__())\n\u001b[1;32m    661\u001b[0m \u001b[38;5;28;01mwith\u001b[39;00m shorten_traceback():\n\u001b[0;32m--> 662\u001b[0m     results \u001b[38;5;241m=\u001b[39m \u001b[43mschedule\u001b[49m\u001b[43m(\u001b[49m\u001b[43mdsk\u001b[49m\u001b[43m,\u001b[49m\u001b[43m \u001b[49m\u001b[43mkeys\u001b[49m\u001b[43m,\u001b[49m\u001b[43m \u001b[49m\u001b[38;5;241;43m*\u001b[39;49m\u001b[38;5;241;43m*\u001b[39;49m\u001b[43mkwargs\u001b[49m\u001b[43m)\u001b[49m\n\u001b[1;32m    664\u001b[0m \u001b[38;5;28;01mreturn\u001b[39;00m repack([f(r, \u001b[38;5;241m*\u001b[39ma) \u001b[38;5;28;01mfor\u001b[39;00m r, (f, a) \u001b[38;5;129;01min\u001b[39;00m \u001b[38;5;28mzip\u001b[39m(results, postcomputes)])\n",
      "File \u001b[0;32m~/coffeafcc/development/fcc-dev/lib64/python3.12/site-packages/dask_awkward/lib/core.py:1950\u001b[0m, in \u001b[0;36mArgsKwargsPackedFunction.__call__\u001b[0;34m(self, *args_deps_expanded)\u001b[0m\n\u001b[1;32m   1948\u001b[0m     len_args \u001b[38;5;241m+\u001b[39m\u001b[38;5;241m=\u001b[39m n_args\n\u001b[1;32m   1949\u001b[0m kwargs \u001b[38;5;241m=\u001b[39m \u001b[38;5;28mself\u001b[39m\u001b[38;5;241m.\u001b[39mkwarg_repacker(args_deps_expanded[len_args:])[\u001b[38;5;241m0\u001b[39m]\n\u001b[0;32m-> 1950\u001b[0m \u001b[38;5;28;01mreturn\u001b[39;00m \u001b[38;5;28;43mself\u001b[39;49m\u001b[38;5;241;43m.\u001b[39;49m\u001b[43mfn\u001b[49m\u001b[43m(\u001b[49m\u001b[38;5;241;43m*\u001b[39;49m\u001b[43margs\u001b[49m\u001b[43m,\u001b[49m\u001b[43m \u001b[49m\u001b[38;5;241;43m*\u001b[39;49m\u001b[38;5;241;43m*\u001b[39;49m\u001b[43mkwargs\u001b[49m\u001b[43m)\u001b[49m\n",
      "File \u001b[0;32m~/coffeafcc/development/coffea/src/coffea/nanoevents/methods/fcc.py:72\u001b[0m, in \u001b[0;36mmap_index_to_array\u001b[0;34m(array, index, axis)\u001b[0m\n\u001b[1;32m     70\u001b[0m flat_axis2_counts_array \u001b[38;5;241m=\u001b[39m awkward\u001b[38;5;241m.\u001b[39mflatten(axis2_counts_array, axis\u001b[38;5;241m=\u001b[39m\u001b[38;5;241m1\u001b[39m)\n\u001b[1;32m     71\u001b[0m flat_index \u001b[38;5;241m=\u001b[39m awkward\u001b[38;5;241m.\u001b[39mflatten(index, axis\u001b[38;5;241m=\u001b[39maxis)\n\u001b[0;32m---> 72\u001b[0m trimmed_flat_array \u001b[38;5;241m=\u001b[39m \u001b[43marray\u001b[49m\u001b[43m[\u001b[49m\u001b[43mflat_index\u001b[49m\u001b[43m]\u001b[49m\n\u001b[1;32m     73\u001b[0m trimmed_array \u001b[38;5;241m=\u001b[39m awkward\u001b[38;5;241m.\u001b[39munflatten(\n\u001b[1;32m     74\u001b[0m     trimmed_flat_array, flat_axis2_counts_array, axis\u001b[38;5;241m=\u001b[39m\u001b[38;5;241m1\u001b[39m\n\u001b[1;32m     75\u001b[0m )\n\u001b[1;32m     76\u001b[0m \u001b[38;5;28;01mreturn\u001b[39;00m trimmed_array\n",
      "File \u001b[0;32m~/coffeafcc/development/fcc-dev/lib64/python3.12/site-packages/awkward/highlevel.py:1066\u001b[0m, in \u001b[0;36mArray.__getitem__\u001b[0;34m(self, where)\u001b[0m\n\u001b[1;32m    636\u001b[0m \u001b[38;5;250m\u001b[39m\u001b[38;5;124;03m\"\"\"\u001b[39;00m\n\u001b[1;32m    637\u001b[0m \u001b[38;5;124;03mArgs:\u001b[39;00m\n\u001b[1;32m    638\u001b[0m \u001b[38;5;124;03m    where (many types supported; see below): Index of positions to\u001b[39;00m\n\u001b[0;32m   (...)\u001b[0m\n\u001b[1;32m   1062\u001b[0m \u001b[38;5;124;03mhave the same dimension as the array being indexed.\u001b[39;00m\n\u001b[1;32m   1063\u001b[0m \u001b[38;5;124;03m\"\"\"\u001b[39;00m\n\u001b[1;32m   1064\u001b[0m \u001b[38;5;28;01mwith\u001b[39;00m ak\u001b[38;5;241m.\u001b[39m_errors\u001b[38;5;241m.\u001b[39mSlicingErrorContext(\u001b[38;5;28mself\u001b[39m, where):\n\u001b[1;32m   1065\u001b[0m     \u001b[38;5;28;01mreturn\u001b[39;00m wrap_layout(\n\u001b[0;32m-> 1066\u001b[0m         prepare_layout(\u001b[38;5;28;43mself\u001b[39;49m\u001b[38;5;241;43m.\u001b[39;49m\u001b[43m_layout\u001b[49m\u001b[43m[\u001b[49m\u001b[43mwhere\u001b[49m\u001b[43m]\u001b[49m),\n\u001b[1;32m   1067\u001b[0m         \u001b[38;5;28mself\u001b[39m\u001b[38;5;241m.\u001b[39m_behavior,\n\u001b[1;32m   1068\u001b[0m         allow_other\u001b[38;5;241m=\u001b[39m\u001b[38;5;28;01mTrue\u001b[39;00m,\n\u001b[1;32m   1069\u001b[0m         attrs\u001b[38;5;241m=\u001b[39m\u001b[38;5;28mself\u001b[39m\u001b[38;5;241m.\u001b[39m_attrs,\n\u001b[1;32m   1070\u001b[0m     )\n",
      "File \u001b[0;32m~/coffeafcc/development/fcc-dev/lib64/python3.12/site-packages/awkward/contents/content.py:512\u001b[0m, in \u001b[0;36mContent.__getitem__\u001b[0;34m(self, where)\u001b[0m\n\u001b[1;32m    511\u001b[0m \u001b[38;5;28;01mdef\u001b[39;00m \u001b[38;5;21m__getitem__\u001b[39m(\u001b[38;5;28mself\u001b[39m, where):\n\u001b[0;32m--> 512\u001b[0m     \u001b[38;5;28;01mreturn\u001b[39;00m \u001b[38;5;28;43mself\u001b[39;49m\u001b[38;5;241;43m.\u001b[39;49m\u001b[43m_getitem\u001b[49m\u001b[43m(\u001b[49m\u001b[43mwhere\u001b[49m\u001b[43m)\u001b[49m\n",
      "File \u001b[0;32m~/coffeafcc/development/fcc-dev/lib64/python3.12/site-packages/awkward/contents/content.py:565\u001b[0m, in \u001b[0;36mContent._getitem\u001b[0;34m(self, where)\u001b[0m\n\u001b[1;32m    562\u001b[0m         \u001b[38;5;28;01mreturn\u001b[39;00m out\u001b[38;5;241m.\u001b[39m_getitem_at(\u001b[38;5;241m0\u001b[39m)\n\u001b[1;32m    564\u001b[0m \u001b[38;5;28;01melif\u001b[39;00m \u001b[38;5;28misinstance\u001b[39m(where, ak\u001b[38;5;241m.\u001b[39mhighlevel\u001b[38;5;241m.\u001b[39mArray):\n\u001b[0;32m--> 565\u001b[0m     \u001b[38;5;28;01mreturn\u001b[39;00m \u001b[38;5;28;43mself\u001b[39;49m\u001b[38;5;241;43m.\u001b[39;49m\u001b[43m_getitem\u001b[49m\u001b[43m(\u001b[49m\u001b[43mwhere\u001b[49m\u001b[38;5;241;43m.\u001b[39;49m\u001b[43mlayout\u001b[49m\u001b[43m)\u001b[49m\n\u001b[1;32m    567\u001b[0m \u001b[38;5;66;03m# Convert between nplikes of different backends\u001b[39;00m\n\u001b[1;32m    568\u001b[0m \u001b[38;5;28;01melif\u001b[39;00m (\n\u001b[1;32m    569\u001b[0m     \u001b[38;5;28misinstance\u001b[39m(where, ak\u001b[38;5;241m.\u001b[39mcontents\u001b[38;5;241m.\u001b[39mContent)\n\u001b[1;32m    570\u001b[0m     \u001b[38;5;129;01mand\u001b[39;00m where\u001b[38;5;241m.\u001b[39mbackend \u001b[38;5;129;01mis\u001b[39;00m \u001b[38;5;129;01mnot\u001b[39;00m \u001b[38;5;28mself\u001b[39m\u001b[38;5;241m.\u001b[39m_backend\n\u001b[1;32m    571\u001b[0m ):\n",
      "File \u001b[0;32m~/coffeafcc/development/fcc-dev/lib64/python3.12/site-packages/awkward/contents/content.py:640\u001b[0m, in \u001b[0;36mContent._getitem\u001b[0;34m(self, where)\u001b[0m\n\u001b[1;32m    637\u001b[0m     \u001b[38;5;28;01mreturn\u001b[39;00m where\u001b[38;5;241m.\u001b[39mto_NumpyArray(np\u001b[38;5;241m.\u001b[39mint64)\n\u001b[1;32m    639\u001b[0m \u001b[38;5;28;01melif\u001b[39;00m \u001b[38;5;28misinstance\u001b[39m(where, Content):\n\u001b[0;32m--> 640\u001b[0m     \u001b[38;5;28;01mreturn\u001b[39;00m \u001b[38;5;28;43mself\u001b[39;49m\u001b[38;5;241;43m.\u001b[39;49m\u001b[43m_getitem\u001b[49m\u001b[43m(\u001b[49m\u001b[43m(\u001b[49m\u001b[43mwhere\u001b[49m\u001b[43m,\u001b[49m\u001b[43m)\u001b[49m\u001b[43m)\u001b[49m\n\u001b[1;32m    642\u001b[0m \u001b[38;5;28;01melif\u001b[39;00m is_sized_iterable(where):\n\u001b[1;32m    643\u001b[0m     \u001b[38;5;66;03m# Do we have an array\u001b[39;00m\n\u001b[1;32m    644\u001b[0m     nplike \u001b[38;5;241m=\u001b[39m nplike_of_obj(where, default\u001b[38;5;241m=\u001b[39m\u001b[38;5;28;01mNone\u001b[39;00m)\n",
      "File \u001b[0;32m~/coffeafcc/development/fcc-dev/lib64/python3.12/site-packages/awkward/contents/content.py:557\u001b[0m, in \u001b[0;36mContent._getitem\u001b[0;34m(self, where)\u001b[0m\n\u001b[1;32m    548\u001b[0m nextwhere \u001b[38;5;241m=\u001b[39m ak\u001b[38;5;241m.\u001b[39m_slicing\u001b[38;5;241m.\u001b[39mprepare_advanced_indexing(items, backend)\n\u001b[1;32m    550\u001b[0m \u001b[38;5;28mnext\u001b[39m \u001b[38;5;241m=\u001b[39m ak\u001b[38;5;241m.\u001b[39mcontents\u001b[38;5;241m.\u001b[39mRegularArray(\n\u001b[1;32m    551\u001b[0m     this,\n\u001b[1;32m    552\u001b[0m     this\u001b[38;5;241m.\u001b[39mlength,\n\u001b[1;32m    553\u001b[0m     \u001b[38;5;241m1\u001b[39m,\n\u001b[1;32m    554\u001b[0m     parameters\u001b[38;5;241m=\u001b[39m\u001b[38;5;28;01mNone\u001b[39;00m,\n\u001b[1;32m    555\u001b[0m )\n\u001b[0;32m--> 557\u001b[0m out \u001b[38;5;241m=\u001b[39m \u001b[38;5;28;43mnext\u001b[39;49m\u001b[38;5;241;43m.\u001b[39;49m\u001b[43m_getitem_next\u001b[49m\u001b[43m(\u001b[49m\u001b[43mnextwhere\u001b[49m\u001b[43m[\u001b[49m\u001b[38;5;241;43m0\u001b[39;49m\u001b[43m]\u001b[49m\u001b[43m,\u001b[49m\u001b[43m \u001b[49m\u001b[43mnextwhere\u001b[49m\u001b[43m[\u001b[49m\u001b[38;5;241;43m1\u001b[39;49m\u001b[43m:\u001b[49m\u001b[43m]\u001b[49m\u001b[43m,\u001b[49m\u001b[43m \u001b[49m\u001b[38;5;28;43;01mNone\u001b[39;49;00m\u001b[43m)\u001b[49m\n\u001b[1;32m    559\u001b[0m \u001b[38;5;28;01mif\u001b[39;00m out\u001b[38;5;241m.\u001b[39mlength \u001b[38;5;129;01mis\u001b[39;00m \u001b[38;5;129;01mnot\u001b[39;00m unknown_length \u001b[38;5;129;01mand\u001b[39;00m out\u001b[38;5;241m.\u001b[39mlength \u001b[38;5;241m==\u001b[39m \u001b[38;5;241m0\u001b[39m:\n\u001b[1;32m    560\u001b[0m     \u001b[38;5;28;01mreturn\u001b[39;00m out\u001b[38;5;241m.\u001b[39m_getitem_nothing()\n",
      "File \u001b[0;32m~/coffeafcc/development/fcc-dev/lib64/python3.12/site-packages/awkward/contents/regulararray.py:670\u001b[0m, in \u001b[0;36mRegularArray._getitem_next\u001b[0;34m(self, head, tail, advanced)\u001b[0m\n\u001b[1;32m    663\u001b[0m     \u001b[38;5;28;01mraise\u001b[39;00m ak\u001b[38;5;241m.\u001b[39m_errors\u001b[38;5;241m.\u001b[39mindex_error(\n\u001b[1;32m    664\u001b[0m         \u001b[38;5;28mself\u001b[39m,\n\u001b[1;32m    665\u001b[0m         head,\n\u001b[1;32m    666\u001b[0m         \u001b[38;5;124m\"\u001b[39m\u001b[38;5;124mcannot mix jagged slice with NumPy-style advanced indexing\u001b[39m\u001b[38;5;124m\"\u001b[39m,\n\u001b[1;32m    667\u001b[0m     )\n\u001b[1;32m    669\u001b[0m \u001b[38;5;28;01mif\u001b[39;00m \u001b[38;5;28mself\u001b[39m\u001b[38;5;241m.\u001b[39m_backend\u001b[38;5;241m.\u001b[39mnplike\u001b[38;5;241m.\u001b[39mknown_data \u001b[38;5;129;01mand\u001b[39;00m head\u001b[38;5;241m.\u001b[39mlength \u001b[38;5;241m!=\u001b[39m \u001b[38;5;28mself\u001b[39m\u001b[38;5;241m.\u001b[39m_size:\n\u001b[0;32m--> 670\u001b[0m     \u001b[38;5;28;01mraise\u001b[39;00m ak\u001b[38;5;241m.\u001b[39m_errors\u001b[38;5;241m.\u001b[39mindex_error(\n\u001b[1;32m    671\u001b[0m         \u001b[38;5;28mself\u001b[39m,\n\u001b[1;32m    672\u001b[0m         head,\n\u001b[1;32m    673\u001b[0m         \u001b[38;5;124mf\u001b[39m\u001b[38;5;124m\"\u001b[39m\u001b[38;5;124mcannot fit jagged slice with length \u001b[39m\u001b[38;5;132;01m{\u001b[39;00mhead\u001b[38;5;241m.\u001b[39mlength\u001b[38;5;132;01m}\u001b[39;00m\u001b[38;5;124m into \u001b[39m\u001b[38;5;132;01m{\u001b[39;00m\u001b[38;5;28mtype\u001b[39m(\u001b[38;5;28mself\u001b[39m)\u001b[38;5;241m.\u001b[39m\u001b[38;5;18m__name__\u001b[39m\u001b[38;5;132;01m}\u001b[39;00m\u001b[38;5;124m of size \u001b[39m\u001b[38;5;132;01m{\u001b[39;00m\u001b[38;5;28mself\u001b[39m\u001b[38;5;241m.\u001b[39m_size\u001b[38;5;132;01m}\u001b[39;00m\u001b[38;5;124m\"\u001b[39m,\n\u001b[1;32m    674\u001b[0m     )\n\u001b[1;32m    676\u001b[0m multistarts \u001b[38;5;241m=\u001b[39m ak\u001b[38;5;241m.\u001b[39mindex\u001b[38;5;241m.\u001b[39mIndex64\u001b[38;5;241m.\u001b[39mempty(\n\u001b[1;32m    677\u001b[0m     head\u001b[38;5;241m.\u001b[39mlength \u001b[38;5;241m*\u001b[39m \u001b[38;5;28mself\u001b[39m\u001b[38;5;241m.\u001b[39m_length, index_nplike\n\u001b[1;32m    678\u001b[0m )\n\u001b[1;32m    679\u001b[0m multistops \u001b[38;5;241m=\u001b[39m ak\u001b[38;5;241m.\u001b[39mindex\u001b[38;5;241m.\u001b[39mIndex64\u001b[38;5;241m.\u001b[39mempty(\n\u001b[1;32m    680\u001b[0m     head\u001b[38;5;241m.\u001b[39mlength \u001b[38;5;241m*\u001b[39m \u001b[38;5;28mself\u001b[39m\u001b[38;5;241m.\u001b[39m_length, index_nplike\n\u001b[1;32m    681\u001b[0m )\n",
      "\u001b[0;31mIndexError\u001b[0m: cannot slice RegularArray (of length 1) with [[0, 1, 2, 3, 4, 5, 6, 7, 8, ..., 125, 126, 127, 128, 129, 130, 131, 132], ...]: cannot fit jagged slice with length 97532 into RegularArray of size 100000",
      "\u001b[0m\nThis error occurred while attempting to slice\n\n    <Array [[2, 3, 2, ..., 121, 122, 123], ...] type='100000 * var * int32[...'>\n\nwith\n\n    <Array [[0, 1, 2, 3, ..., 129, 130, 131, 132], ...] type='97532 * var * int64'>"
     ]
    }
   ],
   "source": [
    "ak.num(p.get_daughters, axis = 0).compute()"
   ]
  },
  {
   "cell_type": "code",
   "execution_count": null,
   "id": "428b5454-0935-425a-ba55-d802478fc631",
   "metadata": {},
   "outputs": [],
   "source": []
  }
 ],
 "metadata": {
  "kernelspec": {
   "display_name": "fcc-dev",
   "language": "python",
   "name": "fcc-dev"
  },
  "language_info": {
   "codemirror_mode": {
    "name": "ipython",
    "version": 3
   },
   "file_extension": ".py",
   "mimetype": "text/x-python",
   "name": "python",
   "nbconvert_exporter": "python",
   "pygments_lexer": "ipython3",
   "version": "3.12.6"
  }
 },
 "nbformat": 4,
 "nbformat_minor": 5
}
