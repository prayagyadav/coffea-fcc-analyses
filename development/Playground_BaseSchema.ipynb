{
 "cells": [
  {
   "cell_type": "code",
   "execution_count": 184,
   "id": "5bb338d7",
   "metadata": {},
   "outputs": [],
   "source": [
    "from coffea.util import load\n",
    "from coffea.analysis_tools import PackedSelection, Cutflow\n",
    "from collections import namedtuple\n",
    "import numpy as np\n",
    "import hist\n",
    "import copy\n",
    "import os\n",
    "import glob\n",
    "import re"
   ]
  },
  {
   "cell_type": "code",
   "execution_count": 185,
   "id": "47f4b967-1040-4b25-b88d-77dfd101b1c9",
   "metadata": {},
   "outputs": [],
   "source": [
    "out1 = load('./outputs_old/FCCee/higgs/mH-recoil/mumu/mHrecoil_mumu.coffea')\n",
    "out2 = load('./outputs_old/FCCee/higgs/mH-recoil/mumu/mHrecoil_mumu.coffea')"
   ]
  },
  {
   "cell_type": "code",
   "execution_count": 186,
   "id": "ac69a2d7-4c37-4db9-8b9c-2b461b8bf4fd",
   "metadata": {},
   "outputs": [],
   "source": [
    "c1 = out1['p8_ee_ZZ_ecm240']['cutflow']['sel0']\n",
    "c2 = out1['p8_ee_ZZ_ecm240']['cutflow']['sel0']"
   ]
  },
  {
   "cell_type": "code",
   "execution_count": 187,
   "id": "0540fadd-04d4-4c48-a803-f29ffabb50eb",
   "metadata": {},
   "outputs": [],
   "source": [
    "def add_cutflow(c1,c2):\n",
    "    '''\n",
    "    Add cutflow objects assuming they operate on non-overlaping sample regions\n",
    "    '''\n",
    "    r1 = c1.result()\n",
    "    r2 = c2.result()\n",
    "\n",
    "\n",
    "    if r1.labels == r2.labels :\n",
    "        names = r1.labels\n",
    "        names.remove('initial') # initial is added when Cutflow class is called, so removing it to preserve names list length\n",
    "        names = names\n",
    "        nevonecut = [a+b for a,b in zip(r1.nevonecut,r2.nevonecut)]\n",
    "        nevcutflow = [a+b for a,b in zip(r1.nevcutflow,r2.nevcutflow)]\n",
    "        masksonecut = [np.concatenate((a,b)) for a,b in zip(r1.masksonecut,r2.masksonecut)]\n",
    "        maskscutflow = [np.concatenate((a,b)) for a,b in zip(r1.maskscutflow,r2.maskscutflow)]\n",
    "        \n",
    "    else:\n",
    "        raise \"The labels of the cutflow do not match!\"\n",
    "    return Cutflow(names, nevonecut, nevcutflow, masksonecut, maskscutflow, delayed_mode=False)\n",
    "\n",
    "Cutflow.__add__ = add_cutflow #Monkey patch to enable the add method\n",
    "\n",
    "def accumulate(dicts):\n",
    "    \"\"\"\n",
    "    Merges an array of dictionaries and adds up the values of common keys.\n",
    "\n",
    "    Parameters:\n",
    "    dicts (list): A list of dictionaries to be merged.\n",
    "\n",
    "    Returns:\n",
    "    dict: A dictionary with combined keys and values summed for common keys.\n",
    "    \"\"\"\n",
    "    outdict = {}\n",
    "\n",
    "    for diction in dicts:\n",
    "        dictionary = copy.deepcopy(diction)\n",
    "        \n",
    "        for key, value in dictionary.items():\n",
    "            # print(f\"{key} : {value}\")\n",
    "            # print(type(value))\n",
    "            if isinstance(value,dict):\n",
    "                value = accumulate([subdict[key] for subdict in dicts])\n",
    "                outdict[key] = value\n",
    "                continue\n",
    "            \n",
    "            if key in outdict:\n",
    "                outdict[key] += value  # Add values if the key is common\n",
    "            else:\n",
    "                outdict[key] = value  # Otherwise, add the new key-value pair \n",
    "    return outdict"
   ]
  },
  {
   "cell_type": "code",
   "execution_count": 188,
   "id": "1f62c09d-5b20-4cd1-9b36-84abb929d31c",
   "metadata": {},
   "outputs": [],
   "source": [
    "a = {\n",
    "    'a':{'x':1,'y':2,'z':3},\n",
    "    'b':{'x':1,'y':2,'z':3},\n",
    "    'c':{'x':1,'y':2,'z':3}\n",
    "}"
   ]
  },
  {
   "cell_type": "code",
   "execution_count": 189,
   "id": "dfd98914-9cbd-4a49-a708-4316b39ccaa5",
   "metadata": {},
   "outputs": [
    {
     "data": {
      "text/plain": [
       "{'a': {'x': 5, 'y': 10, 'z': 15},\n",
       " 'b': {'x': 5, 'y': 10, 'z': 15},\n",
       " 'c': {'x': 5, 'y': 10, 'z': 15}}"
      ]
     },
     "execution_count": 189,
     "metadata": {},
     "output_type": "execute_result"
    }
   ],
   "source": [
    "accumulate([a,a,a,a,a])"
   ]
  },
  {
   "cell_type": "code",
   "execution_count": 190,
   "id": "66684fbf-6822-47c8-b733-af115927b701",
   "metadata": {},
   "outputs": [],
   "source": [
    "b = {\n",
    "    'a':{'x':{'s':1,'t':2},'y':2,'z':3},\n",
    "    'b':{'x':1,'y':2,'z':3},\n",
    "    'c':{'x':1,'y':2,'z':3}\n",
    "}"
   ]
  },
  {
   "cell_type": "code",
   "execution_count": 191,
   "id": "1f9e5a57-6a2f-4eb2-9f91-4f5842866150",
   "metadata": {},
   "outputs": [
    {
     "data": {
      "text/plain": [
       "{'a': {'x': {'s': 2, 't': 4}, 'y': 4, 'z': 6},\n",
       " 'b': {'x': 2, 'y': 4, 'z': 6},\n",
       " 'c': {'x': 2, 'y': 4, 'z': 6}}"
      ]
     },
     "execution_count": 191,
     "metadata": {},
     "output_type": "execute_result"
    }
   ],
   "source": [
    "accumulate([b,b])"
   ]
  },
  {
   "cell_type": "code",
   "execution_count": 192,
   "id": "d338e01f-03c7-4603-bf74-4da3e1fb6e6b",
   "metadata": {
    "scrolled": true
   },
   "outputs": [
    {
     "data": {
      "text/plain": [
       "{'p8_ee_ZZ_ecm240': {'histograms': {'sel0': {'Zm': Hist(Regular(125, 0, 250, label='Axis 0'), storage=Double()) # Sum: 36006.0,\n",
       "    'Zm_zoom': Hist(Regular(40, 80, 100, label='Axis 0'), storage=Double()) # Sum: 25436.0 (36006.0 with flow),\n",
       "    'Recoilm': Hist(Regular(100, 0, 200, label='Axis 0'), storage=Double()) # Sum: 35846.0 (36006.0 with flow),\n",
       "    'Recoilm_zoom': Hist(Regular(200, 80, 160, label='Axis 0'), storage=Double()) # Sum: 31920.0 (36006.0 with flow),\n",
       "    'Recoilm_zoom1': Hist(Regular(100, 120, 140, label='Axis 0'), storage=Double()) # Sum: 3126.0 (36006.0 with flow),\n",
       "    'Recoilm_zoom2': Hist(Regular(200, 120, 140, label='Axis 0'), storage=Double()) # Sum: 3126.0 (36006.0 with flow),\n",
       "    'Recoilm_zoom3': Hist(Regular(400, 120, 140, label='Axis 0'), storage=Double()) # Sum: 3126.0 (36006.0 with flow),\n",
       "    'Recoilm_zoom4': Hist(Regular(800, 120, 140, label='Axis 0'), storage=Double()) # Sum: 3126.0 (36006.0 with flow),\n",
       "    'Recoilm_zoom5': Hist(Regular(2000, 120, 140, label='Axis 0'), storage=Double()) # Sum: 3126.0 (36006.0 with flow),\n",
       "    'Recoilm_zoom6': Hist(Regular(100, 130.3, 132.5, label='Axis 0'), storage=Double()) # Sum: 330.0 (36006.0 with flow)},\n",
       "   'sel1': {'Zm': Hist(Regular(125, 0, 250, label='Axis 0'), storage=Double()) # Sum: 25436.0,\n",
       "    'Zm_zoom': Hist(Regular(40, 80, 100, label='Axis 0'), storage=Double()) # Sum: 25436.0,\n",
       "    'Recoilm': Hist(Regular(100, 0, 200, label='Axis 0'), storage=Double()) # Sum: 25392.0 (25436.0 with flow),\n",
       "    'Recoilm_zoom': Hist(Regular(200, 80, 160, label='Axis 0'), storage=Double()) # Sum: 23230.0 (25436.0 with flow),\n",
       "    'Recoilm_zoom1': Hist(Regular(100, 120, 140, label='Axis 0'), storage=Double()) # Sum: 2248.0 (25436.0 with flow),\n",
       "    'Recoilm_zoom2': Hist(Regular(200, 120, 140, label='Axis 0'), storage=Double()) # Sum: 2248.0 (25436.0 with flow),\n",
       "    'Recoilm_zoom3': Hist(Regular(400, 120, 140, label='Axis 0'), storage=Double()) # Sum: 2248.0 (25436.0 with flow),\n",
       "    'Recoilm_zoom4': Hist(Regular(800, 120, 140, label='Axis 0'), storage=Double()) # Sum: 2248.0 (25436.0 with flow),\n",
       "    'Recoilm_zoom5': Hist(Regular(2000, 120, 140, label='Axis 0'), storage=Double()) # Sum: 2248.0 (25436.0 with flow),\n",
       "    'Recoilm_zoom6': Hist(Regular(100, 130.3, 132.5, label='Axis 0'), storage=Double()) # Sum: 250.0 (25436.0 with flow)}},\n",
       "  'cutflow': {'sel0': Cutflow(selections=['No cut', 'At least one Reco Particle', 'Muon $p_T$ > 10 [GeV]', '$N_Z$', 'Opp charge muons']),\n",
       "   'sel1': Cutflow(selections=['No cut', 'At least one Reco Particle', 'Muon $p_T$ > 10 [GeV]', '$N_Z$', 'Opp charge muons', '80 < $M_Z$ < 100'])}},\n",
       " 'p8_ee_WW_ecm240': {'histograms': {'sel0': {'Zm': Hist(Regular(125, 0, 250, label='Axis 0'), storage=Double()) # Sum: 12898.0,\n",
       "    'Zm_zoom': Hist(Regular(40, 80, 100, label='Axis 0'), storage=Double()) # Sum: 1522.0 (12898.0 with flow),\n",
       "    'Recoilm': Hist(Regular(100, 0, 200, label='Axis 0'), storage=Double()) # Sum: 12800.0 (12898.0 with flow),\n",
       "    'Recoilm_zoom': Hist(Regular(200, 80, 160, label='Axis 0'), storage=Double()) # Sum: 5692.0 (12898.0 with flow),\n",
       "    'Recoilm_zoom1': Hist(Regular(100, 120, 140, label='Axis 0'), storage=Double()) # Sum: 1220.0 (12898.0 with flow),\n",
       "    'Recoilm_zoom2': Hist(Regular(200, 120, 140, label='Axis 0'), storage=Double()) # Sum: 1220.0 (12898.0 with flow),\n",
       "    'Recoilm_zoom3': Hist(Regular(400, 120, 140, label='Axis 0'), storage=Double()) # Sum: 1220.0 (12898.0 with flow),\n",
       "    'Recoilm_zoom4': Hist(Regular(800, 120, 140, label='Axis 0'), storage=Double()) # Sum: 1220.0 (12898.0 with flow),\n",
       "    'Recoilm_zoom5': Hist(Regular(2000, 120, 140, label='Axis 0'), storage=Double()) # Sum: 1220.0 (12898.0 with flow),\n",
       "    'Recoilm_zoom6': Hist(Regular(100, 130.3, 132.5, label='Axis 0'), storage=Double()) # Sum: 124.0 (12898.0 with flow)},\n",
       "   'sel1': {'Zm': Hist(Regular(125, 0, 250, label='Axis 0'), storage=Double()) # Sum: 1522.0,\n",
       "    'Zm_zoom': Hist(Regular(40, 80, 100, label='Axis 0'), storage=Double()) # Sum: 1522.0,\n",
       "    'Recoilm': Hist(Regular(100, 0, 200, label='Axis 0'), storage=Double()) # Sum: 1522.0,\n",
       "    'Recoilm_zoom': Hist(Regular(200, 80, 160, label='Axis 0'), storage=Double()) # Sum: 1334.0 (1522.0 with flow),\n",
       "    'Recoilm_zoom1': Hist(Regular(100, 120, 140, label='Axis 0'), storage=Double()) # Sum: 474.0 (1522.0 with flow),\n",
       "    'Recoilm_zoom2': Hist(Regular(200, 120, 140, label='Axis 0'), storage=Double()) # Sum: 474.0 (1522.0 with flow),\n",
       "    'Recoilm_zoom3': Hist(Regular(400, 120, 140, label='Axis 0'), storage=Double()) # Sum: 474.0 (1522.0 with flow),\n",
       "    'Recoilm_zoom4': Hist(Regular(800, 120, 140, label='Axis 0'), storage=Double()) # Sum: 474.0 (1522.0 with flow),\n",
       "    'Recoilm_zoom5': Hist(Regular(2000, 120, 140, label='Axis 0'), storage=Double()) # Sum: 474.0 (1522.0 with flow),\n",
       "    'Recoilm_zoom6': Hist(Regular(100, 130.3, 132.5, label='Axis 0'), storage=Double()) # Sum: 66.0 (1522.0 with flow)}},\n",
       "  'cutflow': {'sel0': Cutflow(selections=['No cut', 'At least one Reco Particle', 'Muon $p_T$ > 10 [GeV]', '$N_Z$', 'Opp charge muons']),\n",
       "   'sel1': Cutflow(selections=['No cut', 'At least one Reco Particle', 'Muon $p_T$ > 10 [GeV]', '$N_Z$', 'Opp charge muons', '80 < $M_Z$ < 100'])}},\n",
       " 'p8_ee_ZH_ecm240': {'histograms': {'sel0': {'Zm': Hist(Regular(125, 0, 250, label='Axis 0'), storage=Double()) # Sum: 11020.0,\n",
       "    'Zm_zoom': Hist(Regular(40, 80, 100, label='Axis 0'), storage=Double()) # Sum: 8902.0 (11020.0 with flow),\n",
       "    'Recoilm': Hist(Regular(100, 0, 200, label='Axis 0'), storage=Double()) # Sum: 10910.0 (11020.0 with flow),\n",
       "    'Recoilm_zoom': Hist(Regular(200, 80, 160, label='Axis 0'), storage=Double()) # Sum: 10124.0 (11020.0 with flow),\n",
       "    'Recoilm_zoom1': Hist(Regular(100, 120, 140, label='Axis 0'), storage=Double()) # Sum: 9062.0 (11020.0 with flow),\n",
       "    'Recoilm_zoom2': Hist(Regular(200, 120, 140, label='Axis 0'), storage=Double()) # Sum: 9062.0 (11020.0 with flow),\n",
       "    'Recoilm_zoom3': Hist(Regular(400, 120, 140, label='Axis 0'), storage=Double()) # Sum: 9062.0 (11020.0 with flow),\n",
       "    'Recoilm_zoom4': Hist(Regular(800, 120, 140, label='Axis 0'), storage=Double()) # Sum: 9062.0 (11020.0 with flow),\n",
       "    'Recoilm_zoom5': Hist(Regular(2000, 120, 140, label='Axis 0'), storage=Double()) # Sum: 9062.0 (11020.0 with flow),\n",
       "    'Recoilm_zoom6': Hist(Regular(100, 130.3, 132.5, label='Axis 0'), storage=Double()) # Sum: 628.0 (11020.0 with flow)},\n",
       "   'sel1': {'Zm': Hist(Regular(125, 0, 250, label='Axis 0'), storage=Double()) # Sum: 8902.0,\n",
       "    'Zm_zoom': Hist(Regular(40, 80, 100, label='Axis 0'), storage=Double()) # Sum: 8902.0,\n",
       "    'Recoilm': Hist(Regular(100, 0, 200, label='Axis 0'), storage=Double()) # Sum: 8902.0,\n",
       "    'Recoilm_zoom': Hist(Regular(200, 80, 160, label='Axis 0'), storage=Double()) # Sum: 8902.0,\n",
       "    'Recoilm_zoom1': Hist(Regular(100, 120, 140, label='Axis 0'), storage=Double()) # Sum: 8322.0 (8902.0 with flow),\n",
       "    'Recoilm_zoom2': Hist(Regular(200, 120, 140, label='Axis 0'), storage=Double()) # Sum: 8322.0 (8902.0 with flow),\n",
       "    'Recoilm_zoom3': Hist(Regular(400, 120, 140, label='Axis 0'), storage=Double()) # Sum: 8322.0 (8902.0 with flow),\n",
       "    'Recoilm_zoom4': Hist(Regular(800, 120, 140, label='Axis 0'), storage=Double()) # Sum: 8322.0 (8902.0 with flow),\n",
       "    'Recoilm_zoom5': Hist(Regular(2000, 120, 140, label='Axis 0'), storage=Double()) # Sum: 8322.0 (8902.0 with flow),\n",
       "    'Recoilm_zoom6': Hist(Regular(100, 130.3, 132.5, label='Axis 0'), storage=Double()) # Sum: 570.0 (8902.0 with flow)}},\n",
       "  'cutflow': {'sel0': Cutflow(selections=['No cut', 'At least one Reco Particle', 'Muon $p_T$ > 10 [GeV]', '$N_Z$', 'Opp charge muons']),\n",
       "   'sel1': Cutflow(selections=['No cut', 'At least one Reco Particle', 'Muon $p_T$ > 10 [GeV]', '$N_Z$', 'Opp charge muons', '80 < $M_Z$ < 100'])}}}"
      ]
     },
     "execution_count": 192,
     "metadata": {},
     "output_type": "execute_result"
    }
   ],
   "source": [
    "accumulate([out1,out2])"
   ]
  },
  {
   "cell_type": "code",
   "execution_count": 193,
   "id": "29674fa6-7e99-4a4e-a60b-79a19cb4bd40",
   "metadata": {},
   "outputs": [
    {
     "name": "stdout",
     "output_type": "stream",
     "text": [
      "Current configuration:\n",
      "\tinput_path:\toutputs/FCCee/higgs/mH-recoil/mumu/\n",
      "\tbase_filename:\tmHrecoil_mumu2.coffea\n",
      "\n",
      "Loading coffea files...\n",
      "Detected coffea files:\n",
      "\toutputs/FCCee/higgs/mH-recoil/mumu/mHrecoil_mumu.coffea\n",
      "\toutputs/FCCee/higgs/mH-recoil/mumu/mHrecoil_mumu2-chunk1.coffea\n",
      "\toutputs/FCCee/higgs/mH-recoil/mumu/mHrecoil_mumu2-chunk0.coffea\n",
      "Choosing:\n",
      "\tmHrecoil_mumu2.coffea\n",
      "Joining chunks:\n",
      "\toutputs/FCCee/higgs/mH-recoil/mumu/mHrecoil_mumu2-chunk1.coffea\n",
      "\toutputs/FCCee/higgs/mH-recoil/mumu/mHrecoil_mumu2-chunk0.coffea\n"
     ]
    }
   ],
   "source": [
    "input_path = \"outputs/FCCee/higgs/mH-recoil/mumu/\"\n",
    "base_filename = \"mHrecoil_mumu2.coffea\"\n",
    "print(f'Current configuration:\\n\\tinput_path:\\t{input_path}\\n\\tbase_filename:\\t{base_filename}\\n')\n",
    "print(\"Loading coffea files...\")\n",
    "\n",
    "#Find coffea files\n",
    "coffea_files = glob.glob(input_path+'*.coffea')\n",
    "print('Detected coffea files:')\n",
    "for file in coffea_files : print('\\t'+file)\n",
    "\n",
    "print(f'Choosing:\\n\\t{base_filename}')\n",
    "\n",
    "#Find chunked coffea files\n",
    "chunked_coffea_files = glob.glob(input_path+base_filename.strip('.coffea')+'-chunk*.coffea')\n",
    "\n",
    "if len(chunked_coffea_files) != 0 :\n",
    "    print('Joining chunks:')\n",
    "    chunk_index_list = []\n",
    "    chunk_list = []\n",
    "    for file in chunked_coffea_files:\n",
    "        print('\\t'+file)\n",
    "        chunk_list.append(file)\n",
    "        chunk_index_list.append(int(re.search('-chunk(.*).coffea',file).group(1)))\n",
    "    chunk_index_list.sort()\n",
    "    \n",
    "    #Check if there are missing chunks\n",
    "    full_set = set(range(len(chunk_index_list)))\n",
    "    lst_set = set(chunk_index_list)\n",
    "    missing = list(full_set - lst_set)\n",
    "    if len(missing) != 0:\n",
    "        raise FileNotFoundError(f'Missing chunk indexes : {missing}')\n",
    "    \n",
    "    #Load and accumulate all the chunks\n",
    "    input_list = [load(file) for file in chunk_list]\n",
    "    input = accumulate(input_list)\n",
    "else : \n",
    "    input = load(input_path+base_filename)"
   ]
  },
  {
   "cell_type": "code",
   "execution_count": 194,
   "id": "b648755f-09cd-4400-8839-555b964199c6",
   "metadata": {},
   "outputs": [
    {
     "name": "stdout",
     "output_type": "stream",
     "text": [
      "{\n",
      "\tp8_ee_ZZ_ecm240 : {\n",
      "\t\thistograms : {\n",
      "\t\t\tsel0 : {\n",
      "\t\t\t\tZm : <class 'hist.hist.Hist'>\tIntegral:36006.0\n",
      "\t\t\t\tZm_zoom : <class 'hist.hist.Hist'>\tIntegral:25436.0\n",
      "\t\t\t\tRecoilm : <class 'hist.hist.Hist'>\tIntegral:35846.0\n",
      "\t\t\t\tRecoilm_zoom : <class 'hist.hist.Hist'>\tIntegral:31920.0\n",
      "\t\t\t\tRecoilm_zoom1 : <class 'hist.hist.Hist'>\tIntegral:3126.0\n",
      "\t\t\t\tRecoilm_zoom2 : <class 'hist.hist.Hist'>\tIntegral:3126.0\n",
      "\t\t\t\tRecoilm_zoom3 : <class 'hist.hist.Hist'>\tIntegral:3126.0\n",
      "\t\t\t\tRecoilm_zoom4 : <class 'hist.hist.Hist'>\tIntegral:3126.0\n",
      "\t\t\t\tRecoilm_zoom5 : <class 'hist.hist.Hist'>\tIntegral:3126.0\n",
      "\t\t\t\tRecoilm_zoom6 : <class 'hist.hist.Hist'>\tIntegral:330.0\n",
      "\t\t\t\t}\n",
      "\t\t\tsel1 : {\n",
      "\t\t\t\tZm : <class 'hist.hist.Hist'>\tIntegral:25436.0\n",
      "\t\t\t\tZm_zoom : <class 'hist.hist.Hist'>\tIntegral:25436.0\n",
      "\t\t\t\tRecoilm : <class 'hist.hist.Hist'>\tIntegral:25392.0\n",
      "\t\t\t\tRecoilm_zoom : <class 'hist.hist.Hist'>\tIntegral:23230.0\n",
      "\t\t\t\tRecoilm_zoom1 : <class 'hist.hist.Hist'>\tIntegral:2248.0\n",
      "\t\t\t\tRecoilm_zoom2 : <class 'hist.hist.Hist'>\tIntegral:2248.0\n",
      "\t\t\t\tRecoilm_zoom3 : <class 'hist.hist.Hist'>\tIntegral:2248.0\n",
      "\t\t\t\tRecoilm_zoom4 : <class 'hist.hist.Hist'>\tIntegral:2248.0\n",
      "\t\t\t\tRecoilm_zoom5 : <class 'hist.hist.Hist'>\tIntegral:2248.0\n",
      "\t\t\t\tRecoilm_zoom6 : <class 'hist.hist.Hist'>\tIntegral:250.0\n",
      "\t\t\t\t}\n",
      "\t\t\t}\n",
      "\t\tcutflow : {\n",
      "\t\t\tsel0 : <class 'coffea.analysis_tools.Cutflow'>\tInitial events:600000\n",
      "\t\t\tsel1 : <class 'coffea.analysis_tools.Cutflow'>\tInitial events:600000\n",
      "\t\t\t}\n",
      "\t\t}\n",
      "\tp8_ee_WW_ecm240 : {\n",
      "\t\thistograms : {\n",
      "\t\t\tsel0 : {\n",
      "\t\t\t\tZm : <class 'hist.hist.Hist'>\tIntegral:127008.0\n",
      "\t\t\t\tZm_zoom : <class 'hist.hist.Hist'>\tIntegral:15828.0\n",
      "\t\t\t\tRecoilm : <class 'hist.hist.Hist'>\tIntegral:126362.0\n",
      "\t\t\t\tRecoilm_zoom : <class 'hist.hist.Hist'>\tIntegral:56352.0\n",
      "\t\t\t\tRecoilm_zoom1 : <class 'hist.hist.Hist'>\tIntegral:12216.0\n",
      "\t\t\t\tRecoilm_zoom2 : <class 'hist.hist.Hist'>\tIntegral:12216.0\n",
      "\t\t\t\tRecoilm_zoom3 : <class 'hist.hist.Hist'>\tIntegral:12216.0\n",
      "\t\t\t\tRecoilm_zoom4 : <class 'hist.hist.Hist'>\tIntegral:12216.0\n",
      "\t\t\t\tRecoilm_zoom5 : <class 'hist.hist.Hist'>\tIntegral:12216.0\n",
      "\t\t\t\tRecoilm_zoom6 : <class 'hist.hist.Hist'>\tIntegral:1436.0\n",
      "\t\t\t\t}\n",
      "\t\t\tsel1 : {\n",
      "\t\t\t\tZm : <class 'hist.hist.Hist'>\tIntegral:15828.0\n",
      "\t\t\t\tZm_zoom : <class 'hist.hist.Hist'>\tIntegral:15828.0\n",
      "\t\t\t\tRecoilm : <class 'hist.hist.Hist'>\tIntegral:15824.0\n",
      "\t\t\t\tRecoilm_zoom : <class 'hist.hist.Hist'>\tIntegral:13626.0\n",
      "\t\t\t\tRecoilm_zoom1 : <class 'hist.hist.Hist'>\tIntegral:4760.0\n",
      "\t\t\t\tRecoilm_zoom2 : <class 'hist.hist.Hist'>\tIntegral:4760.0\n",
      "\t\t\t\tRecoilm_zoom3 : <class 'hist.hist.Hist'>\tIntegral:4760.0\n",
      "\t\t\t\tRecoilm_zoom4 : <class 'hist.hist.Hist'>\tIntegral:4760.0\n",
      "\t\t\t\tRecoilm_zoom5 : <class 'hist.hist.Hist'>\tIntegral:4760.0\n",
      "\t\t\t\tRecoilm_zoom6 : <class 'hist.hist.Hist'>\tIntegral:582.0\n",
      "\t\t\t\t}\n",
      "\t\t\t}\n",
      "\t\tcutflow : {\n",
      "\t\t\tsel0 : <class 'coffea.analysis_tools.Cutflow'>\tInitial events:10000000\n",
      "\t\t\tsel1 : <class 'coffea.analysis_tools.Cutflow'>\tInitial events:10000000\n",
      "\t\t\t}\n",
      "\t\t}\n",
      "\tp8_ee_ZH_ecm240 : {\n",
      "\t\thistograms : {\n",
      "\t\t\tsel0 : {\n",
      "\t\t\t\tZm : <class 'hist.hist.Hist'>\tIntegral:109392.0\n",
      "\t\t\t\tZm_zoom : <class 'hist.hist.Hist'>\tIntegral:89466.0\n",
      "\t\t\t\tRecoilm : <class 'hist.hist.Hist'>\tIntegral:108312.0\n",
      "\t\t\t\tRecoilm_zoom : <class 'hist.hist.Hist'>\tIntegral:101344.0\n",
      "\t\t\t\tRecoilm_zoom1 : <class 'hist.hist.Hist'>\tIntegral:90574.0\n",
      "\t\t\t\tRecoilm_zoom2 : <class 'hist.hist.Hist'>\tIntegral:90574.0\n",
      "\t\t\t\tRecoilm_zoom3 : <class 'hist.hist.Hist'>\tIntegral:90574.0\n",
      "\t\t\t\tRecoilm_zoom4 : <class 'hist.hist.Hist'>\tIntegral:90574.0\n",
      "\t\t\t\tRecoilm_zoom5 : <class 'hist.hist.Hist'>\tIntegral:90574.0\n",
      "\t\t\t\tRecoilm_zoom6 : <class 'hist.hist.Hist'>\tIntegral:6680.0\n",
      "\t\t\t\t}\n",
      "\t\t\tsel1 : {\n",
      "\t\t\t\tZm : <class 'hist.hist.Hist'>\tIntegral:89466.0\n",
      "\t\t\t\tZm_zoom : <class 'hist.hist.Hist'>\tIntegral:89466.0\n",
      "\t\t\t\tRecoilm : <class 'hist.hist.Hist'>\tIntegral:89466.0\n",
      "\t\t\t\tRecoilm_zoom : <class 'hist.hist.Hist'>\tIntegral:89464.0\n",
      "\t\t\t\tRecoilm_zoom1 : <class 'hist.hist.Hist'>\tIntegral:83304.0\n",
      "\t\t\t\tRecoilm_zoom2 : <class 'hist.hist.Hist'>\tIntegral:83304.0\n",
      "\t\t\t\tRecoilm_zoom3 : <class 'hist.hist.Hist'>\tIntegral:83304.0\n",
      "\t\t\t\tRecoilm_zoom4 : <class 'hist.hist.Hist'>\tIntegral:83304.0\n",
      "\t\t\t\tRecoilm_zoom5 : <class 'hist.hist.Hist'>\tIntegral:83304.0\n",
      "\t\t\t\tRecoilm_zoom6 : <class 'hist.hist.Hist'>\tIntegral:6120.0\n",
      "\t\t\t\t}\n",
      "\t\t\t}\n",
      "\t\tcutflow : {\n",
      "\t\t\tsel0 : <class 'coffea.analysis_tools.Cutflow'>\tInitial events:4000000\n",
      "\t\t\tsel1 : <class 'coffea.analysis_tools.Cutflow'>\tInitial events:4000000\n",
      "\t\t\t}\n",
      "\t\t}\n",
      "\t}\n",
      "\n"
     ]
    }
   ],
   "source": [
    "def lazy_summary(d,ntabs=1):\n",
    "    tab = '\\t'*ntabs\n",
    "    print_string ='{\\n'\n",
    "    for key,value in d.items():\n",
    "        print_string += f\"{tab}{key} : \"\n",
    "        if isinstance(value,dict):\n",
    "            print_string += lazy_summary(value, ntabs=ntabs+1)\n",
    "        elif isinstance(value, hist.hist.Hist):\n",
    "            print_string += f\"{type(value)}\\tIntegral:{value.sum()}\\n\"\n",
    "        elif isinstance(value, Cutflow):\n",
    "            print_string += f\"{type(value)}\\tInitial events:{value.result().nevcutflow[0]}\\n\"\n",
    "        else :\n",
    "            print_string += f\"{type(value)}\\n\"\n",
    "    print_string += tab+'}\\n'\n",
    "    return print_string\n",
    "print(lazy_summary(input))"
   ]
  },
  {
   "cell_type": "code",
   "execution_count": 195,
   "id": "24791111-319b-4ad2-bc53-1fefb91cadd5",
   "metadata": {},
   "outputs": [
    {
     "data": {
      "text/plain": [
       "109392.0"
      ]
     },
     "execution_count": 195,
     "metadata": {},
     "output_type": "execute_result"
    }
   ],
   "source": [
    "input['p8_ee_ZH_ecm240']['histograms']['sel0']['Zm'].sum()"
   ]
  },
  {
   "cell_type": "code",
   "execution_count": 166,
   "id": "89487163-7645-4fa3-99b2-817e82216d45",
   "metadata": {},
   "outputs": [],
   "source": []
  }
 ],
 "metadata": {
  "kernelspec": {
   "display_name": "Python 3 (ipykernel)",
   "language": "python",
   "name": "python3"
  },
  "language_info": {
   "codemirror_mode": {
    "name": "ipython",
    "version": 3
   },
   "file_extension": ".py",
   "mimetype": "text/x-python",
   "name": "python",
   "nbconvert_exporter": "python",
   "pygments_lexer": "ipython3",
   "version": "3.12.3"
  }
 },
 "nbformat": 4,
 "nbformat_minor": 5
}
