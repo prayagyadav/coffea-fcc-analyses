{
 "cells": [
  {
   "cell_type": "code",
   "execution_count": 1,
   "id": "accfc2ed-5b18-42e7-8d98-a927ababce14",
   "metadata": {},
   "outputs": [],
   "source": [
    "from coffea.nanoevents import BaseSchema, NanoEventsFactory\n",
    "import dask_awkward as dak\n",
    "import awkward as ak\n",
    "import matplotlib.pyplot as plt\n",
    "import numpy as np\n",
    "import hist\n",
    "import mplhep as hep\n",
    "import numba\n",
    "from coffea.analysis_tools import PackedSelection\n",
    "import vector\n",
    "vector.register_awkward()"
   ]
  },
  {
   "cell_type": "code",
   "execution_count": 2,
   "id": "fd2f67cd-03ee-4957-87cb-c4938c332dc5",
   "metadata": {},
   "outputs": [],
   "source": [
    "events = NanoEventsFactory.from_root(\n",
    "    file=\"../data/p8_ee_ZH_ecm240/events_101027117.root:events\",\n",
    "    schemaclass=BaseSchema,\n",
    "    # schemaclass=DelphesSchema, Doesn't work \n",
    "    # schemaclass=NanoAODSchema.v7, Doesn't work\n",
    "    metadata={\n",
    "        \"path\":\"/eos/experiment/fcc/ee/generation/DelphesEvents/spring2021/IDEA/p8_ee_ZH_ecm240/events_101027117.root\",\n",
    "        \"name\":\"p8_ee_ZH_ecm240\",\n",
    "        \"process\":\"ZH to mumu, ecm=240 GeV\"\n",
    "    }\n",
    ").events()"
   ]
  },
  {
   "cell_type": "code",
   "execution_count": 3,
   "id": "4221ea78-38d1-4fd8-83c8-40801a0d5aae",
   "metadata": {},
   "outputs": [],
   "source": [
    "from coffea.analysis_tools import PackedSelection"
   ]
  },
  {
   "cell_type": "code",
   "execution_count": 4,
   "id": "2c95580e-e6df-4462-bb7a-6422b3c04f02",
   "metadata": {},
   "outputs": [],
   "source": [
    "def index_mask(input_array, index_array):\n",
    "    '''\n",
    "    This function matches the given attribute of ReconstructedParticles (for example energy) to the particle index (for example Muon or Electron)\n",
    "    '''\n",
    "    # input_array = input_array.compute()\n",
    "    # index_array = index_array.compute()\n",
    "    if len(input_array) != len(index_array) :\n",
    "        raise Exception(f'Length of input_array({len(input_array)}) and index_array({len(index_array)}) does not match!')\n",
    "    counts = len(index_array)\n",
    "    \n",
    "    @numba.jit\n",
    "    def numba_wrap(input_array, index_array, counts):\n",
    "        output_array = []\n",
    "        for event_index in range(counts):\n",
    "            event_mask = index_array[event_index]\n",
    "            reco_list = input_array[event_index]\n",
    "            output_array.append([reco_list[i] for i in  event_mask])\n",
    "        return output_array\n",
    "    out = ak.Array(numba_wrap(input_array,index_array,counts))\n",
    "    \n",
    "    return out"
   ]
  },
  {
   "cell_type": "code",
   "execution_count": 10,
   "id": "cc99fa3a-d12f-4b35-adf2-c030344700f7",
   "metadata": {},
   "outputs": [],
   "source": [
    "cut = PackedSelection()\n",
    "Recon = events['ReconstructedParticles/ReconstructedParticles.energy']\n",
    "cut.add('No cut', ak.all(Recon.compute() > 0, axis=1))\n",
    "\n",
    "# Filter out any event with no reconstructed particles and generate Reconstructed Particle Attributes\n",
    "#ak.mask preserves array length\n",
    "Reco_E = ak.mask(events['ReconstructedParticles/ReconstructedParticles.energy'],ak.num(Recon) > 0).compute()\n",
    "Reco_px = ak.mask(events['ReconstructedParticles/ReconstructedParticles.momentum.x'],ak.num(Recon) > 0).compute()\n",
    "Reco_py = ak.mask(events['ReconstructedParticles/ReconstructedParticles.momentum.y'],ak.num(Recon) > 0).compute()\n",
    "Reco_pz = ak.mask(events['ReconstructedParticles/ReconstructedParticles.momentum.z'],ak.num(Recon) > 0).compute()\n",
    "Reco_q = ak.mask(events['ReconstructedParticles/ReconstructedParticles.charge'],ak.num(Recon) > 0).compute()\n",
    "Reco_mass = ak.mask(events['ReconstructedParticles/ReconstructedParticles.mass'],ak.num(Recon) > 0).compute()\n",
    "cut.add('At least one Reco Particle', ak.all(Reco_E > 0, axis=1))\n",
    "\n",
    "# Generate Muon Attributes\n",
    "Muon_index = events['Muon#0/Muon#0.index'].compute()\n",
    "Muon_E = index_mask(Reco_E,Muon_index)\n",
    "Muon_px = index_mask(Reco_px,Muon_index)\n",
    "Muon_py = index_mask(Reco_py,Muon_index)\n",
    "Muon_pz = index_mask(Reco_pz,Muon_index)\n",
    "Muon_q = index_mask(Reco_q,Muon_index)\n",
    "Muon_mass = index_mask(Reco_mass,Muon_index)\n",
    "\n",
    "# Create Array of Muon Lorentz Vector \n",
    "Muon = ak.zip({\"px\":Muon_px,\"py\":Muon_py,\"pz\":Muon_pz,\"E\":Muon_E,\"q\":Muon_q,}, with_name=\"Momentum4D\")\n",
    "\n",
    "# Muon pt > 10\n",
    "Muon_pt_cut = ak.all(Muon.pt > 10, axis=1)\n",
    "Muon = ak.mask(Muon, Muon_pt_cut) #ak.mask to preserve number of events\n",
    "cut.add('Muon $p_T$ > 10 [GeV]',Muon_pt_cut)\n",
    "\n",
    "# Produce all the combinations of Muon Pairs possible within an event\n",
    "combs = ak.combinations(Muon,2)\n",
    "\n",
    "# Get dimuons\n",
    "mu1 , mu2 = ak.unzip(combs)\n",
    "di_muon = mu1 + mu2\n",
    "\n",
    "# Selection 0 : Only one Z candidate in an event\n",
    "di_muon = ak.mask(di_muon, ak.num(di_muon) == 1)\n",
    "di_muon_mass = ak.flatten(di_muon.mass)\n",
    "cut.add('$N_Z$',ak.num(Muon) == 2 ) #Having one Z candidate is same as having exactly two muons in an even\n",
    "\n",
    "# Choose dimuon which is made up of two oppositely charged muons\n",
    "q_sum = mu1.q + mu2.q\n",
    "q_sum_array = ak.mask(q_sum, ak.num(q_sum) == 1)\n",
    "q_sum_mask = ak.all(q_sum_array == 0, axis=1)\n",
    "Z_cand = ak.mask(di_muon , q_sum_mask)\n",
    "cut.add('Opp charge muons',q_sum_mask)\n",
    "\n",
    "#Recoil Calculation\n",
    "ecm = 240 #GeV # com energy\n",
    "initial = ak.zip({\"px\":0,\"py\":0,\"pz\":0,\"E\":ecm}, with_name=\"Momentum4D\")\n",
    "Recoil = initial - Z_cand\n",
    "\n",
    "# Selection 1 : Selection 0 + 80 < M_Z < 100\n",
    "zmassmask = (Z_cand.mass > 80) & (Z_cand.mass < 100)\n",
    "Z_cand_sel1 = Z_cand[zmassmask]\n",
    "Recoil_sel1 = Recoil[zmassmask]\n",
    "zmassmask = ak.fill_none(zmassmask,[False],axis=0) #Replace None values at axis 0 with [False]\n",
    "zmassmask = ak.flatten(zmassmask)\n",
    "cut.add('80 < $M_Z$ < 100',zmassmask)\n",
    "\n",
    "#Prepare cutflows\n",
    "sel0_list = ['No cut','At least one Reco Particle', 'Muon $p_T$ > 10 [GeV]', '$N_Z$', 'Opp charge muons' ]\n",
    "sel1_list = ['No cut','At least one Reco Particle', 'Muon $p_T$ > 10 [GeV]', '$N_Z$', 'Opp charge muons', '80 < $M_Z$ < 100']\n",
    "sel0 = cut.cutflow(*sel0_list)\n",
    "sel1 = cut.cutflow(*sel1_list)\n",
    "\n",
    "#Prepare output\n",
    "Output = {\n",
    "    'histograms': {\n",
    "        'sel0': {\n",
    "        'Zm': hist.Hist.new.Regular(125,0,250).Double().fill(ak.flatten(Z_cand.mass)),\n",
    "        'Zm_zoom' : hist.Hist.new.Regular(40,80,100).Double().fill(ak.flatten(Z_cand.mass)),\n",
    "        'Recoilm': hist.Hist.new.Regular(100,0,200).Double().fill(ak.flatten(Recoil.mass)),\n",
    "        'Recoilm_zoom' : hist.Hist.new.Regular(200,80,160).Double().fill(ak.flatten(Recoil.mass)),\n",
    "        'Recoilm_zoom1' : hist.Hist.new.Regular(100,120,140).Double().fill(ak.flatten(Recoil.mass)),\n",
    "        'Recoilm_zoom2' : hist.Hist.new.Regular(200,120,140).Double().fill(ak.flatten(Recoil.mass)),\n",
    "        'Recoilm_zoom3' : hist.Hist.new.Regular(400,120,140).Double().fill(ak.flatten(Recoil.mass)),\n",
    "        'Recoilm_zoom4' : hist.Hist.new.Regular(800,120,140).Double().fill(ak.flatten(Recoil.mass)),\n",
    "        'Recoilm_zoom5' : hist.Hist.new.Regular(2000,120,140).Double().fill(ak.flatten(Recoil.mass)),\n",
    "        'Recoilm_zoom6' : hist.Hist.new.Regular(100,130.3,132.5).Double().fill(ak.flatten(Recoil.mass))\n",
    "        },\n",
    "        'sel1': {\n",
    "        'Zm': hist.Hist.new.Regular(125,0,250).Double().fill(ak.flatten(Z_cand_sel1.mass)),\n",
    "        'Zm_zoom' : hist.Hist.new.Regular(40,80,100).Double().fill(ak.flatten(Z_cand_sel1.mass)),\n",
    "        'Recoilm': hist.Hist.new.Regular(100,0,200).Double().fill(ak.flatten(Recoil_sel1.mass)),\n",
    "        'Recoilm_zoom' : hist.Hist.new.Regular(200,80,160).Double().fill(ak.flatten(Recoil_sel1.mass)),\n",
    "        'Recoilm_zoom1' : hist.Hist.new.Regular(100,120,140).Double().fill(ak.flatten(Recoil_sel1.mass)),\n",
    "        'Recoilm_zoom2' : hist.Hist.new.Regular(200,120,140).Double().fill(ak.flatten(Recoil_sel1.mass)),\n",
    "        'Recoilm_zoom3' : hist.Hist.new.Regular(400,120,140).Double().fill(ak.flatten(Recoil_sel1.mass)),\n",
    "        'Recoilm_zoom4' : hist.Hist.new.Regular(800,120,140).Double().fill(ak.flatten(Recoil_sel1.mass)),\n",
    "        'Recoilm_zoom5' : hist.Hist.new.Regular(2000,120,140).Double().fill(ak.flatten(Recoil_sel1.mass)),\n",
    "        'Recoilm_zoom6' : hist.Hist.new.Regular(100,130.3,132.5).Double().fill(ak.flatten(Recoil_sel1.mass))\n",
    "        }\n",
    "    },\n",
    "    'cutflow': { #cutflow objects\n",
    "        'sel0': sel0,\n",
    "        'sel1': sel1\n",
    "    }\n",
    "}"
   ]
  },
  {
   "cell_type": "code",
   "execution_count": 11,
   "id": "0244a864-f407-4557-875a-9d17a512b594",
   "metadata": {},
   "outputs": [
    {
     "data": {
      "text/plain": [
       "{'histograms': {'sel0': {'Zm': Hist(Regular(125, 0, 250, label='Axis 0'), storage=Double()) # Sum: 2760.0,\n",
       "   'Zm_zoom': Hist(Regular(40, 80, 100, label='Axis 0'), storage=Double()) # Sum: 2236.0 (2760.0 with flow),\n",
       "   'Recoilm': Hist(Regular(100, 0, 200, label='Axis 0'), storage=Double()) # Sum: 2738.0 (2760.0 with flow),\n",
       "   'Recoilm_zoom': Hist(Regular(200, 80, 160, label='Axis 0'), storage=Double()) # Sum: 2549.0 (2760.0 with flow),\n",
       "   'Recoilm_zoom1': Hist(Regular(100, 120, 140, label='Axis 0'), storage=Double()) # Sum: 2246.0 (2760.0 with flow),\n",
       "   'Recoilm_zoom2': Hist(Regular(200, 120, 140, label='Axis 0'), storage=Double()) # Sum: 2246.0 (2760.0 with flow),\n",
       "   'Recoilm_zoom3': Hist(Regular(400, 120, 140, label='Axis 0'), storage=Double()) # Sum: 2246.0 (2760.0 with flow),\n",
       "   'Recoilm_zoom4': Hist(Regular(800, 120, 140, label='Axis 0'), storage=Double()) # Sum: 2246.0 (2760.0 with flow),\n",
       "   'Recoilm_zoom5': Hist(Regular(2000, 120, 140, label='Axis 0'), storage=Double()) # Sum: 2246.0 (2760.0 with flow),\n",
       "   'Recoilm_zoom6': Hist(Regular(100, 130.3, 132.5, label='Axis 0'), storage=Double()) # Sum: 163.0 (2760.0 with flow)},\n",
       "  'sel1': {'Zm': Hist(Regular(125, 0, 250, label='Axis 0'), storage=Double()) # Sum: 2236.0,\n",
       "   'Zm_zoom': Hist(Regular(40, 80, 100, label='Axis 0'), storage=Double()) # Sum: 2236.0,\n",
       "   'Recoilm': Hist(Regular(100, 0, 200, label='Axis 0'), storage=Double()) # Sum: 2236.0,\n",
       "   'Recoilm_zoom': Hist(Regular(200, 80, 160, label='Axis 0'), storage=Double()) # Sum: 2236.0,\n",
       "   'Recoilm_zoom1': Hist(Regular(100, 120, 140, label='Axis 0'), storage=Double()) # Sum: 2067.0 (2236.0 with flow),\n",
       "   'Recoilm_zoom2': Hist(Regular(200, 120, 140, label='Axis 0'), storage=Double()) # Sum: 2067.0 (2236.0 with flow),\n",
       "   'Recoilm_zoom3': Hist(Regular(400, 120, 140, label='Axis 0'), storage=Double()) # Sum: 2067.0 (2236.0 with flow),\n",
       "   'Recoilm_zoom4': Hist(Regular(800, 120, 140, label='Axis 0'), storage=Double()) # Sum: 2067.0 (2236.0 with flow),\n",
       "   'Recoilm_zoom5': Hist(Regular(2000, 120, 140, label='Axis 0'), storage=Double()) # Sum: 2067.0 (2236.0 with flow),\n",
       "   'Recoilm_zoom6': Hist(Regular(100, 130.3, 132.5, label='Axis 0'), storage=Double()) # Sum: 146.0 (2236.0 with flow)}},\n",
       " 'cutflow': {'sel0': Cutflow(selections=('No cut', 'At least one Reco Particle', 'Muon $p_T$ > 10 [GeV]', '$N_Z$', 'Opp charge muons')),\n",
       "  'sel1': Cutflow(selections=('No cut', 'At least one Reco Particle', 'Muon $p_T$ > 10 [GeV]', '$N_Z$', 'Opp charge muons', '80 < $M_Z$ < 100'))}}"
      ]
     },
     "execution_count": 11,
     "metadata": {},
     "output_type": "execute_result"
    }
   ],
   "source": [
    "Output"
   ]
  },
  {
   "cell_type": "code",
   "execution_count": 12,
   "id": "7397dc03-09b8-469a-9a81-5e76f9a232d9",
   "metadata": {},
   "outputs": [],
   "source": [
    "cut = Output['cutflow']['sel0']"
   ]
  },
  {
   "cell_type": "code",
   "execution_count": 13,
   "id": "23b12483-0568-438c-bf63-b89700e783d6",
   "metadata": {},
   "outputs": [
    {
     "data": {
      "text/plain": [
       "['initial',\n",
       " 'No cut',\n",
       " 'At least one Reco Particle',\n",
       " 'Muon $p_T$ > 10 [GeV]',\n",
       " '$N_Z$',\n",
       " 'Opp charge muons']"
      ]
     },
     "execution_count": 13,
     "metadata": {},
     "output_type": "execute_result"
    }
   ],
   "source": [
    "cut.result().labels"
   ]
  },
  {
   "cell_type": "code",
   "execution_count": 14,
   "id": "0ec0d2ff-f3ba-4c32-9bd4-7f6b17c71c2d",
   "metadata": {},
   "outputs": [
    {
     "name": "stdout",
     "output_type": "stream",
     "text": [
      "Cutflow stats:\n",
      "Cut No cut              :pass = 100000              cumulative pass = 100000              all = 100000              -- eff = 100.0 %                    -- cumulative eff = 100.0 %\n",
      "Cut At least one Reco Particle:pass = 99984               cumulative pass = 99984               all = 100000              -- eff = 100.0 %                    -- cumulative eff = 100.0 %\n",
      "Cut Muon $p_T$ > 10 [GeV]:pass = 97235               cumulative pass = 97219               all = 100000              -- eff = 97.2 %                    -- cumulative eff = 97.2 %\n",
      "Cut $N_Z$               :pass = 2775                cumulative pass = 2775                all = 100000              -- eff = 2.8 %                    -- cumulative eff = 2.8 %\n",
      "Cut Opp charge muons    :pass = 2760                cumulative pass = 2760                all = 100000              -- eff = 2.8 %                    -- cumulative eff = 2.8 %\n"
     ]
    }
   ],
   "source": [
    "cut.print()"
   ]
  },
  {
   "cell_type": "code",
   "execution_count": null,
   "id": "05cd9ce1-981c-4379-8bec-ecf99923ede6",
   "metadata": {},
   "outputs": [],
   "source": []
  }
 ],
 "metadata": {
  "kernelspec": {
   "display_name": "Python 3 (ipykernel)",
   "language": "python",
   "name": "python3"
  },
  "language_info": {
   "codemirror_mode": {
    "name": "ipython",
    "version": 3
   },
   "file_extension": ".py",
   "mimetype": "text/x-python",
   "name": "python",
   "nbconvert_exporter": "python",
   "pygments_lexer": "ipython3",
   "version": "3.12.3"
  }
 },
 "nbformat": 4,
 "nbformat_minor": 5
}
