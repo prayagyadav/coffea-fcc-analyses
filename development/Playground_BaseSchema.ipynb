{
 "cells": [
  {
   "cell_type": "code",
   "execution_count": 63,
   "id": "accfc2ed-5b18-42e7-8d98-a927ababce14",
   "metadata": {},
   "outputs": [],
   "source": [
    "from coffea.nanoevents import BaseSchema, NanoEventsFactory\n",
    "import dask_awkward as dak\n",
    "import awkward as ak\n",
    "import matplotlib.pyplot as plt\n",
    "import numpy as np\n",
    "import hist\n",
    "import mplhep as hep\n",
    "import numba\n",
    "import vector\n",
    "vector.register_awkward()"
   ]
  },
  {
   "cell_type": "code",
   "execution_count": 64,
   "id": "fd2f67cd-03ee-4957-87cb-c4938c332dc5",
   "metadata": {},
   "outputs": [],
   "source": [
    "events = NanoEventsFactory.from_root(\n",
    "    file=\"../data/p8_ee_ZH_ecm240/events_101027117.root:events\",\n",
    "    schemaclass=BaseSchema,\n",
    "    # schemaclass=DelphesSchema, Doesn't work \n",
    "    # schemaclass=NanoAODSchema.v7, Doesn't work\n",
    "    metadata={\n",
    "        \"path\":\"/eos/experiment/fcc/ee/generation/DelphesEvents/spring2021/IDEA/p8_ee_ZH_ecm240/events_101027117.root\",\n",
    "        \"name\":\"p8_ee_ZH_ecm240\",\n",
    "        \"process\":\"ZH to mumu, ecm=240 GeV\"\n",
    "    }\n",
    ").events()"
   ]
  },
  {
   "cell_type": "code",
   "execution_count": 65,
   "id": "4221ea78-38d1-4fd8-83c8-40801a0d5aae",
   "metadata": {},
   "outputs": [],
   "source": [
    "from coffea.analysis_tools import PackedSelection"
   ]
  },
  {
   "cell_type": "code",
   "execution_count": 66,
   "id": "2c95580e-e6df-4462-bb7a-6422b3c04f02",
   "metadata": {},
   "outputs": [],
   "source": [
    "def index_mask(input_array, index_array):\n",
    "    '''\n",
    "    This function matches the given attribute of ReconstructedParticles (for example energy) to the particle index (for example Muon or Electron)\n",
    "    '''\n",
    "    input_array = input_array.compute()\n",
    "    index_array = index_array.compute()\n",
    "    if len(input_array) != len(index_array) :\n",
    "        raise Exception('Length of Input_array and index_array does not match!')\n",
    "    counts = len(ak.count(input_array, axis = 1))\n",
    "    @numba.jit\n",
    "    def numba_wrap(input_array, index_array,counts):\n",
    "        output_array = []\n",
    "        for event_index in range(counts):\n",
    "            event_mask = index_array[event_index]\n",
    "            reco_list = input_array[event_index]\n",
    "            output_array.append([reco_list[i] for i in  event_mask])\n",
    "        return output_array\n",
    "    out = ak.Array(numba_wrap(input_array,index_array,counts))\n",
    "    # parts = ak.num(out, axis=0)\n",
    "    # return dak.from_awkward(out,npartitions=int(parts))\n",
    "    return out"
   ]
  },
  {
   "cell_type": "code",
   "execution_count": 67,
   "id": "359d8558-2bb4-46f8-8a10-9e84a383961e",
   "metadata": {},
   "outputs": [
    {
     "ename": "NameError",
     "evalue": "name 'cut' is not defined",
     "output_type": "error",
     "traceback": [
      "\u001b[0;31m---------------------------------------------------------------------------\u001b[0m",
      "\u001b[0;31mNameError\u001b[0m                                 Traceback (most recent call last)",
      "Cell \u001b[0;32mIn[67], line 15\u001b[0m\n\u001b[1;32m     13\u001b[0m Reco_q \u001b[38;5;241m=\u001b[39m useful_events[\u001b[38;5;124m'\u001b[39m\u001b[38;5;124mReconstructedParticles/ReconstructedParticles.charge\u001b[39m\u001b[38;5;124m'\u001b[39m]\u001b[38;5;66;03m#.compute()\u001b[39;00m\n\u001b[1;32m     14\u001b[0m Reco_mass \u001b[38;5;241m=\u001b[39m useful_events[\u001b[38;5;124m'\u001b[39m\u001b[38;5;124mReconstructedParticles/ReconstructedParticles.mass\u001b[39m\u001b[38;5;124m'\u001b[39m]\u001b[38;5;66;03m#.compute()\u001b[39;00m\n\u001b[0;32m---> 15\u001b[0m \u001b[43mcut\u001b[49m\u001b[38;5;241m.\u001b[39madd(\u001b[38;5;124m'\u001b[39m\u001b[38;5;124mAt least one Reconstructed Particle\u001b[39m\u001b[38;5;124m'\u001b[39m, ak\u001b[38;5;241m.\u001b[39mall(Reco_E \u001b[38;5;241m>\u001b[39m \u001b[38;5;241m0\u001b[39m, axis\u001b[38;5;241m=\u001b[39m\u001b[38;5;241m1\u001b[39m))\n\u001b[1;32m     17\u001b[0m \u001b[38;5;66;03m# Generate Muon Attributes\u001b[39;00m\n\u001b[1;32m     18\u001b[0m Muon_index \u001b[38;5;241m=\u001b[39m useful_events[\u001b[38;5;124m'\u001b[39m\u001b[38;5;124mMuon#0/Muon#0.index\u001b[39m\u001b[38;5;124m'\u001b[39m]\u001b[38;5;66;03m#.compute()\u001b[39;00m\n",
      "\u001b[0;31mNameError\u001b[0m: name 'cut' is not defined"
     ]
    }
   ],
   "source": [
    "cut = PackedSelection()\n",
    "\n",
    "# Filter out any event with no reconstructed particles\n",
    "Recon = events['ReconstructedParticles/ReconstructedParticles.energy']#.compute()\n",
    "useful_events = events[ak.num(Recon) > 0]\n",
    "\n",
    "\n",
    "# Generate Reconstructed Particle Attributes\n",
    "Reco_E = useful_events['ReconstructedParticles/ReconstructedParticles.energy']#.compute()\n",
    "Reco_px = useful_events['ReconstructedParticles/ReconstructedParticles.momentum.x']#.compute()\n",
    "Reco_py = useful_events['ReconstructedParticles/ReconstructedParticles.momentum.y']#.compute()\n",
    "Reco_pz = useful_events['ReconstructedParticles/ReconstructedParticles.momentum.z']#.compute()\n",
    "Reco_q = useful_events['ReconstructedParticles/ReconstructedParticles.charge']#.compute()\n",
    "Reco_mass = useful_events['ReconstructedParticles/ReconstructedParticles.mass']#.compute()\n",
    "cut.add('At least one Reconstructed Particle', ak.all(Reco_E > 0, axis=1))\n",
    "\n",
    "# Generate Muon Attributes\n",
    "Muon_index = useful_events['Muon#0/Muon#0.index']#.compute()\n",
    "Muon_E = index_mask(Reco_E,Muon_index)\n",
    "Muon_px = index_mask(Reco_px,Muon_index)\n",
    "Muon_py = index_mask(Reco_py,Muon_index)\n",
    "Muon_pz = index_mask(Reco_pz,Muon_index)\n",
    "Muon_q = index_mask(Reco_q,Muon_index)\n",
    "Muon_mass = index_mask(Reco_mass,Muon_index)\n",
    "\n",
    "# Create Array of Muon Lorentz Vector \n",
    "Muon = ak.zip({\"px\":Muon_px,\"py\":Muon_py,\"pz\":Muon_pz,\"E\":Muon_E,\"q\":Muon_q,}, with_name=\"Momentum4D\")\n",
    "\n",
    "# Muon pt > 10\n",
    "Muon_pt_cut = ak.all(Muon.pt > 10, axis=1)\n",
    "Muon = Muon[Muon_pt_cut]\n",
    "cut.add('Muon $p_T$ > 10 [GeV]',Muon_pt_cut)"
   ]
  },
  {
   "cell_type": "code",
   "execution_count": null,
   "id": "fca7bc98-17d0-43a3-8d7b-4bdec5745242",
   "metadata": {},
   "outputs": [],
   "source": []
  }
 ],
 "metadata": {
  "kernelspec": {
   "display_name": "Python 3 (ipykernel)",
   "language": "python",
   "name": "python3"
  },
  "language_info": {
   "codemirror_mode": {
    "name": "ipython",
    "version": 3
   },
   "file_extension": ".py",
   "mimetype": "text/x-python",
   "name": "python",
   "nbconvert_exporter": "python",
   "pygments_lexer": "ipython3",
   "version": "3.12.3"
  }
 },
 "nbformat": 4,
 "nbformat_minor": 5
}
