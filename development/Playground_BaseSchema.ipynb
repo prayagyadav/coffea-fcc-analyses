{
 "cells": [
  {
   "cell_type": "code",
   "execution_count": 107,
   "id": "accfc2ed-5b18-42e7-8d98-a927ababce14",
   "metadata": {},
   "outputs": [],
   "source": [
    "from coffea.nanoevents import BaseSchema, NanoEventsFactory\n",
    "import dask_awkward as dak\n",
    "import awkward as ak\n",
    "import matplotlib.pyplot as plt\n",
    "import numpy as np\n",
    "import hist\n",
    "import mplhep as hep\n",
    "import numba\n",
    "import vector\n",
    "vector.register_awkward()"
   ]
  },
  {
   "cell_type": "code",
   "execution_count": 119,
   "id": "fd2f67cd-03ee-4957-87cb-c4938c332dc5",
   "metadata": {},
   "outputs": [],
   "source": [
    "events = NanoEventsFactory.from_root(\n",
    "    file=\"../data/p8_ee_ZH_ecm240/events_101027117.root:events\",\n",
    "    schemaclass=BaseSchema,\n",
    "    # schemaclass=DelphesSchema, Doesn't work \n",
    "    # schemaclass=NanoAODSchema.v7, Doesn't work\n",
    "    metadata={\n",
    "        \"path\":\"/eos/experiment/fcc/ee/generation/DelphesEvents/spring2021/IDEA/p8_ee_ZH_ecm240/events_101027117.root\",\n",
    "        \"name\":\"p8_ee_ZH_ecm240\",\n",
    "        \"process\":\"ZH to mumu, ecm=240 GeV\"\n",
    "    }\n",
    ").events()"
   ]
  },
  {
   "cell_type": "code",
   "execution_count": 120,
   "id": "4221ea78-38d1-4fd8-83c8-40801a0d5aae",
   "metadata": {},
   "outputs": [],
   "source": [
    "from coffea.analysis_tools import PackedSelection"
   ]
  },
  {
   "cell_type": "code",
   "execution_count": 121,
   "id": "2c95580e-e6df-4462-bb7a-6422b3c04f02",
   "metadata": {},
   "outputs": [],
   "source": [
    "def index_mask(input_array, index_array):\n",
    "    '''\n",
    "    This function matches the given attribute of ReconstructedParticles (for example energy) to the particle index (for example Muon or Electron)\n",
    "    '''\n",
    "    # input_array = input_array.compute()\n",
    "    # index_array = index_array.compute()\n",
    "    if len(input_array) != len(index_array) :\n",
    "        raise Exception(f'Length of input_array({len(input_array)}) and index_array({len(index_array)}) does not match!')\n",
    "    counts = len(index_array)\n",
    "    \n",
    "    @numba.jit\n",
    "    def numba_wrap(input_array, index_array, counts):\n",
    "        output_array = []\n",
    "        for event_index in range(counts):\n",
    "            event_mask = index_array[event_index]\n",
    "            reco_list = input_array[event_index]\n",
    "            output_array.append([reco_list[i] for i in  event_mask])\n",
    "        return output_array\n",
    "    out = ak.Array(numba_wrap(input_array,index_array,counts))\n",
    "    \n",
    "    return out"
   ]
  },
  {
   "cell_type": "code",
   "execution_count": 195,
   "id": "359d8558-2bb4-46f8-8a10-9e84a383961e",
   "metadata": {},
   "outputs": [
    {
     "name": "stdout",
     "output_type": "stream",
     "text": [
      "[None, None, None, None, None, None, ..., None, None, None, None, None, None]\n"
     ]
    },
    {
     "ename": "ValueError",
     "evalue": "New selection '80 < $M_Z$ < 100' has a different shape than existing selections ((2760,) vs. (99984,))",
     "output_type": "error",
     "traceback": [
      "\u001b[0;31m---------------------------------------------------------------------------\u001b[0m",
      "\u001b[0;31mValueError\u001b[0m                                Traceback (most recent call last)",
      "Cell \u001b[0;32mIn[195], line 66\u001b[0m\n\u001b[1;32m     64\u001b[0m zmassmask \u001b[38;5;241m=\u001b[39m ak\u001b[38;5;241m.\u001b[39mfill_none(zmassmask,[],axis\u001b[38;5;241m=\u001b[39m\u001b[38;5;241m0\u001b[39m)\n\u001b[1;32m     65\u001b[0m zmassmask \u001b[38;5;241m=\u001b[39m ak\u001b[38;5;241m.\u001b[39mflatten(zmassmask)\n\u001b[0;32m---> 66\u001b[0m \u001b[43mcut\u001b[49m\u001b[38;5;241;43m.\u001b[39;49m\u001b[43madd\u001b[49m\u001b[43m(\u001b[49m\u001b[38;5;124;43m'\u001b[39;49m\u001b[38;5;124;43m80 < $M_Z$ < 100\u001b[39;49m\u001b[38;5;124;43m'\u001b[39;49m\u001b[43m,\u001b[49m\u001b[43mzmassmask\u001b[49m\u001b[43m)\u001b[49m\n",
      "File \u001b[0;32m~/.local/lib/python3.12/site-packages/coffea/analysis_tools.py:1198\u001b[0m, in \u001b[0;36mPackedSelection.add\u001b[0;34m(self, name, selection, fill_value)\u001b[0m\n\u001b[1;32m   1196\u001b[0m selection \u001b[38;5;241m=\u001b[39m coffea\u001b[38;5;241m.\u001b[39mutil\u001b[38;5;241m.\u001b[39m_ensure_flat(selection, allow_missing\u001b[38;5;241m=\u001b[39m\u001b[38;5;28;01mTrue\u001b[39;00m)\n\u001b[1;32m   1197\u001b[0m \u001b[38;5;28;01mif\u001b[39;00m \u001b[38;5;28misinstance\u001b[39m(selection, numpy\u001b[38;5;241m.\u001b[39mndarray):\n\u001b[0;32m-> 1198\u001b[0m     \u001b[38;5;28;43mself\u001b[39;49m\u001b[38;5;241;43m.\u001b[39;49m\u001b[43m__add_eager\u001b[49m\u001b[43m(\u001b[49m\u001b[43mname\u001b[49m\u001b[43m,\u001b[49m\u001b[43m \u001b[49m\u001b[43mselection\u001b[49m\u001b[43m,\u001b[49m\u001b[43m \u001b[49m\u001b[43mfill_value\u001b[49m\u001b[43m)\u001b[49m\n\u001b[1;32m   1199\u001b[0m \u001b[38;5;28;01melif\u001b[39;00m \u001b[38;5;28misinstance\u001b[39m(selection, dask_awkward\u001b[38;5;241m.\u001b[39mArray):\n\u001b[1;32m   1200\u001b[0m     \u001b[38;5;28mself\u001b[39m\u001b[38;5;241m.\u001b[39m__add_delayed(name, selection, fill_value)\n",
      "File \u001b[0;32m~/.local/lib/python3.12/site-packages/coffea/analysis_tools.py:1166\u001b[0m, in \u001b[0;36mPackedSelection.__add_eager\u001b[0;34m(self, name, selection, fill_value)\u001b[0m\n\u001b[1;32m   1162\u001b[0m     \u001b[38;5;28;01mraise\u001b[39;00m \u001b[38;5;167;01mRuntimeError\u001b[39;00m(\n\u001b[1;32m   1163\u001b[0m         \u001b[38;5;124mf\u001b[39m\u001b[38;5;124m\"\u001b[39m\u001b[38;5;124mExhausted all slots in PackedSelection: \u001b[39m\u001b[38;5;132;01m{\u001b[39;00m\u001b[38;5;28mself\u001b[39m\u001b[38;5;132;01m}\u001b[39;00m\u001b[38;5;124m, consider a larger dtype or fewer selections\u001b[39m\u001b[38;5;124m\"\u001b[39m\n\u001b[1;32m   1164\u001b[0m     )\n\u001b[1;32m   1165\u001b[0m \u001b[38;5;28;01melif\u001b[39;00m \u001b[38;5;28mself\u001b[39m\u001b[38;5;241m.\u001b[39m_data\u001b[38;5;241m.\u001b[39mshape \u001b[38;5;241m!=\u001b[39m selection\u001b[38;5;241m.\u001b[39mshape:\n\u001b[0;32m-> 1166\u001b[0m     \u001b[38;5;28;01mraise\u001b[39;00m \u001b[38;5;167;01mValueError\u001b[39;00m(\n\u001b[1;32m   1167\u001b[0m         \u001b[38;5;124mf\u001b[39m\u001b[38;5;124m\"\u001b[39m\u001b[38;5;124mNew selection \u001b[39m\u001b[38;5;124m'\u001b[39m\u001b[38;5;132;01m{\u001b[39;00mname\u001b[38;5;132;01m}\u001b[39;00m\u001b[38;5;124m'\u001b[39m\u001b[38;5;124m has a different shape than existing selections (\u001b[39m\u001b[38;5;132;01m{\u001b[39;00mselection\u001b[38;5;241m.\u001b[39mshape\u001b[38;5;132;01m}\u001b[39;00m\u001b[38;5;124m vs. \u001b[39m\u001b[38;5;132;01m{\u001b[39;00m\u001b[38;5;28mself\u001b[39m\u001b[38;5;241m.\u001b[39m_data\u001b[38;5;241m.\u001b[39mshape\u001b[38;5;132;01m}\u001b[39;00m\u001b[38;5;124m)\u001b[39m\u001b[38;5;124m\"\u001b[39m\n\u001b[1;32m   1168\u001b[0m     )\n\u001b[1;32m   1169\u001b[0m numpy\u001b[38;5;241m.\u001b[39mbitwise_or(\n\u001b[1;32m   1170\u001b[0m     \u001b[38;5;28mself\u001b[39m\u001b[38;5;241m.\u001b[39m_data,\n\u001b[1;32m   1171\u001b[0m     \u001b[38;5;28mself\u001b[39m\u001b[38;5;241m.\u001b[39m_dtype\u001b[38;5;241m.\u001b[39mtype(\u001b[38;5;241m1\u001b[39m \u001b[38;5;241m<<\u001b[39m \u001b[38;5;28mlen\u001b[39m(\u001b[38;5;28mself\u001b[39m\u001b[38;5;241m.\u001b[39m_names)),\n\u001b[1;32m   1172\u001b[0m     where\u001b[38;5;241m=\u001b[39mselection,\n\u001b[1;32m   1173\u001b[0m     out\u001b[38;5;241m=\u001b[39m\u001b[38;5;28mself\u001b[39m\u001b[38;5;241m.\u001b[39m_data,\n\u001b[1;32m   1174\u001b[0m )\n\u001b[1;32m   1175\u001b[0m \u001b[38;5;28mself\u001b[39m\u001b[38;5;241m.\u001b[39m_names\u001b[38;5;241m.\u001b[39mappend(name)\n",
      "\u001b[0;31mValueError\u001b[0m: New selection '80 < $M_Z$ < 100' has a different shape than existing selections ((2760,) vs. (99984,))"
     ]
    }
   ],
   "source": [
    "cut = PackedSelection()\n",
    "\n",
    "# Filter out any event with no reconstructed particles\n",
    "Recon = events['ReconstructedParticles/ReconstructedParticles.energy'].compute()\n",
    "useful_events = events[ak.num(Recon) > 0]\n",
    "\n",
    "\n",
    "# Generate Reconstructed Particle Attributes\n",
    "Reco_E = useful_events['ReconstructedParticles/ReconstructedParticles.energy'].compute()\n",
    "Reco_px = useful_events['ReconstructedParticles/ReconstructedParticles.momentum.x'].compute()\n",
    "Reco_py = useful_events['ReconstructedParticles/ReconstructedParticles.momentum.y'].compute()\n",
    "Reco_pz = useful_events['ReconstructedParticles/ReconstructedParticles.momentum.z'].compute()\n",
    "Reco_q = useful_events['ReconstructedParticles/ReconstructedParticles.charge'].compute()\n",
    "Reco_mass = useful_events['ReconstructedParticles/ReconstructedParticles.mass'].compute()\n",
    "cut.add('At least one Reconstructed Particle', ak.all(Reco_E > 0, axis=1))#.compute())\n",
    "\n",
    "# Generate Muon Attributes\n",
    "Muon_index = useful_events['Muon#0/Muon#0.index'].compute()\n",
    "Muon_E = index_mask(Reco_E,Muon_index)\n",
    "Muon_px = index_mask(Reco_px,Muon_index)\n",
    "Muon_py = index_mask(Reco_py,Muon_index)\n",
    "Muon_pz = index_mask(Reco_pz,Muon_index)\n",
    "Muon_q = index_mask(Reco_q,Muon_index)\n",
    "Muon_mass = index_mask(Reco_mass,Muon_index)\n",
    "\n",
    "# Create Array of Muon Lorentz Vector \n",
    "Muon = ak.zip({\"px\":Muon_px,\"py\":Muon_py,\"pz\":Muon_pz,\"E\":Muon_E,\"q\":Muon_q,}, with_name=\"Momentum4D\")\n",
    "\n",
    "# Muon pt > 10\n",
    "Muon_pt_cut = ak.all(Muon.pt > 10, axis=1)\n",
    "Muon = ak.mask(Muon, Muon_pt_cut) #ak.mask to preserve number of events\n",
    "cut.add('Muon $p_T$ > 10 [GeV]',Muon_pt_cut)\n",
    "\n",
    "# Produce all the combinations of Muon Pairs possible within an event\n",
    "combs = ak.combinations(Muon,2)\n",
    "\n",
    "# Get dimuons\n",
    "mu1 , mu2 = ak.unzip(combs)\n",
    "di_muon = mu1 + mu2\n",
    "\n",
    "# Selection 0 : Only one Z candidate in an event\n",
    "di_muon = ak.mask(di_muon, ak.num(di_muon) == 1)\n",
    "di_muon_mass = ak.flatten(di_muon.mass)\n",
    "cut.add('$N_Z$',ak.num(Muon) == 2 ) #Having one Z candidate is same as having exactly two muons in an event\n",
    "# di_muon_mass = ak.Array([i[0] for i in ak.sort(di_muon.mass, ascending=False)])\n",
    "\n",
    "# Choose dimuon which is made up of two oppositely charged muons\n",
    "q_sum = mu1.q + mu2.q\n",
    "q_sum_array = ak.mask(q_sum, ak.num(q_sum) == 1)\n",
    "q_sum_mask = ak.all(q_sum_array == 0, axis=1)\n",
    "Z_cand = ak.mask(di_muon , q_sum_mask)\n",
    "cut.add('Opp charge muons',q_sum_mask)\n",
    "\n",
    "#Recoil Calculation\n",
    "ecm = 240 #GeV # com energy\n",
    "initial = ak.zip({\"px\":0,\"py\":0,\"pz\":0,\"E\":ecm}, with_name=\"Momentum4D\")\n",
    "Recoil = initial - Z_cand\n",
    "\n",
    "# Selection 1 : Selection 0 + 80 < M_Z < 100\n",
    "zmassmask = (Z_cand.mass > 80) & (Z_cand.mass < 100)\n",
    "Z_cand_sel1 = ak.mask(Z_cand, zmassmask)\n",
    "Recoil_sel1 = ak.mask(Recoil, zmassmask)\n",
    "print(zmassmask)\n",
    "zmassmask = ak.fill_none(zmassmask,[False],axis=0)\n",
    "zmassmask = ak.flatten(zmassmask)\n",
    "cut.add('80 < $M_Z$ < 100',zmassmask)"
   ]
  },
  {
   "cell_type": "code",
   "execution_count": 187,
   "id": "ccf42d83-0f7c-4ec9-9f10-72db4bc7d6fc",
   "metadata": {},
   "outputs": [
    {
     "data": {
      "text/plain": [
       "['At least one Reconstructed Particle',\n",
       " 'Muon $p_T$ > 10 [GeV]',\n",
       " '$N_Z$',\n",
       " 'Opp charge muons',\n",
       " '80 < $M_Z$ < 100']"
      ]
     },
     "execution_count": 187,
     "metadata": {},
     "output_type": "execute_result"
    }
   ],
   "source": [
    "cut.names"
   ]
  },
  {
   "cell_type": "code",
   "execution_count": 188,
   "id": "280f897b-2959-404e-acee-18c9763a8eb3",
   "metadata": {},
   "outputs": [],
   "source": [
    "c = cut.cutflow(*cut.names)"
   ]
  },
  {
   "cell_type": "code",
   "execution_count": 189,
   "id": "1b09cfc3-c1cc-4071-bd56-311bcf96909f",
   "metadata": {},
   "outputs": [],
   "source": [
    "onecut, cutflow, labels, = c.yieldhist()"
   ]
  },
  {
   "cell_type": "code",
   "execution_count": 190,
   "id": "cc27fc57-6083-4525-bc28-25fe30f06113",
   "metadata": {},
   "outputs": [
    {
     "data": {
      "text/html": [
       "<html>\n",
       "<div style=\"display:flex; align-items:center;\">\n",
       "<div style=\"width:290px;\">\n",
       "<svg xmlns=\"http://www.w3.org/2000/svg\" viewBox=\"-10 -105 270 120\">\n",
       "<line x1=\"-5\" y1=\"0\" x2=\"255\" y2=\"0\" style=\"fill:none;stroke-width:2;stroke:currentColor\"/>\n",
       "<text text-anchor=\"middle\" x=\"0\" y=\"15\" style=\"fill:currentColor;\">\n",
       "0\n",
       "</text>\n",
       "<text text-anchor=\"middle\" x=\"250\" y=\"15\" style=\"fill:currentColor;\">\n",
       "6\n",
       "</text>\n",
       "<text text-anchor=\"middle\" x=\"125.0\" y=\"15\" style=\"fill:currentColor;\">\n",
       "onecut\n",
       "</text>\n",
       "<polyline points=\"  0,0   0,-100 41.6667,-100 41.6667,-100 83.3333,-100 83.3333,-97.2 125,-97.2 125,-2.78 166.667,-2.78 166.667,-2.76 208.333,-2.76 208.333,-2.24 250,-2.24 250,0\" style=\"fill:none; stroke:currentColor;\"/>\n",
       "</svg>\n",
       "</div>\n",
       "<div style=\"flex=grow:1;\">\n",
       "Integer(0, 6, name='onecut')<br/>\n",
       "<hr style=\"margin-top:.2em; margin-bottom:.2em;\"/>\n",
       "Double() Σ=304958.0\n",
       "\n",
       "</div>\n",
       "</div>\n",
       "</html>"
      ],
      "text/plain": [
       "Hist(Integer(0, 6, name='onecut'), storage=Double()) # Sum: 304958.0"
      ]
     },
     "execution_count": 190,
     "metadata": {},
     "output_type": "execute_result"
    }
   ],
   "source": [
    "onecut"
   ]
  },
  {
   "cell_type": "code",
   "execution_count": 191,
   "id": "64531666-e412-4c69-beeb-a9ffe520577b",
   "metadata": {},
   "outputs": [
    {
     "data": {
      "text/html": [
       "<html>\n",
       "<div style=\"display:flex; align-items:center;\">\n",
       "<div style=\"width:290px;\">\n",
       "<svg xmlns=\"http://www.w3.org/2000/svg\" viewBox=\"-10 -105 270 120\">\n",
       "<line x1=\"-5\" y1=\"0\" x2=\"255\" y2=\"0\" style=\"fill:none;stroke-width:2;stroke:currentColor\"/>\n",
       "<text text-anchor=\"middle\" x=\"0\" y=\"15\" style=\"fill:currentColor;\">\n",
       "0\n",
       "</text>\n",
       "<text text-anchor=\"middle\" x=\"250\" y=\"15\" style=\"fill:currentColor;\">\n",
       "6\n",
       "</text>\n",
       "<text text-anchor=\"middle\" x=\"125.0\" y=\"15\" style=\"fill:currentColor;\">\n",
       "cutflow\n",
       "</text>\n",
       "<polyline points=\"  0,0   0,-100 41.6667,-100 41.6667,-100 83.3333,-100 83.3333,-97.2 125,-97.2 125,-2.78 166.667,-2.78 166.667,-2.76 208.333,-2.76 208.333,-2.24 250,-2.24 250,0\" style=\"fill:none; stroke:currentColor;\"/>\n",
       "</svg>\n",
       "</div>\n",
       "<div style=\"flex=grow:1;\">\n",
       "Integer(0, 6, name='cutflow')<br/>\n",
       "<hr style=\"margin-top:.2em; margin-bottom:.2em;\"/>\n",
       "Double() Σ=304958.0\n",
       "\n",
       "</div>\n",
       "</div>\n",
       "</html>"
      ],
      "text/plain": [
       "Hist(Integer(0, 6, name='cutflow'), storage=Double()) # Sum: 304958.0"
      ]
     },
     "execution_count": 191,
     "metadata": {},
     "output_type": "execute_result"
    }
   ],
   "source": [
    "cutflow"
   ]
  },
  {
   "cell_type": "code",
   "execution_count": 192,
   "id": "27cfde99-51e9-43da-9670-0f0dc8f06dc8",
   "metadata": {},
   "outputs": [
    {
     "data": {
      "text/plain": [
       "['initial',\n",
       " 'At least one Reconstructed Particle',\n",
       " 'Muon $p_T$ > 10 [GeV]',\n",
       " '$N_Z$',\n",
       " 'Opp charge muons',\n",
       " '80 < $M_Z$ < 100']"
      ]
     },
     "execution_count": 192,
     "metadata": {},
     "output_type": "execute_result"
    }
   ],
   "source": [
    "labels"
   ]
  },
  {
   "cell_type": "code",
   "execution_count": 193,
   "id": "ab88bfc6-5fff-4c99-9370-2bff294c954a",
   "metadata": {},
   "outputs": [],
   "source": [
    "a = ak.Array([[1,2,None],None,[None]])"
   ]
  },
  {
   "cell_type": "code",
   "execution_count": 194,
   "id": "bbcb8cde-0b5c-46c4-bea8-c6d2d16d6725",
   "metadata": {},
   "outputs": [
    {
     "data": {
      "text/html": [
       "<pre>[[1, 2, None],\n",
       " None,\n",
       " [None]]\n",
       "------------------------------\n",
       "type: 3 * option[var * ?int64]</pre>"
      ],
      "text/plain": [
       "<Array [[1, 2, None], None, [None]] type='3 * option[var * ?int64]'>"
      ]
     },
     "execution_count": 194,
     "metadata": {},
     "output_type": "execute_result"
    }
   ],
   "source": [
    "a"
   ]
  },
  {
   "cell_type": "code",
   "execution_count": 181,
   "id": "7a6e6549-0616-4b81-b9a6-df9417c6885a",
   "metadata": {},
   "outputs": [
    {
     "data": {
      "text/html": [
       "<pre>[[False, True, None],\n",
       " None,\n",
       " [None]]\n",
       "-----------------------------\n",
       "type: 3 * option[var * ?bool]</pre>"
      ],
      "text/plain": [
       "<Array [[False, True, None], None, [None]] type='3 * option[var * ?bool]'>"
      ]
     },
     "execution_count": 181,
     "metadata": {},
     "output_type": "execute_result"
    }
   ],
   "source": [
    "a_cut = a > 1\n",
    "a_cut"
   ]
  },
  {
   "cell_type": "code",
   "execution_count": 182,
   "id": "ae8b1349-7846-433a-a977-a2942fa91553",
   "metadata": {},
   "outputs": [
    {
     "data": {
      "text/html": [
       "<pre>[[False, True, False],\n",
       " None,\n",
       " [False]]\n",
       "----------------------------\n",
       "type: 3 * option[var * bool]</pre>"
      ],
      "text/plain": [
       "<Array [[False, True, False], None, [False]] type='3 * option[var * bool]'>"
      ]
     },
     "execution_count": 182,
     "metadata": {},
     "output_type": "execute_result"
    }
   ],
   "source": [
    "a_cut = ak.fill_none(a_cut, False)\n",
    "a_cut"
   ]
  },
  {
   "cell_type": "code",
   "execution_count": 183,
   "id": "829dbbbc-2983-4d04-9f22-d8c5e2f67323",
   "metadata": {},
   "outputs": [
    {
     "data": {
      "text/html": [
       "<pre>[[False, True, False],\n",
       " [False],\n",
       " [False]]\n",
       "----------------------\n",
       "type: 3 * var * bool</pre>"
      ],
      "text/plain": [
       "<Array [[False, True, False], [False], [False]] type='3 * var * bool'>"
      ]
     },
     "execution_count": 183,
     "metadata": {},
     "output_type": "execute_result"
    }
   ],
   "source": [
    "b = ak.fill_none(a_cut,[False], axis=0)\n",
    "b"
   ]
  },
  {
   "cell_type": "code",
   "execution_count": 185,
   "id": "d11cfcc2-6f73-4032-950c-93ee08b0b950",
   "metadata": {},
   "outputs": [
    {
     "data": {
      "text/html": [
       "<pre>[False,\n",
       " True,\n",
       " False,\n",
       " False,\n",
       " False]\n",
       "--------------\n",
       "type: 5 * bool</pre>"
      ],
      "text/plain": [
       "<Array [False, True, False, False, False] type='5 * bool'>"
      ]
     },
     "execution_count": 185,
     "metadata": {},
     "output_type": "execute_result"
    }
   ],
   "source": [
    "ak.flatten(b)"
   ]
  },
  {
   "cell_type": "code",
   "execution_count": null,
   "id": "19e340c1-df02-4530-a779-7f887b293d21",
   "metadata": {},
   "outputs": [],
   "source": []
  }
 ],
 "metadata": {
  "kernelspec": {
   "display_name": "Python 3 (ipykernel)",
   "language": "python",
   "name": "python3"
  },
  "language_info": {
   "codemirror_mode": {
    "name": "ipython",
    "version": 3
   },
   "file_extension": ".py",
   "mimetype": "text/x-python",
   "name": "python",
   "nbconvert_exporter": "python",
   "pygments_lexer": "ipython3",
   "version": "3.12.3"
  }
 },
 "nbformat": 4,
 "nbformat_minor": 5
}
