{
 "cells": [
  {
   "cell_type": "code",
   "execution_count": 2,
   "id": "accfc2ed-5b18-42e7-8d98-a927ababce14",
   "metadata": {},
   "outputs": [],
   "source": [
    "from coffea.nanoevents import BaseSchema, NanoEventsFactory\n",
    "import dask_awkward as dak\n",
    "import awkward as ak\n",
    "import matplotlib.pyplot as plt\n",
    "import numpy as np\n",
    "import hist\n",
    "import mplhep as hep\n",
    "import numba\n",
    "import vector\n",
    "vector.register_awkward()"
   ]
  },
  {
   "cell_type": "code",
   "execution_count": 3,
   "id": "fd2f67cd-03ee-4957-87cb-c4938c332dc5",
   "metadata": {},
   "outputs": [],
   "source": [
    "events = NanoEventsFactory.from_root(\n",
    "    file=\"../data/p8_ee_ZH_ecm240/events_101027117.root:events\",\n",
    "    schemaclass=BaseSchema,\n",
    "    # schemaclass=DelphesSchema, Doesn't work \n",
    "    # schemaclass=NanoAODSchema.v7, Doesn't work\n",
    "    metadata={\n",
    "        \"path\":\"/eos/experiment/fcc/ee/generation/DelphesEvents/spring2021/IDEA/p8_ee_ZH_ecm240/events_101027117.root\",\n",
    "        \"name\":\"p8_ee_ZH_ecm240\",\n",
    "        \"process\":\"ZH to mumu, ecm=240 GeV\"\n",
    "    }\n",
    ").events()"
   ]
  },
  {
   "cell_type": "code",
   "execution_count": 4,
   "id": "4221ea78-38d1-4fd8-83c8-40801a0d5aae",
   "metadata": {},
   "outputs": [],
   "source": [
    "from coffea.analysis_tools import PackedSelection"
   ]
  },
  {
   "cell_type": "code",
   "execution_count": 5,
   "id": "2c95580e-e6df-4462-bb7a-6422b3c04f02",
   "metadata": {},
   "outputs": [],
   "source": [
    "def index_mask(input_array, index_array):\n",
    "    '''\n",
    "    This function matches the given attribute of ReconstructedParticles (for example energy) to the particle index (for example Muon or Electron)\n",
    "    '''\n",
    "    # input_array = input_array.compute()\n",
    "    # index_array = index_array.compute()\n",
    "    if len(input_array) != len(index_array) :\n",
    "        raise Exception(f'Length of input_array({len(input_array)}) and index_array({len(index_array)}) does not match!')\n",
    "    counts = len(index_array)\n",
    "    \n",
    "    @numba.jit\n",
    "    def numba_wrap(input_array, index_array, counts):\n",
    "        output_array = []\n",
    "        for event_index in range(counts):\n",
    "            event_mask = index_array[event_index]\n",
    "            reco_list = input_array[event_index]\n",
    "            output_array.append([reco_list[i] for i in  event_mask])\n",
    "        return output_array\n",
    "    out = ak.Array(numba_wrap(input_array,index_array,counts))\n",
    "    \n",
    "    return out"
   ]
  },
  {
   "cell_type": "code",
   "execution_count": 6,
   "id": "359d8558-2bb4-46f8-8a10-9e84a383961e",
   "metadata": {},
   "outputs": [
    {
     "name": "stdout",
     "output_type": "stream",
     "text": [
      "[None, None, None, None, None, None, ..., None, None, None, None, None, None]\n"
     ]
    }
   ],
   "source": [
    "cut = PackedSelection()\n",
    "\n",
    "# Filter out any event with no reconstructed particles\n",
    "Recon = events['ReconstructedParticles/ReconstructedParticles.energy'].compute()\n",
    "useful_events = events[ak.num(Recon) > 0]\n",
    "\n",
    "\n",
    "# Generate Reconstructed Particle Attributes\n",
    "Reco_E = useful_events['ReconstructedParticles/ReconstructedParticles.energy'].compute()\n",
    "Reco_px = useful_events['ReconstructedParticles/ReconstructedParticles.momentum.x'].compute()\n",
    "Reco_py = useful_events['ReconstructedParticles/ReconstructedParticles.momentum.y'].compute()\n",
    "Reco_pz = useful_events['ReconstructedParticles/ReconstructedParticles.momentum.z'].compute()\n",
    "Reco_q = useful_events['ReconstructedParticles/ReconstructedParticles.charge'].compute()\n",
    "Reco_mass = useful_events['ReconstructedParticles/ReconstructedParticles.mass'].compute()\n",
    "cut.add('At least one Reconstructed Particle', ak.all(Reco_E > 0, axis=1))#.compute())\n",
    "\n",
    "# Generate Muon Attributes\n",
    "Muon_index = useful_events['Muon#0/Muon#0.index'].compute()\n",
    "Muon_E = index_mask(Reco_E,Muon_index)\n",
    "Muon_px = index_mask(Reco_px,Muon_index)\n",
    "Muon_py = index_mask(Reco_py,Muon_index)\n",
    "Muon_pz = index_mask(Reco_pz,Muon_index)\n",
    "Muon_q = index_mask(Reco_q,Muon_index)\n",
    "Muon_mass = index_mask(Reco_mass,Muon_index)\n",
    "\n",
    "# Create Array of Muon Lorentz Vector \n",
    "Muon = ak.zip({\"px\":Muon_px,\"py\":Muon_py,\"pz\":Muon_pz,\"E\":Muon_E,\"q\":Muon_q,}, with_name=\"Momentum4D\")\n",
    "\n",
    "# Muon pt > 10\n",
    "Muon_pt_cut = ak.all(Muon.pt > 10, axis=1)\n",
    "Muon = ak.mask(Muon, Muon_pt_cut) #ak.mask to preserve number of events\n",
    "cut.add('Muon $p_T$ > 10 [GeV]',Muon_pt_cut)\n",
    "\n",
    "# Produce all the combinations of Muon Pairs possible within an event\n",
    "combs = ak.combinations(Muon,2)\n",
    "\n",
    "# Get dimuons\n",
    "mu1 , mu2 = ak.unzip(combs)\n",
    "di_muon = mu1 + mu2\n",
    "\n",
    "# Selection 0 : Only one Z candidate in an event\n",
    "di_muon = ak.mask(di_muon, ak.num(di_muon) == 1)\n",
    "di_muon_mass = ak.flatten(di_muon.mass)\n",
    "cut.add('$N_Z$',ak.num(Muon) == 2 ) #Having one Z candidate is same as having exactly two muons in an event\n",
    "# di_muon_mass = ak.Array([i[0] for i in ak.sort(di_muon.mass, ascending=False)])\n",
    "\n",
    "# Choose dimuon which is made up of two oppositely charged muons\n",
    "q_sum = mu1.q + mu2.q\n",
    "q_sum_array = ak.mask(q_sum, ak.num(q_sum) == 1)\n",
    "q_sum_mask = ak.all(q_sum_array == 0, axis=1)\n",
    "Z_cand = ak.mask(di_muon , q_sum_mask)\n",
    "cut.add('Opp charge muons',q_sum_mask)\n",
    "\n",
    "#Recoil Calculation\n",
    "ecm = 240 #GeV # com energy\n",
    "initial = ak.zip({\"px\":0,\"py\":0,\"pz\":0,\"E\":ecm}, with_name=\"Momentum4D\")\n",
    "Recoil = initial - Z_cand\n",
    "\n",
    "# Selection 1 : Selection 0 + 80 < M_Z < 100\n",
    "zmassmask = (Z_cand.mass > 80) & (Z_cand.mass < 100)\n",
    "Z_cand_sel1 = ak.mask(Z_cand, zmassmask)\n",
    "Recoil_sel1 = ak.mask(Recoil, zmassmask)\n",
    "print(zmassmask)\n",
    "zmassmask = ak.fill_none(zmassmask,[False],axis=0)\n",
    "zmassmask = ak.flatten(zmassmask)\n",
    "cut.add('80 < $M_Z$ < 100',zmassmask)"
   ]
  },
  {
   "cell_type": "code",
   "execution_count": 7,
   "id": "ccf42d83-0f7c-4ec9-9f10-72db4bc7d6fc",
   "metadata": {},
   "outputs": [
    {
     "data": {
      "text/plain": [
       "['At least one Reconstructed Particle',\n",
       " 'Muon $p_T$ > 10 [GeV]',\n",
       " '$N_Z$',\n",
       " 'Opp charge muons',\n",
       " '80 < $M_Z$ < 100']"
      ]
     },
     "execution_count": 7,
     "metadata": {},
     "output_type": "execute_result"
    }
   ],
   "source": [
    "cut.names"
   ]
  },
  {
   "cell_type": "code",
   "execution_count": 8,
   "id": "280f897b-2959-404e-acee-18c9763a8eb3",
   "metadata": {},
   "outputs": [],
   "source": [
    "c = cut.cutflow(*cut.names)"
   ]
  },
  {
   "cell_type": "code",
   "execution_count": 9,
   "id": "1b09cfc3-c1cc-4071-bd56-311bcf96909f",
   "metadata": {},
   "outputs": [],
   "source": [
    "onecut, cutflow, labels, = c.yieldhist()"
   ]
  },
  {
   "cell_type": "code",
   "execution_count": 10,
   "id": "cc27fc57-6083-4525-bc28-25fe30f06113",
   "metadata": {},
   "outputs": [
    {
     "data": {
      "text/html": [
       "<html>\n",
       "<div style=\"display:flex; align-items:center;\">\n",
       "<div style=\"width:290px;\">\n",
       "<svg xmlns=\"http://www.w3.org/2000/svg\" viewBox=\"-10 -105 270 120\">\n",
       "<line x1=\"-5\" y1=\"0\" x2=\"255\" y2=\"0\" style=\"fill:none;stroke-width:2;stroke:currentColor\"/>\n",
       "<text text-anchor=\"middle\" x=\"0\" y=\"15\" style=\"fill:currentColor;\">\n",
       "0\n",
       "</text>\n",
       "<text text-anchor=\"middle\" x=\"250\" y=\"15\" style=\"fill:currentColor;\">\n",
       "6\n",
       "</text>\n",
       "<text text-anchor=\"middle\" x=\"125.0\" y=\"15\" style=\"fill:currentColor;\">\n",
       "onecut\n",
       "</text>\n",
       "<polyline points=\"  0,0   0,-100 41.6667,-100 41.6667,-100 83.3333,-100 83.3333,-97.2 125,-97.2 125,-2.78 166.667,-2.78 166.667,-2.76 208.333,-2.76 208.333,-2.24 250,-2.24 250,0\" style=\"fill:none; stroke:currentColor;\"/>\n",
       "</svg>\n",
       "</div>\n",
       "<div style=\"flex=grow:1;\">\n",
       "Integer(0, 6, name='onecut')<br/>\n",
       "<hr style=\"margin-top:.2em; margin-bottom:.2em;\"/>\n",
       "Double() Σ=304958.0\n",
       "\n",
       "</div>\n",
       "</div>\n",
       "</html>"
      ],
      "text/plain": [
       "Hist(Integer(0, 6, name='onecut'), storage=Double()) # Sum: 304958.0"
      ]
     },
     "execution_count": 10,
     "metadata": {},
     "output_type": "execute_result"
    }
   ],
   "source": [
    "onecut"
   ]
  },
  {
   "cell_type": "code",
   "execution_count": 11,
   "id": "64531666-e412-4c69-beeb-a9ffe520577b",
   "metadata": {},
   "outputs": [
    {
     "data": {
      "text/html": [
       "<html>\n",
       "<div style=\"display:flex; align-items:center;\">\n",
       "<div style=\"width:290px;\">\n",
       "<svg xmlns=\"http://www.w3.org/2000/svg\" viewBox=\"-10 -105 270 120\">\n",
       "<line x1=\"-5\" y1=\"0\" x2=\"255\" y2=\"0\" style=\"fill:none;stroke-width:2;stroke:currentColor\"/>\n",
       "<text text-anchor=\"middle\" x=\"0\" y=\"15\" style=\"fill:currentColor;\">\n",
       "0\n",
       "</text>\n",
       "<text text-anchor=\"middle\" x=\"250\" y=\"15\" style=\"fill:currentColor;\">\n",
       "6\n",
       "</text>\n",
       "<text text-anchor=\"middle\" x=\"125.0\" y=\"15\" style=\"fill:currentColor;\">\n",
       "cutflow\n",
       "</text>\n",
       "<polyline points=\"  0,0   0,-100 41.6667,-100 41.6667,-100 83.3333,-100 83.3333,-97.2 125,-97.2 125,-2.78 166.667,-2.78 166.667,-2.76 208.333,-2.76 208.333,-2.24 250,-2.24 250,0\" style=\"fill:none; stroke:currentColor;\"/>\n",
       "</svg>\n",
       "</div>\n",
       "<div style=\"flex=grow:1;\">\n",
       "Integer(0, 6, name='cutflow')<br/>\n",
       "<hr style=\"margin-top:.2em; margin-bottom:.2em;\"/>\n",
       "Double() Σ=304958.0\n",
       "\n",
       "</div>\n",
       "</div>\n",
       "</html>"
      ],
      "text/plain": [
       "Hist(Integer(0, 6, name='cutflow'), storage=Double()) # Sum: 304958.0"
      ]
     },
     "execution_count": 11,
     "metadata": {},
     "output_type": "execute_result"
    }
   ],
   "source": [
    "cutflow"
   ]
  },
  {
   "cell_type": "code",
   "execution_count": 12,
   "id": "27cfde99-51e9-43da-9670-0f0dc8f06dc8",
   "metadata": {},
   "outputs": [
    {
     "data": {
      "text/plain": [
       "['initial',\n",
       " 'At least one Reconstructed Particle',\n",
       " 'Muon $p_T$ > 10 [GeV]',\n",
       " '$N_Z$',\n",
       " 'Opp charge muons',\n",
       " '80 < $M_Z$ < 100']"
      ]
     },
     "execution_count": 12,
     "metadata": {},
     "output_type": "execute_result"
    }
   ],
   "source": [
    "labels"
   ]
  },
  {
   "cell_type": "code",
   "execution_count": 13,
   "id": "ab88bfc6-5fff-4c99-9370-2bff294c954a",
   "metadata": {},
   "outputs": [],
   "source": [
    "a = ak.Array([[1,2,None],None,[None]])"
   ]
  },
  {
   "cell_type": "code",
   "execution_count": 14,
   "id": "bbcb8cde-0b5c-46c4-bea8-c6d2d16d6725",
   "metadata": {},
   "outputs": [
    {
     "data": {
      "text/html": [
       "<pre>[[1, 2, None],\n",
       " None,\n",
       " [None]]\n",
       "------------------------------\n",
       "type: 3 * option[var * ?int64]</pre>"
      ],
      "text/plain": [
       "<Array [[1, 2, None], None, [None]] type='3 * option[var * ?int64]'>"
      ]
     },
     "execution_count": 14,
     "metadata": {},
     "output_type": "execute_result"
    }
   ],
   "source": [
    "a"
   ]
  },
  {
   "cell_type": "code",
   "execution_count": 15,
   "id": "7a6e6549-0616-4b81-b9a6-df9417c6885a",
   "metadata": {},
   "outputs": [
    {
     "data": {
      "text/html": [
       "<pre>[[False, True, None],\n",
       " None,\n",
       " [None]]\n",
       "-----------------------------\n",
       "type: 3 * option[var * ?bool]</pre>"
      ],
      "text/plain": [
       "<Array [[False, True, None], None, [None]] type='3 * option[var * ?bool]'>"
      ]
     },
     "execution_count": 15,
     "metadata": {},
     "output_type": "execute_result"
    }
   ],
   "source": [
    "a_cut = a > 1\n",
    "a_cut"
   ]
  },
  {
   "cell_type": "code",
   "execution_count": 16,
   "id": "ae8b1349-7846-433a-a977-a2942fa91553",
   "metadata": {},
   "outputs": [
    {
     "data": {
      "text/html": [
       "<pre>[[False, True, False],\n",
       " None,\n",
       " [False]]\n",
       "----------------------------\n",
       "type: 3 * option[var * bool]</pre>"
      ],
      "text/plain": [
       "<Array [[False, True, False], None, [False]] type='3 * option[var * bool]'>"
      ]
     },
     "execution_count": 16,
     "metadata": {},
     "output_type": "execute_result"
    }
   ],
   "source": [
    "a_cut = ak.fill_none(a_cut, False)\n",
    "a_cut"
   ]
  },
  {
   "cell_type": "code",
   "execution_count": 17,
   "id": "829dbbbc-2983-4d04-9f22-d8c5e2f67323",
   "metadata": {},
   "outputs": [
    {
     "data": {
      "text/html": [
       "<pre>[[False, True, False],\n",
       " [False],\n",
       " [False]]\n",
       "----------------------\n",
       "type: 3 * var * bool</pre>"
      ],
      "text/plain": [
       "<Array [[False, True, False], [False], [False]] type='3 * var * bool'>"
      ]
     },
     "execution_count": 17,
     "metadata": {},
     "output_type": "execute_result"
    }
   ],
   "source": [
    "b = ak.fill_none(a_cut,[False], axis=0)\n",
    "b"
   ]
  },
  {
   "cell_type": "code",
   "execution_count": 18,
   "id": "d11cfcc2-6f73-4032-950c-93ee08b0b950",
   "metadata": {},
   "outputs": [
    {
     "data": {
      "text/html": [
       "<pre>[False,\n",
       " True,\n",
       " False,\n",
       " False,\n",
       " False]\n",
       "--------------\n",
       "type: 5 * bool</pre>"
      ],
      "text/plain": [
       "<Array [False, True, False, False, False] type='5 * bool'>"
      ]
     },
     "execution_count": 18,
     "metadata": {},
     "output_type": "execute_result"
    }
   ],
   "source": [
    "ak.flatten(b)"
   ]
  },
  {
   "cell_type": "code",
   "execution_count": 19,
   "id": "19e340c1-df02-4530-a779-7f887b293d21",
   "metadata": {},
   "outputs": [],
   "source": [
    "from coffea.util import load"
   ]
  },
  {
   "cell_type": "code",
   "execution_count": 20,
   "id": "5f6a7e00-aa43-40c4-9432-4205889478a2",
   "metadata": {},
   "outputs": [],
   "source": [
    "input = load('./outputs/FCCee/higgs/mH-recoil/mumu/mHrecoil_mumu.coffea')"
   ]
  },
  {
   "cell_type": "code",
   "execution_count": 21,
   "id": "8d4776b7-e861-487f-8d45-4649f177b08b",
   "metadata": {},
   "outputs": [
    {
     "data": {
      "text/plain": [
       "dict_keys(['histograms', 'cutflow'])"
      ]
     },
     "execution_count": 21,
     "metadata": {},
     "output_type": "execute_result"
    }
   ],
   "source": [
    "input['p8_ee_ZH_ecm240'].keys()"
   ]
  },
  {
   "cell_type": "code",
   "execution_count": 22,
   "id": "0971891b-3ea0-4d88-815f-8977fc29b3aa",
   "metadata": {},
   "outputs": [
    {
     "data": {
      "text/plain": [
       "Cutflow(selections=('At least one Reconstructed Particle', 'Muon $p_T$ > 10 [GeV]', '$N_Z$', 'Opp charge muons'))"
      ]
     },
     "execution_count": 22,
     "metadata": {},
     "output_type": "execute_result"
    }
   ],
   "source": [
    "c_zh = input['p8_ee_ZH_ecm240']['cutflow']['sel0']\n",
    "c_zz = input['p8_ee_ZZ_ecm240']['cutflow']['sel0']\n",
    "c_ww = input['p8_ee_WW_ecm240']['cutflow']['sel0']\n",
    "c_zh"
   ]
  },
  {
   "cell_type": "code",
   "execution_count": 23,
   "id": "71240d0c-d2ce-41df-939a-1ea3984dd1dc",
   "metadata": {},
   "outputs": [
    {
     "data": {
      "text/plain": [
       "CutflowResult(labels=['initial', 'At least one Reconstructed Particle', 'Muon $p_T$ > 10 [GeV]', '$N_Z$', 'Opp charge muons'], nevonecut=[499919, 499919, 485621, 13808, 13692], nevcutflow=[499919, 499919, 485621, 13808, 13692], masksonecut=[array([ True,  True,  True, ...,  True,  True,  True]), array([ True,  True,  True, ...,  True,  True,  True]), array([False, False, False, ..., False, False, False]), array([False, False, False, ..., False, False, False])], maskscutflow=[array([ True,  True,  True, ...,  True,  True,  True]), array([ True,  True,  True, ...,  True,  True,  True]), array([False, False, False, ..., False, False, False]), array([False, False, False, ..., False, False, False])])"
      ]
     },
     "execution_count": 23,
     "metadata": {},
     "output_type": "execute_result"
    }
   ],
   "source": [
    "res_zh = c_zh.result()\n",
    "res_zz = c_zz.result()\n",
    "res_ww = c_ww.result()\n",
    "res_zh"
   ]
  },
  {
   "cell_type": "code",
   "execution_count": 24,
   "id": "65b84b8c-3478-41f4-9e7a-1fe62c7ba14b",
   "metadata": {},
   "outputs": [],
   "source": [
    "import numba"
   ]
  },
  {
   "cell_type": "code",
   "execution_count": 25,
   "id": "d411e5b9-0e64-48f7-8bed-d656c9c94e73",
   "metadata": {},
   "outputs": [],
   "source": [
    "def add_masks(mask_list):\n",
    "    new_list = [np.array(mask) for mask in mask_list]\n",
    "    # bigm = ak.Array(new_list)\n",
    "    return sum(new_list)"
   ]
  },
  {
   "cell_type": "code",
   "execution_count": 26,
   "id": "2d2795e7-7fa5-4bd4-878f-10ac9d310446",
   "metadata": {},
   "outputs": [
    {
     "data": {
      "text/plain": [
       "[array([ True,  True,  True, ...,  True,  True,  True]),\n",
       " array([ True,  True,  True, ...,  True,  True,  True]),\n",
       " array([False, False,  True, ..., False, False, False]),\n",
       " array([False, False,  True, ..., False, False, False])]"
      ]
     },
     "execution_count": 26,
     "metadata": {},
     "output_type": "execute_result"
    }
   ],
   "source": [
    "res_zz.maskscutflow"
   ]
  },
  {
   "cell_type": "code",
   "execution_count": 27,
   "id": "e6ce5cbe-5a42-4d07-b083-247580a0cd23",
   "metadata": {},
   "outputs": [
    {
     "data": {
      "text/plain": [
       "[array([ True,  True,  True, ...,  True,  True,  True]),\n",
       " array([ True,  True,  True, ...,  True,  True,  True]),\n",
       " array([False, False, False, ..., False, False, False]),\n",
       " array([False, False, False, ..., False, False, False])]"
      ]
     },
     "execution_count": 27,
     "metadata": {},
     "output_type": "execute_result"
    }
   ],
   "source": [
    "res_ww.maskscutflow"
   ]
  },
  {
   "cell_type": "code",
   "execution_count": 28,
   "id": "70681b68-75c9-4236-94f8-53ef5f1054d1",
   "metadata": {},
   "outputs": [
    {
     "ename": "ValueError",
     "evalue": "operands could not be broadcast together with shapes (4,488035) (4,499994) ",
     "output_type": "error",
     "traceback": [
      "\u001b[0;31m---------------------------------------------------------------------------\u001b[0m",
      "\u001b[0;31mValueError\u001b[0m                                Traceback (most recent call last)",
      "Cell \u001b[0;32mIn[28], line 1\u001b[0m\n\u001b[0;32m----> 1\u001b[0m \u001b[43madd_masks\u001b[49m\u001b[43m(\u001b[49m\u001b[43m[\u001b[49m\u001b[43mres_zz\u001b[49m\u001b[38;5;241;43m.\u001b[39;49m\u001b[43mmaskscutflow\u001b[49m\u001b[43m,\u001b[49m\u001b[43m \u001b[49m\u001b[43mres_ww\u001b[49m\u001b[38;5;241;43m.\u001b[39;49m\u001b[43mmaskscutflow\u001b[49m\u001b[43m]\u001b[49m\u001b[43m)\u001b[49m\n",
      "Cell \u001b[0;32mIn[25], line 4\u001b[0m, in \u001b[0;36madd_masks\u001b[0;34m(mask_list)\u001b[0m\n\u001b[1;32m      2\u001b[0m new_list \u001b[38;5;241m=\u001b[39m [np\u001b[38;5;241m.\u001b[39marray(mask) \u001b[38;5;28;01mfor\u001b[39;00m mask \u001b[38;5;129;01min\u001b[39;00m mask_list]\n\u001b[1;32m      3\u001b[0m \u001b[38;5;66;03m# bigm = ak.Array(new_list)\u001b[39;00m\n\u001b[0;32m----> 4\u001b[0m \u001b[38;5;28;01mreturn\u001b[39;00m \u001b[38;5;28;43msum\u001b[39;49m\u001b[43m(\u001b[49m\u001b[43mnew_list\u001b[49m\u001b[43m)\u001b[49m\n",
      "\u001b[0;31mValueError\u001b[0m: operands could not be broadcast together with shapes (4,488035) (4,499994) "
     ]
    }
   ],
   "source": [
    "add_masks([res_zz.maskscutflow, res_ww.maskscutflow])"
   ]
  },
  {
   "cell_type": "code",
   "execution_count": 29,
   "id": "fd6d2f61-5744-4009-b189-4c01a471f360",
   "metadata": {},
   "outputs": [
    {
     "data": {
      "text/plain": [
       "[[array([ True,  True,  True, ...,  True,  True,  True]),\n",
       "  array([ True,  True,  True, ...,  True,  True,  True]),\n",
       "  array([False, False,  True, ..., False, False, False]),\n",
       "  array([False, False,  True, ..., False, False, False])],\n",
       " [array([ True,  True,  True, ...,  True,  True,  True]),\n",
       "  array([ True,  True,  True, ...,  True,  True,  True]),\n",
       "  array([False, False, False, ..., False, False, False]),\n",
       "  array([False, False, False, ..., False, False, False])]]"
      ]
     },
     "execution_count": 29,
     "metadata": {},
     "output_type": "execute_result"
    }
   ],
   "source": [
    "mask_list = [res_zz.maskscutflow, res_ww.maskscutflow]\n",
    "mask_list"
   ]
  },
  {
   "cell_type": "code",
   "execution_count": 30,
   "id": "74e76592-c624-4208-a1cc-9c7f0e3e1198",
   "metadata": {},
   "outputs": [
    {
     "name": "stdout",
     "output_type": "stream",
     "text": [
      "[[False False False ... False False False]\n",
      " [False False False ... False False False]\n",
      " [False False False ... False False False]\n",
      " [False False False ... False False False]]\n",
      "(4, 488035)\n",
      "(4, 499994)\n"
     ]
    }
   ],
   "source": [
    "sum_axis_0 = np.zeros_like(mask_list[0])\n",
    "print(sum_axis_0)\n",
    "for mask in mask_list:\n",
    "    np_mask = np.array(mask)\n",
    "    print(np_mask.shape)"
   ]
  },
  {
   "cell_type": "code",
   "execution_count": 31,
   "id": "ec6b7ec0-8b53-427b-b270-58120358edfa",
   "metadata": {},
   "outputs": [],
   "source": [
    "import hist"
   ]
  },
  {
   "cell_type": "code",
   "execution_count": 32,
   "id": "53e953ad-345b-4532-abed-b13f31d5f0e9",
   "metadata": {},
   "outputs": [
    {
     "data": {
      "text/html": [
       "<html>\n",
       "<div style=\"display:flex; align-items:center;\">\n",
       "<div style=\"width:290px;\">\n",
       "<svg xmlns=\"http://www.w3.org/2000/svg\" viewBox=\"-10 -105 270 120\">\n",
       "<line x1=\"-5\" y1=\"0\" x2=\"255\" y2=\"0\" style=\"fill:none;stroke-width:2;stroke:currentColor\"/>\n",
       "<text text-anchor=\"middle\" x=\"0\" y=\"15\" style=\"fill:currentColor;\">\n",
       "0\n",
       "</text>\n",
       "<text text-anchor=\"middle\" x=\"250\" y=\"15\" style=\"fill:currentColor;\">\n",
       "200\n",
       "</text>\n",
       "<text text-anchor=\"middle\" x=\"125.0\" y=\"15\" style=\"fill:currentColor;\">\n",
       "Axis 0\n",
       "</text>\n",
       "<polyline points=\"  0,0   0,-0 2.5,-0 2.5,-100   5,-100   5,-73.2 7.5,-73.2 7.5,-62.7  10,-62.7  10,-53 12.5,-53 12.5,-62.2  15,-62.2  15,-59 17.5,-59 17.5,-62.5  20,-62.5  20,-63.3 22.5,-63.3 22.5,-65.3  25,-65.3  25,-64 27.5,-64 27.5,-62.2  30,-62.2  30,-63.8 32.5,-63.8 32.5,-73.5  35,-73.5  35,-78.8 37.5,-78.8 37.5,-83.7  40,-83.7  40,-88.7 42.5,-88.7 42.5,-85.5  45,-85.5  45,-87.7 47.5,-87.7 47.5,-84.5  50,-84.5  50,-79.2 52.5,-79.2 52.5,-82.8  55,-82.8  55,-81.3 57.5,-81.3 57.5,-76.5  60,-76.5  60,-72.7 62.5,-72.7 62.5,-74  65,-74  65,-71.2 67.5,-71.2 67.5,-68.8  70,-68.8  70,-67.5 72.5,-67.5 72.5,-61.3  75,-61.3  75,-56.7 77.5,-56.7 77.5,-58  80,-58  80,-43 82.5,-43 82.5,-50.3  85,-50.3  85,-42.8 87.5,-42.8 87.5,-36.5  90,-36.5  90,-32.2 92.5,-32.2 92.5,-24.8  95,-24.8  95,-21.5 97.5,-21.5 97.5,-4 100,-4 100,-1.5 102.5,-1.5 102.5,-0.833 105,-0.833 105,-0.333 107.5,-0.333 107.5,-0.333 110,-0.333 110,-0.167 112.5,-0.167 112.5,-0 115,-0 115,-0 117.5,-0 117.5,-0 120,-0 120,-0 122.5,-0 122.5,-0 125,-0 125,-0 127.5,-0 127.5,-0 130,-0 130,-0.167 132.5,-0.167 132.5,-0 135,-0 135,-0 137.5,-0 137.5,-0 140,-0 140,-0 142.5,-0 142.5,-0 145,-0 145,-0 147.5,-0 147.5,-0 150,-0 150,-0 152.5,-0 152.5,-0 155,-0 155,-0 157.5,-0 157.5,-0 160,-0 160,-0 162.5,-0 162.5,-0 165,-0 165,-0 167.5,-0 167.5,-0 170,-0 170,-0 172.5,-0 172.5,-0 175,-0 175,-0 177.5,-0 177.5,-0 180,-0 180,-0 182.5,-0 182.5,-0 185,-0 185,-0 187.5,-0 187.5,-0 190,-0 190,-0 192.5,-0 192.5,-0 195,-0 195,-0 197.5,-0 197.5,-0 200,-0 200,-0 202.5,-0 202.5,-0 205,-0 205,-0 207.5,-0 207.5,-0 210,-0 210,-0 212.5,-0 212.5,-0 215,-0 215,-0 217.5,-0 217.5,-0 220,-0 220,-0 222.5,-0 222.5,-0 225,-0 225,-0 227.5,-0 227.5,-0 230,-0 230,-0 232.5,-0 232.5,-0 235,-0 235,-0 237.5,-0 237.5,-0 240,-0 240,-0 242.5,-0 242.5,-0 245,-0 245,-0 247.5,-0 247.5,-0 250,-0 250,0\" style=\"fill:none; stroke:currentColor;\"/>\n",
       "</svg>\n",
       "</div>\n",
       "<div style=\"flex=grow:1;\">\n",
       "Regular(100, 0, 200, label='Axis 0')<br/>\n",
       "<hr style=\"margin-top:.2em; margin-bottom:.2em;\"/>\n",
       "Double() Σ=14892.0\n",
       "\n",
       "</div>\n",
       "</div>\n",
       "</html>"
      ],
      "text/plain": [
       "Hist(Regular(100, 0, 200, label='Axis 0'), storage=Double()) # Sum: 14892.0"
      ]
     },
     "execution_count": 32,
     "metadata": {},
     "output_type": "execute_result"
    }
   ],
   "source": [
    "h = hist.Hist.new.Reg(100,0,200).Double().fill(ak.flatten(Muon_E))\n",
    "h"
   ]
  },
  {
   "cell_type": "code",
   "execution_count": 33,
   "id": "05c88a55-f31a-405f-9d7c-c340997ceb27",
   "metadata": {},
   "outputs": [
    {
     "data": {
      "text/html": [
       "<html>\n",
       "<div style=\"display:flex; align-items:center;\">\n",
       "<div style=\"width:290px;\">\n",
       "<svg xmlns=\"http://www.w3.org/2000/svg\" viewBox=\"-10 -105 270 120\">\n",
       "<line x1=\"-5\" y1=\"0\" x2=\"255\" y2=\"0\" style=\"fill:none;stroke-width:2;stroke:currentColor\"/>\n",
       "<text text-anchor=\"middle\" x=\"0\" y=\"15\" style=\"fill:currentColor;\">\n",
       "0\n",
       "</text>\n",
       "<text text-anchor=\"middle\" x=\"250\" y=\"15\" style=\"fill:currentColor;\">\n",
       "200\n",
       "</text>\n",
       "<text text-anchor=\"middle\" x=\"125.0\" y=\"15\" style=\"fill:currentColor;\">\n",
       "Axis 0\n",
       "</text>\n",
       "<polyline points=\"  0,0   0,-0 2.5,-0 2.5,-100   5,-100   5,-73.2 7.5,-73.2 7.5,-62.7  10,-62.7  10,-53 12.5,-53 12.5,-62.2  15,-62.2  15,-59 17.5,-59 17.5,-62.5  20,-62.5  20,-63.3 22.5,-63.3 22.5,-65.3  25,-65.3  25,-64 27.5,-64 27.5,-62.2  30,-62.2  30,-63.8 32.5,-63.8 32.5,-73.5  35,-73.5  35,-78.8 37.5,-78.8 37.5,-83.7  40,-83.7  40,-88.7 42.5,-88.7 42.5,-85.5  45,-85.5  45,-87.7 47.5,-87.7 47.5,-84.5  50,-84.5  50,-79.2 52.5,-79.2 52.5,-82.8  55,-82.8  55,-81.3 57.5,-81.3 57.5,-76.5  60,-76.5  60,-72.7 62.5,-72.7 62.5,-74  65,-74  65,-71.2 67.5,-71.2 67.5,-68.8  70,-68.8  70,-67.5 72.5,-67.5 72.5,-61.3  75,-61.3  75,-56.7 77.5,-56.7 77.5,-58  80,-58  80,-43 82.5,-43 82.5,-50.3  85,-50.3  85,-42.8 87.5,-42.8 87.5,-36.5  90,-36.5  90,-32.2 92.5,-32.2 92.5,-24.8  95,-24.8  95,-21.5 97.5,-21.5 97.5,-4 100,-4 100,-1.5 102.5,-1.5 102.5,-0.833 105,-0.833 105,-0.333 107.5,-0.333 107.5,-0.333 110,-0.333 110,-0.167 112.5,-0.167 112.5,-0 115,-0 115,-0 117.5,-0 117.5,-0 120,-0 120,-0 122.5,-0 122.5,-0 125,-0 125,-0 127.5,-0 127.5,-0 130,-0 130,-0.167 132.5,-0.167 132.5,-0 135,-0 135,-0 137.5,-0 137.5,-0 140,-0 140,-0 142.5,-0 142.5,-0 145,-0 145,-0 147.5,-0 147.5,-0 150,-0 150,-0 152.5,-0 152.5,-0 155,-0 155,-0 157.5,-0 157.5,-0 160,-0 160,-0 162.5,-0 162.5,-0 165,-0 165,-0 167.5,-0 167.5,-0 170,-0 170,-0 172.5,-0 172.5,-0 175,-0 175,-0 177.5,-0 177.5,-0 180,-0 180,-0 182.5,-0 182.5,-0 185,-0 185,-0 187.5,-0 187.5,-0 190,-0 190,-0 192.5,-0 192.5,-0 195,-0 195,-0 197.5,-0 197.5,-0 200,-0 200,-0 202.5,-0 202.5,-0 205,-0 205,-0 207.5,-0 207.5,-0 210,-0 210,-0 212.5,-0 212.5,-0 215,-0 215,-0 217.5,-0 217.5,-0 220,-0 220,-0 222.5,-0 222.5,-0 225,-0 225,-0 227.5,-0 227.5,-0 230,-0 230,-0 232.5,-0 232.5,-0 235,-0 235,-0 237.5,-0 237.5,-0 240,-0 240,-0 242.5,-0 242.5,-0 245,-0 245,-0 247.5,-0 247.5,-0 250,-0 250,0\" style=\"fill:none; stroke:currentColor;\"/>\n",
       "</svg>\n",
       "</div>\n",
       "<div style=\"flex=grow:1;\">\n",
       "Regular(100, 0, 200, label='Axis 0')<br/>\n",
       "<hr style=\"margin-top:.2em; margin-bottom:.2em;\"/>\n",
       "Double() Σ=59568.0\n",
       "\n",
       "</div>\n",
       "</div>\n",
       "</html>"
      ],
      "text/plain": [
       "Hist(Regular(100, 0, 200, label='Axis 0'), storage=Double()) # Sum: 59568.0"
      ]
     },
     "execution_count": 33,
     "metadata": {},
     "output_type": "execute_result"
    }
   ],
   "source": [
    "sum([h,h,h,h])"
   ]
  },
  {
   "cell_type": "code",
   "execution_count": 34,
   "id": "c1098e1a-6140-4792-a74a-b69895bdab93",
   "metadata": {},
   "outputs": [],
   "source": [
    "import collections"
   ]
  },
  {
   "cell_type": "code",
   "execution_count": 35,
   "id": "8fda6aa4-5574-4a53-94cc-39a8d81aa442",
   "metadata": {},
   "outputs": [],
   "source": [
    "a = collections.namedtuple('cutflow', ['histo'])"
   ]
  },
  {
   "cell_type": "code",
   "execution_count": 36,
   "id": "19c1edd0-d1db-43dd-96f1-e3377c7a59df",
   "metadata": {},
   "outputs": [],
   "source": [
    "b = a(h)"
   ]
  },
  {
   "cell_type": "code",
   "execution_count": 37,
   "id": "fb6edbbd-6768-468e-84ec-22143c7e1cb8",
   "metadata": {},
   "outputs": [
    {
     "data": {
      "text/plain": [
       "cutflow(histo=Hist(Regular(100, 0, 200, label='Axis 0'), storage=Double()) # Sum: 14892.0)"
      ]
     },
     "execution_count": 37,
     "metadata": {},
     "output_type": "execute_result"
    }
   ],
   "source": [
    "b"
   ]
  },
  {
   "cell_type": "code",
   "execution_count": 38,
   "id": "b19bc12f-f749-4922-ab5c-5be6c1b3bfb9",
   "metadata": {},
   "outputs": [
    {
     "data": {
      "text/html": [
       "<html>\n",
       "<div style=\"display:flex; align-items:center;\">\n",
       "<div style=\"width:290px;\">\n",
       "<svg xmlns=\"http://www.w3.org/2000/svg\" viewBox=\"-10 -105 270 120\">\n",
       "<line x1=\"-5\" y1=\"0\" x2=\"255\" y2=\"0\" style=\"fill:none;stroke-width:2;stroke:currentColor\"/>\n",
       "<text text-anchor=\"middle\" x=\"0\" y=\"15\" style=\"fill:currentColor;\">\n",
       "0\n",
       "</text>\n",
       "<text text-anchor=\"middle\" x=\"250\" y=\"15\" style=\"fill:currentColor;\">\n",
       "200\n",
       "</text>\n",
       "<text text-anchor=\"middle\" x=\"125.0\" y=\"15\" style=\"fill:currentColor;\">\n",
       "Axis 0\n",
       "</text>\n",
       "<polyline points=\"  0,0   0,-0 2.5,-0 2.5,-100   5,-100   5,-73.2 7.5,-73.2 7.5,-62.7  10,-62.7  10,-53 12.5,-53 12.5,-62.2  15,-62.2  15,-59 17.5,-59 17.5,-62.5  20,-62.5  20,-63.3 22.5,-63.3 22.5,-65.3  25,-65.3  25,-64 27.5,-64 27.5,-62.2  30,-62.2  30,-63.8 32.5,-63.8 32.5,-73.5  35,-73.5  35,-78.8 37.5,-78.8 37.5,-83.7  40,-83.7  40,-88.7 42.5,-88.7 42.5,-85.5  45,-85.5  45,-87.7 47.5,-87.7 47.5,-84.5  50,-84.5  50,-79.2 52.5,-79.2 52.5,-82.8  55,-82.8  55,-81.3 57.5,-81.3 57.5,-76.5  60,-76.5  60,-72.7 62.5,-72.7 62.5,-74  65,-74  65,-71.2 67.5,-71.2 67.5,-68.8  70,-68.8  70,-67.5 72.5,-67.5 72.5,-61.3  75,-61.3  75,-56.7 77.5,-56.7 77.5,-58  80,-58  80,-43 82.5,-43 82.5,-50.3  85,-50.3  85,-42.8 87.5,-42.8 87.5,-36.5  90,-36.5  90,-32.2 92.5,-32.2 92.5,-24.8  95,-24.8  95,-21.5 97.5,-21.5 97.5,-4 100,-4 100,-1.5 102.5,-1.5 102.5,-0.833 105,-0.833 105,-0.333 107.5,-0.333 107.5,-0.333 110,-0.333 110,-0.167 112.5,-0.167 112.5,-0 115,-0 115,-0 117.5,-0 117.5,-0 120,-0 120,-0 122.5,-0 122.5,-0 125,-0 125,-0 127.5,-0 127.5,-0 130,-0 130,-0.167 132.5,-0.167 132.5,-0 135,-0 135,-0 137.5,-0 137.5,-0 140,-0 140,-0 142.5,-0 142.5,-0 145,-0 145,-0 147.5,-0 147.5,-0 150,-0 150,-0 152.5,-0 152.5,-0 155,-0 155,-0 157.5,-0 157.5,-0 160,-0 160,-0 162.5,-0 162.5,-0 165,-0 165,-0 167.5,-0 167.5,-0 170,-0 170,-0 172.5,-0 172.5,-0 175,-0 175,-0 177.5,-0 177.5,-0 180,-0 180,-0 182.5,-0 182.5,-0 185,-0 185,-0 187.5,-0 187.5,-0 190,-0 190,-0 192.5,-0 192.5,-0 195,-0 195,-0 197.5,-0 197.5,-0 200,-0 200,-0 202.5,-0 202.5,-0 205,-0 205,-0 207.5,-0 207.5,-0 210,-0 210,-0 212.5,-0 212.5,-0 215,-0 215,-0 217.5,-0 217.5,-0 220,-0 220,-0 222.5,-0 222.5,-0 225,-0 225,-0 227.5,-0 227.5,-0 230,-0 230,-0 232.5,-0 232.5,-0 235,-0 235,-0 237.5,-0 237.5,-0 240,-0 240,-0 242.5,-0 242.5,-0 245,-0 245,-0 247.5,-0 247.5,-0 250,-0 250,0\" style=\"fill:none; stroke:currentColor;\"/>\n",
       "</svg>\n",
       "</div>\n",
       "<div style=\"flex=grow:1;\">\n",
       "Regular(100, 0, 200, label='Axis 0')<br/>\n",
       "<hr style=\"margin-top:.2em; margin-bottom:.2em;\"/>\n",
       "Double() Σ=14892.0\n",
       "\n",
       "</div>\n",
       "</div>\n",
       "</html>"
      ],
      "text/plain": [
       "Hist(Regular(100, 0, 200, label='Axis 0'), storage=Double()) # Sum: 14892.0"
      ]
     },
     "execution_count": 38,
     "metadata": {},
     "output_type": "execute_result"
    }
   ],
   "source": [
    "b.histo"
   ]
  },
  {
   "cell_type": "code",
   "execution_count": 39,
   "id": "610dce51-3c39-4e62-8e3e-0aa3895e35e7",
   "metadata": {},
   "outputs": [
    {
     "data": {
      "text/plain": [
       "(Hist(Integer(0, 5, name='onecut'), storage=Double()) # Sum: 1512959.0,\n",
       " Hist(Integer(0, 5, name='cutflow'), storage=Double()) # Sum: 1512959.0,\n",
       " ['initial',\n",
       "  'At least one Reconstructed Particle',\n",
       "  'Muon $p_T$ > 10 [GeV]',\n",
       "  '$N_Z$',\n",
       "  'Opp charge muons'])"
      ]
     },
     "execution_count": 39,
     "metadata": {},
     "output_type": "execute_result"
    }
   ],
   "source": [
    "c_zh.yieldhist()"
   ]
  },
  {
   "cell_type": "code",
   "execution_count": 40,
   "id": "38b88f16-fc28-42ef-951c-28208876fa56",
   "metadata": {},
   "outputs": [],
   "source": [
    "(a,b,c) = c_zh.yieldhist()"
   ]
  },
  {
   "cell_type": "code",
   "execution_count": 41,
   "id": "a3e73ca2-3f63-486c-af8a-a58921829e19",
   "metadata": {},
   "outputs": [
    {
     "data": {
      "text/html": [
       "<html>\n",
       "<div style=\"display:flex; align-items:center;\">\n",
       "<div style=\"width:290px;\">\n",
       "<svg xmlns=\"http://www.w3.org/2000/svg\" viewBox=\"-10 -105 270 120\">\n",
       "<line x1=\"-5\" y1=\"0\" x2=\"255\" y2=\"0\" style=\"fill:none;stroke-width:2;stroke:currentColor\"/>\n",
       "<text text-anchor=\"middle\" x=\"0\" y=\"15\" style=\"fill:currentColor;\">\n",
       "0\n",
       "</text>\n",
       "<text text-anchor=\"middle\" x=\"250\" y=\"15\" style=\"fill:currentColor;\">\n",
       "5\n",
       "</text>\n",
       "<text text-anchor=\"middle\" x=\"125.0\" y=\"15\" style=\"fill:currentColor;\">\n",
       "onecut\n",
       "</text>\n",
       "<polyline points=\"  0,0   0,-100  50,-100  50,-100 100,-100 100,-97.1 150,-97.1 150,-2.76 200,-2.76 200,-2.74 250,-2.74 250,0\" style=\"fill:none; stroke:currentColor;\"/>\n",
       "</svg>\n",
       "</div>\n",
       "<div style=\"flex=grow:1;\">\n",
       "Integer(0, 5, name='onecut')<br/>\n",
       "<hr style=\"margin-top:.2em; margin-bottom:.2em;\"/>\n",
       "Double() Σ=1512959.0\n",
       "\n",
       "</div>\n",
       "</div>\n",
       "</html>"
      ],
      "text/plain": [
       "Hist(Integer(0, 5, name='onecut'), storage=Double()) # Sum: 1512959.0"
      ]
     },
     "execution_count": 41,
     "metadata": {},
     "output_type": "execute_result"
    }
   ],
   "source": [
    "a"
   ]
  },
  {
   "cell_type": "code",
   "execution_count": 42,
   "id": "b7a52d71-b3a6-4128-ae39-64c6b4e0552d",
   "metadata": {},
   "outputs": [
    {
     "data": {
      "text/html": [
       "<html>\n",
       "<div style=\"display:flex; align-items:center;\">\n",
       "<div style=\"width:290px;\">\n",
       "<svg xmlns=\"http://www.w3.org/2000/svg\" viewBox=\"-10 -105 270 120\">\n",
       "<line x1=\"-5\" y1=\"0\" x2=\"255\" y2=\"0\" style=\"fill:none;stroke-width:2;stroke:currentColor\"/>\n",
       "<text text-anchor=\"middle\" x=\"0\" y=\"15\" style=\"fill:currentColor;\">\n",
       "0\n",
       "</text>\n",
       "<text text-anchor=\"middle\" x=\"250\" y=\"15\" style=\"fill:currentColor;\">\n",
       "5\n",
       "</text>\n",
       "<text text-anchor=\"middle\" x=\"125.0\" y=\"15\" style=\"fill:currentColor;\">\n",
       "cutflow\n",
       "</text>\n",
       "<polyline points=\"  0,0   0,-100  50,-100  50,-100 100,-100 100,-97.1 150,-97.1 150,-2.76 200,-2.76 200,-2.74 250,-2.74 250,0\" style=\"fill:none; stroke:currentColor;\"/>\n",
       "</svg>\n",
       "</div>\n",
       "<div style=\"flex=grow:1;\">\n",
       "Integer(0, 5, name='cutflow')<br/>\n",
       "<hr style=\"margin-top:.2em; margin-bottom:.2em;\"/>\n",
       "Double() Σ=1512959.0\n",
       "\n",
       "</div>\n",
       "</div>\n",
       "</html>"
      ],
      "text/plain": [
       "Hist(Integer(0, 5, name='cutflow'), storage=Double()) # Sum: 1512959.0"
      ]
     },
     "execution_count": 42,
     "metadata": {},
     "output_type": "execute_result"
    }
   ],
   "source": [
    "b"
   ]
  },
  {
   "cell_type": "code",
   "execution_count": 43,
   "id": "6aaa9bf0-ff06-4a44-ba07-6edb54c85724",
   "metadata": {},
   "outputs": [
    {
     "data": {
      "text/plain": [
       "['initial',\n",
       " 'At least one Reconstructed Particle',\n",
       " 'Muon $p_T$ > 10 [GeV]',\n",
       " '$N_Z$',\n",
       " 'Opp charge muons']"
      ]
     },
     "execution_count": 43,
     "metadata": {},
     "output_type": "execute_result"
    }
   ],
   "source": [
    "c"
   ]
  },
  {
   "cell_type": "code",
   "execution_count": 44,
   "id": "d066d391-8835-48bb-88d2-57ad292852f4",
   "metadata": {},
   "outputs": [
    {
     "data": {
      "text/plain": [
       "['initial',\n",
       " 'At least one Reconstructed Particle',\n",
       " 'Muon $p_T$ > 10 [GeV]',\n",
       " '$N_Z$',\n",
       " 'Opp charge muons']"
      ]
     },
     "execution_count": 44,
     "metadata": {},
     "output_type": "execute_result"
    }
   ],
   "source": [
    "c_zh.result().labels"
   ]
  },
  {
   "cell_type": "code",
   "execution_count": 45,
   "id": "74b820dc-a093-4a51-b8d3-52aaed118d14",
   "metadata": {},
   "outputs": [
    {
     "data": {
      "text/html": [
       "<html>\n",
       "<div style=\"display:flex; align-items:center;\">\n",
       "<div style=\"width:290px;\">\n",
       "<svg xmlns=\"http://www.w3.org/2000/svg\" viewBox=\"-10 -105 270 120\">\n",
       "<line x1=\"-5\" y1=\"0\" x2=\"255\" y2=\"0\" style=\"fill:none;stroke-width:2;stroke:currentColor\"/>\n",
       "<text text-anchor=\"middle\" x=\"0\" y=\"15\" style=\"fill:currentColor;\">\n",
       "0\n",
       "</text>\n",
       "<text text-anchor=\"middle\" x=\"250\" y=\"15\" style=\"fill:currentColor;\">\n",
       "5\n",
       "</text>\n",
       "<text text-anchor=\"middle\" x=\"125.0\" y=\"15\" style=\"fill:currentColor;\">\n",
       "cutflow\n",
       "</text>\n",
       "<polyline points=\"  0,0   0,-100  50,-100  50,-100 100,-100 100,-97.1 150,-97.1 150,-2.76 200,-2.76 200,-2.74 250,-2.74 250,0\" style=\"fill:none; stroke:currentColor;\"/>\n",
       "</svg>\n",
       "</div>\n",
       "<div style=\"flex=grow:1;\">\n",
       "Integer(0, 5, name='cutflow')<br/>\n",
       "<hr style=\"margin-top:.2em; margin-bottom:.2em;\"/>\n",
       "Double() Σ=1512959.0\n",
       "\n",
       "</div>\n",
       "</div>\n",
       "</html>"
      ],
      "text/plain": [
       "Hist(Integer(0, 5, name='cutflow'), storage=Double()) # Sum: 1512959.0"
      ]
     },
     "execution_count": 45,
     "metadata": {},
     "output_type": "execute_result"
    }
   ],
   "source": [
    "b"
   ]
  },
  {
   "cell_type": "code",
   "execution_count": 54,
   "id": "3e0488db-c005-4864-99be-5b815994c123",
   "metadata": {},
   "outputs": [],
   "source": [
    "l, = b.axes.edges.tolist()"
   ]
  },
  {
   "cell_type": "code",
   "execution_count": 55,
   "id": "ffa00eb1-58d6-451b-aa63-8ef1d4559d66",
   "metadata": {},
   "outputs": [
    {
     "data": {
      "text/plain": [
       "[0.0, 1.0, 2.0, 3.0, 4.0, 5.0]"
      ]
     },
     "execution_count": 55,
     "metadata": {},
     "output_type": "execute_result"
    }
   ],
   "source": [
    "l"
   ]
  },
  {
   "cell_type": "code",
   "execution_count": 60,
   "id": "d483c31d-8e2f-4e8b-8720-ecb81ec44c80",
   "metadata": {},
   "outputs": [
    {
     "data": {
      "text/plain": [
       "5.0"
      ]
     },
     "execution_count": 60,
     "metadata": {},
     "output_type": "execute_result"
    }
   ],
   "source": [
    "b.axes.edges[0][-1]"
   ]
  },
  {
   "cell_type": "code",
   "execution_count": 63,
   "id": "a726a4c8-ab38-4605-a54d-e35fdb568ad2",
   "metadata": {},
   "outputs": [
    {
     "data": {
      "text/plain": [
       "[0.0, 1.0, 2.0, 3.0, 4.0, 5.0]"
      ]
     },
     "execution_count": 63,
     "metadata": {},
     "output_type": "execute_result"
    }
   ],
   "source": [
    "np.array(l).tolist()"
   ]
  },
  {
   "cell_type": "code",
   "execution_count": 64,
   "id": "b2461d0f-254d-4ac0-9172-a87b5cdbc2cf",
   "metadata": {},
   "outputs": [
    {
     "data": {
      "text/plain": [
       "dask.awkward<from-uproot, npartitions=1>"
      ]
     },
     "execution_count": 64,
     "metadata": {},
     "output_type": "execute_result"
    }
   ],
   "source": [
    "events"
   ]
  },
  {
   "cell_type": "code",
   "execution_count": 77,
   "id": "22fac165-6536-4b23-b605-a5ba1758fccc",
   "metadata": {},
   "outputs": [
    {
     "data": {
      "text/plain": [
       "100000"
      ]
     },
     "execution_count": 77,
     "metadata": {},
     "output_type": "execute_result"
    }
   ],
   "source": [
    "Recon = events['ReconstructedParticles/ReconstructedParticles.energy']\n",
    "dak.num(dak.sum(Recon, axis = 1), axis=0).compute()"
   ]
  },
  {
   "cell_type": "code",
   "execution_count": 78,
   "id": "e0685cdf-fb3e-4214-91b5-574a8adb47a2",
   "metadata": {},
   "outputs": [
    {
     "data": {
      "text/plain": [
       "100000"
      ]
     },
     "execution_count": 78,
     "metadata": {},
     "output_type": "execute_result"
    }
   ],
   "source": [
    "dak.num(Recon, axis=0).compute()"
   ]
  },
  {
   "cell_type": "code",
   "execution_count": 74,
   "id": "6ef80059-f3fb-4da0-b283-8f2e294d1482",
   "metadata": {},
   "outputs": [
    {
     "data": {
      "text/plain": [
       "ArrayType(ListType(NumpyType('float32', parameters={'__doc__': 'energy[ReconstructedParticles_]'}), parameters={'__doc__': 'energy[ReconstructedParticles_]'}), 100000, {'Systematic': <class 'coffea.nanoevents.methods.base.SystematicRecord'>, ('*', 'Systematic'): <class 'coffea.nanoevents.methods.base.SystematicArray'>, ('__typestr__', 'Systematic'): 'Systematic', 'UpDownSystematic': <class 'coffea.nanoevents.methods.systematics.UpDownSystematic.UpDownSystematicRecord'>, ('*', 'UpDownSystematic'): <class 'coffea.nanoevents.methods.systematics.UpDownSystematic.UpDownSystematicArray'>, ('__typestr__', 'UpDownSystematic'): 'UpDownSystematic', 'NanoEvents': <class 'coffea.nanoevents.methods.base.NanoEventsRecord'>, ('*', 'NanoEvents'): <class 'coffea.nanoevents.methods.base.NanoEventsArray'>, ('__typestr__', 'NanoEvents'): 'event', 'NanoCollection': <class 'coffea.nanoevents.methods.base.NanoCollectionRecord'>, ('*', 'NanoCollection'): <class 'coffea.nanoevents.methods.base.NanoCollectionArray'>})"
      ]
     },
     "execution_count": 74,
     "metadata": {},
     "output_type": "execute_result"
    }
   ],
   "source": [
    "events['ReconstructedParticles/ReconstructedParticles.energy'].compute()"
   ]
  },
  {
   "cell_type": "code",
   "execution_count": null,
   "id": "6df59211-69ad-4c6a-8834-b1500ce588a5",
   "metadata": {},
   "outputs": [],
   "source": []
  }
 ],
 "metadata": {
  "kernelspec": {
   "display_name": "Python 3 (ipykernel)",
   "language": "python",
   "name": "python3"
  },
  "language_info": {
   "codemirror_mode": {
    "name": "ipython",
    "version": 3
   },
   "file_extension": ".py",
   "mimetype": "text/x-python",
   "name": "python",
   "nbconvert_exporter": "python",
   "pygments_lexer": "ipython3",
   "version": "3.12.3"
  }
 },
 "nbformat": 4,
 "nbformat_minor": 5
}
