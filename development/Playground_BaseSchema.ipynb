{
 "cells": [
  {
   "cell_type": "code",
   "execution_count": 1,
   "id": "accfc2ed-5b18-42e7-8d98-a927ababce14",
   "metadata": {},
   "outputs": [],
   "source": [
    "from coffea.nanoevents import BaseSchema, NanoEventsFactory\n",
    "import dask_awkward as dak\n",
    "import awkward as ak\n",
    "import matplotlib.pyplot as plt\n",
    "import numpy as np\n",
    "import hist\n",
    "import mplhep as hep\n",
    "import numba\n",
    "from coffea.analysis_tools import PackedSelection\n",
    "import vector\n",
    "vector.register_awkward()"
   ]
  },
  {
   "cell_type": "code",
   "execution_count": 2,
   "id": "fd2f67cd-03ee-4957-87cb-c4938c332dc5",
   "metadata": {},
   "outputs": [],
   "source": [
    "events = NanoEventsFactory.from_root(\n",
    "    file=\"../data/p8_ee_ZH_ecm240/events_101027117.root:events\",\n",
    "    schemaclass=BaseSchema,\n",
    "    # schemaclass=DelphesSchema, Doesn't work \n",
    "    # schemaclass=NanoAODSchema.v7, Doesn't work\n",
    "    metadata={\n",
    "        \"path\":\"/eos/experiment/fcc/ee/generation/DelphesEvents/spring2021/IDEA/p8_ee_ZH_ecm240/events_101027117.root\",\n",
    "        \"name\":\"p8_ee_ZH_ecm240\",\n",
    "        \"process\":\"ZH to mumu, ecm=240 GeV\"\n",
    "    }\n",
    ").events()"
   ]
  },
  {
   "cell_type": "code",
   "execution_count": 3,
   "id": "4221ea78-38d1-4fd8-83c8-40801a0d5aae",
   "metadata": {},
   "outputs": [],
   "source": [
    "from coffea.analysis_tools import PackedSelection"
   ]
  },
  {
   "cell_type": "code",
   "execution_count": 4,
   "id": "2c95580e-e6df-4462-bb7a-6422b3c04f02",
   "metadata": {},
   "outputs": [],
   "source": [
    "def index_mask(input_array, index_array):\n",
    "    '''\n",
    "    This function matches the given attribute of ReconstructedParticles (for example energy) to the particle index (for example Muon or Electron)\n",
    "    '''\n",
    "    # input_array = input_array.compute()\n",
    "    # index_array = index_array.compute()\n",
    "    if len(input_array) != len(index_array) :\n",
    "        raise Exception(f'Length of input_array({len(input_array)}) and index_array({len(index_array)}) does not match!')\n",
    "    counts = len(index_array)\n",
    "    \n",
    "    @numba.jit\n",
    "    def numba_wrap(input_array, index_array, counts):\n",
    "        output_array = []\n",
    "        for event_index in range(counts):\n",
    "            event_mask = index_array[event_index]\n",
    "            reco_list = input_array[event_index]\n",
    "            output_array.append([reco_list[i] for i in  event_mask])\n",
    "        return output_array\n",
    "    out = ak.Array(numba_wrap(input_array,index_array,counts))\n",
    "    \n",
    "    return out"
   ]
  },
  {
   "cell_type": "code",
   "execution_count": 5,
   "id": "cc99fa3a-d12f-4b35-adf2-c030344700f7",
   "metadata": {},
   "outputs": [],
   "source": [
    "cut = PackedSelection()\n",
    "Recon = events['ReconstructedParticles/ReconstructedParticles.energy']\n",
    "cut.add('No cut', ak.all(Recon.compute() > 0, axis=1))\n",
    "\n",
    "# Filter out any event with no reconstructed particles and generate Reconstructed Particle Attributes\n",
    "#ak.mask preserves array length\n",
    "Reco_E = ak.mask(events['ReconstructedParticles/ReconstructedParticles.energy'],ak.num(Recon) > 0).compute()\n",
    "Reco_px = ak.mask(events['ReconstructedParticles/ReconstructedParticles.momentum.x'],ak.num(Recon) > 0).compute()\n",
    "Reco_py = ak.mask(events['ReconstructedParticles/ReconstructedParticles.momentum.y'],ak.num(Recon) > 0).compute()\n",
    "Reco_pz = ak.mask(events['ReconstructedParticles/ReconstructedParticles.momentum.z'],ak.num(Recon) > 0).compute()\n",
    "Reco_q = ak.mask(events['ReconstructedParticles/ReconstructedParticles.charge'],ak.num(Recon) > 0).compute()\n",
    "Reco_mass = ak.mask(events['ReconstructedParticles/ReconstructedParticles.mass'],ak.num(Recon) > 0).compute()\n",
    "cut.add('At least one Reco Particle', ak.all(Reco_E > 0, axis=1))\n",
    "\n",
    "# Generate Muon Attributes\n",
    "Muon_index = events['Muon#0/Muon#0.index'].compute()\n",
    "Muon_E = index_mask(Reco_E,Muon_index)\n",
    "Muon_px = index_mask(Reco_px,Muon_index)\n",
    "Muon_py = index_mask(Reco_py,Muon_index)\n",
    "Muon_pz = index_mask(Reco_pz,Muon_index)\n",
    "Muon_q = index_mask(Reco_q,Muon_index)\n",
    "Muon_mass = index_mask(Reco_mass,Muon_index)\n",
    "\n",
    "# Create Array of Muon Lorentz Vector \n",
    "Muon = ak.zip({\"px\":Muon_px,\"py\":Muon_py,\"pz\":Muon_pz,\"E\":Muon_E,\"q\":Muon_q,}, with_name=\"Momentum4D\")\n",
    "\n",
    "# Muon pt > 10\n",
    "Muon_pt_cut = ak.all(Muon.pt > 10, axis=1)\n",
    "Muon = ak.mask(Muon, Muon_pt_cut) #ak.mask to preserve number of events\n",
    "cut.add('Muon $p_T$ > 10 [GeV]',Muon_pt_cut)\n",
    "\n",
    "# Produce all the combinations of Muon Pairs possible within an event\n",
    "combs = ak.combinations(Muon,2)\n",
    "\n",
    "# Get dimuons\n",
    "mu1 , mu2 = ak.unzip(combs)\n",
    "di_muon = mu1 + mu2\n",
    "\n",
    "# Selection 0 : Only one Z candidate in an event\n",
    "di_muon = ak.mask(di_muon, ak.num(di_muon) == 1)\n",
    "di_muon_mass = ak.flatten(di_muon.mass)\n",
    "cut.add('$N_Z$',ak.num(Muon) == 2 ) #Having one Z candidate is same as having exactly two muons in an even\n",
    "\n",
    "# Choose dimuon which is made up of two oppositely charged muons\n",
    "q_sum = mu1.q + mu2.q\n",
    "q_sum_array = ak.mask(q_sum, ak.num(q_sum) == 1)\n",
    "q_sum_mask = ak.all(q_sum_array == 0, axis=1)\n",
    "Z_cand = ak.mask(di_muon , q_sum_mask)\n",
    "cut.add('Opp charge muons',q_sum_mask)\n",
    "\n",
    "#Recoil Calculation\n",
    "ecm = 240 #GeV # com energy\n",
    "initial = ak.zip({\"px\":0,\"py\":0,\"pz\":0,\"E\":ecm}, with_name=\"Momentum4D\")\n",
    "Recoil = initial - Z_cand\n",
    "\n",
    "# Selection 1 : Selection 0 + 80 < M_Z < 100\n",
    "zmassmask = (Z_cand.mass > 80) & (Z_cand.mass < 100)\n",
    "Z_cand_sel1 = Z_cand[zmassmask]\n",
    "Recoil_sel1 = Recoil[zmassmask]\n",
    "zmassmask = ak.fill_none(zmassmask,[False],axis=0) #Replace None values at axis 0 with [False]\n",
    "zmassmask = ak.flatten(zmassmask)\n",
    "cut.add('80 < $M_Z$ < 100',zmassmask)\n",
    "\n",
    "#Prepare cutflows\n",
    "sel0_list = ['No cut','At least one Reco Particle', 'Muon $p_T$ > 10 [GeV]', '$N_Z$', 'Opp charge muons' ]\n",
    "sel1_list = ['No cut','At least one Reco Particle', 'Muon $p_T$ > 10 [GeV]', '$N_Z$', 'Opp charge muons', '80 < $M_Z$ < 100']\n",
    "sel0 = cut.cutflow(*sel0_list)\n",
    "sel1 = cut.cutflow(*sel1_list)\n",
    "\n",
    "#Prepare output\n",
    "Output = {\n",
    "    'histograms': {\n",
    "        'sel0': {\n",
    "        'Zm': hist.Hist.new.Regular(125,0,250).Double().fill(ak.flatten(Z_cand.mass)),\n",
    "        'Zm_zoom' : hist.Hist.new.Regular(40,80,100).Double().fill(ak.flatten(Z_cand.mass)),\n",
    "        'Recoilm': hist.Hist.new.Regular(100,0,200).Double().fill(ak.flatten(Recoil.mass)),\n",
    "        'Recoilm_zoom' : hist.Hist.new.Regular(200,80,160).Double().fill(ak.flatten(Recoil.mass)),\n",
    "        'Recoilm_zoom1' : hist.Hist.new.Regular(100,120,140).Double().fill(ak.flatten(Recoil.mass)),\n",
    "        'Recoilm_zoom2' : hist.Hist.new.Regular(200,120,140).Double().fill(ak.flatten(Recoil.mass)),\n",
    "        'Recoilm_zoom3' : hist.Hist.new.Regular(400,120,140).Double().fill(ak.flatten(Recoil.mass)),\n",
    "        'Recoilm_zoom4' : hist.Hist.new.Regular(800,120,140).Double().fill(ak.flatten(Recoil.mass)),\n",
    "        'Recoilm_zoom5' : hist.Hist.new.Regular(2000,120,140).Double().fill(ak.flatten(Recoil.mass)),\n",
    "        'Recoilm_zoom6' : hist.Hist.new.Regular(100,130.3,132.5).Double().fill(ak.flatten(Recoil.mass))\n",
    "        },\n",
    "        'sel1': {\n",
    "        'Zm': hist.Hist.new.Regular(125,0,250).Double().fill(ak.flatten(Z_cand_sel1.mass)),\n",
    "        'Zm_zoom' : hist.Hist.new.Regular(40,80,100).Double().fill(ak.flatten(Z_cand_sel1.mass)),\n",
    "        'Recoilm': hist.Hist.new.Regular(100,0,200).Double().fill(ak.flatten(Recoil_sel1.mass)),\n",
    "        'Recoilm_zoom' : hist.Hist.new.Regular(200,80,160).Double().fill(ak.flatten(Recoil_sel1.mass)),\n",
    "        'Recoilm_zoom1' : hist.Hist.new.Regular(100,120,140).Double().fill(ak.flatten(Recoil_sel1.mass)),\n",
    "        'Recoilm_zoom2' : hist.Hist.new.Regular(200,120,140).Double().fill(ak.flatten(Recoil_sel1.mass)),\n",
    "        'Recoilm_zoom3' : hist.Hist.new.Regular(400,120,140).Double().fill(ak.flatten(Recoil_sel1.mass)),\n",
    "        'Recoilm_zoom4' : hist.Hist.new.Regular(800,120,140).Double().fill(ak.flatten(Recoil_sel1.mass)),\n",
    "        'Recoilm_zoom5' : hist.Hist.new.Regular(2000,120,140).Double().fill(ak.flatten(Recoil_sel1.mass)),\n",
    "        'Recoilm_zoom6' : hist.Hist.new.Regular(100,130.3,132.5).Double().fill(ak.flatten(Recoil_sel1.mass))\n",
    "        }\n",
    "    },\n",
    "    'cutflow': { #cutflow objects\n",
    "        'sel0': sel0,\n",
    "        'sel1': sel1\n",
    "    }\n",
    "}"
   ]
  },
  {
   "cell_type": "code",
   "execution_count": 6,
   "id": "0244a864-f407-4557-875a-9d17a512b594",
   "metadata": {},
   "outputs": [
    {
     "data": {
      "text/plain": [
       "{'histograms': {'sel0': {'Zm': Hist(Regular(125, 0, 250, label='Axis 0'), storage=Double()) # Sum: 2760.0,\n",
       "   'Zm_zoom': Hist(Regular(40, 80, 100, label='Axis 0'), storage=Double()) # Sum: 2236.0 (2760.0 with flow),\n",
       "   'Recoilm': Hist(Regular(100, 0, 200, label='Axis 0'), storage=Double()) # Sum: 2738.0 (2760.0 with flow),\n",
       "   'Recoilm_zoom': Hist(Regular(200, 80, 160, label='Axis 0'), storage=Double()) # Sum: 2549.0 (2760.0 with flow),\n",
       "   'Recoilm_zoom1': Hist(Regular(100, 120, 140, label='Axis 0'), storage=Double()) # Sum: 2246.0 (2760.0 with flow),\n",
       "   'Recoilm_zoom2': Hist(Regular(200, 120, 140, label='Axis 0'), storage=Double()) # Sum: 2246.0 (2760.0 with flow),\n",
       "   'Recoilm_zoom3': Hist(Regular(400, 120, 140, label='Axis 0'), storage=Double()) # Sum: 2246.0 (2760.0 with flow),\n",
       "   'Recoilm_zoom4': Hist(Regular(800, 120, 140, label='Axis 0'), storage=Double()) # Sum: 2246.0 (2760.0 with flow),\n",
       "   'Recoilm_zoom5': Hist(Regular(2000, 120, 140, label='Axis 0'), storage=Double()) # Sum: 2246.0 (2760.0 with flow),\n",
       "   'Recoilm_zoom6': Hist(Regular(100, 130.3, 132.5, label='Axis 0'), storage=Double()) # Sum: 163.0 (2760.0 with flow)},\n",
       "  'sel1': {'Zm': Hist(Regular(125, 0, 250, label='Axis 0'), storage=Double()) # Sum: 2236.0,\n",
       "   'Zm_zoom': Hist(Regular(40, 80, 100, label='Axis 0'), storage=Double()) # Sum: 2236.0,\n",
       "   'Recoilm': Hist(Regular(100, 0, 200, label='Axis 0'), storage=Double()) # Sum: 2236.0,\n",
       "   'Recoilm_zoom': Hist(Regular(200, 80, 160, label='Axis 0'), storage=Double()) # Sum: 2236.0,\n",
       "   'Recoilm_zoom1': Hist(Regular(100, 120, 140, label='Axis 0'), storage=Double()) # Sum: 2067.0 (2236.0 with flow),\n",
       "   'Recoilm_zoom2': Hist(Regular(200, 120, 140, label='Axis 0'), storage=Double()) # Sum: 2067.0 (2236.0 with flow),\n",
       "   'Recoilm_zoom3': Hist(Regular(400, 120, 140, label='Axis 0'), storage=Double()) # Sum: 2067.0 (2236.0 with flow),\n",
       "   'Recoilm_zoom4': Hist(Regular(800, 120, 140, label='Axis 0'), storage=Double()) # Sum: 2067.0 (2236.0 with flow),\n",
       "   'Recoilm_zoom5': Hist(Regular(2000, 120, 140, label='Axis 0'), storage=Double()) # Sum: 2067.0 (2236.0 with flow),\n",
       "   'Recoilm_zoom6': Hist(Regular(100, 130.3, 132.5, label='Axis 0'), storage=Double()) # Sum: 146.0 (2236.0 with flow)}},\n",
       " 'cutflow': {'sel0': Cutflow(selections=('No cut', 'At least one Reco Particle', 'Muon $p_T$ > 10 [GeV]', '$N_Z$', 'Opp charge muons')),\n",
       "  'sel1': Cutflow(selections=('No cut', 'At least one Reco Particle', 'Muon $p_T$ > 10 [GeV]', '$N_Z$', 'Opp charge muons', '80 < $M_Z$ < 100'))}}"
      ]
     },
     "execution_count": 6,
     "metadata": {},
     "output_type": "execute_result"
    }
   ],
   "source": [
    "Output"
   ]
  },
  {
   "cell_type": "code",
   "execution_count": 7,
   "id": "d8b0e610-5a6b-4aed-9c3d-3b46b8a52b54",
   "metadata": {},
   "outputs": [],
   "source": [
    "import matplotlib.pyplot as plt\n",
    "import mplhep as hep\n",
    "import numpy as np"
   ]
  },
  {
   "cell_type": "code",
   "execution_count": 57,
   "id": "3197b9d6-2f05-4fbc-912e-193b0e831d16",
   "metadata": {},
   "outputs": [
    {
     "data": {
      "text/plain": [
       "''"
      ]
     },
     "execution_count": 57,
     "metadata": {},
     "output_type": "execute_result"
    },
    {
     "data": {
      "image/png": "[encoded data removed]",
      "text/plain": [
       "<Figure size 800x800 with 1 Axes>"
      ]
     },
     "metadata": {},
     "output_type": "display_data"
    }
   ],
   "source": [
    "Stack = True\n",
    "fig,ax = plt.subplots(figsize=(8,8))\n",
    "bkgs = [Output['histograms']['sel0']['Recoilm_zoom2'], Output['histograms']['sel1']['Recoilm_zoom2']]\n",
    "sigl = [Output['histograms']['sel1']['Recoilm_zoom2']*1.5]\n",
    "hep.histplot(\n",
    "    bkgs,\n",
    "    color = ['r','g'],\n",
    "    yerr= 0,\n",
    "    label=['sel0','sel1'],\n",
    "    histtype='fill',\n",
    "    stack=True,\n",
    "    alpha=0.8,\n",
    "    edgecolor='black',\n",
    "    linewidth=1,\n",
    "    sort='yield_r',\n",
    "    ax=ax\n",
    ")\n",
    "if Stack :\n",
    "    sigl_hist = sum(sigl)+sum(bkgs) #Manual stacking\n",
    "else:\n",
    "    sigl_hist = sigl\n",
    "hep.histplot(\n",
    "    sigl_hist,\n",
    "    color=['r'],\n",
    "    label=['sel1*0.5'],\n",
    "    histtype='step',\n",
    "    stack=False,\n",
    "    linewidth=1,\n",
    "    ax=ax\n",
    ")\n",
    "ax.legend()\n",
    "ax.set_yscale('log')\n",
    ";"
   ]
  },
  {
   "cell_type": "code",
   "execution_count": 47,
   "id": "779da58b-9125-4a3b-ba93-894cc26b2317",
   "metadata": {},
   "outputs": [
    {
     "data": {
      "text/html": [
       "<html>\n",
       "<div style=\"display:flex; align-items:center;\">\n",
       "<div style=\"width:290px;\">\n",
       "<svg xmlns=\"http://www.w3.org/2000/svg\" viewBox=\"-10 -105 270 120\">\n",
       "<line x1=\"-5\" y1=\"0\" x2=\"255\" y2=\"0\" style=\"fill:none;stroke-width:2;stroke:currentColor\"/>\n",
       "<text text-anchor=\"middle\" x=\"0\" y=\"15\" style=\"fill:currentColor;\">\n",
       "80\n",
       "</text>\n",
       "<text text-anchor=\"middle\" x=\"250\" y=\"15\" style=\"fill:currentColor;\">\n",
       "160\n",
       "</text>\n",
       "<text text-anchor=\"middle\" x=\"125.0\" y=\"15\" style=\"fill:currentColor;\">\n",
       "Axis 0\n",
       "</text>\n",
       "<polyline points=\"  0,0   0,-0 1.25,-0 1.25,-0 2.5,-0 2.5,-0 3.75,-0 3.75,-0   5,-0   5,-0 6.25,-0 6.25,-0 7.5,-0 7.5,-0 8.75,-0 8.75,-0  10,-0  10,-0 11.25,-0 11.25,-0 12.5,-0 12.5,-0 13.75,-0 13.75,-0  15,-0  15,-0 16.25,-0 16.25,-0 17.5,-0 17.5,-0 18.75,-0 18.75,-0  20,-0  20,-0 21.25,-0 21.25,-0 22.5,-0 22.5,-0 23.75,-0 23.75,-0  25,-0  25,-0.272 26.25,-0.272 26.25,-0 27.5,-0 27.5,-0 28.75,-0 28.75,-0.272  30,-0.272  30,-0 31.25,-0 31.25,-0 32.5,-0 32.5,-0.272 33.75,-0.272 33.75,-0  35,-0  35,-0 36.25,-0 36.25,-0 37.5,-0 37.5,-0.272 38.75,-0.272 38.75,-0.272  40,-0.272  40,-0 41.25,-0 41.25,-0.815 42.5,-0.815 42.5,-0 43.75,-0 43.75,-0  45,-0  45,-0.543 46.25,-0.543 46.25,-0 47.5,-0 47.5,-0.272 48.75,-0.272 48.75,-0  50,-0  50,-0.815 51.25,-0.815 51.25,-0 52.5,-0 52.5,-0 53.75,-0 53.75,-0  55,-0  55,-0 56.25,-0 56.25,-0.272 57.5,-0.272 57.5,-0.543 58.75,-0.543 58.75,-0.272  60,-0.272  60,-0 61.25,-0 61.25,-0 62.5,-0 62.5,-0 63.75,-0 63.75,-0  65,-0  65,-0.272 66.25,-0.272 66.25,-0 67.5,-0 67.5,-0 68.75,-0 68.75,-0  70,-0  70,-0 71.25,-0 71.25,-0 72.5,-0 72.5,-0 73.75,-0 73.75,-0  75,-0  75,-0 76.25,-0 76.25,-0 77.5,-0 77.5,-0 78.75,-0 78.75,-0  80,-0  80,-0 81.25,-0 81.25,-0 82.5,-0 82.5,-0 83.75,-0 83.75,-0.272  85,-0.272  85,-0 86.25,-0 86.25,-0 87.5,-0 87.5,-0 88.75,-0 88.75,-0  90,-0  90,-0 91.25,-0 91.25,-0 92.5,-0 92.5,-0 93.75,-0 93.75,-0  95,-0  95,-0 96.25,-0 96.25,-0 97.5,-0 97.5,-0 98.75,-0 98.75,-0 100,-0 100,-0 101.25,-0 101.25,-0 102.5,-0 102.5,-0 103.75,-0 103.75,-0 105,-0 105,-0 106.25,-0 106.25,-0 107.5,-0 107.5,-0.272 108.75,-0.272 108.75,-0 110,-0 110,-0 111.25,-0 111.25,-0 112.5,-0 112.5,-0 113.75,-0 113.75,-0 115,-0 115,-0 116.25,-0 116.25,-0.272 117.5,-0.272 117.5,-0 118.75,-0 118.75,-0 120,-0 120,-0 121.25,-0 121.25,-0.272 122.5,-0.272 122.5,-0.543 123.75,-0.543 123.75,-0.272 125,-0.272 125,-0 126.25,-0 126.25,-0 127.5,-0 127.5,-0 128.75,-0 128.75,-0 130,-0 130,-0.272 131.25,-0.272 131.25,-0.272 132.5,-0.272 132.5,-0 133.75,-0 133.75,-0.272 135,-0.272 135,-0.815 136.25,-0.815 136.25,-0.815 137.5,-0.815 137.5,-4.08 138.75,-4.08 138.75,-16.8 140,-16.8 140,-88.3 141.25,-88.3 141.25,-100 142.5,-100 142.5,-62 143.75,-62 143.75,-43.2 145,-43.2 145,-23.6 146.25,-23.6 146.25,-23.6 147.5,-23.6 147.5,-23.4 148.75,-23.4 148.75,-19.3 150,-19.3 150,-15.5 151.25,-15.5 151.25,-17.4 152.5,-17.4 152.5,-13 153.75,-13 153.75,-9.78 155,-9.78 155,-10.3 156.25,-10.3 156.25,-10.6 157.5,-10.6 157.5,-8.97 158.75,-8.97 158.75,-10.3 160,-10.3 160,-7.07 161.25,-7.07 161.25,-7.07 162.5,-7.07 162.5,-7.34 163.75,-7.34 163.75,-5.71 165,-5.71 165,-4.89 166.25,-4.89 166.25,-5.71 167.5,-5.71 167.5,-6.52 168.75,-6.52 168.75,-6.52 170,-6.52 170,-6.52 171.25,-6.52 171.25,-4.08 172.5,-4.08 172.5,-5.16 173.75,-5.16 173.75,-4.08 175,-4.08 175,-4.89 176.25,-4.89 176.25,-3.53 177.5,-3.53 177.5,-2.99 178.75,-2.99 178.75,-4.35 180,-4.35 180,-3.26 181.25,-3.26 181.25,-4.89 182.5,-4.89 182.5,-4.08 183.75,-4.08 183.75,-5.16 185,-5.16 185,-0.815 186.25,-0.815 186.25,-2.99 187.5,-2.99 187.5,-2.99 188.75,-2.99 188.75,-4.35 190,-4.35 190,-2.17 191.25,-2.17 191.25,-3.8 192.5,-3.8 192.5,-2.72 193.75,-2.72 193.75,-3.53 195,-3.53 195,-2.99 196.25,-2.99 196.25,-2.99 197.5,-2.99 197.5,-1.63 198.75,-1.63 198.75,-0.815 200,-0.815 200,-2.99 201.25,-2.99 201.25,-3.8 202.5,-3.8 202.5,-1.09 203.75,-1.09 203.75,-2.17 205,-2.17 205,-0.543 206.25,-0.543 206.25,-1.09 207.5,-1.09 207.5,-3.26 208.75,-3.26 208.75,-2.17 210,-2.17 210,-1.09 211.25,-1.09 211.25,-2.17 212.5,-2.17 212.5,-0.543 213.75,-0.543 213.75,-1.09 215,-1.09 215,-2.45 216.25,-2.45 216.25,-1.09 217.5,-1.09 217.5,-1.36 218.75,-1.36 218.75,-1.36 220,-1.36 220,-0.543 221.25,-0.543 221.25,-1.36 222.5,-1.36 222.5,-0.272 223.75,-0.272 223.75,-1.63 225,-1.63 225,-0.272 226.25,-0.272 226.25,-0.815 227.5,-0.815 227.5,-1.36 228.75,-1.36 228.75,-0.272 230,-0.272 230,-0.272 231.25,-0.272 231.25,-0.815 232.5,-0.815 232.5,-0.543 233.75,-0.543 233.75,-0.272 235,-0.272 235,-1.36 236.25,-1.36 236.25,-1.9 237.5,-1.9 237.5,-0.272 238.75,-0.272 238.75,-0.543 240,-0.543 240,-0.815 241.25,-0.815 241.25,-0.815 242.5,-0.815 242.5,-0.543 243.75,-0.543 243.75,-0.543 245,-0.543 245,-1.36 246.25,-1.36 246.25,-0.815 247.5,-0.815 247.5,-0.815 248.75,-0.815 248.75,-0.815 250,-0.815 250,0\" style=\"fill:none; stroke:currentColor;\"/>\n",
       "</svg>\n",
       "</div>\n",
       "<div style=\"flex=grow:1;\">\n",
       "Regular(200, 80, 160, label='Axis 0')<br/>\n",
       "<hr style=\"margin-top:.2em; margin-bottom:.2em;\"/>\n",
       "Double() Σ=7647.0 <em>(8280.0 with flow)</em>\n",
       "\n",
       "</div>\n",
       "</div>\n",
       "</html>"
      ],
      "text/plain": [
       "Hist(Regular(200, 80, 160, label='Axis 0'), storage=Double()) # Sum: 7647.0 (8280.0 with flow)"
      ]
     },
     "execution_count": 47,
     "metadata": {},
     "output_type": "execute_result"
    }
   ],
   "source": [
    "sum([Output['histograms']['sel0']['Recoilm_zoom'], Output['histograms']['sel0']['Recoilm_zoom']*2])"
   ]
  },
  {
   "cell_type": "code",
   "execution_count": null,
   "id": "9b439319-c56d-4f34-b7d3-7d3fa6995839",
   "metadata": {},
   "outputs": [],
   "source": []
  }
 ],
 "metadata": {
  "kernelspec": {
   "display_name": "Python 3 (ipykernel)",
   "language": "python",
   "name": "python3"
  },
  "language_info": {
   "codemirror_mode": {
    "name": "ipython",
    "version": 3
   },
   "file_extension": ".py",
   "mimetype": "text/x-python",
   "name": "python",
   "nbconvert_exporter": "python",
   "pygments_lexer": "ipython3",
   "version": "3.12.3"
  }
 },
 "nbformat": 4,
 "nbformat_minor": 5
}
