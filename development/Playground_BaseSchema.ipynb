{
 "cells": [
  {
   "cell_type": "code",
   "execution_count": 62,
   "id": "5bb338d7",
   "metadata": {},
   "outputs": [],
   "source": [
    "from coffea.util import load\n",
    "from coffea.analysis_tools import PackedSelection, Cutflow\n",
    "from collections import namedtuple\n",
    "import numpy as np"
   ]
  },
  {
   "cell_type": "code",
   "execution_count": 6,
   "id": "47f4b967-1040-4b25-b88d-77dfd101b1c9",
   "metadata": {},
   "outputs": [],
   "source": [
    "out1 = load('./outputs_old/FCCee/higgs/mH-recoil/mumu/mHrecoil_mumu.coffea')\n",
    "out2 = load('./outputs_old/FCCee/higgs/mH-recoil/mumu/mHrecoil_mumu.coffea')"
   ]
  },
  {
   "cell_type": "code",
   "execution_count": 7,
   "id": "1fc39fa8-bbdc-425a-be19-8bd5c39a5501",
   "metadata": {},
   "outputs": [
    {
     "data": {
      "text/plain": [
       "dict_keys(['p8_ee_ZZ_ecm240', 'p8_ee_WW_ecm240', 'p8_ee_ZH_ecm240'])"
      ]
     },
     "execution_count": 7,
     "metadata": {},
     "output_type": "execute_result"
    }
   ],
   "source": [
    "out1.keys()"
   ]
  },
  {
   "cell_type": "code",
   "execution_count": 43,
   "id": "ac69a2d7-4c37-4db9-8b9c-2b461b8bf4fd",
   "metadata": {},
   "outputs": [],
   "source": [
    "c1 = out1['p8_ee_ZZ_ecm240']['cutflow']['sel0']\n",
    "c2 = out1['p8_ee_ZZ_ecm240']['cutflow']['sel0']"
   ]
  },
  {
   "cell_type": "code",
   "execution_count": 51,
   "id": "f94d24e3-401d-4b6b-8ffc-6776b456883f",
   "metadata": {},
   "outputs": [
    {
     "data": {
      "text/plain": [
       "{'labels': ['initial',\n",
       "  'No cut',\n",
       "  'At least one Reco Particle',\n",
       "  'Muon $p_T$ > 10 [GeV]',\n",
       "  '$N_Z$',\n",
       "  'Opp charge muons'],\n",
       " 'nevonecut': [300000, 300000, 292809, 291002, 18038, 18003],\n",
       " 'nevcutflow': [300000, 300000, 292809, 283811, 18038, 18003],\n",
       " 'masksonecut': [array([ True,  True,  True, ...,  True,  True,  True]),\n",
       "  array([ True,  True,  True, ...,  True,  True,  True]),\n",
       "  array([ True,  True,  True, ...,  True,  True,  True]),\n",
       "  array([False, False,  True, ..., False, False, False]),\n",
       "  array([False, False,  True, ..., False, False, False])],\n",
       " 'maskscutflow': [array([ True,  True,  True, ...,  True,  True,  True]),\n",
       "  array([ True,  True,  True, ...,  True,  True,  True]),\n",
       "  array([ True,  True,  True, ...,  True,  True,  True]),\n",
       "  array([False, False,  True, ..., False, False, False]),\n",
       "  array([False, False,  True, ..., False, False, False])]}"
      ]
     },
     "execution_count": 51,
     "metadata": {},
     "output_type": "execute_result"
    }
   ],
   "source": [
    "c1.result()._asdict()"
   ]
  },
  {
   "cell_type": "code",
   "execution_count": 93,
   "id": "0540fadd-04d4-4c48-a803-f29ffabb50eb",
   "metadata": {},
   "outputs": [],
   "source": [
    "def add_cutflow(c1,c2):\n",
    "    '''\n",
    "    Add cutflow objects assuming they operate on non-overlaping sample regions\n",
    "    '''\n",
    "    r1 = c1.result()\n",
    "    r2 = c2.result()\n",
    "\n",
    "\n",
    "    if r1.labels == r2.labels :\n",
    "        names = r1.labels\n",
    "        names.remove('initial') # initial is added when Cutflow class is called, so removing it to preserve names list length\n",
    "        names = names\n",
    "        nevonecut = [a+b for a,b in zip(r1.nevonecut,r2.nevonecut)]\n",
    "        nevcutflow = [a+b for a,b in zip(r1.nevcutflow,r2.nevcutflow)]\n",
    "        masksonecut = [np.concatenate((a,b)) for a,b in zip(r1.masksonecut,r2.masksonecut)]\n",
    "        maskscutflow = [np.concatenate((a,b)) for a,b in zip(r1.maskscutflow,r2.maskscutflow)]\n",
    "        \n",
    "    else:\n",
    "        raise \"The labels of the cutflow do not match!\"\n",
    "    return Cutflow(names, nevonecut, nevcutflow, masksonecut, maskscutflow, delayed_mode=False)"
   ]
  },
  {
   "cell_type": "code",
   "execution_count": 94,
   "id": "c91fd826-948e-4a98-b2bc-a85d3cad2cc0",
   "metadata": {},
   "outputs": [],
   "source": [
    "Cutflow.__add__ = add_cutflow #Monkey patch to enable the add method"
   ]
  },
  {
   "cell_type": "code",
   "execution_count": 95,
   "id": "3dceea1f-81ae-4de2-b990-c614cc30f0f8",
   "metadata": {},
   "outputs": [
    {
     "name": "stdout",
     "output_type": "stream",
     "text": [
      "Cutflow stats:\n",
      "Cut No cut              :pass = 600000              cumulative pass = 600000              all = 600000              -- eff = 100.0 %                    -- cumulative eff = 100.0 %\n",
      "Cut At least one Reco Particle:pass = 585618              cumulative pass = 585618              all = 600000              -- eff = 97.6 %                    -- cumulative eff = 97.6 %\n",
      "Cut Muon $p_T$ > 10 [GeV]:pass = 582004              cumulative pass = 567622              all = 600000              -- eff = 97.0 %                    -- cumulative eff = 94.6 %\n",
      "Cut $N_Z$               :pass = 36076               cumulative pass = 36076               all = 600000              -- eff = 6.0 %                    -- cumulative eff = 6.0 %\n",
      "Cut Opp charge muons    :pass = 36006               cumulative pass = 36006               all = 600000              -- eff = 6.0 %                    -- cumulative eff = 6.0 %\n"
     ]
    }
   ],
   "source": [
    "(c1+c2).print()"
   ]
  },
  {
   "cell_type": "code",
   "execution_count": 96,
   "id": "55ed229b-876a-4ec2-afd6-81984706599c",
   "metadata": {},
   "outputs": [
    {
     "data": {
      "text/plain": [
       "CutflowResult(labels=['initial', 'No cut', 'At least one Reco Particle', 'Muon $p_T$ > 10 [GeV]', '$N_Z$', 'Opp charge muons'], nevonecut=[600000, 600000, 585618, 582004, 36076, 36006], nevcutflow=[600000, 600000, 585618, 567622, 36076, 36006], masksonecut=[array([ True,  True,  True, ...,  True,  True,  True]), array([ True,  True,  True, ...,  True,  True,  True]), array([ True,  True,  True, ...,  True,  True,  True]), array([False, False,  True, ..., False, False, False]), array([False, False,  True, ..., False, False, False])], maskscutflow=[array([ True,  True,  True, ...,  True,  True,  True]), array([ True,  True,  True, ...,  True,  True,  True]), array([ True,  True,  True, ...,  True,  True,  True]), array([False, False,  True, ..., False, False, False]), array([False, False,  True, ..., False, False, False])])"
      ]
     },
     "execution_count": 96,
     "metadata": {},
     "output_type": "execute_result"
    }
   ],
   "source": [
    "(c1+c2).result()"
   ]
  },
  {
   "cell_type": "code",
   "execution_count": 97,
   "id": "6511e88c-8e87-49d3-8f8a-9739ae8bc95a",
   "metadata": {},
   "outputs": [
    {
     "data": {
      "text/plain": [
       "(Hist(Integer(0, 6, name='onecut'), storage=Double()) # Sum: 2439704.0,\n",
       " Hist(Integer(0, 6, name='cutflow'), storage=Double()) # Sum: 2425322.0,\n",
       " ['initial',\n",
       "  'No cut',\n",
       "  'At least one Reco Particle',\n",
       "  'Muon $p_T$ > 10 [GeV]',\n",
       "  '$N_Z$',\n",
       "  'Opp charge muons'])"
      ]
     },
     "execution_count": 97,
     "metadata": {},
     "output_type": "execute_result"
    }
   ],
   "source": [
    "(c1+c2).yieldhist()"
   ]
  },
  {
   "cell_type": "code",
   "execution_count": 66,
   "id": "5ee00e17-9b22-4e98-9a3e-6f5f6d07d1fa",
   "metadata": {},
   "outputs": [],
   "source": [
    "r1 = c1.result()\n",
    "r2 = c2.result()"
   ]
  },
  {
   "cell_type": "code",
   "execution_count": 69,
   "id": "c78734a3-61d1-4bdc-813f-7fc4d0213177",
   "metadata": {},
   "outputs": [
    {
     "data": {
      "text/plain": [
       "5"
      ]
     },
     "execution_count": 69,
     "metadata": {},
     "output_type": "execute_result"
    }
   ],
   "source": [
    "masksonecut = [np.concatenate((a,b)) for a,b in zip(r1.masksonecut,r2.masksonecut)]\n",
    "len(r1.masksonecut)"
   ]
  },
  {
   "cell_type": "code",
   "execution_count": 70,
   "id": "59f1bdb4-b0f8-41e0-86f4-ac9bc183fcec",
   "metadata": {},
   "outputs": [
    {
     "data": {
      "text/plain": [
       "(300000,)"
      ]
     },
     "execution_count": 70,
     "metadata": {},
     "output_type": "execute_result"
    }
   ],
   "source": [
    "r1.masksonecut[0].shape"
   ]
  },
  {
   "cell_type": "code",
   "execution_count": 71,
   "id": "236e5028-f2d8-42f9-8684-c1e8f92745b9",
   "metadata": {},
   "outputs": [
    {
     "data": {
      "text/plain": [
       "5"
      ]
     },
     "execution_count": 71,
     "metadata": {},
     "output_type": "execute_result"
    }
   ],
   "source": [
    "len(masksonecut)"
   ]
  },
  {
   "cell_type": "code",
   "execution_count": 72,
   "id": "7b22b7b7-2dc6-4725-8489-9c0a7a0b2610",
   "metadata": {},
   "outputs": [
    {
     "data": {
      "text/plain": [
       "(600000,)"
      ]
     },
     "execution_count": 72,
     "metadata": {},
     "output_type": "execute_result"
    }
   ],
   "source": [
    "masksonecut[0].shape"
   ]
  },
  {
   "cell_type": "code",
   "execution_count": 82,
   "id": "2dd9beb7-0a87-44fc-826f-35aec60b706f",
   "metadata": {},
   "outputs": [],
   "source": [
    "r1.labels.remove('initial')"
   ]
  },
  {
   "cell_type": "code",
   "execution_count": 83,
   "id": "52fcfc81-eeee-4b71-a048-1613e78a8e6e",
   "metadata": {},
   "outputs": [
    {
     "data": {
      "text/plain": [
       "['No cut',\n",
       " 'At least one Reco Particle',\n",
       " 'Muon $p_T$ > 10 [GeV]',\n",
       " '$N_Z$',\n",
       " 'Opp charge muons']"
      ]
     },
     "execution_count": 83,
     "metadata": {},
     "output_type": "execute_result"
    }
   ],
   "source": [
    "r1.labels"
   ]
  },
  {
   "cell_type": "code",
   "execution_count": 38,
   "id": "ccaf519d-c88f-4318-b22d-452909085533",
   "metadata": {},
   "outputs": [],
   "source": [
    "def accumulate(dicts):\n",
    "    \"\"\"\n",
    "    Merges an array of dictionaries and adds up the values of common keys.\n",
    "\n",
    "    Parameters:\n",
    "    dicts (list): A list of dictionaries to be merged.\n",
    "\n",
    "    Returns:\n",
    "    dict: A dictionary with combined keys and values summed for common keys.\n",
    "    \"\"\"\n",
    "    dict = {}\n",
    "\n",
    "    for dictionary in dicts:\n",
    "        for key, value in dictionary.items():\n",
    "            if key in dict:\n",
    "                dict[key] += value  # Add values if the key is common\n",
    "            else:\n",
    "                dict[key] = value  # Otherwise, add the new key-value pair \n",
    "    return dict"
   ]
  }
 ],
 "metadata": {
  "kernelspec": {
   "display_name": "Python 3 (ipykernel)",
   "language": "python",
   "name": "python3"
  },
  "language_info": {
   "codemirror_mode": {
    "name": "ipython",
    "version": 3
   },
   "file_extension": ".py",
   "mimetype": "text/x-python",
   "name": "python",
   "nbconvert_exporter": "python",
   "pygments_lexer": "ipython3",
   "version": "3.12.3"
  }
 },
 "nbformat": 4,
 "nbformat_minor": 5
}
