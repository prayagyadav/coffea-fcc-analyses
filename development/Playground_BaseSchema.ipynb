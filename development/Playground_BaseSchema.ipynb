{
 "cells": [
  {
   "cell_type": "code",
   "execution_count": 1,
   "id": "accfc2ed-5b18-42e7-8d98-a927ababce14",
   "metadata": {},
   "outputs": [],
   "source": [
    "from coffea.nanoevents import BaseSchema, NanoEventsFactory\n",
    "import dask_awkward as dak\n",
    "import awkward as ak\n",
    "import matplotlib.pyplot as plt\n",
    "import numpy as np\n",
    "import hist\n",
    "import mplhep as hep\n",
    "import numba\n",
    "import vector\n",
    "vector.register_awkward()"
   ]
  },
  {
   "cell_type": "code",
   "execution_count": 2,
   "id": "55c5a988-d3a0-4cd8-abb0-4245403f87b4",
   "metadata": {},
   "outputs": [],
   "source": [
    "# events = NanoEventsFactory.from_root(\n",
    "#     file=\"./events_2021100911011863214.root:events\",\n",
    "#     schemaclass=BaseSchema,\n",
    "#     # schemaclass=DelphesSchema, Doesn't work \n",
    "#     # schemaclass=NanoAODSchema.v7, Doesn't work\n",
    "#     metadata={\n",
    "#         \"path\":\"/eos/experiment/fcc/ee/generation/DelphesEvents/spring2021/IDEA/kkmcp8_ee_mumu_ecm240/\",\n",
    "#         \"name\":\"kkmcp8_ee_mumu_ecm240\",\n",
    "#         \"process\":\"Z/gamma* to mumu, ecm=240 GeV\"\n",
    "#     }\n",
    "# ).events()"
   ]
  },
  {
   "cell_type": "code",
   "execution_count": 3,
   "id": "fd2f67cd-03ee-4957-87cb-c4938c332dc5",
   "metadata": {},
   "outputs": [],
   "source": [
    "events = NanoEventsFactory.from_root(\n",
    "    file=\"./p8_ee_ZH_ecm240/events_101027117.root:events\",\n",
    "    schemaclass=BaseSchema,\n",
    "    # schemaclass=DelphesSchema, Doesn't work \n",
    "    # schemaclass=NanoAODSchema.v7, Doesn't work\n",
    "    metadata={\n",
    "        \"path\":\"/eos/experiment/fcc/ee/generation/DelphesEvents/spring2021/IDEA/p8_ee_ZH_ecm240/events_101027117.root\",\n",
    "        \"name\":\"p8_ee_ZH_ecm240\",\n",
    "        \"process\":\"ZH to mumu, ecm=240 GeV\"\n",
    "    }\n",
    ").events()"
   ]
  },
  {
   "cell_type": "code",
   "execution_count": 4,
   "id": "6b5fa656-77e8-4c7a-8083-36d5d3887453",
   "metadata": {},
   "outputs": [
    {
     "data": {
      "text/plain": [
       "['Electron',\n",
       " 'Electron#0',\n",
       " 'Electron#0/Electron#0.index',\n",
       " 'Electron#0/Electron#0.collectionID',\n",
       " 'Muon',\n",
       " 'Muon#0',\n",
       " 'Muon#0/Muon#0.index',\n",
       " 'Muon#0/Muon#0.collectionID',\n",
       " 'AllMuon',\n",
       " 'AllMuon#0',\n",
       " 'AllMuon#0/AllMuon#0.index',\n",
       " 'AllMuon#0/AllMuon#0.collectionID',\n",
       " 'EFlowNeutralHadron',\n",
       " 'EFlowNeutralHadron/EFlowNeutralHadron.type',\n",
       " 'EFlowNeutralHadron/EFlowNeutralHadron.energy',\n",
       " 'EFlowNeutralHadron/EFlowNeutralHadron.energyError',\n",
       " 'EFlowNeutralHadron/EFlowNeutralHadron.position.x',\n",
       " 'EFlowNeutralHadron/EFlowNeutralHadron.position.y',\n",
       " 'EFlowNeutralHadron/EFlowNeutralHadron.position.z',\n",
       " 'EFlowNeutralHadron/EFlowNeutralHadron.positionError[6]',\n",
       " 'EFlowNeutralHadron/EFlowNeutralHadron.iTheta',\n",
       " 'EFlowNeutralHadron/EFlowNeutralHadron.phi',\n",
       " 'EFlowNeutralHadron/EFlowNeutralHadron.directionError.x',\n",
       " 'EFlowNeutralHadron/EFlowNeutralHadron.directionError.y',\n",
       " 'EFlowNeutralHadron/EFlowNeutralHadron.directionError.z',\n",
       " 'EFlowNeutralHadron/EFlowNeutralHadron.shapeParameters_begin',\n",
       " 'EFlowNeutralHadron/EFlowNeutralHadron.shapeParameters_end',\n",
       " 'EFlowNeutralHadron/EFlowNeutralHadron.hitContributions_begin',\n",
       " 'EFlowNeutralHadron/EFlowNeutralHadron.hitContributions_end',\n",
       " 'EFlowNeutralHadron/EFlowNeutralHadron.subdetectorEnergies_begin',\n",
       " 'EFlowNeutralHadron/EFlowNeutralHadron.subdetectorEnergies_end',\n",
       " 'EFlowNeutralHadron/EFlowNeutralHadron.clusters_begin',\n",
       " 'EFlowNeutralHadron/EFlowNeutralHadron.clusters_end',\n",
       " 'EFlowNeutralHadron/EFlowNeutralHadron.hits_begin',\n",
       " 'EFlowNeutralHadron/EFlowNeutralHadron.hits_end',\n",
       " 'EFlowNeutralHadron/EFlowNeutralHadron.particleIDs_begin',\n",
       " 'EFlowNeutralHadron/EFlowNeutralHadron.particleIDs_end',\n",
       " 'EFlowNeutralHadron#0',\n",
       " 'EFlowNeutralHadron#0/EFlowNeutralHadron#0.index',\n",
       " 'EFlowNeutralHadron#0/EFlowNeutralHadron#0.collectionID',\n",
       " 'EFlowNeutralHadron#1',\n",
       " 'EFlowNeutralHadron#1/EFlowNeutralHadron#1.index',\n",
       " 'EFlowNeutralHadron#1/EFlowNeutralHadron#1.collectionID',\n",
       " 'EFlowNeutralHadron#2',\n",
       " 'EFlowNeutralHadron#2/EFlowNeutralHadron#2.index',\n",
       " 'EFlowNeutralHadron#2/EFlowNeutralHadron#2.collectionID',\n",
       " 'EFlowNeutralHadron_0',\n",
       " 'EFlowNeutralHadron_1',\n",
       " 'EFlowNeutralHadron_2',\n",
       " 'Particle',\n",
       " 'Particle/Particle.PDG',\n",
       " 'Particle/Particle.generatorStatus',\n",
       " 'Particle/Particle.simulatorStatus',\n",
       " 'Particle/Particle.charge',\n",
       " 'Particle/Particle.time',\n",
       " 'Particle/Particle.mass',\n",
       " 'Particle/Particle.vertex.x',\n",
       " 'Particle/Particle.vertex.y',\n",
       " 'Particle/Particle.vertex.z',\n",
       " 'Particle/Particle.endpoint.x',\n",
       " 'Particle/Particle.endpoint.y',\n",
       " 'Particle/Particle.endpoint.z',\n",
       " 'Particle/Particle.momentum.x',\n",
       " 'Particle/Particle.momentum.y',\n",
       " 'Particle/Particle.momentum.z',\n",
       " 'Particle/Particle.momentumAtEndpoint.x',\n",
       " 'Particle/Particle.momentumAtEndpoint.y',\n",
       " 'Particle/Particle.momentumAtEndpoint.z',\n",
       " 'Particle/Particle.spin.x',\n",
       " 'Particle/Particle.spin.y',\n",
       " 'Particle/Particle.spin.z',\n",
       " 'Particle/Particle.colorFlow.a',\n",
       " 'Particle/Particle.colorFlow.b',\n",
       " 'Particle/Particle.parents_begin',\n",
       " 'Particle/Particle.parents_end',\n",
       " 'Particle/Particle.daughters_begin',\n",
       " 'Particle/Particle.daughters_end',\n",
       " 'Particle#0',\n",
       " 'Particle#0/Particle#0.index',\n",
       " 'Particle#0/Particle#0.collectionID',\n",
       " 'Particle#1',\n",
       " 'Particle#1/Particle#1.index',\n",
       " 'Particle#1/Particle#1.collectionID',\n",
       " 'Photon',\n",
       " 'Photon#0',\n",
       " 'Photon#0/Photon#0.index',\n",
       " 'Photon#0/Photon#0.collectionID',\n",
       " 'ReconstructedParticles',\n",
       " 'ReconstructedParticles/ReconstructedParticles.type',\n",
       " 'ReconstructedParticles/ReconstructedParticles.energy',\n",
       " 'ReconstructedParticles/ReconstructedParticles.momentum.x',\n",
       " 'ReconstructedParticles/ReconstructedParticles.momentum.y',\n",
       " 'ReconstructedParticles/ReconstructedParticles.momentum.z',\n",
       " 'ReconstructedParticles/ReconstructedParticles.referencePoint.x',\n",
       " 'ReconstructedParticles/ReconstructedParticles.referencePoint.y',\n",
       " 'ReconstructedParticles/ReconstructedParticles.referencePoint.z',\n",
       " 'ReconstructedParticles/ReconstructedParticles.charge',\n",
       " 'ReconstructedParticles/ReconstructedParticles.mass',\n",
       " 'ReconstructedParticles/ReconstructedParticles.goodnessOfPID',\n",
       " 'ReconstructedParticles/ReconstructedParticles.covMatrix[10]',\n",
       " 'ReconstructedParticles/ReconstructedParticles.clusters_begin',\n",
       " 'ReconstructedParticles/ReconstructedParticles.clusters_end',\n",
       " 'ReconstructedParticles/ReconstructedParticles.tracks_begin',\n",
       " 'ReconstructedParticles/ReconstructedParticles.tracks_end',\n",
       " 'ReconstructedParticles/ReconstructedParticles.particles_begin',\n",
       " 'ReconstructedParticles/ReconstructedParticles.particles_end',\n",
       " 'ReconstructedParticles/ReconstructedParticles.particleIDs_begin',\n",
       " 'ReconstructedParticles/ReconstructedParticles.particleIDs_end',\n",
       " 'ReconstructedParticles#0',\n",
       " 'ReconstructedParticles#0/ReconstructedParticles#0.index',\n",
       " 'ReconstructedParticles#0/ReconstructedParticles#0.collectionID',\n",
       " 'ReconstructedParticles#1',\n",
       " 'ReconstructedParticles#1/ReconstructedParticles#1.index',\n",
       " 'ReconstructedParticles#1/ReconstructedParticles#1.collectionID',\n",
       " 'ReconstructedParticles#2',\n",
       " 'ReconstructedParticles#2/ReconstructedParticles#2.index',\n",
       " 'ReconstructedParticles#2/ReconstructedParticles#2.collectionID',\n",
       " 'ReconstructedParticles#3',\n",
       " 'ReconstructedParticles#3/ReconstructedParticles#3.index',\n",
       " 'ReconstructedParticles#3/ReconstructedParticles#3.collectionID',\n",
       " 'ReconstructedParticles#4',\n",
       " 'ReconstructedParticles#4/ReconstructedParticles#4.index',\n",
       " 'ReconstructedParticles#4/ReconstructedParticles#4.collectionID',\n",
       " 'ReconstructedParticles#5',\n",
       " 'ReconstructedParticles#5/ReconstructedParticles#5.index',\n",
       " 'ReconstructedParticles#5/ReconstructedParticles#5.collectionID',\n",
       " 'EFlowPhoton',\n",
       " 'EFlowPhoton/EFlowPhoton.type',\n",
       " 'EFlowPhoton/EFlowPhoton.energy',\n",
       " 'EFlowPhoton/EFlowPhoton.energyError',\n",
       " 'EFlowPhoton/EFlowPhoton.position.x',\n",
       " 'EFlowPhoton/EFlowPhoton.position.y',\n",
       " 'EFlowPhoton/EFlowPhoton.position.z',\n",
       " 'EFlowPhoton/EFlowPhoton.positionError[6]',\n",
       " 'EFlowPhoton/EFlowPhoton.iTheta',\n",
       " 'EFlowPhoton/EFlowPhoton.phi',\n",
       " 'EFlowPhoton/EFlowPhoton.directionError.x',\n",
       " 'EFlowPhoton/EFlowPhoton.directionError.y',\n",
       " 'EFlowPhoton/EFlowPhoton.directionError.z',\n",
       " 'EFlowPhoton/EFlowPhoton.shapeParameters_begin',\n",
       " 'EFlowPhoton/EFlowPhoton.shapeParameters_end',\n",
       " 'EFlowPhoton/EFlowPhoton.hitContributions_begin',\n",
       " 'EFlowPhoton/EFlowPhoton.hitContributions_end',\n",
       " 'EFlowPhoton/EFlowPhoton.subdetectorEnergies_begin',\n",
       " 'EFlowPhoton/EFlowPhoton.subdetectorEnergies_end',\n",
       " 'EFlowPhoton/EFlowPhoton.clusters_begin',\n",
       " 'EFlowPhoton/EFlowPhoton.clusters_end',\n",
       " 'EFlowPhoton/EFlowPhoton.hits_begin',\n",
       " 'EFlowPhoton/EFlowPhoton.hits_end',\n",
       " 'EFlowPhoton/EFlowPhoton.particleIDs_begin',\n",
       " 'EFlowPhoton/EFlowPhoton.particleIDs_end',\n",
       " 'EFlowPhoton#0',\n",
       " 'EFlowPhoton#0/EFlowPhoton#0.index',\n",
       " 'EFlowPhoton#0/EFlowPhoton#0.collectionID',\n",
       " 'EFlowPhoton#1',\n",
       " 'EFlowPhoton#1/EFlowPhoton#1.index',\n",
       " 'EFlowPhoton#1/EFlowPhoton#1.collectionID',\n",
       " 'EFlowPhoton#2',\n",
       " 'EFlowPhoton#2/EFlowPhoton#2.index',\n",
       " 'EFlowPhoton#2/EFlowPhoton#2.collectionID',\n",
       " 'EFlowPhoton_0',\n",
       " 'EFlowPhoton_1',\n",
       " 'EFlowPhoton_2',\n",
       " 'MCRecoAssociations',\n",
       " 'MCRecoAssociations/MCRecoAssociations.weight',\n",
       " 'MCRecoAssociations#0',\n",
       " 'MCRecoAssociations#0/MCRecoAssociations#0.index',\n",
       " 'MCRecoAssociations#0/MCRecoAssociations#0.collectionID',\n",
       " 'MCRecoAssociations#1',\n",
       " 'MCRecoAssociations#1/MCRecoAssociations#1.index',\n",
       " 'MCRecoAssociations#1/MCRecoAssociations#1.collectionID',\n",
       " 'MissingET',\n",
       " 'MissingET/MissingET.type',\n",
       " 'MissingET/MissingET.energy',\n",
       " 'MissingET/MissingET.momentum.x',\n",
       " 'MissingET/MissingET.momentum.y',\n",
       " 'MissingET/MissingET.momentum.z',\n",
       " 'MissingET/MissingET.referencePoint.x',\n",
       " 'MissingET/MissingET.referencePoint.y',\n",
       " 'MissingET/MissingET.referencePoint.z',\n",
       " 'MissingET/MissingET.charge',\n",
       " 'MissingET/MissingET.mass',\n",
       " 'MissingET/MissingET.goodnessOfPID',\n",
       " 'MissingET/MissingET.covMatrix[10]',\n",
       " 'MissingET/MissingET.clusters_begin',\n",
       " 'MissingET/MissingET.clusters_end',\n",
       " 'MissingET/MissingET.tracks_begin',\n",
       " 'MissingET/MissingET.tracks_end',\n",
       " 'MissingET/MissingET.particles_begin',\n",
       " 'MissingET/MissingET.particles_end',\n",
       " 'MissingET/MissingET.particleIDs_begin',\n",
       " 'MissingET/MissingET.particleIDs_end',\n",
       " 'MissingET#0',\n",
       " 'MissingET#0/MissingET#0.index',\n",
       " 'MissingET#0/MissingET#0.collectionID',\n",
       " 'MissingET#1',\n",
       " 'MissingET#1/MissingET#1.index',\n",
       " 'MissingET#1/MissingET#1.collectionID',\n",
       " 'MissingET#2',\n",
       " 'MissingET#2/MissingET#2.index',\n",
       " 'MissingET#2/MissingET#2.collectionID',\n",
       " 'MissingET#3',\n",
       " 'MissingET#3/MissingET#3.index',\n",
       " 'MissingET#3/MissingET#3.collectionID',\n",
       " 'MissingET#4',\n",
       " 'MissingET#4/MissingET#4.index',\n",
       " 'MissingET#4/MissingET#4.collectionID',\n",
       " 'MissingET#5',\n",
       " 'MissingET#5/MissingET#5.index',\n",
       " 'MissingET#5/MissingET#5.collectionID',\n",
       " 'ParticleIDs',\n",
       " 'ParticleIDs/ParticleIDs.type',\n",
       " 'ParticleIDs/ParticleIDs.PDG',\n",
       " 'ParticleIDs/ParticleIDs.algorithmType',\n",
       " 'ParticleIDs/ParticleIDs.likelihood',\n",
       " 'ParticleIDs/ParticleIDs.parameters_begin',\n",
       " 'ParticleIDs/ParticleIDs.parameters_end',\n",
       " 'ParticleIDs_0',\n",
       " 'Jet',\n",
       " 'Jet/Jet.type',\n",
       " 'Jet/Jet.energy',\n",
       " 'Jet/Jet.momentum.x',\n",
       " 'Jet/Jet.momentum.y',\n",
       " 'Jet/Jet.momentum.z',\n",
       " 'Jet/Jet.referencePoint.x',\n",
       " 'Jet/Jet.referencePoint.y',\n",
       " 'Jet/Jet.referencePoint.z',\n",
       " 'Jet/Jet.charge',\n",
       " 'Jet/Jet.mass',\n",
       " 'Jet/Jet.goodnessOfPID',\n",
       " 'Jet/Jet.covMatrix[10]',\n",
       " 'Jet/Jet.clusters_begin',\n",
       " 'Jet/Jet.clusters_end',\n",
       " 'Jet/Jet.tracks_begin',\n",
       " 'Jet/Jet.tracks_end',\n",
       " 'Jet/Jet.particles_begin',\n",
       " 'Jet/Jet.particles_end',\n",
       " 'Jet/Jet.particleIDs_begin',\n",
       " 'Jet/Jet.particleIDs_end',\n",
       " 'Jet#0',\n",
       " 'Jet#0/Jet#0.index',\n",
       " 'Jet#0/Jet#0.collectionID',\n",
       " 'Jet#1',\n",
       " 'Jet#1/Jet#1.index',\n",
       " 'Jet#1/Jet#1.collectionID',\n",
       " 'Jet#2',\n",
       " 'Jet#2/Jet#2.index',\n",
       " 'Jet#2/Jet#2.collectionID',\n",
       " 'Jet#3',\n",
       " 'Jet#3/Jet#3.index',\n",
       " 'Jet#3/Jet#3.collectionID',\n",
       " 'Jet#4',\n",
       " 'Jet#4/Jet#4.index',\n",
       " 'Jet#4/Jet#4.collectionID',\n",
       " 'Jet#5',\n",
       " 'Jet#5/Jet#5.index',\n",
       " 'Jet#5/Jet#5.collectionID',\n",
       " 'EFlowTrack',\n",
       " 'EFlowTrack/EFlowTrack.type',\n",
       " 'EFlowTrack/EFlowTrack.chi2',\n",
       " 'EFlowTrack/EFlowTrack.ndf',\n",
       " 'EFlowTrack/EFlowTrack.dEdx',\n",
       " 'EFlowTrack/EFlowTrack.dEdxError',\n",
       " 'EFlowTrack/EFlowTrack.radiusOfInnermostHit',\n",
       " 'EFlowTrack/EFlowTrack.subDetectorHitNumbers_begin',\n",
       " 'EFlowTrack/EFlowTrack.subDetectorHitNumbers_end',\n",
       " 'EFlowTrack/EFlowTrack.trackStates_begin',\n",
       " 'EFlowTrack/EFlowTrack.trackStates_end',\n",
       " 'EFlowTrack/EFlowTrack.trackerHits_begin',\n",
       " 'EFlowTrack/EFlowTrack.trackerHits_end',\n",
       " 'EFlowTrack/EFlowTrack.tracks_begin',\n",
       " 'EFlowTrack/EFlowTrack.tracks_end',\n",
       " 'EFlowTrack#0',\n",
       " 'EFlowTrack#0/EFlowTrack#0.index',\n",
       " 'EFlowTrack#0/EFlowTrack#0.collectionID',\n",
       " 'EFlowTrack#1',\n",
       " 'EFlowTrack#1/EFlowTrack#1.index',\n",
       " 'EFlowTrack#1/EFlowTrack#1.collectionID',\n",
       " 'EFlowTrack_0',\n",
       " 'EFlowTrack_1',\n",
       " 'EFlowTrack_1/EFlowTrack_1.location',\n",
       " 'EFlowTrack_1/EFlowTrack_1.D0',\n",
       " 'EFlowTrack_1/EFlowTrack_1.phi',\n",
       " 'EFlowTrack_1/EFlowTrack_1.omega',\n",
       " 'EFlowTrack_1/EFlowTrack_1.Z0',\n",
       " 'EFlowTrack_1/EFlowTrack_1.tanLambda',\n",
       " 'EFlowTrack_1/EFlowTrack_1.referencePoint.x',\n",
       " 'EFlowTrack_1/EFlowTrack_1.referencePoint.y',\n",
       " 'EFlowTrack_1/EFlowTrack_1.referencePoint.z',\n",
       " 'EFlowTrack_1/EFlowTrack_1.covMatrix[15]']"
      ]
     },
     "execution_count": 4,
     "metadata": {},
     "output_type": "execute_result"
    }
   ],
   "source": [
    "events.fields"
   ]
  },
  {
   "cell_type": "code",
   "execution_count": 5,
   "id": "cdec95d2-3d37-41b8-b97e-aa7bacd9dd13",
   "metadata": {},
   "outputs": [],
   "source": [
    "mu_0_index = events['Muon#0/Muon#0.index'].compute()"
   ]
  },
  {
   "cell_type": "code",
   "execution_count": 6,
   "id": "beb7bcc4-b4cb-43ef-8ab9-04724641761f",
   "metadata": {},
   "outputs": [],
   "source": [
    "Recon = events['ReconstructedParticles/ReconstructedParticles.energy'].compute()"
   ]
  },
  {
   "cell_type": "code",
   "execution_count": 7,
   "id": "4a6739c0-31da-4af2-802d-4d761ff39552",
   "metadata": {},
   "outputs": [],
   "source": [
    "useful_events = events[ak.num(Recon) > 0]"
   ]
  },
  {
   "cell_type": "code",
   "execution_count": 8,
   "id": "0afe5f7a-f200-4a1b-9605-720c42eb23ba",
   "metadata": {},
   "outputs": [
    {
     "data": {
      "text/html": [
       "<pre>[[0.388, 1.19, 4.3, 5.08, 2.34, 3.77, 2.4, ..., 15.8, 8.47, 3.65, 2, 2.9, 1.22],\n",
       " [0.305, 0.578, 2.31, 0.475, 3.54, 1.01, ..., 3.13, 2.68, 3.39, 3.36, 0.68],\n",
       " [0.904, 1.38, 1.89, 2.72, 7.38, 1.1, ..., 0.824, 1.44, 1.72, 1.26, 0.711],\n",
       " [3.45, 0.416, 0.315, 4.81, 1.54, 1.62, ..., 0.886, 4.08, 13.2, 6.33, 5.04],\n",
       " [0.591, 3.4, 2.92, 1.15, 2.51, 2.55, ..., 0.775, 5.59, 1.5, 3.45, 1.36, 0.877],\n",
       " [0.35, 0.911, 1.34, 1.9, 9.21, 0.401, ..., 2.78, 1.72, 0.816, 1.69, 1, 1.33],\n",
       " [0.565, 0.522, 0.417, 0.527, 3.99, 1.94, ..., 0.504, 0.943, 0.719, 1.64, 0.52],\n",
       " [0.27, 0.461, 0.405, 0.689, 0.534, 0.409, ..., 7.25, 0.68, 0.98, 0.867, 0.644],\n",
       " [0.474, 0.444, 0.522, 0.714, 10.7, 4.79, ..., 1.34, 1.27, 2.75, 0.781, 2.98],\n",
       " [0.239, 1.93, 0.498, 0.559, 8.34, 8.21, ..., 2.97, 0.854, 0.686, 2.72, 0.933],\n",
       " ...,\n",
       " [0.339, 54.8, 1.9, 2.62, 4.92, 2.51, ..., 4.63, 2.59, 2.79, 2.5, 0.631, 1.15],\n",
       " [0.507, 0.286, 0.559, 0.475, 0.582, 0.613, ..., 2.13, 18.6, 6.61, 0.933, 1.78],\n",
       " [0.399, 0.317, 0.319, 0.399, 0.393, ..., 0.753, 0.824, 0.662, 0.948, 0.982],\n",
       " [0.319, 0.489, 3.2, 8.7, 15.1, 0.667, ..., 0.784, 0.555, 1.06, 1.6, 8.9],\n",
       " [0.52, 0.6, 0.596, 0.811, 3.75, 7.43, ..., 0.628, 0.501, 0.544, 0.653, 0.987],\n",
       " [1.27, 3.59, 5.59, 4.82, 6.08, 3.05, ..., 1.26, 3.46, 1.47, 2.72, 1.09, 0.757],\n",
       " [10.1, 4.38, 5.67, 36.6, 1.6, 1.74, ..., 0.87, 1.18, 0.753, 0.771, 1.95],\n",
       " [0.539, 0.257, 1.2, 6.7, 6.99, 2.15, ..., 7.09, 4.55, 0.66, 0.531, 2.07, 1.52],\n",
       " [30.6, 5.4, 14.2, 1.15, 0.31, 0.487, ..., 0.759, 1.98, 2, 0.528, 0.88, 0.922]]\n",
       "---------------------------------------------------------------------------------------------------------------------------------------------------\n",
       "type: 99984 * [var * float32[parameters={&quot;__doc__&quot;: &quot;energy[ReconstructedParticles_]&quot;}], parameters={&quot;__doc__&quot;: &quot;energy[ReconstructedParticles_]&quot;}]</pre>"
      ],
      "text/plain": [
       "<Array [[0.388, 1.19, ..., 2.9, 1.22], ...] type='99984 * [var * float32[pa...'>"
      ]
     },
     "execution_count": 8,
     "metadata": {},
     "output_type": "execute_result"
    }
   ],
   "source": [
    "useful_events['ReconstructedParticles/ReconstructedParticles.energy'].compute()"
   ]
  },
  {
   "cell_type": "code",
   "execution_count": 9,
   "id": "20c04c3f-02a0-4cb8-9713-e572d772e41c",
   "metadata": {},
   "outputs": [],
   "source": [
    "Reco_E = useful_events['ReconstructedParticles/ReconstructedParticles.energy'].compute()\n",
    "Muon_index = useful_events['Muon#0/Muon#0.index'].compute()"
   ]
  },
  {
   "cell_type": "code",
   "execution_count": 10,
   "id": "b0a098bc-9950-47a1-bbd9-0a93c0f8a49c",
   "metadata": {},
   "outputs": [
    {
     "data": {
      "text/html": [
       "<pre>[[0.388],\n",
       " [0.305],\n",
       " [0.904],\n",
       " [3.45],\n",
       " [0.591],\n",
       " [0.35],\n",
       " [0.565],\n",
       " [0.27],\n",
       " [0.474],\n",
       " [0.239],\n",
       " ...,\n",
       " [0.339],\n",
       " [0.507],\n",
       " [0.399],\n",
       " [0.319],\n",
       " [0.52],\n",
       " [1.27],\n",
       " [10.1],\n",
       " [0.539],\n",
       " [30.6]]\n",
       "------------------------------------------------------------------------------------\n",
       "type: 99984 * 1 * float32[parameters={&quot;__doc__&quot;: &quot;energy[ReconstructedParticles_]&quot;}]</pre>"
      ],
      "text/plain": [
       "<Array [[0.388], [0.305], ..., [0.539], [30.6]] type='99984 * 1 * float32[p...'>"
      ]
     },
     "execution_count": 10,
     "metadata": {},
     "output_type": "execute_result"
    }
   ],
   "source": [
    "Reco_E[:,[0]]"
   ]
  },
  {
   "cell_type": "code",
   "execution_count": 11,
   "id": "1aeed096-0e57-4c5f-bc6d-025af685fbc1",
   "metadata": {},
   "outputs": [],
   "source": [
    "a = ak.Array([\n",
    "    [23.5, 34.9],\n",
    "    [45.6,78.0,86.7],\n",
    "    [36.0]\n",
    "])\n",
    "idx = ak.Array([\n",
    "    [0],\n",
    "    [1,2],\n",
    "    []\n",
    "])"
   ]
  },
  {
   "cell_type": "code",
   "execution_count": 12,
   "id": "cf811c3c-f6d3-4d17-bc4f-3f3ea2547d33",
   "metadata": {},
   "outputs": [
    {
     "data": {
      "text/html": [
       "<pre>[23.5,\n",
       " 34.9]\n",
       "-----------------\n",
       "type: 2 * float64</pre>"
      ],
      "text/plain": [
       "<Array [23.5, 34.9] type='2 * float64'>"
      ]
     },
     "execution_count": 12,
     "metadata": {},
     "output_type": "execute_result"
    }
   ],
   "source": [
    "a[0]"
   ]
  },
  {
   "cell_type": "code",
   "execution_count": 13,
   "id": "1187c702-9253-4ab8-add9-61cbcf1729ae",
   "metadata": {},
   "outputs": [],
   "source": [
    "def index_mask(input_array, index_array):\n",
    "    if len(input_array) != len(index_array) :\n",
    "        raise Exception('Length of Input_array and index_array does not match!')\n",
    "    counts = len(ak.count(input_array, axis = 1))\n",
    "    @numba.jit\n",
    "    def numba_wrap(input_array, index_array,counts):\n",
    "        output_array = []\n",
    "        for event_index in range(counts):\n",
    "            event_mask = index_array[event_index]\n",
    "            reco_list = input_array[event_index]\n",
    "            output_array.append([reco_list[i] for i in  event_mask])\n",
    "        return output_array\n",
    "    return ak.Array(numba_wrap(input_array,index_array,counts))"
   ]
  },
  {
   "cell_type": "code",
   "execution_count": 14,
   "id": "9b750eaf-284d-46ae-89bc-0f8b81cdcf48",
   "metadata": {},
   "outputs": [
    {
     "data": {
      "text/html": [
       "<pre>[[23.5],\n",
       " [78, 86.7],\n",
       " []]\n",
       "-----------------------\n",
       "type: 3 * var * float64</pre>"
      ],
      "text/plain": [
       "<Array [[23.5], [78, 86.7], []] type='3 * var * float64'>"
      ]
     },
     "execution_count": 14,
     "metadata": {},
     "output_type": "execute_result"
    }
   ],
   "source": [
    "index_mask(a,idx)"
   ]
  },
  {
   "cell_type": "code",
   "execution_count": 15,
   "id": "c9832802-10c9-45ae-a331-d62b8c3fbd6f",
   "metadata": {},
   "outputs": [],
   "source": [
    "Muon_E = index_mask(Reco_E, Muon_index)"
   ]
  },
  {
   "cell_type": "code",
   "execution_count": 16,
   "id": "67ecd576-84e2-44b4-8449-4438d2078c65",
   "metadata": {},
   "outputs": [
    {
     "data": {
      "text/html": [
       "<pre>[[43.4],\n",
       " [61.6, 41.5],\n",
       " [30.9],\n",
       " [39],\n",
       " [38.7],\n",
       " [79.7],\n",
       " [59.7, 45.9],\n",
       " [20.9],\n",
       " [70.3, 32.5],\n",
       " [20.4],\n",
       " ...,\n",
       " [11.1],\n",
       " [48.6],\n",
       " [48.5],\n",
       " [66.9, 26.2],\n",
       " [75, 27.3],\n",
       " [21.3],\n",
       " [3.52],\n",
       " [29.8],\n",
       " [36.6]]\n",
       "---------------------------\n",
       "type: 11229 * var * float64</pre>"
      ],
      "text/plain": [
       "<Array [[43.4], [61.6, 41.5], ..., [29.8], [36.6]] type='11229 * var * float64'>"
      ]
     },
     "execution_count": 16,
     "metadata": {},
     "output_type": "execute_result"
    }
   ],
   "source": [
    "Muon_E[ak.num(Muon_E)>0]"
   ]
  }
 ],
 "metadata": {
  "kernelspec": {
   "display_name": "Python 3 (ipykernel)",
   "language": "python",
   "name": "python3"
  },
  "language_info": {
   "codemirror_mode": {
    "name": "ipython",
    "version": 3
   },
   "file_extension": ".py",
   "mimetype": "text/x-python",
   "name": "python",
   "nbconvert_exporter": "python",
   "pygments_lexer": "ipython3",
   "version": "3.12.3"
  }
 },
 "nbformat": 4,
 "nbformat_minor": 5
}
