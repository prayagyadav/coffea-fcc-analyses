{
 "cells": [
  {
   "cell_type": "code",
   "execution_count": 13,
   "id": "5eac7d31-46b6-43c4-b142-26e642f6b5ab",
   "metadata": {},
   "outputs": [],
   "source": [
    "import pandas as pd\n",
    "import hist\n",
    "import awkward as ak"
   ]
  },
  {
   "cell_type": "code",
   "execution_count": 6,
   "id": "758a46d3-b889-4d16-89ed-25c38b9ceba4",
   "metadata": {},
   "outputs": [],
   "source": [
    "##############################################\n",
    "# Define plot properties\n",
    "plot_props = pd.DataFrame({\n",
    "    'Zm':{'name':'Zm','title':'Z Candidate mass','xlabel':'$Z_{mass}$ [GeV]','ylabel':'Events','bins':100,'xmin':0,'xmax':250},\n",
    "    'Zm_zoom':{'name':'Zm_zoom','title':'Z Candidate mass','xlabel':'$Z_{mass}$ [GeV]','ylabel':'Events','bins':40,'xmin':80,'xmax':100},\n",
    "    'Recoilm':{'name':'Recoilm','title':'Leptonic Recoil mass','xlabel':'$Recoil_{mass}$ [GeV]','ylabel':'Events','bins':100,'xmin':0,'xmax':200},\n",
    "    'Recoilm_zoom':{'name':'Recoilm_zoom','title':'Leptonic Recoil mass','xlabel':'$Recoil_{mass}$ [GeV]','ylabel':'Events','bins':200,'xmin':80,'xmax':160},\n",
    "    'Recoilm_zoom1':{'name':'Recoilm_zoom1','title':'Leptonic Recoil mass','xlabel':'$Recoil_{mass}$ [GeV]','ylabel':'Events','bins':100,'xmin':120,'xmax':140},\n",
    "    'Recoilm_zoom2':{'name':'Recoilm_zoom2','title':'Leptonic Recoil mass','xlabel':'$Recoil_{mass}$ [GeV]','ylabel':'Events','bins':200,'xmin':120,'xmax':140},\n",
    "    'Recoilm_zoom3':{'name':'Recoilm_zoom3','title':'Leptonic Recoil mass','xlabel':'$Recoil_{mass}$ [GeV]','ylabel':'Events','bins':400,'xmin':120,'xmax':140},\n",
    "    'Recoilm_zoom4':{'name':'Recoilm_zoom4','title':'Leptonic Recoil mass','xlabel':'$Recoil_{mass}$ [GeV]','ylabel':'Events','bins':800,'xmin':120,'xmax':140},\n",
    "    'Recoilm_zoom5':{'name':'Recoilm_zoom5','title':'Leptonic Recoil mass','xlabel':'$Recoil_{mass}$ [GeV]','ylabel':'Events','bins':2000,'xmin':120,'xmax':140},\n",
    "    'Recoilm_zoom6':{'name':'Recoilm_zoom6','title':'Leptonic Recoil mass','xlabel':'$Recoil_{mass}$ [GeV]','ylabel':'Events','bins':100,'xmin':130.3,'xmax':140}\n",
    "})"
   ]
  },
  {
   "cell_type": "code",
   "execution_count": 39,
   "id": "355d1161-b690-4626-b19d-7730a3451024",
   "metadata": {},
   "outputs": [
    {
     "data": {
      "text/plain": [
       "['Zm',\n",
       " 'Zm_zoom',\n",
       " 'Recoilm',\n",
       " 'Recoilm_zoom',\n",
       " 'Recoilm_zoom1',\n",
       " 'Recoilm_zoom2',\n",
       " 'Recoilm_zoom3',\n",
       " 'Recoilm_zoom4',\n",
       " 'Recoilm_zoom5',\n",
       " 'Recoilm_zoom6']"
      ]
     },
     "execution_count": 39,
     "metadata": {},
     "output_type": "execute_result"
    }
   ],
   "source": [
    "plot_props.columns.tolist()"
   ]
  },
  {
   "cell_type": "code",
   "execution_count": 32,
   "id": "40b7b6ba-029f-40c9-8a38-012b6f5a1ccc",
   "metadata": {},
   "outputs": [],
   "source": [
    "def assign_1Dhist(name, var, flatten=True):\n",
    "    '''\n",
    "    name: eg. Zm\n",
    "    var: eg. variable containing array of mass of Z\n",
    "    flatten: If to flatten var before fill; True by default\n",
    "    '''\n",
    "    props = plot_props[name]\n",
    "    h = hist.Hist.new.Reg(props.bins, props.xmin, props.xmax).Double().fill(ak.flatten(var))\n",
    "    return {name:h}\n",
    "def get_1Dhist(name, var, flatten=True):\n",
    "    '''\n",
    "    name: eg. Zm\n",
    "    var: eg. variable containing array of mass of Z\n",
    "    flatten: If to flatten var before fill; True by default\n",
    "    Returns a histogram\n",
    "    '''\n",
    "    props = plot_props[name]\n",
    "    if flatten : var = ak.flatten(var)\n",
    "    return hist.Hist.new.Reg(props.bins, props.xmin, props.xmax).Double().fill(var)"
   ]
  },
  {
   "cell_type": "code",
   "execution_count": 11,
   "id": "b7211d2a-4477-4967-aeb6-76e097e13c56",
   "metadata": {},
   "outputs": [
    {
     "data": {
      "text/plain": [
       "'$Z_{mass}$ [GeV]'"
      ]
     },
     "execution_count": 11,
     "metadata": {},
     "output_type": "execute_result"
    }
   ],
   "source": [
    "plot_props['Zm'].xlabel"
   ]
  },
  {
   "cell_type": "code",
   "execution_count": 14,
   "id": "3ce284d3-9b75-495b-8c9b-f64c24f070ad",
   "metadata": {},
   "outputs": [
    {
     "data": {
      "text/html": [
       "<pre>[[99],\n",
       " [120],\n",
       " [200],\n",
       " [50],\n",
       " [6],\n",
       " [300],\n",
       " [140],\n",
       " [54]]\n",
       "-----------------------\n",
       "type: 8 * var * float64</pre>"
      ],
      "text/plain": [
       "<Array [[99], [120], [200], ..., [300], [140], [54]] type='8 * var * float64'>"
      ]
     },
     "execution_count": 14,
     "metadata": {},
     "output_type": "execute_result"
    }
   ],
   "source": [
    "zm = ak.Array([[99],[120.0],[200],[50],[6],[300],[140],[54]])\n",
    "zm"
   ]
  },
  {
   "cell_type": "code",
   "execution_count": 22,
   "id": "4b946154-6c3c-4c64-b87e-676fbb37f448",
   "metadata": {},
   "outputs": [
    {
     "data": {
      "text/html": [
       "<pre>[[99],\n",
       " [120],\n",
       " [200],\n",
       " [50],\n",
       " [6],\n",
       " [300],\n",
       " [140],\n",
       " [54]]\n",
       "-----------------------\n",
       "type: 8 * var * float64</pre>"
      ],
      "text/plain": [
       "<Array [[99], [120], [200], ..., [300], [140], [54]] type='8 * var * float64'>"
      ]
     },
     "execution_count": 22,
     "metadata": {},
     "output_type": "execute_result"
    }
   ],
   "source": [
    "recoilm = ak.Array([[99],[120.0],[200],[50],[6],[300],[140],[54]])\n",
    "recoilm"
   ]
  },
  {
   "cell_type": "code",
   "execution_count": 19,
   "id": "a7ad6ec4-9617-43a5-aa31-d78cf36abbd4",
   "metadata": {},
   "outputs": [
    {
     "data": {
      "text/plain": [
       "{'Zm': Hist(Regular(100, 0, 250, label='Axis 0'), storage=Double()) # Sum: 7.0 (8.0 with flow)}"
      ]
     },
     "execution_count": 19,
     "metadata": {},
     "output_type": "execute_result"
    }
   ],
   "source": [
    "assign_1Dhist('Zm',zm )"
   ]
  },
  {
   "cell_type": "code",
   "execution_count": 23,
   "id": "f0e11f91-3c20-4d13-8091-e123171d72b6",
   "metadata": {},
   "outputs": [
    {
     "data": {
      "text/plain": [
       "{'Recoilm': Hist(Regular(100, 0, 200, label='Axis 0'), storage=Double()) # Sum: 6.0 (8.0 with flow)}"
      ]
     },
     "execution_count": 23,
     "metadata": {},
     "output_type": "execute_result"
    }
   ],
   "source": [
    "assign_1Dhist('Recoilm',recoil)"
   ]
  },
  {
   "cell_type": "code",
   "execution_count": 25,
   "id": "5565977b-da2d-4754-abde-ef839a2076e3",
   "metadata": {},
   "outputs": [
    {
     "data": {
      "text/plain": [
       "{'Zm': Hist(Regular(100, 0, 250, label='Axis 0'), storage=Double()) # Sum: 7.0 (8.0 with flow),\n",
       " 'Recoilm': Hist(Regular(100, 0, 200, label='Axis 0'), storage=Double()) # Sum: 6.0 (8.0 with flow)}"
      ]
     },
     "execution_count": 25,
     "metadata": {},
     "output_type": "execute_result"
    }
   ],
   "source": [
    "names = ['Zm','Recoilm']\n",
    "vars = [zm,recoil]\n",
    "{**assign_1Dhist('Zm',zm ),**assign_1Dhist('Recoilm',recoil)}"
   ]
  },
  {
   "cell_type": "code",
   "execution_count": 33,
   "id": "646eec35-f946-4765-9b98-03ebd6138d0e",
   "metadata": {},
   "outputs": [
    {
     "data": {
      "text/plain": [
       "{'Zm': Hist(Regular(100, 0, 250, label='Axis 0'), storage=Double()) # Sum: 7.0 (8.0 with flow),\n",
       " 'Recoilm': Hist(Regular(100, 0, 200, label='Axis 0'), storage=Double()) # Sum: 6.0 (8.0 with flow)}"
      ]
     },
     "execution_count": 33,
     "metadata": {},
     "output_type": "execute_result"
    }
   ],
   "source": [
    "{name:get_1Dhist(name,var) for name,var in zip(names,vars)}"
   ]
  },
  {
   "cell_type": "code",
   "execution_count": 31,
   "id": "c4dc0d16-1227-4ed8-bd71-81351697d8f7",
   "metadata": {},
   "outputs": [
    {
     "data": {
      "text/plain": [
       "{'Zm': <Array [[99], [120], [200], ..., [300], [140], [54]] type='8 * var * float64'>,\n",
       " 'Recoilm': <Array [[99], [120], [200], ..., [300], [140], [54]] type='8 * var * float64'>}"
      ]
     },
     "execution_count": 31,
     "metadata": {},
     "output_type": "execute_result"
    }
   ],
   "source": [
    "{name:var for name,var in zip(names,vars)}"
   ]
  },
  {
   "cell_type": "code",
   "execution_count": 44,
   "id": "d481c13c-a8bc-4d63-8d14-982a831ae3f9",
   "metadata": {},
   "outputs": [
    {
     "data": {
      "text/plain": [
       "[<Array [[1], [2]] type='2 * var * int64'>,\n",
       " <Array [[1], [2]] type='2 * var * int64'>,\n",
       " [2],\n",
       " [2],\n",
       " [2],\n",
       " [2],\n",
       " [2],\n",
       " [2],\n",
       " [2],\n",
       " [2]]"
      ]
     },
     "execution_count": 44,
     "metadata": {},
     "output_type": "execute_result"
    }
   ],
   "source": [
    "vars_sel0 = ([ak.Array([[1],[2]])]*2) + ([[2]]*8)\n",
    "vars_sel0"
   ]
  },
  {
   "cell_type": "code",
   "execution_count": null,
   "id": "563ec04e-59f4-4595-ba62-ab66150a2b80",
   "metadata": {},
   "outputs": [],
   "source": []
  }
 ],
 "metadata": {
  "kernelspec": {
   "display_name": "Python 3 (ipykernel)",
   "language": "python",
   "name": "python3"
  },
  "language_info": {
   "codemirror_mode": {
    "name": "ipython",
    "version": 3
   },
   "file_extension": ".py",
   "mimetype": "text/x-python",
   "name": "python",
   "nbconvert_exporter": "python",
   "pygments_lexer": "ipython3",
   "version": "3.12.3"
  }
 },
 "nbformat": 4,
 "nbformat_minor": 5
}
