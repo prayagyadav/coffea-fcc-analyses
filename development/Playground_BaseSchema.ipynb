{
 "cells": [
  {
   "cell_type": "code",
   "execution_count": 9,
   "id": "accfc2ed-5b18-42e7-8d98-a927ababce14",
   "metadata": {},
   "outputs": [],
   "source": [
    "from coffea.nanoevents import BaseSchema, NanoEventsFactory\n",
    "import dask_awkward as dak\n",
    "import awkward as ak\n",
    "import matplotlib.pyplot as plt\n",
    "import numpy as np\n",
    "import hist\n",
    "import mplhep as hep\n",
    "import numba\n",
    "from coffea.analysis_tools import PackedSelection\n",
    "import vector\n",
    "vector.register_awkward()"
   ]
  },
  {
   "cell_type": "code",
   "execution_count": 2,
   "id": "fd2f67cd-03ee-4957-87cb-c4938c332dc5",
   "metadata": {},
   "outputs": [],
   "source": [
    "events = NanoEventsFactory.from_root(\n",
    "    file=\"../data/p8_ee_ZH_ecm240/events_101027117.root:events\",\n",
    "    schemaclass=BaseSchema,\n",
    "    # schemaclass=DelphesSchema, Doesn't work \n",
    "    # schemaclass=NanoAODSchema.v7, Doesn't work\n",
    "    metadata={\n",
    "        \"path\":\"/eos/experiment/fcc/ee/generation/DelphesEvents/spring2021/IDEA/p8_ee_ZH_ecm240/events_101027117.root\",\n",
    "        \"name\":\"p8_ee_ZH_ecm240\",\n",
    "        \"process\":\"ZH to mumu, ecm=240 GeV\"\n",
    "    }\n",
    ").events()"
   ]
  },
  {
   "cell_type": "code",
   "execution_count": 3,
   "id": "4221ea78-38d1-4fd8-83c8-40801a0d5aae",
   "metadata": {},
   "outputs": [],
   "source": [
    "from coffea.analysis_tools import PackedSelection"
   ]
  },
  {
   "cell_type": "code",
   "execution_count": 4,
   "id": "2c95580e-e6df-4462-bb7a-6422b3c04f02",
   "metadata": {},
   "outputs": [],
   "source": [
    "def index_mask(input_array, index_array):\n",
    "    '''\n",
    "    This function matches the given attribute of ReconstructedParticles (for example energy) to the particle index (for example Muon or Electron)\n",
    "    '''\n",
    "    # input_array = input_array.compute()\n",
    "    # index_array = index_array.compute()\n",
    "    if len(input_array) != len(index_array) :\n",
    "        raise Exception(f'Length of input_array({len(input_array)}) and index_array({len(index_array)}) does not match!')\n",
    "    counts = len(index_array)\n",
    "    \n",
    "    @numba.jit\n",
    "    def numba_wrap(input_array, index_array, counts):\n",
    "        output_array = []\n",
    "        for event_index in range(counts):\n",
    "            event_mask = index_array[event_index]\n",
    "            reco_list = input_array[event_index]\n",
    "            output_array.append([reco_list[i] for i in  event_mask])\n",
    "        return output_array\n",
    "    out = ak.Array(numba_wrap(input_array,index_array,counts))\n",
    "    \n",
    "    return out"
   ]
  },
  {
   "cell_type": "code",
   "execution_count": null,
   "id": "1c62e3a6-a53c-4fa3-87cb-dd67b4032e4a",
   "metadata": {},
   "outputs": [
    {
     "name": "stdout",
     "output_type": "stream",
     "text": [
      "Raw events :  100000\n"
     ]
    }
   ],
   "source": [
    "cut = PackedSelection()\n",
    "Recon = events['ReconstructedParticles/ReconstructedParticles.energy']\n",
    "raw_nevents = dak.num(events, axis=0).compute()\n",
    "print('Raw events : ', raw_nevents)\n",
    "# useful_events = events[ak.num(Recon) > 0]\n",
    "cut.add('No cut', ak.all(Recon.compute() > 0, axis=1))\n",
    "useful_events = ak.mask(events,ak.num(Recon) > 0)\n",
    "new_Recon = useful_events['ReconstructedParticles/ReconstructedParticles.energy']\n",
    "reduced_nevents = dak.num(new_Recon, axis=0).compute()\n",
    "print('Reduced events : ', reduced_nevents)\n",
    "cut.add('At least one Reco Particle', dak.num(new_Recon).compute() > 0)"
   ]
  },
  {
   "cell_type": "code",
   "execution_count": 24,
   "id": "2e653063-2173-4079-a745-9ca36779d2ba",
   "metadata": {},
   "outputs": [
    {
     "data": {
      "text/plain": [
       "['No cut', 'At least one Reco Particle']"
      ]
     },
     "execution_count": 24,
     "metadata": {},
     "output_type": "execute_result"
    }
   ],
   "source": [
    "cut.names"
   ]
  },
  {
   "cell_type": "code",
   "execution_count": 25,
   "id": "5614305a-753d-4df8-bb3b-f365f8943dc7",
   "metadata": {},
   "outputs": [
    {
     "data": {
      "text/plain": [
       "CutflowResult(labels=['initial', 'No cut', 'At least one Reco Particle'], nevonecut=[100000, 100000, 99984], nevcutflow=[100000, 100000, 99984], masksonecut=[array([ True,  True,  True, ...,  True,  True,  True]), array([ True,  True,  True, ...,  True,  True,  True])], maskscutflow=[array([ True,  True,  True, ...,  True,  True,  True]), array([ True,  True,  True, ...,  True,  True,  True])])"
      ]
     },
     "execution_count": 25,
     "metadata": {},
     "output_type": "execute_result"
    }
   ],
   "source": [
    "cut.cutflow(*cut.names).result()"
   ]
  },
  {
   "cell_type": "code",
   "execution_count": null,
   "id": "248a4f02-cb79-45a6-a7af-aceb6f74fed6",
   "metadata": {},
   "outputs": [],
   "source": []
  }
 ],
 "metadata": {
  "kernelspec": {
   "display_name": "Python 3 (ipykernel)",
   "language": "python",
   "name": "python3"
  },
  "language_info": {
   "codemirror_mode": {
    "name": "ipython",
    "version": 3
   },
   "file_extension": ".py",
   "mimetype": "text/x-python",
   "name": "python",
   "nbconvert_exporter": "python",
   "pygments_lexer": "ipython3",
   "version": "3.12.3"
  }
 },
 "nbformat": 4,
 "nbformat_minor": 5
}
