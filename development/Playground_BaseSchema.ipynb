{
 "cells": [
  {
   "cell_type": "code",
   "execution_count": 1,
   "id": "accfc2ed-5b18-42e7-8d98-a927ababce14",
   "metadata": {},
   "outputs": [],
   "source": [
    "from coffea.nanoevents import BaseSchema, NanoEventsFactory\n",
    "import dask_awkward as dak\n",
    "import awkward as ak\n",
    "import matplotlib.pyplot as plt\n",
    "import numpy as np\n",
    "import hist\n",
    "import mplhep as hep\n",
    "import numba\n",
    "import vector\n",
    "vector.register_awkward()"
   ]
  },
  {
   "cell_type": "code",
   "execution_count": 2,
   "id": "fd2f67cd-03ee-4957-87cb-c4938c332dc5",
   "metadata": {},
   "outputs": [],
   "source": [
    "events = NanoEventsFactory.from_root(\n",
    "    file=\"../data/p8_ee_ZH_ecm240/events_101027117.root:events\",\n",
    "    schemaclass=BaseSchema,\n",
    "    # schemaclass=DelphesSchema, Doesn't work \n",
    "    # schemaclass=NanoAODSchema.v7, Doesn't work\n",
    "    metadata={\n",
    "        \"path\":\"/eos/experiment/fcc/ee/generation/DelphesEvents/spring2021/IDEA/p8_ee_ZH_ecm240/events_101027117.root\",\n",
    "        \"name\":\"p8_ee_ZH_ecm240\",\n",
    "        \"process\":\"ZH to mumu, ecm=240 GeV\"\n",
    "    }\n",
    ").events()"
   ]
  },
  {
   "cell_type": "code",
   "execution_count": 3,
   "id": "6b5fa656-77e8-4c7a-8083-36d5d3887453",
   "metadata": {},
   "outputs": [
    {
     "data": {
      "text/plain": [
       "['Electron',\n",
       " 'Electron#0',\n",
       " 'Electron#0/Electron#0.index',\n",
       " 'Electron#0/Electron#0.collectionID',\n",
       " 'Muon',\n",
       " 'Muon#0',\n",
       " 'Muon#0/Muon#0.index',\n",
       " 'Muon#0/Muon#0.collectionID',\n",
       " 'AllMuon',\n",
       " 'AllMuon#0',\n",
       " 'AllMuon#0/AllMuon#0.index',\n",
       " 'AllMuon#0/AllMuon#0.collectionID',\n",
       " 'EFlowNeutralHadron',\n",
       " 'EFlowNeutralHadron/EFlowNeutralHadron.type',\n",
       " 'EFlowNeutralHadron/EFlowNeutralHadron.energy',\n",
       " 'EFlowNeutralHadron/EFlowNeutralHadron.energyError',\n",
       " 'EFlowNeutralHadron/EFlowNeutralHadron.position.x',\n",
       " 'EFlowNeutralHadron/EFlowNeutralHadron.position.y',\n",
       " 'EFlowNeutralHadron/EFlowNeutralHadron.position.z',\n",
       " 'EFlowNeutralHadron/EFlowNeutralHadron.positionError[6]',\n",
       " 'EFlowNeutralHadron/EFlowNeutralHadron.iTheta',\n",
       " 'EFlowNeutralHadron/EFlowNeutralHadron.phi',\n",
       " 'EFlowNeutralHadron/EFlowNeutralHadron.directionError.x',\n",
       " 'EFlowNeutralHadron/EFlowNeutralHadron.directionError.y',\n",
       " 'EFlowNeutralHadron/EFlowNeutralHadron.directionError.z',\n",
       " 'EFlowNeutralHadron/EFlowNeutralHadron.shapeParameters_begin',\n",
       " 'EFlowNeutralHadron/EFlowNeutralHadron.shapeParameters_end',\n",
       " 'EFlowNeutralHadron/EFlowNeutralHadron.hitContributions_begin',\n",
       " 'EFlowNeutralHadron/EFlowNeutralHadron.hitContributions_end',\n",
       " 'EFlowNeutralHadron/EFlowNeutralHadron.subdetectorEnergies_begin',\n",
       " 'EFlowNeutralHadron/EFlowNeutralHadron.subdetectorEnergies_end',\n",
       " 'EFlowNeutralHadron/EFlowNeutralHadron.clusters_begin',\n",
       " 'EFlowNeutralHadron/EFlowNeutralHadron.clusters_end',\n",
       " 'EFlowNeutralHadron/EFlowNeutralHadron.hits_begin',\n",
       " 'EFlowNeutralHadron/EFlowNeutralHadron.hits_end',\n",
       " 'EFlowNeutralHadron/EFlowNeutralHadron.particleIDs_begin',\n",
       " 'EFlowNeutralHadron/EFlowNeutralHadron.particleIDs_end',\n",
       " 'EFlowNeutralHadron#0',\n",
       " 'EFlowNeutralHadron#0/EFlowNeutralHadron#0.index',\n",
       " 'EFlowNeutralHadron#0/EFlowNeutralHadron#0.collectionID',\n",
       " 'EFlowNeutralHadron#1',\n",
       " 'EFlowNeutralHadron#1/EFlowNeutralHadron#1.index',\n",
       " 'EFlowNeutralHadron#1/EFlowNeutralHadron#1.collectionID',\n",
       " 'EFlowNeutralHadron#2',\n",
       " 'EFlowNeutralHadron#2/EFlowNeutralHadron#2.index',\n",
       " 'EFlowNeutralHadron#2/EFlowNeutralHadron#2.collectionID',\n",
       " 'EFlowNeutralHadron_0',\n",
       " 'EFlowNeutralHadron_1',\n",
       " 'EFlowNeutralHadron_2',\n",
       " 'Particle',\n",
       " 'Particle/Particle.PDG',\n",
       " 'Particle/Particle.generatorStatus',\n",
       " 'Particle/Particle.simulatorStatus',\n",
       " 'Particle/Particle.charge',\n",
       " 'Particle/Particle.time',\n",
       " 'Particle/Particle.mass',\n",
       " 'Particle/Particle.vertex.x',\n",
       " 'Particle/Particle.vertex.y',\n",
       " 'Particle/Particle.vertex.z',\n",
       " 'Particle/Particle.endpoint.x',\n",
       " 'Particle/Particle.endpoint.y',\n",
       " 'Particle/Particle.endpoint.z',\n",
       " 'Particle/Particle.momentum.x',\n",
       " 'Particle/Particle.momentum.y',\n",
       " 'Particle/Particle.momentum.z',\n",
       " 'Particle/Particle.momentumAtEndpoint.x',\n",
       " 'Particle/Particle.momentumAtEndpoint.y',\n",
       " 'Particle/Particle.momentumAtEndpoint.z',\n",
       " 'Particle/Particle.spin.x',\n",
       " 'Particle/Particle.spin.y',\n",
       " 'Particle/Particle.spin.z',\n",
       " 'Particle/Particle.colorFlow.a',\n",
       " 'Particle/Particle.colorFlow.b',\n",
       " 'Particle/Particle.parents_begin',\n",
       " 'Particle/Particle.parents_end',\n",
       " 'Particle/Particle.daughters_begin',\n",
       " 'Particle/Particle.daughters_end',\n",
       " 'Particle#0',\n",
       " 'Particle#0/Particle#0.index',\n",
       " 'Particle#0/Particle#0.collectionID',\n",
       " 'Particle#1',\n",
       " 'Particle#1/Particle#1.index',\n",
       " 'Particle#1/Particle#1.collectionID',\n",
       " 'Photon',\n",
       " 'Photon#0',\n",
       " 'Photon#0/Photon#0.index',\n",
       " 'Photon#0/Photon#0.collectionID',\n",
       " 'ReconstructedParticles',\n",
       " 'ReconstructedParticles/ReconstructedParticles.type',\n",
       " 'ReconstructedParticles/ReconstructedParticles.energy',\n",
       " 'ReconstructedParticles/ReconstructedParticles.momentum.x',\n",
       " 'ReconstructedParticles/ReconstructedParticles.momentum.y',\n",
       " 'ReconstructedParticles/ReconstructedParticles.momentum.z',\n",
       " 'ReconstructedParticles/ReconstructedParticles.referencePoint.x',\n",
       " 'ReconstructedParticles/ReconstructedParticles.referencePoint.y',\n",
       " 'ReconstructedParticles/ReconstructedParticles.referencePoint.z',\n",
       " 'ReconstructedParticles/ReconstructedParticles.charge',\n",
       " 'ReconstructedParticles/ReconstructedParticles.mass',\n",
       " 'ReconstructedParticles/ReconstructedParticles.goodnessOfPID',\n",
       " 'ReconstructedParticles/ReconstructedParticles.covMatrix[10]',\n",
       " 'ReconstructedParticles/ReconstructedParticles.clusters_begin',\n",
       " 'ReconstructedParticles/ReconstructedParticles.clusters_end',\n",
       " 'ReconstructedParticles/ReconstructedParticles.tracks_begin',\n",
       " 'ReconstructedParticles/ReconstructedParticles.tracks_end',\n",
       " 'ReconstructedParticles/ReconstructedParticles.particles_begin',\n",
       " 'ReconstructedParticles/ReconstructedParticles.particles_end',\n",
       " 'ReconstructedParticles/ReconstructedParticles.particleIDs_begin',\n",
       " 'ReconstructedParticles/ReconstructedParticles.particleIDs_end',\n",
       " 'ReconstructedParticles#0',\n",
       " 'ReconstructedParticles#0/ReconstructedParticles#0.index',\n",
       " 'ReconstructedParticles#0/ReconstructedParticles#0.collectionID',\n",
       " 'ReconstructedParticles#1',\n",
       " 'ReconstructedParticles#1/ReconstructedParticles#1.index',\n",
       " 'ReconstructedParticles#1/ReconstructedParticles#1.collectionID',\n",
       " 'ReconstructedParticles#2',\n",
       " 'ReconstructedParticles#2/ReconstructedParticles#2.index',\n",
       " 'ReconstructedParticles#2/ReconstructedParticles#2.collectionID',\n",
       " 'ReconstructedParticles#3',\n",
       " 'ReconstructedParticles#3/ReconstructedParticles#3.index',\n",
       " 'ReconstructedParticles#3/ReconstructedParticles#3.collectionID',\n",
       " 'ReconstructedParticles#4',\n",
       " 'ReconstructedParticles#4/ReconstructedParticles#4.index',\n",
       " 'ReconstructedParticles#4/ReconstructedParticles#4.collectionID',\n",
       " 'ReconstructedParticles#5',\n",
       " 'ReconstructedParticles#5/ReconstructedParticles#5.index',\n",
       " 'ReconstructedParticles#5/ReconstructedParticles#5.collectionID',\n",
       " 'EFlowPhoton',\n",
       " 'EFlowPhoton/EFlowPhoton.type',\n",
       " 'EFlowPhoton/EFlowPhoton.energy',\n",
       " 'EFlowPhoton/EFlowPhoton.energyError',\n",
       " 'EFlowPhoton/EFlowPhoton.position.x',\n",
       " 'EFlowPhoton/EFlowPhoton.position.y',\n",
       " 'EFlowPhoton/EFlowPhoton.position.z',\n",
       " 'EFlowPhoton/EFlowPhoton.positionError[6]',\n",
       " 'EFlowPhoton/EFlowPhoton.iTheta',\n",
       " 'EFlowPhoton/EFlowPhoton.phi',\n",
       " 'EFlowPhoton/EFlowPhoton.directionError.x',\n",
       " 'EFlowPhoton/EFlowPhoton.directionError.y',\n",
       " 'EFlowPhoton/EFlowPhoton.directionError.z',\n",
       " 'EFlowPhoton/EFlowPhoton.shapeParameters_begin',\n",
       " 'EFlowPhoton/EFlowPhoton.shapeParameters_end',\n",
       " 'EFlowPhoton/EFlowPhoton.hitContributions_begin',\n",
       " 'EFlowPhoton/EFlowPhoton.hitContributions_end',\n",
       " 'EFlowPhoton/EFlowPhoton.subdetectorEnergies_begin',\n",
       " 'EFlowPhoton/EFlowPhoton.subdetectorEnergies_end',\n",
       " 'EFlowPhoton/EFlowPhoton.clusters_begin',\n",
       " 'EFlowPhoton/EFlowPhoton.clusters_end',\n",
       " 'EFlowPhoton/EFlowPhoton.hits_begin',\n",
       " 'EFlowPhoton/EFlowPhoton.hits_end',\n",
       " 'EFlowPhoton/EFlowPhoton.particleIDs_begin',\n",
       " 'EFlowPhoton/EFlowPhoton.particleIDs_end',\n",
       " 'EFlowPhoton#0',\n",
       " 'EFlowPhoton#0/EFlowPhoton#0.index',\n",
       " 'EFlowPhoton#0/EFlowPhoton#0.collectionID',\n",
       " 'EFlowPhoton#1',\n",
       " 'EFlowPhoton#1/EFlowPhoton#1.index',\n",
       " 'EFlowPhoton#1/EFlowPhoton#1.collectionID',\n",
       " 'EFlowPhoton#2',\n",
       " 'EFlowPhoton#2/EFlowPhoton#2.index',\n",
       " 'EFlowPhoton#2/EFlowPhoton#2.collectionID',\n",
       " 'EFlowPhoton_0',\n",
       " 'EFlowPhoton_1',\n",
       " 'EFlowPhoton_2',\n",
       " 'MCRecoAssociations',\n",
       " 'MCRecoAssociations/MCRecoAssociations.weight',\n",
       " 'MCRecoAssociations#0',\n",
       " 'MCRecoAssociations#0/MCRecoAssociations#0.index',\n",
       " 'MCRecoAssociations#0/MCRecoAssociations#0.collectionID',\n",
       " 'MCRecoAssociations#1',\n",
       " 'MCRecoAssociations#1/MCRecoAssociations#1.index',\n",
       " 'MCRecoAssociations#1/MCRecoAssociations#1.collectionID',\n",
       " 'MissingET',\n",
       " 'MissingET/MissingET.type',\n",
       " 'MissingET/MissingET.energy',\n",
       " 'MissingET/MissingET.momentum.x',\n",
       " 'MissingET/MissingET.momentum.y',\n",
       " 'MissingET/MissingET.momentum.z',\n",
       " 'MissingET/MissingET.referencePoint.x',\n",
       " 'MissingET/MissingET.referencePoint.y',\n",
       " 'MissingET/MissingET.referencePoint.z',\n",
       " 'MissingET/MissingET.charge',\n",
       " 'MissingET/MissingET.mass',\n",
       " 'MissingET/MissingET.goodnessOfPID',\n",
       " 'MissingET/MissingET.covMatrix[10]',\n",
       " 'MissingET/MissingET.clusters_begin',\n",
       " 'MissingET/MissingET.clusters_end',\n",
       " 'MissingET/MissingET.tracks_begin',\n",
       " 'MissingET/MissingET.tracks_end',\n",
       " 'MissingET/MissingET.particles_begin',\n",
       " 'MissingET/MissingET.particles_end',\n",
       " 'MissingET/MissingET.particleIDs_begin',\n",
       " 'MissingET/MissingET.particleIDs_end',\n",
       " 'MissingET#0',\n",
       " 'MissingET#0/MissingET#0.index',\n",
       " 'MissingET#0/MissingET#0.collectionID',\n",
       " 'MissingET#1',\n",
       " 'MissingET#1/MissingET#1.index',\n",
       " 'MissingET#1/MissingET#1.collectionID',\n",
       " 'MissingET#2',\n",
       " 'MissingET#2/MissingET#2.index',\n",
       " 'MissingET#2/MissingET#2.collectionID',\n",
       " 'MissingET#3',\n",
       " 'MissingET#3/MissingET#3.index',\n",
       " 'MissingET#3/MissingET#3.collectionID',\n",
       " 'MissingET#4',\n",
       " 'MissingET#4/MissingET#4.index',\n",
       " 'MissingET#4/MissingET#4.collectionID',\n",
       " 'MissingET#5',\n",
       " 'MissingET#5/MissingET#5.index',\n",
       " 'MissingET#5/MissingET#5.collectionID',\n",
       " 'ParticleIDs',\n",
       " 'ParticleIDs/ParticleIDs.type',\n",
       " 'ParticleIDs/ParticleIDs.PDG',\n",
       " 'ParticleIDs/ParticleIDs.algorithmType',\n",
       " 'ParticleIDs/ParticleIDs.likelihood',\n",
       " 'ParticleIDs/ParticleIDs.parameters_begin',\n",
       " 'ParticleIDs/ParticleIDs.parameters_end',\n",
       " 'ParticleIDs_0',\n",
       " 'Jet',\n",
       " 'Jet/Jet.type',\n",
       " 'Jet/Jet.energy',\n",
       " 'Jet/Jet.momentum.x',\n",
       " 'Jet/Jet.momentum.y',\n",
       " 'Jet/Jet.momentum.z',\n",
       " 'Jet/Jet.referencePoint.x',\n",
       " 'Jet/Jet.referencePoint.y',\n",
       " 'Jet/Jet.referencePoint.z',\n",
       " 'Jet/Jet.charge',\n",
       " 'Jet/Jet.mass',\n",
       " 'Jet/Jet.goodnessOfPID',\n",
       " 'Jet/Jet.covMatrix[10]',\n",
       " 'Jet/Jet.clusters_begin',\n",
       " 'Jet/Jet.clusters_end',\n",
       " 'Jet/Jet.tracks_begin',\n",
       " 'Jet/Jet.tracks_end',\n",
       " 'Jet/Jet.particles_begin',\n",
       " 'Jet/Jet.particles_end',\n",
       " 'Jet/Jet.particleIDs_begin',\n",
       " 'Jet/Jet.particleIDs_end',\n",
       " 'Jet#0',\n",
       " 'Jet#0/Jet#0.index',\n",
       " 'Jet#0/Jet#0.collectionID',\n",
       " 'Jet#1',\n",
       " 'Jet#1/Jet#1.index',\n",
       " 'Jet#1/Jet#1.collectionID',\n",
       " 'Jet#2',\n",
       " 'Jet#2/Jet#2.index',\n",
       " 'Jet#2/Jet#2.collectionID',\n",
       " 'Jet#3',\n",
       " 'Jet#3/Jet#3.index',\n",
       " 'Jet#3/Jet#3.collectionID',\n",
       " 'Jet#4',\n",
       " 'Jet#4/Jet#4.index',\n",
       " 'Jet#4/Jet#4.collectionID',\n",
       " 'Jet#5',\n",
       " 'Jet#5/Jet#5.index',\n",
       " 'Jet#5/Jet#5.collectionID',\n",
       " 'EFlowTrack',\n",
       " 'EFlowTrack/EFlowTrack.type',\n",
       " 'EFlowTrack/EFlowTrack.chi2',\n",
       " 'EFlowTrack/EFlowTrack.ndf',\n",
       " 'EFlowTrack/EFlowTrack.dEdx',\n",
       " 'EFlowTrack/EFlowTrack.dEdxError',\n",
       " 'EFlowTrack/EFlowTrack.radiusOfInnermostHit',\n",
       " 'EFlowTrack/EFlowTrack.subDetectorHitNumbers_begin',\n",
       " 'EFlowTrack/EFlowTrack.subDetectorHitNumbers_end',\n",
       " 'EFlowTrack/EFlowTrack.trackStates_begin',\n",
       " 'EFlowTrack/EFlowTrack.trackStates_end',\n",
       " 'EFlowTrack/EFlowTrack.trackerHits_begin',\n",
       " 'EFlowTrack/EFlowTrack.trackerHits_end',\n",
       " 'EFlowTrack/EFlowTrack.tracks_begin',\n",
       " 'EFlowTrack/EFlowTrack.tracks_end',\n",
       " 'EFlowTrack#0',\n",
       " 'EFlowTrack#0/EFlowTrack#0.index',\n",
       " 'EFlowTrack#0/EFlowTrack#0.collectionID',\n",
       " 'EFlowTrack#1',\n",
       " 'EFlowTrack#1/EFlowTrack#1.index',\n",
       " 'EFlowTrack#1/EFlowTrack#1.collectionID',\n",
       " 'EFlowTrack_0',\n",
       " 'EFlowTrack_1',\n",
       " 'EFlowTrack_1/EFlowTrack_1.location',\n",
       " 'EFlowTrack_1/EFlowTrack_1.D0',\n",
       " 'EFlowTrack_1/EFlowTrack_1.phi',\n",
       " 'EFlowTrack_1/EFlowTrack_1.omega',\n",
       " 'EFlowTrack_1/EFlowTrack_1.Z0',\n",
       " 'EFlowTrack_1/EFlowTrack_1.tanLambda',\n",
       " 'EFlowTrack_1/EFlowTrack_1.referencePoint.x',\n",
       " 'EFlowTrack_1/EFlowTrack_1.referencePoint.y',\n",
       " 'EFlowTrack_1/EFlowTrack_1.referencePoint.z',\n",
       " 'EFlowTrack_1/EFlowTrack_1.covMatrix[15]']"
      ]
     },
     "execution_count": 3,
     "metadata": {},
     "output_type": "execute_result"
    }
   ],
   "source": [
    "events.fields"
   ]
  },
  {
   "cell_type": "code",
   "execution_count": 4,
   "id": "cdec95d2-3d37-41b8-b97e-aa7bacd9dd13",
   "metadata": {},
   "outputs": [],
   "source": [
    "mu_0_index = events['Muon#0/Muon#0.index'].compute()"
   ]
  },
  {
   "cell_type": "code",
   "execution_count": 5,
   "id": "beb7bcc4-b4cb-43ef-8ab9-04724641761f",
   "metadata": {},
   "outputs": [],
   "source": [
    "Recon = events['ReconstructedParticles/ReconstructedParticles.energy'].compute()"
   ]
  },
  {
   "cell_type": "code",
   "execution_count": 6,
   "id": "4a6739c0-31da-4af2-802d-4d761ff39552",
   "metadata": {},
   "outputs": [],
   "source": [
    "useful_events = events[ak.num(Recon) > 0]"
   ]
  },
  {
   "cell_type": "code",
   "execution_count": 7,
   "id": "0afe5f7a-f200-4a1b-9605-720c42eb23ba",
   "metadata": {},
   "outputs": [
    {
     "data": {
      "text/html": [
       "<pre>[[0.388, 1.19, 4.3, 5.08, 2.34, 3.77, 2.4, ..., 15.8, 8.47, 3.65, 2, 2.9, 1.22],\n",
       " [0.305, 0.578, 2.31, 0.475, 3.54, 1.01, ..., 3.13, 2.68, 3.39, 3.36, 0.68],\n",
       " [0.904, 1.38, 1.89, 2.72, 7.38, 1.1, ..., 0.824, 1.44, 1.72, 1.26, 0.711],\n",
       " [3.45, 0.416, 0.315, 4.81, 1.54, 1.62, ..., 0.886, 4.08, 13.2, 6.33, 5.04],\n",
       " [0.591, 3.4, 2.92, 1.15, 2.51, 2.55, ..., 0.775, 5.59, 1.5, 3.45, 1.36, 0.877],\n",
       " [0.35, 0.911, 1.34, 1.9, 9.21, 0.401, ..., 2.78, 1.72, 0.816, 1.69, 1, 1.33],\n",
       " [0.565, 0.522, 0.417, 0.527, 3.99, 1.94, ..., 0.504, 0.943, 0.719, 1.64, 0.52],\n",
       " [0.27, 0.461, 0.405, 0.689, 0.534, 0.409, ..., 7.25, 0.68, 0.98, 0.867, 0.644],\n",
       " [0.474, 0.444, 0.522, 0.714, 10.7, 4.79, ..., 1.34, 1.27, 2.75, 0.781, 2.98],\n",
       " [0.239, 1.93, 0.498, 0.559, 8.34, 8.21, ..., 2.97, 0.854, 0.686, 2.72, 0.933],\n",
       " ...,\n",
       " [0.339, 54.8, 1.9, 2.62, 4.92, 2.51, ..., 4.63, 2.59, 2.79, 2.5, 0.631, 1.15],\n",
       " [0.507, 0.286, 0.559, 0.475, 0.582, 0.613, ..., 2.13, 18.6, 6.61, 0.933, 1.78],\n",
       " [0.399, 0.317, 0.319, 0.399, 0.393, ..., 0.753, 0.824, 0.662, 0.948, 0.982],\n",
       " [0.319, 0.489, 3.2, 8.7, 15.1, 0.667, ..., 0.784, 0.555, 1.06, 1.6, 8.9],\n",
       " [0.52, 0.6, 0.596, 0.811, 3.75, 7.43, ..., 0.628, 0.501, 0.544, 0.653, 0.987],\n",
       " [1.27, 3.59, 5.59, 4.82, 6.08, 3.05, ..., 1.26, 3.46, 1.47, 2.72, 1.09, 0.757],\n",
       " [10.1, 4.38, 5.67, 36.6, 1.6, 1.74, ..., 0.87, 1.18, 0.753, 0.771, 1.95],\n",
       " [0.539, 0.257, 1.2, 6.7, 6.99, 2.15, ..., 7.09, 4.55, 0.66, 0.531, 2.07, 1.52],\n",
       " [30.6, 5.4, 14.2, 1.15, 0.31, 0.487, ..., 0.759, 1.98, 2, 0.528, 0.88, 0.922]]\n",
       "---------------------------------------------------------------------------------------------------------------------------------------------------\n",
       "type: 99984 * [var * float32[parameters={&quot;__doc__&quot;: &quot;energy[ReconstructedParticles_]&quot;}], parameters={&quot;__doc__&quot;: &quot;energy[ReconstructedParticles_]&quot;}]</pre>"
      ],
      "text/plain": [
       "<Array [[0.388, 1.19, ..., 2.9, 1.22], ...] type='99984 * [var * float32[pa...'>"
      ]
     },
     "execution_count": 7,
     "metadata": {},
     "output_type": "execute_result"
    }
   ],
   "source": [
    "useful_events['ReconstructedParticles/ReconstructedParticles.energy'].compute()"
   ]
  },
  {
   "cell_type": "code",
   "execution_count": 8,
   "id": "20c04c3f-02a0-4cb8-9713-e572d772e41c",
   "metadata": {},
   "outputs": [],
   "source": [
    "Reco_E = useful_events['ReconstructedParticles/ReconstructedParticles.energy'].compute()\n",
    "Reco_px = useful_events['ReconstructedParticles/ReconstructedParticles.momentum.x'].compute()\n",
    "Reco_py = useful_events['ReconstructedParticles/ReconstructedParticles.momentum.y'].compute()\n",
    "Reco_pz = useful_events['ReconstructedParticles/ReconstructedParticles.momentum.z'].compute()\n",
    "Muon_index = useful_events['Muon#0/Muon#0.index'].compute()"
   ]
  },
  {
   "cell_type": "code",
   "execution_count": 9,
   "id": "b0a098bc-9950-47a1-bbd9-0a93c0f8a49c",
   "metadata": {},
   "outputs": [
    {
     "data": {
      "text/html": [
       "<pre>[[0.388],\n",
       " [0.305],\n",
       " [0.904],\n",
       " [3.45],\n",
       " [0.591],\n",
       " [0.35],\n",
       " [0.565],\n",
       " [0.27],\n",
       " [0.474],\n",
       " [0.239],\n",
       " ...,\n",
       " [0.339],\n",
       " [0.507],\n",
       " [0.399],\n",
       " [0.319],\n",
       " [0.52],\n",
       " [1.27],\n",
       " [10.1],\n",
       " [0.539],\n",
       " [30.6]]\n",
       "------------------------------------------------------------------------------------\n",
       "type: 99984 * 1 * float32[parameters={&quot;__doc__&quot;: &quot;energy[ReconstructedParticles_]&quot;}]</pre>"
      ],
      "text/plain": [
       "<Array [[0.388], [0.305], ..., [0.539], [30.6]] type='99984 * 1 * float32[p...'>"
      ]
     },
     "execution_count": 9,
     "metadata": {},
     "output_type": "execute_result"
    }
   ],
   "source": [
    "Reco_E[:,[0]]"
   ]
  },
  {
   "cell_type": "code",
   "execution_count": 10,
   "id": "1187c702-9253-4ab8-add9-61cbcf1729ae",
   "metadata": {},
   "outputs": [],
   "source": [
    "def index_mask(input_array, index_array):\n",
    "    if len(input_array) != len(index_array) :\n",
    "        raise Exception('Length of Input_array and index_array does not match!')\n",
    "    counts = len(ak.count(input_array, axis = 1))\n",
    "    @numba.jit\n",
    "    def numba_wrap(input_array, index_array,counts):\n",
    "        output_array = []\n",
    "        for event_index in range(counts):\n",
    "            event_mask = index_array[event_index]\n",
    "            reco_list = input_array[event_index]\n",
    "            output_array.append([reco_list[i] for i in  event_mask])\n",
    "        return output_array\n",
    "    return ak.Array(numba_wrap(input_array,index_array,counts))"
   ]
  },
  {
   "cell_type": "code",
   "execution_count": 11,
   "id": "c9832802-10c9-45ae-a331-d62b8c3fbd6f",
   "metadata": {},
   "outputs": [],
   "source": [
    "Muon_E = index_mask(Reco_E, Muon_index)\n",
    "Muon_px = index_mask(Reco_px, Muon_index)\n",
    "Muon_py = index_mask(Reco_py, Muon_index)\n",
    "Muon_pz = index_mask(Reco_pz, Muon_index)"
   ]
  },
  {
   "cell_type": "code",
   "execution_count": 12,
   "id": "67ecd576-84e2-44b4-8449-4438d2078c65",
   "metadata": {},
   "outputs": [
    {
     "data": {
      "text/html": [
       "<pre>[[43.4],\n",
       " [61.6, 41.5],\n",
       " [30.9],\n",
       " [39],\n",
       " [38.7],\n",
       " [79.7],\n",
       " [59.7, 45.9],\n",
       " [20.9],\n",
       " [70.3, 32.5],\n",
       " [20.4],\n",
       " ...,\n",
       " [11.1],\n",
       " [48.6],\n",
       " [48.5],\n",
       " [66.9, 26.2],\n",
       " [75, 27.3],\n",
       " [21.3],\n",
       " [3.52],\n",
       " [29.8],\n",
       " [36.6]]\n",
       "---------------------------\n",
       "type: 11229 * var * float64</pre>"
      ],
      "text/plain": [
       "<Array [[43.4], [61.6, 41.5], ..., [29.8], [36.6]] type='11229 * var * float64'>"
      ]
     },
     "execution_count": 12,
     "metadata": {},
     "output_type": "execute_result"
    }
   ],
   "source": [
    "Muon_E[ak.num(Muon_E)>0]"
   ]
  },
  {
   "cell_type": "code",
   "execution_count": 13,
   "id": "3e101fcf-2ac1-400f-886f-7a234e16c886",
   "metadata": {},
   "outputs": [],
   "source": [
    "import hist"
   ]
  },
  {
   "cell_type": "code",
   "execution_count": 61,
   "id": "1a15d06b-de91-4d20-8771-dd20da3c4e48",
   "metadata": {},
   "outputs": [],
   "source": [
    "mu_px = hist.Hist.new.Reg(100,0,200).Double().fill(ak.flatten(Muon_px))\n",
    "mu_py = hist.Hist.new.Reg(100,0,200).Double().fill(ak.flatten(Muon_py))\n",
    "mu_pz = hist.Hist.new.Reg(100,0,200).Double().fill(ak.flatten(Muon_pz))"
   ]
  },
  {
   "cell_type": "code",
   "execution_count": 62,
   "id": "0f7487ea-b10d-44af-8edb-14ce439328b5",
   "metadata": {},
   "outputs": [
    {
     "data": {
      "text/html": [
       "<html>\n",
       "<div style=\"display:flex; align-items:center;\">\n",
       "<div style=\"width:290px;\">\n",
       "<svg xmlns=\"http://www.w3.org/2000/svg\" viewBox=\"-10 -105 270 120\">\n",
       "<line x1=\"-5\" y1=\"0\" x2=\"255\" y2=\"0\" style=\"fill:none;stroke-width:2;stroke:currentColor\"/>\n",
       "<text text-anchor=\"middle\" x=\"0\" y=\"15\" style=\"fill:currentColor;\">\n",
       "0\n",
       "</text>\n",
       "<text text-anchor=\"middle\" x=\"250\" y=\"15\" style=\"fill:currentColor;\">\n",
       "200\n",
       "</text>\n",
       "<text text-anchor=\"middle\" x=\"125.0\" y=\"15\" style=\"fill:currentColor;\">\n",
       "Axis 0\n",
       "</text>\n",
       "<polyline points=\"  0,0   0,-100 2.5,-100 2.5,-66.9   5,-66.9   5,-51.5 7.5,-51.5 7.5,-46.2  10,-46.2  10,-43.3 12.5,-43.3 12.5,-42.8  15,-42.8  15,-38.3 17.5,-38.3 17.5,-35.9  20,-35.9  20,-31.6 22.5,-31.6 22.5,-29.6  25,-29.6  25,-28.5 27.5,-28.5 27.5,-26.3  30,-26.3  30,-23.8 32.5,-23.8 32.5,-22.4  35,-22.4  35,-22.5 37.5,-22.5 37.5,-23  40,-23  40,-19.1 42.5,-19.1 42.5,-17.2  45,-17.2  45,-15.2 47.5,-15.2 47.5,-12.9  50,-12.9  50,-11.7 52.5,-11.7 52.5,-11.3  55,-11.3  55,-9.07 57.5,-9.07 57.5,-8.76  60,-8.76  60,-7.92 62.5,-7.92 62.5,-5.11  65,-5.11  65,-6.78 67.5,-6.78 67.5,-5.63  70,-5.63  70,-3.75 72.5,-3.75 72.5,-3.44  75,-3.44  75,-2.4 77.5,-2.4 77.5,-1.25  80,-1.25  80,-2.29 82.5,-2.29 82.5,-1.25  85,-1.25  85,-0.521 87.5,-0.521 87.5,-0.313  90,-0.313  90,-0.104 92.5,-0.104 92.5,-0  95,-0  95,-0.104 97.5,-0.104 97.5,-0 100,-0 100,-0 102.5,-0 102.5,-0 105,-0 105,-0 107.5,-0 107.5,-0 110,-0 110,-0 112.5,-0 112.5,-0 115,-0 115,-0 117.5,-0 117.5,-0 120,-0 120,-0 122.5,-0 122.5,-0 125,-0 125,-0 127.5,-0 127.5,-0 130,-0 130,-0 132.5,-0 132.5,-0 135,-0 135,-0 137.5,-0 137.5,-0 140,-0 140,-0 142.5,-0 142.5,-0 145,-0 145,-0 147.5,-0 147.5,-0 150,-0 150,-0 152.5,-0 152.5,-0 155,-0 155,-0 157.5,-0 157.5,-0 160,-0 160,-0 162.5,-0 162.5,-0 165,-0 165,-0 167.5,-0 167.5,-0 170,-0 170,-0 172.5,-0 172.5,-0 175,-0 175,-0 177.5,-0 177.5,-0 180,-0 180,-0 182.5,-0 182.5,-0 185,-0 185,-0 187.5,-0 187.5,-0 190,-0 190,-0 192.5,-0 192.5,-0 195,-0 195,-0 197.5,-0 197.5,-0 200,-0 200,-0 202.5,-0 202.5,-0 205,-0 205,-0 207.5,-0 207.5,-0 210,-0 210,-0 212.5,-0 212.5,-0 215,-0 215,-0 217.5,-0 217.5,-0 220,-0 220,-0 222.5,-0 222.5,-0 225,-0 225,-0 227.5,-0 227.5,-0 230,-0 230,-0 232.5,-0 232.5,-0 235,-0 235,-0 237.5,-0 237.5,-0 240,-0 240,-0 242.5,-0 242.5,-0 245,-0 245,-0 247.5,-0 247.5,-0 250,-0 250,0\" style=\"fill:none; stroke:currentColor;\"/>\n",
       "</svg>\n",
       "</div>\n",
       "<div style=\"flex=grow:1;\">\n",
       "Regular(100, 0, 200, label='Axis 0')<br/>\n",
       "<hr style=\"margin-top:.2em; margin-bottom:.2em;\"/>\n",
       "Double() Σ=7467.0 <em>(14892.0 with flow)</em>\n",
       "\n",
       "</div>\n",
       "</div>\n",
       "</html>"
      ],
      "text/plain": [
       "Hist(Regular(100, 0, 200, label='Axis 0'), storage=Double()) # Sum: 7467.0 (14892.0 with flow)"
      ]
     },
     "execution_count": 62,
     "metadata": {},
     "output_type": "execute_result"
    }
   ],
   "source": [
    "mu_px"
   ]
  },
  {
   "cell_type": "code",
   "execution_count": 63,
   "id": "337ab60a-ba87-4226-8b7a-e642523df7be",
   "metadata": {},
   "outputs": [
    {
     "data": {
      "text/html": [
       "<html>\n",
       "<div style=\"display:flex; align-items:center;\">\n",
       "<div style=\"width:290px;\">\n",
       "<svg xmlns=\"http://www.w3.org/2000/svg\" viewBox=\"-10 -105 270 120\">\n",
       "<line x1=\"-5\" y1=\"0\" x2=\"255\" y2=\"0\" style=\"fill:none;stroke-width:2;stroke:currentColor\"/>\n",
       "<text text-anchor=\"middle\" x=\"0\" y=\"15\" style=\"fill:currentColor;\">\n",
       "0\n",
       "</text>\n",
       "<text text-anchor=\"middle\" x=\"250\" y=\"15\" style=\"fill:currentColor;\">\n",
       "200\n",
       "</text>\n",
       "<text text-anchor=\"middle\" x=\"125.0\" y=\"15\" style=\"fill:currentColor;\">\n",
       "Axis 0\n",
       "</text>\n",
       "<polyline points=\"  0,0   0,-100 2.5,-100 2.5,-67.9   5,-67.9   5,-60.4 7.5,-60.4 7.5,-47.5  10,-47.5  10,-46.8 12.5,-46.8 12.5,-44.2  15,-44.2  15,-39.8 17.5,-39.8 17.5,-38.2  20,-38.2  20,-31.7 22.5,-31.7 22.5,-32.1  25,-32.1  25,-29 27.5,-29 27.5,-30.5  30,-30.5  30,-25.7 32.5,-25.7 32.5,-24.5  35,-24.5  35,-22.1 37.5,-22.1 37.5,-23.9  40,-23.9  40,-17.2 42.5,-17.2 42.5,-13.9  45,-13.9  45,-14.4 47.5,-14.4 47.5,-14.7  50,-14.7  50,-11.7 52.5,-11.7 52.5,-9.44  55,-9.44  55,-8.34 57.5,-8.34 57.5,-7.46  60,-7.46  60,-7.9 62.5,-7.9 62.5,-7.46  65,-7.46  65,-5.49 67.5,-5.49 67.5,-3.62  70,-3.62  70,-4.83 72.5,-4.83 72.5,-2.85  75,-2.85  75,-2.52 77.5,-2.52 77.5,-1.87  80,-1.87  80,-2.2 82.5,-2.2 82.5,-1.65  85,-1.65  85,-1.54 87.5,-1.54 87.5,-0.878  90,-0.878  90,-0.22 92.5,-0.22 92.5,-0.329  95,-0.329  95,-0 97.5,-0 97.5,-0 100,-0 100,-0 102.5,-0 102.5,-0 105,-0 105,-0 107.5,-0 107.5,-0 110,-0 110,-0 112.5,-0 112.5,-0 115,-0 115,-0 117.5,-0 117.5,-0 120,-0 120,-0 122.5,-0 122.5,-0 125,-0 125,-0 127.5,-0 127.5,-0 130,-0 130,-0 132.5,-0 132.5,-0 135,-0 135,-0 137.5,-0 137.5,-0 140,-0 140,-0 142.5,-0 142.5,-0 145,-0 145,-0 147.5,-0 147.5,-0 150,-0 150,-0 152.5,-0 152.5,-0 155,-0 155,-0 157.5,-0 157.5,-0 160,-0 160,-0 162.5,-0 162.5,-0 165,-0 165,-0 167.5,-0 167.5,-0 170,-0 170,-0 172.5,-0 172.5,-0 175,-0 175,-0 177.5,-0 177.5,-0 180,-0 180,-0 182.5,-0 182.5,-0 185,-0 185,-0 187.5,-0 187.5,-0 190,-0 190,-0 192.5,-0 192.5,-0 195,-0 195,-0 197.5,-0 197.5,-0 200,-0 200,-0 202.5,-0 202.5,-0 205,-0 205,-0 207.5,-0 207.5,-0 210,-0 210,-0 212.5,-0 212.5,-0 215,-0 215,-0 217.5,-0 217.5,-0 220,-0 220,-0 222.5,-0 222.5,-0 225,-0 225,-0 227.5,-0 227.5,-0 230,-0 230,-0 232.5,-0 232.5,-0 235,-0 235,-0 237.5,-0 237.5,-0 240,-0 240,-0 242.5,-0 242.5,-0 245,-0 245,-0 247.5,-0 247.5,-0 250,-0 250,0\" style=\"fill:none; stroke:currentColor;\"/>\n",
       "</svg>\n",
       "</div>\n",
       "<div style=\"flex=grow:1;\">\n",
       "Regular(100, 0, 200, label='Axis 0')<br/>\n",
       "<hr style=\"margin-top:.2em; margin-bottom:.2em;\"/>\n",
       "Double() Σ=7333.0 <em>(14892.0 with flow)</em>\n",
       "\n",
       "</div>\n",
       "</div>\n",
       "</html>"
      ],
      "text/plain": [
       "Hist(Regular(100, 0, 200, label='Axis 0'), storage=Double()) # Sum: 7333.0 (14892.0 with flow)"
      ]
     },
     "execution_count": 63,
     "metadata": {},
     "output_type": "execute_result"
    }
   ],
   "source": [
    "mu_py"
   ]
  },
  {
   "cell_type": "code",
   "execution_count": 64,
   "id": "298ac828-022c-4bef-a174-37d2d159b694",
   "metadata": {},
   "outputs": [
    {
     "data": {
      "text/html": [
       "<html>\n",
       "<div style=\"display:flex; align-items:center;\">\n",
       "<div style=\"width:290px;\">\n",
       "<svg xmlns=\"http://www.w3.org/2000/svg\" viewBox=\"-10 -105 270 120\">\n",
       "<line x1=\"-5\" y1=\"0\" x2=\"255\" y2=\"0\" style=\"fill:none;stroke-width:2;stroke:currentColor\"/>\n",
       "<text text-anchor=\"middle\" x=\"0\" y=\"15\" style=\"fill:currentColor;\">\n",
       "0\n",
       "</text>\n",
       "<text text-anchor=\"middle\" x=\"250\" y=\"15\" style=\"fill:currentColor;\">\n",
       "200\n",
       "</text>\n",
       "<text text-anchor=\"middle\" x=\"125.0\" y=\"15\" style=\"fill:currentColor;\">\n",
       "Axis 0\n",
       "</text>\n",
       "<polyline points=\"  0,0   0,-100 2.5,-100 2.5,-67.4   5,-67.4   5,-55.8 7.5,-55.8 7.5,-46.8  10,-46.8  10,-45 12.5,-45 12.5,-43.5  15,-43.5  15,-39 17.5,-39 17.5,-37  20,-37  20,-31.7 22.5,-31.7 22.5,-30.8  25,-30.8  25,-28.7 27.5,-28.7 27.5,-28.3  30,-28.3  30,-24.7 32.5,-24.7 32.5,-23.4  35,-23.4  35,-22.3 37.5,-22.3 37.5,-23.5  40,-23.5  40,-18.2 42.5,-18.2 42.5,-15.6  45,-15.6  45,-14.8 47.5,-14.8 47.5,-13.8  50,-13.8  50,-11.7 52.5,-11.7 52.5,-10.4  55,-10.4  55,-8.72 57.5,-8.72 57.5,-8.13  60,-8.13  60,-7.91 62.5,-7.91 62.5,-6.26  65,-6.26  65,-6.15 67.5,-6.15 67.5,-4.65  70,-4.65  70,-4.28 72.5,-4.28 72.5,-3.16  75,-3.16  75,-2.46 77.5,-2.46 77.5,-1.55  80,-1.55  80,-2.25 82.5,-2.25 82.5,-1.44  85,-1.44  85,-1.02 87.5,-1.02 87.5,-0.588  90,-0.588  90,-0.16 92.5,-0.16 92.5,-0.16  95,-0.16  95,-0.0535 97.5,-0.0535 97.5,-0 100,-0 100,-0 102.5,-0 102.5,-0 105,-0 105,-0 107.5,-0 107.5,-0 110,-0 110,-0 112.5,-0 112.5,-0 115,-0 115,-0 117.5,-0 117.5,-0 120,-0 120,-0 122.5,-0 122.5,-0 125,-0 125,-0 127.5,-0 127.5,-0 130,-0 130,-0 132.5,-0 132.5,-0 135,-0 135,-0 137.5,-0 137.5,-0 140,-0 140,-0 142.5,-0 142.5,-0 145,-0 145,-0 147.5,-0 147.5,-0 150,-0 150,-0 152.5,-0 152.5,-0 155,-0 155,-0 157.5,-0 157.5,-0 160,-0 160,-0 162.5,-0 162.5,-0 165,-0 165,-0 167.5,-0 167.5,-0 170,-0 170,-0 172.5,-0 172.5,-0 175,-0 175,-0 177.5,-0 177.5,-0 180,-0 180,-0 182.5,-0 182.5,-0 185,-0 185,-0 187.5,-0 187.5,-0 190,-0 190,-0 192.5,-0 192.5,-0 195,-0 195,-0 197.5,-0 197.5,-0 200,-0 200,-0 202.5,-0 202.5,-0 205,-0 205,-0 207.5,-0 207.5,-0 210,-0 210,-0 212.5,-0 212.5,-0 215,-0 215,-0 217.5,-0 217.5,-0 220,-0 220,-0 222.5,-0 222.5,-0 225,-0 225,-0 227.5,-0 227.5,-0 230,-0 230,-0 232.5,-0 232.5,-0 235,-0 235,-0 237.5,-0 237.5,-0 240,-0 240,-0 242.5,-0 242.5,-0 245,-0 245,-0 247.5,-0 247.5,-0 250,-0 250,0\" style=\"fill:none; stroke:currentColor;\"/>\n",
       "</svg>\n",
       "</div>\n",
       "<div style=\"flex=grow:1;\">\n",
       "Regular(100, 0, 200, label='Axis 0')<br/>\n",
       "<hr style=\"margin-top:.2em; margin-bottom:.2em;\"/>\n",
       "Double() Σ=14800.0 <em>(29784.0 with flow)</em>\n",
       "\n",
       "</div>\n",
       "</div>\n",
       "</html>"
      ],
      "text/plain": [
       "Hist(Regular(100, 0, 200, label='Axis 0'), storage=Double()) # Sum: 14800.0 (29784.0 with flow)"
      ]
     },
     "execution_count": 64,
     "metadata": {},
     "output_type": "execute_result"
    }
   ],
   "source": [
    "mu_px+mu_py"
   ]
  },
  {
   "cell_type": "code",
   "execution_count": 65,
   "id": "a1560c3c-6cf9-464f-8f75-84e79f346359",
   "metadata": {},
   "outputs": [],
   "source": [
    "hists = [mu_px, mu_py]"
   ]
  },
  {
   "cell_type": "code",
   "execution_count": 66,
   "id": "10de998b-bb16-477c-beeb-e6d3af3970cc",
   "metadata": {},
   "outputs": [
    {
     "data": {
      "text/html": [
       "<html>\n",
       "<div style=\"display:flex; align-items:center;\">\n",
       "<div style=\"width:290px;\">\n",
       "<svg xmlns=\"http://www.w3.org/2000/svg\" viewBox=\"-10 -105 270 120\">\n",
       "<line x1=\"-5\" y1=\"0\" x2=\"255\" y2=\"0\" style=\"fill:none;stroke-width:2;stroke:currentColor\"/>\n",
       "<text text-anchor=\"middle\" x=\"0\" y=\"15\" style=\"fill:currentColor;\">\n",
       "0\n",
       "</text>\n",
       "<text text-anchor=\"middle\" x=\"250\" y=\"15\" style=\"fill:currentColor;\">\n",
       "200\n",
       "</text>\n",
       "<text text-anchor=\"middle\" x=\"125.0\" y=\"15\" style=\"fill:currentColor;\">\n",
       "Axis 0\n",
       "</text>\n",
       "<polyline points=\"  0,0   0,-100 2.5,-100 2.5,-67.4   5,-67.4   5,-55.8 7.5,-55.8 7.5,-46.8  10,-46.8  10,-45 12.5,-45 12.5,-43.5  15,-43.5  15,-39 17.5,-39 17.5,-37  20,-37  20,-31.7 22.5,-31.7 22.5,-30.8  25,-30.8  25,-28.7 27.5,-28.7 27.5,-28.3  30,-28.3  30,-24.7 32.5,-24.7 32.5,-23.4  35,-23.4  35,-22.3 37.5,-22.3 37.5,-23.5  40,-23.5  40,-18.2 42.5,-18.2 42.5,-15.6  45,-15.6  45,-14.8 47.5,-14.8 47.5,-13.8  50,-13.8  50,-11.7 52.5,-11.7 52.5,-10.4  55,-10.4  55,-8.72 57.5,-8.72 57.5,-8.13  60,-8.13  60,-7.91 62.5,-7.91 62.5,-6.26  65,-6.26  65,-6.15 67.5,-6.15 67.5,-4.65  70,-4.65  70,-4.28 72.5,-4.28 72.5,-3.16  75,-3.16  75,-2.46 77.5,-2.46 77.5,-1.55  80,-1.55  80,-2.25 82.5,-2.25 82.5,-1.44  85,-1.44  85,-1.02 87.5,-1.02 87.5,-0.588  90,-0.588  90,-0.16 92.5,-0.16 92.5,-0.16  95,-0.16  95,-0.0535 97.5,-0.0535 97.5,-0 100,-0 100,-0 102.5,-0 102.5,-0 105,-0 105,-0 107.5,-0 107.5,-0 110,-0 110,-0 112.5,-0 112.5,-0 115,-0 115,-0 117.5,-0 117.5,-0 120,-0 120,-0 122.5,-0 122.5,-0 125,-0 125,-0 127.5,-0 127.5,-0 130,-0 130,-0 132.5,-0 132.5,-0 135,-0 135,-0 137.5,-0 137.5,-0 140,-0 140,-0 142.5,-0 142.5,-0 145,-0 145,-0 147.5,-0 147.5,-0 150,-0 150,-0 152.5,-0 152.5,-0 155,-0 155,-0 157.5,-0 157.5,-0 160,-0 160,-0 162.5,-0 162.5,-0 165,-0 165,-0 167.5,-0 167.5,-0 170,-0 170,-0 172.5,-0 172.5,-0 175,-0 175,-0 177.5,-0 177.5,-0 180,-0 180,-0 182.5,-0 182.5,-0 185,-0 185,-0 187.5,-0 187.5,-0 190,-0 190,-0 192.5,-0 192.5,-0 195,-0 195,-0 197.5,-0 197.5,-0 200,-0 200,-0 202.5,-0 202.5,-0 205,-0 205,-0 207.5,-0 207.5,-0 210,-0 210,-0 212.5,-0 212.5,-0 215,-0 215,-0 217.5,-0 217.5,-0 220,-0 220,-0 222.5,-0 222.5,-0 225,-0 225,-0 227.5,-0 227.5,-0 230,-0 230,-0 232.5,-0 232.5,-0 235,-0 235,-0 237.5,-0 237.5,-0 240,-0 240,-0 242.5,-0 242.5,-0 245,-0 245,-0 247.5,-0 247.5,-0 250,-0 250,0\" style=\"fill:none; stroke:currentColor;\"/>\n",
       "</svg>\n",
       "</div>\n",
       "<div style=\"flex=grow:1;\">\n",
       "Regular(100, 0, 200, label='Axis 0')<br/>\n",
       "<hr style=\"margin-top:.2em; margin-bottom:.2em;\"/>\n",
       "Double() Σ=14800.0 <em>(29784.0 with flow)</em>\n",
       "\n",
       "</div>\n",
       "</div>\n",
       "</html>"
      ],
      "text/plain": [
       "Hist(Regular(100, 0, 200, label='Axis 0'), storage=Double()) # Sum: 14800.0 (29784.0 with flow)"
      ]
     },
     "execution_count": 66,
     "metadata": {},
     "output_type": "execute_result"
    }
   ],
   "source": [
    "sum(hists)"
   ]
  },
  {
   "cell_type": "code",
   "execution_count": 67,
   "id": "7e47e01f-422f-4cbd-b016-bcc0a67fa888",
   "metadata": {},
   "outputs": [],
   "source": [
    "numeric1 = {\"p1\":mu_px,\"p2\":mu_py,\"p3\":mu_pz}\n",
    "numeric2 = {\"p1\":mu_pz,\"p2\":mu_py,\"p3\":mu_px}"
   ]
  },
  {
   "cell_type": "code",
   "execution_count": 68,
   "id": "4987130c-3e5c-4a50-b1fc-fbc3acefdc39",
   "metadata": {},
   "outputs": [
    {
     "data": {
      "text/plain": [
       "{'p1': Hist(Regular(100, 0, 200, label='Axis 0'), storage=Double()) # Sum: 7467.0 (14892.0 with flow),\n",
       " 'p2': Hist(Regular(100, 0, 200, label='Axis 0'), storage=Double()) # Sum: 7333.0 (14892.0 with flow),\n",
       " 'p3': Hist(Regular(100, 0, 200, label='Axis 0'), storage=Double()) # Sum: 7348.0 (14892.0 with flow)}"
      ]
     },
     "execution_count": 68,
     "metadata": {},
     "output_type": "execute_result"
    }
   ],
   "source": [
    "numeric1"
   ]
  },
  {
   "cell_type": "code",
   "execution_count": 69,
   "id": "b4d31df5-ca22-41ab-bd3e-1e44ef9e2ef3",
   "metadata": {},
   "outputs": [
    {
     "data": {
      "text/plain": [
       "{'p1': Hist(Regular(100, 0, 200, label='Axis 0'), storage=Double()) # Sum: 7348.0 (14892.0 with flow),\n",
       " 'p2': Hist(Regular(100, 0, 200, label='Axis 0'), storage=Double()) # Sum: 7333.0 (14892.0 with flow),\n",
       " 'p3': Hist(Regular(100, 0, 200, label='Axis 0'), storage=Double()) # Sum: 7467.0 (14892.0 with flow)}"
      ]
     },
     "execution_count": 69,
     "metadata": {},
     "output_type": "execute_result"
    }
   ],
   "source": [
    "numeric2"
   ]
  },
  {
   "cell_type": "code",
   "execution_count": 70,
   "id": "55d72632-8edd-44b4-9dc0-ff62c389f8d0",
   "metadata": {},
   "outputs": [],
   "source": [
    "from coffea import processor\n",
    "import json"
   ]
  },
  {
   "cell_type": "code",
   "execution_count": 71,
   "id": "7af65e9a-5971-46c2-b195-2f35a6ddab51",
   "metadata": {},
   "outputs": [],
   "source": [
    "def accumulate(dict1, dict2):\n",
    "    \"\"\"\n",
    "    Merges two dictionaries and adds up the values of common keys.\n",
    "    \n",
    "    Parameters:\n",
    "    dict1 (dict): The first dictionary.\n",
    "    dict2 (dict): The second dictionary.\n",
    "    \n",
    "    Returns:\n",
    "    dict: A dictionary with combined keys and values summed for common keys.\n",
    "    \"\"\"\n",
    "    merged = dict1.copy()  # Start with the first dictionary's keys and values\n",
    "    for key, value in dict2.items():\n",
    "        if key in merged:\n",
    "            merged[key] += value  # Add values if the key is common\n",
    "        else:\n",
    "            merged[key] = value  # Otherwise, add the new key-value pair\n",
    "    return merged"
   ]
  },
  {
   "cell_type": "code",
   "execution_count": 72,
   "id": "d6e22301-1132-49be-a1cc-05365dc2b22b",
   "metadata": {},
   "outputs": [],
   "source": [
    "def accumulate2(dicts):\n",
    "    \"\"\"\n",
    "    Merges an array of dictionaries and adds up the values of common keys.\n",
    "    \n",
    "    Parameters:\n",
    "    dicts (list): A list of dictionaries to be merged.\n",
    "    \n",
    "    Returns:\n",
    "    dict: A dictionary with combined keys and values summed for common keys.\n",
    "    \"\"\"\n",
    "    dict = {}\n",
    "    \n",
    "    for dictionary in dicts:\n",
    "        for key, value in dictionary.items():\n",
    "            if key in dict:\n",
    "                dict[key] += value  # Add values if the key is common\n",
    "            else:\n",
    "                dict[key] = value  # Otherwise, add the new key-value pair\n",
    "                \n",
    "    return dict"
   ]
  },
  {
   "cell_type": "code",
   "execution_count": 73,
   "id": "5a2c4680-de12-4893-b7f9-4959069df1ce",
   "metadata": {},
   "outputs": [
    {
     "data": {
      "text/plain": [
       "{'p1': Hist(Regular(100, 0, 200, label='Axis 0'), storage=Double()) # Sum: 14815.0 (29784.0 with flow),\n",
       " 'p2': Hist(Regular(100, 0, 200, label='Axis 0'), storage=Double()) # Sum: 14666.0 (29784.0 with flow),\n",
       " 'p3': Hist(Regular(100, 0, 200, label='Axis 0'), storage=Double()) # Sum: 22163.0 (44676.0 with flow)}"
      ]
     },
     "execution_count": 73,
     "metadata": {},
     "output_type": "execute_result"
    }
   ],
   "source": [
    "a = accumulate2([numeric1,numeric2])\n",
    "a"
   ]
  },
  {
   "cell_type": "code",
   "execution_count": 32,
   "id": "60db1267-e049-4c6e-b586-98da3292caf7",
   "metadata": {},
   "outputs": [
    {
     "data": {
      "text/plain": [
       "{'p1': Hist(Regular(100, 0, 200, label='Axis 0'), storage=Double()) # Sum: 251379.0 (506328.0 with flow),\n",
       " 'p2': Hist(Regular(100, 0, 200, label='Axis 0'), storage=Double()) # Sum: 117328.0 (238272.0 with flow),\n",
       " 'p3': Hist(Regular(100, 0, 200, label='Axis 0'), storage=Double()) # Sum: 406639.0 (819060.0 with flow)}"
      ]
     },
     "execution_count": 32,
     "metadata": {},
     "output_type": "execute_result"
    }
   ],
   "source": [
    "b = accumulate(numeric1,numeric2)\n",
    "b"
   ]
  },
  {
   "cell_type": "code",
   "execution_count": 43,
   "id": "927f2255-11bf-4dca-b200-02b66cb3b95e",
   "metadata": {},
   "outputs": [
    {
     "data": {
      "text/plain": [
       "{'p1': Hist(Regular(100, 0, 200, label='Axis 0'), storage=Double()) # Sum: 251379.0 (506328.0 with flow),\n",
       " 'p2': Hist(Regular(100, 0, 200, label='Axis 0'), storage=Double()) # Sum: 117328.0 (238272.0 with flow),\n",
       " 'p3': Hist(Regular(100, 0, 200, label='Axis 0'), storage=Double()) # Sum: 406639.0 (819060.0 with flow)}"
      ]
     },
     "execution_count": 43,
     "metadata": {},
     "output_type": "execute_result"
    }
   ],
   "source": [
    "a"
   ]
  },
  {
   "cell_type": "code",
   "execution_count": 75,
   "id": "3183d326-35b1-4642-920f-7ee23da6767f",
   "metadata": {},
   "outputs": [
    {
     "data": {
      "text/plain": [
       "{'p1': Hist(Regular(100, 0, 200, label='Axis 0'), storage=Double()) # Sum: 14815.0 (29784.0 with flow),\n",
       " 'p2': Hist(Regular(100, 0, 200, label='Axis 0'), storage=Double()) # Sum: 14666.0 (29784.0 with flow),\n",
       " 'p3': Hist(Regular(100, 0, 200, label='Axis 0'), storage=Double()) # Sum: 22163.0 (44676.0 with flow)}"
      ]
     },
     "execution_count": 75,
     "metadata": {},
     "output_type": "execute_result"
    }
   ],
   "source": [
    "a"
   ]
  },
  {
   "cell_type": "code",
   "execution_count": 76,
   "id": "d8c8661c-23eb-40e0-8a47-9022306f355b",
   "metadata": {},
   "outputs": [
    {
     "data": {
      "text/plain": [
       "{'p1': Hist(Regular(100, 0, 200, label='Axis 0'), storage=Double()) # Sum: 14815.0 (29784.0 with flow),\n",
       " 'p2': Hist(Regular(100, 0, 200, label='Axis 0'), storage=Double()) # Sum: 14666.0 (29784.0 with flow),\n",
       " 'p3': Hist(Regular(100, 0, 200, label='Axis 0'), storage=Double()) # Sum: 22163.0 (44676.0 with flow)}"
      ]
     },
     "execution_count": 76,
     "metadata": {},
     "output_type": "execute_result"
    }
   ],
   "source": [
    "accumulate2([a])"
   ]
  },
  {
   "cell_type": "code",
   "execution_count": 77,
   "id": "fc4c3772-b7ae-4b9e-92c6-84d49cac0b78",
   "metadata": {},
   "outputs": [],
   "source": [
    "from coffea.util import load"
   ]
  },
  {
   "cell_type": "code",
   "execution_count": 78,
   "id": "3733d1f6-cafb-4602-83c7-c0550fad05b0",
   "metadata": {},
   "outputs": [],
   "source": [
    "a = load('outputs/FCCee/higgs/mH-recoil/mumu/mHrecoil_mumu.coffea')"
   ]
  },
  {
   "cell_type": "code",
   "execution_count": 81,
   "id": "d2e02232-1f59-447e-94fc-d3525422c959",
   "metadata": {},
   "outputs": [],
   "source": [
    "zh = a['p8_ee_ZH_ecm240']['histograms']['sel0']\n",
    "zz = a['p8_ee_ZZ_ecm240']['histograms']['sel0']\n",
    "ww = a['p8_ee_WW_ecm240']['histograms']['sel0']"
   ]
  },
  {
   "cell_type": "code",
   "execution_count": 82,
   "id": "e1762781-4fe0-42dd-9885-6236209fa803",
   "metadata": {},
   "outputs": [
    {
     "data": {
      "text/plain": [
       "{'Zm': Hist(Regular(125, 0, 250, label='Axis 0'), storage=Double()) # Sum: 6252.0,\n",
       " 'Zm_zoom': Hist(Regular(40, 80, 100, label='Axis 0'), storage=Double()) # Sum: 4658.0 (6252.0 with flow),\n",
       " 'Recoilm': Hist(Regular(100, 0, 200, label='Axis 0'), storage=Double()) # Sum: 5948.0 (6252.0 with flow),\n",
       " 'Recoilm_zoom': Hist(Regular(200, 80, 160, label='Axis 0'), storage=Double()) # Sum: 5328.0 (6252.0 with flow),\n",
       " 'Recoilm_zoom1': Hist(Regular(100, 120, 140, label='Axis 0'), storage=Double()) # Sum: 4738.0 (6252.0 with flow),\n",
       " 'Recoilm_zoom2': Hist(Regular(200, 120, 140, label='Axis 0'), storage=Double()) # Sum: 4738.0 (6252.0 with flow),\n",
       " 'Recoilm_zoom3': Hist(Regular(400, 120, 140, label='Axis 0'), storage=Double()) # Sum: 4738.0 (6252.0 with flow),\n",
       " 'Recoilm_zoom4': Hist(Regular(800, 120, 140, label='Axis 0'), storage=Double()) # Sum: 4738.0 (6252.0 with flow),\n",
       " 'Recoilm_zoom5': Hist(Regular(2000, 120, 140, label='Axis 0'), storage=Double()) # Sum: 4738.0 (6252.0 with flow),\n",
       " 'Recoilm_zoom6': Hist(Regular(100, 130.3, 132.5, label='Axis 0'), storage=Double()) # Sum: 333.0 (6252.0 with flow)}"
      ]
     },
     "execution_count": 82,
     "metadata": {},
     "output_type": "execute_result"
    }
   ],
   "source": [
    "zh"
   ]
  },
  {
   "cell_type": "code",
   "execution_count": 83,
   "id": "4686a0f8-4646-4544-b07c-d1c3c2943c28",
   "metadata": {},
   "outputs": [
    {
     "data": {
      "text/plain": [
       "{'Zm': Hist(Regular(125, 0, 250, label='Axis 0'), storage=Double()) # Sum: 14411.0,\n",
       " 'Zm_zoom': Hist(Regular(40, 80, 100, label='Axis 0'), storage=Double()) # Sum: 8759.0 (14411.0 with flow),\n",
       " 'Recoilm': Hist(Regular(100, 0, 200, label='Axis 0'), storage=Double()) # Sum: 14021.0 (14411.0 with flow),\n",
       " 'Recoilm_zoom': Hist(Regular(200, 80, 160, label='Axis 0'), storage=Double()) # Sum: 12340.0 (14411.0 with flow),\n",
       " 'Recoilm_zoom1': Hist(Regular(100, 120, 140, label='Axis 0'), storage=Double()) # Sum: 1264.0 (14411.0 with flow),\n",
       " 'Recoilm_zoom2': Hist(Regular(200, 120, 140, label='Axis 0'), storage=Double()) # Sum: 1264.0 (14411.0 with flow),\n",
       " 'Recoilm_zoom3': Hist(Regular(400, 120, 140, label='Axis 0'), storage=Double()) # Sum: 1264.0 (14411.0 with flow),\n",
       " 'Recoilm_zoom4': Hist(Regular(800, 120, 140, label='Axis 0'), storage=Double()) # Sum: 1264.0 (14411.0 with flow),\n",
       " 'Recoilm_zoom5': Hist(Regular(2000, 120, 140, label='Axis 0'), storage=Double()) # Sum: 1264.0 (14411.0 with flow),\n",
       " 'Recoilm_zoom6': Hist(Regular(100, 130.3, 132.5, label='Axis 0'), storage=Double()) # Sum: 126.0 (14411.0 with flow)}"
      ]
     },
     "execution_count": 83,
     "metadata": {},
     "output_type": "execute_result"
    }
   ],
   "source": [
    "zz"
   ]
  },
  {
   "cell_type": "code",
   "execution_count": 84,
   "id": "9a862393-100c-46d4-88fa-08e694d6eb48",
   "metadata": {},
   "outputs": [
    {
     "data": {
      "text/plain": [
       "{'Zm': Hist(Regular(125, 0, 250, label='Axis 0'), storage=Double()) # Sum: 2914.0,\n",
       " 'Zm_zoom': Hist(Regular(40, 80, 100, label='Axis 0'), storage=Double()) # Sum: 334.0 (2914.0 with flow),\n",
       " 'Recoilm': Hist(Regular(100, 0, 200, label='Axis 0'), storage=Double()) # Sum: 2851.0 (2914.0 with flow),\n",
       " 'Recoilm_zoom': Hist(Regular(200, 80, 160, label='Axis 0'), storage=Double()) # Sum: 1306.0 (2914.0 with flow),\n",
       " 'Recoilm_zoom1': Hist(Regular(100, 120, 140, label='Axis 0'), storage=Double()) # Sum: 272.0 (2914.0 with flow),\n",
       " 'Recoilm_zoom2': Hist(Regular(200, 120, 140, label='Axis 0'), storage=Double()) # Sum: 272.0 (2914.0 with flow),\n",
       " 'Recoilm_zoom3': Hist(Regular(400, 120, 140, label='Axis 0'), storage=Double()) # Sum: 272.0 (2914.0 with flow),\n",
       " 'Recoilm_zoom4': Hist(Regular(800, 120, 140, label='Axis 0'), storage=Double()) # Sum: 272.0 (2914.0 with flow),\n",
       " 'Recoilm_zoom5': Hist(Regular(2000, 120, 140, label='Axis 0'), storage=Double()) # Sum: 272.0 (2914.0 with flow),\n",
       " 'Recoilm_zoom6': Hist(Regular(100, 130.3, 132.5, label='Axis 0'), storage=Double()) # Sum: 20.0 (2914.0 with flow)}"
      ]
     },
     "execution_count": 84,
     "metadata": {},
     "output_type": "execute_result"
    }
   ],
   "source": [
    "ww"
   ]
  },
  {
   "cell_type": "code",
   "execution_count": 86,
   "id": "e2703bc0-6792-4d73-bb1e-d900a0076dd3",
   "metadata": {},
   "outputs": [],
   "source": [
    "import mplhep as hep\n",
    "import matplotlib.pyplot as plt"
   ]
  },
  {
   "cell_type": "code",
   "execution_count": 92,
   "id": "11f78961-bd76-4cca-90ea-2ea66fdabd40",
   "metadata": {},
   "outputs": [
    {
     "data": {
      "image/png": "[encoded data removed]",
      "text/plain": [
       "<Figure size 640x480 with 1 Axes>"
      ]
     },
     "metadata": {},
     "output_type": "display_data"
    }
   ],
   "source": [
    "fig,ax=plt.subplots()\n",
    "hep.histplot(\n",
    "        [zh['Recoilm'],zz['Recoilm'],ww['Recoilm']],\n",
    "        yerr=0,\n",
    "        histtype='fill',\n",
    "        label=['ZH','ZZ','WW'],\n",
    "        color=['r','g','b'],\n",
    "        alpha=0.8,\n",
    "        stack=True,\n",
    "        edgecolor='black',\n",
    "        linewidth=1,\n",
    "        ax=ax\n",
    "    )\n",
    "ax.legend()\n",
    "ax.set_yscale('log')"
   ]
  },
  {
   "cell_type": "code",
   "execution_count": 96,
   "id": "be2ac128-eb01-4c06-9f80-6326cae0a477",
   "metadata": {},
   "outputs": [
    {
     "data": {
      "text/plain": [
       "6252.0"
      ]
     },
     "execution_count": 96,
     "metadata": {},
     "output_type": "execute_result"
    }
   ],
   "source": [
    "zh['Zm'].sum()"
   ]
  },
  {
   "cell_type": "code",
   "execution_count": null,
   "id": "4221ea78-38d1-4fd8-83c8-40801a0d5aae",
   "metadata": {},
   "outputs": [],
   "source": []
  }
 ],
 "metadata": {
  "kernelspec": {
   "display_name": "Python 3 (ipykernel)",
   "language": "python",
   "name": "python3"
  },
  "language_info": {
   "codemirror_mode": {
    "name": "ipython",
    "version": 3
   },
   "file_extension": ".py",
   "mimetype": "text/x-python",
   "name": "python",
   "nbconvert_exporter": "python",
   "pygments_lexer": "ipython3",
   "version": "3.12.3"
  }
 },
 "nbformat": 4,
 "nbformat_minor": 5
}
