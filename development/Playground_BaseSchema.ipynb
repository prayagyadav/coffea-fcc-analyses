{
 "cells": [
  {
   "cell_type": "code",
   "execution_count": 107,
   "id": "accfc2ed-5b18-42e7-8d98-a927ababce14",
   "metadata": {},
   "outputs": [],
   "source": [
    "from coffea.nanoevents import BaseSchema, NanoEventsFactory\n",
    "import dask_awkward as dak\n",
    "import awkward as ak\n",
    "import matplotlib.pyplot as plt\n",
    "import numpy as np\n",
    "import hist\n",
    "import mplhep as hep\n",
    "import numba\n",
    "import vector\n",
    "vector.register_awkward()"
   ]
  },
  {
   "cell_type": "code",
   "execution_count": 119,
   "id": "fd2f67cd-03ee-4957-87cb-c4938c332dc5",
   "metadata": {},
   "outputs": [],
   "source": [
    "events = NanoEventsFactory.from_root(\n",
    "    file=\"../data/p8_ee_ZH_ecm240/events_101027117.root:events\",\n",
    "    schemaclass=BaseSchema,\n",
    "    # schemaclass=DelphesSchema, Doesn't work \n",
    "    # schemaclass=NanoAODSchema.v7, Doesn't work\n",
    "    metadata={\n",
    "        \"path\":\"/eos/experiment/fcc/ee/generation/DelphesEvents/spring2021/IDEA/p8_ee_ZH_ecm240/events_101027117.root\",\n",
    "        \"name\":\"p8_ee_ZH_ecm240\",\n",
    "        \"process\":\"ZH to mumu, ecm=240 GeV\"\n",
    "    }\n",
    ").events()"
   ]
  },
  {
   "cell_type": "code",
   "execution_count": 120,
   "id": "4221ea78-38d1-4fd8-83c8-40801a0d5aae",
   "metadata": {},
   "outputs": [],
   "source": [
    "from coffea.analysis_tools import PackedSelection"
   ]
  },
  {
   "cell_type": "code",
   "execution_count": 121,
   "id": "2c95580e-e6df-4462-bb7a-6422b3c04f02",
   "metadata": {},
   "outputs": [],
   "source": [
    "def index_mask(input_array, index_array):\n",
    "    '''\n",
    "    This function matches the given attribute of ReconstructedParticles (for example energy) to the particle index (for example Muon or Electron)\n",
    "    '''\n",
    "    # input_array = input_array.compute()\n",
    "    # index_array = index_array.compute()\n",
    "    if len(input_array) != len(index_array) :\n",
    "        raise Exception(f'Length of input_array({len(input_array)}) and index_array({len(index_array)}) does not match!')\n",
    "    counts = len(index_array)\n",
    "    \n",
    "    @numba.jit\n",
    "    def numba_wrap(input_array, index_array, counts):\n",
    "        output_array = []\n",
    "        for event_index in range(counts):\n",
    "            event_mask = index_array[event_index]\n",
    "            reco_list = input_array[event_index]\n",
    "            output_array.append([reco_list[i] for i in  event_mask])\n",
    "        return output_array\n",
    "    out = ak.Array(numba_wrap(input_array,index_array,counts))\n",
    "    \n",
    "    return out"
   ]
  },
  {
   "cell_type": "code",
   "execution_count": 196,
   "id": "359d8558-2bb4-46f8-8a10-9e84a383961e",
   "metadata": {},
   "outputs": [
    {
     "name": "stdout",
     "output_type": "stream",
     "text": [
      "[None, None, None, None, None, None, ..., None, None, None, None, None, None]\n"
     ]
    }
   ],
   "source": [
    "cut = PackedSelection()\n",
    "\n",
    "# Filter out any event with no reconstructed particles\n",
    "Recon = events['ReconstructedParticles/ReconstructedParticles.energy'].compute()\n",
    "useful_events = events[ak.num(Recon) > 0]\n",
    "\n",
    "\n",
    "# Generate Reconstructed Particle Attributes\n",
    "Reco_E = useful_events['ReconstructedParticles/ReconstructedParticles.energy'].compute()\n",
    "Reco_px = useful_events['ReconstructedParticles/ReconstructedParticles.momentum.x'].compute()\n",
    "Reco_py = useful_events['ReconstructedParticles/ReconstructedParticles.momentum.y'].compute()\n",
    "Reco_pz = useful_events['ReconstructedParticles/ReconstructedParticles.momentum.z'].compute()\n",
    "Reco_q = useful_events['ReconstructedParticles/ReconstructedParticles.charge'].compute()\n",
    "Reco_mass = useful_events['ReconstructedParticles/ReconstructedParticles.mass'].compute()\n",
    "cut.add('At least one Reconstructed Particle', ak.all(Reco_E > 0, axis=1))#.compute())\n",
    "\n",
    "# Generate Muon Attributes\n",
    "Muon_index = useful_events['Muon#0/Muon#0.index'].compute()\n",
    "Muon_E = index_mask(Reco_E,Muon_index)\n",
    "Muon_px = index_mask(Reco_px,Muon_index)\n",
    "Muon_py = index_mask(Reco_py,Muon_index)\n",
    "Muon_pz = index_mask(Reco_pz,Muon_index)\n",
    "Muon_q = index_mask(Reco_q,Muon_index)\n",
    "Muon_mass = index_mask(Reco_mass,Muon_index)\n",
    "\n",
    "# Create Array of Muon Lorentz Vector \n",
    "Muon = ak.zip({\"px\":Muon_px,\"py\":Muon_py,\"pz\":Muon_pz,\"E\":Muon_E,\"q\":Muon_q,}, with_name=\"Momentum4D\")\n",
    "\n",
    "# Muon pt > 10\n",
    "Muon_pt_cut = ak.all(Muon.pt > 10, axis=1)\n",
    "Muon = ak.mask(Muon, Muon_pt_cut) #ak.mask to preserve number of events\n",
    "cut.add('Muon $p_T$ > 10 [GeV]',Muon_pt_cut)\n",
    "\n",
    "# Produce all the combinations of Muon Pairs possible within an event\n",
    "combs = ak.combinations(Muon,2)\n",
    "\n",
    "# Get dimuons\n",
    "mu1 , mu2 = ak.unzip(combs)\n",
    "di_muon = mu1 + mu2\n",
    "\n",
    "# Selection 0 : Only one Z candidate in an event\n",
    "di_muon = ak.mask(di_muon, ak.num(di_muon) == 1)\n",
    "di_muon_mass = ak.flatten(di_muon.mass)\n",
    "cut.add('$N_Z$',ak.num(Muon) == 2 ) #Having one Z candidate is same as having exactly two muons in an event\n",
    "# di_muon_mass = ak.Array([i[0] for i in ak.sort(di_muon.mass, ascending=False)])\n",
    "\n",
    "# Choose dimuon which is made up of two oppositely charged muons\n",
    "q_sum = mu1.q + mu2.q\n",
    "q_sum_array = ak.mask(q_sum, ak.num(q_sum) == 1)\n",
    "q_sum_mask = ak.all(q_sum_array == 0, axis=1)\n",
    "Z_cand = ak.mask(di_muon , q_sum_mask)\n",
    "cut.add('Opp charge muons',q_sum_mask)\n",
    "\n",
    "#Recoil Calculation\n",
    "ecm = 240 #GeV # com energy\n",
    "initial = ak.zip({\"px\":0,\"py\":0,\"pz\":0,\"E\":ecm}, with_name=\"Momentum4D\")\n",
    "Recoil = initial - Z_cand\n",
    "\n",
    "# Selection 1 : Selection 0 + 80 < M_Z < 100\n",
    "zmassmask = (Z_cand.mass > 80) & (Z_cand.mass < 100)\n",
    "Z_cand_sel1 = ak.mask(Z_cand, zmassmask)\n",
    "Recoil_sel1 = ak.mask(Recoil, zmassmask)\n",
    "print(zmassmask)\n",
    "zmassmask = ak.fill_none(zmassmask,[False],axis=0)\n",
    "zmassmask = ak.flatten(zmassmask)\n",
    "cut.add('80 < $M_Z$ < 100',zmassmask)"
   ]
  },
  {
   "cell_type": "code",
   "execution_count": 187,
   "id": "ccf42d83-0f7c-4ec9-9f10-72db4bc7d6fc",
   "metadata": {},
   "outputs": [
    {
     "data": {
      "text/plain": [
       "['At least one Reconstructed Particle',\n",
       " 'Muon $p_T$ > 10 [GeV]',\n",
       " '$N_Z$',\n",
       " 'Opp charge muons',\n",
       " '80 < $M_Z$ < 100']"
      ]
     },
     "execution_count": 187,
     "metadata": {},
     "output_type": "execute_result"
    }
   ],
   "source": [
    "cut.names"
   ]
  },
  {
   "cell_type": "code",
   "execution_count": 188,
   "id": "280f897b-2959-404e-acee-18c9763a8eb3",
   "metadata": {},
   "outputs": [],
   "source": [
    "c = cut.cutflow(*cut.names)"
   ]
  },
  {
   "cell_type": "code",
   "execution_count": 189,
   "id": "1b09cfc3-c1cc-4071-bd56-311bcf96909f",
   "metadata": {},
   "outputs": [],
   "source": [
    "onecut, cutflow, labels, = c.yieldhist()"
   ]
  },
  {
   "cell_type": "code",
   "execution_count": 190,
   "id": "cc27fc57-6083-4525-bc28-25fe30f06113",
   "metadata": {},
   "outputs": [
    {
     "data": {
      "text/html": [
       "<html>\n",
       "<div style=\"display:flex; align-items:center;\">\n",
       "<div style=\"width:290px;\">\n",
       "<svg xmlns=\"http://www.w3.org/2000/svg\" viewBox=\"-10 -105 270 120\">\n",
       "<line x1=\"-5\" y1=\"0\" x2=\"255\" y2=\"0\" style=\"fill:none;stroke-width:2;stroke:currentColor\"/>\n",
       "<text text-anchor=\"middle\" x=\"0\" y=\"15\" style=\"fill:currentColor;\">\n",
       "0\n",
       "</text>\n",
       "<text text-anchor=\"middle\" x=\"250\" y=\"15\" style=\"fill:currentColor;\">\n",
       "6\n",
       "</text>\n",
       "<text text-anchor=\"middle\" x=\"125.0\" y=\"15\" style=\"fill:currentColor;\">\n",
       "onecut\n",
       "</text>\n",
       "<polyline points=\"  0,0   0,-100 41.6667,-100 41.6667,-100 83.3333,-100 83.3333,-97.2 125,-97.2 125,-2.78 166.667,-2.78 166.667,-2.76 208.333,-2.76 208.333,-2.24 250,-2.24 250,0\" style=\"fill:none; stroke:currentColor;\"/>\n",
       "</svg>\n",
       "</div>\n",
       "<div style=\"flex=grow:1;\">\n",
       "Integer(0, 6, name='onecut')<br/>\n",
       "<hr style=\"margin-top:.2em; margin-bottom:.2em;\"/>\n",
       "Double() Σ=304958.0\n",
       "\n",
       "</div>\n",
       "</div>\n",
       "</html>"
      ],
      "text/plain": [
       "Hist(Integer(0, 6, name='onecut'), storage=Double()) # Sum: 304958.0"
      ]
     },
     "execution_count": 190,
     "metadata": {},
     "output_type": "execute_result"
    }
   ],
   "source": [
    "onecut"
   ]
  },
  {
   "cell_type": "code",
   "execution_count": 191,
   "id": "64531666-e412-4c69-beeb-a9ffe520577b",
   "metadata": {},
   "outputs": [
    {
     "data": {
      "text/html": [
       "<html>\n",
       "<div style=\"display:flex; align-items:center;\">\n",
       "<div style=\"width:290px;\">\n",
       "<svg xmlns=\"http://www.w3.org/2000/svg\" viewBox=\"-10 -105 270 120\">\n",
       "<line x1=\"-5\" y1=\"0\" x2=\"255\" y2=\"0\" style=\"fill:none;stroke-width:2;stroke:currentColor\"/>\n",
       "<text text-anchor=\"middle\" x=\"0\" y=\"15\" style=\"fill:currentColor;\">\n",
       "0\n",
       "</text>\n",
       "<text text-anchor=\"middle\" x=\"250\" y=\"15\" style=\"fill:currentColor;\">\n",
       "6\n",
       "</text>\n",
       "<text text-anchor=\"middle\" x=\"125.0\" y=\"15\" style=\"fill:currentColor;\">\n",
       "cutflow\n",
       "</text>\n",
       "<polyline points=\"  0,0   0,-100 41.6667,-100 41.6667,-100 83.3333,-100 83.3333,-97.2 125,-97.2 125,-2.78 166.667,-2.78 166.667,-2.76 208.333,-2.76 208.333,-2.24 250,-2.24 250,0\" style=\"fill:none; stroke:currentColor;\"/>\n",
       "</svg>\n",
       "</div>\n",
       "<div style=\"flex=grow:1;\">\n",
       "Integer(0, 6, name='cutflow')<br/>\n",
       "<hr style=\"margin-top:.2em; margin-bottom:.2em;\"/>\n",
       "Double() Σ=304958.0\n",
       "\n",
       "</div>\n",
       "</div>\n",
       "</html>"
      ],
      "text/plain": [
       "Hist(Integer(0, 6, name='cutflow'), storage=Double()) # Sum: 304958.0"
      ]
     },
     "execution_count": 191,
     "metadata": {},
     "output_type": "execute_result"
    }
   ],
   "source": [
    "cutflow"
   ]
  },
  {
   "cell_type": "code",
   "execution_count": 192,
   "id": "27cfde99-51e9-43da-9670-0f0dc8f06dc8",
   "metadata": {},
   "outputs": [
    {
     "data": {
      "text/plain": [
       "['initial',\n",
       " 'At least one Reconstructed Particle',\n",
       " 'Muon $p_T$ > 10 [GeV]',\n",
       " '$N_Z$',\n",
       " 'Opp charge muons',\n",
       " '80 < $M_Z$ < 100']"
      ]
     },
     "execution_count": 192,
     "metadata": {},
     "output_type": "execute_result"
    }
   ],
   "source": [
    "labels"
   ]
  },
  {
   "cell_type": "code",
   "execution_count": 193,
   "id": "ab88bfc6-5fff-4c99-9370-2bff294c954a",
   "metadata": {},
   "outputs": [],
   "source": [
    "a = ak.Array([[1,2,None],None,[None]])"
   ]
  },
  {
   "cell_type": "code",
   "execution_count": 194,
   "id": "bbcb8cde-0b5c-46c4-bea8-c6d2d16d6725",
   "metadata": {},
   "outputs": [
    {
     "data": {
      "text/html": [
       "<pre>[[1, 2, None],\n",
       " None,\n",
       " [None]]\n",
       "------------------------------\n",
       "type: 3 * option[var * ?int64]</pre>"
      ],
      "text/plain": [
       "<Array [[1, 2, None], None, [None]] type='3 * option[var * ?int64]'>"
      ]
     },
     "execution_count": 194,
     "metadata": {},
     "output_type": "execute_result"
    }
   ],
   "source": [
    "a"
   ]
  },
  {
   "cell_type": "code",
   "execution_count": 181,
   "id": "7a6e6549-0616-4b81-b9a6-df9417c6885a",
   "metadata": {},
   "outputs": [
    {
     "data": {
      "text/html": [
       "<pre>[[False, True, None],\n",
       " None,\n",
       " [None]]\n",
       "-----------------------------\n",
       "type: 3 * option[var * ?bool]</pre>"
      ],
      "text/plain": [
       "<Array [[False, True, None], None, [None]] type='3 * option[var * ?bool]'>"
      ]
     },
     "execution_count": 181,
     "metadata": {},
     "output_type": "execute_result"
    }
   ],
   "source": [
    "a_cut = a > 1\n",
    "a_cut"
   ]
  },
  {
   "cell_type": "code",
   "execution_count": 182,
   "id": "ae8b1349-7846-433a-a977-a2942fa91553",
   "metadata": {},
   "outputs": [
    {
     "data": {
      "text/html": [
       "<pre>[[False, True, False],\n",
       " None,\n",
       " [False]]\n",
       "----------------------------\n",
       "type: 3 * option[var * bool]</pre>"
      ],
      "text/plain": [
       "<Array [[False, True, False], None, [False]] type='3 * option[var * bool]'>"
      ]
     },
     "execution_count": 182,
     "metadata": {},
     "output_type": "execute_result"
    }
   ],
   "source": [
    "a_cut = ak.fill_none(a_cut, False)\n",
    "a_cut"
   ]
  },
  {
   "cell_type": "code",
   "execution_count": 183,
   "id": "829dbbbc-2983-4d04-9f22-d8c5e2f67323",
   "metadata": {},
   "outputs": [
    {
     "data": {
      "text/html": [
       "<pre>[[False, True, False],\n",
       " [False],\n",
       " [False]]\n",
       "----------------------\n",
       "type: 3 * var * bool</pre>"
      ],
      "text/plain": [
       "<Array [[False, True, False], [False], [False]] type='3 * var * bool'>"
      ]
     },
     "execution_count": 183,
     "metadata": {},
     "output_type": "execute_result"
    }
   ],
   "source": [
    "b = ak.fill_none(a_cut,[False], axis=0)\n",
    "b"
   ]
  },
  {
   "cell_type": "code",
   "execution_count": 185,
   "id": "d11cfcc2-6f73-4032-950c-93ee08b0b950",
   "metadata": {},
   "outputs": [
    {
     "data": {
      "text/html": [
       "<pre>[False,\n",
       " True,\n",
       " False,\n",
       " False,\n",
       " False]\n",
       "--------------\n",
       "type: 5 * bool</pre>"
      ],
      "text/plain": [
       "<Array [False, True, False, False, False] type='5 * bool'>"
      ]
     },
     "execution_count": 185,
     "metadata": {},
     "output_type": "execute_result"
    }
   ],
   "source": [
    "ak.flatten(b)"
   ]
  },
  {
   "cell_type": "code",
   "execution_count": 197,
   "id": "19e340c1-df02-4530-a779-7f887b293d21",
   "metadata": {},
   "outputs": [],
   "source": [
    "from coffea.util import load"
   ]
  },
  {
   "cell_type": "code",
   "execution_count": 198,
   "id": "5f6a7e00-aa43-40c4-9432-4205889478a2",
   "metadata": {},
   "outputs": [],
   "source": [
    "input = load('./outputs/FCCee/higgs/mH-recoil/mumu/mHrecoil_mumu.coffea')"
   ]
  },
  {
   "cell_type": "code",
   "execution_count": 200,
   "id": "8d4776b7-e861-487f-8d45-4649f177b08b",
   "metadata": {},
   "outputs": [
    {
     "data": {
      "text/plain": [
       "dict_keys(['histograms', 'cutflow'])"
      ]
     },
     "execution_count": 200,
     "metadata": {},
     "output_type": "execute_result"
    }
   ],
   "source": [
    "input['p8_ee_ZH_ecm240'].keys()"
   ]
  },
  {
   "cell_type": "code",
   "execution_count": 201,
   "id": "0971891b-3ea0-4d88-815f-8977fc29b3aa",
   "metadata": {},
   "outputs": [],
   "source": [
    "c = input['p8_ee_ZH_ecm240']['cutflow']"
   ]
  },
  {
   "cell_type": "code",
   "execution_count": 202,
   "id": "79849c7f-5ce9-47a3-b473-9dfdb5cbec58",
   "metadata": {},
   "outputs": [
    {
     "data": {
      "text/plain": [
       "{'sel0': Cutflow(selections=('At least one Reconstructed Particle', 'Muon $p_T$ > 10 [GeV]', '$N_Z$', 'Opp charge muons')),\n",
       " 'sel1': Cutflow(selections=('At least one Reconstructed Particle', 'Muon $p_T$ > 10 [GeV]', '$N_Z$', 'Opp charge muons', '80 < $M_Z$ < 100'))}"
      ]
     },
     "execution_count": 202,
     "metadata": {},
     "output_type": "execute_result"
    }
   ],
   "source": [
    "c"
   ]
  },
  {
   "cell_type": "code",
   "execution_count": 203,
   "id": "37ddd09b-c649-4b33-9c79-40cb00e42f98",
   "metadata": {},
   "outputs": [],
   "source": [
    "sel0 = c['sel0']"
   ]
  },
  {
   "cell_type": "code",
   "execution_count": 212,
   "id": "9b843163-fe2b-4f1d-a42a-5c06f4d8cf1f",
   "metadata": {},
   "outputs": [
    {
     "data": {
      "text/plain": [
       "CutflowResult(labels=['initial', 'At least one Reconstructed Particle', 'Muon $p_T$ > 10 [GeV]', '$N_Z$', 'Opp charge muons'], nevonecut=[499919, 499919, 485621, 13808, 13692], nevcutflow=[499919, 499919, 485621, 13808, 13692], masksonecut=[array([ True,  True,  True, ...,  True,  True,  True]), array([ True,  True,  True, ...,  True,  True,  True]), array([False, False, False, ..., False, False, False]), array([False, False, False, ..., False, False, False])], maskscutflow=[array([ True,  True,  True, ...,  True,  True,  True]), array([ True,  True,  True, ...,  True,  True,  True]), array([False, False, False, ..., False, False, False]), array([False, False, False, ..., False, False, False])])"
      ]
     },
     "execution_count": 212,
     "metadata": {},
     "output_type": "execute_result"
    }
   ],
   "source": [
    "sel0.result()"
   ]
  },
  {
   "cell_type": "code",
   "execution_count": 216,
   "id": "78668693-1537-4108-b011-9774e3dea8da",
   "metadata": {},
   "outputs": [
    {
     "ename": "TypeError",
     "evalue": "Cutflow.print() takes 1 positional argument but 2 were given",
     "output_type": "error",
     "traceback": [
      "\u001b[0;31m---------------------------------------------------------------------------\u001b[0m",
      "\u001b[0;31mTypeError\u001b[0m                                 Traceback (most recent call last)",
      "Cell \u001b[0;32mIn[216], line 1\u001b[0m\n\u001b[0;32m----> 1\u001b[0m \u001b[43msel0\u001b[49m\u001b[38;5;241;43m.\u001b[39;49m\u001b[43mprint\u001b[49m\u001b[43m(\u001b[49m\u001b[38;5;241;43m0\u001b[39;49m\u001b[43m)\u001b[49m\n",
      "\u001b[0;31mTypeError\u001b[0m: Cutflow.print() takes 1 positional argument but 2 were given"
     ]
    }
   ],
   "source": [
    "sel0.print()"
   ]
  },
  {
   "cell_type": "code",
   "execution_count": 206,
   "id": "c87c0c44-38e1-498a-bb11-2167a883d9ed",
   "metadata": {},
   "outputs": [],
   "source": [
    "onecut, cutflow, labels = sel0.yieldhist()"
   ]
  },
  {
   "cell_type": "code",
   "execution_count": 208,
   "id": "2fd0a9d3-3129-4e14-805f-f1a3c643433d",
   "metadata": {},
   "outputs": [
    {
     "data": {
      "text/html": [
       "<html>\n",
       "<div style=\"display:flex; align-items:center;\">\n",
       "<div style=\"width:290px;\">\n",
       "<svg xmlns=\"http://www.w3.org/2000/svg\" viewBox=\"-10 -105 270 120\">\n",
       "<line x1=\"-5\" y1=\"0\" x2=\"255\" y2=\"0\" style=\"fill:none;stroke-width:2;stroke:currentColor\"/>\n",
       "<text text-anchor=\"middle\" x=\"0\" y=\"15\" style=\"fill:currentColor;\">\n",
       "0\n",
       "</text>\n",
       "<text text-anchor=\"middle\" x=\"250\" y=\"15\" style=\"fill:currentColor;\">\n",
       "5\n",
       "</text>\n",
       "<text text-anchor=\"middle\" x=\"125.0\" y=\"15\" style=\"fill:currentColor;\">\n",
       "onecut\n",
       "</text>\n",
       "<polyline points=\"  0,0   0,-100  50,-100  50,-100 100,-100 100,-97.1 150,-97.1 150,-2.76 200,-2.76 200,-2.74 250,-2.74 250,0\" style=\"fill:none; stroke:currentColor;\"/>\n",
       "</svg>\n",
       "</div>\n",
       "<div style=\"flex=grow:1;\">\n",
       "Integer(0, 5, name='onecut')<br/>\n",
       "<hr style=\"margin-top:.2em; margin-bottom:.2em;\"/>\n",
       "Double() Σ=1512959.0\n",
       "\n",
       "</div>\n",
       "</div>\n",
       "</html>"
      ],
      "text/plain": [
       "Hist(Integer(0, 5, name='onecut'), storage=Double()) # Sum: 1512959.0"
      ]
     },
     "execution_count": 208,
     "metadata": {},
     "output_type": "execute_result"
    }
   ],
   "source": [
    "onecut"
   ]
  },
  {
   "cell_type": "code",
   "execution_count": 211,
   "id": "41eac98a-16d7-4034-96cf-1b15c2e4be5d",
   "metadata": {},
   "outputs": [
    {
     "data": {
      "text/plain": [
       "[StairsArtists(stairs=<matplotlib.patches.StepPatch object at 0x7fb3da675ac0>, errorbar=None, legend_artist=None)]"
      ]
     },
     "execution_count": 211,
     "metadata": {},
     "output_type": "execute_result"
    },
    {
     "data": {
      "image/png": "[encoded data removed]",
      "text/plain": [
       "<Figure size 640x480 with 1 Axes>"
      ]
     },
     "metadata": {},
     "output_type": "display_data"
    }
   ],
   "source": [
    "cutflow.plot()"
   ]
  },
  {
   "cell_type": "code",
   "execution_count": 210,
   "id": "83d118ae-ed54-4a42-9db3-2c14d36e6ac3",
   "metadata": {},
   "outputs": [
    {
     "data": {
      "text/plain": [
       "['initial',\n",
       " 'At least one Reconstructed Particle',\n",
       " 'Muon $p_T$ > 10 [GeV]',\n",
       " '$N_Z$',\n",
       " 'Opp charge muons']"
      ]
     },
     "execution_count": 210,
     "metadata": {},
     "output_type": "execute_result"
    }
   ],
   "source": [
    "labels"
   ]
  },
  {
   "cell_type": "code",
   "execution_count": null,
   "id": "aac919b7-7b06-40f6-8ee1-063cdf773691",
   "metadata": {},
   "outputs": [],
   "source": []
  }
 ],
 "metadata": {
  "kernelspec": {
   "display_name": "Python 3 (ipykernel)",
   "language": "python",
   "name": "python3"
  },
  "language_info": {
   "codemirror_mode": {
    "name": "ipython",
    "version": 3
   },
   "file_extension": ".py",
   "mimetype": "text/x-python",
   "name": "python",
   "nbconvert_exporter": "python",
   "pygments_lexer": "ipython3",
   "version": "3.12.3"
  }
 },
 "nbformat": 4,
 "nbformat_minor": 5
}
