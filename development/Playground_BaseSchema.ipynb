{
 "cells": [
  {
   "cell_type": "code",
   "execution_count": 37,
   "id": "e0d7e2b1-c4db-453a-a3b9-60ed2f34e023",
   "metadata": {},
   "outputs": [],
   "source": [
    "import copy\n",
    "import hist\n",
    "import glob\n",
    "import os\n",
    "import re\n",
    "from coffea.util import load\n",
    "from coffea.analysis_tools import Cutflow\n",
    "import numpy as np"
   ]
  },
  {
   "cell_type": "code",
   "execution_count": 38,
   "id": "e57582e6-acca-4f0e-a707-335db3d675b0",
   "metadata": {},
   "outputs": [],
   "source": [
    "def lazy_summary(d,ntabs=1):\n",
    "    tab = '\\t'*ntabs\n",
    "    print_string ='{\\n'\n",
    "    for key,value in d.items():\n",
    "        print_string += f\"{tab}{key} : \"\n",
    "        if isinstance(value,dict):\n",
    "            print_string += lazy_summary(value, ntabs=ntabs+1)\n",
    "        elif isinstance(value, hist.hist.Hist):\n",
    "            print_string += f\"{type(value)}\\tIntegral:{value.sum()}\\n\"\n",
    "        elif isinstance(value, Cutflow):\n",
    "            print_string += f\"{type(value)}\\tInitial events:{value.result().nevcutflow[0]}\\n\"\n",
    "        else :\n",
    "            print_string += f\"{type(value)}\\n\"\n",
    "    print_string += tab+'}\\n'\n",
    "    return print_string"
   ]
  },
  {
   "cell_type": "code",
   "execution_count": 39,
   "id": "40fdb776-37a4-49a9-b90d-ee6c5fa47dc0",
   "metadata": {},
   "outputs": [],
   "source": [
    "def add_cutflow(c1,c2):\n",
    "    '''\n",
    "    Add cutflow objects assuming they operate on non-overlaping sample regions\n",
    "    '''\n",
    "    r1 = c1.result()\n",
    "    r2 = c2.result()\n",
    "\n",
    "\n",
    "    if r1.labels == r2.labels :\n",
    "        names = r1.labels\n",
    "        names.remove('initial') # initial is added when Cutflow class is called, so removing it to preserve names list length\n",
    "        names = names\n",
    "        nevonecut = [a+b for a,b in zip(r1.nevonecut,r2.nevonecut)]\n",
    "        nevcutflow = [a+b for a,b in zip(r1.nevcutflow,r2.nevcutflow)]\n",
    "        masksonecut = [np.concatenate((a,b)) for a,b in zip(r1.masksonecut,r2.masksonecut)]\n",
    "        maskscutflow = [np.concatenate((a,b)) for a,b in zip(r1.maskscutflow,r2.maskscutflow)]\n",
    "        \n",
    "    else:\n",
    "        raise \"The labels of the cutflow do not match!\"\n",
    "    return Cutflow(names, nevonecut, nevcutflow, masksonecut, maskscutflow, delayed_mode=False)\n",
    "\n",
    "Cutflow.__add__ = add_cutflow #Monkey patch Cutflow class to enable the add method"
   ]
  },
  {
   "cell_type": "code",
   "execution_count": 113,
   "id": "c2163e15-16c1-4f09-8e21-e5fe65337a36",
   "metadata": {},
   "outputs": [],
   "source": [
    "def get_subdict(dicts, key):\n",
    "    '''\n",
    "    Get list of subdictionaries(if available) from a list of dictionaries\n",
    "    '''\n",
    "    out = []\n",
    "    for d in dicts:\n",
    "        for k in d.keys():\n",
    "            if key == k:\n",
    "                out.append(d[key])\n",
    "    return out\n",
    "def accumulate(dicts):\n",
    "    \"\"\"\n",
    "    Merges an array of dictionaries and adds up the values of common keys.\n",
    "\n",
    "    Parameters:\n",
    "    dicts (list): A list of dictionaries to be merged.\n",
    "\n",
    "    Returns:\n",
    "    dict: A dictionary with combined keys and values summed for common keys.\n",
    "    \"\"\"\n",
    "\n",
    "    outdict = {}\n",
    "    \n",
    "    for diction in dicts:\n",
    "        dictionary = copy.deepcopy(diction)\n",
    "        \n",
    "        for key, value in dictionary.items():\n",
    "            # print(f\"{key} : {value}\")\n",
    "            # print(type(value))\n",
    "            \n",
    "            if isinstance(value,dict):\n",
    "                value = accumulate(get_subdict(dicts,key))\n",
    "                outdict[key] = value \n",
    "            else:\n",
    "                if key in outdict.keys():\n",
    "                    outdict[key] += value  # Add values if the key is common\n",
    "                else:\n",
    "                    outdict[key] = value  # Otherwise, add the new key-value pair \n",
    "\n",
    "    return outdict"
   ]
  },
  {
   "cell_type": "code",
   "execution_count": 114,
   "id": "d2a96737-2dae-4240-b9ff-f60e9ec86982",
   "metadata": {},
   "outputs": [
    {
     "name": "stdout",
     "output_type": "stream",
     "text": [
      "Current configuration:\n",
      "\tinput_path:\tBatch/\n",
      "\tbase_filename:\tmHrecoil_mumu.coffea\n",
      "\n",
      "Loading coffea files...\n",
      "Detected coffea files:\n",
      "\tBatch/mHrecoil_mumu-chunk0.coffea\n",
      "\tBatch/mHrecoil_mumu-chunk1.coffea\n",
      "\tBatch/mHrecoil_mumu-chunk2.coffea\n",
      "\tBatch/mHrecoil_mumu-chunk3.coffea\n",
      "\tBatch/mHrecoil_mumu-chunk4.coffea\n",
      "\tBatch/mHrecoil_mumu-chunk5.coffea\n",
      "\tBatch/mHrecoil_mumu-chunk6.coffea\n",
      "\tBatch/mHrecoil_mumu-chunk7.coffea\n",
      "Choosing:\n",
      "\tmHrecoil_mumu.coffea\n",
      "Joining chunks:\n",
      "\tBatch/mHrecoil_mumu-chunk0.coffea\n",
      "\tBatch/mHrecoil_mumu-chunk1.coffea\n",
      "\tBatch/mHrecoil_mumu-chunk2.coffea\n",
      "\tBatch/mHrecoil_mumu-chunk3.coffea\n",
      "\tBatch/mHrecoil_mumu-chunk4.coffea\n",
      "\tBatch/mHrecoil_mumu-chunk5.coffea\n",
      "\tBatch/mHrecoil_mumu-chunk6.coffea\n",
      "\tBatch/mHrecoil_mumu-chunk7.coffea\n",
      "{\n",
      "\tp8_ee_ZZ_ecm240 : {\n",
      "\t\thistograms : {\n",
      "\t\t\tsel0 : {\n",
      "\t\t\t\tZm : <class 'hist.hist.Hist'>\tIntegral:18003.0\n",
      "\t\t\t\tZm_zoom : <class 'hist.hist.Hist'>\tIntegral:12718.0\n",
      "\t\t\t\tRecoilm : <class 'hist.hist.Hist'>\tIntegral:17923.0\n",
      "\t\t\t\tRecoilm_zoom : <class 'hist.hist.Hist'>\tIntegral:15960.0\n",
      "\t\t\t\tRecoilm_zoom1 : <class 'hist.hist.Hist'>\tIntegral:1563.0\n",
      "\t\t\t\tRecoilm_zoom2 : <class 'hist.hist.Hist'>\tIntegral:1563.0\n",
      "\t\t\t\tRecoilm_zoom3 : <class 'hist.hist.Hist'>\tIntegral:1563.0\n",
      "\t\t\t\tRecoilm_zoom4 : <class 'hist.hist.Hist'>\tIntegral:1563.0\n",
      "\t\t\t\tRecoilm_zoom5 : <class 'hist.hist.Hist'>\tIntegral:1563.0\n",
      "\t\t\t\tRecoilm_zoom6 : <class 'hist.hist.Hist'>\tIntegral:165.0\n",
      "\t\t\t\t}\n",
      "\t\t\tsel1 : {\n",
      "\t\t\t\tZm : <class 'hist.hist.Hist'>\tIntegral:12718.0\n",
      "\t\t\t\tZm_zoom : <class 'hist.hist.Hist'>\tIntegral:12718.0\n",
      "\t\t\t\tRecoilm : <class 'hist.hist.Hist'>\tIntegral:12696.0\n",
      "\t\t\t\tRecoilm_zoom : <class 'hist.hist.Hist'>\tIntegral:11615.0\n",
      "\t\t\t\tRecoilm_zoom1 : <class 'hist.hist.Hist'>\tIntegral:1124.0\n",
      "\t\t\t\tRecoilm_zoom2 : <class 'hist.hist.Hist'>\tIntegral:1124.0\n",
      "\t\t\t\tRecoilm_zoom3 : <class 'hist.hist.Hist'>\tIntegral:1124.0\n",
      "\t\t\t\tRecoilm_zoom4 : <class 'hist.hist.Hist'>\tIntegral:1124.0\n",
      "\t\t\t\tRecoilm_zoom5 : <class 'hist.hist.Hist'>\tIntegral:1124.0\n",
      "\t\t\t\tRecoilm_zoom6 : <class 'hist.hist.Hist'>\tIntegral:125.0\n",
      "\t\t\t\t}\n",
      "\t\t\t}\n",
      "\t\tcutflow : {\n",
      "\t\t\tsel0 : <class 'coffea.analysis_tools.Cutflow'>\tInitial events:300000\n",
      "\t\t\tsel1 : <class 'coffea.analysis_tools.Cutflow'>\tInitial events:300000\n",
      "\t\t\t}\n",
      "\t\t}\n",
      "\tp8_ee_WW_ecm240 : {\n",
      "\t\thistograms : {\n",
      "\t\t\tsel0 : {\n",
      "\t\t\t\tZm : <class 'hist.hist.Hist'>\tIntegral:63504.0\n",
      "\t\t\t\tZm_zoom : <class 'hist.hist.Hist'>\tIntegral:7914.0\n",
      "\t\t\t\tRecoilm : <class 'hist.hist.Hist'>\tIntegral:63181.0\n",
      "\t\t\t\tRecoilm_zoom : <class 'hist.hist.Hist'>\tIntegral:28176.0\n",
      "\t\t\t\tRecoilm_zoom1 : <class 'hist.hist.Hist'>\tIntegral:6108.0\n",
      "\t\t\t\tRecoilm_zoom2 : <class 'hist.hist.Hist'>\tIntegral:6108.0\n",
      "\t\t\t\tRecoilm_zoom3 : <class 'hist.hist.Hist'>\tIntegral:6108.0\n",
      "\t\t\t\tRecoilm_zoom4 : <class 'hist.hist.Hist'>\tIntegral:6108.0\n",
      "\t\t\t\tRecoilm_zoom5 : <class 'hist.hist.Hist'>\tIntegral:6108.0\n",
      "\t\t\t\tRecoilm_zoom6 : <class 'hist.hist.Hist'>\tIntegral:718.0\n",
      "\t\t\t\t}\n",
      "\t\t\tsel1 : {\n",
      "\t\t\t\tZm : <class 'hist.hist.Hist'>\tIntegral:7914.0\n",
      "\t\t\t\tZm_zoom : <class 'hist.hist.Hist'>\tIntegral:7914.0\n",
      "\t\t\t\tRecoilm : <class 'hist.hist.Hist'>\tIntegral:7912.0\n",
      "\t\t\t\tRecoilm_zoom : <class 'hist.hist.Hist'>\tIntegral:6813.0\n",
      "\t\t\t\tRecoilm_zoom1 : <class 'hist.hist.Hist'>\tIntegral:2380.0\n",
      "\t\t\t\tRecoilm_zoom2 : <class 'hist.hist.Hist'>\tIntegral:2380.0\n",
      "\t\t\t\tRecoilm_zoom3 : <class 'hist.hist.Hist'>\tIntegral:2380.0\n",
      "\t\t\t\tRecoilm_zoom4 : <class 'hist.hist.Hist'>\tIntegral:2380.0\n",
      "\t\t\t\tRecoilm_zoom5 : <class 'hist.hist.Hist'>\tIntegral:2380.0\n",
      "\t\t\t\tRecoilm_zoom6 : <class 'hist.hist.Hist'>\tIntegral:291.0\n",
      "\t\t\t\t}\n",
      "\t\t\t}\n",
      "\t\tcutflow : {\n",
      "\t\t\tsel0 : <class 'coffea.analysis_tools.Cutflow'>\tInitial events:5000000\n",
      "\t\t\tsel1 : <class 'coffea.analysis_tools.Cutflow'>\tInitial events:5000000\n",
      "\t\t\t}\n",
      "\t\t}\n",
      "\tp8_ee_ZH_ecm240 : {\n",
      "\t\thistograms : {\n",
      "\t\t\tsel0 : {\n",
      "\t\t\t\tZm : <class 'hist.hist.Hist'>\tIntegral:54696.0\n",
      "\t\t\t\tZm_zoom : <class 'hist.hist.Hist'>\tIntegral:44733.0\n",
      "\t\t\t\tRecoilm : <class 'hist.hist.Hist'>\tIntegral:54156.0\n",
      "\t\t\t\tRecoilm_zoom : <class 'hist.hist.Hist'>\tIntegral:50672.0\n",
      "\t\t\t\tRecoilm_zoom1 : <class 'hist.hist.Hist'>\tIntegral:45287.0\n",
      "\t\t\t\tRecoilm_zoom2 : <class 'hist.hist.Hist'>\tIntegral:45287.0\n",
      "\t\t\t\tRecoilm_zoom3 : <class 'hist.hist.Hist'>\tIntegral:45287.0\n",
      "\t\t\t\tRecoilm_zoom4 : <class 'hist.hist.Hist'>\tIntegral:45287.0\n",
      "\t\t\t\tRecoilm_zoom5 : <class 'hist.hist.Hist'>\tIntegral:45287.0\n",
      "\t\t\t\tRecoilm_zoom6 : <class 'hist.hist.Hist'>\tIntegral:3340.0\n",
      "\t\t\t\t}\n",
      "\t\t\tsel1 : {\n",
      "\t\t\t\tZm : <class 'hist.hist.Hist'>\tIntegral:44733.0\n",
      "\t\t\t\tZm_zoom : <class 'hist.hist.Hist'>\tIntegral:44733.0\n",
      "\t\t\t\tRecoilm : <class 'hist.hist.Hist'>\tIntegral:44733.0\n",
      "\t\t\t\tRecoilm_zoom : <class 'hist.hist.Hist'>\tIntegral:44732.0\n",
      "\t\t\t\tRecoilm_zoom1 : <class 'hist.hist.Hist'>\tIntegral:41652.0\n",
      "\t\t\t\tRecoilm_zoom2 : <class 'hist.hist.Hist'>\tIntegral:41652.0\n",
      "\t\t\t\tRecoilm_zoom3 : <class 'hist.hist.Hist'>\tIntegral:41652.0\n",
      "\t\t\t\tRecoilm_zoom4 : <class 'hist.hist.Hist'>\tIntegral:41652.0\n",
      "\t\t\t\tRecoilm_zoom5 : <class 'hist.hist.Hist'>\tIntegral:41652.0\n",
      "\t\t\t\tRecoilm_zoom6 : <class 'hist.hist.Hist'>\tIntegral:3060.0\n",
      "\t\t\t\t}\n",
      "\t\t\t}\n",
      "\t\tcutflow : {\n",
      "\t\t\tsel0 : <class 'coffea.analysis_tools.Cutflow'>\tInitial events:2000000\n",
      "\t\t\tsel1 : <class 'coffea.analysis_tools.Cutflow'>\tInitial events:2000000\n",
      "\t\t\t}\n",
      "\t\t}\n",
      "\t}\n",
      "\n"
     ]
    }
   ],
   "source": [
    "#input_path = \"outputs/FCCee/higgs/mH-recoil/mumu/\"\n",
    "input_path = \"Batch/\" #By default Batch outputs are saved here\n",
    "base_filename = \"mHrecoil_mumu.coffea\"\n",
    "print(f'Current configuration:\\n\\tinput_path:\\t{input_path}\\n\\tbase_filename:\\t{base_filename}\\n')\n",
    "print(\"Loading coffea files...\")\n",
    "\n",
    "#Find coffea files\n",
    "coffea_files = glob.glob(input_path+'*.coffea')\n",
    "print('Detected coffea files:')\n",
    "for file in coffea_files : print('\\t'+file)\n",
    "\n",
    "print(f'Choosing:\\n\\t{base_filename}')\n",
    "\n",
    "#Find chunked coffea files\n",
    "chunked_coffea_files = glob.glob(input_path+base_filename.strip('.coffea')+'-chunk*.coffea')\n",
    "\n",
    "if len(chunked_coffea_files) != 0 :\n",
    "    print('Joining chunks:')\n",
    "    chunk_index_list = []\n",
    "    chunk_list = []\n",
    "    for file in chunked_coffea_files:\n",
    "        print('\\t'+file)\n",
    "        chunk_list.append(file)\n",
    "        chunk_index_list.append(int(re.search('-chunk(.*).coffea',file).group(1)))\n",
    "    chunk_index_list.sort()\n",
    "    \n",
    "    #Check if there are missing chunks\n",
    "    full_set = set(range(len(chunk_index_list)))\n",
    "    lst_set = set(chunk_index_list)\n",
    "    missing = list(full_set - lst_set)\n",
    "    if len(missing) != 0:\n",
    "        raise FileNotFoundError(f'Missing chunk indexes : {missing}')\n",
    "    \n",
    "    #Load and accumulate all the chunks\n",
    "    input_list = [load(file) for file in chunk_list]\n",
    "    #print(lazy_summary(input_list[0]),lazy_summary(input_list[1]))\n",
    "    input = accumulate(input_list)\n",
    "else : \n",
    "    input = load(input_path+base_filename)\n",
    "print(lazy_summary(input))"
   ]
  },
  {
   "cell_type": "code",
   "execution_count": 70,
   "id": "45dcf801-98cd-423b-b440-8319d94aac3e",
   "metadata": {},
   "outputs": [],
   "source": [
    "a = {'papa':{'papa1':1,'papa2':3},'mama':{'mama1':2,'mama2':0} }"
   ]
  },
  {
   "cell_type": "code",
   "execution_count": 71,
   "id": "1c130fcc-09b8-407f-bef0-3baa4d3ff95a",
   "metadata": {},
   "outputs": [
    {
     "data": {
      "text/plain": [
       "{'papa': {'papa1': 1, 'papa2': 3}, 'mama': {'mama1': 2, 'mama2': 0}}"
      ]
     },
     "execution_count": 71,
     "metadata": {},
     "output_type": "execute_result"
    }
   ],
   "source": [
    "a"
   ]
  },
  {
   "cell_type": "code",
   "execution_count": 72,
   "id": "1f4b0bc5-bac6-42c2-b7ac-68c60dbbc93d",
   "metadata": {},
   "outputs": [],
   "source": [
    "b = {'mama':{'mama1':2,'mama2':0} }"
   ]
  },
  {
   "cell_type": "code",
   "execution_count": 73,
   "id": "d7fe6d39-e91f-4f49-acb4-eeafd0e4fa13",
   "metadata": {},
   "outputs": [
    {
     "data": {
      "text/plain": [
       "{'mama': {'mama1': 2, 'mama2': 0}}"
      ]
     },
     "execution_count": 73,
     "metadata": {},
     "output_type": "execute_result"
    }
   ],
   "source": [
    "b"
   ]
  },
  {
   "cell_type": "code",
   "execution_count": 99,
   "id": "d39cc24b-183e-4bee-afb2-23325e0dd864",
   "metadata": {},
   "outputs": [],
   "source": [
    "\n",
    "def accumulate2(dicts):\n",
    "    out = {}\n",
    "    for d in dicts:\n",
    "        for key,value in d.items():\n",
    "            if isinstance(value,dict):\n",
    "                value = accumulate2(get_subdict(dicts,key))\n",
    "                out[key] = value\n",
    "            else:\n",
    "                if key in out.keys():\n",
    "                    out[key] += value\n",
    "                else:\n",
    "                    out[key] = value\n",
    "    return out"
   ]
  },
  {
   "cell_type": "code",
   "execution_count": 100,
   "id": "55a40d72-dcd2-460d-ae2d-3bceea8dc9d8",
   "metadata": {},
   "outputs": [],
   "source": [
    "i = {'a':1,'b':2}\n",
    "j = {'b':1,'c':2}"
   ]
  },
  {
   "cell_type": "code",
   "execution_count": 101,
   "id": "78ee915d-77ff-4da6-b7d2-39e476c0487b",
   "metadata": {},
   "outputs": [
    {
     "data": {
      "text/plain": [
       "{'a': 1, 'b': 3, 'c': 2}"
      ]
     },
     "execution_count": 101,
     "metadata": {},
     "output_type": "execute_result"
    }
   ],
   "source": [
    "accumulate2([i,j])"
   ]
  },
  {
   "cell_type": "code",
   "execution_count": 102,
   "id": "3a42de82-eec0-47c7-adc3-2fd18a12f66d",
   "metadata": {},
   "outputs": [],
   "source": [
    "k = {'a':{'alpha':0.8,'color':'b'},'b':2}"
   ]
  },
  {
   "cell_type": "code",
   "execution_count": 103,
   "id": "6ff2a2f8-2023-4318-a219-4a6095c841d3",
   "metadata": {},
   "outputs": [],
   "source": [
    "a = {\n",
    "    'zz':{\n",
    "        'histograms':{\n",
    "            'sel0':{\n",
    "                'zm':1,\n",
    "                'recoil':2\n",
    "            },\n",
    "            'sel1':{\n",
    "                'zm':1,\n",
    "                'recoil':2\n",
    "            }\n",
    "        },\n",
    "        'cutflow':{\n",
    "            'sel0':'a',\n",
    "            'sel1':'b'\n",
    "        }\n",
    "    },\n",
    "    'zh':{\n",
    "        'histograms':{\n",
    "            'sel0':{\n",
    "                'zm':1,\n",
    "                'recoil':2\n",
    "            },\n",
    "            'sel1':{\n",
    "                'zm':1,\n",
    "                'recoil':2\n",
    "            }\n",
    "        },\n",
    "        'cutflow':{\n",
    "            'sel0':'a',\n",
    "            'sel1':'b'\n",
    "        }\n",
    "    }\n",
    "}\n",
    "b = {\n",
    "    'zz':{\n",
    "        'histograms':{\n",
    "            'sel0':{\n",
    "                'zm':1,\n",
    "                'recoil':2\n",
    "            },\n",
    "            'sel1':{\n",
    "                'zm':1,\n",
    "                'recoil':2\n",
    "            }\n",
    "        },\n",
    "        'cutflow':{\n",
    "            'sel0':'a',\n",
    "            'sel1':'b'\n",
    "        }\n",
    "    }\n",
    "}"
   ]
  },
  {
   "cell_type": "code",
   "execution_count": 104,
   "id": "035656d5-336c-4540-8d5c-66ceb781a7c9",
   "metadata": {},
   "outputs": [
    {
     "data": {
      "text/plain": [
       "[{'histograms': {'sel0': {'zm': 1, 'recoil': 2},\n",
       "   'sel1': {'zm': 1, 'recoil': 2}},\n",
       "  'cutflow': {'sel0': 'a', 'sel1': 'b'}}]"
      ]
     },
     "execution_count": 104,
     "metadata": {},
     "output_type": "execute_result"
    }
   ],
   "source": [
    "get_subdict([a,b],'zh')"
   ]
  },
  {
   "cell_type": "code",
   "execution_count": 106,
   "id": "6ed40319-d12a-4db3-8ff0-a75004e811f9",
   "metadata": {},
   "outputs": [
    {
     "data": {
      "text/plain": [
       "{'zz': {'histograms': {'sel0': {'zm': 2, 'recoil': 4},\n",
       "   'sel1': {'zm': 2, 'recoil': 4}},\n",
       "  'cutflow': {'sel0': 'aa', 'sel1': 'bb'}},\n",
       " 'zh': {'histograms': {'sel0': {'zm': 1, 'recoil': 2},\n",
       "   'sel1': {'zm': 1, 'recoil': 2}},\n",
       "  'cutflow': {'sel0': 'a', 'sel1': 'b'}}}"
      ]
     },
     "execution_count": 106,
     "metadata": {},
     "output_type": "execute_result"
    }
   ],
   "source": [
    "accumulate2([a,b])"
   ]
  },
  {
   "cell_type": "code",
   "execution_count": null,
   "id": "5eac7d31-46b6-43c4-b142-26e642f6b5ab",
   "metadata": {},
   "outputs": [],
   "source": []
  }
 ],
 "metadata": {
  "kernelspec": {
   "display_name": "Python 3 (ipykernel)",
   "language": "python",
   "name": "python3"
  },
  "language_info": {
   "codemirror_mode": {
    "name": "ipython",
    "version": 3
   },
   "file_extension": ".py",
   "mimetype": "text/x-python",
   "name": "python",
   "nbconvert_exporter": "python",
   "pygments_lexer": "ipython3",
   "version": "3.12.3"
  }
 },
 "nbformat": 4,
 "nbformat_minor": 5
}
