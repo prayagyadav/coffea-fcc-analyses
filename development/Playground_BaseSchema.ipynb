{
 "cells": [
  {
   "cell_type": "code",
   "execution_count": 107,
   "id": "accfc2ed-5b18-42e7-8d98-a927ababce14",
   "metadata": {},
   "outputs": [],
   "source": [
    "from coffea.nanoevents import BaseSchema, NanoEventsFactory\n",
    "import dask_awkward as dak\n",
    "import awkward as ak\n",
    "import matplotlib.pyplot as plt\n",
    "import numpy as np\n",
    "import hist\n",
    "import mplhep as hep\n",
    "import numba\n",
    "import vector\n",
    "vector.register_awkward()"
   ]
  },
  {
   "cell_type": "code",
   "execution_count": 119,
   "id": "fd2f67cd-03ee-4957-87cb-c4938c332dc5",
   "metadata": {},
   "outputs": [],
   "source": [
    "events = NanoEventsFactory.from_root(\n",
    "    file=\"../data/p8_ee_ZH_ecm240/events_101027117.root:events\",\n",
    "    schemaclass=BaseSchema,\n",
    "    # schemaclass=DelphesSchema, Doesn't work \n",
    "    # schemaclass=NanoAODSchema.v7, Doesn't work\n",
    "    metadata={\n",
    "        \"path\":\"/eos/experiment/fcc/ee/generation/DelphesEvents/spring2021/IDEA/p8_ee_ZH_ecm240/events_101027117.root\",\n",
    "        \"name\":\"p8_ee_ZH_ecm240\",\n",
    "        \"process\":\"ZH to mumu, ecm=240 GeV\"\n",
    "    }\n",
    ").events()"
   ]
  },
  {
   "cell_type": "code",
   "execution_count": 120,
   "id": "4221ea78-38d1-4fd8-83c8-40801a0d5aae",
   "metadata": {},
   "outputs": [],
   "source": [
    "from coffea.analysis_tools import PackedSelection"
   ]
  },
  {
   "cell_type": "code",
   "execution_count": 121,
   "id": "2c95580e-e6df-4462-bb7a-6422b3c04f02",
   "metadata": {},
   "outputs": [],
   "source": [
    "def index_mask(input_array, index_array):\n",
    "    '''\n",
    "    This function matches the given attribute of ReconstructedParticles (for example energy) to the particle index (for example Muon or Electron)\n",
    "    '''\n",
    "    # input_array = input_array.compute()\n",
    "    # index_array = index_array.compute()\n",
    "    if len(input_array) != len(index_array) :\n",
    "        raise Exception(f'Length of input_array({len(input_array)}) and index_array({len(index_array)}) does not match!')\n",
    "    counts = len(index_array)\n",
    "    \n",
    "    @numba.jit\n",
    "    def numba_wrap(input_array, index_array, counts):\n",
    "        output_array = []\n",
    "        for event_index in range(counts):\n",
    "            event_mask = index_array[event_index]\n",
    "            reco_list = input_array[event_index]\n",
    "            output_array.append([reco_list[i] for i in  event_mask])\n",
    "        return output_array\n",
    "    out = ak.Array(numba_wrap(input_array,index_array,counts))\n",
    "    \n",
    "    return out"
   ]
  },
  {
   "cell_type": "code",
   "execution_count": 123,
   "id": "359d8558-2bb4-46f8-8a10-9e84a383961e",
   "metadata": {},
   "outputs": [],
   "source": [
    "cut = PackedSelection()\n",
    "\n",
    "# Filter out any event with no reconstructed particles\n",
    "Recon = events['ReconstructedParticles/ReconstructedParticles.energy'].compute()\n",
    "useful_events = events[ak.num(Recon) > 0]\n",
    "\n",
    "\n",
    "# Generate Reconstructed Particle Attributes\n",
    "Reco_E = useful_events['ReconstructedParticles/ReconstructedParticles.energy'].compute()\n",
    "Reco_px = useful_events['ReconstructedParticles/ReconstructedParticles.momentum.x'].compute()\n",
    "Reco_py = useful_events['ReconstructedParticles/ReconstructedParticles.momentum.y'].compute()\n",
    "Reco_pz = useful_events['ReconstructedParticles/ReconstructedParticles.momentum.z'].compute()\n",
    "Reco_q = useful_events['ReconstructedParticles/ReconstructedParticles.charge'].compute()\n",
    "Reco_mass = useful_events['ReconstructedParticles/ReconstructedParticles.mass'].compute()\n",
    "cut.add('At least one Reconstructed Particle', ak.all(Reco_E > 0, axis=1))#.compute())\n",
    "\n",
    "# Generate Muon Attributes\n",
    "Muon_index = useful_events['Muon#0/Muon#0.index'].compute()\n",
    "Muon_E = index_mask(Reco_E,Muon_index)\n",
    "Muon_px = index_mask(Reco_px,Muon_index)\n",
    "Muon_py = index_mask(Reco_py,Muon_index)\n",
    "Muon_pz = index_mask(Reco_pz,Muon_index)\n",
    "Muon_q = index_mask(Reco_q,Muon_index)\n",
    "Muon_mass = index_mask(Reco_mass,Muon_index)\n",
    "\n",
    "# Create Array of Muon Lorentz Vector \n",
    "Muon = ak.zip({\"px\":Muon_px,\"py\":Muon_py,\"pz\":Muon_pz,\"E\":Muon_E,\"q\":Muon_q,}, with_name=\"Momentum4D\")\n",
    "\n",
    "# Muon pt > 10\n",
    "Muon_pt_cut = ak.all(Muon.pt > 10, axis=1)\n",
    "Muon = Muon[Muon_pt_cut]\n",
    "cut.add('Muon $p_T$ > 10 [GeV]',Muon_pt_cut)"
   ]
  },
  {
   "cell_type": "code",
   "execution_count": 124,
   "id": "01c112a7-0325-4223-999a-936d00973aa0",
   "metadata": {},
   "outputs": [
    {
     "data": {
      "text/plain": [
       "['At least one Reconstructed Particle', 'Muon $p_T$ > 10 [GeV]']"
      ]
     },
     "execution_count": 124,
     "metadata": {},
     "output_type": "execute_result"
    }
   ],
   "source": [
    "cut.names"
   ]
  },
  {
   "cell_type": "code",
   "execution_count": 125,
   "id": "893286cd-5c56-48c1-9a9b-96d681bffa74",
   "metadata": {},
   "outputs": [
    {
     "name": "stdout",
     "output_type": "stream",
     "text": [
      "Cutflow stats:\n",
      "Cut At least one Reconstructed Particle:pass = 99984               cumulative pass = 99984               all = 99984               -- eff = 100.0 %                    -- cumulative eff = 100.0 %\n",
      "Cut Muon $p_T$ > 10 [GeV]:pass = 97219               cumulative pass = 97219               all = 99984               -- eff = 97.2 %                    -- cumulative eff = 97.2 %\n"
     ]
    }
   ],
   "source": [
    "cut.cutflow(*cut.names).print()"
   ]
  },
  {
   "cell_type": "code",
   "execution_count": null,
   "id": "ccf42d83-0f7c-4ec9-9f10-72db4bc7d6fc",
   "metadata": {},
   "outputs": [],
   "source": []
  }
 ],
 "metadata": {
  "kernelspec": {
   "display_name": "Python 3 (ipykernel)",
   "language": "python",
   "name": "python3"
  },
  "language_info": {
   "codemirror_mode": {
    "name": "ipython",
    "version": 3
   },
   "file_extension": ".py",
   "mimetype": "text/x-python",
   "name": "python",
   "nbconvert_exporter": "python",
   "pygments_lexer": "ipython3",
   "version": "3.12.3"
  }
 },
 "nbformat": 4,
 "nbformat_minor": 5
}
