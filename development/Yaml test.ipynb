{
 "cells": [
  {
   "cell_type": "code",
   "execution_count": 2,
   "id": "d85190dd-d1a0-439b-a452-0ba057d53446",
   "metadata": {},
   "outputs": [],
   "source": [
    "import json\n",
    "import yaml\n",
    "import os"
   ]
  },
  {
   "cell_type": "code",
   "execution_count": 11,
   "id": "afe9e20d-a31a-49f3-aa5d-0a97a912f67c",
   "metadata": {},
   "outputs": [],
   "source": [
    "process = {\n",
    "    'collider':'FCCee',\n",
    "    'campaign':'spring2021',\n",
    "    'detector':'IDEA',\n",
    "    'samples':['p8_ee_ZZ_ecm240']\n",
    "}"
   ]
  },
  {
   "cell_type": "code",
   "execution_count": 53,
   "id": "cb0389b0-8680-4465-a7c1-9f45ed2abd68",
   "metadata": {},
   "outputs": [],
   "source": [
    "# filesystem_path = './../filesets'\n",
    "filesystem_path = '/cvmfs'\n",
    "localsystem_path = './../filesets'\n",
    "path = '/'.join(\n",
    "    [\n",
    "     'FCCDicts',\n",
    "     'yaml',\n",
    "     process['collider'],\n",
    "     process['campaign'],\n",
    "     process['detector']\n",
    "    ])"
   ]
  },
  {
   "cell_type": "code",
   "execution_count": 54,
   "id": "3b5ae813-7e02-4bc7-a559-b2dd37dfc272",
   "metadata": {},
   "outputs": [
    {
     "data": {
      "text/plain": [
       "'FCCDicts/yaml/FCCee/spring2021/IDEA'"
      ]
     },
     "execution_count": 54,
     "metadata": {},
     "output_type": "execute_result"
    }
   ],
   "source": [
    "path"
   ]
  },
  {
   "cell_type": "code",
   "execution_count": 55,
   "id": "d3793d3a-c0e0-40e6-8573-512e2c7bb271",
   "metadata": {},
   "outputs": [
    {
     "data": {
      "text/plain": [
       "'p8_ee_ZZ_ecm240'"
      ]
     },
     "execution_count": 55,
     "metadata": {},
     "output_type": "execute_result"
    }
   ],
   "source": [
    "sample = process['samples'][0]\n",
    "sample"
   ]
  },
  {
   "cell_type": "code",
   "execution_count": 63,
   "id": "e7542ee9-3807-47f1-bc2d-92773f0879d7",
   "metadata": {},
   "outputs": [
    {
     "name": "stdout",
     "output_type": "stream",
     "text": [
      "/cvmfs is not available.\n",
      "Trying to find local copies of the yaml files ...\n",
      "Loaded : ./../filesets/FCCDicts/yaml/FCCee/spring2021/IDEA/p8_ee_ZZ_ecm240/merge.yaml\n"
     ]
    }
   ],
   "source": [
    "if os.path.exists(filesystem_path):\n",
    "    print(f'Connected to {filesystem_path}')\n",
    "else:\n",
    "    print(filesystem_path+' is not available.\\nTrying to find local copies of the yaml files ...')\n",
    "    yaml_list = []\n",
    "    for sample in process['samples']:\n",
    "        full_path = '/'.join([localsystem_path,path,sample,'merge.yaml'])\n",
    "        try :\n",
    "            with open(full_path) as f:\n",
    "                dict = yaml.safe_load(f)\n",
    "            print('Loaded : '+full_path)\n",
    "            # print(dict)\n",
    "        except:\n",
    "            raise f'Could not connect to {filesystem_path} or find local yaml files.'\n",
    "        yaml_list.append(dict)"
   ]
  },
  {
   "cell_type": "code",
   "execution_count": null,
   "id": "c61cb6c7-a8a9-4575-ae9c-ce4469b24871",
   "metadata": {},
   "outputs": [],
   "source": []
  }
 ],
 "metadata": {
  "kernelspec": {
   "display_name": "Python 3 (ipykernel)",
   "language": "python",
   "name": "python3"
  },
  "language_info": {
   "codemirror_mode": {
    "name": "ipython",
    "version": 3
   },
   "file_extension": ".py",
   "mimetype": "text/x-python",
   "name": "python",
   "nbconvert_exporter": "python",
   "pygments_lexer": "ipython3",
   "version": "3.12.3"
  }
 },
 "nbformat": 4,
 "nbformat_minor": 5
}
