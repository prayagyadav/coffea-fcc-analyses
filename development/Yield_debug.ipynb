{
 "cells": [
  {
   "cell_type": "code",
   "execution_count": 1,
   "id": "d4d637fe-ef73-4bd7-bffc-0b5d956c032d",
   "metadata": {},
   "outputs": [],
   "source": [
    "from coffea import processor\n",
    "from coffea.analysis_tools import PackedSelection, Cutflow\n",
    "import awkward as ak\n",
    "import pandas as pd\n",
    "import dask_awkward as dak\n",
    "import hist.dask as hda\n",
    "from collections import namedtuple\n",
    "import hist\n",
    "import vector\n",
    "vector.register_awkward()"
   ]
  },
  {
   "cell_type": "code",
   "execution_count": 2,
   "id": "43725e04-72c7-4203-8265-30711eac3a30",
   "metadata": {},
   "outputs": [],
   "source": [
    "\n",
    "##########################\n",
    "# Define plot properties #\n",
    "##########################\n",
    "plot_props = pd.DataFrame({\n",
    "    'Zm':{'name':'Zm','title':'Z Candidate mass','xlabel':'$Z_{mass}$ [GeV]','ylabel':'Events','bins':100,'xmin':0,'xmax':250},\n",
    "    'Zm_zoom':{'name':'Zm_zoom','title':'Z Candidate mass','xlabel':'$Z_{mass}$ [GeV]','ylabel':'Events','bins':40,'xmin':80,'xmax':100},\n",
    "    'Recoilm':{'name':'Recoilm','title':'Leptonic Recoil mass','xlabel':'$Recoil_{mass}$ [GeV]','ylabel':'Events','bins':100,'xmin':0,'xmax':200},\n",
    "    'Recoilm_zoom':{'name':'Recoilm_zoom','title':'Leptonic Recoil mass','xlabel':'$Recoil_{mass}$ [GeV]','ylabel':'Events','bins':200,'xmin':80,'xmax':160},\n",
    "    'Recoilm_zoom1':{'name':'Recoilm_zoom1','title':'Leptonic Recoil mass','xlabel':'$Recoil_{mass}$ [GeV]','ylabel':'Events','bins':100,'xmin':120,'xmax':140},\n",
    "    'Recoilm_zoom2':{'name':'Recoilm_zoom2','title':'Leptonic Recoil mass','xlabel':'$Recoil_{mass}$ [GeV]','ylabel':'Events','bins':200,'xmin':120,'xmax':140},\n",
    "    'Recoilm_zoom3':{'name':'Recoilm_zoom3','title':'Leptonic Recoil mass','xlabel':'$Recoil_{mass}$ [GeV]','ylabel':'Events','bins':400,'xmin':120,'xmax':140},\n",
    "    'Recoilm_zoom4':{'name':'Recoilm_zoom4','title':'Leptonic Recoil mass','xlabel':'$Recoil_{mass}$ [GeV]','ylabel':'Events','bins':800,'xmin':120,'xmax':140},\n",
    "    'Recoilm_zoom5':{'name':'Recoilm_zoom5','title':'Leptonic Recoil mass','xlabel':'$Recoil_{mass}$ [GeV]','ylabel':'Events','bins':2000,'xmin':120,'xmax':140},\n",
    "    'Recoilm_zoom6':{'name':'Recoilm_zoom6','title':'Leptonic Recoil mass','xlabel':'$Recoil_{mass}$ [GeV]','ylabel':'Events','bins':100,'xmin':130.3,'xmax':140}\n",
    "})\n",
    "\n",
    "def get_1Dhist(name, var, flatten=False):\n",
    "    '''\n",
    "    name: eg. Zm\n",
    "    var: eg. variable containing array of mass of Z\n",
    "    flatten: If to flatten var before fill; True by default\n",
    "    Returns a histogram\n",
    "    '''\n",
    "    props = plot_props[name]\n",
    "    if flatten : var = dak.ravel(var) # Removes None values and all the nesting\n",
    "    var = var[~dak.is_none(var, axis=0)] # Remove None values only\n",
    "    return hda.Hist.new.Reg(props.bins, props.xmin, props.xmax).Double().fill(var)\n",
    "\n",
    "def get(events,collection,attribute,*cut):\n",
    "    '''\n",
    "    Get an attribute from a branch with or without a base cut.\n",
    "    '''\n",
    "    if len(cut) != 0:\n",
    "        return events[collection+'/'+collection+'.'+attribute][cut[0]]\n",
    "    return events[collection+'/'+collection+'.'+attribute]\n",
    "\n",
    "def get_all(events,Collection,*basecut):\n",
    "    '''\n",
    "    Collect all the attributes of a collection into a namedtuple named particle, with or without a base cut\n",
    "    '''\n",
    "    prefix = '/'.join([Collection]*2)+'.'\n",
    "    list_of_attr = [field.replace(prefix,'') for field in events.fields if field.startswith(prefix)]\n",
    "    replace_list = ['.','[',']']\n",
    "    valid_attr = list_of_attr\n",
    "    for rep in replace_list:\n",
    "        valid_attr = [field.replace(rep, '_') for field in valid_attr ]\n",
    "    part = namedtuple('particle', valid_attr)\n",
    "    return part(*[get(events,Collection,attr,*basecut) for attr in list_of_attr])\n",
    "\n",
    "def get_reco(Reconstr_branch, needed_particle, events):\n",
    "    '''\n",
    "    Match the Reconstructed collection to the desired particle collection.\n",
    "    '''\n",
    "    part = namedtuple('particle', list(Reconstr_branch._fields))\n",
    "    return part(*[getattr(Reconstr_branch,attr)[get(events,needed_particle,'index')] for attr in Reconstr_branch._fields])\n",
    "\n",
    "def Reso_builder(lepton, resonance):\n",
    "    '''\n",
    "    Builds Resonance candidates\n",
    "    Input:    lepton(var*[var*LorentzVector]),\n",
    "              resonance(float)\n",
    "    Output: Reso([var*LorentzVecctor]) best resonance candidate in each event (maximum one per event)\n",
    "    '''\n",
    "    #Create all the combinations\n",
    "    combs = dak.combinations(lepton,2)\n",
    "    # Get dileptons\n",
    "    lep1 , lep2 = dak.unzip(combs)\n",
    "    di_lep = lep1 + lep2 # This process drops any other field except 4 momentum fields\n",
    "\n",
    "    di_lep = ak.zip({\"px\":di_lep.px,\"py\":di_lep.py,\"pz\":di_lep.pz,\"E\":di_lep.E,\"q\":lep1.q + lep2.q,}, with_name=\"Momentum4D\")\n",
    "    \n",
    "    # Sort by closest mass to the resonance value\n",
    "    sort_mask = dak.argsort(abs(resonance-abs(di_lep.mass)), axis=1)\n",
    "    Reso = di_lep[sort_mask]\n",
    "\n",
    "    #Choose the best candidate\n",
    "    Reso = dak.fill_none(Reso,[],axis=0) #Transform the None values at axis 0 to [], so that they survive the next operation\n",
    "    Reso = dak.firsts(Reso) #Chooses the first elements and flattens out, [] gets converted to None\n",
    "\n",
    "    return Reso"
   ]
  },
  {
   "cell_type": "code",
   "execution_count": 31,
   "id": "1e957bc1-3334-4352-8b3e-0b6f8b08b5ac",
   "metadata": {},
   "outputs": [],
   "source": [
    "#################################\n",
    "#Begin the processor definition #\n",
    "#################################\n",
    "class mHrecoil(processor.ProcessorABC):\n",
    "    '''\n",
    "    mHrecoil example: e^+ + e^- rightarrow ZH rightarrow mu^+ mu^- + X(Recoil)\n",
    "    Note: Use only BaseSchema with this processor\n",
    "    '''\n",
    "    def __init__(self, ecm):\n",
    "        self.arg_ecm = ecm #\\sqrt(s) in GeV\n",
    "        self.arg_zmass = 91.0 #GeV\n",
    "        \n",
    "    def process(self,events):\n",
    "\n",
    "        #Create a Packed Selection object to get a cutflow later\n",
    "        cut = PackedSelection()\n",
    "        cut.add('No cut', dak.ones_like(dak.num(get(events,'ReconstructedParticles','energy'),axis=1),dtype=bool))\n",
    "        \n",
    "        # Filter out any event with no reconstructed particles and generate Reconstructed Particle Attributes\n",
    "        #ak.mask preserves array length\n",
    "        at_least_one_recon = dak.num(get(events,'ReconstructedParticles','energy'), axis=1) > 0\n",
    "        good_events = dak.mask(events,at_least_one_recon)\n",
    "        cut.add('At least one Reco Particle', at_least_one_recon)\n",
    "        \n",
    "        Reco = get_all(good_events,'ReconstructedParticles')\n",
    "        Muons = get_reco(Reco,'Muon#0',good_events)\n",
    "        \n",
    "        # Create Array of Muon Lorentz Vector\n",
    "        Muon = ak.zip({\"px\":Muons.momentum_x,\"py\":Muons.momentum_y,\"pz\":Muons.momentum_z,\"E\":Muons.energy,\"q\":Muons.charge,}, with_name=\"Momentum4D\")\n",
    "\n",
    "        # Get Muons with a pt cut , if none of the muons in an event pass the cut, return none, ensuring the size of the cutflow\n",
    "        pt_mask = dak.any(Muon.pt > 10, axis = 1)\n",
    "        temp = dak.mask(Muon, pt_mask)\n",
    "        Muon = Muon[temp.pt > 10]\n",
    "        cut.add('At least one Muon pt > 10', pt_mask)\n",
    "\n",
    "        # Get best Resonance around Z mass in an event\n",
    "        Z_cand = Reso_builder(Muon, self.arg_zmass) \n",
    "\n",
    "        # Selection 0 : Z q=0 candidate\n",
    "        q_mask = Z_cand.q == 0\n",
    "        Z_cand_sel0 = dak.mask(Z_cand, q_mask)\n",
    "        cut.add(\"Z_q = 0\", q_mask)\n",
    "        sel0_ocl = cut.cutflow(*cut.names).yieldhist()\n",
    "        \n",
    "        # Selection 1 : 80 < M_Z < 100\n",
    "        Z_mass_mask = (Z_cand.mass > 80.0) & (Z_cand.mass < 100.0)\n",
    "        Z_cand_sel1 = ak.mask(Z_cand, Z_mass_mask)\n",
    "        cut.add('80 < $M_Z$ < 100',Z_mass_mask)\n",
    "        sel = [*cut.names]\n",
    "        sel.remove(sel[-2])\n",
    "        sel1_ocl = cut.cutflow(*sel).yieldhist()\n",
    "        \n",
    "        #Recoil Calculation\n",
    "        Recoil_sel0 = ak.zip({\"px\":0.0-Z_cand_sel0.px,\"py\":0.0-Z_cand_sel0.py,\"pz\":0.0-Z_cand_sel0.pz,\"E\":self.arg_ecm-Z_cand_sel0.E},with_name=\"Momentum4D\")\n",
    "        Recoil_sel1 = ak.zip({\"px\":0.0-Z_cand_sel1.px,\"py\":0.0-Z_cand_sel1.py,\"pz\":0.0-Z_cand_sel1.pz,\"E\":self.arg_ecm-Z_cand_sel1.E},with_name=\"Momentum4D\")\n",
    "        #Bug: Recoil computed this way are forced to have integer values, idk why\n",
    "        \n",
    "        #Prepare output\n",
    "        #Choose the required histograms and their assigned variables to fill\n",
    "        names = plot_props.columns.to_list()\n",
    "        vars_sel0 = ([abs(Z_cand_sel0.mass)]*2) + ([abs(Recoil_sel0.mass)]*8)\n",
    "        vars_sel1 = ([abs(Z_cand_sel1.mass)]*2) + ([abs(Recoil_sel1.mass)]*8)\n",
    "        Output = {\n",
    "            'histograms': {\n",
    "                'sel0':{name:get_1Dhist(name,var) for name,var in zip(names,vars_sel0)},\n",
    "                'sel1':{name:get_1Dhist(name,var) for name,var in zip(names,vars_sel1)}\n",
    "            },\n",
    "            'cutflow': {\n",
    "                'sel0': {'Onecut':sel0_ocl[0],'Cutflow':sel0_ocl[1],'Labels':sel0_ocl[2]},\n",
    "                'sel1': {'Onecut':sel1_ocl[0],'Cutflow':sel1_ocl[1],'Labels':sel1_ocl[2]}\n",
    "            }\n",
    "        }\n",
    "        return Output\n",
    "\n",
    "    def postprocess(self, accumulator):\n",
    "        pass\n"
   ]
  },
  {
   "cell_type": "code",
   "execution_count": 32,
   "id": "044fc0a7-4f70-43af-9585-7bf6c1d9cebf",
   "metadata": {},
   "outputs": [],
   "source": [
    "from coffea.nanoevents import NanoEventsFactory, BaseSchema\n",
    "import dask\n",
    "events,report = NanoEventsFactory.from_root(\n",
    "    '../data/p8_ee_ZH_ecm240/events_082532938.root:events',\n",
    "    schemaclass=BaseSchema,\n",
    "    metadata={'dataset':'ZH'},\n",
    "    uproot_options={\"allow_read_errors_with_report\": True}\n",
    ").events()"
   ]
  },
  {
   "cell_type": "code",
   "execution_count": 33,
   "id": "c3a0bc13-25c9-4a11-aaf2-4cf68fb7b0da",
   "metadata": {},
   "outputs": [],
   "source": [
    "p = mHrecoil(ecm=240.0)\n",
    "out = p.process(events)\n",
    "(computed,) = dask.compute(out)"
   ]
  },
  {
   "cell_type": "code",
   "execution_count": 34,
   "id": "9eecdca5-e69e-439e-aebc-4631f5e8d24e",
   "metadata": {},
   "outputs": [
    {
     "data": {
      "text/plain": [
       "{'histograms': {'sel0': {'Zm': Hist(Regular(100, 0, 250, label='Axis 0'), storage=Double()) # Sum: 2870.0,\n",
       "   'Zm_zoom': Hist(Regular(40, 80, 100, label='Axis 0'), storage=Double()) # Sum: 2381.0 (2870.0 with flow),\n",
       "   'Recoilm': Hist(Regular(100, 0, 200, label='Axis 0'), storage=Double()) # Sum: 2846.0 (2870.0 with flow),\n",
       "   'Recoilm_zoom': Hist(Regular(200, 80, 160, label='Axis 0'), storage=Double()) # Sum: 2675.0 (2870.0 with flow),\n",
       "   'Recoilm_zoom1': Hist(Regular(100, 120, 140, label='Axis 0'), storage=Double()) # Sum: 2399.0 (2870.0 with flow),\n",
       "   'Recoilm_zoom2': Hist(Regular(200, 120, 140, label='Axis 0'), storage=Double()) # Sum: 2399.0 (2870.0 with flow),\n",
       "   'Recoilm_zoom3': Hist(Regular(400, 120, 140, label='Axis 0'), storage=Double()) # Sum: 2399.0 (2870.0 with flow),\n",
       "   'Recoilm_zoom4': Hist(Regular(800, 120, 140, label='Axis 0'), storage=Double()) # Sum: 2399.0 (2870.0 with flow),\n",
       "   'Recoilm_zoom5': Hist(Regular(2000, 120, 140, label='Axis 0'), storage=Double()) # Sum: 2399.0 (2870.0 with flow),\n",
       "   'Recoilm_zoom6': Hist(Regular(100, 130.3, 140, label='Axis 0'), storage=Double()) # Sum: 520.0 (2870.0 with flow)},\n",
       "  'sel1': {'Zm': Hist(Regular(100, 0, 250, label='Axis 0'), storage=Double()) # Sum: 2391.0,\n",
       "   'Zm_zoom': Hist(Regular(40, 80, 100, label='Axis 0'), storage=Double()) # Sum: 2391.0,\n",
       "   'Recoilm': Hist(Regular(100, 0, 200, label='Axis 0'), storage=Double()) # Sum: 2391.0,\n",
       "   'Recoilm_zoom': Hist(Regular(200, 80, 160, label='Axis 0'), storage=Double()) # Sum: 2391.0,\n",
       "   'Recoilm_zoom1': Hist(Regular(100, 120, 140, label='Axis 0'), storage=Double()) # Sum: 2231.0 (2391.0 with flow),\n",
       "   'Recoilm_zoom2': Hist(Regular(200, 120, 140, label='Axis 0'), storage=Double()) # Sum: 2231.0 (2391.0 with flow),\n",
       "   'Recoilm_zoom3': Hist(Regular(400, 120, 140, label='Axis 0'), storage=Double()) # Sum: 2231.0 (2391.0 with flow),\n",
       "   'Recoilm_zoom4': Hist(Regular(800, 120, 140, label='Axis 0'), storage=Double()) # Sum: 2231.0 (2391.0 with flow),\n",
       "   'Recoilm_zoom5': Hist(Regular(2000, 120, 140, label='Axis 0'), storage=Double()) # Sum: 2231.0 (2391.0 with flow),\n",
       "   'Recoilm_zoom6': Hist(Regular(100, 130.3, 140, label='Axis 0'), storage=Double()) # Sum: 466.0 (2391.0 with flow)}},\n",
       " 'cutflow': {'sel0': {'Onecut': Hist(Integer(0, 5, name='onecut'), storage=Double()) # Sum: 311531.0,\n",
       "   'Cutflow': Hist(Integer(0, 5, name='cutflow'), storage=Double()) # Sum: 311531.0,\n",
       "   'Labels': ['initial',\n",
       "    'No cut',\n",
       "    'At least one Reco Particle',\n",
       "    'At least one Muon pt > 10',\n",
       "    'Z_q = 0']},\n",
       "  'sel1': {'Onecut': Hist(Integer(0, 5, name='onecut'), storage=Double()) # Sum: 311052.0,\n",
       "   'Cutflow': Hist(Integer(0, 5, name='cutflow'), storage=Double()) # Sum: 311052.0,\n",
       "   'Labels': ['initial',\n",
       "    'No cut',\n",
       "    'At least one Reco Particle',\n",
       "    'At least one Muon pt > 10',\n",
       "    '80 < $M_Z$ < 100']}}}"
      ]
     },
     "execution_count": 34,
     "metadata": {},
     "output_type": "execute_result"
    }
   ],
   "source": [
    "computed"
   ]
  },
  {
   "cell_type": "code",
   "execution_count": 7,
   "id": "a1c052bf-be32-48b7-af5c-4ce47acdeb3f",
   "metadata": {},
   "outputs": [],
   "source": [
    "Reco = get_all(events, \"ReconstructedParticles\")\n",
    "Muons = get_reco(Reco,'Muon#0',events)\n",
    "Muon = ak.zip({\"px\":Muons.momentum_x,\"py\":Muons.momentum_y,\"pz\":Muons.momentum_z,\"E\":Muons.energy,\"q\":Muons.charge,}, with_name=\"Momentum4D\")"
   ]
  },
  {
   "cell_type": "code",
   "execution_count": 8,
   "id": "37d5d123-47f6-4122-9b00-0ff50f6bbfd7",
   "metadata": {},
   "outputs": [
    {
     "data": {
      "text/html": [
       "<pre>[[],\n",
       " [],\n",
       " [],\n",
       " [61.1],\n",
       " [],\n",
       " [],\n",
       " [],\n",
       " [],\n",
       " [16],\n",
       " [],\n",
       " ...,\n",
       " [],\n",
       " [],\n",
       " [],\n",
       " [],\n",
       " [2.63],\n",
       " [],\n",
       " [],\n",
       " [],\n",
       " []]\n",
       "----------------------------\n",
       "type: 100000 * var * float32</pre>"
      ],
      "text/plain": [
       "<Array [[], [], [], [61.1], ..., [], [], [], []] type='100000 * var * float32'>"
      ]
     },
     "execution_count": 8,
     "metadata": {},
     "output_type": "execute_result"
    }
   ],
   "source": [
    "((Muon.px**2 + Muon.py**2)**0.5).compute()"
   ]
  },
  {
   "cell_type": "code",
   "execution_count": 9,
   "id": "cb141794-9dc5-47c4-9ca1-6c72b0597343",
   "metadata": {},
   "outputs": [
    {
     "data": {
      "text/html": [
       "<pre>[[],\n",
       " [],\n",
       " [],\n",
       " [61.1],\n",
       " [],\n",
       " [],\n",
       " [],\n",
       " [],\n",
       " [16],\n",
       " [],\n",
       " ...,\n",
       " [],\n",
       " [],\n",
       " [],\n",
       " [],\n",
       " [2.63],\n",
       " [],\n",
       " [],\n",
       " [],\n",
       " []]\n",
       "----------------------------\n",
       "type: 100000 * var * float32</pre>"
      ],
      "text/plain": [
       "<Array [[], [], [], [61.1], ..., [], [], [], []] type='100000 * var * float32'>"
      ]
     },
     "execution_count": 9,
     "metadata": {},
     "output_type": "execute_result"
    }
   ],
   "source": [
    "Muon.pt.compute()"
   ]
  },
  {
   "cell_type": "code",
   "execution_count": 11,
   "id": "2a04c7c8-01f0-4683-9e17-0d6fe7c3f556",
   "metadata": {},
   "outputs": [],
   "source": [
    "#Create all the combinations\n",
    "combs = dak.combinations(Muon,2)\n",
    "\n",
    "# Get diMuons\n",
    "Muon1 , Muon2 = dak.unzip(combs)\n",
    "di_Muon = Muon1 + Muon2\n",
    "\n",
    "# An event should have at least one dimuon pair composed of muons with opposite charges\n",
    "q_sum_mask = dak.any((Muon1.q + Muon2.q) == 0, axis=1)\n",
    "# An event should have at least one dimuon pair composed of muons with pt>10\n",
    "pt_mask = dak.any(Muon1.pt > 10, axis=1) & dak.any(Muon2.pt > 10, axis=1) #this means at least two muons with pt > 10\n",
    "\n",
    "di_Muon = dak.mask(di_Muon , q_sum_mask)\n",
    "di_Muon = dak.mask(di_Muon , pt_mask)\n",
    "\n",
    "# Sort by closest mass to the resonance value\n",
    "sort_mask = dak.argsort(abs(91.0-di_Muon.mass), axis=1)\n",
    "Reso = di_Muon[sort_mask]\n",
    "\n",
    "# Choose events with exactly one Z"
   ]
  },
  {
   "cell_type": "code",
   "execution_count": 12,
   "id": "7dd59814-cb55-447f-a0c6-b994ebd3be16",
   "metadata": {},
   "outputs": [],
   "source": [
    "def clean(arr):\n",
    "    '''\n",
    "    Remove none values from axis 0\n",
    "    '''\n",
    "    temp = dak.fill_none(arr,[],axis=0)\n",
    "    return temp[dak.num(temp, axis=1) > 0]"
   ]
  },
  {
   "cell_type": "code",
   "execution_count": 13,
   "id": "43dbdfcb-a5e4-4a95-8f83-b61cc53724ac",
   "metadata": {},
   "outputs": [
    {
     "data": {
      "text/html": [
       "<pre>[[85.4],\n",
       " [88.8],\n",
       " [86.6],\n",
       " [92.3],\n",
       " [95.7],\n",
       " [89],\n",
       " [43.2],\n",
       " [90.9],\n",
       " [74.8],\n",
       " [74.5],\n",
       " ...,\n",
       " [91.2],\n",
       " [91.7],\n",
       " [88.8],\n",
       " [92.1, 23.2, 11.1],\n",
       " [85.8],\n",
       " [88.3],\n",
       " [42.2],\n",
       " [87.4],\n",
       " [89.4]]\n",
       "--------------------------\n",
       "type: 2883 * var * float32</pre>"
      ],
      "text/plain": [
       "<Array [[85.4], [88.8], ..., [87.4], [89.4]] type='2883 * var * float32'>"
      ]
     },
     "execution_count": 13,
     "metadata": {},
     "output_type": "execute_result"
    }
   ],
   "source": [
    "clean(Reso).mass.compute()"
   ]
  },
  {
   "cell_type": "code",
   "execution_count": 14,
   "id": "09c299ee-7f5d-444d-835d-7f6f7d554612",
   "metadata": {},
   "outputs": [
    {
     "data": {
      "text/html": [
       "<pre>[85.4,\n",
       " 88.8,\n",
       " 86.6,\n",
       " 92.3,\n",
       " 95.7,\n",
       " 89,\n",
       " 43.2,\n",
       " 90.9,\n",
       " 74.8,\n",
       " 74.5,\n",
       " ...,\n",
       " 91.2,\n",
       " 91.7,\n",
       " 88.8,\n",
       " 92.1,\n",
       " 85.8,\n",
       " 88.3,\n",
       " 42.2,\n",
       " 87.4,\n",
       " 89.4]\n",
       "---------------------\n",
       "type: 2883 * ?float32</pre>"
      ],
      "text/plain": [
       "<Array [85.4, 88.8, 86.6, 92.3, ..., 42.2, 87.4, 89.4] type='2883 * ?float32'>"
      ]
     },
     "execution_count": 14,
     "metadata": {},
     "output_type": "execute_result"
    }
   ],
   "source": [
    "ak.firsts(clean(Reso)).mass.compute()"
   ]
  },
  {
   "cell_type": "code",
   "execution_count": 15,
   "id": "15ff25e0-ae83-42a5-895b-862947b1ce79",
   "metadata": {},
   "outputs": [
    {
     "data": {
      "text/html": [
       "<pre>[[85.4],\n",
       " [88.8],\n",
       " [86.6],\n",
       " [92.3],\n",
       " [95.7],\n",
       " [89],\n",
       " [43.2],\n",
       " [90.9],\n",
       " [74.8],\n",
       " [74.5],\n",
       " ...,\n",
       " [92.1],\n",
       " [91.2],\n",
       " [91.7],\n",
       " [88.8],\n",
       " [85.8],\n",
       " [88.3],\n",
       " [42.2],\n",
       " [87.4],\n",
       " [89.4]]\n",
       "--------------------------\n",
       "type: 2688 * var * float32</pre>"
      ],
      "text/plain": [
       "<Array [[85.4], [88.8], ..., [87.4], [89.4]] type='2688 * var * float32'>"
      ]
     },
     "execution_count": 15,
     "metadata": {},
     "output_type": "execute_result"
    }
   ],
   "source": [
    "one_Z = dak.num(Reso,axis=1) == 1\n",
    "Reson = dak.mask(Reso, one_Z)\n",
    "clean(Reson).mass.compute()"
   ]
  },
  {
   "cell_type": "code",
   "execution_count": 16,
   "id": "a3b7f286-bcad-4e26-89b0-90ef4d95d7e3",
   "metadata": {},
   "outputs": [
    {
     "data": {
      "text/plain": [
       "7.254464285714286"
      ]
     },
     "execution_count": 16,
     "metadata": {},
     "output_type": "execute_result"
    }
   ],
   "source": [
    "# Difference in a smaller dataset both in coffea\n",
    "(2883-2688)*100/2688"
   ]
  },
  {
   "cell_type": "code",
   "execution_count": 17,
   "id": "75c49b17-3562-45e3-9b0a-7f8f4a60351d",
   "metadata": {},
   "outputs": [
    {
     "data": {
      "text/plain": [
       "7.4904929062454295"
      ]
     },
     "execution_count": 17,
     "metadata": {},
     "output_type": "execute_result"
    }
   ],
   "source": [
    "# Difference in the bigger dataset between coffea and fcc-analyses\n",
    "(58793-54696)*100/54696"
   ]
  },
  {
   "cell_type": "code",
   "execution_count": 18,
   "id": "760be64f-c9ef-4f8b-81fc-dc1ab11a7cf7",
   "metadata": {},
   "outputs": [],
   "source": [
    "Reso_ = dak.fill_none(Reso,[],axis=0)\n",
    "r = dak.firsts(Reso_).mass"
   ]
  },
  {
   "cell_type": "code",
   "execution_count": 19,
   "id": "4b282da0-c2ce-457a-b773-d6f952a34f05",
   "metadata": {},
   "outputs": [
    {
     "data": {
      "text/html": [
       "<pre>[False,\n",
       " False,\n",
       " False,\n",
       " False,\n",
       " False,\n",
       " False,\n",
       " False,\n",
       " False,\n",
       " False,\n",
       " False,\n",
       " ...,\n",
       " False,\n",
       " False,\n",
       " False,\n",
       " False,\n",
       " False,\n",
       " False,\n",
       " False,\n",
       " False,\n",
       " False]\n",
       "-------------------\n",
       "type: 100000 * bool</pre>"
      ],
      "text/plain": [
       "<Array [False, False, False, ..., False, False, False] type='100000 * bool'>"
      ]
     },
     "execution_count": 19,
     "metadata": {},
     "output_type": "execute_result"
    }
   ],
   "source": [
    "~dak.is_none(r, axis=0).compute()"
   ]
  },
  {
   "cell_type": "code",
   "execution_count": 20,
   "id": "fba5321c-55e1-4b2b-a315-baacdabb31ba",
   "metadata": {},
   "outputs": [
    {
     "data": {
      "text/plain": [
       "dask.awkward<zip, npartitions=1>"
      ]
     },
     "execution_count": 20,
     "metadata": {},
     "output_type": "execute_result"
    }
   ],
   "source": [
    "Muon"
   ]
  },
  {
   "cell_type": "code",
   "execution_count": 25,
   "id": "a3b42b01-6f66-46a5-9a2a-30be12177b16",
   "metadata": {},
   "outputs": [],
   "source": [
    "# Get Muons with a cut , if none of them pass it in an event, return none\n",
    "temp = dak.mask(Muon, dak.any(Muon.pt > 10, axis = 1))\n",
    "Muon_ = Muon[temp.pt > 10]"
   ]
  },
  {
   "cell_type": "code",
   "execution_count": 26,
   "id": "7e6efcba-b5b1-491f-bd16-939293012833",
   "metadata": {},
   "outputs": [
    {
     "data": {
      "text/html": [
       "<pre>[None,\n",
       " None,\n",
       " None,\n",
       " [61.1],\n",
       " None,\n",
       " None,\n",
       " None,\n",
       " None,\n",
       " [16],\n",
       " None,\n",
       " ...,\n",
       " None,\n",
       " None,\n",
       " None,\n",
       " None,\n",
       " None,\n",
       " None,\n",
       " None,\n",
       " None,\n",
       " None]\n",
       "------------------------------------\n",
       "type: 100000 * option[var * float32]</pre>"
      ],
      "text/plain": [
       "<Array [None, None, None, ..., None, None] type='100000 * option[var * floa...'>"
      ]
     },
     "execution_count": 26,
     "metadata": {},
     "output_type": "execute_result"
    }
   ],
   "source": [
    "Muon_.pt.compute()"
   ]
  },
  {
   "cell_type": "code",
   "execution_count": 27,
   "id": "84b4d789-e561-4e40-921e-9c01799b0290",
   "metadata": {},
   "outputs": [
    {
     "data": {
      "text/html": [
       "<pre>[[56.6, 19.4],\n",
       " [54.9, 15],\n",
       " [10.7],\n",
       " [43.8],\n",
       " [51.6, 46.4],\n",
       " [64.2, 28.3],\n",
       " [57.5, 32.4],\n",
       " [25.2, 24.4],\n",
       " [24.1, 14.9],\n",
       " [27.2],\n",
       " ...,\n",
       " [56, 23.8],\n",
       " [38.8, 32.7],\n",
       " [59.3, 28.9],\n",
       " [30.3, 20.5],\n",
       " [61.7, 36.2],\n",
       " [46.3, 37.4],\n",
       " [38.9, 17.7],\n",
       " [60.1, 30.8],\n",
       " [53.4, 13]]\n",
       "----------------------------------\n",
       "type: 3352 * option[var * float32]</pre>"
      ],
      "text/plain": [
       "<Array [[56.6, 19.4], [...], ..., [53.4, 13]] type='3352 * option[var * flo...'>"
      ]
     },
     "execution_count": 27,
     "metadata": {},
     "output_type": "execute_result"
    }
   ],
   "source": [
    "Muon_[dak.num(Muon) > 1].pt.compute()"
   ]
  },
  {
   "cell_type": "code",
   "execution_count": 20,
   "id": "f45e5020-4abe-40e4-a80b-131a60d63657",
   "metadata": {},
   "outputs": [],
   "source": [
    "sel = ['a','b','c']\n",
    "sel.remove('c')"
   ]
  },
  {
   "cell_type": "code",
   "execution_count": 22,
   "id": "5037bdbe-eb99-4040-aa8b-1c3ecb1a1c85",
   "metadata": {},
   "outputs": [
    {
     "data": {
      "text/plain": [
       "'b'"
      ]
     },
     "execution_count": 22,
     "metadata": {},
     "output_type": "execute_result"
    }
   ],
   "source": [
    "sel[-1]"
   ]
  },
  {
   "cell_type": "code",
   "execution_count": null,
   "id": "1942eb89-e3e8-4f61-8007-6030721b2c82",
   "metadata": {},
   "outputs": [],
   "source": []
  }
 ],
 "metadata": {
  "kernelspec": {
   "display_name": "Python 3 (ipykernel)",
   "language": "python",
   "name": "python3"
  },
  "language_info": {
   "codemirror_mode": {
    "name": "ipython",
    "version": 3
   },
   "file_extension": ".py",
   "mimetype": "text/x-python",
   "name": "python",
   "nbconvert_exporter": "python",
   "pygments_lexer": "ipython3",
   "version": "3.12.4"
  }
 },
 "nbformat": 4,
 "nbformat_minor": 5
}
